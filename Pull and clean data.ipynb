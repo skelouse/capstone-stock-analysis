{
 "cells": [
  {
   "cell_type": "markdown",
   "metadata": {
    "toc": true
   },
   "source": [
    "<h1>Table of Contents<span class=\"tocSkip\"></span></h1>\n",
    "<div class=\"toc\"><ul class=\"toc-item\"><li><span><a href=\"#Scrubbing-Introduction\" data-toc-modified-id=\"Scrubbing-Introduction-1\"><span class=\"toc-item-num\">1&nbsp;&nbsp;</span>Scrubbing Introduction</a></span><ul class=\"toc-item\"><li><span><a href=\"#Process-Description\" data-toc-modified-id=\"Process-Description-1.1\"><span class=\"toc-item-num\">1.1&nbsp;&nbsp;</span>Process Description</a></span></li><li><span><a href=\"#Style\" data-toc-modified-id=\"Style-1.2\"><span class=\"toc-item-num\">1.2&nbsp;&nbsp;</span>Style</a></span></li><li><span><a href=\"#Imports-and-Data\" data-toc-modified-id=\"Imports-and-Data-1.3\"><span class=\"toc-item-num\">1.3&nbsp;&nbsp;</span>Imports and Data</a></span></li></ul></li><li><span><a href=\"#Prices\" data-toc-modified-id=\"Prices-2\"><span class=\"toc-item-num\">2&nbsp;&nbsp;</span>Prices</a></span><ul class=\"toc-item\"><li><span><a href=\"#Clean-for-indexing-performance\" data-toc-modified-id=\"Clean-for-indexing-performance-2.1\"><span class=\"toc-item-num\">2.1&nbsp;&nbsp;</span>Clean for indexing performance</a></span><ul class=\"toc-item\"><li><span><a href=\"#Reindex-and-interpolate-null-values\" data-toc-modified-id=\"Reindex-and-interpolate-null-values-2.1.1\"><span class=\"toc-item-num\">2.1.1&nbsp;&nbsp;</span>Reindex and interpolate null values</a></span></li></ul></li></ul></li><li><span><a href=\"#Splits\" data-toc-modified-id=\"Splits-3\"><span class=\"toc-item-num\">3&nbsp;&nbsp;</span>Splits</a></span></li><li><span><a href=\"#Performance\" data-toc-modified-id=\"Performance-4\"><span class=\"toc-item-num\">4&nbsp;&nbsp;</span>Performance</a></span><ul class=\"toc-item\"><li><span><a href=\"#Functions\" data-toc-modified-id=\"Functions-4.1\"><span class=\"toc-item-num\">4.1&nbsp;&nbsp;</span>Functions</a></span></li><li><span><a href=\"#Clean-for-new-sql\" data-toc-modified-id=\"Clean-for-new-sql-4.2\"><span class=\"toc-item-num\">4.2&nbsp;&nbsp;</span>Clean for new sql</a></span><ul class=\"toc-item\"><li><span><a href=\"#Analyze-null-values\" data-toc-modified-id=\"Analyze-null-values-4.2.1\"><span class=\"toc-item-num\">4.2.1&nbsp;&nbsp;</span>Analyze null values</a></span></li><li><span><a href=\"#More-cleaning\" data-toc-modified-id=\"More-cleaning-4.2.2\"><span class=\"toc-item-num\">4.2.2&nbsp;&nbsp;</span>More cleaning</a></span></li><li><span><a href=\"#Execute-col_to_fill\" data-toc-modified-id=\"Execute-col_to_fill-4.2.3\"><span class=\"toc-item-num\">4.2.3&nbsp;&nbsp;</span>Execute col_to_fill</a></span></li><li><span><a href=\"#Execute-col_to_fill_then_drop\" data-toc-modified-id=\"Execute-col_to_fill_then_drop-4.2.4\"><span class=\"toc-item-num\">4.2.4&nbsp;&nbsp;</span>Execute col_to_fill_then_drop</a></span></li><li><span><a href=\"#Add-price-to-performance\" data-toc-modified-id=\"Add-price-to-performance-4.2.5\"><span class=\"toc-item-num\">4.2.5&nbsp;&nbsp;</span>Add price to performance</a></span></li><li><span><a href=\"#Apply-Splits\" data-toc-modified-id=\"Apply-Splits-4.2.6\"><span class=\"toc-item-num\">4.2.6&nbsp;&nbsp;</span>Apply Splits</a></span></li><li><span><a href=\"#Separate-out-penny-stocks\" data-toc-modified-id=\"Separate-out-penny-stocks-4.2.7\"><span class=\"toc-item-num\">4.2.7&nbsp;&nbsp;</span>Separate out penny stocks</a></span></li><li><span><a href=\"#View-loss\" data-toc-modified-id=\"View-loss-4.2.8\"><span class=\"toc-item-num\">4.2.8&nbsp;&nbsp;</span>View loss</a></span></li></ul></li><li><span><a href=\"#Pickle\" data-toc-modified-id=\"Pickle-4.3\"><span class=\"toc-item-num\">4.3&nbsp;&nbsp;</span>Pickle</a></span></li><li><span><a href=\"#Post-to-sql\" data-toc-modified-id=\"Post-to-sql-4.4\"><span class=\"toc-item-num\">4.4&nbsp;&nbsp;</span>Post to sql</a></span></li></ul></li><li><span><a href=\"#Prices-2.0-with-splits\" data-toc-modified-id=\"Prices-2.0-with-splits-5\"><span class=\"toc-item-num\">5&nbsp;&nbsp;</span>Prices 2.0 with splits</a></span><ul class=\"toc-item\"><li><span><a href=\"#Post-to-sql\" data-toc-modified-id=\"Post-to-sql-5.1\"><span class=\"toc-item-num\">5.1&nbsp;&nbsp;</span>Post to sql</a></span></li><li><span><a href=\"#Pickle\" data-toc-modified-id=\"Pickle-5.2\"><span class=\"toc-item-num\">5.2&nbsp;&nbsp;</span>Pickle</a></span></li></ul></li><li><span><a href=\"#Company\" data-toc-modified-id=\"Company-6\"><span class=\"toc-item-num\">6&nbsp;&nbsp;</span>Company</a></span><ul class=\"toc-item\"><li><span><a href=\"#Clean-for-new-sql\" data-toc-modified-id=\"Clean-for-new-sql-6.1\"><span class=\"toc-item-num\">6.1&nbsp;&nbsp;</span>Clean for new sql</a></span></li></ul></li><li><span><a href=\"#Analyst\" data-toc-modified-id=\"Analyst-7\"><span class=\"toc-item-num\">7&nbsp;&nbsp;</span>Analyst</a></span><ul class=\"toc-item\"><li><span><a href=\"#Checking-for-null-values\" data-toc-modified-id=\"Checking-for-null-values-7.1\"><span class=\"toc-item-num\">7.1&nbsp;&nbsp;</span>Checking for null values</a></span></li><li><span><a href=\"#Filling-null-values\" data-toc-modified-id=\"Filling-null-values-7.2\"><span class=\"toc-item-num\">7.2&nbsp;&nbsp;</span>Filling null values</a></span></li><li><span><a href=\"#Convert-strings-to-float\" data-toc-modified-id=\"Convert-strings-to-float-7.3\"><span class=\"toc-item-num\">7.3&nbsp;&nbsp;</span>Convert strings to float</a></span></li><li><span><a href=\"#Add-to-sql-server\" data-toc-modified-id=\"Add-to-sql-server-7.4\"><span class=\"toc-item-num\">7.4&nbsp;&nbsp;</span>Add to sql server</a></span></li><li><span><a href=\"#Pickle\" data-toc-modified-id=\"Pickle-7.5\"><span class=\"toc-item-num\">7.5&nbsp;&nbsp;</span>Pickle</a></span></li></ul></li><li><span><a href=\"#Combine-company,-analyst-and-performance\" data-toc-modified-id=\"Combine-company,-analyst-and-performance-8\"><span class=\"toc-item-num\">8&nbsp;&nbsp;</span>Combine company, analyst and performance</a></span><ul class=\"toc-item\"><li><span><a href=\"#Performance\" data-toc-modified-id=\"Performance-8.1\"><span class=\"toc-item-num\">8.1&nbsp;&nbsp;</span>Performance</a></span></li><li><span><a href=\"#Penny\" data-toc-modified-id=\"Penny-8.2\"><span class=\"toc-item-num\">8.2&nbsp;&nbsp;</span>Penny</a></span></li><li><span><a href=\"#Write-pickles\" data-toc-modified-id=\"Write-pickles-8.3\"><span class=\"toc-item-num\">8.3&nbsp;&nbsp;</span>Write pickles</a></span></li></ul></li><li><span><a href=\"#Update-Firebase\" data-toc-modified-id=\"Update-Firebase-9\"><span class=\"toc-item-num\">9&nbsp;&nbsp;</span>Update Firebase</a></span></li><li><span><a href=\"#Post-to-firebase\" data-toc-modified-id=\"Post-to-firebase-10\"><span class=\"toc-item-num\">10&nbsp;&nbsp;</span>Post to firebase</a></span></li><li><span><a href=\"#Conclusion\" data-toc-modified-id=\"Conclusion-11\"><span class=\"toc-item-num\">11&nbsp;&nbsp;</span>Conclusion</a></span></li></ul></div>"
   ]
  },
  {
   "cell_type": "markdown",
   "metadata": {},
   "source": [
    "# Scrubbing Introduction"
   ]
  },
  {
   "cell_type": "markdown",
   "metadata": {},
   "source": [
    ">  **Show where this falls in the main notebooks**"
   ]
  },
  {
   "cell_type": "markdown",
   "metadata": {
    "ExecuteTime": {
     "end_time": "2020-12-10T01:56:03.688412Z",
     "start_time": "2020-12-10T01:56:03.667413Z"
    }
   },
   "source": [
    "## Process Description\n",
    "\n",
    "<br></br>\n",
    "\n",
    "<div class=\"alert alert-info shadow\">\n",
    "  <strong>Prices</strong>\n",
    "    <ul>\n",
    "        <li>Reindex to valid dates 2019-08-09 => onwards without the four days that have very little data '2019-12-09', '2020-06-23', '2020-06-24', '2020-06-25'</li>\n",
    "        <li>Forward interpolate the data with a limit of three days.  So if 6-25 was a valid price, and the four days after were null it would fill the first three, but not the third</li>\n",
    "        <li>Drop symbols with null values</li>\n",
    "        <li>Post to <code>stock_cleaned</code> SQL server</li>\n",
    "        <li>Pickle</li>\n",
    "    </ul>\n",
    "    <br></br>\n",
    "    <strong>Splits</strong>\n",
    "    <ul>\n",
    "        <li>Make an apply column which is `num`/`den`</li>\n",
    "    </ul>\n",
    "    <br></br>\n",
    "    <strong>Performance</strong>\n",
    "    <ul>\n",
    "        <li>Load in performance and clean</li>\n",
    "        <li>Drop symbols not in price symbols</li>\n",
    "        <li>Match index to price index</li>\n",
    "        <li>Fill null ExDividend dates with 1970-01-01 then encode days since then for numerical data</li>\n",
    "        <li>Decide columns to fill, and columns to fill then drop if the symbol still has null values</li>\n",
    "        <li>Interpolate null values for both, fill na for columns to fill</li>\n",
    "        <li>Drop columns with negative min that still have many null values</li>\n",
    "        <li>Drop symbols that still have null values in the columns with a negative minimum as filling with 0 not be adequate.</li>\n",
    "        <li>Add price to performance</li>\n",
    "        <li>Apply splits</li>\n",
    "        <li>Separate out penny stocks ( stocks where price is < 1 dollar )</li>\n",
    "        <li>Post to <code>stock_cleaned</code> SQL server</li>\n",
    "        <li>Pickle penny and non-penny performances</li>\n",
    "    </ul>\n",
    "    <br></br>\n",
    "    <strong>Company</strong>\n",
    "    <ul>\n",
    "        <li>Split out symbols that are in performance symbols</li>\n",
    "        <li>Fill null text values with `unknown`</li>\n",
    "        <li>Pickle.</li>\n",
    "    </ul>\n",
    "    <br></br>\n",
    "    <strong>Analyst</strong>\n",
    "    <ul>\n",
    "        <li>Front fill null values by symbol, then fill the rest with 0</li>\n",
    "        <li>Map text values to numeric</li>\n",
    "        <li>Convert all to float</li>\n",
    "        <li>Post to <code>stock_cleaned</code> SQL server</li>\n",
    "        <li>Pickle</li>\n",
    "    </ul>\n",
    "    <br></br>\n",
    "    <strong>Combined Company/Analyst/Performance</strong>\n",
    "    <ul>\n",
    "        <li>One hot encode Company</li>\n",
    "        <li>Combine the three dataframes into one</li>\n",
    "    </ul>\n",
    "    <p><b>After process is done update Firebase for website with performance and performance penny,  possibly company and analyst if added later</b></p>\n",
    "</div>"
   ]
  },
  {
   "cell_type": "markdown",
   "metadata": {},
   "source": [
    "## Style"
   ]
  },
  {
   "cell_type": "code",
   "execution_count": 1,
   "metadata": {
    "ExecuteTime": {
     "end_time": "2021-01-18T22:03:53.260253Z",
     "start_time": "2021-01-18T22:03:52.965256Z"
    }
   },
   "outputs": [
    {
     "data": {
      "text/html": [
       "<style>.shadowbox {\n",
       "    width: 40em;\n",
       "    border: 1px solid #333;\n",
       "    box-shadow: 8px 8px 5px #444;\n",
       "    padding: 8px 12px;\n",
       "    background-image: linear-gradient(180deg, black, rgb(107, 88, 88));\n",
       "    color: rgba(243, 218, 74, 0.801);\n",
       "    line-height: 25px;\n",
       "    position: static;\n",
       "}\n",
       "\n",
       "h1 {\n",
       "    width: 38em;\n",
       "    border: 1.5px solid #333;\n",
       "    /*box-shadow: 8px 8px 5px #444;*/\n",
       "    padding: 8px 12px;\n",
       "    background-image: linear-gradient(180deg, #fff, rgb(147, 156, 160));\n",
       "    position: static;\n",
       "}\n",
       "\n",
       "h2 {\n",
       "    width: 37em;\n",
       "    border: 1px solid #333;\n",
       "    /*box-shadow: 8px 8px 5px #444;*/\n",
       "    padding: 8px 12px;\n",
       "    background-image: linear-gradient(180deg, #fff, rgb(147, 156, 160));\n",
       "    position: relative;\n",
       "    right: -13px;\n",
       "}\n",
       "\n",
       "h3 {\n",
       "    width: 36em;\n",
       "    border: 0.5px solid #333;\n",
       "    /*box-shadow: 8px 8px 5px #444;*/\n",
       "    padding: 8px 12px;\n",
       "    background-image: linear-gradient(180deg, #fff, rgb(147, 156, 160));\n",
       "    position: relative;\n",
       "    right: -25px;\n",
       "}\n",
       "\n",
       ".shadow {\n",
       "    width: 45em;\n",
       "    box-shadow: 8px 8px 10px #444;\n",
       "    border: 1px solid silver;\n",
       "    margin-top: 2em;\n",
       "    position: relative;\n",
       "    top: -25px\n",
       "}\n",
       "\n",
       ".package_header {\n",
       "    width: 100%;\n",
       "    background-color: #0e2b59;\n",
       "    color: #ffffff;\n",
       "    font-size: 14px;\n",
       "    text-align: center;\n",
       "    padding-top: 8px;\n",
       "    padding-right: 8px;\n",
       "    padding-bottom: 8px;\n",
       "    padding-left: 8px;\n",
       "}\n",
       "\n",
       "blockquote {\n",
       "    border: 1px groove gray;\n",
       "    background-color: rgb(214, 218, 219);\n",
       "}\n",
       "\n",
       "</style>"
      ],
      "text/plain": [
       "<IPython.core.display.HTML object>"
      ]
     },
     "execution_count": 1,
     "metadata": {},
     "output_type": "execute_result"
    }
   ],
   "source": [
    "import warnings\n",
    "import matplotlib as mpl\n",
    "mpl.rcParams['axes.titlesize']='xx-large'\n",
    "mpl.rcParams['xtick.labelsize'] = 13\n",
    "mpl.rcParams['ytick.labelsize'] = 13\n",
    "mpl.rcParams['axes.labelsize'] = 16\n",
    "\n",
    "# Styling notebook\n",
    "from IPython.core.display import HTML\n",
    "def css_styling():\n",
    "    styles = open(\"./styles/custom.css\", \"r\").read()\n",
    "    return HTML(styles)\n",
    "css_styling()"
   ]
  },
  {
   "cell_type": "markdown",
   "metadata": {},
   "source": [
    "## Imports and Data"
   ]
  },
  {
   "cell_type": "code",
   "execution_count": 2,
   "metadata": {
    "ExecuteTime": {
     "end_time": "2021-01-18T22:03:58.638068Z",
     "start_time": "2021-01-18T22:03:53.261254Z"
    }
   },
   "outputs": [
    {
     "name": "stdout",
     "output_type": "stream",
     "text": [
      "For convinent loading 'from mlframe import MLFrame\n"
     ]
    },
    {
     "name": "stderr",
     "output_type": "stream",
     "text": [
      "C:\\Users\\12147\\anaconda3\\envs\\tf-gpu\\lib\\site-packages\\sklearn\\utils\\deprecation.py:143: FutureWarning: The sklearn.metrics.classification module is  deprecated in version 0.22 and will be removed in version 0.24. The corresponding classes / functions should instead be imported from sklearn.metrics. Anything that cannot be imported from sklearn.metrics is now part of the private API.\n",
      "  warnings.warn(message, FutureWarning)\n"
     ]
    }
   ],
   "source": [
    "USE_GPU = True\n",
    "IGNORE_WARN = True\n",
    "SEED = 42\n",
    "\n",
    "import os\n",
    "import sys\n",
    "import time\n",
    "import datetime\n",
    "import importlib\n",
    "import pandas as pd\n",
    "import matplotlib.pyplot as plt\n",
    "pd.set_option('display.float_format', lambda x: '%.3f' % x)\n",
    "\n",
    "# Imports for reproducability\n",
    "import numpy as np\n",
    "np.random.seed(SEED)\n",
    "\n",
    "import tensorflow as tf\n",
    "tf.random.set_seed(SEED)\n",
    "\n",
    "if 'mlframe' in sys.modules:\n",
    "    importlib.reload(sys.modules['mlframe'])\n",
    "    importlib.reload(sys.modules['db'])\n",
    "\n",
    "from db import DataBase\n",
    "from mlframe import MLFrame\n",
    "\n",
    "# Ignore warnings\n",
    "if IGNORE_WARN:\n",
    "    warnings.filterwarnings('ignore')"
   ]
  },
  {
   "cell_type": "code",
   "execution_count": 3,
   "metadata": {
    "ExecuteTime": {
     "end_time": "2021-01-18T22:07:12.606782Z",
     "start_time": "2021-01-18T22:03:58.639069Z"
    }
   },
   "outputs": [],
   "source": [
    "db = DataBase('stock', 14333, 'localhost')\n",
    "db.cur.execute(\n",
    "\"\"\"\n",
    "SHOW TABLES\n",
    "\"\"\")\n",
    "db_names = list(table[0] for table in db.cur.fetchall())\n",
    "db.pull_names_as_dataframes(db_names)\n",
    "db.conn.close()"
   ]
  },
  {
   "cell_type": "markdown",
   "metadata": {
    "ExecuteTime": {
     "end_time": "2020-11-28T09:40:27.024115Z",
     "start_time": "2020-11-28T09:40:27.009129Z"
    }
   },
   "source": [
    "# Prices\n",
    "> **Steps to take**\n",
    "> * Reindex to valid dates 2019-08-09 => onwards without a four days that have very little data '2019-12-09', '2020-06-23', '2020-06-24', '2020-06-25'.\n",
    "> * Forward interpolate the data with a limit of three days. So if 6-25 was a valid price, and the four days after were null it would fill the first three, but not the third.\n",
    "> * Drop symbols with null values.\n",
    "> * Post to `stock_cleaned` SQL server.\n",
    "> * Pickle.\n",
    "\n",
    "\n",
    "\n",
    "\n",
    "\n"
   ]
  },
  {
   "cell_type": "markdown",
   "metadata": {},
   "source": [
    "## Clean for indexing performance"
   ]
  },
  {
   "cell_type": "code",
   "execution_count": 4,
   "metadata": {
    "ExecuteTime": {
     "end_time": "2021-01-18T22:07:13.442786Z",
     "start_time": "2021-01-18T22:07:12.607783Z"
    }
   },
   "outputs": [
    {
     "name": "stdout",
     "output_type": "stream",
     "text": [
      "Null values = \n",
      " sym      0\n",
      "price    0\n",
      "dtype: int64\n",
      "\n",
      "\n",
      "Indexes\n"
     ]
    },
    {
     "data": {
      "text/html": [
       "<div>\n",
       "<style scoped>\n",
       "    .dataframe tbody tr th:only-of-type {\n",
       "        vertical-align: middle;\n",
       "    }\n",
       "\n",
       "    .dataframe tbody tr th {\n",
       "        vertical-align: top;\n",
       "    }\n",
       "\n",
       "    .dataframe thead th {\n",
       "        text-align: right;\n",
       "    }\n",
       "</style>\n",
       "<table border=\"1\" class=\"dataframe\">\n",
       "  <thead>\n",
       "    <tr style=\"text-align: right;\">\n",
       "      <th></th>\n",
       "      <th>date</th>\n",
       "      <th>sym</th>\n",
       "      <th>price</th>\n",
       "    </tr>\n",
       "  </thead>\n",
       "  <tbody>\n",
       "    <tr>\n",
       "      <th>0</th>\n",
       "      <td>2019-08-09</td>\n",
       "      <td>AAPL</td>\n",
       "      <td>200.940000</td>\n",
       "    </tr>\n",
       "  </tbody>\n",
       "</table>\n",
       "</div>"
      ],
      "text/plain": [
       "         date   sym       price\n",
       "0  2019-08-09  AAPL  200.940000"
      ]
     },
     "metadata": {},
     "output_type": "display_data"
    },
    {
     "data": {
      "text/html": [
       "<div>\n",
       "<style scoped>\n",
       "    .dataframe tbody tr th:only-of-type {\n",
       "        vertical-align: middle;\n",
       "    }\n",
       "\n",
       "    .dataframe tbody tr th {\n",
       "        vertical-align: top;\n",
       "    }\n",
       "\n",
       "    .dataframe thead th {\n",
       "        text-align: right;\n",
       "    }\n",
       "</style>\n",
       "<table border=\"1\" class=\"dataframe\">\n",
       "  <thead>\n",
       "    <tr style=\"text-align: right;\">\n",
       "      <th></th>\n",
       "      <th>date</th>\n",
       "      <th>sym</th>\n",
       "      <th>price</th>\n",
       "    </tr>\n",
       "  </thead>\n",
       "  <tbody>\n",
       "    <tr>\n",
       "      <th>371</th>\n",
       "      <td>2021-01-15</td>\n",
       "      <td>AAPL</td>\n",
       "      <td>127.140000</td>\n",
       "    </tr>\n",
       "  </tbody>\n",
       "</table>\n",
       "</div>"
      ],
      "text/plain": [
       "           date   sym       price\n",
       "371  2021-01-15  AAPL  127.140000"
      ]
     },
     "metadata": {},
     "output_type": "display_data"
    },
    {
     "name": "stdout",
     "output_type": "stream",
     "text": [
      "\n",
      "\n",
      " Head\n"
     ]
    },
    {
     "data": {
      "text/html": [
       "<div>\n",
       "<style scoped>\n",
       "    .dataframe tbody tr th:only-of-type {\n",
       "        vertical-align: middle;\n",
       "    }\n",
       "\n",
       "    .dataframe tbody tr th {\n",
       "        vertical-align: top;\n",
       "    }\n",
       "\n",
       "    .dataframe thead th {\n",
       "        text-align: right;\n",
       "    }\n",
       "</style>\n",
       "<table border=\"1\" class=\"dataframe\">\n",
       "  <thead>\n",
       "    <tr style=\"text-align: right;\">\n",
       "      <th></th>\n",
       "      <th>sym</th>\n",
       "      <th>price</th>\n",
       "    </tr>\n",
       "    <tr>\n",
       "      <th>date</th>\n",
       "      <th></th>\n",
       "      <th></th>\n",
       "    </tr>\n",
       "  </thead>\n",
       "  <tbody>\n",
       "    <tr>\n",
       "      <th>2019-06-08</th>\n",
       "      <td>A</td>\n",
       "      <td>69.520000</td>\n",
       "    </tr>\n",
       "    <tr>\n",
       "      <th>2019-06-17</th>\n",
       "      <td>A</td>\n",
       "      <td>70.290000</td>\n",
       "    </tr>\n",
       "    <tr>\n",
       "      <th>2019-06-19</th>\n",
       "      <td>A</td>\n",
       "      <td>71.910000</td>\n",
       "    </tr>\n",
       "    <tr>\n",
       "      <th>2019-06-20</th>\n",
       "      <td>A</td>\n",
       "      <td>73.320000</td>\n",
       "    </tr>\n",
       "    <tr>\n",
       "      <th>2019-06-21</th>\n",
       "      <td>A</td>\n",
       "      <td>73.340000</td>\n",
       "    </tr>\n",
       "  </tbody>\n",
       "</table>\n",
       "</div>"
      ],
      "text/plain": [
       "           sym      price\n",
       "date                     \n",
       "2019-06-08   A  69.520000\n",
       "2019-06-17   A  70.290000\n",
       "2019-06-19   A  71.910000\n",
       "2019-06-20   A  73.320000\n",
       "2019-06-21   A  73.340000"
      ]
     },
     "execution_count": 4,
     "metadata": {},
     "output_type": "execute_result"
    }
   ],
   "source": [
    "# Cleaning first blank row\n",
    "df_prices = db.frames['prices'].copy(deep=True).drop(0)\n",
    "\n",
    "# Resetting date index and dropping index\n",
    "df_prices.set_index('date', inplace=True, drop=True)\n",
    "\n",
    "print(\"Null values = \\n\", df_prices.isna().sum())\n",
    "print(\"\\n\\nIndexes\")\n",
    "query = df_prices.query(\"sym == 'AAPL'\")\n",
    "aapl_dis = query.loc[query.index > pd.to_datetime('2019-08-08')].reset_index()\n",
    "display(aapl_dis.head(1))\n",
    "display(aapl_dis.tail(1))\n",
    "print(\"\\n\\n Head\")\n",
    "df_prices.head()"
   ]
  },
  {
   "cell_type": "markdown",
   "metadata": {},
   "source": [
    "### Reindex and interpolate null values"
   ]
  },
  {
   "cell_type": "code",
   "execution_count": 5,
   "metadata": {
    "ExecuteTime": {
     "end_time": "2021-01-18T22:45:59.269060Z",
     "start_time": "2021-01-18T22:07:13.443784Z"
    }
   },
   "outputs": [
    {
     "name": "stdout",
     "output_type": "stream",
     "text": [
      "7791/7791 in  0.31s for ZYXI :: averaging 0.30s/sym......\r"
     ]
    },
    {
     "data": {
      "text/html": [
       "<div>\n",
       "<style scoped>\n",
       "    .dataframe tbody tr th:only-of-type {\n",
       "        vertical-align: middle;\n",
       "    }\n",
       "\n",
       "    .dataframe tbody tr th {\n",
       "        vertical-align: top;\n",
       "    }\n",
       "\n",
       "    .dataframe thead th {\n",
       "        text-align: right;\n",
       "    }\n",
       "</style>\n",
       "<table border=\"1\" class=\"dataframe\">\n",
       "  <thead>\n",
       "    <tr style=\"text-align: right;\">\n",
       "      <th></th>\n",
       "      <th>sym</th>\n",
       "      <th>price</th>\n",
       "    </tr>\n",
       "    <tr>\n",
       "      <th>date</th>\n",
       "      <th></th>\n",
       "      <th></th>\n",
       "    </tr>\n",
       "  </thead>\n",
       "  <tbody>\n",
       "    <tr>\n",
       "      <th>2019-08-09</th>\n",
       "      <td>A</td>\n",
       "      <td>68.640</td>\n",
       "    </tr>\n",
       "    <tr>\n",
       "      <th>2019-08-12</th>\n",
       "      <td>A</td>\n",
       "      <td>66.780</td>\n",
       "    </tr>\n",
       "    <tr>\n",
       "      <th>2019-08-13</th>\n",
       "      <td>A</td>\n",
       "      <td>67.640</td>\n",
       "    </tr>\n",
       "    <tr>\n",
       "      <th>2019-08-14</th>\n",
       "      <td>A</td>\n",
       "      <td>65.590</td>\n",
       "    </tr>\n",
       "    <tr>\n",
       "      <th>2019-08-15</th>\n",
       "      <td>A</td>\n",
       "      <td>69.590</td>\n",
       "    </tr>\n",
       "  </tbody>\n",
       "</table>\n",
       "</div>"
      ],
      "text/plain": [
       "           sym  price\n",
       "date                 \n",
       "2019-08-09   A 68.640\n",
       "2019-08-12   A 66.780\n",
       "2019-08-13   A 67.640\n",
       "2019-08-14   A 65.590\n",
       "2019-08-15   A 69.590"
      ]
     },
     "execution_count": 5,
     "metadata": {},
     "output_type": "execute_result"
    }
   ],
   "source": [
    "# Define a new index\n",
    "idx = pd.date_range(aapl_dis.head(1).date.values[0], aapl_dis.tail(1).date.values[0], freq='B')\n",
    "drop_index = pd.to_datetime(['2019-12-09', '2020-06-23', '2020-06-24', '2020-06-25'])\n",
    "idx = idx.drop(drop_index)\n",
    "\n",
    "# Define all the symbols\n",
    "all_symbols = df_prices['sym'].unique()\n",
    "\n",
    "# Instantiate empty arrays\n",
    "sym_dfs = []\n",
    "unfilled_syms = []\n",
    "sym_num = len(all_symbols)\n",
    "times = np.array([])\n",
    "\n",
    "def cust_interpolate_fill_na(sym):\n",
    "    \"\"\"Function for appending to sym df, \n",
    "    each of the interpolated symbol dataframes\"\"\"\n",
    "    df = pd.DataFrame(df_prices.query(f\"sym == '{sym}'\"), index=idx)\n",
    "    df['price'] = pd.to_numeric(df['price'], errors='coerce').interpolate(limit=3, limit_direction='forward')\n",
    "    df['sym'].fillna(sym, inplace=True)\n",
    "    if df.isna().sum().sum():\n",
    "        unfilled_syms.append(sym)\n",
    "    else:\n",
    "        sym_dfs.append(df)\n",
    "\n",
    "# Looping through all the symbols to interpolate each\n",
    "# Also timing each iteration\n",
    "for num, sym in enumerate(all_symbols):\n",
    "    start = time.time()\n",
    "    cust_interpolate_fill_na(sym)  # Timed function\n",
    "    end = time.time()\n",
    "    time_taken = end-start\n",
    "    times = np.append(times, time_taken)\n",
    "    print(f\"{num+1}/{sym_num} in {time_taken: .2f}s for {sym} :: averaging {times.mean():.2f}s/sym...\", end='\\r')\n",
    "\n",
    "df_prices = pd.concat(sym_dfs)\n",
    "df_prices.index = df_prices.index.strftime('%Y-%m-%d')\n",
    "df_prices.index.name = 'date'\n",
    "df_prices.head()"
   ]
  },
  {
   "cell_type": "code",
   "execution_count": 6,
   "metadata": {
    "ExecuteTime": {
     "end_time": "2021-01-18T22:45:59.455060Z",
     "start_time": "2021-01-18T22:45:59.271061Z"
    }
   },
   "outputs": [
    {
     "name": "stdout",
     "output_type": "stream",
     "text": [
      "Total stocks left =  5024\n",
      "NA values =  0\n"
     ]
    }
   ],
   "source": [
    "print(\"Total stocks left = \", df_prices['sym'].nunique())\n",
    "print(\"NA values = \", df_prices.isna().sum().sum())"
   ]
  },
  {
   "cell_type": "markdown",
   "metadata": {
    "ExecuteTime": {
     "end_time": "2020-11-28T09:40:27.056115Z",
     "start_time": "2020-11-28T09:40:27.041118Z"
    }
   },
   "source": [
    "# Splits"
   ]
  },
  {
   "cell_type": "code",
   "execution_count": 7,
   "metadata": {
    "ExecuteTime": {
     "end_time": "2021-01-18T22:45:59.486270Z",
     "start_time": "2021-01-18T22:45:59.456060Z"
    }
   },
   "outputs": [
    {
     "name": "stdout",
     "output_type": "stream",
     "text": [
      "Total splits = 400\n",
      "Total split p/stock = [3 3 2 2 2 2 2 2 2 2 2 2 2 2 2 2 2 2 2 2 1 1 1 1 1 1 1 1 1 1 1 1 1 1 1 1 1\n",
      " 1 1 1 1 1 1 1 1 1 1 1 1 1 1 1 1 1 1 1 1 1 1 1 1 1 1 1 1 1 1 1 1 1 1 1 1 1\n",
      " 1 1 1 1 1 1 1 1 1 1 1 1 1 1 1 1 1 1 1 1 1 1 1 1 1 1 1 1 1 1 1 1 1 1 1 1 1\n",
      " 1 1 1 1 1 1 1 1 1 1 1 1 1 1 1 1 1 1 1 1 1 1 1 1 1 1 1 1 1 1 1 1 1 1 1 1 1\n",
      " 1 1 1 1 1 1 1 1 1 1 1 1 1 1 1 1 1 1 1 1 1 1 1 1 1 1 1 1 1 1 1 1 1 1 1 1 1\n",
      " 1 1 1 1 1 1 1 1 1 1 1 1 1 1 1 1 1 1 1 1 1 1 1 1 1 1 1 1 1 1 1 1 1 1 1 1 1\n",
      " 1 1 1 1 1 1 1 1 1 1 1 1 1 1 1 1 1 1 1 1 1 1 1 1 1 1 1 1 1 1 1 1 1 1 1 1 1\n",
      " 1 1 1 1 1 1 1 1 1 1 1 1 1 1 1 1 1 1 1 1 1 1 1 1 1 1 1 1 1 1 1 1 1 1 1 1 1\n",
      " 1 1 1 1 1 1 1 1 1 1 1 1 1 1 1 1 1 1 1 1 1 1 1 1 1 1 1 1 1 1 1 1 1 1 1 1 1\n",
      " 1 1 1 1 1 1 1 1 1 1 1 1 1 1 1 1 1 1 1 1 1 1 1 1 1 1 1 1 1 1 1 1 1 1 1 1 1\n",
      " 1 1 1 1 1 1 1 1]\n"
     ]
    },
    {
     "data": {
      "text/html": [
       "<div>\n",
       "<style scoped>\n",
       "    .dataframe tbody tr th:only-of-type {\n",
       "        vertical-align: middle;\n",
       "    }\n",
       "\n",
       "    .dataframe tbody tr th {\n",
       "        vertical-align: top;\n",
       "    }\n",
       "\n",
       "    .dataframe thead th {\n",
       "        text-align: right;\n",
       "    }\n",
       "</style>\n",
       "<table border=\"1\" class=\"dataframe\">\n",
       "  <thead>\n",
       "    <tr style=\"text-align: right;\">\n",
       "      <th></th>\n",
       "      <th>sym</th>\n",
       "      <th>num</th>\n",
       "      <th>den</th>\n",
       "      <th>announce</th>\n",
       "      <th>record</th>\n",
       "      <th>execute</th>\n",
       "      <th>apply</th>\n",
       "    </tr>\n",
       "  </thead>\n",
       "  <tbody>\n",
       "    <tr>\n",
       "      <th>0</th>\n",
       "      <td>AAPL</td>\n",
       "      <td>4.000</td>\n",
       "      <td>1.000</td>\n",
       "      <td>2020-07-30</td>\n",
       "      <td>2020-08-24</td>\n",
       "      <td>2020-08-31</td>\n",
       "      <td>4.000</td>\n",
       "    </tr>\n",
       "    <tr>\n",
       "      <th>1</th>\n",
       "      <td>AC</td>\n",
       "      <td>1005.000</td>\n",
       "      <td>1000.000</td>\n",
       "      <td>2000-01-31</td>\n",
       "      <td>2000-01-31</td>\n",
       "      <td>2020-07-29</td>\n",
       "      <td>1.005</td>\n",
       "    </tr>\n",
       "    <tr>\n",
       "      <th>2</th>\n",
       "      <td>ACB</td>\n",
       "      <td>1.000</td>\n",
       "      <td>12.000</td>\n",
       "      <td>2019-01-01</td>\n",
       "      <td>2019-01-01</td>\n",
       "      <td>2020-05-11</td>\n",
       "      <td>0.083</td>\n",
       "    </tr>\n",
       "    <tr>\n",
       "      <th>3</th>\n",
       "      <td>ACET</td>\n",
       "      <td>1.000</td>\n",
       "      <td>7.000</td>\n",
       "      <td>2020-09-15</td>\n",
       "      <td>2020-09-16</td>\n",
       "      <td>2020-09-16</td>\n",
       "      <td>0.143</td>\n",
       "    </tr>\n",
       "    <tr>\n",
       "      <th>4</th>\n",
       "      <td>ACHV</td>\n",
       "      <td>1.000</td>\n",
       "      <td>20.000</td>\n",
       "      <td>2020-07-30</td>\n",
       "      <td>2020-07-31</td>\n",
       "      <td>2020-07-31</td>\n",
       "      <td>0.050</td>\n",
       "    </tr>\n",
       "  </tbody>\n",
       "</table>\n",
       "</div>"
      ],
      "text/plain": [
       "    sym      num      den    announce      record     execute  apply\n",
       "0  AAPL    4.000    1.000  2020-07-30  2020-08-24  2020-08-31  4.000\n",
       "1    AC 1005.000 1000.000  2000-01-31  2000-01-31  2020-07-29  1.005\n",
       "2   ACB    1.000   12.000  2019-01-01  2019-01-01  2020-05-11  0.083\n",
       "3  ACET    1.000    7.000  2020-09-15  2020-09-16  2020-09-16  0.143\n",
       "4  ACHV    1.000   20.000  2020-07-30  2020-07-31  2020-07-31  0.050"
      ]
     },
     "execution_count": 7,
     "metadata": {},
     "output_type": "execute_result"
    }
   ],
   "source": [
    "# Load in from database frame\n",
    "df_splits = db.frames['splits']\n",
    "\n",
    "# Clear dates older than beginning index of prices\n",
    "df_splits = df_splits[df_splits['execute'] > pd.to_datetime('2019-08-08')]\n",
    "\n",
    "# Get num/den as floats to make an apply column which will be used\n",
    "# when applying the actual split\n",
    "df_splits['num'] = df_splits['num'].astype('float32')\n",
    "df_splits['den'] = df_splits['den'].astype('float32')\n",
    "df_splits['apply'] = df_splits['num'] / df_splits['den']\n",
    "\n",
    "# Display\n",
    "print(\"Total splits =\", len(df_splits))\n",
    "print(\"Total split p/stock =\", df_splits['sym'].value_counts().values)\n",
    "df_splits.head()"
   ]
  },
  {
   "cell_type": "markdown",
   "metadata": {
    "ExecuteTime": {
     "end_time": "2020-11-28T09:40:27.040118Z",
     "start_time": "2020-11-28T09:40:27.025116Z"
    }
   },
   "source": [
    "# Performance\n",
    "> **Steps to take**\n",
    "> * Load in performance and clean\n",
    "> * Drop symbols not in price symbols\n",
    "> * Match index to price index\n",
    "> * Fill null ExDividend dates with 1970-01-01 then encode days since then for numerical data\n",
    "> * Decide columns to fill, and columns to fill then drop if the symbol still has null values\n",
    "> * Interpolate null values for both, fill na for columns to fill\n",
    "> * Drop columns with negative min that still have many null values\n",
    "> * Drop symbols that still have null values in the columns with a negative minimum as filling with 0 not be adequate.\n",
    "> * Add price to performance\n",
    "> * Apply splits\n",
    "> * Separate out penny stocks ( stocks where price is < 1 dollar )\n",
    "> * Post to `stock_cleaned` SQL server\n",
    "> * Pickle penny and non-penny performances"
   ]
  },
  {
   "cell_type": "markdown",
   "metadata": {},
   "source": [
    "## Functions"
   ]
  },
  {
   "cell_type": "code",
   "execution_count": 8,
   "metadata": {
    "ExecuteTime": {
     "end_time": "2021-01-18T22:45:59.502268Z",
     "start_time": "2021-01-18T22:45:59.488269Z"
    }
   },
   "outputs": [],
   "source": [
    "def get_perc_not_null(df):\n",
    "    \"\"\"Returns the percentages of null in each column to the length of the df\"\"\"\n",
    "    nulls = df.isna().sum()\n",
    "    return pd.Series(1 - nulls/len(df)).sort_values() * 100"
   ]
  },
  {
   "cell_type": "code",
   "execution_count": 9,
   "metadata": {
    "ExecuteTime": {
     "end_time": "2021-01-18T22:45:59.518267Z",
     "start_time": "2021-01-18T22:45:59.504270Z"
    }
   },
   "outputs": [],
   "source": [
    "def check_quantity_stocks_null_in_columns(df, cols):\n",
    "    \"\"\"Query to find how many stocks have a null value in any of these columns\n",
    "        loc the rows that have any nulls in the given columns\n",
    "        reset the index to 0-x\n",
    "        get 'sym' series\n",
    "        get the number of unique values\n",
    "        \"\"\"\n",
    "    return df.loc[df[cols].isna().transpose().any()].reset_index()['sym'].nunique()"
   ]
  },
  {
   "cell_type": "code",
   "execution_count": 10,
   "metadata": {
    "ExecuteTime": {
     "end_time": "2021-01-18T22:45:59.533268Z",
     "start_time": "2021-01-18T22:45:59.520271Z"
    }
   },
   "outputs": [],
   "source": [
    "def try_replace(x):\n",
    "    \"\"\"Quick fix to some of the data having '1,300' instead of a number\"\"\"\n",
    "    try:\n",
    "        x = x.replace(',', '')\n",
    "        return x\n",
    "    except Exception:\n",
    "        return x"
   ]
  },
  {
   "cell_type": "markdown",
   "metadata": {},
   "source": [
    "## Clean for new sql"
   ]
  },
  {
   "cell_type": "code",
   "execution_count": 11,
   "metadata": {
    "ExecuteTime": {
     "end_time": "2021-01-18T22:45:59.548268Z",
     "start_time": "2021-01-18T22:45:59.534269Z"
    }
   },
   "outputs": [],
   "source": [
    "# These are some dropped columns that were obtained after executing the below\n",
    "# We now drop them before to reduce the processing time\n",
    "drop_cols = ['PEG', 'FwdEPS3to5Yr', 'DividendCoverage', 'TotalReturn10Yr',\n",
    "             'EPSGrowth5Year', 'TotalReturn5Yr']"
   ]
  },
  {
   "cell_type": "code",
   "execution_count": 12,
   "metadata": {
    "ExecuteTime": {
     "end_time": "2021-01-18T22:46:17.068024Z",
     "start_time": "2021-01-18T22:45:59.549268Z"
    }
   },
   "outputs": [
    {
     "data": {
      "text/html": [
       "<div>\n",
       "<style scoped>\n",
       "    .dataframe tbody tr th:only-of-type {\n",
       "        vertical-align: middle;\n",
       "    }\n",
       "\n",
       "    .dataframe tbody tr th {\n",
       "        vertical-align: top;\n",
       "    }\n",
       "\n",
       "    .dataframe thead th {\n",
       "        text-align: right;\n",
       "    }\n",
       "</style>\n",
       "<table border=\"1\" class=\"dataframe\">\n",
       "  <thead>\n",
       "    <tr style=\"text-align: right;\">\n",
       "      <th></th>\n",
       "      <th>sym</th>\n",
       "      <th>MCAP</th>\n",
       "      <th>RevenueTTM</th>\n",
       "      <th>TotalCash</th>\n",
       "      <th>ExDividendDate</th>\n",
       "      <th>Dividend</th>\n",
       "      <th>DividendYield</th>\n",
       "      <th>PriceToBook</th>\n",
       "      <th>PriceToSales</th>\n",
       "      <th>EnterpriseValue</th>\n",
       "      <th>...</th>\n",
       "      <th>PE</th>\n",
       "      <th>ReturnonEquity</th>\n",
       "      <th>FreeCashFlow</th>\n",
       "      <th>TotalDebtToEquity</th>\n",
       "      <th>PricePerformance52Weeks</th>\n",
       "      <th>PricePerformanceYTD</th>\n",
       "      <th>TotalReturn1Yr</th>\n",
       "      <th>TotalReturn3Yr</th>\n",
       "      <th>SharesOutstanding</th>\n",
       "      <th>VolumeAvg90Day</th>\n",
       "    </tr>\n",
       "    <tr>\n",
       "      <th>date</th>\n",
       "      <th></th>\n",
       "      <th></th>\n",
       "      <th></th>\n",
       "      <th></th>\n",
       "      <th></th>\n",
       "      <th></th>\n",
       "      <th></th>\n",
       "      <th></th>\n",
       "      <th></th>\n",
       "      <th></th>\n",
       "      <th></th>\n",
       "      <th></th>\n",
       "      <th></th>\n",
       "      <th></th>\n",
       "      <th></th>\n",
       "      <th></th>\n",
       "      <th></th>\n",
       "      <th></th>\n",
       "      <th></th>\n",
       "      <th></th>\n",
       "      <th></th>\n",
       "    </tr>\n",
       "  </thead>\n",
       "  <tbody>\n",
       "    <tr>\n",
       "      <th>2019-08-09</th>\n",
       "      <td>A</td>\n",
       "      <td>22027.70459</td>\n",
       "      <td>5019</td>\n",
       "      <td>2155</td>\n",
       "      <td>NaN</td>\n",
       "      <td>0.164</td>\n",
       "      <td>0.94402</td>\n",
       "      <td>4.29809</td>\n",
       "      <td>4.40182</td>\n",
       "      <td>21670704590</td>\n",
       "      <td>...</td>\n",
       "      <td>19.8</td>\n",
       "      <td>23.1598</td>\n",
       "      <td>887</td>\n",
       "      <td>37.29007</td>\n",
       "      <td>3.13149</td>\n",
       "      <td>3.00919</td>\n",
       "      <td>4.04369</td>\n",
       "      <td>14.79356</td>\n",
       "      <td>315.993</td>\n",
       "      <td>2.59274</td>\n",
       "    </tr>\n",
       "    <tr>\n",
       "      <th>2019-08-12</th>\n",
       "      <td>A</td>\n",
       "      <td>21758.26224</td>\n",
       "      <td>5019</td>\n",
       "      <td>2155</td>\n",
       "      <td>NaN</td>\n",
       "      <td>0.164</td>\n",
       "      <td>0.95571</td>\n",
       "      <td>4.24551</td>\n",
       "      <td>4.34797</td>\n",
       "      <td>21401262240</td>\n",
       "      <td>...</td>\n",
       "      <td>19.2</td>\n",
       "      <td>23.1598</td>\n",
       "      <td>887</td>\n",
       "      <td>37.29007</td>\n",
       "      <td>3.59191</td>\n",
       "      <td>1.74918</td>\n",
       "      <td>4.50818</td>\n",
       "      <td>14.09856</td>\n",
       "      <td>315.993</td>\n",
       "      <td>2.58484</td>\n",
       "    </tr>\n",
       "    <tr>\n",
       "      <th>2019-08-13</th>\n",
       "      <td>A</td>\n",
       "      <td>21121.11033</td>\n",
       "      <td>5019</td>\n",
       "      <td>2155</td>\n",
       "      <td>NaN</td>\n",
       "      <td>0.164</td>\n",
       "      <td>0.98454</td>\n",
       "      <td>4.12119</td>\n",
       "      <td>4.22065</td>\n",
       "      <td>20764110330</td>\n",
       "      <td>...</td>\n",
       "      <td>19.5</td>\n",
       "      <td>23.1598</td>\n",
       "      <td>887</td>\n",
       "      <td>37.29007</td>\n",
       "      <td>0.55841</td>\n",
       "      <td>-1.23036</td>\n",
       "      <td>1.44784</td>\n",
       "      <td>12.4788</td>\n",
       "      <td>315.993</td>\n",
       "      <td>2.60485</td>\n",
       "    </tr>\n",
       "    <tr>\n",
       "      <th>2019-08-14</th>\n",
       "      <td>A</td>\n",
       "      <td>21441.27124</td>\n",
       "      <td>5019</td>\n",
       "      <td>2155</td>\n",
       "      <td>NaN</td>\n",
       "      <td>0.164</td>\n",
       "      <td>0.96984</td>\n",
       "      <td>4.18366</td>\n",
       "      <td>4.28463</td>\n",
       "      <td>21084271240</td>\n",
       "      <td>...</td>\n",
       "      <td>18.9</td>\n",
       "      <td>23.1598</td>\n",
       "      <td>887</td>\n",
       "      <td>37.29007</td>\n",
       "      <td>2.5781</td>\n",
       "      <td>0.26682</td>\n",
       "      <td>3.4854</td>\n",
       "      <td>13.04428</td>\n",
       "      <td>315.993</td>\n",
       "      <td>2.61616</td>\n",
       "    </tr>\n",
       "    <tr>\n",
       "      <th>2019-08-15</th>\n",
       "      <td>A</td>\n",
       "      <td>20332.9</td>\n",
       "      <td>5090</td>\n",
       "      <td>1765</td>\n",
       "      <td>NaN</td>\n",
       "      <td>0.164</td>\n",
       "      <td>1.00015</td>\n",
       "      <td>4.28332</td>\n",
       "      <td>4.06782</td>\n",
       "      <td>20365900000</td>\n",
       "      <td>...</td>\n",
       "      <td>20.8</td>\n",
       "      <td>22.0179</td>\n",
       "      <td>918</td>\n",
       "      <td>36.93453</td>\n",
       "      <td>-1.73783</td>\n",
       "      <td>-2.77201</td>\n",
       "      <td>-0.8687</td>\n",
       "      <td>11.89052</td>\n",
       "      <td>315.993</td>\n",
       "      <td>2.63078</td>\n",
       "    </tr>\n",
       "  </tbody>\n",
       "</table>\n",
       "<p>5 rows × 21 columns</p>\n",
       "</div>"
      ],
      "text/plain": [
       "           sym         MCAP RevenueTTM TotalCash ExDividendDate Dividend  \\\n",
       "date                                                                       \n",
       "2019-08-09   A  22027.70459       5019      2155            NaN    0.164   \n",
       "2019-08-12   A  21758.26224       5019      2155            NaN    0.164   \n",
       "2019-08-13   A  21121.11033       5019      2155            NaN    0.164   \n",
       "2019-08-14   A  21441.27124       5019      2155            NaN    0.164   \n",
       "2019-08-15   A      20332.9       5090      1765            NaN    0.164   \n",
       "\n",
       "           DividendYield PriceToBook PriceToSales EnterpriseValue  ...    PE  \\\n",
       "date                                                               ...         \n",
       "2019-08-09       0.94402     4.29809      4.40182     21670704590  ...  19.8   \n",
       "2019-08-12       0.95571     4.24551      4.34797     21401262240  ...  19.2   \n",
       "2019-08-13       0.98454     4.12119      4.22065     20764110330  ...  19.5   \n",
       "2019-08-14       0.96984     4.18366      4.28463     21084271240  ...  18.9   \n",
       "2019-08-15       1.00015     4.28332      4.06782     20365900000  ...  20.8   \n",
       "\n",
       "           ReturnonEquity FreeCashFlow TotalDebtToEquity  \\\n",
       "date                                                       \n",
       "2019-08-09        23.1598          887          37.29007   \n",
       "2019-08-12        23.1598          887          37.29007   \n",
       "2019-08-13        23.1598          887          37.29007   \n",
       "2019-08-14        23.1598          887          37.29007   \n",
       "2019-08-15        22.0179          918          36.93453   \n",
       "\n",
       "           PricePerformance52Weeks PricePerformanceYTD TotalReturn1Yr  \\\n",
       "date                                                                    \n",
       "2019-08-09                 3.13149             3.00919        4.04369   \n",
       "2019-08-12                 3.59191             1.74918        4.50818   \n",
       "2019-08-13                 0.55841            -1.23036        1.44784   \n",
       "2019-08-14                  2.5781             0.26682         3.4854   \n",
       "2019-08-15                -1.73783            -2.77201        -0.8687   \n",
       "\n",
       "           TotalReturn3Yr SharesOutstanding VolumeAvg90Day  \n",
       "date                                                        \n",
       "2019-08-09       14.79356           315.993        2.59274  \n",
       "2019-08-12       14.09856           315.993        2.58484  \n",
       "2019-08-13        12.4788           315.993        2.60485  \n",
       "2019-08-14       13.04428           315.993        2.61616  \n",
       "2019-08-15       11.89052           315.993        2.63078  \n",
       "\n",
       "[5 rows x 21 columns]"
      ]
     },
     "execution_count": 12,
     "metadata": {},
     "output_type": "execute_result"
    }
   ],
   "source": [
    "# Cleaning first two blank rows\n",
    "df_performance = db.frames['performance'].copy(deep=True).drop([0, 1])\n",
    "\n",
    "# Drop cols\n",
    "df_performance.drop(drop_cols, inplace=True, axis=1)\n",
    "\n",
    "# Remove Dates that are less than august 8th, as that is from a different collection method\n",
    "df_performance = df_performance[df_performance['date'] > pd.to_datetime('2019-08-08')]\n",
    "\n",
    "# Resetting date index and dropping index\n",
    "df_performance.set_index('date', inplace=True, drop=True)\n",
    "\n",
    "# Dropping null date values\n",
    "df_performance = df_performance.loc[df_performance.index.notnull()]\n",
    "\n",
    "# Replace -- with NaN\n",
    "df_performance.replace(['', '--'], np.NaN, inplace=True)\n",
    "df_performance.head()"
   ]
  },
  {
   "cell_type": "code",
   "execution_count": 13,
   "metadata": {
    "ExecuteTime": {
     "end_time": "2021-01-18T22:46:21.288312Z",
     "start_time": "2021-01-18T22:46:17.069022Z"
    }
   },
   "outputs": [
    {
     "data": {
      "text/html": [
       "<div>\n",
       "<style scoped>\n",
       "    .dataframe tbody tr th:only-of-type {\n",
       "        vertical-align: middle;\n",
       "    }\n",
       "\n",
       "    .dataframe tbody tr th {\n",
       "        vertical-align: top;\n",
       "    }\n",
       "\n",
       "    .dataframe thead th {\n",
       "        text-align: right;\n",
       "    }\n",
       "</style>\n",
       "<table border=\"1\" class=\"dataframe\">\n",
       "  <thead>\n",
       "    <tr style=\"text-align: right;\">\n",
       "      <th></th>\n",
       "      <th>sym</th>\n",
       "      <th>price</th>\n",
       "    </tr>\n",
       "    <tr>\n",
       "      <th>date</th>\n",
       "      <th></th>\n",
       "      <th></th>\n",
       "    </tr>\n",
       "  </thead>\n",
       "  <tbody>\n",
       "    <tr>\n",
       "      <th>2019-08-09</th>\n",
       "      <td>A</td>\n",
       "      <td>68.640</td>\n",
       "    </tr>\n",
       "    <tr>\n",
       "      <th>2019-08-12</th>\n",
       "      <td>A</td>\n",
       "      <td>66.780</td>\n",
       "    </tr>\n",
       "    <tr>\n",
       "      <th>2019-08-13</th>\n",
       "      <td>A</td>\n",
       "      <td>67.640</td>\n",
       "    </tr>\n",
       "    <tr>\n",
       "      <th>2019-08-14</th>\n",
       "      <td>A</td>\n",
       "      <td>65.590</td>\n",
       "    </tr>\n",
       "    <tr>\n",
       "      <th>2019-08-15</th>\n",
       "      <td>A</td>\n",
       "      <td>69.590</td>\n",
       "    </tr>\n",
       "  </tbody>\n",
       "</table>\n",
       "</div>"
      ],
      "text/plain": [
       "           sym  price\n",
       "date                 \n",
       "2019-08-09   A 68.640\n",
       "2019-08-12   A 66.780\n",
       "2019-08-13   A 67.640\n",
       "2019-08-14   A 65.590\n",
       "2019-08-15   A 69.590"
      ]
     },
     "execution_count": 13,
     "metadata": {},
     "output_type": "execute_result"
    }
   ],
   "source": [
    "# Get all symbols from price and split out only the symbols that are in price\n",
    "df_prices = df_prices.reset_index().set_index(['date'])\n",
    "df_prices.index = pd.to_datetime(df_prices.index)\n",
    "prices_symbols = df_prices['sym'].unique()\n",
    "df_performance = df_performance.loc[df_performance['sym'].isin(prices_symbols)]\n",
    "df_prices.head()"
   ]
  },
  {
   "cell_type": "markdown",
   "metadata": {},
   "source": [
    "#### Add prices to performance"
   ]
  },
  {
   "cell_type": "code",
   "execution_count": 14,
   "metadata": {
    "ExecuteTime": {
     "end_time": "2021-01-18T22:46:34.613917Z",
     "start_time": "2021-01-18T22:46:21.289313Z"
    }
   },
   "outputs": [
    {
     "data": {
      "text/html": [
       "<div>\n",
       "<style scoped>\n",
       "    .dataframe tbody tr th:only-of-type {\n",
       "        vertical-align: middle;\n",
       "    }\n",
       "\n",
       "    .dataframe tbody tr th {\n",
       "        vertical-align: top;\n",
       "    }\n",
       "\n",
       "    .dataframe thead th {\n",
       "        text-align: right;\n",
       "    }\n",
       "</style>\n",
       "<table border=\"1\" class=\"dataframe\">\n",
       "  <thead>\n",
       "    <tr style=\"text-align: right;\">\n",
       "      <th></th>\n",
       "      <th></th>\n",
       "      <th>MCAP</th>\n",
       "      <th>RevenueTTM</th>\n",
       "      <th>TotalCash</th>\n",
       "      <th>ExDividendDate</th>\n",
       "      <th>Dividend</th>\n",
       "      <th>DividendYield</th>\n",
       "      <th>PriceToBook</th>\n",
       "      <th>PriceToSales</th>\n",
       "      <th>EnterpriseValue</th>\n",
       "      <th>PriceToCashFlow</th>\n",
       "      <th>PE</th>\n",
       "      <th>ReturnonEquity</th>\n",
       "      <th>FreeCashFlow</th>\n",
       "      <th>TotalDebtToEquity</th>\n",
       "      <th>PricePerformance52Weeks</th>\n",
       "      <th>PricePerformanceYTD</th>\n",
       "      <th>TotalReturn1Yr</th>\n",
       "      <th>TotalReturn3Yr</th>\n",
       "      <th>SharesOutstanding</th>\n",
       "      <th>VolumeAvg90Day</th>\n",
       "    </tr>\n",
       "    <tr>\n",
       "      <th>date</th>\n",
       "      <th>sym</th>\n",
       "      <th></th>\n",
       "      <th></th>\n",
       "      <th></th>\n",
       "      <th></th>\n",
       "      <th></th>\n",
       "      <th></th>\n",
       "      <th></th>\n",
       "      <th></th>\n",
       "      <th></th>\n",
       "      <th></th>\n",
       "      <th></th>\n",
       "      <th></th>\n",
       "      <th></th>\n",
       "      <th></th>\n",
       "      <th></th>\n",
       "      <th></th>\n",
       "      <th></th>\n",
       "      <th></th>\n",
       "      <th></th>\n",
       "      <th></th>\n",
       "    </tr>\n",
       "  </thead>\n",
       "  <tbody>\n",
       "    <tr>\n",
       "      <th>2019-08-09</th>\n",
       "      <th>A</th>\n",
       "      <td>22027.70459</td>\n",
       "      <td>5019</td>\n",
       "      <td>2155</td>\n",
       "      <td>NaN</td>\n",
       "      <td>0.164</td>\n",
       "      <td>0.94402</td>\n",
       "      <td>4.29809</td>\n",
       "      <td>4.40182</td>\n",
       "      <td>21670704590</td>\n",
       "      <td>16.57368</td>\n",
       "      <td>19.8</td>\n",
       "      <td>23.1598</td>\n",
       "      <td>887</td>\n",
       "      <td>37.29007</td>\n",
       "      <td>3.13149</td>\n",
       "      <td>3.00919</td>\n",
       "      <td>4.04369</td>\n",
       "      <td>14.79356</td>\n",
       "      <td>315.993</td>\n",
       "      <td>2.59274</td>\n",
       "    </tr>\n",
       "    <tr>\n",
       "      <th>2019-08-12</th>\n",
       "      <th>A</th>\n",
       "      <td>21758.26224</td>\n",
       "      <td>5019</td>\n",
       "      <td>2155</td>\n",
       "      <td>NaN</td>\n",
       "      <td>0.164</td>\n",
       "      <td>0.95571</td>\n",
       "      <td>4.24551</td>\n",
       "      <td>4.34797</td>\n",
       "      <td>21401262240</td>\n",
       "      <td>16.37095</td>\n",
       "      <td>19.2</td>\n",
       "      <td>23.1598</td>\n",
       "      <td>887</td>\n",
       "      <td>37.29007</td>\n",
       "      <td>3.59191</td>\n",
       "      <td>1.74918</td>\n",
       "      <td>4.50818</td>\n",
       "      <td>14.09856</td>\n",
       "      <td>315.993</td>\n",
       "      <td>2.58484</td>\n",
       "    </tr>\n",
       "    <tr>\n",
       "      <th>2019-08-13</th>\n",
       "      <th>A</th>\n",
       "      <td>21121.11033</td>\n",
       "      <td>5019</td>\n",
       "      <td>2155</td>\n",
       "      <td>NaN</td>\n",
       "      <td>0.164</td>\n",
       "      <td>0.98454</td>\n",
       "      <td>4.12119</td>\n",
       "      <td>4.22065</td>\n",
       "      <td>20764110330</td>\n",
       "      <td>15.89156</td>\n",
       "      <td>19.5</td>\n",
       "      <td>23.1598</td>\n",
       "      <td>887</td>\n",
       "      <td>37.29007</td>\n",
       "      <td>0.55841</td>\n",
       "      <td>-1.23036</td>\n",
       "      <td>1.44784</td>\n",
       "      <td>12.4788</td>\n",
       "      <td>315.993</td>\n",
       "      <td>2.60485</td>\n",
       "    </tr>\n",
       "    <tr>\n",
       "      <th>2019-08-14</th>\n",
       "      <th>A</th>\n",
       "      <td>21441.27124</td>\n",
       "      <td>5019</td>\n",
       "      <td>2155</td>\n",
       "      <td>NaN</td>\n",
       "      <td>0.164</td>\n",
       "      <td>0.96984</td>\n",
       "      <td>4.18366</td>\n",
       "      <td>4.28463</td>\n",
       "      <td>21084271240</td>\n",
       "      <td>16.13245</td>\n",
       "      <td>18.9</td>\n",
       "      <td>23.1598</td>\n",
       "      <td>887</td>\n",
       "      <td>37.29007</td>\n",
       "      <td>2.5781</td>\n",
       "      <td>0.26682</td>\n",
       "      <td>3.4854</td>\n",
       "      <td>13.04428</td>\n",
       "      <td>315.993</td>\n",
       "      <td>2.61616</td>\n",
       "    </tr>\n",
       "    <tr>\n",
       "      <th>2019-08-15</th>\n",
       "      <th>A</th>\n",
       "      <td>20332.9</td>\n",
       "      <td>5090</td>\n",
       "      <td>1765</td>\n",
       "      <td>NaN</td>\n",
       "      <td>0.164</td>\n",
       "      <td>1.00015</td>\n",
       "      <td>4.28332</td>\n",
       "      <td>4.06782</td>\n",
       "      <td>20365900000</td>\n",
       "      <td>16.05056</td>\n",
       "      <td>20.8</td>\n",
       "      <td>22.0179</td>\n",
       "      <td>918</td>\n",
       "      <td>36.93453</td>\n",
       "      <td>-1.73783</td>\n",
       "      <td>-2.77201</td>\n",
       "      <td>-0.8687</td>\n",
       "      <td>11.89052</td>\n",
       "      <td>315.993</td>\n",
       "      <td>2.63078</td>\n",
       "    </tr>\n",
       "  </tbody>\n",
       "</table>\n",
       "</div>"
      ],
      "text/plain": [
       "                       MCAP RevenueTTM TotalCash ExDividendDate Dividend  \\\n",
       "date       sym                                                             \n",
       "2019-08-09 A    22027.70459       5019      2155            NaN    0.164   \n",
       "2019-08-12 A    21758.26224       5019      2155            NaN    0.164   \n",
       "2019-08-13 A    21121.11033       5019      2155            NaN    0.164   \n",
       "2019-08-14 A    21441.27124       5019      2155            NaN    0.164   \n",
       "2019-08-15 A        20332.9       5090      1765            NaN    0.164   \n",
       "\n",
       "               DividendYield PriceToBook PriceToSales EnterpriseValue  \\\n",
       "date       sym                                                          \n",
       "2019-08-09 A         0.94402     4.29809      4.40182     21670704590   \n",
       "2019-08-12 A         0.95571     4.24551      4.34797     21401262240   \n",
       "2019-08-13 A         0.98454     4.12119      4.22065     20764110330   \n",
       "2019-08-14 A         0.96984     4.18366      4.28463     21084271240   \n",
       "2019-08-15 A         1.00015     4.28332      4.06782     20365900000   \n",
       "\n",
       "               PriceToCashFlow    PE ReturnonEquity FreeCashFlow  \\\n",
       "date       sym                                                     \n",
       "2019-08-09 A          16.57368  19.8        23.1598          887   \n",
       "2019-08-12 A          16.37095  19.2        23.1598          887   \n",
       "2019-08-13 A          15.89156  19.5        23.1598          887   \n",
       "2019-08-14 A          16.13245  18.9        23.1598          887   \n",
       "2019-08-15 A          16.05056  20.8        22.0179          918   \n",
       "\n",
       "               TotalDebtToEquity PricePerformance52Weeks PricePerformanceYTD  \\\n",
       "date       sym                                                                 \n",
       "2019-08-09 A            37.29007                 3.13149             3.00919   \n",
       "2019-08-12 A            37.29007                 3.59191             1.74918   \n",
       "2019-08-13 A            37.29007                 0.55841            -1.23036   \n",
       "2019-08-14 A            37.29007                  2.5781             0.26682   \n",
       "2019-08-15 A            36.93453                -1.73783            -2.77201   \n",
       "\n",
       "               TotalReturn1Yr TotalReturn3Yr SharesOutstanding VolumeAvg90Day  \n",
       "date       sym                                                                 \n",
       "2019-08-09 A          4.04369       14.79356           315.993        2.59274  \n",
       "2019-08-12 A          4.50818       14.09856           315.993        2.58484  \n",
       "2019-08-13 A          1.44784        12.4788           315.993        2.60485  \n",
       "2019-08-14 A           3.4854       13.04428           315.993        2.61616  \n",
       "2019-08-15 A          -0.8687       11.89052           315.993        2.63078  "
      ]
     },
     "execution_count": 14,
     "metadata": {},
     "output_type": "execute_result"
    }
   ],
   "source": [
    "test_performance = df_performance.reset_index().set_index(['date', 'sym'])\n",
    "test_prices = df_prices.reset_index().set_index(['date', 'sym'])\n",
    "df_performance = pd.DataFrame(test_performance, index=test_prices.index)\n",
    "assert (df_performance.shape[0] == df_prices.shape[0])\n",
    "\n",
    "df_performance.head()"
   ]
  },
  {
   "cell_type": "markdown",
   "metadata": {},
   "source": [
    "### Analyze null values"
   ]
  },
  {
   "cell_type": "code",
   "execution_count": 15,
   "metadata": {
    "ExecuteTime": {
     "end_time": "2021-01-18T22:46:37.644995Z",
     "start_time": "2021-01-18T22:46:34.615919Z"
    }
   },
   "outputs": [
    {
     "data": {
      "text/plain": [
       "ExDividendDate             8.618\n",
       "DividendYield             40.036\n",
       "Dividend                  40.259\n",
       "PE                        51.881\n",
       "PriceToCashFlow           60.672\n",
       "FreeCashFlow              83.714\n",
       "PriceToSales              84.713\n",
       "TotalReturn3Yr            86.280\n",
       "EnterpriseValue           86.389\n",
       "PriceToBook               86.635\n",
       "TotalDebtToEquity         87.627\n",
       "RevenueTTM                88.348\n",
       "ReturnonEquity            91.619\n",
       "TotalCash                 93.672\n",
       "PricePerformanceYTD       93.786\n",
       "MCAP                      94.835\n",
       "VolumeAvg90Day            94.982\n",
       "TotalReturn1Yr            96.963\n",
       "PricePerformance52Weeks   96.963\n",
       "SharesOutstanding         99.778\n",
       "dtype: float64"
      ]
     },
     "execution_count": 15,
     "metadata": {},
     "output_type": "execute_result"
    }
   ],
   "source": [
    "get_perc_not_null(df_performance)"
   ]
  },
  {
   "cell_type": "markdown",
   "metadata": {},
   "source": [
    "#### Check minimums of performance"
   ]
  },
  {
   "cell_type": "code",
   "execution_count": 16,
   "metadata": {
    "ExecuteTime": {
     "end_time": "2021-01-18T22:47:03.664865Z",
     "start_time": "2021-01-18T22:46:37.645998Z"
    }
   },
   "outputs": [
    {
     "name": "stdout",
     "output_type": "stream",
     "text": [
      "ExDividendDate Exception ---\n"
     ]
    },
    {
     "data": {
      "text/plain": [
       "EnterpriseValue           -278943858688.000\n",
       "ReturnonEquity                 -1255335.250\n",
       "TotalDebtToEquity               -288322.562\n",
       "FreeCashFlow                     -84924.000\n",
       "RevenueTTM                         -811.925\n",
       "TotalReturn1Yr                      -99.989\n",
       "PricePerformance52Weeks             -99.989\n",
       "PricePerformanceYTD                 -99.959\n",
       "TotalReturn3Yr                      -99.767\n",
       "MCAP                                  0.000\n",
       "PE                                    0.000\n",
       "PriceToCashFlow                       0.000\n",
       "PriceToSales                          0.000\n",
       "PriceToBook                           0.000\n",
       "DividendYield                         0.000\n",
       "Dividend                              0.000\n",
       "TotalCash                             0.000\n",
       "SharesOutstanding                     0.000\n",
       "VolumeAvg90Day                        0.000\n",
       "dtype: float64"
      ]
     },
     "execution_count": 16,
     "metadata": {},
     "output_type": "execute_result"
    }
   ],
   "source": [
    "performance_mins = {}\n",
    "for col in df_performance.columns:\n",
    "    try:\n",
    "        performance_mins[col] = df_performance[col].map(try_replace).fillna(0).astype('float32').min()\n",
    "    except Exception:\n",
    "        print(col, 'Exception ---')\n",
    "performance_mins = pd.Series(performance_mins)\n",
    "performance_mins.sort_values()"
   ]
  },
  {
   "cell_type": "markdown",
   "metadata": {},
   "source": [
    "<div class=\"alert alert-warning shadow\">\n",
    "  <strong>Filling Null Values:</strong>\n",
    "    <ul>\n",
    "    <li><b>ExDividendDate:</b> Not all of the dividend stocks have a dividend date, so we will be filling null values of this column with the time equivalent of 0 1970-01-01</li></ul>\n",
    "        <br></br>\n",
    "    <b>For the rest of the stocks we will be doing two different things:</b>\n",
    "    <ul>\n",
    "        <li><b>col_to_fill_then_drop:</b> If a stock has a min lower than 0 we must interpolate nulls and then drop the stocks that still have a null in that column.  That is because if we were to simply fill with 0 it would misrepresent that stock, and we may end up with large jumps from negative to positive that increases our variance</li>\n",
    "        <li><b>col_to_fill:</b> If a stock has a min higher than 0 we can simply interpolate nulls and then set the rest of the nulls to 0</li>\n",
    "    </ul>\n",
    "</div>"
   ]
  },
  {
   "cell_type": "markdown",
   "metadata": {},
   "source": [
    "### More cleaning"
   ]
  },
  {
   "cell_type": "markdown",
   "metadata": {},
   "source": [
    "#### Fill null ExDividendDate with 1970-01-01"
   ]
  },
  {
   "cell_type": "code",
   "execution_count": 17,
   "metadata": {
    "ExecuteTime": {
     "end_time": "2021-01-18T22:47:06.968157Z",
     "start_time": "2021-01-18T22:47:03.665868Z"
    }
   },
   "outputs": [
    {
     "data": {
      "text/plain": [
       "0"
      ]
     },
     "execution_count": 17,
     "metadata": {},
     "output_type": "execute_result"
    }
   ],
   "source": [
    "fill_date = pd.to_datetime('1970-01-01')\n",
    "df_performance = df_performance.reset_index().set_index('date', drop=True)\n",
    "df_performance['ExDividendDate'] = pd.to_datetime(df_performance['ExDividendDate'].fillna(fill_date))\n",
    "df_performance['ExDividendDate'].isna().sum()"
   ]
  },
  {
   "cell_type": "markdown",
   "metadata": {},
   "source": [
    "#### Encode ExDividendDate"
   ]
  },
  {
   "cell_type": "code",
   "execution_count": 18,
   "metadata": {
    "ExecuteTime": {
     "end_time": "2021-01-18T22:47:27.882713Z",
     "start_time": "2021-01-18T22:47:06.970167Z"
    }
   },
   "outputs": [],
   "source": [
    "df_performance['ExDividendDate'] = \\\n",
    "    df_performance['ExDividendDate'].map(lambda x: (x - fill_date).days)"
   ]
  },
  {
   "cell_type": "markdown",
   "metadata": {},
   "source": [
    "### Execute col_to_fill\n",
    "> We will use the way we interpolated prices as a reference, and do something similar.  Although we already reindexed, and we don't have to drop symbols here so we can skip those steps.  This will also be converting the data to numeric.  We will also be removing the limit, as some this isn't as important as prices"
   ]
  },
  {
   "cell_type": "code",
   "execution_count": 19,
   "metadata": {
    "ExecuteTime": {
     "end_time": "2021-01-18T22:50:49.425428Z",
     "start_time": "2021-01-18T22:47:27.883716Z"
    }
   },
   "outputs": [
    {
     "name": "stdout",
     "output_type": "stream",
     "text": [
      "Null values filled = 576754I :: averaging 0.04s/sym......\n",
      "Null values left after filling with 0\n"
     ]
    },
    {
     "data": {
      "text/plain": [
       "FreeCashFlow               83.714\n",
       "TotalReturn3Yr             86.280\n",
       "EnterpriseValue            86.389\n",
       "TotalDebtToEquity          87.627\n",
       "RevenueTTM                 88.348\n",
       "ReturnonEquity             91.619\n",
       "PricePerformanceYTD        93.786\n",
       "TotalReturn1Yr             96.963\n",
       "PricePerformance52Weeks    96.963\n",
       "sym                       100.000\n",
       "PE                        100.000\n",
       "PriceToCashFlow           100.000\n",
       "PriceToSales              100.000\n",
       "PriceToBook               100.000\n",
       "DividendYield             100.000\n",
       "Dividend                  100.000\n",
       "ExDividendDate            100.000\n",
       "TotalCash                 100.000\n",
       "MCAP                      100.000\n",
       "SharesOutstanding         100.000\n",
       "VolumeAvg90Day            100.000\n",
       "dtype: float64"
      ]
     },
     "execution_count": 19,
     "metadata": {},
     "output_type": "execute_result"
    }
   ],
   "source": [
    "# Make col_to_fill\n",
    "col_to_fill = ['sym']\n",
    "col_to_fill += list(performance_mins[performance_mins >= 0].index)\n",
    "\n",
    "# Split df_performance into a temp dataframe\n",
    "df_performance_temp = df_performance[col_to_fill]\n",
    "\n",
    "# Get all symbol list\n",
    "all_symbols = df_performance_temp['sym'].unique()\n",
    "\n",
    "# Make an empty list of all dataframes that will be combined\n",
    "sym_dfs = []\n",
    "\n",
    "# For time display\n",
    "sym_num = len(all_symbols)\n",
    "times = np.array([])\n",
    "\n",
    "def cust_interpolate_fill_na(sym):\n",
    "    \"\"\"Function to convert columns to numeric and interpolate null values\"\"\"\n",
    "    df = df_performance_temp.query(f\"sym == '{sym}'\")\n",
    "    for col in df.columns:\n",
    "        if col != 'sym':\n",
    "            df[col] = pd.to_numeric(df[col], errors='coerce').interpolate()\n",
    "    sym_dfs.append(df)\n",
    "\n",
    "# Loop through each symbol and apply the above function\n",
    "for num, sym in enumerate(all_symbols):\n",
    "    start = time.time()\n",
    "    cust_interpolate_fill_na(sym)  # Timed function\n",
    "    end = time.time()\n",
    "    time_taken = end-start\n",
    "    times = np.append(times, time_taken)\n",
    "    print(f\"{num+1}/{sym_num} in {time_taken: .2f}s for {sym} :: averaging {times.mean():.2f}s/sym...\", end='\\r')\n",
    "\n",
    "# Combine all symbol dataframes, and display info\n",
    "df_performance_temp =  pd.concat(sym_dfs)\n",
    "\n",
    "nulls_filled = df_performance[col_to_fill].isna().sum().sum() - \\\n",
    "    df_performance_temp.isna().sum().sum()\n",
    "print(\"Null values filled =\", nulls_filled)\n",
    "print(\"Null values left after filling with 0\")\n",
    "\n",
    "# Fill rest of na with 0\n",
    "df_performance[col_to_fill] = df_performance_temp.fillna(0)\n",
    "get_perc_not_null(df_performance)"
   ]
  },
  {
   "cell_type": "code",
   "execution_count": 20,
   "metadata": {
    "ExecuteTime": {
     "end_time": "2021-01-18T22:50:49.691488Z",
     "start_time": "2021-01-18T22:50:49.426427Z"
    }
   },
   "outputs": [
    {
     "data": {
      "text/plain": [
       "(372, 372)"
      ]
     },
     "execution_count": 20,
     "metadata": {},
     "output_type": "execute_result"
    }
   ],
   "source": [
    "df_performance['sym'].value_counts().min(), df_performance['sym'].value_counts().max()"
   ]
  },
  {
   "cell_type": "markdown",
   "metadata": {},
   "source": [
    "### Execute col_to_fill_then_drop\n",
    "> Interpolate null values then drop stocks that still have nulls in these columns"
   ]
  },
  {
   "cell_type": "markdown",
   "metadata": {},
   "source": [
    "#### Interpolating the null values"
   ]
  },
  {
   "cell_type": "code",
   "execution_count": 21,
   "metadata": {
    "ExecuteTime": {
     "end_time": "2021-01-18T22:54:57.871883Z",
     "start_time": "2021-01-18T22:50:49.693490Z"
    }
   },
   "outputs": [
    {
     "name": "stdout",
     "output_type": "stream",
     "text": [
      "5024/5024 in  0.04s for ZYXI :: averaging 0.05s/sym......\r"
     ]
    },
    {
     "data": {
      "text/html": [
       "<div>\n",
       "<style scoped>\n",
       "    .dataframe tbody tr th:only-of-type {\n",
       "        vertical-align: middle;\n",
       "    }\n",
       "\n",
       "    .dataframe tbody tr th {\n",
       "        vertical-align: top;\n",
       "    }\n",
       "\n",
       "    .dataframe thead th {\n",
       "        text-align: right;\n",
       "    }\n",
       "</style>\n",
       "<table border=\"1\" class=\"dataframe\">\n",
       "  <thead>\n",
       "    <tr style=\"text-align: right;\">\n",
       "      <th></th>\n",
       "      <th>sym</th>\n",
       "      <th>MCAP</th>\n",
       "      <th>RevenueTTM</th>\n",
       "      <th>TotalCash</th>\n",
       "      <th>ExDividendDate</th>\n",
       "      <th>Dividend</th>\n",
       "      <th>DividendYield</th>\n",
       "      <th>PriceToBook</th>\n",
       "      <th>PriceToSales</th>\n",
       "      <th>EnterpriseValue</th>\n",
       "      <th>...</th>\n",
       "      <th>PE</th>\n",
       "      <th>ReturnonEquity</th>\n",
       "      <th>FreeCashFlow</th>\n",
       "      <th>TotalDebtToEquity</th>\n",
       "      <th>PricePerformance52Weeks</th>\n",
       "      <th>PricePerformanceYTD</th>\n",
       "      <th>TotalReturn1Yr</th>\n",
       "      <th>TotalReturn3Yr</th>\n",
       "      <th>SharesOutstanding</th>\n",
       "      <th>VolumeAvg90Day</th>\n",
       "    </tr>\n",
       "    <tr>\n",
       "      <th>date</th>\n",
       "      <th></th>\n",
       "      <th></th>\n",
       "      <th></th>\n",
       "      <th></th>\n",
       "      <th></th>\n",
       "      <th></th>\n",
       "      <th></th>\n",
       "      <th></th>\n",
       "      <th></th>\n",
       "      <th></th>\n",
       "      <th></th>\n",
       "      <th></th>\n",
       "      <th></th>\n",
       "      <th></th>\n",
       "      <th></th>\n",
       "      <th></th>\n",
       "      <th></th>\n",
       "      <th></th>\n",
       "      <th></th>\n",
       "      <th></th>\n",
       "      <th></th>\n",
       "    </tr>\n",
       "  </thead>\n",
       "  <tbody>\n",
       "    <tr>\n",
       "      <th>2019-08-09</th>\n",
       "      <td>A</td>\n",
       "      <td>22027.705</td>\n",
       "      <td>5019.000</td>\n",
       "      <td>2155.000</td>\n",
       "      <td>0</td>\n",
       "      <td>0.164</td>\n",
       "      <td>0.944</td>\n",
       "      <td>4.298</td>\n",
       "      <td>4.402</td>\n",
       "      <td>21670704590.000</td>\n",
       "      <td>...</td>\n",
       "      <td>19.800</td>\n",
       "      <td>23.160</td>\n",
       "      <td>887.000</td>\n",
       "      <td>37.290</td>\n",
       "      <td>3.131</td>\n",
       "      <td>3.009</td>\n",
       "      <td>4.044</td>\n",
       "      <td>14.794</td>\n",
       "      <td>315.993</td>\n",
       "      <td>2.593</td>\n",
       "    </tr>\n",
       "    <tr>\n",
       "      <th>2019-08-12</th>\n",
       "      <td>A</td>\n",
       "      <td>21758.262</td>\n",
       "      <td>5019.000</td>\n",
       "      <td>2155.000</td>\n",
       "      <td>0</td>\n",
       "      <td>0.164</td>\n",
       "      <td>0.956</td>\n",
       "      <td>4.246</td>\n",
       "      <td>4.348</td>\n",
       "      <td>21401262240.000</td>\n",
       "      <td>...</td>\n",
       "      <td>19.200</td>\n",
       "      <td>23.160</td>\n",
       "      <td>887.000</td>\n",
       "      <td>37.290</td>\n",
       "      <td>3.592</td>\n",
       "      <td>1.749</td>\n",
       "      <td>4.508</td>\n",
       "      <td>14.099</td>\n",
       "      <td>315.993</td>\n",
       "      <td>2.585</td>\n",
       "    </tr>\n",
       "    <tr>\n",
       "      <th>2019-08-13</th>\n",
       "      <td>A</td>\n",
       "      <td>21121.110</td>\n",
       "      <td>5019.000</td>\n",
       "      <td>2155.000</td>\n",
       "      <td>0</td>\n",
       "      <td>0.164</td>\n",
       "      <td>0.985</td>\n",
       "      <td>4.121</td>\n",
       "      <td>4.221</td>\n",
       "      <td>20764110330.000</td>\n",
       "      <td>...</td>\n",
       "      <td>19.500</td>\n",
       "      <td>23.160</td>\n",
       "      <td>887.000</td>\n",
       "      <td>37.290</td>\n",
       "      <td>0.558</td>\n",
       "      <td>-1.230</td>\n",
       "      <td>1.448</td>\n",
       "      <td>12.479</td>\n",
       "      <td>315.993</td>\n",
       "      <td>2.605</td>\n",
       "    </tr>\n",
       "    <tr>\n",
       "      <th>2019-08-14</th>\n",
       "      <td>A</td>\n",
       "      <td>21441.271</td>\n",
       "      <td>5019.000</td>\n",
       "      <td>2155.000</td>\n",
       "      <td>0</td>\n",
       "      <td>0.164</td>\n",
       "      <td>0.970</td>\n",
       "      <td>4.184</td>\n",
       "      <td>4.285</td>\n",
       "      <td>21084271240.000</td>\n",
       "      <td>...</td>\n",
       "      <td>18.900</td>\n",
       "      <td>23.160</td>\n",
       "      <td>887.000</td>\n",
       "      <td>37.290</td>\n",
       "      <td>2.578</td>\n",
       "      <td>0.267</td>\n",
       "      <td>3.485</td>\n",
       "      <td>13.044</td>\n",
       "      <td>315.993</td>\n",
       "      <td>2.616</td>\n",
       "    </tr>\n",
       "    <tr>\n",
       "      <th>2019-08-15</th>\n",
       "      <td>A</td>\n",
       "      <td>20332.900</td>\n",
       "      <td>5090.000</td>\n",
       "      <td>1765.000</td>\n",
       "      <td>0</td>\n",
       "      <td>0.164</td>\n",
       "      <td>1.000</td>\n",
       "      <td>4.283</td>\n",
       "      <td>4.068</td>\n",
       "      <td>20365900000.000</td>\n",
       "      <td>...</td>\n",
       "      <td>20.800</td>\n",
       "      <td>22.018</td>\n",
       "      <td>918.000</td>\n",
       "      <td>36.935</td>\n",
       "      <td>-1.738</td>\n",
       "      <td>-2.772</td>\n",
       "      <td>-0.869</td>\n",
       "      <td>11.891</td>\n",
       "      <td>315.993</td>\n",
       "      <td>2.631</td>\n",
       "    </tr>\n",
       "  </tbody>\n",
       "</table>\n",
       "<p>5 rows × 21 columns</p>\n",
       "</div>"
      ],
      "text/plain": [
       "           sym      MCAP  RevenueTTM  TotalCash  ExDividendDate  Dividend  \\\n",
       "date                                                                        \n",
       "2019-08-09   A 22027.705    5019.000   2155.000               0     0.164   \n",
       "2019-08-12   A 21758.262    5019.000   2155.000               0     0.164   \n",
       "2019-08-13   A 21121.110    5019.000   2155.000               0     0.164   \n",
       "2019-08-14   A 21441.271    5019.000   2155.000               0     0.164   \n",
       "2019-08-15   A 20332.900    5090.000   1765.000               0     0.164   \n",
       "\n",
       "            DividendYield  PriceToBook  PriceToSales  EnterpriseValue  ...  \\\n",
       "date                                                                   ...   \n",
       "2019-08-09          0.944        4.298         4.402  21670704590.000  ...   \n",
       "2019-08-12          0.956        4.246         4.348  21401262240.000  ...   \n",
       "2019-08-13          0.985        4.121         4.221  20764110330.000  ...   \n",
       "2019-08-14          0.970        4.184         4.285  21084271240.000  ...   \n",
       "2019-08-15          1.000        4.283         4.068  20365900000.000  ...   \n",
       "\n",
       "               PE  ReturnonEquity  FreeCashFlow  TotalDebtToEquity  \\\n",
       "date                                                                 \n",
       "2019-08-09 19.800          23.160       887.000             37.290   \n",
       "2019-08-12 19.200          23.160       887.000             37.290   \n",
       "2019-08-13 19.500          23.160       887.000             37.290   \n",
       "2019-08-14 18.900          23.160       887.000             37.290   \n",
       "2019-08-15 20.800          22.018       918.000             36.935   \n",
       "\n",
       "            PricePerformance52Weeks  PricePerformanceYTD  TotalReturn1Yr  \\\n",
       "date                                                                       \n",
       "2019-08-09                    3.131                3.009           4.044   \n",
       "2019-08-12                    3.592                1.749           4.508   \n",
       "2019-08-13                    0.558               -1.230           1.448   \n",
       "2019-08-14                    2.578                0.267           3.485   \n",
       "2019-08-15                   -1.738               -2.772          -0.869   \n",
       "\n",
       "            TotalReturn3Yr  SharesOutstanding  VolumeAvg90Day  \n",
       "date                                                           \n",
       "2019-08-09          14.794            315.993           2.593  \n",
       "2019-08-12          14.099            315.993           2.585  \n",
       "2019-08-13          12.479            315.993           2.605  \n",
       "2019-08-14          13.044            315.993           2.616  \n",
       "2019-08-15          11.891            315.993           2.631  \n",
       "\n",
       "[5 rows x 21 columns]"
      ]
     },
     "execution_count": 21,
     "metadata": {},
     "output_type": "execute_result"
    }
   ],
   "source": [
    "all_symbols = df_performance['sym'].unique()\n",
    "\n",
    "sym_dfs = []\n",
    "sym_num = len(all_symbols)\n",
    "times = np.array([])\n",
    "\n",
    "def cust_interpolate_fill_na(sym):\n",
    "    df = df_performance.query(f\"sym == '{sym}'\")\n",
    "    for col in df.columns:\n",
    "        if col != 'sym':\n",
    "            df[col] = pd.to_numeric(df[col], errors='coerce').interpolate()\n",
    "    sym_dfs.append(df)\n",
    "\n",
    "for num, sym in enumerate(all_symbols):\n",
    "    start = time.time()\n",
    "    cust_interpolate_fill_na(sym)  # Timed function\n",
    "    end = time.time()\n",
    "    time_taken = end-start\n",
    "    times = np.append(times, time_taken)\n",
    "    print(f\"{num+1}/{sym_num} in {time_taken: .2f}s for {sym} :: averaging {times.mean():.2f}s/sym...\", end='\\r')\n",
    "\n",
    "df_performance =  pd.concat(sym_dfs)\n",
    "df_performance.head()"
   ]
  },
  {
   "cell_type": "markdown",
   "metadata": {},
   "source": [
    "#### Dropping the stocks that still have nulls"
   ]
  },
  {
   "cell_type": "code",
   "execution_count": 22,
   "metadata": {
    "ExecuteTime": {
     "end_time": "2021-01-18T22:54:59.459064Z",
     "start_time": "2021-01-18T22:54:57.874883Z"
    }
   },
   "outputs": [
    {
     "name": "stdout",
     "output_type": "stream",
     "text": [
      "Removed  48.96% of the stocks from the data\n",
      "2564 Stocks left vs 5024 before\n"
     ]
    },
    {
     "data": {
      "text/plain": [
       "date                      100.000\n",
       "TotalReturn3Yr            100.000\n",
       "TotalReturn1Yr            100.000\n",
       "PricePerformanceYTD       100.000\n",
       "PricePerformance52Weeks   100.000\n",
       "TotalDebtToEquity         100.000\n",
       "FreeCashFlow              100.000\n",
       "ReturnonEquity            100.000\n",
       "PE                        100.000\n",
       "PriceToCashFlow           100.000\n",
       "EnterpriseValue           100.000\n",
       "PriceToSales              100.000\n",
       "PriceToBook               100.000\n",
       "DividendYield             100.000\n",
       "Dividend                  100.000\n",
       "ExDividendDate            100.000\n",
       "TotalCash                 100.000\n",
       "RevenueTTM                100.000\n",
       "MCAP                      100.000\n",
       "sym                       100.000\n",
       "SharesOutstanding         100.000\n",
       "VolumeAvg90Day            100.000\n",
       "dtype: float64"
      ]
     },
     "execution_count": 22,
     "metadata": {},
     "output_type": "execute_result"
    }
   ],
   "source": [
    "# Make for reference, to see how many stocks get dropped\n",
    "num_stocks = df_performance.reset_index()['sym'].nunique()\n",
    "\n",
    "# Create col_to_fill_then_drop\n",
    "col_to_fill_then_drop = ['sym']\n",
    "col_to_fill_then_drop += list(performance_mins[performance_mins < 0].index)\n",
    "\n",
    "# Make for reference, to see how many stocks get dropped\n",
    "num_stocks = df_performance.reset_index()['sym'].nunique()\n",
    "\n",
    "# Create col_to_fill_then_drop\n",
    "col_to_fill_then_drop = ['sym']\n",
    "col_to_fill_then_drop += list(performance_mins[performance_mins < 0].index)\n",
    "\n",
    "# Create a isna column with counts of NaNs in the given columns\n",
    "df_performance['isna'] = df_performance[col_to_fill_then_drop].isna().sum(axis=1)\n",
    "\n",
    "# Create a variable drop_symbol with a list of symbols that need to be dropped\n",
    "var = df_performance.groupby('sym').sum()\n",
    "drop_symbol = var[var['isna'] > 0].index\n",
    "\n",
    "# Drop the rows with the given symbols\n",
    "df_performance = df_performance.reset_index() \\\n",
    "    [~df_performance.reset_index()['sym'].isin(drop_symbol)]\n",
    "\n",
    "# Drop isna column\n",
    "df_performance.drop('isna', axis=1, inplace=True)\n",
    "\n",
    "# Displays\n",
    "perc_removed = 100 - (df_performance['sym'].nunique() / num_stocks)*100\n",
    "print(f\"Removed {perc_removed: .2f}% of the stocks from the data\")\n",
    "print(df_performance['sym'].nunique(), \"Stocks left vs\", num_stocks, \"before\")\n",
    "get_perc_not_null(df_performance)"
   ]
  },
  {
   "cell_type": "markdown",
   "metadata": {},
   "source": [
    "### Add price to performance"
   ]
  },
  {
   "cell_type": "code",
   "execution_count": 23,
   "metadata": {
    "ExecuteTime": {
     "end_time": "2021-01-18T22:55:00.299225Z",
     "start_time": "2021-01-18T22:54:59.468167Z"
    }
   },
   "outputs": [
    {
     "data": {
      "text/plain": [
       "0"
      ]
     },
     "execution_count": 23,
     "metadata": {},
     "output_type": "execute_result"
    }
   ],
   "source": [
    "df_performance = df_performance.merge(df_prices.reset_index(), on=['date', 'sym'])\n",
    "df_performance.isna().sum().sum()"
   ]
  },
  {
   "cell_type": "markdown",
   "metadata": {},
   "source": [
    "### Apply Splits"
   ]
  },
  {
   "cell_type": "code",
   "execution_count": 24,
   "metadata": {
    "ExecuteTime": {
     "end_time": "2021-01-18T22:55:00.345227Z",
     "start_time": "2021-01-18T22:55:00.303229Z"
    }
   },
   "outputs": [],
   "source": [
    "fresh_df_performance = df_performance.copy(deep=True)\n",
    "#df_performance = fresh_df_performance.copy(deep=True)"
   ]
  },
  {
   "cell_type": "code",
   "execution_count": 25,
   "metadata": {
    "ExecuteTime": {
     "end_time": "2021-01-18T22:55:01.011593Z",
     "start_time": "2021-01-18T22:55:00.348225Z"
    }
   },
   "outputs": [],
   "source": [
    "# Make est_price_unsplit column for calculating how far off the price is than\n",
    "# make an price_est_vs_actual for a reference to calculate if a split is\n",
    "# expected or not\n",
    "df_performance['est_price_unsplit'] = df_performance['MCAP'] / df_performance['SharesOutstanding']\n",
    "df_performance['price_est_vs_actual'] = \\\n",
    "    df_performance['est_price_unsplit'] / df_performance['price']\n",
    "df_performance['split_expected'] = \\\n",
    "    df_performance['price_est_vs_actual'] \\\n",
    "        .map(lambda x:True if ((x > 1.5) | (x < 0.50)) else False)\n",
    "\n",
    "# df_performance.reset_index(inplace=True) ???"
   ]
  },
  {
   "cell_type": "code",
   "execution_count": 26,
   "metadata": {
    "ExecuteTime": {
     "end_time": "2021-01-18T22:55:01.026592Z",
     "start_time": "2021-01-18T22:55:01.014596Z"
    }
   },
   "outputs": [],
   "source": [
    "# df_test = df_performance.loc[((df_performance['MCAP'] > 0) & (df_performance['SharesOutstanding'] > 0) & (df_performance['price'] > 0))].sort_values(by='price_est_vs_actual')\n",
    "# df_test = df_test.loc[df_test['date'] == '2019-08-09']\n",
    "# df_test.groupby('sym')['price_est_vs_actual', 'price', 'est_price_unsplit', 'MCAP', 'SharesOutstanding'].mean().sort_values(by='price_est_vs_actual').head(50).to_csv('./anomaly.csv')"
   ]
  },
  {
   "cell_type": "code",
   "execution_count": 27,
   "metadata": {
    "ExecuteTime": {
     "end_time": "2021-01-18T22:55:01.057594Z",
     "start_time": "2021-01-18T22:55:01.029595Z"
    }
   },
   "outputs": [],
   "source": [
    "df_performance['date'] = pd.to_datetime(df_performance['date'])"
   ]
  },
  {
   "cell_type": "code",
   "execution_count": 28,
   "metadata": {
    "ExecuteTime": {
     "end_time": "2021-01-18T22:56:11.041892Z",
     "start_time": "2021-01-18T22:55:01.060596Z"
    }
   },
   "outputs": [],
   "source": [
    "for idx, row in df_splits.iterrows():\n",
    "    sym = row['sym']\n",
    "    date = row['execute']\n",
    "    apply = row['apply']\n",
    "    row_ids = ((df_performance['sym'] == sym) & (df_performance['date'] < pd.to_datetime(date)))\n",
    "    \n",
    "    df_performance.loc[row_ids, 'price'] = \\\n",
    "        df_performance.loc[row_ids, 'price'] / apply\n",
    "    \n",
    "    date += pd.to_timedelta('1d')\n",
    "    row_ids = ((df_performance['sym'] == sym) & (df_performance['date'] < pd.to_datetime(date)))\n",
    "    row_ids = ((df_performance['sym'] == sym) & (df_performance['date'] < pd.to_datetime(date)))\n",
    "    df_performance.loc[row_ids, 'split_expected'] = False"
   ]
  },
  {
   "cell_type": "code",
   "execution_count": 29,
   "metadata": {
    "ExecuteTime": {
     "end_time": "2021-01-18T22:56:11.088894Z",
     "start_time": "2021-01-18T22:56:11.044894Z"
    }
   },
   "outputs": [
    {
     "data": {
      "text/html": [
       "<div>\n",
       "<style scoped>\n",
       "    .dataframe tbody tr th:only-of-type {\n",
       "        vertical-align: middle;\n",
       "    }\n",
       "\n",
       "    .dataframe tbody tr th {\n",
       "        vertical-align: top;\n",
       "    }\n",
       "\n",
       "    .dataframe thead th {\n",
       "        text-align: right;\n",
       "    }\n",
       "</style>\n",
       "<table border=\"1\" class=\"dataframe\">\n",
       "  <thead>\n",
       "    <tr style=\"text-align: right;\">\n",
       "      <th></th>\n",
       "      <th></th>\n",
       "      <th>MCAP</th>\n",
       "      <th>SharesOutstanding</th>\n",
       "      <th>price</th>\n",
       "      <th>est_price_unsplit</th>\n",
       "      <th>price_est_vs_actual</th>\n",
       "      <th>split_expected</th>\n",
       "    </tr>\n",
       "    <tr>\n",
       "      <th>date</th>\n",
       "      <th>sym</th>\n",
       "      <th></th>\n",
       "      <th></th>\n",
       "      <th></th>\n",
       "      <th></th>\n",
       "      <th></th>\n",
       "      <th></th>\n",
       "    </tr>\n",
       "  </thead>\n",
       "  <tbody>\n",
       "    <tr>\n",
       "      <th>2020-08-28</th>\n",
       "      <th>AAPL</th>\n",
       "      <td>2142140.858</td>\n",
       "      <td>4275.634</td>\n",
       "      <td>124.725</td>\n",
       "      <td>501.011</td>\n",
       "      <td>1.004</td>\n",
       "      <td>False</td>\n",
       "    </tr>\n",
       "    <tr>\n",
       "      <th>2020-08-31</th>\n",
       "      <th>AAPL</th>\n",
       "      <td>534667.717</td>\n",
       "      <td>17102.536</td>\n",
       "      <td>129.040</td>\n",
       "      <td>31.262</td>\n",
       "      <td>0.242</td>\n",
       "      <td>False</td>\n",
       "    </tr>\n",
       "    <tr>\n",
       "      <th>2020-09-01</th>\n",
       "      <th>AAPL</th>\n",
       "      <td>2211197.954</td>\n",
       "      <td>17102.536</td>\n",
       "      <td>134.180</td>\n",
       "      <td>129.291</td>\n",
       "      <td>0.964</td>\n",
       "      <td>False</td>\n",
       "    </tr>\n",
       "  </tbody>\n",
       "</table>\n",
       "</div>"
      ],
      "text/plain": [
       "                       MCAP  SharesOutstanding   price  est_price_unsplit  \\\n",
       "date       sym                                                              \n",
       "2020-08-28 AAPL 2142140.858           4275.634 124.725            501.011   \n",
       "2020-08-31 AAPL  534667.717          17102.536 129.040             31.262   \n",
       "2020-09-01 AAPL 2211197.954          17102.536 134.180            129.291   \n",
       "\n",
       "                 price_est_vs_actual  split_expected  \n",
       "date       sym                                        \n",
       "2020-08-28 AAPL                1.004           False  \n",
       "2020-08-31 AAPL                0.242           False  \n",
       "2020-09-01 AAPL                0.964           False  "
      ]
     },
     "execution_count": 29,
     "metadata": {},
     "output_type": "execute_result"
    }
   ],
   "source": [
    "view_cols = ['date', 'sym', 'MCAP', 'SharesOutstanding', 'price',\n",
    "             'est_price_unsplit', 'price_est_vs_actual', 'split_expected']\n",
    "df_performance.query(\"sym == 'AAPL'\").query(\"date <= '2020-09-01'\") \\\n",
    "    .tail(3)[view_cols].set_index(['date', 'sym'], drop=True)"
   ]
  },
  {
   "cell_type": "markdown",
   "metadata": {},
   "source": [
    "<div class=\"alert alert-info shadow\">\n",
    "  <strong>After the split application:</strong> <br></br>\n",
    "    08-31 was a split day from our split data,  split_expected was true before because of the differences of price and our estimated price.  This is because the <b>MCAP</b> is not accurate on a split day, so we cannot trust that or <b>SharesOutstanding</b> to make accurate predictions, or for calculating actual splits as they are not accurate enough to devise a 1 to 1.05 split.<ul>\n",
    "        <li>We will be removing stocks that still have splits expected due to the lack of ability to calculate the split</li>\n",
    "    <li>We will also be dropping <b>MCAP</b> <b>SharesOutstanding</b> and the other columns we created for split calculations</li>\n",
    "    </ul>\n",
    "</div>"
   ]
  },
  {
   "cell_type": "code",
   "execution_count": 30,
   "metadata": {
    "ExecuteTime": {
     "end_time": "2021-01-18T22:56:11.311897Z",
     "start_time": "2021-01-18T22:56:11.092894Z"
    }
   },
   "outputs": [],
   "source": [
    "drop_symbols = df_performance.query(\"split_expected\")['sym'].unique()\n",
    "\n",
    "# Drop the rows with the given symbols\n",
    "df_performance = df_performance[~df_performance['sym'].isin(drop_symbols)]\n",
    "\n",
    "# Drop the created columns, mcap, and shares outstanding\n",
    "drop_cols = ['est_price_unsplit', 'price_est_vs_actual', 'split_expected', 'SharesOutstanding', 'MCAP']\n",
    "df_performance.drop(drop_cols, axis=1, inplace=True)"
   ]
  },
  {
   "cell_type": "markdown",
   "metadata": {},
   "source": [
    "### Separate out penny stocks"
   ]
  },
  {
   "cell_type": "code",
   "execution_count": 31,
   "metadata": {
    "ExecuteTime": {
     "end_time": "2021-01-18T22:56:11.468892Z",
     "start_time": "2021-01-18T22:56:11.314892Z"
    }
   },
   "outputs": [],
   "source": [
    "df_penny_performance = df_performance.loc[df_performance['price'] < 1]\n",
    "df_performance = df_performance.drop(df_penny_performance.index)"
   ]
  },
  {
   "cell_type": "markdown",
   "metadata": {},
   "source": [
    "### View loss"
   ]
  },
  {
   "cell_type": "code",
   "execution_count": 32,
   "metadata": {
    "ExecuteTime": {
     "end_time": "2021-01-18T22:56:11.606895Z",
     "start_time": "2021-01-18T22:56:11.471894Z"
    }
   },
   "outputs": [
    {
     "name": "stdout",
     "output_type": "stream",
     "text": [
      "2024 / 5024\n",
      "Removed  59.71% of the stocks from the data\n"
     ]
    }
   ],
   "source": [
    "print(df_performance.reset_index()['sym'].nunique(), \"/\", num_stocks)\n",
    "perc_removed = 100 - (df_performance['sym'].nunique() / num_stocks)*100\n",
    "print(f\"Removed {perc_removed: .2f}% of the stocks from the data\")"
   ]
  },
  {
   "cell_type": "markdown",
   "metadata": {},
   "source": [
    "> **Note:** Not including penny stocks\n",
    "\n",
    "<br></br>\n",
    "<div class=\"alert alert-info shadow\">\n",
    "  <strong>60.48%</strong> Of our stocks have now been removed in the hopes of more accurate predictions.  We are left with 2,036 stocks.\n",
    "</div>"
   ]
  },
  {
   "cell_type": "markdown",
   "metadata": {
    "ExecuteTime": {
     "end_time": "2020-11-28T09:41:08.077324Z",
     "start_time": "2020-11-28T09:41:08.066190Z"
    }
   },
   "source": [
    "## Pickle"
   ]
  },
  {
   "cell_type": "code",
   "execution_count": 33,
   "metadata": {
    "ExecuteTime": {
     "end_time": "2021-01-18T22:56:11.872892Z",
     "start_time": "2021-01-18T22:56:11.610893Z"
    }
   },
   "outputs": [],
   "source": [
    "df_performance.to_pickle('./data/performance.pkl')\n",
    "df_penny_performance.to_pickle('./data/penny_performance.pkl')"
   ]
  },
  {
   "cell_type": "code",
   "execution_count": 34,
   "metadata": {
    "ExecuteTime": {
     "end_time": "2021-01-18T22:56:12.148895Z",
     "start_time": "2021-01-18T22:56:11.876893Z"
    }
   },
   "outputs": [
    {
     "data": {
      "text/plain": [
       "0"
      ]
     },
     "execution_count": 34,
     "metadata": {},
     "output_type": "execute_result"
    }
   ],
   "source": [
    "(pd.read_pickle('./data/performance.pkl') != df_performance).sum().sum()"
   ]
  },
  {
   "cell_type": "code",
   "execution_count": 35,
   "metadata": {
    "ExecuteTime": {
     "end_time": "2021-01-18T22:56:12.222893Z",
     "start_time": "2021-01-18T22:56:12.156899Z"
    }
   },
   "outputs": [
    {
     "data": {
      "text/plain": [
       "0"
      ]
     },
     "execution_count": 35,
     "metadata": {},
     "output_type": "execute_result"
    }
   ],
   "source": [
    "(pd.read_pickle('./data/penny_performance.pkl') != df_penny_performance).sum().sum()"
   ]
  },
  {
   "cell_type": "markdown",
   "metadata": {},
   "source": [
    "## Post to sql"
   ]
  },
  {
   "cell_type": "code",
   "execution_count": 36,
   "metadata": {
    "ExecuteTime": {
     "end_time": "2021-01-18T22:56:12.252892Z",
     "start_time": "2021-01-18T22:56:12.225894Z"
    }
   },
   "outputs": [],
   "source": [
    "db_clean = DataBase('stock_cleaned', 14333, 'localhost')"
   ]
  },
  {
   "cell_type": "code",
   "execution_count": 37,
   "metadata": {
    "ExecuteTime": {
     "end_time": "2021-01-18T22:56:25.998815Z",
     "start_time": "2021-01-18T22:56:12.255893Z"
    }
   },
   "outputs": [
    {
     "data": {
      "text/html": [
       "<div>\n",
       "<style scoped>\n",
       "    .dataframe tbody tr th:only-of-type {\n",
       "        vertical-align: middle;\n",
       "    }\n",
       "\n",
       "    .dataframe tbody tr th {\n",
       "        vertical-align: top;\n",
       "    }\n",
       "\n",
       "    .dataframe thead th {\n",
       "        text-align: right;\n",
       "    }\n",
       "</style>\n",
       "<table border=\"1\" class=\"dataframe\">\n",
       "  <thead>\n",
       "    <tr style=\"text-align: right;\">\n",
       "      <th></th>\n",
       "      <th>sym</th>\n",
       "      <th>date</th>\n",
       "      <th>price</th>\n",
       "      <th>RevenueTTM</th>\n",
       "      <th>TotalCash</th>\n",
       "      <th>ExDividendDate</th>\n",
       "      <th>Dividend</th>\n",
       "      <th>DividendYield</th>\n",
       "      <th>PriceToBook</th>\n",
       "      <th>PriceToSales</th>\n",
       "      <th>...</th>\n",
       "      <th>PriceToCashFlow</th>\n",
       "      <th>PE</th>\n",
       "      <th>ReturnonEquity</th>\n",
       "      <th>FreeCashFlow</th>\n",
       "      <th>TotalDebtToEquity</th>\n",
       "      <th>PricePerformance52Weeks</th>\n",
       "      <th>PricePerformanceYTD</th>\n",
       "      <th>TotalReturn1Yr</th>\n",
       "      <th>TotalReturn3Yr</th>\n",
       "      <th>VolumeAvg90Day</th>\n",
       "    </tr>\n",
       "  </thead>\n",
       "  <tbody>\n",
       "    <tr>\n",
       "      <th>0</th>\n",
       "      <td>A</td>\n",
       "      <td>2019-08-09</td>\n",
       "      <td>68.640000</td>\n",
       "      <td>5019</td>\n",
       "      <td>2155</td>\n",
       "      <td>0</td>\n",
       "      <td>0.164</td>\n",
       "      <td>0.94402</td>\n",
       "      <td>4.29809</td>\n",
       "      <td>4.40182</td>\n",
       "      <td>...</td>\n",
       "      <td>16.57368</td>\n",
       "      <td>19.8</td>\n",
       "      <td>23.1598</td>\n",
       "      <td>887</td>\n",
       "      <td>37.29007</td>\n",
       "      <td>3.13149</td>\n",
       "      <td>3.00919</td>\n",
       "      <td>4.04369</td>\n",
       "      <td>14.79356</td>\n",
       "      <td>2.59274</td>\n",
       "    </tr>\n",
       "    <tr>\n",
       "      <th>1</th>\n",
       "      <td>A</td>\n",
       "      <td>2019-08-12</td>\n",
       "      <td>66.780000</td>\n",
       "      <td>5019</td>\n",
       "      <td>2155</td>\n",
       "      <td>0</td>\n",
       "      <td>0.164</td>\n",
       "      <td>0.95571</td>\n",
       "      <td>4.24551</td>\n",
       "      <td>4.34797</td>\n",
       "      <td>...</td>\n",
       "      <td>16.37095</td>\n",
       "      <td>19.2</td>\n",
       "      <td>23.1598</td>\n",
       "      <td>887</td>\n",
       "      <td>37.29007</td>\n",
       "      <td>3.59191</td>\n",
       "      <td>1.74918</td>\n",
       "      <td>4.50818</td>\n",
       "      <td>14.09856</td>\n",
       "      <td>2.58484</td>\n",
       "    </tr>\n",
       "    <tr>\n",
       "      <th>2</th>\n",
       "      <td>A</td>\n",
       "      <td>2019-08-13</td>\n",
       "      <td>67.640000</td>\n",
       "      <td>5019</td>\n",
       "      <td>2155</td>\n",
       "      <td>0</td>\n",
       "      <td>0.164</td>\n",
       "      <td>0.98454</td>\n",
       "      <td>4.12119</td>\n",
       "      <td>4.22065</td>\n",
       "      <td>...</td>\n",
       "      <td>15.89156</td>\n",
       "      <td>19.5</td>\n",
       "      <td>23.1598</td>\n",
       "      <td>887</td>\n",
       "      <td>37.29007</td>\n",
       "      <td>0.55841</td>\n",
       "      <td>-1.23036</td>\n",
       "      <td>1.44784</td>\n",
       "      <td>12.4788</td>\n",
       "      <td>2.60485</td>\n",
       "    </tr>\n",
       "    <tr>\n",
       "      <th>3</th>\n",
       "      <td>A</td>\n",
       "      <td>2019-08-14</td>\n",
       "      <td>65.590000</td>\n",
       "      <td>5019</td>\n",
       "      <td>2155</td>\n",
       "      <td>0</td>\n",
       "      <td>0.164</td>\n",
       "      <td>0.96984</td>\n",
       "      <td>4.18366</td>\n",
       "      <td>4.28463</td>\n",
       "      <td>...</td>\n",
       "      <td>16.13245</td>\n",
       "      <td>18.9</td>\n",
       "      <td>23.1598</td>\n",
       "      <td>887</td>\n",
       "      <td>37.29007</td>\n",
       "      <td>2.5781</td>\n",
       "      <td>0.26682</td>\n",
       "      <td>3.4854</td>\n",
       "      <td>13.04428</td>\n",
       "      <td>2.61616</td>\n",
       "    </tr>\n",
       "    <tr>\n",
       "      <th>4</th>\n",
       "      <td>A</td>\n",
       "      <td>2019-08-15</td>\n",
       "      <td>69.590000</td>\n",
       "      <td>5090</td>\n",
       "      <td>1765</td>\n",
       "      <td>0</td>\n",
       "      <td>0.164</td>\n",
       "      <td>1.00015</td>\n",
       "      <td>4.28332</td>\n",
       "      <td>4.06782</td>\n",
       "      <td>...</td>\n",
       "      <td>16.05056</td>\n",
       "      <td>20.8</td>\n",
       "      <td>22.0179</td>\n",
       "      <td>918</td>\n",
       "      <td>36.93453</td>\n",
       "      <td>-1.73783</td>\n",
       "      <td>-2.77201</td>\n",
       "      <td>-0.8687</td>\n",
       "      <td>11.89052</td>\n",
       "      <td>2.63078</td>\n",
       "    </tr>\n",
       "    <tr>\n",
       "      <th>...</th>\n",
       "      <td>...</td>\n",
       "      <td>...</td>\n",
       "      <td>...</td>\n",
       "      <td>...</td>\n",
       "      <td>...</td>\n",
       "      <td>...</td>\n",
       "      <td>...</td>\n",
       "      <td>...</td>\n",
       "      <td>...</td>\n",
       "      <td>...</td>\n",
       "      <td>...</td>\n",
       "      <td>...</td>\n",
       "      <td>...</td>\n",
       "      <td>...</td>\n",
       "      <td>...</td>\n",
       "      <td>...</td>\n",
       "      <td>...</td>\n",
       "      <td>...</td>\n",
       "      <td>...</td>\n",
       "      <td>...</td>\n",
       "      <td>...</td>\n",
       "    </tr>\n",
       "    <tr>\n",
       "      <th>708992</th>\n",
       "      <td>ZYXI</td>\n",
       "      <td>2020-12-18</td>\n",
       "      <td>14.000000</td>\n",
       "      <td>68.679</td>\n",
       "      <td>41.229</td>\n",
       "      <td>0</td>\n",
       "      <td>0</td>\n",
       "      <td>0</td>\n",
       "      <td>9.11422</td>\n",
       "      <td>6.95299</td>\n",
       "      <td>...</td>\n",
       "      <td>41.66155</td>\n",
       "      <td>46.7</td>\n",
       "      <td>32.8813</td>\n",
       "      <td>3.825</td>\n",
       "      <td>17.03027</td>\n",
       "      <td>65.69767</td>\n",
       "      <td>81.06734</td>\n",
       "      <td>65.69767</td>\n",
       "      <td>70.90569</td>\n",
       "      <td>0.6967</td>\n",
       "    </tr>\n",
       "    <tr>\n",
       "      <th>708993</th>\n",
       "      <td>ZYXI</td>\n",
       "      <td>2020-12-21</td>\n",
       "      <td>13.940000</td>\n",
       "      <td>68.679</td>\n",
       "      <td>41.229</td>\n",
       "      <td>0</td>\n",
       "      <td>0</td>\n",
       "      <td>0</td>\n",
       "      <td>8.95432</td>\n",
       "      <td>6.83101</td>\n",
       "      <td>...</td>\n",
       "      <td>40.93065</td>\n",
       "      <td>46.5</td>\n",
       "      <td>32.8813</td>\n",
       "      <td>3.825</td>\n",
       "      <td>17.03027</td>\n",
       "      <td>74.78152</td>\n",
       "      <td>77.89072</td>\n",
       "      <td>74.78152</td>\n",
       "      <td>69.51552</td>\n",
       "      <td>0.69512</td>\n",
       "    </tr>\n",
       "    <tr>\n",
       "      <th>708994</th>\n",
       "      <td>ZYXI</td>\n",
       "      <td>2020-12-22</td>\n",
       "      <td>14.190000</td>\n",
       "      <td>68.679</td>\n",
       "      <td>41.229</td>\n",
       "      <td>0</td>\n",
       "      <td>0</td>\n",
       "      <td>0</td>\n",
       "      <td>8.91594</td>\n",
       "      <td>6.80174</td>\n",
       "      <td>...</td>\n",
       "      <td>40.75523</td>\n",
       "      <td>47.3</td>\n",
       "      <td>32.8813</td>\n",
       "      <td>3.825</td>\n",
       "      <td>17.03027</td>\n",
       "      <td>82.69987</td>\n",
       "      <td>77.12834</td>\n",
       "      <td>82.69987</td>\n",
       "      <td>68.32733</td>\n",
       "      <td>0.69307</td>\n",
       "    </tr>\n",
       "    <tr>\n",
       "      <th>708995</th>\n",
       "      <td>ZYXI</td>\n",
       "      <td>2020-12-23</td>\n",
       "      <td>13.810000</td>\n",
       "      <td>68.679</td>\n",
       "      <td>41.229</td>\n",
       "      <td>0</td>\n",
       "      <td>0</td>\n",
       "      <td>0</td>\n",
       "      <td>9.07584</td>\n",
       "      <td>6.92372</td>\n",
       "      <td>...</td>\n",
       "      <td>41.48613</td>\n",
       "      <td>46</td>\n",
       "      <td>32.8813</td>\n",
       "      <td>3.825</td>\n",
       "      <td>17.03027</td>\n",
       "      <td>85.97641</td>\n",
       "      <td>80.30496</td>\n",
       "      <td>85.97641</td>\n",
       "      <td>67.30726</td>\n",
       "      <td>0.688</td>\n",
       "    </tr>\n",
       "    <tr>\n",
       "      <th>708996</th>\n",
       "      <td>ZYXI</td>\n",
       "      <td>2020-12-24</td>\n",
       "      <td>13.670000</td>\n",
       "      <td>68.679</td>\n",
       "      <td>41.229</td>\n",
       "      <td>0</td>\n",
       "      <td>0</td>\n",
       "      <td>0</td>\n",
       "      <td>8.8328</td>\n",
       "      <td>6.7383</td>\n",
       "      <td>...</td>\n",
       "      <td>40.37516</td>\n",
       "      <td>45.6</td>\n",
       "      <td>32.8813</td>\n",
       "      <td>3.825</td>\n",
       "      <td>17.03027</td>\n",
       "      <td>73.05764</td>\n",
       "      <td>75.47649</td>\n",
       "      <td>73.05764</td>\n",
       "      <td>65.80026</td>\n",
       "      <td>0.68505</td>\n",
       "    </tr>\n",
       "  </tbody>\n",
       "</table>\n",
       "<p>708997 rows × 21 columns</p>\n",
       "</div>"
      ],
      "text/plain": [
       "         sym        date      price RevenueTTM TotalCash ExDividendDate  \\\n",
       "0          A  2019-08-09  68.640000       5019      2155              0   \n",
       "1          A  2019-08-12  66.780000       5019      2155              0   \n",
       "2          A  2019-08-13  67.640000       5019      2155              0   \n",
       "3          A  2019-08-14  65.590000       5019      2155              0   \n",
       "4          A  2019-08-15  69.590000       5090      1765              0   \n",
       "...      ...         ...        ...        ...       ...            ...   \n",
       "708992  ZYXI  2020-12-18  14.000000     68.679    41.229              0   \n",
       "708993  ZYXI  2020-12-21  13.940000     68.679    41.229              0   \n",
       "708994  ZYXI  2020-12-22  14.190000     68.679    41.229              0   \n",
       "708995  ZYXI  2020-12-23  13.810000     68.679    41.229              0   \n",
       "708996  ZYXI  2020-12-24  13.670000     68.679    41.229              0   \n",
       "\n",
       "       Dividend DividendYield PriceToBook PriceToSales  ... PriceToCashFlow  \\\n",
       "0         0.164       0.94402     4.29809      4.40182  ...        16.57368   \n",
       "1         0.164       0.95571     4.24551      4.34797  ...        16.37095   \n",
       "2         0.164       0.98454     4.12119      4.22065  ...        15.89156   \n",
       "3         0.164       0.96984     4.18366      4.28463  ...        16.13245   \n",
       "4         0.164       1.00015     4.28332      4.06782  ...        16.05056   \n",
       "...         ...           ...         ...          ...  ...             ...   \n",
       "708992        0             0     9.11422      6.95299  ...        41.66155   \n",
       "708993        0             0     8.95432      6.83101  ...        40.93065   \n",
       "708994        0             0     8.91594      6.80174  ...        40.75523   \n",
       "708995        0             0     9.07584      6.92372  ...        41.48613   \n",
       "708996        0             0      8.8328       6.7383  ...        40.37516   \n",
       "\n",
       "          PE ReturnonEquity FreeCashFlow TotalDebtToEquity  \\\n",
       "0       19.8        23.1598          887          37.29007   \n",
       "1       19.2        23.1598          887          37.29007   \n",
       "2       19.5        23.1598          887          37.29007   \n",
       "3       18.9        23.1598          887          37.29007   \n",
       "4       20.8        22.0179          918          36.93453   \n",
       "...      ...            ...          ...               ...   \n",
       "708992  46.7        32.8813        3.825          17.03027   \n",
       "708993  46.5        32.8813        3.825          17.03027   \n",
       "708994  47.3        32.8813        3.825          17.03027   \n",
       "708995    46        32.8813        3.825          17.03027   \n",
       "708996  45.6        32.8813        3.825          17.03027   \n",
       "\n",
       "       PricePerformance52Weeks PricePerformanceYTD TotalReturn1Yr  \\\n",
       "0                      3.13149             3.00919        4.04369   \n",
       "1                      3.59191             1.74918        4.50818   \n",
       "2                      0.55841            -1.23036        1.44784   \n",
       "3                       2.5781             0.26682         3.4854   \n",
       "4                     -1.73783            -2.77201        -0.8687   \n",
       "...                        ...                 ...            ...   \n",
       "708992                65.69767            81.06734       65.69767   \n",
       "708993                74.78152            77.89072       74.78152   \n",
       "708994                82.69987            77.12834       82.69987   \n",
       "708995                85.97641            80.30496       85.97641   \n",
       "708996                73.05764            75.47649       73.05764   \n",
       "\n",
       "       TotalReturn3Yr VolumeAvg90Day  \n",
       "0            14.79356        2.59274  \n",
       "1            14.09856        2.58484  \n",
       "2             12.4788        2.60485  \n",
       "3            13.04428        2.61616  \n",
       "4            11.89052        2.63078  \n",
       "...               ...            ...  \n",
       "708992       70.90569         0.6967  \n",
       "708993       69.51552        0.69512  \n",
       "708994       68.32733        0.69307  \n",
       "708995       67.30726          0.688  \n",
       "708996       65.80026        0.68505  \n",
       "\n",
       "[708997 rows x 21 columns]"
      ]
     },
     "execution_count": 37,
     "metadata": {},
     "output_type": "execute_result"
    }
   ],
   "source": [
    "db_clean.pull_names_as_dataframes(['penny_performance', 'performance'])\n",
    "db_clean.frames['performance']"
   ]
  },
  {
   "cell_type": "markdown",
   "metadata": {},
   "source": [
    "#### Performance"
   ]
  },
  {
   "cell_type": "code",
   "execution_count": 38,
   "metadata": {
    "ExecuteTime": {
     "end_time": "2021-01-18T22:58:38.839681Z",
     "start_time": "2021-01-18T22:56:26.001815Z"
    }
   },
   "outputs": [],
   "source": [
    "# Make query list\n",
    "query_list = []\n",
    "for idx, row in df_performance.iterrows():\n",
    "    query_list.append(tuple(row.to_dict().values()))\n",
    "\n",
    "# Execute\n",
    "db_clean.cur.executemany(\"\"\"\n",
    "REPLACE INTO performance (date, sym, RevenueTTM, TotalCash, ExDividendDate,\n",
    "                    Dividend, DividendYield, PriceToBook, PriceToSales,\n",
    "                    EnterpriseValue, PriceToCashFlow, PE, ReturnonEquity,\n",
    "                    FreeCashFlow, TotalDebtToEquity, PricePerformance52Weeks,\n",
    "                    PricePerformanceYTD, TotalReturn1Yr, TotalReturn3Yr,\n",
    "                    VolumeAvg90Day, price)\n",
    "VALUES (%s, %s, %s, %s, %s, %s, %s, %s, %s, %s, %s, %s, %s, %s, %s, %s, %s, %s, %s, %s, %s)\"\"\",\n",
    "      query_list)\n",
    "\n",
    "# commit\n",
    "db_clean.conn.commit()"
   ]
  },
  {
   "cell_type": "markdown",
   "metadata": {},
   "source": [
    "#### Penny"
   ]
  },
  {
   "cell_type": "code",
   "execution_count": 39,
   "metadata": {
    "ExecuteTime": {
     "end_time": "2021-01-18T22:58:45.530532Z",
     "start_time": "2021-01-18T22:58:38.841683Z"
    }
   },
   "outputs": [],
   "source": [
    "# Make query list\n",
    "query_list_penny = []\n",
    "for idx, row in df_penny_performance.iterrows():\n",
    "    query_list_penny.append(tuple(row.to_dict().values()))\n",
    "    \n",
    "db_clean.cur.executemany(\"\"\"\n",
    "REPLACE INTO penny_performance (date, sym, RevenueTTM, TotalCash, ExDividendDate,\n",
    "                    Dividend, DividendYield, PriceToBook, PriceToSales,\n",
    "                    EnterpriseValue, PriceToCashFlow, PE, ReturnonEquity,\n",
    "                    FreeCashFlow, TotalDebtToEquity, PricePerformance52Weeks,\n",
    "                    PricePerformanceYTD, TotalReturn1Yr, TotalReturn3Yr,\n",
    "                    VolumeAvg90Day, price)\n",
    "VALUES (%s, %s, %s, %s, %s, %s, %s, %s, %s, %s, %s, %s, %s, %s, %s, %s, %s, %s, %s, %s, %s)\"\"\",\n",
    "      query_list_penny)\n",
    "\n",
    "db_clean.conn.commit()"
   ]
  },
  {
   "cell_type": "markdown",
   "metadata": {},
   "source": [
    "> Mostly equal other than rounding errors.  Good to go!"
   ]
  },
  {
   "cell_type": "markdown",
   "metadata": {},
   "source": [
    "# Prices 2.0 with splits"
   ]
  },
  {
   "cell_type": "code",
   "execution_count": 40,
   "metadata": {
    "ExecuteTime": {
     "end_time": "2021-01-18T22:58:45.733534Z",
     "start_time": "2021-01-18T22:58:45.532533Z"
    }
   },
   "outputs": [],
   "source": [
    "df_prices = pd.concat([df_performance, df_penny_performance])[['date', 'sym', 'price']].copy()"
   ]
  },
  {
   "cell_type": "code",
   "execution_count": 41,
   "metadata": {
    "ExecuteTime": {
     "end_time": "2021-01-18T22:58:46.001532Z",
     "start_time": "2021-01-18T22:58:45.736538Z"
    }
   },
   "outputs": [],
   "source": [
    "df_prices = df_prices.set_index(['sym', 'date'], drop=True).sort_index().reset_index().set_index(['date'], drop=True)"
   ]
  },
  {
   "cell_type": "markdown",
   "metadata": {},
   "source": [
    "## Post to sql"
   ]
  },
  {
   "cell_type": "code",
   "execution_count": 42,
   "metadata": {
    "ExecuteTime": {
     "end_time": "2021-01-18T22:58:46.128531Z",
     "start_time": "2021-01-18T22:58:46.003531Z"
    }
   },
   "outputs": [],
   "source": [
    "# Reindex for entry\n",
    "df_prices = df_prices.reset_index().set_index(['sym', 'date'], drop=True)"
   ]
  },
  {
   "cell_type": "code",
   "execution_count": 43,
   "metadata": {
    "ExecuteTime": {
     "end_time": "2021-01-18T23:00:03.935985Z",
     "start_time": "2021-01-18T22:58:46.130532Z"
    }
   },
   "outputs": [],
   "source": [
    "# Open database cleaned\n",
    "db_clean = DataBase('stock_cleaned', 14333, 'localhost')\n",
    "db_clean.pull_names_as_dataframes(['prices'])\n",
    "db_clean.frames['prices']\n",
    "\n",
    "# Make list of queries to post to sql\n",
    "query_list = []\n",
    "for idx, row in df_prices.reset_index().iterrows():\n",
    "    query_list.append(tuple(row.to_dict().values()))\n",
    "\n",
    "# Execute query\n",
    "db_clean.cur.executemany(\"\"\"\n",
    "REPLACE INTO prices (sym, date, price)\n",
    "VALUES (%s, %s, %s)\"\"\",\n",
    "      query_list)\n",
    "\n",
    "# Commit\n",
    "db_clean.conn.commit()\n",
    "\n",
    "# Close db\n",
    "db_clean.conn.close()"
   ]
  },
  {
   "cell_type": "markdown",
   "metadata": {
    "ExecuteTime": {
     "end_time": "2020-11-28T09:41:08.077324Z",
     "start_time": "2020-11-28T09:41:08.066190Z"
    }
   },
   "source": [
    "## Pickle"
   ]
  },
  {
   "cell_type": "code",
   "execution_count": 44,
   "metadata": {
    "ExecuteTime": {
     "end_time": "2021-01-18T23:00:04.117985Z",
     "start_time": "2021-01-18T23:00:03.936985Z"
    }
   },
   "outputs": [],
   "source": [
    "# Pickle because of 30 minute runtime.  Need to find a faster way...\n",
    "df_prices.to_pickle(\"./data/prices.pkl\")\n",
    "\n",
    "# Assert pickle\n",
    "assert (len(df_prices) == (df_prices == pd.read_pickle(\"./data/prices.pkl\")).sum()).values[0]"
   ]
  },
  {
   "cell_type": "code",
   "execution_count": 45,
   "metadata": {
    "ExecuteTime": {
     "end_time": "2021-01-18T23:00:04.180984Z",
     "start_time": "2021-01-18T23:00:04.119986Z"
    }
   },
   "outputs": [],
   "source": [
    "df_prices = pd.read_pickle(\"./data/prices.pkl\")\n",
    "df_prices = df_prices.reset_index().set_index(['date'])\n",
    "df_prices.index = pd.to_datetime(df_prices.index)"
   ]
  },
  {
   "cell_type": "markdown",
   "metadata": {
    "ExecuteTime": {
     "end_time": "2020-11-28T09:40:27.072118Z",
     "start_time": "2020-11-28T09:40:27.057119Z"
    }
   },
   "source": [
    "# Company"
   ]
  },
  {
   "cell_type": "markdown",
   "metadata": {},
   "source": [
    "## Clean for new sql"
   ]
  },
  {
   "cell_type": "code",
   "execution_count": 46,
   "metadata": {
    "ExecuteTime": {
     "end_time": "2021-01-18T23:00:04.211985Z",
     "start_time": "2021-01-18T23:00:04.182985Z"
    }
   },
   "outputs": [
    {
     "data": {
      "text/html": [
       "<div>\n",
       "<style scoped>\n",
       "    .dataframe tbody tr th:only-of-type {\n",
       "        vertical-align: middle;\n",
       "    }\n",
       "\n",
       "    .dataframe tbody tr th {\n",
       "        vertical-align: top;\n",
       "    }\n",
       "\n",
       "    .dataframe thead th {\n",
       "        text-align: right;\n",
       "    }\n",
       "</style>\n",
       "<table border=\"1\" class=\"dataframe\">\n",
       "  <thead>\n",
       "    <tr style=\"text-align: right;\">\n",
       "      <th></th>\n",
       "      <th>company</th>\n",
       "      <th>securityType</th>\n",
       "      <th>sector</th>\n",
       "      <th>industry</th>\n",
       "      <th>subIndustry</th>\n",
       "      <th>Exchange</th>\n",
       "      <th>DJIA</th>\n",
       "      <th>NASDAQ100</th>\n",
       "      <th>SP500</th>\n",
       "    </tr>\n",
       "    <tr>\n",
       "      <th>sym</th>\n",
       "      <th></th>\n",
       "      <th></th>\n",
       "      <th></th>\n",
       "      <th></th>\n",
       "      <th></th>\n",
       "      <th></th>\n",
       "      <th></th>\n",
       "      <th></th>\n",
       "      <th></th>\n",
       "    </tr>\n",
       "  </thead>\n",
       "  <tbody>\n",
       "    <tr>\n",
       "      <th>A</th>\n",
       "      <td>Agilent Technologies Inc</td>\n",
       "      <td>CS</td>\n",
       "      <td>Health Care</td>\n",
       "      <td>Life Sciences Tools &amp; Services</td>\n",
       "      <td>Life Sciences Tools &amp; Services</td>\n",
       "      <td>NYSE</td>\n",
       "      <td>0</td>\n",
       "      <td>0</td>\n",
       "      <td>1</td>\n",
       "    </tr>\n",
       "    <tr>\n",
       "      <th>AA</th>\n",
       "      <td>Alcoa Corp</td>\n",
       "      <td>CS</td>\n",
       "      <td>Materials</td>\n",
       "      <td>Metals &amp; Mining</td>\n",
       "      <td>Aluminum</td>\n",
       "      <td>NYSE</td>\n",
       "      <td>0</td>\n",
       "      <td>0</td>\n",
       "      <td>0</td>\n",
       "    </tr>\n",
       "    <tr>\n",
       "      <th>AABA</th>\n",
       "      <td>Altaba Inc</td>\n",
       "      <td>CS</td>\n",
       "      <td>Consumer Discretionary</td>\n",
       "      <td>Internet &amp; Direct Marketing Retail</td>\n",
       "      <td>Internet &amp; Direct Marketing Retail</td>\n",
       "      <td>NASDAQ</td>\n",
       "      <td>0</td>\n",
       "      <td>0</td>\n",
       "      <td>0</td>\n",
       "    </tr>\n",
       "    <tr>\n",
       "      <th>AAC</th>\n",
       "      <td>AAC Holdings Inc</td>\n",
       "      <td>CS</td>\n",
       "      <td>Health Care</td>\n",
       "      <td>Health Care Providers &amp; Services</td>\n",
       "      <td>Health Care Facilities</td>\n",
       "      <td>NYSE</td>\n",
       "      <td>0</td>\n",
       "      <td>0</td>\n",
       "      <td>0</td>\n",
       "    </tr>\n",
       "    <tr>\n",
       "      <th>AACG</th>\n",
       "      <td>ATA Creativity Global</td>\n",
       "      <td>DR</td>\n",
       "      <td>Consumer Discretionary</td>\n",
       "      <td>Diversified Consumer Services</td>\n",
       "      <td>Education Services</td>\n",
       "      <td>NASDAQ</td>\n",
       "      <td>0</td>\n",
       "      <td>0</td>\n",
       "      <td>0</td>\n",
       "    </tr>\n",
       "  </tbody>\n",
       "</table>\n",
       "</div>"
      ],
      "text/plain": [
       "                       company securityType                  sector  \\\n",
       "sym                                                                   \n",
       "A     Agilent Technologies Inc           CS             Health Care   \n",
       "AA                  Alcoa Corp           CS               Materials   \n",
       "AABA                Altaba Inc           CS  Consumer Discretionary   \n",
       "AAC           AAC Holdings Inc           CS             Health Care   \n",
       "AACG     ATA Creativity Global           DR  Consumer Discretionary   \n",
       "\n",
       "                                industry                         subIndustry  \\\n",
       "sym                                                                            \n",
       "A         Life Sciences Tools & Services      Life Sciences Tools & Services   \n",
       "AA                       Metals & Mining                            Aluminum   \n",
       "AABA  Internet & Direct Marketing Retail  Internet & Direct Marketing Retail   \n",
       "AAC     Health Care Providers & Services              Health Care Facilities   \n",
       "AACG       Diversified Consumer Services                  Education Services   \n",
       "\n",
       "     Exchange DJIA NASDAQ100 SP500  \n",
       "sym                                 \n",
       "A        NYSE    0         0     1  \n",
       "AA       NYSE    0         0     0  \n",
       "AABA   NASDAQ    0         0     0  \n",
       "AAC      NYSE    0         0     0  \n",
       "AACG   NASDAQ    0         0     0  "
      ]
     },
     "execution_count": 46,
     "metadata": {},
     "output_type": "execute_result"
    }
   ],
   "source": [
    "df_company = db.frames['company'].copy(deep=True)\n",
    "\n",
    "# Resetting date index and dropping index\n",
    "df_company.set_index('sym', inplace=True, drop=True)\n",
    "\n",
    "df_company.drop('date', inplace=True, axis=1)\n",
    "\n",
    "df_company.replace(['', '--'], np.NaN, inplace=True)\n",
    "df_company.head()"
   ]
  },
  {
   "cell_type": "code",
   "execution_count": 47,
   "metadata": {
    "ExecuteTime": {
     "end_time": "2021-01-18T23:00:04.241984Z",
     "start_time": "2021-01-18T23:00:04.213986Z"
    }
   },
   "outputs": [
    {
     "data": {
      "text/plain": [
       "company         7546\n",
       "securityType       6\n",
       "sector            11\n",
       "industry          71\n",
       "subIndustry      161\n",
       "Exchange           4\n",
       "DJIA               2\n",
       "NASDAQ100          2\n",
       "SP500              2\n",
       "dtype: int64"
      ]
     },
     "execution_count": 47,
     "metadata": {},
     "output_type": "execute_result"
    }
   ],
   "source": [
    "df_company.nunique()"
   ]
  },
  {
   "cell_type": "code",
   "execution_count": 48,
   "metadata": {
    "ExecuteTime": {
     "end_time": "2021-01-18T23:00:04.257984Z",
     "start_time": "2021-01-18T23:00:04.243985Z"
    }
   },
   "outputs": [
    {
     "data": {
      "text/plain": [
       "8196"
      ]
     },
     "execution_count": 48,
     "metadata": {},
     "output_type": "execute_result"
    }
   ],
   "source": [
    "len(df_company)"
   ]
  },
  {
   "cell_type": "code",
   "execution_count": 49,
   "metadata": {
    "ExecuteTime": {
     "end_time": "2021-01-18T23:00:04.273984Z",
     "start_time": "2021-01-18T23:00:04.259985Z"
    }
   },
   "outputs": [
    {
     "data": {
      "text/plain": [
       "company            0\n",
       "securityType       6\n",
       "sector          1103\n",
       "industry        1103\n",
       "subIndustry     1103\n",
       "Exchange          42\n",
       "DJIA               0\n",
       "NASDAQ100          0\n",
       "SP500              0\n",
       "dtype: int64"
      ]
     },
     "execution_count": 49,
     "metadata": {},
     "output_type": "execute_result"
    }
   ],
   "source": [
    "df_company.isna().sum()"
   ]
  },
  {
   "cell_type": "code",
   "execution_count": 50,
   "metadata": {
    "ExecuteTime": {
     "end_time": "2021-01-18T23:00:04.289984Z",
     "start_time": "2021-01-18T23:00:04.275986Z"
    }
   },
   "outputs": [],
   "source": [
    "df_company = df_company.fillna('unknown')"
   ]
  },
  {
   "cell_type": "code",
   "execution_count": 51,
   "metadata": {
    "ExecuteTime": {
     "end_time": "2021-01-18T23:00:04.305985Z",
     "start_time": "2021-01-18T23:00:04.290985Z"
    }
   },
   "outputs": [
    {
     "data": {
      "text/plain": [
       "company         0\n",
       "securityType    0\n",
       "sector          0\n",
       "industry        0\n",
       "subIndustry     0\n",
       "Exchange        0\n",
       "DJIA            0\n",
       "NASDAQ100       0\n",
       "SP500           0\n",
       "dtype: int64"
      ]
     },
     "execution_count": 51,
     "metadata": {},
     "output_type": "execute_result"
    }
   ],
   "source": [
    "\n",
    "df_company.isna().sum()"
   ]
  },
  {
   "cell_type": "code",
   "execution_count": 52,
   "metadata": {
    "ExecuteTime": {
     "end_time": "2021-01-18T23:00:04.385987Z",
     "start_time": "2021-01-18T23:00:04.307985Z"
    }
   },
   "outputs": [],
   "source": [
    "all_symbols = df_performance.reset_index()['sym'].unique()"
   ]
  },
  {
   "cell_type": "code",
   "execution_count": 53,
   "metadata": {
    "ExecuteTime": {
     "end_time": "2021-01-18T23:00:04.401986Z",
     "start_time": "2021-01-18T23:00:04.387988Z"
    }
   },
   "outputs": [],
   "source": [
    "df_company = df_company[df_company.index.isin(all_symbols)]"
   ]
  },
  {
   "cell_type": "code",
   "execution_count": 54,
   "metadata": {
    "ExecuteTime": {
     "end_time": "2021-01-18T23:00:04.416986Z",
     "start_time": "2021-01-18T23:00:04.403987Z"
    }
   },
   "outputs": [],
   "source": [
    "df_company.to_pickle('./data/company.pkl')"
   ]
  },
  {
   "cell_type": "markdown",
   "metadata": {
    "ExecuteTime": {
     "end_time": "2020-11-28T09:40:27.088116Z",
     "start_time": "2020-11-28T09:40:27.073117Z"
    }
   },
   "source": [
    "# Analyst"
   ]
  },
  {
   "cell_type": "code",
   "execution_count": 55,
   "metadata": {
    "ExecuteTime": {
     "end_time": "2021-01-18T23:00:10.143406Z",
     "start_time": "2021-01-18T23:00:04.418985Z"
    }
   },
   "outputs": [
    {
     "data": {
      "text/html": [
       "<div>\n",
       "<style scoped>\n",
       "    .dataframe tbody tr th:only-of-type {\n",
       "        vertical-align: middle;\n",
       "    }\n",
       "\n",
       "    .dataframe tbody tr th {\n",
       "        vertical-align: top;\n",
       "    }\n",
       "\n",
       "    .dataframe thead th {\n",
       "        text-align: right;\n",
       "    }\n",
       "</style>\n",
       "<table border=\"1\" class=\"dataframe\">\n",
       "  <thead>\n",
       "    <tr style=\"text-align: right;\">\n",
       "      <th></th>\n",
       "      <th>sym</th>\n",
       "      <th>Argus</th>\n",
       "      <th>StarMine</th>\n",
       "      <th>ColumbineCapital</th>\n",
       "      <th>FordEquityResearch</th>\n",
       "      <th>ISSEVA</th>\n",
       "      <th>Jefferson</th>\n",
       "      <th>McLeanCapital</th>\n",
       "      <th>NedDavis</th>\n",
       "      <th>TradingCentral</th>\n",
       "      <th>Zacks</th>\n",
       "      <th>SPValuation</th>\n",
       "      <th>SPQuality</th>\n",
       "      <th>SPGrowthStability</th>\n",
       "      <th>SPFinancialHealth</th>\n",
       "      <th>ThomsonReutersVerus</th>\n",
       "      <th>ThomsonReutersIBES</th>\n",
       "    </tr>\n",
       "    <tr>\n",
       "      <th>date</th>\n",
       "      <th></th>\n",
       "      <th></th>\n",
       "      <th></th>\n",
       "      <th></th>\n",
       "      <th></th>\n",
       "      <th></th>\n",
       "      <th></th>\n",
       "      <th></th>\n",
       "      <th></th>\n",
       "      <th></th>\n",
       "      <th></th>\n",
       "      <th></th>\n",
       "      <th></th>\n",
       "      <th></th>\n",
       "      <th></th>\n",
       "      <th></th>\n",
       "      <th></th>\n",
       "    </tr>\n",
       "  </thead>\n",
       "  <tbody>\n",
       "    <tr>\n",
       "      <th>2019-06-04</th>\n",
       "      <td>A</td>\n",
       "      <td>NaN</td>\n",
       "      <td>NaN</td>\n",
       "      <td>1</td>\n",
       "      <td>3</td>\n",
       "      <td>70</td>\n",
       "      <td>Buy</td>\n",
       "      <td>Neutral</td>\n",
       "      <td>NEUTRAL</td>\n",
       "      <td>NaN</td>\n",
       "      <td>HOLD</td>\n",
       "      <td>92</td>\n",
       "      <td>75</td>\n",
       "      <td>7</td>\n",
       "      <td>85</td>\n",
       "      <td>HOLD</td>\n",
       "      <td>1.714</td>\n",
       "    </tr>\n",
       "    <tr>\n",
       "      <th>2019-06-08</th>\n",
       "      <td>A</td>\n",
       "      <td>NaN</td>\n",
       "      <td>NaN</td>\n",
       "      <td>1</td>\n",
       "      <td>3</td>\n",
       "      <td>70</td>\n",
       "      <td>Buy</td>\n",
       "      <td>Neutral</td>\n",
       "      <td>NEUTRAL</td>\n",
       "      <td>NaN</td>\n",
       "      <td>BUY</td>\n",
       "      <td>93</td>\n",
       "      <td>74</td>\n",
       "      <td>6</td>\n",
       "      <td>85</td>\n",
       "      <td>HOLD</td>\n",
       "      <td>1.8</td>\n",
       "    </tr>\n",
       "    <tr>\n",
       "      <th>2019-06-17</th>\n",
       "      <td>A</td>\n",
       "      <td>NaN</td>\n",
       "      <td>9.4</td>\n",
       "      <td>1</td>\n",
       "      <td>3</td>\n",
       "      <td>70</td>\n",
       "      <td>1</td>\n",
       "      <td>3</td>\n",
       "      <td>NEUTRAL</td>\n",
       "      <td>3</td>\n",
       "      <td>BUY</td>\n",
       "      <td>93</td>\n",
       "      <td>74</td>\n",
       "      <td>7</td>\n",
       "      <td>85</td>\n",
       "      <td>HOLD</td>\n",
       "      <td>1.813</td>\n",
       "    </tr>\n",
       "    <tr>\n",
       "      <th>2019-06-19</th>\n",
       "      <td>A</td>\n",
       "      <td>NaN</td>\n",
       "      <td>9.4</td>\n",
       "      <td>1</td>\n",
       "      <td>3</td>\n",
       "      <td>70</td>\n",
       "      <td>1</td>\n",
       "      <td>3</td>\n",
       "      <td>NEUTRAL</td>\n",
       "      <td>3</td>\n",
       "      <td>HOLD</td>\n",
       "      <td>93</td>\n",
       "      <td>75</td>\n",
       "      <td>7</td>\n",
       "      <td>85</td>\n",
       "      <td>HOLD</td>\n",
       "      <td>1.813</td>\n",
       "    </tr>\n",
       "    <tr>\n",
       "      <th>2019-06-20</th>\n",
       "      <td>A</td>\n",
       "      <td>NaN</td>\n",
       "      <td>7</td>\n",
       "      <td>1</td>\n",
       "      <td>3</td>\n",
       "      <td>70</td>\n",
       "      <td>1</td>\n",
       "      <td>3</td>\n",
       "      <td>NEUTRAL</td>\n",
       "      <td>3</td>\n",
       "      <td>HOLD</td>\n",
       "      <td>93</td>\n",
       "      <td>75</td>\n",
       "      <td>7</td>\n",
       "      <td>85</td>\n",
       "      <td>HOLD</td>\n",
       "      <td>1.813</td>\n",
       "    </tr>\n",
       "  </tbody>\n",
       "</table>\n",
       "</div>"
      ],
      "text/plain": [
       "           sym Argus StarMine ColumbineCapital FordEquityResearch ISSEVA  \\\n",
       "date                                                                       \n",
       "2019-06-04   A   NaN      NaN                1                  3     70   \n",
       "2019-06-08   A   NaN      NaN                1                  3     70   \n",
       "2019-06-17   A   NaN      9.4                1                  3     70   \n",
       "2019-06-19   A   NaN      9.4                1                  3     70   \n",
       "2019-06-20   A   NaN        7                1                  3     70   \n",
       "\n",
       "           Jefferson McLeanCapital NedDavis TradingCentral Zacks SPValuation  \\\n",
       "date                                                                           \n",
       "2019-06-04       Buy       Neutral  NEUTRAL            NaN  HOLD          92   \n",
       "2019-06-08       Buy       Neutral  NEUTRAL            NaN   BUY          93   \n",
       "2019-06-17         1             3  NEUTRAL              3   BUY          93   \n",
       "2019-06-19         1             3  NEUTRAL              3  HOLD          93   \n",
       "2019-06-20         1             3  NEUTRAL              3  HOLD          93   \n",
       "\n",
       "           SPQuality SPGrowthStability SPFinancialHealth ThomsonReutersVerus  \\\n",
       "date                                                                           \n",
       "2019-06-04        75                 7                85                HOLD   \n",
       "2019-06-08        74                 6                85                HOLD   \n",
       "2019-06-17        74                 7                85                HOLD   \n",
       "2019-06-19        75                 7                85                HOLD   \n",
       "2019-06-20        75                 7                85                HOLD   \n",
       "\n",
       "           ThomsonReutersIBES  \n",
       "date                           \n",
       "2019-06-04              1.714  \n",
       "2019-06-08                1.8  \n",
       "2019-06-17              1.813  \n",
       "2019-06-19              1.813  \n",
       "2019-06-20              1.813  "
      ]
     },
     "execution_count": 55,
     "metadata": {},
     "output_type": "execute_result"
    }
   ],
   "source": [
    "# Cleaning first two blank rows\n",
    "df_analyst = db.frames['analyst'].copy(deep=True).drop([0, 1])\n",
    "\n",
    "# Resetting date index and dropping index\n",
    "df_analyst.set_index('date', inplace=True, drop=True)\n",
    "\n",
    "# Dropping null date values\n",
    "df_analyst = df_analyst.loc[df_analyst.index.notnull()]\n",
    "\n",
    "df_analyst.replace(['', '--'], np.NaN, inplace=True)\n",
    "\n",
    "df_analyst.head()"
   ]
  },
  {
   "cell_type": "code",
   "execution_count": 56,
   "metadata": {
    "ExecuteTime": {
     "end_time": "2021-01-18T23:00:17.100512Z",
     "start_time": "2021-01-18T23:00:10.144405Z"
    }
   },
   "outputs": [
    {
     "data": {
      "text/plain": [
       "((732304, 16), (732304, 21))"
      ]
     },
     "execution_count": 56,
     "metadata": {},
     "output_type": "execute_result"
    }
   ],
   "source": [
    "perf_symbols = df_prices['sym'].unique()\n",
    "df_analyst = df_analyst.loc[df_analyst['sym'].isin(perf_symbols)]\n",
    "test_analyst = df_analyst.reset_index().set_index(['date', 'sym'])\n",
    "test_performance = df_performance.reset_index().set_index(['date', 'sym'])\n",
    "df_analyst = pd.DataFrame(test_analyst, index=test_performance.index)\n",
    "df_analyst.shape, df_performance.shape"
   ]
  },
  {
   "cell_type": "markdown",
   "metadata": {},
   "source": [
    "## Checking for null values"
   ]
  },
  {
   "cell_type": "code",
   "execution_count": 57,
   "metadata": {
    "ExecuteTime": {
     "end_time": "2021-01-18T23:00:17.783140Z",
     "start_time": "2021-01-18T23:00:17.103511Z"
    }
   },
   "outputs": [
    {
     "data": {
      "text/plain": [
       "Argus                 17.324\n",
       "NedDavis              23.322\n",
       "TradingCentral        42.678\n",
       "ColumbineCapital      52.784\n",
       "McLeanCapital         63.204\n",
       "Jefferson             68.727\n",
       "ISSEVA                78.803\n",
       "Zacks                 81.885\n",
       "StarMine              83.239\n",
       "FordEquityResearch    84.512\n",
       "ThomsonReutersIBES    87.179\n",
       "ThomsonReutersVerus   93.738\n",
       "SPFinancialHealth     94.724\n",
       "SPGrowthStability     96.255\n",
       "SPQuality             96.263\n",
       "SPValuation           96.266\n",
       "dtype: float64"
      ]
     },
     "execution_count": 57,
     "metadata": {},
     "output_type": "execute_result"
    }
   ],
   "source": [
    "get_perc_not_null(df_analyst)"
   ]
  },
  {
   "cell_type": "markdown",
   "metadata": {},
   "source": [
    "> Here you can see the percentage of a column that is not null, Argus is in less than one percent of the data.  We will need to convene a method to deal with the null values.\n",
    "\n",
    ">  The method for filling null values will be a front fill, and a 0 based back fill grouped by stock.  For example if a stock has not been rated by a company at all it will be continuously 0, and if that analyst suddenly rating a stock after no having rated it is significant an algorithm should pick up on that."
   ]
  },
  {
   "cell_type": "code",
   "execution_count": 58,
   "metadata": {
    "ExecuteTime": {
     "end_time": "2021-01-18T23:00:17.815143Z",
     "start_time": "2021-01-18T23:00:17.785141Z"
    }
   },
   "outputs": [
    {
     "data": {
      "text/html": [
       "<div>\n",
       "<style scoped>\n",
       "    .dataframe tbody tr th:only-of-type {\n",
       "        vertical-align: middle;\n",
       "    }\n",
       "\n",
       "    .dataframe tbody tr th {\n",
       "        vertical-align: top;\n",
       "    }\n",
       "\n",
       "    .dataframe thead th {\n",
       "        text-align: right;\n",
       "    }\n",
       "</style>\n",
       "<table border=\"1\" class=\"dataframe\">\n",
       "  <thead>\n",
       "    <tr style=\"text-align: right;\">\n",
       "      <th></th>\n",
       "      <th>sym</th>\n",
       "      <th>random_analyst</th>\n",
       "      <th>randon_analyst2</th>\n",
       "    </tr>\n",
       "  </thead>\n",
       "  <tbody>\n",
       "    <tr>\n",
       "      <th>0</th>\n",
       "      <td>a</td>\n",
       "      <td>nan</td>\n",
       "      <td>3</td>\n",
       "    </tr>\n",
       "    <tr>\n",
       "      <th>1</th>\n",
       "      <td>a</td>\n",
       "      <td>nan</td>\n",
       "      <td>4</td>\n",
       "    </tr>\n",
       "    <tr>\n",
       "      <th>2</th>\n",
       "      <td>a</td>\n",
       "      <td>3.000</td>\n",
       "      <td>8</td>\n",
       "    </tr>\n",
       "    <tr>\n",
       "      <th>3</th>\n",
       "      <td>a</td>\n",
       "      <td>nan</td>\n",
       "      <td>6</td>\n",
       "    </tr>\n",
       "    <tr>\n",
       "      <th>4</th>\n",
       "      <td>a</td>\n",
       "      <td>5.000</td>\n",
       "      <td>5</td>\n",
       "    </tr>\n",
       "  </tbody>\n",
       "</table>\n",
       "</div>"
      ],
      "text/plain": [
       "  sym  random_analyst  randon_analyst2\n",
       "0   a             nan                3\n",
       "1   a             nan                4\n",
       "2   a           3.000                8\n",
       "3   a             nan                6\n",
       "4   a           5.000                5"
      ]
     },
     "metadata": {},
     "output_type": "display_data"
    },
    {
     "data": {
      "text/html": [
       "<div>\n",
       "<style scoped>\n",
       "    .dataframe tbody tr th:only-of-type {\n",
       "        vertical-align: middle;\n",
       "    }\n",
       "\n",
       "    .dataframe tbody tr th {\n",
       "        vertical-align: top;\n",
       "    }\n",
       "\n",
       "    .dataframe thead th {\n",
       "        text-align: right;\n",
       "    }\n",
       "</style>\n",
       "<table border=\"1\" class=\"dataframe\">\n",
       "  <thead>\n",
       "    <tr style=\"text-align: right;\">\n",
       "      <th></th>\n",
       "      <th>sym</th>\n",
       "      <th>random_analyst</th>\n",
       "      <th>randon_analyst2</th>\n",
       "    </tr>\n",
       "  </thead>\n",
       "  <tbody>\n",
       "    <tr>\n",
       "      <th>0</th>\n",
       "      <td>a</td>\n",
       "      <td>0.000</td>\n",
       "      <td>3</td>\n",
       "    </tr>\n",
       "    <tr>\n",
       "      <th>1</th>\n",
       "      <td>a</td>\n",
       "      <td>0.000</td>\n",
       "      <td>4</td>\n",
       "    </tr>\n",
       "    <tr>\n",
       "      <th>2</th>\n",
       "      <td>a</td>\n",
       "      <td>3.000</td>\n",
       "      <td>8</td>\n",
       "    </tr>\n",
       "    <tr>\n",
       "      <th>3</th>\n",
       "      <td>a</td>\n",
       "      <td>3.000</td>\n",
       "      <td>6</td>\n",
       "    </tr>\n",
       "    <tr>\n",
       "      <th>4</th>\n",
       "      <td>a</td>\n",
       "      <td>5.000</td>\n",
       "      <td>5</td>\n",
       "    </tr>\n",
       "  </tbody>\n",
       "</table>\n",
       "</div>"
      ],
      "text/plain": [
       "  sym  random_analyst  randon_analyst2\n",
       "0   a           0.000                3\n",
       "1   a           0.000                4\n",
       "2   a           3.000                8\n",
       "3   a           3.000                6\n",
       "4   a           5.000                5"
      ]
     },
     "execution_count": 58,
     "metadata": {},
     "output_type": "execute_result"
    }
   ],
   "source": [
    "test_fill_na_dict = {\n",
    "    'sym': ['a', 'a', 'a', 'a', 'a'],\n",
    "    'random_analyst': [np.NaN, np.NaN, 3, np.NaN, 5],\n",
    "    'randon_analyst2': [3, 4, 8, 6, 5],\n",
    "}\n",
    "\n",
    "test_df2 = pd.DataFrame(test_fill_na_dict)\n",
    "display(test_df2.head())\n",
    "\n",
    "test_df2.fillna(method='ffill').fillna(0)"
   ]
  },
  {
   "cell_type": "markdown",
   "metadata": {},
   "source": [
    "<div class=\"alert alert-info shadow\">\n",
    "  The <strong>fillna(method=\"ffill\").fillna(0)</strong> does exactly that by first filling nulls with the front value, and then the second fillna fills the rest of the nulls with 0.  We will now use it on the entire dataframe.\n",
    "</div>"
   ]
  },
  {
   "cell_type": "markdown",
   "metadata": {},
   "source": [
    "## Filling null values"
   ]
  },
  {
   "cell_type": "code",
   "execution_count": 59,
   "metadata": {
    "ExecuteTime": {
     "end_time": "2021-01-18T23:00:18.209142Z",
     "start_time": "2021-01-18T23:00:17.817143Z"
    }
   },
   "outputs": [],
   "source": [
    "df_analyst = df_analyst.reset_index().set_index('date', drop=True)"
   ]
  },
  {
   "cell_type": "code",
   "execution_count": 60,
   "metadata": {
    "ExecuteTime": {
     "end_time": "2021-01-18T23:00:18.224142Z",
     "start_time": "2021-01-18T23:00:18.211142Z"
    }
   },
   "outputs": [],
   "source": [
    "analyst_mapping = {\n",
    "    'Argus': {0:0, 'Buy':5, 'Hold':3, 'Sell':1,\n",
    "              5:5, 3:3, 1:1},\n",
    "    'TradingCentral': {'Buy':5, '1':1, '3':3, '5':5, 0:0, 'Sell':1,\n",
    "                       1:1, 3:3, 5:5},\n",
    "    'Jefferson': {'Buy':5, '1':1, '3':3, '5':5, 'Hold':3, 'Sell':1,\n",
    "                  1:1, 3:3, 5:5},\n",
    "    'McLeanCapital': {'Buy':5, '1':1, '3':3, '5':5, 'Neutral':3, 'Sell':1,\n",
    "                      1:1, 3:3, 5:5},\n",
    "    'NedDavis': {'NEUTRAL':3, 'BUY':5, 'SELL':1,\n",
    "                 1:1, 3:3, 5:5},\n",
    "    'Zacks': {'STRONG BUY':6, 'BUY':5, 'OUTPERFORM':5,\n",
    "             'NEUTRAL':3, 'HOLD':3, 'SELL':2, 'UNDERPERFORM':2,\n",
    "             'STRONG SELL':1, 'NONE':0,\n",
    "             1:1, 2:2, 3:3, 5:5, 6:6, 0:0},\n",
    "    'ThomsonReutersVerus': {'HOLD':3, 'SELL':1, 'BUY':5,\n",
    "                            1:1, 3:3, 5:5}\n",
    "}"
   ]
  },
  {
   "cell_type": "code",
   "execution_count": 61,
   "metadata": {
    "ExecuteTime": {
     "end_time": "2021-01-18T23:02:19.970845Z",
     "start_time": "2021-01-18T23:00:18.226144Z"
    }
   },
   "outputs": [],
   "source": [
    "sym_dfs = []\n",
    "idx = df_analyst.index.unique()\n",
    "for sym in perf_symbols:\n",
    "    _new = df_analyst.loc[df_analyst['sym'] == sym]\n",
    "    new_sym = pd.DataFrame(_new, index=idx)\n",
    "    new_sym['sym'] = sym\n",
    "    new_sym = new_sym.fillna(method='ffill').fillna(0)\n",
    "    for col, mapping in analyst_mapping.items():\n",
    "        new_sym[col] = new_sym[col].map(mapping)\n",
    "    if new_sym.isna().sum().sum() > 0:\n",
    "        new_sym = new_sym.fillna(0)\n",
    "    sym_dfs.append(new_sym)\n",
    "    \n",
    "df_analyst = pd.concat(sym_dfs)"
   ]
  },
  {
   "cell_type": "code",
   "execution_count": 62,
   "metadata": {
    "ExecuteTime": {
     "end_time": "2021-01-18T23:02:20.504844Z",
     "start_time": "2021-01-18T23:02:19.972848Z"
    }
   },
   "outputs": [
    {
     "data": {
      "text/plain": [
       "sym                    0\n",
       "Argus                  0\n",
       "StarMine               0\n",
       "ColumbineCapital       0\n",
       "FordEquityResearch     0\n",
       "ISSEVA                 0\n",
       "Jefferson              0\n",
       "McLeanCapital          0\n",
       "NedDavis               0\n",
       "TradingCentral         0\n",
       "Zacks                  0\n",
       "SPValuation            0\n",
       "SPQuality              0\n",
       "SPGrowthStability      0\n",
       "SPFinancialHealth      0\n",
       "ThomsonReutersVerus    0\n",
       "ThomsonReutersIBES     0\n",
       "dtype: int64"
      ]
     },
     "execution_count": 62,
     "metadata": {},
     "output_type": "execute_result"
    }
   ],
   "source": [
    "# Checking that all null values are filled\n",
    "df_analyst.isna().sum()"
   ]
  },
  {
   "cell_type": "code",
   "execution_count": 63,
   "metadata": {
    "ExecuteTime": {
     "end_time": "2021-01-18T23:02:20.520845Z",
     "start_time": "2021-01-18T23:02:20.506846Z"
    }
   },
   "outputs": [
    {
     "data": {
      "text/plain": [
       "774504"
      ]
     },
     "execution_count": 63,
     "metadata": {},
     "output_type": "execute_result"
    }
   ],
   "source": [
    "len(df_analyst)"
   ]
  },
  {
   "cell_type": "markdown",
   "metadata": {},
   "source": [
    "<div class=\"alert alert-success shadow\">\n",
    "  <strong>Success!</strong> No more null values in analyst, and it has 727,292 rows.  Now we need to go about making the different columns numerical.  There are two different methods we could use for this:\n",
    "    <ul>\n",
    "        <li>Manually take the unique values for each column and <b>mapping</b> an arbitrary number to represent things like 'BUY', 'HOLD', 'SELL BIGLY'</li>\n",
    "        <li>Use <b>NLP</b> to vectorize each of the columns</li><ul> <br> We will be using the first method, as we already have the mapping ready from a previous analysis.\n",
    "\n",
    "</div>"
   ]
  },
  {
   "cell_type": "markdown",
   "metadata": {},
   "source": [
    "## Convert strings to float"
   ]
  },
  {
   "cell_type": "code",
   "execution_count": 64,
   "metadata": {
    "ExecuteTime": {
     "end_time": "2021-01-18T23:02:24.443954Z",
     "start_time": "2021-01-18T23:02:20.522845Z"
    }
   },
   "outputs": [
    {
     "name": "stdout",
     "output_type": "stream",
     "text": [
      "Argus\n",
      "StarMine\n",
      "ColumbineCapital\n",
      "FordEquityResearch\n",
      "ISSEVA\n",
      "Jefferson\n",
      "McLeanCapital\n",
      "NedDavis\n",
      "TradingCentral\n",
      "Zacks\n",
      "SPValuation\n",
      "SPQuality\n",
      "SPGrowthStability\n",
      "SPFinancialHealth\n",
      "ThomsonReutersVerus\n",
      "ThomsonReutersIBES\n"
     ]
    }
   ],
   "source": [
    "for col in df_analyst.columns:\n",
    "    if col != 'sym':\n",
    "        print(col)\n",
    "        df_analyst[col] = pd.to_numeric(df_analyst[col])"
   ]
  },
  {
   "cell_type": "code",
   "execution_count": 65,
   "metadata": {
    "ExecuteTime": {
     "end_time": "2021-01-18T23:02:24.459954Z",
     "start_time": "2021-01-18T23:02:24.445957Z"
    }
   },
   "outputs": [
    {
     "data": {
      "text/plain": [
       "array([3, 1, 0, 5], dtype=int64)"
      ]
     },
     "execution_count": 65,
     "metadata": {},
     "output_type": "execute_result"
    }
   ],
   "source": [
    "df_analyst['TradingCentral'].unique()"
   ]
  },
  {
   "cell_type": "code",
   "execution_count": 66,
   "metadata": {
    "ExecuteTime": {
     "end_time": "2021-01-18T23:02:25.073988Z",
     "start_time": "2021-01-18T23:02:24.461957Z"
    }
   },
   "outputs": [
    {
     "data": {
      "text/html": [
       "<div>\n",
       "<style scoped>\n",
       "    .dataframe tbody tr th:only-of-type {\n",
       "        vertical-align: middle;\n",
       "    }\n",
       "\n",
       "    .dataframe tbody tr th {\n",
       "        vertical-align: top;\n",
       "    }\n",
       "\n",
       "    .dataframe thead th {\n",
       "        text-align: right;\n",
       "    }\n",
       "</style>\n",
       "<table border=\"1\" class=\"dataframe\">\n",
       "  <thead>\n",
       "    <tr style=\"text-align: right;\">\n",
       "      <th></th>\n",
       "      <th>Argus</th>\n",
       "      <th>StarMine</th>\n",
       "      <th>ColumbineCapital</th>\n",
       "      <th>FordEquityResearch</th>\n",
       "      <th>ISSEVA</th>\n",
       "      <th>Jefferson</th>\n",
       "      <th>McLeanCapital</th>\n",
       "      <th>NedDavis</th>\n",
       "      <th>TradingCentral</th>\n",
       "      <th>Zacks</th>\n",
       "      <th>SPValuation</th>\n",
       "      <th>SPQuality</th>\n",
       "      <th>SPGrowthStability</th>\n",
       "      <th>SPFinancialHealth</th>\n",
       "      <th>ThomsonReutersVerus</th>\n",
       "      <th>ThomsonReutersIBES</th>\n",
       "    </tr>\n",
       "  </thead>\n",
       "  <tbody>\n",
       "    <tr>\n",
       "      <th>count</th>\n",
       "      <td>774504.000</td>\n",
       "      <td>774504.000</td>\n",
       "      <td>774504.000</td>\n",
       "      <td>774504.000</td>\n",
       "      <td>774504.000</td>\n",
       "      <td>774504.000</td>\n",
       "      <td>774504.000</td>\n",
       "      <td>774504.000</td>\n",
       "      <td>774504.000</td>\n",
       "      <td>774504.000</td>\n",
       "      <td>774504.000</td>\n",
       "      <td>774504.000</td>\n",
       "      <td>774504.000</td>\n",
       "      <td>774504.000</td>\n",
       "      <td>774504.000</td>\n",
       "      <td>774504.000</td>\n",
       "    </tr>\n",
       "    <tr>\n",
       "      <th>mean</th>\n",
       "      <td>0.717</td>\n",
       "      <td>4.133</td>\n",
       "      <td>1.689</td>\n",
       "      <td>2.311</td>\n",
       "      <td>38.767</td>\n",
       "      <td>2.273</td>\n",
       "      <td>1.846</td>\n",
       "      <td>1.214</td>\n",
       "      <td>1.565</td>\n",
       "      <td>2.556</td>\n",
       "      <td>50.071</td>\n",
       "      <td>51.319</td>\n",
       "      <td>45.100</td>\n",
       "      <td>49.176</td>\n",
       "      <td>2.767</td>\n",
       "      <td>1.915</td>\n",
       "    </tr>\n",
       "    <tr>\n",
       "      <th>std</th>\n",
       "      <td>1.661</td>\n",
       "      <td>3.202</td>\n",
       "      <td>0.935</td>\n",
       "      <td>1.316</td>\n",
       "      <td>33.395</td>\n",
       "      <td>2.013</td>\n",
       "      <td>1.468</td>\n",
       "      <td>1.610</td>\n",
       "      <td>1.788</td>\n",
       "      <td>1.502</td>\n",
       "      <td>29.884</td>\n",
       "      <td>30.276</td>\n",
       "      <td>29.930</td>\n",
       "      <td>29.332</td>\n",
       "      <td>1.357</td>\n",
       "      <td>0.964</td>\n",
       "    </tr>\n",
       "    <tr>\n",
       "      <th>min</th>\n",
       "      <td>0.000</td>\n",
       "      <td>-8.900</td>\n",
       "      <td>0.000</td>\n",
       "      <td>0.000</td>\n",
       "      <td>0.000</td>\n",
       "      <td>0.000</td>\n",
       "      <td>0.000</td>\n",
       "      <td>0.000</td>\n",
       "      <td>0.000</td>\n",
       "      <td>0.000</td>\n",
       "      <td>0.000</td>\n",
       "      <td>0.000</td>\n",
       "      <td>0.000</td>\n",
       "      <td>0.000</td>\n",
       "      <td>0.000</td>\n",
       "      <td>0.000</td>\n",
       "    </tr>\n",
       "    <tr>\n",
       "      <th>25%</th>\n",
       "      <td>0.000</td>\n",
       "      <td>1.000</td>\n",
       "      <td>1.000</td>\n",
       "      <td>2.000</td>\n",
       "      <td>0.000</td>\n",
       "      <td>0.000</td>\n",
       "      <td>0.000</td>\n",
       "      <td>0.000</td>\n",
       "      <td>0.000</td>\n",
       "      <td>2.000</td>\n",
       "      <td>25.000</td>\n",
       "      <td>26.000</td>\n",
       "      <td>18.000</td>\n",
       "      <td>25.000</td>\n",
       "      <td>3.000</td>\n",
       "      <td>1.667</td>\n",
       "    </tr>\n",
       "    <tr>\n",
       "      <th>50%</th>\n",
       "      <td>0.000</td>\n",
       "      <td>3.800</td>\n",
       "      <td>2.000</td>\n",
       "      <td>3.000</td>\n",
       "      <td>36.000</td>\n",
       "      <td>3.000</td>\n",
       "      <td>3.000</td>\n",
       "      <td>0.000</td>\n",
       "      <td>1.000</td>\n",
       "      <td>3.000</td>\n",
       "      <td>52.000</td>\n",
       "      <td>54.000</td>\n",
       "      <td>45.000</td>\n",
       "      <td>51.000</td>\n",
       "      <td>3.000</td>\n",
       "      <td>2.059</td>\n",
       "    </tr>\n",
       "    <tr>\n",
       "      <th>75%</th>\n",
       "      <td>0.000</td>\n",
       "      <td>7.000</td>\n",
       "      <td>2.000</td>\n",
       "      <td>3.000</td>\n",
       "      <td>68.000</td>\n",
       "      <td>5.000</td>\n",
       "      <td>3.000</td>\n",
       "      <td>3.000</td>\n",
       "      <td>3.000</td>\n",
       "      <td>3.000</td>\n",
       "      <td>76.000</td>\n",
       "      <td>77.000</td>\n",
       "      <td>71.000</td>\n",
       "      <td>74.000</td>\n",
       "      <td>3.000</td>\n",
       "      <td>2.526</td>\n",
       "    </tr>\n",
       "    <tr>\n",
       "      <th>max</th>\n",
       "      <td>5.000</td>\n",
       "      <td>10.000</td>\n",
       "      <td>3.000</td>\n",
       "      <td>5.000</td>\n",
       "      <td>100.000</td>\n",
       "      <td>5.000</td>\n",
       "      <td>5.000</td>\n",
       "      <td>5.000</td>\n",
       "      <td>5.000</td>\n",
       "      <td>6.000</td>\n",
       "      <td>99.000</td>\n",
       "      <td>99.000</td>\n",
       "      <td>99.000</td>\n",
       "      <td>99.000</td>\n",
       "      <td>5.000</td>\n",
       "      <td>5.000</td>\n",
       "    </tr>\n",
       "  </tbody>\n",
       "</table>\n",
       "</div>"
      ],
      "text/plain": [
       "           Argus   StarMine  ColumbineCapital  FordEquityResearch     ISSEVA  \\\n",
       "count 774504.000 774504.000        774504.000          774504.000 774504.000   \n",
       "mean       0.717      4.133             1.689               2.311     38.767   \n",
       "std        1.661      3.202             0.935               1.316     33.395   \n",
       "min        0.000     -8.900             0.000               0.000      0.000   \n",
       "25%        0.000      1.000             1.000               2.000      0.000   \n",
       "50%        0.000      3.800             2.000               3.000     36.000   \n",
       "75%        0.000      7.000             2.000               3.000     68.000   \n",
       "max        5.000     10.000             3.000               5.000    100.000   \n",
       "\n",
       "       Jefferson  McLeanCapital   NedDavis  TradingCentral      Zacks  \\\n",
       "count 774504.000     774504.000 774504.000      774504.000 774504.000   \n",
       "mean       2.273          1.846      1.214           1.565      2.556   \n",
       "std        2.013          1.468      1.610           1.788      1.502   \n",
       "min        0.000          0.000      0.000           0.000      0.000   \n",
       "25%        0.000          0.000      0.000           0.000      2.000   \n",
       "50%        3.000          3.000      0.000           1.000      3.000   \n",
       "75%        5.000          3.000      3.000           3.000      3.000   \n",
       "max        5.000          5.000      5.000           5.000      6.000   \n",
       "\n",
       "       SPValuation  SPQuality  SPGrowthStability  SPFinancialHealth  \\\n",
       "count   774504.000 774504.000         774504.000         774504.000   \n",
       "mean        50.071     51.319             45.100             49.176   \n",
       "std         29.884     30.276             29.930             29.332   \n",
       "min          0.000      0.000              0.000              0.000   \n",
       "25%         25.000     26.000             18.000             25.000   \n",
       "50%         52.000     54.000             45.000             51.000   \n",
       "75%         76.000     77.000             71.000             74.000   \n",
       "max         99.000     99.000             99.000             99.000   \n",
       "\n",
       "       ThomsonReutersVerus  ThomsonReutersIBES  \n",
       "count           774504.000          774504.000  \n",
       "mean                 2.767               1.915  \n",
       "std                  1.357               0.964  \n",
       "min                  0.000               0.000  \n",
       "25%                  3.000               1.667  \n",
       "50%                  3.000               2.059  \n",
       "75%                  3.000               2.526  \n",
       "max                  5.000               5.000  "
      ]
     },
     "execution_count": 66,
     "metadata": {},
     "output_type": "execute_result"
    }
   ],
   "source": [
    "df_analyst.describe()"
   ]
  },
  {
   "cell_type": "code",
   "execution_count": 67,
   "metadata": {
    "ExecuteTime": {
     "end_time": "2021-01-18T23:02:25.169986Z",
     "start_time": "2021-01-18T23:02:25.075991Z"
    }
   },
   "outputs": [
    {
     "name": "stdout",
     "output_type": "stream",
     "text": [
      "<class 'pandas.core.frame.DataFrame'>\n",
      "DatetimeIndex: 774504 entries, 2019-08-09 to 2021-01-15\n",
      "Data columns (total 17 columns):\n",
      " #   Column               Non-Null Count   Dtype  \n",
      "---  ------               --------------   -----  \n",
      " 0   sym                  774504 non-null  object \n",
      " 1   Argus                774504 non-null  int64  \n",
      " 2   StarMine             774504 non-null  float64\n",
      " 3   ColumbineCapital     774504 non-null  float64\n",
      " 4   FordEquityResearch   774504 non-null  float64\n",
      " 5   ISSEVA               774504 non-null  float64\n",
      " 6   Jefferson            774504 non-null  float64\n",
      " 7   McLeanCapital        774504 non-null  float64\n",
      " 8   NedDavis             774504 non-null  float64\n",
      " 9   TradingCentral       774504 non-null  int64  \n",
      " 10  Zacks                774504 non-null  int64  \n",
      " 11  SPValuation          774504 non-null  float64\n",
      " 12  SPQuality            774504 non-null  float64\n",
      " 13  SPGrowthStability    774504 non-null  float64\n",
      " 14  SPFinancialHealth    774504 non-null  float64\n",
      " 15  ThomsonReutersVerus  774504 non-null  float64\n",
      " 16  ThomsonReutersIBES   774504 non-null  float64\n",
      "dtypes: float64(13), int64(3), object(1)\n",
      "memory usage: 106.4+ MB\n"
     ]
    }
   ],
   "source": [
    "df_analyst.info()"
   ]
  },
  {
   "cell_type": "markdown",
   "metadata": {},
   "source": [
    "## Add to sql server"
   ]
  },
  {
   "cell_type": "code",
   "execution_count": 68,
   "metadata": {
    "ExecuteTime": {
     "end_time": "2021-01-18T23:02:34.175774Z",
     "start_time": "2021-01-18T23:02:25.176988Z"
    }
   },
   "outputs": [
    {
     "data": {
      "text/html": [
       "<div>\n",
       "<style scoped>\n",
       "    .dataframe tbody tr th:only-of-type {\n",
       "        vertical-align: middle;\n",
       "    }\n",
       "\n",
       "    .dataframe tbody tr th {\n",
       "        vertical-align: top;\n",
       "    }\n",
       "\n",
       "    .dataframe thead th {\n",
       "        text-align: right;\n",
       "    }\n",
       "</style>\n",
       "<table border=\"1\" class=\"dataframe\">\n",
       "  <thead>\n",
       "    <tr style=\"text-align: right;\">\n",
       "      <th></th>\n",
       "      <th>sym</th>\n",
       "      <th>date</th>\n",
       "      <th>Argus</th>\n",
       "      <th>StarMine</th>\n",
       "      <th>ColumbineCapital</th>\n",
       "      <th>FordEquityResearch</th>\n",
       "      <th>ISSEVA</th>\n",
       "      <th>Jefferson</th>\n",
       "      <th>McLeanCapital</th>\n",
       "      <th>NedDavis</th>\n",
       "      <th>TradingCentral</th>\n",
       "      <th>Zacks</th>\n",
       "      <th>SPValuation</th>\n",
       "      <th>SPQuality</th>\n",
       "      <th>SPGrowthStability</th>\n",
       "      <th>SPFinancialHealth</th>\n",
       "      <th>ThomsonReutersVerus</th>\n",
       "      <th>ThomsonReutersIBES</th>\n",
       "    </tr>\n",
       "  </thead>\n",
       "  <tbody>\n",
       "    <tr>\n",
       "      <th>0</th>\n",
       "      <td>A</td>\n",
       "      <td>2019-08-09</td>\n",
       "      <td>0</td>\n",
       "      <td>5.800</td>\n",
       "      <td>1</td>\n",
       "      <td>3</td>\n",
       "      <td>78</td>\n",
       "      <td>1</td>\n",
       "      <td>3</td>\n",
       "      <td>3</td>\n",
       "      <td>3</td>\n",
       "      <td>3</td>\n",
       "      <td>93</td>\n",
       "      <td>73</td>\n",
       "      <td>6</td>\n",
       "      <td>84</td>\n",
       "      <td>3</td>\n",
       "      <td>2.000</td>\n",
       "    </tr>\n",
       "    <tr>\n",
       "      <th>1</th>\n",
       "      <td>A</td>\n",
       "      <td>2019-08-12</td>\n",
       "      <td>0</td>\n",
       "      <td>8.300</td>\n",
       "      <td>1</td>\n",
       "      <td>3</td>\n",
       "      <td>78</td>\n",
       "      <td>1</td>\n",
       "      <td>3</td>\n",
       "      <td>3</td>\n",
       "      <td>3</td>\n",
       "      <td>5</td>\n",
       "      <td>93</td>\n",
       "      <td>73</td>\n",
       "      <td>6</td>\n",
       "      <td>84</td>\n",
       "      <td>3</td>\n",
       "      <td>2.000</td>\n",
       "    </tr>\n",
       "    <tr>\n",
       "      <th>2</th>\n",
       "      <td>A</td>\n",
       "      <td>2019-08-13</td>\n",
       "      <td>0</td>\n",
       "      <td>8.300</td>\n",
       "      <td>1</td>\n",
       "      <td>3</td>\n",
       "      <td>73</td>\n",
       "      <td>1</td>\n",
       "      <td>3</td>\n",
       "      <td>3</td>\n",
       "      <td>3</td>\n",
       "      <td>3</td>\n",
       "      <td>93</td>\n",
       "      <td>73</td>\n",
       "      <td>7</td>\n",
       "      <td>85</td>\n",
       "      <td>3</td>\n",
       "      <td>2.000</td>\n",
       "    </tr>\n",
       "    <tr>\n",
       "      <th>3</th>\n",
       "      <td>A</td>\n",
       "      <td>2019-08-14</td>\n",
       "      <td>0</td>\n",
       "      <td>4.200</td>\n",
       "      <td>1</td>\n",
       "      <td>3</td>\n",
       "      <td>73</td>\n",
       "      <td>1</td>\n",
       "      <td>3</td>\n",
       "      <td>3</td>\n",
       "      <td>3</td>\n",
       "      <td>3</td>\n",
       "      <td>93</td>\n",
       "      <td>73</td>\n",
       "      <td>7</td>\n",
       "      <td>85</td>\n",
       "      <td>3</td>\n",
       "      <td>2.000</td>\n",
       "    </tr>\n",
       "    <tr>\n",
       "      <th>4</th>\n",
       "      <td>A</td>\n",
       "      <td>2019-08-15</td>\n",
       "      <td>0</td>\n",
       "      <td>4.200</td>\n",
       "      <td>1</td>\n",
       "      <td>3</td>\n",
       "      <td>73</td>\n",
       "      <td>1</td>\n",
       "      <td>3</td>\n",
       "      <td>3</td>\n",
       "      <td>3</td>\n",
       "      <td>3</td>\n",
       "      <td>93</td>\n",
       "      <td>74</td>\n",
       "      <td>7</td>\n",
       "      <td>85</td>\n",
       "      <td>3</td>\n",
       "      <td>2.000</td>\n",
       "    </tr>\n",
       "    <tr>\n",
       "      <th>...</th>\n",
       "      <td>...</td>\n",
       "      <td>...</td>\n",
       "      <td>...</td>\n",
       "      <td>...</td>\n",
       "      <td>...</td>\n",
       "      <td>...</td>\n",
       "      <td>...</td>\n",
       "      <td>...</td>\n",
       "      <td>...</td>\n",
       "      <td>...</td>\n",
       "      <td>...</td>\n",
       "      <td>...</td>\n",
       "      <td>...</td>\n",
       "      <td>...</td>\n",
       "      <td>...</td>\n",
       "      <td>...</td>\n",
       "      <td>...</td>\n",
       "      <td>...</td>\n",
       "    </tr>\n",
       "    <tr>\n",
       "      <th>751835</th>\n",
       "      <td>ZYXI</td>\n",
       "      <td>2020-12-18</td>\n",
       "      <td>0</td>\n",
       "      <td>1.100</td>\n",
       "      <td>2</td>\n",
       "      <td>3</td>\n",
       "      <td>42</td>\n",
       "      <td>0</td>\n",
       "      <td>3</td>\n",
       "      <td>0</td>\n",
       "      <td>0</td>\n",
       "      <td>3</td>\n",
       "      <td>63</td>\n",
       "      <td>68</td>\n",
       "      <td>14</td>\n",
       "      <td>72</td>\n",
       "      <td>3</td>\n",
       "      <td>1.800</td>\n",
       "    </tr>\n",
       "    <tr>\n",
       "      <th>751836</th>\n",
       "      <td>ZYXI</td>\n",
       "      <td>2020-12-21</td>\n",
       "      <td>0</td>\n",
       "      <td>1.100</td>\n",
       "      <td>2</td>\n",
       "      <td>3</td>\n",
       "      <td>42</td>\n",
       "      <td>0</td>\n",
       "      <td>3</td>\n",
       "      <td>0</td>\n",
       "      <td>0</td>\n",
       "      <td>3</td>\n",
       "      <td>63</td>\n",
       "      <td>68</td>\n",
       "      <td>14</td>\n",
       "      <td>72</td>\n",
       "      <td>3</td>\n",
       "      <td>1.800</td>\n",
       "    </tr>\n",
       "    <tr>\n",
       "      <th>751837</th>\n",
       "      <td>ZYXI</td>\n",
       "      <td>2020-12-22</td>\n",
       "      <td>0</td>\n",
       "      <td>1.100</td>\n",
       "      <td>2</td>\n",
       "      <td>3</td>\n",
       "      <td>42</td>\n",
       "      <td>0</td>\n",
       "      <td>3</td>\n",
       "      <td>0</td>\n",
       "      <td>0</td>\n",
       "      <td>3</td>\n",
       "      <td>63</td>\n",
       "      <td>68</td>\n",
       "      <td>14</td>\n",
       "      <td>72</td>\n",
       "      <td>3</td>\n",
       "      <td>1.800</td>\n",
       "    </tr>\n",
       "    <tr>\n",
       "      <th>751838</th>\n",
       "      <td>ZYXI</td>\n",
       "      <td>2020-12-23</td>\n",
       "      <td>0</td>\n",
       "      <td>1.100</td>\n",
       "      <td>2</td>\n",
       "      <td>3</td>\n",
       "      <td>43</td>\n",
       "      <td>0</td>\n",
       "      <td>3</td>\n",
       "      <td>0</td>\n",
       "      <td>0</td>\n",
       "      <td>3</td>\n",
       "      <td>63</td>\n",
       "      <td>69</td>\n",
       "      <td>14</td>\n",
       "      <td>73</td>\n",
       "      <td>3</td>\n",
       "      <td>1.800</td>\n",
       "    </tr>\n",
       "    <tr>\n",
       "      <th>751839</th>\n",
       "      <td>ZYXI</td>\n",
       "      <td>2020-12-24</td>\n",
       "      <td>0</td>\n",
       "      <td>1.100</td>\n",
       "      <td>2</td>\n",
       "      <td>3</td>\n",
       "      <td>42</td>\n",
       "      <td>0</td>\n",
       "      <td>3</td>\n",
       "      <td>0</td>\n",
       "      <td>0</td>\n",
       "      <td>3</td>\n",
       "      <td>63</td>\n",
       "      <td>69</td>\n",
       "      <td>14</td>\n",
       "      <td>72</td>\n",
       "      <td>3</td>\n",
       "      <td>1.800</td>\n",
       "    </tr>\n",
       "  </tbody>\n",
       "</table>\n",
       "<p>751840 rows × 18 columns</p>\n",
       "</div>"
      ],
      "text/plain": [
       "         sym        date  Argus  StarMine  ColumbineCapital  \\\n",
       "0          A  2019-08-09      0     5.800                 1   \n",
       "1          A  2019-08-12      0     8.300                 1   \n",
       "2          A  2019-08-13      0     8.300                 1   \n",
       "3          A  2019-08-14      0     4.200                 1   \n",
       "4          A  2019-08-15      0     4.200                 1   \n",
       "...      ...         ...    ...       ...               ...   \n",
       "751835  ZYXI  2020-12-18      0     1.100                 2   \n",
       "751836  ZYXI  2020-12-21      0     1.100                 2   \n",
       "751837  ZYXI  2020-12-22      0     1.100                 2   \n",
       "751838  ZYXI  2020-12-23      0     1.100                 2   \n",
       "751839  ZYXI  2020-12-24      0     1.100                 2   \n",
       "\n",
       "        FordEquityResearch  ISSEVA  Jefferson  McLeanCapital  NedDavis  \\\n",
       "0                        3      78          1              3         3   \n",
       "1                        3      78          1              3         3   \n",
       "2                        3      73          1              3         3   \n",
       "3                        3      73          1              3         3   \n",
       "4                        3      73          1              3         3   \n",
       "...                    ...     ...        ...            ...       ...   \n",
       "751835                   3      42          0              3         0   \n",
       "751836                   3      42          0              3         0   \n",
       "751837                   3      42          0              3         0   \n",
       "751838                   3      43          0              3         0   \n",
       "751839                   3      42          0              3         0   \n",
       "\n",
       "        TradingCentral  Zacks  SPValuation  SPQuality  SPGrowthStability  \\\n",
       "0                    3      3           93         73                  6   \n",
       "1                    3      5           93         73                  6   \n",
       "2                    3      3           93         73                  7   \n",
       "3                    3      3           93         73                  7   \n",
       "4                    3      3           93         74                  7   \n",
       "...                ...    ...          ...        ...                ...   \n",
       "751835               0      3           63         68                 14   \n",
       "751836               0      3           63         68                 14   \n",
       "751837               0      3           63         68                 14   \n",
       "751838               0      3           63         69                 14   \n",
       "751839               0      3           63         69                 14   \n",
       "\n",
       "        SPFinancialHealth  ThomsonReutersVerus  ThomsonReutersIBES  \n",
       "0                      84                    3               2.000  \n",
       "1                      84                    3               2.000  \n",
       "2                      85                    3               2.000  \n",
       "3                      85                    3               2.000  \n",
       "4                      85                    3               2.000  \n",
       "...                   ...                  ...                 ...  \n",
       "751835                 72                    3               1.800  \n",
       "751836                 72                    3               1.800  \n",
       "751837                 72                    3               1.800  \n",
       "751838                 73                    3               1.800  \n",
       "751839                 72                    3               1.800  \n",
       "\n",
       "[751840 rows x 18 columns]"
      ]
     },
     "execution_count": 68,
     "metadata": {},
     "output_type": "execute_result"
    }
   ],
   "source": [
    "db_clean = DataBase('stock_cleaned', 14333, 'localhost')\n",
    "db_clean.pull_names_as_dataframes(['analyst'])\n",
    "db_clean.frames['analyst']"
   ]
  },
  {
   "cell_type": "code",
   "execution_count": 69,
   "metadata": {
    "ExecuteTime": {
     "end_time": "2021-01-18T23:04:03.146127Z",
     "start_time": "2021-01-18T23:02:34.177775Z"
    }
   },
   "outputs": [],
   "source": [
    "query_list = []\n",
    "for idx, row in df_analyst.reset_index().iterrows():\n",
    "    query_list.append(tuple(row.to_dict().values()))\n",
    "\n",
    "db_clean = DataBase('stock_cleaned', 14333, 'localhost')\n",
    "db_clean.cur.executemany(\"\"\"\n",
    "REPLACE INTO analyst (date, sym, Argus, StarMine, ColumbineCapital,\n",
    "                         FordEquityResearch, ISSEVA, Jefferson, McLeanCapital,\n",
    "                         NedDavis, TradingCentral, Zacks, SPValuation,\n",
    "                         SPQuality, SPGrowthStability, SPFinancialHealth,\n",
    "                         ThomsonReutersVerus, ThomsonReutersIBES)\n",
    "VALUES (%s, %s, %s, %s, %s, %s, %s, %s, %s, %s, %s, %s, %s, %s, %s, %s, %s, %s)\"\"\",\n",
    "      query_list)\n",
    "db_clean.conn.commit()\n",
    "db_clean.conn.close()"
   ]
  },
  {
   "cell_type": "markdown",
   "metadata": {
    "ExecuteTime": {
     "end_time": "2020-11-28T09:41:08.077324Z",
     "start_time": "2020-11-28T09:41:08.066190Z"
    }
   },
   "source": [
    "## Pickle"
   ]
  },
  {
   "cell_type": "code",
   "execution_count": 70,
   "metadata": {
    "ExecuteTime": {
     "end_time": "2021-01-18T23:04:03.386125Z",
     "start_time": "2021-01-18T23:04:03.147124Z"
    }
   },
   "outputs": [],
   "source": [
    "df_analyst.to_pickle('./data/analyst.pkl')"
   ]
  },
  {
   "cell_type": "markdown",
   "metadata": {},
   "source": [
    "# Combine company, analyst and performance"
   ]
  },
  {
   "cell_type": "code",
   "execution_count": 71,
   "metadata": {
    "ExecuteTime": {
     "end_time": "2021-01-18T23:04:03.402122Z",
     "start_time": "2021-01-18T23:04:03.388123Z"
    }
   },
   "outputs": [],
   "source": [
    "df_company.drop('subIndustry', axis=1, inplace=True)"
   ]
  },
  {
   "cell_type": "code",
   "execution_count": 72,
   "metadata": {
    "ExecuteTime": {
     "end_time": "2021-01-18T23:04:03.417122Z",
     "start_time": "2021-01-18T23:04:03.403123Z"
    }
   },
   "outputs": [],
   "source": [
    "def combine_df(df, company, analyst):\n",
    "    ohe_columns = list(company.columns)\n",
    "    ohe_columns.remove('company')\n",
    "    df = df.reset_index().set_index(['date', 'sym'], drop=True)\n",
    "    analyst = analyst.reset_index().set_index(['date', 'sym'], drop=True)\n",
    "    df_new = MLFrame(df.join(df_company).join(analyst))\n",
    "    df_new.drop('company', inplace=True, axis=1)\n",
    "    df_new = df_new.one_hot_encode(columns=ohe_columns)\n",
    "    return df_new    "
   ]
  },
  {
   "cell_type": "markdown",
   "metadata": {},
   "source": [
    "## Performance"
   ]
  },
  {
   "cell_type": "code",
   "execution_count": 73,
   "metadata": {
    "ExecuteTime": {
     "end_time": "2021-01-18T23:04:08.616350Z",
     "start_time": "2021-01-18T23:04:03.418122Z"
    }
   },
   "outputs": [
    {
     "name": "stdout",
     "output_type": "stream",
     "text": [
      "Added categorical columns\n",
      "3 -> Dividend\n",
      "4 -> Exchange\n",
      "5 -> securityType\n",
      "10 -> sector\n",
      "68 -> industry\n"
     ]
    },
    {
     "data": {
      "text/html": [
       "<div>\n",
       "<style scoped>\n",
       "    .dataframe tbody tr th:only-of-type {\n",
       "        vertical-align: middle;\n",
       "    }\n",
       "\n",
       "    .dataframe tbody tr th {\n",
       "        vertical-align: top;\n",
       "    }\n",
       "\n",
       "    .dataframe thead th {\n",
       "        text-align: right;\n",
       "    }\n",
       "</style>\n",
       "<table border=\"1\" class=\"dataframe\">\n",
       "  <thead>\n",
       "    <tr style=\"text-align: right;\">\n",
       "      <th></th>\n",
       "      <th></th>\n",
       "      <th>index</th>\n",
       "      <th>RevenueTTM</th>\n",
       "      <th>TotalCash</th>\n",
       "      <th>ExDividendDate</th>\n",
       "      <th>Dividend</th>\n",
       "      <th>DividendYield</th>\n",
       "      <th>PriceToBook</th>\n",
       "      <th>PriceToSales</th>\n",
       "      <th>EnterpriseValue</th>\n",
       "      <th>PriceToCashFlow</th>\n",
       "      <th>...</th>\n",
       "      <th>industry_Transportation Infrastructure</th>\n",
       "      <th>industry_Water Utilities</th>\n",
       "      <th>industry_Wireless Telecommunication Services</th>\n",
       "      <th>Exchange_NASDAQ</th>\n",
       "      <th>Exchange_NYSE</th>\n",
       "      <th>Exchange_OTC</th>\n",
       "      <th>Exchange_unknown</th>\n",
       "      <th>DJIA_1</th>\n",
       "      <th>NASDAQ100_1</th>\n",
       "      <th>SP500_1</th>\n",
       "    </tr>\n",
       "    <tr>\n",
       "      <th>date</th>\n",
       "      <th>sym</th>\n",
       "      <th></th>\n",
       "      <th></th>\n",
       "      <th></th>\n",
       "      <th></th>\n",
       "      <th></th>\n",
       "      <th></th>\n",
       "      <th></th>\n",
       "      <th></th>\n",
       "      <th></th>\n",
       "      <th></th>\n",
       "      <th></th>\n",
       "      <th></th>\n",
       "      <th></th>\n",
       "      <th></th>\n",
       "      <th></th>\n",
       "      <th></th>\n",
       "      <th></th>\n",
       "      <th></th>\n",
       "      <th></th>\n",
       "      <th></th>\n",
       "      <th></th>\n",
       "    </tr>\n",
       "  </thead>\n",
       "  <tbody>\n",
       "    <tr>\n",
       "      <th>2019-08-09</th>\n",
       "      <th>A</th>\n",
       "      <td>0</td>\n",
       "      <td>5019.000</td>\n",
       "      <td>2155.000</td>\n",
       "      <td>0</td>\n",
       "      <td>0.164</td>\n",
       "      <td>0.944</td>\n",
       "      <td>4.298</td>\n",
       "      <td>4.402</td>\n",
       "      <td>21670704590.000</td>\n",
       "      <td>16.574</td>\n",
       "      <td>...</td>\n",
       "      <td>0</td>\n",
       "      <td>0</td>\n",
       "      <td>0</td>\n",
       "      <td>0</td>\n",
       "      <td>1</td>\n",
       "      <td>0</td>\n",
       "      <td>0</td>\n",
       "      <td>0</td>\n",
       "      <td>0</td>\n",
       "      <td>1</td>\n",
       "    </tr>\n",
       "    <tr>\n",
       "      <th>2019-08-12</th>\n",
       "      <th>A</th>\n",
       "      <td>1</td>\n",
       "      <td>5019.000</td>\n",
       "      <td>2155.000</td>\n",
       "      <td>0</td>\n",
       "      <td>0.164</td>\n",
       "      <td>0.956</td>\n",
       "      <td>4.246</td>\n",
       "      <td>4.348</td>\n",
       "      <td>21401262240.000</td>\n",
       "      <td>16.371</td>\n",
       "      <td>...</td>\n",
       "      <td>0</td>\n",
       "      <td>0</td>\n",
       "      <td>0</td>\n",
       "      <td>0</td>\n",
       "      <td>1</td>\n",
       "      <td>0</td>\n",
       "      <td>0</td>\n",
       "      <td>0</td>\n",
       "      <td>0</td>\n",
       "      <td>1</td>\n",
       "    </tr>\n",
       "    <tr>\n",
       "      <th>2019-08-13</th>\n",
       "      <th>A</th>\n",
       "      <td>2</td>\n",
       "      <td>5019.000</td>\n",
       "      <td>2155.000</td>\n",
       "      <td>0</td>\n",
       "      <td>0.164</td>\n",
       "      <td>0.985</td>\n",
       "      <td>4.121</td>\n",
       "      <td>4.221</td>\n",
       "      <td>20764110330.000</td>\n",
       "      <td>15.892</td>\n",
       "      <td>...</td>\n",
       "      <td>0</td>\n",
       "      <td>0</td>\n",
       "      <td>0</td>\n",
       "      <td>0</td>\n",
       "      <td>1</td>\n",
       "      <td>0</td>\n",
       "      <td>0</td>\n",
       "      <td>0</td>\n",
       "      <td>0</td>\n",
       "      <td>1</td>\n",
       "    </tr>\n",
       "    <tr>\n",
       "      <th>2019-08-14</th>\n",
       "      <th>A</th>\n",
       "      <td>3</td>\n",
       "      <td>5019.000</td>\n",
       "      <td>2155.000</td>\n",
       "      <td>0</td>\n",
       "      <td>0.164</td>\n",
       "      <td>0.970</td>\n",
       "      <td>4.184</td>\n",
       "      <td>4.285</td>\n",
       "      <td>21084271240.000</td>\n",
       "      <td>16.132</td>\n",
       "      <td>...</td>\n",
       "      <td>0</td>\n",
       "      <td>0</td>\n",
       "      <td>0</td>\n",
       "      <td>0</td>\n",
       "      <td>1</td>\n",
       "      <td>0</td>\n",
       "      <td>0</td>\n",
       "      <td>0</td>\n",
       "      <td>0</td>\n",
       "      <td>1</td>\n",
       "    </tr>\n",
       "    <tr>\n",
       "      <th>2019-08-15</th>\n",
       "      <th>A</th>\n",
       "      <td>4</td>\n",
       "      <td>5090.000</td>\n",
       "      <td>1765.000</td>\n",
       "      <td>0</td>\n",
       "      <td>0.164</td>\n",
       "      <td>1.000</td>\n",
       "      <td>4.283</td>\n",
       "      <td>4.068</td>\n",
       "      <td>20365900000.000</td>\n",
       "      <td>16.051</td>\n",
       "      <td>...</td>\n",
       "      <td>0</td>\n",
       "      <td>0</td>\n",
       "      <td>0</td>\n",
       "      <td>0</td>\n",
       "      <td>1</td>\n",
       "      <td>0</td>\n",
       "      <td>0</td>\n",
       "      <td>0</td>\n",
       "      <td>0</td>\n",
       "      <td>1</td>\n",
       "    </tr>\n",
       "  </tbody>\n",
       "</table>\n",
       "<p>5 rows × 126 columns</p>\n",
       "</div>"
      ],
      "text/plain": [
       "                index  RevenueTTM  TotalCash  ExDividendDate  Dividend  \\\n",
       "date       sym                                                           \n",
       "2019-08-09 A        0    5019.000   2155.000               0     0.164   \n",
       "2019-08-12 A        1    5019.000   2155.000               0     0.164   \n",
       "2019-08-13 A        2    5019.000   2155.000               0     0.164   \n",
       "2019-08-14 A        3    5019.000   2155.000               0     0.164   \n",
       "2019-08-15 A        4    5090.000   1765.000               0     0.164   \n",
       "\n",
       "                DividendYield  PriceToBook  PriceToSales  EnterpriseValue  \\\n",
       "date       sym                                                              \n",
       "2019-08-09 A            0.944        4.298         4.402  21670704590.000   \n",
       "2019-08-12 A            0.956        4.246         4.348  21401262240.000   \n",
       "2019-08-13 A            0.985        4.121         4.221  20764110330.000   \n",
       "2019-08-14 A            0.970        4.184         4.285  21084271240.000   \n",
       "2019-08-15 A            1.000        4.283         4.068  20365900000.000   \n",
       "\n",
       "                PriceToCashFlow  ...  industry_Transportation Infrastructure  \\\n",
       "date       sym                   ...                                           \n",
       "2019-08-09 A             16.574  ...                                       0   \n",
       "2019-08-12 A             16.371  ...                                       0   \n",
       "2019-08-13 A             15.892  ...                                       0   \n",
       "2019-08-14 A             16.132  ...                                       0   \n",
       "2019-08-15 A             16.051  ...                                       0   \n",
       "\n",
       "                industry_Water Utilities  \\\n",
       "date       sym                             \n",
       "2019-08-09 A                           0   \n",
       "2019-08-12 A                           0   \n",
       "2019-08-13 A                           0   \n",
       "2019-08-14 A                           0   \n",
       "2019-08-15 A                           0   \n",
       "\n",
       "                industry_Wireless Telecommunication Services  Exchange_NASDAQ  \\\n",
       "date       sym                                                                  \n",
       "2019-08-09 A                                               0                0   \n",
       "2019-08-12 A                                               0                0   \n",
       "2019-08-13 A                                               0                0   \n",
       "2019-08-14 A                                               0                0   \n",
       "2019-08-15 A                                               0                0   \n",
       "\n",
       "                Exchange_NYSE  Exchange_OTC  Exchange_unknown  DJIA_1  \\\n",
       "date       sym                                                          \n",
       "2019-08-09 A                1             0                 0       0   \n",
       "2019-08-12 A                1             0                 0       0   \n",
       "2019-08-13 A                1             0                 0       0   \n",
       "2019-08-14 A                1             0                 0       0   \n",
       "2019-08-15 A                1             0                 0       0   \n",
       "\n",
       "                NASDAQ100_1  SP500_1  \n",
       "date       sym                        \n",
       "2019-08-09 A              0        1  \n",
       "2019-08-12 A              0        1  \n",
       "2019-08-13 A              0        1  \n",
       "2019-08-14 A              0        1  \n",
       "2019-08-15 A              0        1  \n",
       "\n",
       "[5 rows x 126 columns]"
      ]
     },
     "execution_count": 73,
     "metadata": {},
     "output_type": "execute_result"
    }
   ],
   "source": [
    "df_performance_combined = combine_df(df_performance, df_company, df_analyst)\n",
    "df_performance_combined.head()"
   ]
  },
  {
   "cell_type": "markdown",
   "metadata": {},
   "source": [
    "## Penny"
   ]
  },
  {
   "cell_type": "code",
   "execution_count": 74,
   "metadata": {
    "ExecuteTime": {
     "end_time": "2021-01-18T23:04:09.024349Z",
     "start_time": "2021-01-18T23:04:08.617347Z"
    }
   },
   "outputs": [
    {
     "name": "stdout",
     "output_type": "stream",
     "text": [
      "Added categorical columns\n",
      "3 -> Dividend\n",
      "3 -> securityType\n",
      "3 -> Exchange\n",
      "10 -> sector\n",
      "42 -> industry\n"
     ]
    },
    {
     "data": {
      "text/html": [
       "<div>\n",
       "<style scoped>\n",
       "    .dataframe tbody tr th:only-of-type {\n",
       "        vertical-align: middle;\n",
       "    }\n",
       "\n",
       "    .dataframe tbody tr th {\n",
       "        vertical-align: top;\n",
       "    }\n",
       "\n",
       "    .dataframe thead th {\n",
       "        text-align: right;\n",
       "    }\n",
       "</style>\n",
       "<table border=\"1\" class=\"dataframe\">\n",
       "  <thead>\n",
       "    <tr style=\"text-align: right;\">\n",
       "      <th></th>\n",
       "      <th></th>\n",
       "      <th>index</th>\n",
       "      <th>RevenueTTM</th>\n",
       "      <th>TotalCash</th>\n",
       "      <th>ExDividendDate</th>\n",
       "      <th>Dividend</th>\n",
       "      <th>DividendYield</th>\n",
       "      <th>PriceToBook</th>\n",
       "      <th>PriceToSales</th>\n",
       "      <th>EnterpriseValue</th>\n",
       "      <th>PriceToCashFlow</th>\n",
       "      <th>...</th>\n",
       "      <th>industry_Real Estate Management &amp; Development</th>\n",
       "      <th>industry_Road &amp; Rail</th>\n",
       "      <th>industry_Software</th>\n",
       "      <th>industry_Specialty Retail</th>\n",
       "      <th>industry_Technology Hardware, Storage &amp; Peripherals</th>\n",
       "      <th>industry_Textiles, Apparel &amp; Luxury Goods</th>\n",
       "      <th>industry_Trading Companies &amp; Distributors</th>\n",
       "      <th>Exchange_NASDAQ</th>\n",
       "      <th>Exchange_NYSE</th>\n",
       "      <th>Exchange_OTC</th>\n",
       "    </tr>\n",
       "    <tr>\n",
       "      <th>date</th>\n",
       "      <th>sym</th>\n",
       "      <th></th>\n",
       "      <th></th>\n",
       "      <th></th>\n",
       "      <th></th>\n",
       "      <th></th>\n",
       "      <th></th>\n",
       "      <th></th>\n",
       "      <th></th>\n",
       "      <th></th>\n",
       "      <th></th>\n",
       "      <th></th>\n",
       "      <th></th>\n",
       "      <th></th>\n",
       "      <th></th>\n",
       "      <th></th>\n",
       "      <th></th>\n",
       "      <th></th>\n",
       "      <th></th>\n",
       "      <th></th>\n",
       "      <th></th>\n",
       "      <th></th>\n",
       "    </tr>\n",
       "  </thead>\n",
       "  <tbody>\n",
       "    <tr>\n",
       "      <th>2019-08-09</th>\n",
       "      <th>ACFN</th>\n",
       "      <td>7812</td>\n",
       "      <td>5.205</td>\n",
       "      <td>1.078</td>\n",
       "      <td>0</td>\n",
       "      <td>0.000</td>\n",
       "      <td>0.000</td>\n",
       "      <td>0.000</td>\n",
       "      <td>1.746</td>\n",
       "      <td>8486470.000</td>\n",
       "      <td>0.000</td>\n",
       "      <td>...</td>\n",
       "      <td>0</td>\n",
       "      <td>0</td>\n",
       "      <td>0</td>\n",
       "      <td>0</td>\n",
       "      <td>0</td>\n",
       "      <td>0</td>\n",
       "      <td>0</td>\n",
       "      <td>0</td>\n",
       "      <td>0</td>\n",
       "      <td>0</td>\n",
       "    </tr>\n",
       "    <tr>\n",
       "      <th>2019-08-12</th>\n",
       "      <th>ACFN</th>\n",
       "      <td>7813</td>\n",
       "      <td>5.205</td>\n",
       "      <td>1.078</td>\n",
       "      <td>0</td>\n",
       "      <td>0.000</td>\n",
       "      <td>0.000</td>\n",
       "      <td>0.000</td>\n",
       "      <td>1.526</td>\n",
       "      <td>7344130.600</td>\n",
       "      <td>0.000</td>\n",
       "      <td>...</td>\n",
       "      <td>0</td>\n",
       "      <td>0</td>\n",
       "      <td>0</td>\n",
       "      <td>0</td>\n",
       "      <td>0</td>\n",
       "      <td>0</td>\n",
       "      <td>0</td>\n",
       "      <td>0</td>\n",
       "      <td>0</td>\n",
       "      <td>0</td>\n",
       "    </tr>\n",
       "    <tr>\n",
       "      <th>2019-08-13</th>\n",
       "      <th>ACFN</th>\n",
       "      <td>7814</td>\n",
       "      <td>5.205</td>\n",
       "      <td>1.078</td>\n",
       "      <td>0</td>\n",
       "      <td>0.000</td>\n",
       "      <td>0.000</td>\n",
       "      <td>0.000</td>\n",
       "      <td>1.135</td>\n",
       "      <td>5309200.000</td>\n",
       "      <td>0.000</td>\n",
       "      <td>...</td>\n",
       "      <td>0</td>\n",
       "      <td>0</td>\n",
       "      <td>0</td>\n",
       "      <td>0</td>\n",
       "      <td>0</td>\n",
       "      <td>0</td>\n",
       "      <td>0</td>\n",
       "      <td>0</td>\n",
       "      <td>0</td>\n",
       "      <td>0</td>\n",
       "    </tr>\n",
       "    <tr>\n",
       "      <th>2019-08-14</th>\n",
       "      <th>ACFN</th>\n",
       "      <td>7815</td>\n",
       "      <td>5.205</td>\n",
       "      <td>1.078</td>\n",
       "      <td>0</td>\n",
       "      <td>0.000</td>\n",
       "      <td>0.000</td>\n",
       "      <td>0.000</td>\n",
       "      <td>1.553</td>\n",
       "      <td>7484521.600</td>\n",
       "      <td>0.000</td>\n",
       "      <td>...</td>\n",
       "      <td>0</td>\n",
       "      <td>0</td>\n",
       "      <td>0</td>\n",
       "      <td>0</td>\n",
       "      <td>0</td>\n",
       "      <td>0</td>\n",
       "      <td>0</td>\n",
       "      <td>0</td>\n",
       "      <td>0</td>\n",
       "      <td>0</td>\n",
       "    </tr>\n",
       "    <tr>\n",
       "      <th>2019-08-15</th>\n",
       "      <th>ACFN</th>\n",
       "      <td>7816</td>\n",
       "      <td>5.205</td>\n",
       "      <td>1.078</td>\n",
       "      <td>0</td>\n",
       "      <td>0.000</td>\n",
       "      <td>0.000</td>\n",
       "      <td>0.000</td>\n",
       "      <td>1.646</td>\n",
       "      <td>7969240.000</td>\n",
       "      <td>0.000</td>\n",
       "      <td>...</td>\n",
       "      <td>0</td>\n",
       "      <td>0</td>\n",
       "      <td>0</td>\n",
       "      <td>0</td>\n",
       "      <td>0</td>\n",
       "      <td>0</td>\n",
       "      <td>0</td>\n",
       "      <td>0</td>\n",
       "      <td>0</td>\n",
       "      <td>0</td>\n",
       "    </tr>\n",
       "  </tbody>\n",
       "</table>\n",
       "<p>5 rows × 94 columns</p>\n",
       "</div>"
      ],
      "text/plain": [
       "                 index  RevenueTTM  TotalCash  ExDividendDate  Dividend  \\\n",
       "date       sym                                                            \n",
       "2019-08-09 ACFN   7812       5.205      1.078               0     0.000   \n",
       "2019-08-12 ACFN   7813       5.205      1.078               0     0.000   \n",
       "2019-08-13 ACFN   7814       5.205      1.078               0     0.000   \n",
       "2019-08-14 ACFN   7815       5.205      1.078               0     0.000   \n",
       "2019-08-15 ACFN   7816       5.205      1.078               0     0.000   \n",
       "\n",
       "                 DividendYield  PriceToBook  PriceToSales  EnterpriseValue  \\\n",
       "date       sym                                                               \n",
       "2019-08-09 ACFN          0.000        0.000         1.746      8486470.000   \n",
       "2019-08-12 ACFN          0.000        0.000         1.526      7344130.600   \n",
       "2019-08-13 ACFN          0.000        0.000         1.135      5309200.000   \n",
       "2019-08-14 ACFN          0.000        0.000         1.553      7484521.600   \n",
       "2019-08-15 ACFN          0.000        0.000         1.646      7969240.000   \n",
       "\n",
       "                 PriceToCashFlow  ...  \\\n",
       "date       sym                    ...   \n",
       "2019-08-09 ACFN            0.000  ...   \n",
       "2019-08-12 ACFN            0.000  ...   \n",
       "2019-08-13 ACFN            0.000  ...   \n",
       "2019-08-14 ACFN            0.000  ...   \n",
       "2019-08-15 ACFN            0.000  ...   \n",
       "\n",
       "                 industry_Real Estate Management & Development  \\\n",
       "date       sym                                                   \n",
       "2019-08-09 ACFN                                              0   \n",
       "2019-08-12 ACFN                                              0   \n",
       "2019-08-13 ACFN                                              0   \n",
       "2019-08-14 ACFN                                              0   \n",
       "2019-08-15 ACFN                                              0   \n",
       "\n",
       "                 industry_Road & Rail  industry_Software  \\\n",
       "date       sym                                             \n",
       "2019-08-09 ACFN                     0                  0   \n",
       "2019-08-12 ACFN                     0                  0   \n",
       "2019-08-13 ACFN                     0                  0   \n",
       "2019-08-14 ACFN                     0                  0   \n",
       "2019-08-15 ACFN                     0                  0   \n",
       "\n",
       "                 industry_Specialty Retail  \\\n",
       "date       sym                               \n",
       "2019-08-09 ACFN                          0   \n",
       "2019-08-12 ACFN                          0   \n",
       "2019-08-13 ACFN                          0   \n",
       "2019-08-14 ACFN                          0   \n",
       "2019-08-15 ACFN                          0   \n",
       "\n",
       "                 industry_Technology Hardware, Storage & Peripherals  \\\n",
       "date       sym                                                         \n",
       "2019-08-09 ACFN                                                  0     \n",
       "2019-08-12 ACFN                                                  0     \n",
       "2019-08-13 ACFN                                                  0     \n",
       "2019-08-14 ACFN                                                  0     \n",
       "2019-08-15 ACFN                                                  0     \n",
       "\n",
       "                 industry_Textiles, Apparel & Luxury Goods  \\\n",
       "date       sym                                               \n",
       "2019-08-09 ACFN                                          0   \n",
       "2019-08-12 ACFN                                          0   \n",
       "2019-08-13 ACFN                                          0   \n",
       "2019-08-14 ACFN                                          0   \n",
       "2019-08-15 ACFN                                          0   \n",
       "\n",
       "                 industry_Trading Companies & Distributors  Exchange_NASDAQ  \\\n",
       "date       sym                                                                \n",
       "2019-08-09 ACFN                                          0                0   \n",
       "2019-08-12 ACFN                                          0                0   \n",
       "2019-08-13 ACFN                                          0                0   \n",
       "2019-08-14 ACFN                                          0                0   \n",
       "2019-08-15 ACFN                                          0                0   \n",
       "\n",
       "                 Exchange_NYSE  Exchange_OTC  \n",
       "date       sym                                \n",
       "2019-08-09 ACFN              0             0  \n",
       "2019-08-12 ACFN              0             0  \n",
       "2019-08-13 ACFN              0             0  \n",
       "2019-08-14 ACFN              0             0  \n",
       "2019-08-15 ACFN              0             0  \n",
       "\n",
       "[5 rows x 94 columns]"
      ]
     },
     "execution_count": 74,
     "metadata": {},
     "output_type": "execute_result"
    }
   ],
   "source": [
    "df_penny_performance_combined = combine_df(df_penny_performance, df_company, df_analyst)\n",
    "df_penny_performance_combined.head()"
   ]
  },
  {
   "cell_type": "markdown",
   "metadata": {},
   "source": [
    "## Write pickles"
   ]
  },
  {
   "cell_type": "code",
   "execution_count": 75,
   "metadata": {
    "ExecuteTime": {
     "end_time": "2021-01-18T23:04:09.470347Z",
     "start_time": "2021-01-18T23:04:09.025348Z"
    }
   },
   "outputs": [],
   "source": [
    "df_performance_combined.to_pickle('./data/performance_combined.pkl')\n",
    "df_penny_performance_combined.to_pickle('./data/performance_penny_combined.pkl')"
   ]
  },
  {
   "cell_type": "markdown",
   "metadata": {},
   "source": [
    "# Update Firebase"
   ]
  },
  {
   "cell_type": "code",
   "execution_count": 76,
   "metadata": {
    "ExecuteTime": {
     "end_time": "2021-01-18T23:04:09.486346Z",
     "start_time": "2021-01-18T23:04:09.471347Z"
    }
   },
   "outputs": [],
   "source": [
    "from db import FireBase\n",
    "import json\n",
    "import os"
   ]
  },
  {
   "cell_type": "code",
   "execution_count": 77,
   "metadata": {
    "ExecuteTime": {
     "end_time": "2021-01-18T23:04:09.790347Z",
     "start_time": "2021-01-18T23:04:09.487349Z"
    }
   },
   "outputs": [],
   "source": [
    "fb = FireBase()"
   ]
  },
  {
   "cell_type": "code",
   "execution_count": 78,
   "metadata": {
    "ExecuteTime": {
     "end_time": "2021-01-18T23:04:09.997347Z",
     "start_time": "2021-01-18T23:04:09.791347Z"
    }
   },
   "outputs": [],
   "source": [
    "index = fb.get_index()"
   ]
  },
  {
   "cell_type": "code",
   "execution_count": 79,
   "metadata": {
    "ExecuteTime": {
     "end_time": "2021-01-18T23:04:10.012347Z",
     "start_time": "2021-01-18T23:04:09.998347Z"
    }
   },
   "outputs": [],
   "source": [
    "fb_index = pd.date_range(index['data']['date_range'][0], index['data']['date_range'][-1])"
   ]
  },
  {
   "cell_type": "code",
   "execution_count": 80,
   "metadata": {
    "ExecuteTime": {
     "end_time": "2021-01-18T23:04:10.043348Z",
     "start_time": "2021-01-18T23:04:10.013348Z"
    }
   },
   "outputs": [],
   "source": [
    "to_be_added_performance = df_performance.loc[~df_performance['date'].isin(fb_index)]"
   ]
  },
  {
   "cell_type": "code",
   "execution_count": 81,
   "metadata": {
    "ExecuteTime": {
     "end_time": "2021-01-18T23:04:10.058349Z",
     "start_time": "2021-01-18T23:04:10.044348Z"
    }
   },
   "outputs": [],
   "source": [
    "to_be_added_performance_penny = df_penny_performance.loc[~df_penny_performance['date'].isin(fb_index)]"
   ]
  },
  {
   "cell_type": "code",
   "execution_count": 82,
   "metadata": {
    "ExecuteTime": {
     "end_time": "2021-01-18T23:04:10.074349Z",
     "start_time": "2021-01-18T23:04:10.060350Z"
    }
   },
   "outputs": [],
   "source": [
    "df_post = pd.concat([to_be_added_performance, to_be_added_performance_penny])"
   ]
  },
  {
   "cell_type": "code",
   "execution_count": 83,
   "metadata": {
    "ExecuteTime": {
     "end_time": "2021-01-18T23:04:10.090350Z",
     "start_time": "2021-01-18T23:04:10.075348Z"
    }
   },
   "outputs": [],
   "source": [
    "date_range = index['data']['date_range']"
   ]
  },
  {
   "cell_type": "code",
   "execution_count": 84,
   "metadata": {
    "ExecuteTime": {
     "end_time": "2021-01-18T23:04:10.106349Z",
     "start_time": "2021-01-18T23:04:10.091347Z"
    }
   },
   "outputs": [],
   "source": [
    "df_post = df_post.set_index('date', drop=True)"
   ]
  },
  {
   "cell_type": "code",
   "execution_count": 85,
   "metadata": {
    "ExecuteTime": {
     "end_time": "2021-01-18T23:04:10.122348Z",
     "start_time": "2021-01-18T23:04:10.108348Z"
    }
   },
   "outputs": [],
   "source": [
    "new_dates = pd.Series(df_post.index.unique()).map(lambda x: x.strftime(\"%m-%d-%Y\")).values"
   ]
  },
  {
   "cell_type": "code",
   "execution_count": 86,
   "metadata": {
    "ExecuteTime": {
     "end_time": "2021-01-18T23:04:10.138348Z",
     "start_time": "2021-01-18T23:04:10.123347Z"
    }
   },
   "outputs": [],
   "source": [
    "to_add = {}\n",
    "for date in new_dates:\n",
    "    to_add[len(date_range)] = date\n",
    "    date_range.append(date)"
   ]
  },
  {
   "cell_type": "code",
   "execution_count": 87,
   "metadata": {
    "ExecuteTime": {
     "end_time": "2021-01-18T23:04:10.154347Z",
     "start_time": "2021-01-18T23:04:10.139347Z"
    }
   },
   "outputs": [
    {
     "data": {
      "text/plain": [
       "{356: '12-25-2020',\n",
       " 357: '12-28-2020',\n",
       " 358: '12-29-2020',\n",
       " 359: '12-30-2020',\n",
       " 360: '12-31-2020',\n",
       " 361: '01-01-2021',\n",
       " 362: '01-04-2021',\n",
       " 363: '01-05-2021',\n",
       " 364: '01-06-2021',\n",
       " 365: '01-07-2021',\n",
       " 366: '01-08-2021',\n",
       " 367: '01-11-2021',\n",
       " 368: '01-12-2021',\n",
       " 369: '01-13-2021',\n",
       " 370: '01-14-2021',\n",
       " 371: '01-15-2021'}"
      ]
     },
     "execution_count": 87,
     "metadata": {},
     "output_type": "execute_result"
    }
   ],
   "source": [
    "to_add"
   ]
  },
  {
   "cell_type": "code",
   "execution_count": 88,
   "metadata": {
    "ExecuteTime": {
     "end_time": "2021-01-18T23:20:18.553891Z",
     "start_time": "2021-01-18T23:04:10.156348Z"
    }
   },
   "outputs": [],
   "source": [
    "all_symbols = df_post['sym'].unique()\n",
    "\n",
    "for val, date in to_add.items():\n",
    "    sym_df = df_post.loc[date].groupby('sym')\n",
    "\n",
    "    post = {}\n",
    "    for sym in all_symbols:\n",
    "        sym_new = sym_df.get_group(sym).drop('sym', axis=1).reset_index(drop=True).to_dict()\n",
    "        for key, value in sym_new.items():\n",
    "             post[f\"{sym}/{key}/{val}\"] = value[0]\n",
    "    req = fb.refresh_all_data(post)\n",
    "    try:\n",
    "        req['req']\n",
    "    except KeyError:\n",
    "        print(\"REQUEST ERROR\")\n",
    "        print(req['error'])"
   ]
  },
  {
   "cell_type": "code",
   "execution_count": 89,
   "metadata": {
    "ExecuteTime": {
     "end_time": "2021-01-18T23:21:06.433214Z",
     "start_time": "2021-01-18T23:20:18.555890Z"
    }
   },
   "outputs": [],
   "source": [
    "date_range = pd.Series(date_range).to_dict()\n",
    "df_post.reset_index(drop=True, inplace=True)\n",
    "column_index = list(df_post.columns)\n",
    "column_index.remove('sym')\n",
    "column_index = dict(zip(range(len(column_index)), column_index))\n",
    "all_symbols = df_post['sym'].unique()\n",
    "symbol_index = tuple(all_symbols)\n",
    "index = {\n",
    "    'column': column_index,\n",
    "    'date_range': date_range,\n",
    "    'stocks': symbol_index\n",
    "}\n",
    "req = fb.refresh_index(index)"
   ]
  },
  {
   "cell_type": "code",
   "execution_count": 90,
   "metadata": {
    "ExecuteTime": {
     "end_time": "2021-01-18T23:21:12.659843Z",
     "start_time": "2021-01-18T23:21:06.435214Z"
    }
   },
   "outputs": [
    {
     "name": "stderr",
     "output_type": "stream",
     "text": [
      "Restarting dynos on sql-viewer... done\n"
     ]
    }
   ],
   "source": [
    "!heroku ps:restart --app sql-viewer"
   ]
  },
  {
   "cell_type": "code",
   "execution_count": 91,
   "metadata": {
    "ExecuteTime": {
     "end_time": "2021-01-18T23:21:13.114843Z",
     "start_time": "2021-01-18T23:21:12.661841Z"
    }
   },
   "outputs": [
    {
     "ename": "AssertionError",
     "evalue": "",
     "output_type": "error",
     "traceback": [
      "\u001b[1;31m---------------------------------------------------------------------------\u001b[0m",
      "\u001b[1;31mAssertionError\u001b[0m                            Traceback (most recent call last)",
      "\u001b[1;32m<ipython-input-91-48f85dea7074>\u001b[0m in \u001b[0;36m<module>\u001b[1;34m\u001b[0m\n\u001b[1;32m----> 1\u001b[1;33m \u001b[1;32massert\u001b[0m\u001b[1;33m(\u001b[0m\u001b[1;32mFalse\u001b[0m\u001b[1;33m)\u001b[0m \u001b[1;31m# restart dyno for dashboard\u001b[0m\u001b[1;33m\u001b[0m\u001b[1;33m\u001b[0m\u001b[0m\n\u001b[0m",
      "\u001b[1;31mAssertionError\u001b[0m: "
     ]
    }
   ],
   "source": [
    "assert(False) # restart dyno for dashboard"
   ]
  },
  {
   "cell_type": "markdown",
   "metadata": {},
   "source": [
    "# Post to firebase\n",
    "> Need to add updating"
   ]
  },
  {
   "cell_type": "code",
   "execution_count": null,
   "metadata": {
    "ExecuteTime": {
     "end_time": "2021-01-18T23:21:13.115840Z",
     "start_time": "2021-01-18T22:03:53.194Z"
    }
   },
   "outputs": [],
   "source": [
    "assert(False) # Don't run this unless firebase has been cleared"
   ]
  },
  {
   "cell_type": "code",
   "execution_count": null,
   "metadata": {
    "ExecuteTime": {
     "end_time": "2021-01-18T23:21:13.116841Z",
     "start_time": "2021-01-18T22:03:53.196Z"
    }
   },
   "outputs": [],
   "source": [
    "from db import FireBase\n",
    "import json\n",
    "import os"
   ]
  },
  {
   "cell_type": "code",
   "execution_count": null,
   "metadata": {
    "ExecuteTime": {
     "end_time": "2021-01-18T23:21:13.117841Z",
     "start_time": "2021-01-18T22:03:53.197Z"
    }
   },
   "outputs": [],
   "source": [
    "os.listdir('./data')"
   ]
  },
  {
   "cell_type": "code",
   "execution_count": null,
   "metadata": {
    "ExecuteTime": {
     "end_time": "2021-01-18T23:21:13.118842Z",
     "start_time": "2021-01-18T22:03:53.199Z"
    }
   },
   "outputs": [],
   "source": [
    "df_performance = pd.read_pickle('./data/performance.pkl')\n",
    "df_penny_performance = pd.read_pickle('./data/penny_performance.pkl')"
   ]
  },
  {
   "cell_type": "code",
   "execution_count": null,
   "metadata": {
    "ExecuteTime": {
     "end_time": "2021-01-18T23:21:13.118842Z",
     "start_time": "2021-01-18T22:03:53.201Z"
    }
   },
   "outputs": [],
   "source": [
    "df_post = pd.concat([df_performance, df_penny_performance])\n",
    "df_post = df_post.set_index(['date'], drop=True)\n",
    "df_post.head()"
   ]
  },
  {
   "cell_type": "code",
   "execution_count": null,
   "metadata": {
    "ExecuteTime": {
     "end_time": "2021-01-18T23:21:13.119841Z",
     "start_time": "2021-01-18T22:03:53.202Z"
    }
   },
   "outputs": [],
   "source": [
    "fb = FireBase()\n",
    "post = {}\n",
    "all_symbols = df_post['sym'].unique()\n",
    "sym_df = df_post.groupby('sym')\n",
    "\n",
    "x = 0\n",
    "for sym in all_symbols:\n",
    "    x += 1\n",
    "    post[sym] = sym_df.get_group(sym).drop('sym', axis=1).reset_index(drop=True).to_dict()\n",
    "    if x == 100:\n",
    "        print('posting ->', sym, end='\\r')\n",
    "        req = fb.refresh_all_data(post)\n",
    "        print('posted ->', sym, end='\\r')\n",
    "        post = {}\n",
    "        x = 0\n",
    "\n",
    "req = fb.refresh_all_data(post)"
   ]
  },
  {
   "cell_type": "code",
   "execution_count": null,
   "metadata": {
    "ExecuteTime": {
     "end_time": "2021-01-18T23:21:13.120842Z",
     "start_time": "2021-01-18T22:03:53.204Z"
    }
   },
   "outputs": [],
   "source": [
    "date_range = df_post.query(\"sym == 'AAPL'\").reset_index().date.map(lambda x: x.strftime(\"%m-%d-%Y\")).to_dict()\n",
    "df_post.reset_index(drop=True, inplace=True)\n",
    "column_index = list(df_post.columns)\n",
    "column_index.remove('sym')\n",
    "column_index = dict(zip(range(len(column_index)), column_index))\n",
    "all_symbols = df_post['sym'].unique()"
   ]
  },
  {
   "cell_type": "code",
   "execution_count": null,
   "metadata": {
    "ExecuteTime": {
     "end_time": "2021-01-18T23:21:13.121844Z",
     "start_time": "2021-01-18T22:03:53.207Z"
    }
   },
   "outputs": [],
   "source": [
    "symbol_index = tuple(all_symbols)"
   ]
  },
  {
   "cell_type": "code",
   "execution_count": null,
   "metadata": {
    "ExecuteTime": {
     "end_time": "2021-01-18T23:21:13.122843Z",
     "start_time": "2021-01-18T22:03:53.209Z"
    }
   },
   "outputs": [],
   "source": [
    "index = {\n",
    "    'column': column_index,\n",
    "    'date_range': date_range,\n",
    "    'stocks': symbol_index\n",
    "}\n",
    "req = fb.refresh_index(index)"
   ]
  },
  {
   "cell_type": "markdown",
   "metadata": {},
   "source": [
    "# Conclusion\n",
    "> Point back to main notebook"
   ]
  }
 ],
 "metadata": {
  "kernelspec": {
   "display_name": "Python 3",
   "language": "python",
   "name": "python3"
  },
  "language_info": {
   "codemirror_mode": {
    "name": "ipython",
    "version": 3
   },
   "file_extension": ".py",
   "mimetype": "text/x-python",
   "name": "python",
   "nbconvert_exporter": "python",
   "pygments_lexer": "ipython3",
   "version": "3.7.9"
  },
  "toc": {
   "base_numbering": 1,
   "nav_menu": {},
   "number_sections": true,
   "sideBar": true,
   "skip_h1_title": false,
   "title_cell": "Table of Contents",
   "title_sidebar": "Contents",
   "toc_cell": true,
   "toc_position": {
    "height": "calc(100% - 180px)",
    "left": "10px",
    "top": "150px",
    "width": "317.969px"
   },
   "toc_section_display": true,
   "toc_window_display": true
  }
 },
 "nbformat": 4,
 "nbformat_minor": 4
}
