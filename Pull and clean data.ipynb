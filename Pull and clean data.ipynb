{
 "cells": [
  {
   "cell_type": "markdown",
   "metadata": {
    "toc": true
   },
   "source": [
    "<h1>Table of Contents<span class=\"tocSkip\"></span></h1>\n",
    "<div class=\"toc\"><ul class=\"toc-item\"><li><span><a href=\"#Introduction\" data-toc-modified-id=\"Introduction-1\"><span class=\"toc-item-num\">1&nbsp;&nbsp;</span>Introduction</a></span><ul class=\"toc-item\"><li><span><a href=\"#Style\" data-toc-modified-id=\"Style-1.1\"><span class=\"toc-item-num\">1.1&nbsp;&nbsp;</span>Style</a></span></li><li><span><a href=\"#Imports-and-Data\" data-toc-modified-id=\"Imports-and-Data-1.2\"><span class=\"toc-item-num\">1.2&nbsp;&nbsp;</span>Imports and Data</a></span></li></ul></li><li><span><a href=\"#Prices\" data-toc-modified-id=\"Prices-2\"><span class=\"toc-item-num\">2&nbsp;&nbsp;</span>Prices</a></span><ul class=\"toc-item\"><li><span><a href=\"#Clean-for-new-sql\" data-toc-modified-id=\"Clean-for-new-sql-2.1\"><span class=\"toc-item-num\">2.1&nbsp;&nbsp;</span>Clean for new sql</a></span><ul class=\"toc-item\"><li><span><a href=\"#Reindex\" data-toc-modified-id=\"Reindex-2.1.1\"><span class=\"toc-item-num\">2.1.1&nbsp;&nbsp;</span>Reindex</a></span></li></ul></li><li><span><a href=\"#Post-to-sql\" data-toc-modified-id=\"Post-to-sql-2.2\"><span class=\"toc-item-num\">2.2&nbsp;&nbsp;</span>Post to sql</a></span></li><li><span><a href=\"#Pickle\" data-toc-modified-id=\"Pickle-2.3\"><span class=\"toc-item-num\">2.3&nbsp;&nbsp;</span>Pickle</a></span></li></ul></li><li><span><a href=\"#Splits\" data-toc-modified-id=\"Splits-3\"><span class=\"toc-item-num\">3&nbsp;&nbsp;</span>Splits</a></span></li><li><span><a href=\"#Performance\" data-toc-modified-id=\"Performance-4\"><span class=\"toc-item-num\">4&nbsp;&nbsp;</span>Performance</a></span><ul class=\"toc-item\"><li><span><a href=\"#Functions\" data-toc-modified-id=\"Functions-4.1\"><span class=\"toc-item-num\">4.1&nbsp;&nbsp;</span>Functions</a></span></li><li><span><a href=\"#Clean-for-new-sql\" data-toc-modified-id=\"Clean-for-new-sql-4.2\"><span class=\"toc-item-num\">4.2&nbsp;&nbsp;</span>Clean for new sql</a></span><ul class=\"toc-item\"><li><span><a href=\"#Analyze-null-values\" data-toc-modified-id=\"Analyze-null-values-4.2.1\"><span class=\"toc-item-num\">4.2.1&nbsp;&nbsp;</span>Analyze null values</a></span></li><li><span><a href=\"#More-cleaning\" data-toc-modified-id=\"More-cleaning-4.2.2\"><span class=\"toc-item-num\">4.2.2&nbsp;&nbsp;</span>More cleaning</a></span></li><li><span><a href=\"#Execute-col_to_fill\" data-toc-modified-id=\"Execute-col_to_fill-4.2.3\"><span class=\"toc-item-num\">4.2.3&nbsp;&nbsp;</span>Execute col_to_fill</a></span></li><li><span><a href=\"#Execute-col_to_fill_then_drop\" data-toc-modified-id=\"Execute-col_to_fill_then_drop-4.2.4\"><span class=\"toc-item-num\">4.2.4&nbsp;&nbsp;</span>Execute col_to_fill_then_drop</a></span></li><li><span><a href=\"#Add-price-to-performance\" data-toc-modified-id=\"Add-price-to-performance-4.2.5\"><span class=\"toc-item-num\">4.2.5&nbsp;&nbsp;</span>Add price to performance</a></span></li><li><span><a href=\"#Apply-Splits\" data-toc-modified-id=\"Apply-Splits-4.2.6\"><span class=\"toc-item-num\">4.2.6&nbsp;&nbsp;</span>Apply Splits</a></span></li><li><span><a href=\"#Separate-out-penny-stocks\" data-toc-modified-id=\"Separate-out-penny-stocks-4.2.7\"><span class=\"toc-item-num\">4.2.7&nbsp;&nbsp;</span>Separate out penny stocks</a></span></li><li><span><a href=\"#View-loss\" data-toc-modified-id=\"View-loss-4.2.8\"><span class=\"toc-item-num\">4.2.8&nbsp;&nbsp;</span>View loss</a></span></li></ul></li><li><span><a href=\"#Pickle\" data-toc-modified-id=\"Pickle-4.3\"><span class=\"toc-item-num\">4.3&nbsp;&nbsp;</span>Pickle</a></span></li><li><span><a href=\"#Post-to-sql\" data-toc-modified-id=\"Post-to-sql-4.4\"><span class=\"toc-item-num\">4.4&nbsp;&nbsp;</span>Post to sql</a></span></li></ul></li><li><span><a href=\"#Company\" data-toc-modified-id=\"Company-5\"><span class=\"toc-item-num\">5&nbsp;&nbsp;</span>Company</a></span><ul class=\"toc-item\"><li><span><a href=\"#Clean-for-new-sql\" data-toc-modified-id=\"Clean-for-new-sql-5.1\"><span class=\"toc-item-num\">5.1&nbsp;&nbsp;</span>Clean for new sql</a></span></li></ul></li><li><span><a href=\"#Analyst\" data-toc-modified-id=\"Analyst-6\"><span class=\"toc-item-num\">6&nbsp;&nbsp;</span>Analyst</a></span><ul class=\"toc-item\"><li><span><a href=\"#Checking-for-null-values\" data-toc-modified-id=\"Checking-for-null-values-6.1\"><span class=\"toc-item-num\">6.1&nbsp;&nbsp;</span>Checking for null values</a></span></li><li><span><a href=\"#Filling-null-values\" data-toc-modified-id=\"Filling-null-values-6.2\"><span class=\"toc-item-num\">6.2&nbsp;&nbsp;</span>Filling null values</a></span></li><li><span><a href=\"#Mapping\" data-toc-modified-id=\"Mapping-6.3\"><span class=\"toc-item-num\">6.3&nbsp;&nbsp;</span>Mapping</a></span></li><li><span><a href=\"#Convert-strings-to-float\" data-toc-modified-id=\"Convert-strings-to-float-6.4\"><span class=\"toc-item-num\">6.4&nbsp;&nbsp;</span>Convert strings to float</a></span></li><li><span><a href=\"#Add-to-sql-server\" data-toc-modified-id=\"Add-to-sql-server-6.5\"><span class=\"toc-item-num\">6.5&nbsp;&nbsp;</span>Add to sql server</a></span></li><li><span><a href=\"#Pickle\" data-toc-modified-id=\"Pickle-6.6\"><span class=\"toc-item-num\">6.6&nbsp;&nbsp;</span>Pickle</a></span></li></ul></li><li><span><a href=\"#Combine-company,-analyst-and-performance\" data-toc-modified-id=\"Combine-company,-analyst-and-performance-7\"><span class=\"toc-item-num\">7&nbsp;&nbsp;</span>Combine company, analyst and performance</a></span><ul class=\"toc-item\"><li><span><a href=\"#Performance\" data-toc-modified-id=\"Performance-7.1\"><span class=\"toc-item-num\">7.1&nbsp;&nbsp;</span>Performance</a></span></li><li><span><a href=\"#Penny\" data-toc-modified-id=\"Penny-7.2\"><span class=\"toc-item-num\">7.2&nbsp;&nbsp;</span>Penny</a></span></li><li><span><a href=\"#Write-pickles\" data-toc-modified-id=\"Write-pickles-7.3\"><span class=\"toc-item-num\">7.3&nbsp;&nbsp;</span>Write pickles</a></span></li></ul></li><li><span><a href=\"#Post-to-firebase\" data-toc-modified-id=\"Post-to-firebase-8\"><span class=\"toc-item-num\">8&nbsp;&nbsp;</span>Post to firebase</a></span></li></ul></div>"
   ]
  },
  {
   "cell_type": "markdown",
   "metadata": {},
   "source": [
    "# Introduction\n",
    "> To do:\n",
    "> * update firebase vs overwrite\n",
    "> * take index from performance and penny performance rather than searching through all 8000 stocks"
   ]
  },
  {
   "cell_type": "markdown",
   "metadata": {},
   "source": [
    "## Style"
   ]
  },
  {
   "cell_type": "code",
   "execution_count": 1,
   "metadata": {
    "ExecuteTime": {
     "end_time": "2020-12-02T10:59:05.462950Z",
     "start_time": "2020-12-02T10:59:05.288951Z"
    }
   },
   "outputs": [
    {
     "data": {
      "text/html": [
       "<style>.shadowbox {\n",
       "    width: 40em;\n",
       "    border: 1px solid #333;\n",
       "    box-shadow: 8px 8px 5px #444;\n",
       "    padding: 8px 12px;\n",
       "    background-image: linear-gradient(180deg, black, rgb(107, 88, 88));\n",
       "    color: rgba(243, 218, 74, 0.801);\n",
       "    line-height: 25px;\n",
       "    position: static;\n",
       "}\n",
       "\n",
       "h1 {\n",
       "    width: 38em;\n",
       "    border: 1.5px solid #333;\n",
       "    /*box-shadow: 8px 8px 5px #444;*/\n",
       "    padding: 8px 12px;\n",
       "    background-image: linear-gradient(180deg, #fff, rgb(147, 156, 160));\n",
       "    position: static;\n",
       "}\n",
       "\n",
       "h2 {\n",
       "    width: 37em;\n",
       "    border: 1px solid #333;\n",
       "    /*box-shadow: 8px 8px 5px #444;*/\n",
       "    padding: 8px 12px;\n",
       "    background-image: linear-gradient(180deg, #fff, rgb(147, 156, 160));\n",
       "    position: relative;\n",
       "    right: -13px;\n",
       "}\n",
       "\n",
       "h3 {\n",
       "    width: 36em;\n",
       "    border: 0.5px solid #333;\n",
       "    /*box-shadow: 8px 8px 5px #444;*/\n",
       "    padding: 8px 12px;\n",
       "    background-image: linear-gradient(180deg, #fff, rgb(147, 156, 160));\n",
       "    position: relative;\n",
       "    right: -25px;\n",
       "}\n",
       "\n",
       ".shadow {\n",
       "    width: 45em;\n",
       "    box-shadow: 8px 8px 10px #444;\n",
       "    border: 1px solid silver;\n",
       "    margin-top: 2em;\n",
       "    position: relative;\n",
       "    top: -25px\n",
       "}\n",
       "\n",
       ".package_header {\n",
       "    width: 100%;\n",
       "    background-color: #0e2b59;\n",
       "    color: #ffffff;\n",
       "    font-size: 14px;\n",
       "    text-align: center;\n",
       "    padding-top: 8px;\n",
       "    padding-right: 8px;\n",
       "    padding-bottom: 8px;\n",
       "    padding-left: 8px;\n",
       "}\n",
       "\n",
       "blockquote {\n",
       "    border: 1px groove gray;\n",
       "    background-color: rgb(214, 218, 219);\n",
       "}\n",
       "\n",
       "</style>"
      ],
      "text/plain": [
       "<IPython.core.display.HTML object>"
      ]
     },
     "execution_count": 1,
     "metadata": {},
     "output_type": "execute_result"
    }
   ],
   "source": [
    "import warnings\n",
    "import matplotlib as mpl\n",
    "mpl.rcParams['axes.titlesize']='xx-large'\n",
    "mpl.rcParams['xtick.labelsize'] = 13\n",
    "mpl.rcParams['ytick.labelsize'] = 13\n",
    "mpl.rcParams['axes.labelsize'] = 16\n",
    "\n",
    "# Styling notebook\n",
    "from IPython.core.display import HTML\n",
    "def css_styling():\n",
    "    styles = open(\"./styles/custom.css\", \"r\").read()\n",
    "    return HTML(styles)\n",
    "css_styling()"
   ]
  },
  {
   "cell_type": "markdown",
   "metadata": {},
   "source": [
    "## Imports and Data"
   ]
  },
  {
   "cell_type": "code",
   "execution_count": 2,
   "metadata": {
    "ExecuteTime": {
     "end_time": "2020-12-02T10:59:09.347873Z",
     "start_time": "2020-12-02T10:59:05.463950Z"
    }
   },
   "outputs": [
    {
     "name": "stdout",
     "output_type": "stream",
     "text": [
      "For convinent loading 'from mlframe import MLFrame\n"
     ]
    },
    {
     "name": "stderr",
     "output_type": "stream",
     "text": [
      "C:\\Users\\12147\\anaconda3\\envs\\tf-gpu\\lib\\site-packages\\sklearn\\utils\\deprecation.py:143: FutureWarning: The sklearn.metrics.classification module is  deprecated in version 0.22 and will be removed in version 0.24. The corresponding classes / functions should instead be imported from sklearn.metrics. Anything that cannot be imported from sklearn.metrics is now part of the private API.\n",
      "  warnings.warn(message, FutureWarning)\n"
     ]
    }
   ],
   "source": [
    "USE_GPU = True\n",
    "IGNORE_WARN = True\n",
    "SEED = 42\n",
    "\n",
    "import os\n",
    "import sys\n",
    "import time\n",
    "import datetime\n",
    "import importlib\n",
    "import pandas as pd\n",
    "import matplotlib.pyplot as plt\n",
    "pd.set_option('display.float_format', lambda x: '%.3f' % x)\n",
    "\n",
    "# Imports for reproducability\n",
    "import numpy as np\n",
    "np.random.seed(SEED)\n",
    "\n",
    "import tensorflow as tf\n",
    "tf.random.set_seed(SEED)\n",
    "\n",
    "if 'mlframe' in sys.modules:\n",
    "    importlib.reload(sys.modules['mlframe'])\n",
    "    importlib.reload(sys.modules['db'])\n",
    "\n",
    "from db import DataBase\n",
    "from mlframe import MLFrame\n",
    "\n",
    "# Ignore warnings\n",
    "if IGNORE_WARN:\n",
    "    warnings.filterwarnings('ignore')"
   ]
  },
  {
   "cell_type": "code",
   "execution_count": 3,
   "metadata": {
    "ExecuteTime": {
     "end_time": "2020-12-02T11:00:25.171206Z",
     "start_time": "2020-12-02T10:59:09.348872Z"
    }
   },
   "outputs": [],
   "source": [
    "db = DataBase('stock', 14333, 'localhost')\n",
    "db.cur.execute(\n",
    "\"\"\"\n",
    "SHOW TABLES\n",
    "\"\"\")\n",
    "db_names = list(table[0] for table in db.cur.fetchall())\n",
    "db.pull_names_as_dataframes(db_names)\n",
    "db.conn.close()"
   ]
  },
  {
   "cell_type": "markdown",
   "metadata": {
    "ExecuteTime": {
     "end_time": "2020-11-28T09:40:27.024115Z",
     "start_time": "2020-11-28T09:40:27.009129Z"
    }
   },
   "source": [
    "# Prices"
   ]
  },
  {
   "cell_type": "markdown",
   "metadata": {},
   "source": [
    "## Clean for new sql"
   ]
  },
  {
   "cell_type": "code",
   "execution_count": 4,
   "metadata": {
    "ExecuteTime": {
     "end_time": "2020-12-02T11:00:26.045220Z",
     "start_time": "2020-12-02T11:00:25.172209Z"
    }
   },
   "outputs": [
    {
     "name": "stdout",
     "output_type": "stream",
     "text": [
      "Null values = \n",
      " sym      0\n",
      "price    0\n",
      "dtype: int64\n",
      "\n",
      "\n",
      "Indexes\n"
     ]
    },
    {
     "data": {
      "text/html": [
       "<div>\n",
       "<style scoped>\n",
       "    .dataframe tbody tr th:only-of-type {\n",
       "        vertical-align: middle;\n",
       "    }\n",
       "\n",
       "    .dataframe tbody tr th {\n",
       "        vertical-align: top;\n",
       "    }\n",
       "\n",
       "    .dataframe thead th {\n",
       "        text-align: right;\n",
       "    }\n",
       "</style>\n",
       "<table border=\"1\" class=\"dataframe\">\n",
       "  <thead>\n",
       "    <tr style=\"text-align: right;\">\n",
       "      <th></th>\n",
       "      <th>date</th>\n",
       "      <th>sym</th>\n",
       "      <th>price</th>\n",
       "    </tr>\n",
       "  </thead>\n",
       "  <tbody>\n",
       "    <tr>\n",
       "      <th>0</th>\n",
       "      <td>2019-08-09</td>\n",
       "      <td>AAPL</td>\n",
       "      <td>200.940000</td>\n",
       "    </tr>\n",
       "  </tbody>\n",
       "</table>\n",
       "</div>"
      ],
      "text/plain": [
       "         date   sym       price\n",
       "0  2019-08-09  AAPL  200.940000"
      ]
     },
     "metadata": {},
     "output_type": "display_data"
    },
    {
     "data": {
      "text/html": [
       "<div>\n",
       "<style scoped>\n",
       "    .dataframe tbody tr th:only-of-type {\n",
       "        vertical-align: middle;\n",
       "    }\n",
       "\n",
       "    .dataframe tbody tr th {\n",
       "        vertical-align: top;\n",
       "    }\n",
       "\n",
       "    .dataframe thead th {\n",
       "        text-align: right;\n",
       "    }\n",
       "</style>\n",
       "<table border=\"1\" class=\"dataframe\">\n",
       "  <thead>\n",
       "    <tr style=\"text-align: right;\">\n",
       "      <th></th>\n",
       "      <th>date</th>\n",
       "      <th>sym</th>\n",
       "      <th>price</th>\n",
       "    </tr>\n",
       "  </thead>\n",
       "  <tbody>\n",
       "    <tr>\n",
       "      <th>338</th>\n",
       "      <td>2020-12-01</td>\n",
       "      <td>AAPL</td>\n",
       "      <td>122.720000</td>\n",
       "    </tr>\n",
       "  </tbody>\n",
       "</table>\n",
       "</div>"
      ],
      "text/plain": [
       "           date   sym       price\n",
       "338  2020-12-01  AAPL  122.720000"
      ]
     },
     "metadata": {},
     "output_type": "display_data"
    },
    {
     "name": "stdout",
     "output_type": "stream",
     "text": [
      "\n",
      "\n",
      " Head\n"
     ]
    },
    {
     "data": {
      "text/html": [
       "<div>\n",
       "<style scoped>\n",
       "    .dataframe tbody tr th:only-of-type {\n",
       "        vertical-align: middle;\n",
       "    }\n",
       "\n",
       "    .dataframe tbody tr th {\n",
       "        vertical-align: top;\n",
       "    }\n",
       "\n",
       "    .dataframe thead th {\n",
       "        text-align: right;\n",
       "    }\n",
       "</style>\n",
       "<table border=\"1\" class=\"dataframe\">\n",
       "  <thead>\n",
       "    <tr style=\"text-align: right;\">\n",
       "      <th></th>\n",
       "      <th>sym</th>\n",
       "      <th>price</th>\n",
       "    </tr>\n",
       "    <tr>\n",
       "      <th>date</th>\n",
       "      <th></th>\n",
       "      <th></th>\n",
       "    </tr>\n",
       "  </thead>\n",
       "  <tbody>\n",
       "    <tr>\n",
       "      <th>2019-06-04</th>\n",
       "      <td>A</td>\n",
       "      <td>67.950000</td>\n",
       "    </tr>\n",
       "    <tr>\n",
       "      <th>2019-06-08</th>\n",
       "      <td>A</td>\n",
       "      <td>69.520000</td>\n",
       "    </tr>\n",
       "    <tr>\n",
       "      <th>2019-06-17</th>\n",
       "      <td>A</td>\n",
       "      <td>70.290000</td>\n",
       "    </tr>\n",
       "    <tr>\n",
       "      <th>2019-06-19</th>\n",
       "      <td>A</td>\n",
       "      <td>71.910000</td>\n",
       "    </tr>\n",
       "    <tr>\n",
       "      <th>2019-06-20</th>\n",
       "      <td>A</td>\n",
       "      <td>73.320000</td>\n",
       "    </tr>\n",
       "  </tbody>\n",
       "</table>\n",
       "</div>"
      ],
      "text/plain": [
       "           sym      price\n",
       "date                     \n",
       "2019-06-04   A  67.950000\n",
       "2019-06-08   A  69.520000\n",
       "2019-06-17   A  70.290000\n",
       "2019-06-19   A  71.910000\n",
       "2019-06-20   A  73.320000"
      ]
     },
     "execution_count": 4,
     "metadata": {},
     "output_type": "execute_result"
    }
   ],
   "source": [
    "# Cleaning first blank row\n",
    "df_prices = db.frames['prices'].copy(deep=True).drop(0)\n",
    "\n",
    "# Resetting date index and dropping index\n",
    "df_prices.set_index('date', inplace=True, drop=True)\n",
    "\n",
    "print(\"Null values = \\n\", df_prices.isna().sum())\n",
    "print(\"\\n\\nIndexes\")\n",
    "query = df_prices.query(\"sym == 'AAPL'\")\n",
    "aapl_dis = query.loc[query.index > pd.to_datetime('2019-08-08')].reset_index()\n",
    "display(aapl_dis.head(1))\n",
    "display(aapl_dis.tail(1))\n",
    "print(\"\\n\\n Head\")\n",
    "df_prices.head()"
   ]
  },
  {
   "cell_type": "markdown",
   "metadata": {},
   "source": [
    "### Reindex"
   ]
  },
  {
   "cell_type": "code",
   "execution_count": 5,
   "metadata": {
    "ExecuteTime": {
     "end_time": "2020-12-02T11:33:51.278599Z",
     "start_time": "2020-12-02T11:00:26.046220Z"
    }
   },
   "outputs": [
    {
     "name": "stdout",
     "output_type": "stream",
     "text": [
      "8018/8018 in  0.25s for ZYXI :: averaging 0.25s/sym......\r"
     ]
    },
    {
     "data": {
      "text/html": [
       "<div>\n",
       "<style scoped>\n",
       "    .dataframe tbody tr th:only-of-type {\n",
       "        vertical-align: middle;\n",
       "    }\n",
       "\n",
       "    .dataframe tbody tr th {\n",
       "        vertical-align: top;\n",
       "    }\n",
       "\n",
       "    .dataframe thead th {\n",
       "        text-align: right;\n",
       "    }\n",
       "</style>\n",
       "<table border=\"1\" class=\"dataframe\">\n",
       "  <thead>\n",
       "    <tr style=\"text-align: right;\">\n",
       "      <th></th>\n",
       "      <th>sym</th>\n",
       "      <th>price</th>\n",
       "    </tr>\n",
       "    <tr>\n",
       "      <th>date</th>\n",
       "      <th></th>\n",
       "      <th></th>\n",
       "    </tr>\n",
       "  </thead>\n",
       "  <tbody>\n",
       "    <tr>\n",
       "      <th>2019-08-09</th>\n",
       "      <td>A</td>\n",
       "      <td>68.640</td>\n",
       "    </tr>\n",
       "    <tr>\n",
       "      <th>2019-08-12</th>\n",
       "      <td>A</td>\n",
       "      <td>66.780</td>\n",
       "    </tr>\n",
       "    <tr>\n",
       "      <th>2019-08-13</th>\n",
       "      <td>A</td>\n",
       "      <td>67.640</td>\n",
       "    </tr>\n",
       "    <tr>\n",
       "      <th>2019-08-14</th>\n",
       "      <td>A</td>\n",
       "      <td>65.590</td>\n",
       "    </tr>\n",
       "    <tr>\n",
       "      <th>2019-08-15</th>\n",
       "      <td>A</td>\n",
       "      <td>69.590</td>\n",
       "    </tr>\n",
       "  </tbody>\n",
       "</table>\n",
       "</div>"
      ],
      "text/plain": [
       "           sym  price\n",
       "date                 \n",
       "2019-08-09   A 68.640\n",
       "2019-08-12   A 66.780\n",
       "2019-08-13   A 67.640\n",
       "2019-08-14   A 65.590\n",
       "2019-08-15   A 69.590"
      ]
     },
     "execution_count": 5,
     "metadata": {},
     "output_type": "execute_result"
    }
   ],
   "source": [
    "idx = pd.date_range(aapl_dis.head(1).date.values[0], aapl_dis.tail(1).date.values[0], freq='B')\n",
    "drop_index = pd.to_datetime(['2019-12-09', '2020-06-23', '2020-06-24', '2020-06-25'])\n",
    "idx = idx.drop(drop_index)\n",
    "\n",
    "all_symbols = df_prices['sym'].unique()\n",
    "\n",
    "sym_dfs = []\n",
    "unfilled_syms = []\n",
    "sym_num = len(all_symbols)\n",
    "times = np.array([])\n",
    "\n",
    "def cust_interpolate_fill_na(sym):\n",
    "    df = pd.DataFrame(df_prices.query(f\"sym == '{sym}'\"), index=idx)\n",
    "    df['price'] = pd.to_numeric(df['price'], errors='coerce').interpolate()\n",
    "    df['sym'].fillna(sym, inplace=True)\n",
    "    if df.isna().sum().sum():\n",
    "        unfilled_syms.append(sym)\n",
    "    else:\n",
    "        sym_dfs.append(df)\n",
    "\n",
    "for num, sym in enumerate(all_symbols):\n",
    "    start = time.time()\n",
    "    cust_interpolate_fill_na(sym)  # Timed function\n",
    "    end = time.time()\n",
    "    time_taken = end-start\n",
    "    times = np.append(times, time_taken)\n",
    "    print(f\"{num+1}/{sym_num} in {time_taken: .2f}s for {sym} :: averaging {times.mean():.2f}s/sym...\", end='\\r')\n",
    "\n",
    "df_prices = pd.concat(sym_dfs)\n",
    "df_prices.index = df_prices.index.strftime('%Y-%m-%d')\n",
    "df_prices.index.name = 'date'\n",
    "df_prices.head()"
   ]
  },
  {
   "cell_type": "code",
   "execution_count": 6,
   "metadata": {
    "ExecuteTime": {
     "end_time": "2020-12-02T11:33:51.452599Z",
     "start_time": "2020-12-02T11:33:51.279604Z"
    }
   },
   "outputs": [
    {
     "name": "stdout",
     "output_type": "stream",
     "text": [
      "Total stocks left =  6103\n",
      "NA values =  0\n"
     ]
    }
   ],
   "source": [
    "print(\"Total stocks left = \", df_prices['sym'].nunique())\n",
    "print(\"NA values = \", df_prices.isna().sum().sum())"
   ]
  },
  {
   "cell_type": "markdown",
   "metadata": {},
   "source": [
    "## Post to sql"
   ]
  },
  {
   "cell_type": "code",
   "execution_count": 7,
   "metadata": {
    "ExecuteTime": {
     "end_time": "2020-12-02T11:33:51.818600Z",
     "start_time": "2020-12-02T11:33:51.453601Z"
    }
   },
   "outputs": [],
   "source": [
    "# Reindex for entry\n",
    "df_prices = df_prices.reset_index().set_index(['sym', 'date'], drop=True)"
   ]
  },
  {
   "cell_type": "code",
   "execution_count": 8,
   "metadata": {
    "ExecuteTime": {
     "end_time": "2020-12-02T11:36:11.569576Z",
     "start_time": "2020-12-02T11:33:51.819598Z"
    }
   },
   "outputs": [],
   "source": [
    "# Open database cleaned\n",
    "db_clean = DataBase('stock_cleaned', 14333, 'localhost')\n",
    "db_clean.pull_names_as_dataframes(['prices'])\n",
    "db_clean.frames['prices']\n",
    "\n",
    "# Make list of queries to post to sql\n",
    "query_list = []\n",
    "for idx, row in df_prices.reset_index().iterrows():\n",
    "    query_list.append(tuple(row.to_dict().values()))\n",
    "\n",
    "# Execute query\n",
    "db_clean.cur.executemany(\"\"\"\n",
    "REPLACE INTO prices (sym, date, price)\n",
    "VALUES (%s, %s, %s)\"\"\",\n",
    "      query_list)\n",
    "\n",
    "# Commit\n",
    "db_clean.conn.commit()\n",
    "\n",
    "# Close db\n",
    "db_clean.conn.close()"
   ]
  },
  {
   "cell_type": "markdown",
   "metadata": {
    "ExecuteTime": {
     "end_time": "2020-11-28T09:41:08.077324Z",
     "start_time": "2020-11-28T09:41:08.066190Z"
    }
   },
   "source": [
    "## Pickle"
   ]
  },
  {
   "cell_type": "code",
   "execution_count": 9,
   "metadata": {
    "ExecuteTime": {
     "end_time": "2020-12-02T11:36:12.214646Z",
     "start_time": "2020-12-02T11:36:11.570578Z"
    }
   },
   "outputs": [],
   "source": [
    "# Pickle because of 30 minute runtime.  Need to find a faster way...\n",
    "df_prices.to_pickle(\"./data/prices.pkl\")\n",
    "\n",
    "# Assert pickle\n",
    "assert (len(df_prices) == (df_prices == pd.read_pickle(\"./data/prices.pkl\")).sum()).values[0]"
   ]
  },
  {
   "cell_type": "code",
   "execution_count": 10,
   "metadata": {
    "ExecuteTime": {
     "end_time": "2020-12-02T11:36:12.541646Z",
     "start_time": "2020-12-02T11:36:12.215649Z"
    }
   },
   "outputs": [],
   "source": [
    "df_prices = pd.read_pickle(\"./data/prices.pkl\")\n",
    "df_prices = df_prices.reset_index().set_index(['date'])\n",
    "df_prices.index = pd.to_datetime(df_prices.index)"
   ]
  },
  {
   "cell_type": "markdown",
   "metadata": {
    "ExecuteTime": {
     "end_time": "2020-11-28T09:40:27.056115Z",
     "start_time": "2020-11-28T09:40:27.041118Z"
    }
   },
   "source": [
    "# Splits"
   ]
  },
  {
   "cell_type": "code",
   "execution_count": 11,
   "metadata": {
    "ExecuteTime": {
     "end_time": "2020-12-02T11:36:12.556646Z",
     "start_time": "2020-12-02T11:36:12.542649Z"
    }
   },
   "outputs": [
    {
     "name": "stdout",
     "output_type": "stream",
     "text": [
      "Total splits = 254\n",
      "Total split p/stock = [7 3 2 2 2 2 2 2 2 2 2 1 1 1 1 1 1 1 1 1 1 1 1 1 1 1 1 1 1 1 1 1 1 1 1 1 1\n",
      " 1 1 1 1 1 1 1 1 1 1 1 1 1 1 1 1 1 1 1 1 1 1 1 1 1 1 1 1 1 1 1 1 1 1 1 1 1\n",
      " 1 1 1 1 1 1 1 1 1 1 1 1 1 1 1 1 1 1 1 1 1 1 1 1 1 1 1 1 1 1 1 1 1 1 1 1 1\n",
      " 1 1 1 1 1 1 1 1 1 1 1 1 1 1 1 1 1 1 1 1 1 1 1 1 1 1 1 1 1 1 1 1 1 1 1 1 1\n",
      " 1 1 1 1 1 1 1 1 1 1 1 1 1 1 1 1 1 1 1 1 1 1 1 1 1 1 1 1 1 1 1 1 1 1 1 1 1\n",
      " 1 1 1 1 1 1 1 1 1 1 1 1 1 1 1 1 1 1 1 1 1 1 1 1 1 1 1 1 1 1 1 1 1 1 1 1 1\n",
      " 1 1 1 1 1 1 1 1 1 1 1 1 1 1 1]\n"
     ]
    },
    {
     "data": {
      "text/html": [
       "<div>\n",
       "<style scoped>\n",
       "    .dataframe tbody tr th:only-of-type {\n",
       "        vertical-align: middle;\n",
       "    }\n",
       "\n",
       "    .dataframe tbody tr th {\n",
       "        vertical-align: top;\n",
       "    }\n",
       "\n",
       "    .dataframe thead th {\n",
       "        text-align: right;\n",
       "    }\n",
       "</style>\n",
       "<table border=\"1\" class=\"dataframe\">\n",
       "  <thead>\n",
       "    <tr style=\"text-align: right;\">\n",
       "      <th></th>\n",
       "      <th>sym</th>\n",
       "      <th>num</th>\n",
       "      <th>den</th>\n",
       "      <th>announce</th>\n",
       "      <th>record</th>\n",
       "      <th>execute</th>\n",
       "      <th>apply</th>\n",
       "    </tr>\n",
       "  </thead>\n",
       "  <tbody>\n",
       "    <tr>\n",
       "      <th>0</th>\n",
       "      <td>AAPL</td>\n",
       "      <td>4.000</td>\n",
       "      <td>1.000</td>\n",
       "      <td>2020-07-30</td>\n",
       "      <td>2020-08-24</td>\n",
       "      <td>2020-08-31</td>\n",
       "      <td>4.000</td>\n",
       "    </tr>\n",
       "    <tr>\n",
       "      <th>1</th>\n",
       "      <td>ACHV</td>\n",
       "      <td>1.000</td>\n",
       "      <td>20.000</td>\n",
       "      <td>2020-07-30</td>\n",
       "      <td>2020-07-31</td>\n",
       "      <td>2020-07-31</td>\n",
       "      <td>0.050</td>\n",
       "    </tr>\n",
       "    <tr>\n",
       "      <th>2</th>\n",
       "      <td>AEMD</td>\n",
       "      <td>1.000</td>\n",
       "      <td>15.000</td>\n",
       "      <td>2019-10-14</td>\n",
       "      <td>2019-10-15</td>\n",
       "      <td>2019-10-15</td>\n",
       "      <td>0.067</td>\n",
       "    </tr>\n",
       "    <tr>\n",
       "      <th>3</th>\n",
       "      <td>AHT</td>\n",
       "      <td>1.000</td>\n",
       "      <td>10.000</td>\n",
       "      <td>2020-07-02</td>\n",
       "      <td>2020-07-16</td>\n",
       "      <td>2020-07-16</td>\n",
       "      <td>0.100</td>\n",
       "    </tr>\n",
       "    <tr>\n",
       "      <th>6</th>\n",
       "      <td>AITX</td>\n",
       "      <td>1.000</td>\n",
       "      <td>10000.000</td>\n",
       "      <td>2020-03-26</td>\n",
       "      <td>2020-03-27</td>\n",
       "      <td>2020-03-27</td>\n",
       "      <td>0.000</td>\n",
       "    </tr>\n",
       "  </tbody>\n",
       "</table>\n",
       "</div>"
      ],
      "text/plain": [
       "    sym   num       den    announce      record     execute  apply\n",
       "0  AAPL 4.000     1.000  2020-07-30  2020-08-24  2020-08-31  4.000\n",
       "1  ACHV 1.000    20.000  2020-07-30  2020-07-31  2020-07-31  0.050\n",
       "2  AEMD 1.000    15.000  2019-10-14  2019-10-15  2019-10-15  0.067\n",
       "3   AHT 1.000    10.000  2020-07-02  2020-07-16  2020-07-16  0.100\n",
       "6  AITX 1.000 10000.000  2020-03-26  2020-03-27  2020-03-27  0.000"
      ]
     },
     "execution_count": 11,
     "metadata": {},
     "output_type": "execute_result"
    }
   ],
   "source": [
    "# Load in from database frame\n",
    "df_splits = db.frames['splits']\n",
    "\n",
    "# Clear dates older than beginning index of prices\n",
    "df_splits = df_splits[df_splits['execute'] > pd.to_datetime('2019-08-08')]\n",
    "\n",
    "# Get num/den as floats to make an apply column which will be used\n",
    "# when applying the actual split\n",
    "df_splits['num'] = df_splits['num'].astype('float32')\n",
    "df_splits['den'] = df_splits['den'].astype('float32')\n",
    "df_splits['apply'] = df_splits['num'] / df_splits['den']\n",
    "\n",
    "# Display\n",
    "print(\"Total splits =\", len(df_splits))\n",
    "print(\"Total split p/stock =\", df_splits['sym'].value_counts().values)\n",
    "df_splits.head()"
   ]
  },
  {
   "cell_type": "markdown",
   "metadata": {
    "ExecuteTime": {
     "end_time": "2020-11-28T09:40:27.040118Z",
     "start_time": "2020-11-28T09:40:27.025116Z"
    }
   },
   "source": [
    "# Performance\n",
    "> **Steps to take**\n",
    "> * Load in performance, and clean\n",
    "> * Match index to prices\n",
    "> * Try to interpolate null values by one day as we did with prices\n",
    "> * Fill null ExDividend dates with 1970-01-01 then encode days since then for numerical data\n",
    "> * Decide what columns to drop, and which stocks to drop if they are in a given column\n",
    "> * Apply splits\n",
    "> * Post to sql server  CHECKPOINT\n",
    "> * Drop penny stocks ~1/5 of data"
   ]
  },
  {
   "cell_type": "markdown",
   "metadata": {},
   "source": [
    "## Functions"
   ]
  },
  {
   "cell_type": "code",
   "execution_count": 12,
   "metadata": {
    "ExecuteTime": {
     "end_time": "2020-12-02T11:36:12.571647Z",
     "start_time": "2020-12-02T11:36:12.557649Z"
    }
   },
   "outputs": [],
   "source": [
    "def get_perc_not_null(df):\n",
    "    \"\"\"Returns the percentages of null in each column to the length of the df\"\"\"\n",
    "    nulls = df.isna().sum()\n",
    "    return pd.Series(1 - nulls/len(df)).sort_values() * 100"
   ]
  },
  {
   "cell_type": "code",
   "execution_count": 13,
   "metadata": {
    "ExecuteTime": {
     "end_time": "2020-12-02T11:36:12.586868Z",
     "start_time": "2020-12-02T11:36:12.572649Z"
    }
   },
   "outputs": [],
   "source": [
    "def check_quantity_stocks_null_in_columns(df, cols):\n",
    "    \"\"\"Query to find how many stocks have a null value in any of these columns\n",
    "        loc the rows that have any nulls in the given columns\n",
    "        reset the index to 0-x\n",
    "        get 'sym' series\n",
    "        get the number of unique values\n",
    "        \"\"\"\n",
    "    return df.loc[df[cols].isna().transpose().any()].reset_index()['sym'].nunique()"
   ]
  },
  {
   "cell_type": "code",
   "execution_count": 14,
   "metadata": {
    "ExecuteTime": {
     "end_time": "2020-12-02T11:36:12.602873Z",
     "start_time": "2020-12-02T11:36:12.587874Z"
    }
   },
   "outputs": [],
   "source": [
    "def try_replace(x):\n",
    "    \"\"\"Quick fix to some of the data having '1,300' instead of a number\"\"\"\n",
    "    try:\n",
    "        x = x.replace(',', '')\n",
    "        return x\n",
    "    except Exception:\n",
    "        return x"
   ]
  },
  {
   "cell_type": "markdown",
   "metadata": {},
   "source": [
    "## Clean for new sql"
   ]
  },
  {
   "cell_type": "code",
   "execution_count": 15,
   "metadata": {
    "ExecuteTime": {
     "end_time": "2020-12-02T11:36:12.618874Z",
     "start_time": "2020-12-02T11:36:12.603877Z"
    }
   },
   "outputs": [],
   "source": [
    "# These are some dropped columns that were obtained after executing the below\n",
    "# We now drop them before to reduce the processing time\n",
    "drop_cols = ['PEG', 'FwdEPS3to5Yr', 'DividendCoverage', 'TotalReturn10Yr',\n",
    "             'EPSGrowth5Year', 'TotalReturn5Yr']"
   ]
  },
  {
   "cell_type": "code",
   "execution_count": 16,
   "metadata": {
    "ExecuteTime": {
     "end_time": "2020-12-02T11:36:22.870091Z",
     "start_time": "2020-12-02T11:36:12.619876Z"
    }
   },
   "outputs": [
    {
     "data": {
      "text/html": [
       "<div>\n",
       "<style scoped>\n",
       "    .dataframe tbody tr th:only-of-type {\n",
       "        vertical-align: middle;\n",
       "    }\n",
       "\n",
       "    .dataframe tbody tr th {\n",
       "        vertical-align: top;\n",
       "    }\n",
       "\n",
       "    .dataframe thead th {\n",
       "        text-align: right;\n",
       "    }\n",
       "</style>\n",
       "<table border=\"1\" class=\"dataframe\">\n",
       "  <thead>\n",
       "    <tr style=\"text-align: right;\">\n",
       "      <th></th>\n",
       "      <th>sym</th>\n",
       "      <th>MCAP</th>\n",
       "      <th>RevenueTTM</th>\n",
       "      <th>TotalCash</th>\n",
       "      <th>ExDividendDate</th>\n",
       "      <th>Dividend</th>\n",
       "      <th>DividendYield</th>\n",
       "      <th>PriceToBook</th>\n",
       "      <th>PriceToSales</th>\n",
       "      <th>EnterpriseValue</th>\n",
       "      <th>...</th>\n",
       "      <th>PE</th>\n",
       "      <th>ReturnonEquity</th>\n",
       "      <th>FreeCashFlow</th>\n",
       "      <th>TotalDebtToEquity</th>\n",
       "      <th>PricePerformance52Weeks</th>\n",
       "      <th>PricePerformanceYTD</th>\n",
       "      <th>TotalReturn1Yr</th>\n",
       "      <th>TotalReturn3Yr</th>\n",
       "      <th>SharesOutstanding</th>\n",
       "      <th>VolumeAvg90Day</th>\n",
       "    </tr>\n",
       "    <tr>\n",
       "      <th>date</th>\n",
       "      <th></th>\n",
       "      <th></th>\n",
       "      <th></th>\n",
       "      <th></th>\n",
       "      <th></th>\n",
       "      <th></th>\n",
       "      <th></th>\n",
       "      <th></th>\n",
       "      <th></th>\n",
       "      <th></th>\n",
       "      <th></th>\n",
       "      <th></th>\n",
       "      <th></th>\n",
       "      <th></th>\n",
       "      <th></th>\n",
       "      <th></th>\n",
       "      <th></th>\n",
       "      <th></th>\n",
       "      <th></th>\n",
       "      <th></th>\n",
       "      <th></th>\n",
       "    </tr>\n",
       "  </thead>\n",
       "  <tbody>\n",
       "    <tr>\n",
       "      <th>2019-08-09</th>\n",
       "      <td>A</td>\n",
       "      <td>22027.70459</td>\n",
       "      <td>5019</td>\n",
       "      <td>2155</td>\n",
       "      <td>NaN</td>\n",
       "      <td>0.164</td>\n",
       "      <td>0.94402</td>\n",
       "      <td>4.29809</td>\n",
       "      <td>4.40182</td>\n",
       "      <td>21670704590</td>\n",
       "      <td>...</td>\n",
       "      <td>19.8</td>\n",
       "      <td>23.1598</td>\n",
       "      <td>887</td>\n",
       "      <td>37.29007</td>\n",
       "      <td>3.13149</td>\n",
       "      <td>3.00919</td>\n",
       "      <td>4.04369</td>\n",
       "      <td>14.79356</td>\n",
       "      <td>315.993</td>\n",
       "      <td>2.59274</td>\n",
       "    </tr>\n",
       "    <tr>\n",
       "      <th>2019-08-12</th>\n",
       "      <td>A</td>\n",
       "      <td>21758.26224</td>\n",
       "      <td>5019</td>\n",
       "      <td>2155</td>\n",
       "      <td>NaN</td>\n",
       "      <td>0.164</td>\n",
       "      <td>0.95571</td>\n",
       "      <td>4.24551</td>\n",
       "      <td>4.34797</td>\n",
       "      <td>21401262240</td>\n",
       "      <td>...</td>\n",
       "      <td>19.2</td>\n",
       "      <td>23.1598</td>\n",
       "      <td>887</td>\n",
       "      <td>37.29007</td>\n",
       "      <td>3.59191</td>\n",
       "      <td>1.74918</td>\n",
       "      <td>4.50818</td>\n",
       "      <td>14.09856</td>\n",
       "      <td>315.993</td>\n",
       "      <td>2.58484</td>\n",
       "    </tr>\n",
       "    <tr>\n",
       "      <th>2019-08-13</th>\n",
       "      <td>A</td>\n",
       "      <td>21121.11033</td>\n",
       "      <td>5019</td>\n",
       "      <td>2155</td>\n",
       "      <td>NaN</td>\n",
       "      <td>0.164</td>\n",
       "      <td>0.98454</td>\n",
       "      <td>4.12119</td>\n",
       "      <td>4.22065</td>\n",
       "      <td>20764110330</td>\n",
       "      <td>...</td>\n",
       "      <td>19.5</td>\n",
       "      <td>23.1598</td>\n",
       "      <td>887</td>\n",
       "      <td>37.29007</td>\n",
       "      <td>0.55841</td>\n",
       "      <td>-1.23036</td>\n",
       "      <td>1.44784</td>\n",
       "      <td>12.4788</td>\n",
       "      <td>315.993</td>\n",
       "      <td>2.60485</td>\n",
       "    </tr>\n",
       "    <tr>\n",
       "      <th>2019-08-14</th>\n",
       "      <td>A</td>\n",
       "      <td>21441.27124</td>\n",
       "      <td>5019</td>\n",
       "      <td>2155</td>\n",
       "      <td>NaN</td>\n",
       "      <td>0.164</td>\n",
       "      <td>0.96984</td>\n",
       "      <td>4.18366</td>\n",
       "      <td>4.28463</td>\n",
       "      <td>21084271240</td>\n",
       "      <td>...</td>\n",
       "      <td>18.9</td>\n",
       "      <td>23.1598</td>\n",
       "      <td>887</td>\n",
       "      <td>37.29007</td>\n",
       "      <td>2.5781</td>\n",
       "      <td>0.26682</td>\n",
       "      <td>3.4854</td>\n",
       "      <td>13.04428</td>\n",
       "      <td>315.993</td>\n",
       "      <td>2.61616</td>\n",
       "    </tr>\n",
       "    <tr>\n",
       "      <th>2019-08-15</th>\n",
       "      <td>A</td>\n",
       "      <td>20332.9</td>\n",
       "      <td>5090</td>\n",
       "      <td>1765</td>\n",
       "      <td>NaN</td>\n",
       "      <td>0.164</td>\n",
       "      <td>1.00015</td>\n",
       "      <td>4.28332</td>\n",
       "      <td>4.06782</td>\n",
       "      <td>20365900000</td>\n",
       "      <td>...</td>\n",
       "      <td>20.8</td>\n",
       "      <td>22.0179</td>\n",
       "      <td>918</td>\n",
       "      <td>36.93453</td>\n",
       "      <td>-1.73783</td>\n",
       "      <td>-2.77201</td>\n",
       "      <td>-0.8687</td>\n",
       "      <td>11.89052</td>\n",
       "      <td>315.993</td>\n",
       "      <td>2.63078</td>\n",
       "    </tr>\n",
       "  </tbody>\n",
       "</table>\n",
       "<p>5 rows × 21 columns</p>\n",
       "</div>"
      ],
      "text/plain": [
       "           sym         MCAP RevenueTTM TotalCash ExDividendDate Dividend  \\\n",
       "date                                                                       \n",
       "2019-08-09   A  22027.70459       5019      2155            NaN    0.164   \n",
       "2019-08-12   A  21758.26224       5019      2155            NaN    0.164   \n",
       "2019-08-13   A  21121.11033       5019      2155            NaN    0.164   \n",
       "2019-08-14   A  21441.27124       5019      2155            NaN    0.164   \n",
       "2019-08-15   A      20332.9       5090      1765            NaN    0.164   \n",
       "\n",
       "           DividendYield PriceToBook PriceToSales EnterpriseValue  ...    PE  \\\n",
       "date                                                               ...         \n",
       "2019-08-09       0.94402     4.29809      4.40182     21670704590  ...  19.8   \n",
       "2019-08-12       0.95571     4.24551      4.34797     21401262240  ...  19.2   \n",
       "2019-08-13       0.98454     4.12119      4.22065     20764110330  ...  19.5   \n",
       "2019-08-14       0.96984     4.18366      4.28463     21084271240  ...  18.9   \n",
       "2019-08-15       1.00015     4.28332      4.06782     20365900000  ...  20.8   \n",
       "\n",
       "           ReturnonEquity FreeCashFlow TotalDebtToEquity  \\\n",
       "date                                                       \n",
       "2019-08-09        23.1598          887          37.29007   \n",
       "2019-08-12        23.1598          887          37.29007   \n",
       "2019-08-13        23.1598          887          37.29007   \n",
       "2019-08-14        23.1598          887          37.29007   \n",
       "2019-08-15        22.0179          918          36.93453   \n",
       "\n",
       "           PricePerformance52Weeks PricePerformanceYTD TotalReturn1Yr  \\\n",
       "date                                                                    \n",
       "2019-08-09                 3.13149             3.00919        4.04369   \n",
       "2019-08-12                 3.59191             1.74918        4.50818   \n",
       "2019-08-13                 0.55841            -1.23036        1.44784   \n",
       "2019-08-14                  2.5781             0.26682         3.4854   \n",
       "2019-08-15                -1.73783            -2.77201        -0.8687   \n",
       "\n",
       "           TotalReturn3Yr SharesOutstanding VolumeAvg90Day  \n",
       "date                                                        \n",
       "2019-08-09       14.79356           315.993        2.59274  \n",
       "2019-08-12       14.09856           315.993        2.58484  \n",
       "2019-08-13        12.4788           315.993        2.60485  \n",
       "2019-08-14       13.04428           315.993        2.61616  \n",
       "2019-08-15       11.89052           315.993        2.63078  \n",
       "\n",
       "[5 rows x 21 columns]"
      ]
     },
     "execution_count": 16,
     "metadata": {},
     "output_type": "execute_result"
    }
   ],
   "source": [
    "# Cleaning first two blank rows\n",
    "df_performance = db.frames['performance'].copy(deep=True).drop([0, 1])\n",
    "\n",
    "# Drop cols\n",
    "df_performance.drop(drop_cols, inplace=True, axis=1)\n",
    "\n",
    "# Remove Dates that are less than august 8th, as that is from a different collection method\n",
    "df_performance = df_performance[df_performance['date'] > pd.to_datetime('2019-08-08')]\n",
    "\n",
    "# Resetting date index and dropping index\n",
    "df_performance.set_index('date', inplace=True, drop=True)\n",
    "\n",
    "# Dropping null date values\n",
    "df_performance = df_performance.loc[df_performance.index.notnull()]\n",
    "\n",
    "# Replace -- with NaN\n",
    "df_performance.replace(['', '--'], np.NaN, inplace=True)\n",
    "df_performance.head()"
   ]
  },
  {
   "cell_type": "code",
   "execution_count": 17,
   "metadata": {
    "ExecuteTime": {
     "end_time": "2020-12-02T11:36:25.413201Z",
     "start_time": "2020-12-02T11:36:22.871092Z"
    }
   },
   "outputs": [
    {
     "data": {
      "text/html": [
       "<div>\n",
       "<style scoped>\n",
       "    .dataframe tbody tr th:only-of-type {\n",
       "        vertical-align: middle;\n",
       "    }\n",
       "\n",
       "    .dataframe tbody tr th {\n",
       "        vertical-align: top;\n",
       "    }\n",
       "\n",
       "    .dataframe thead th {\n",
       "        text-align: right;\n",
       "    }\n",
       "</style>\n",
       "<table border=\"1\" class=\"dataframe\">\n",
       "  <thead>\n",
       "    <tr style=\"text-align: right;\">\n",
       "      <th></th>\n",
       "      <th>sym</th>\n",
       "      <th>price</th>\n",
       "    </tr>\n",
       "    <tr>\n",
       "      <th>date</th>\n",
       "      <th></th>\n",
       "      <th></th>\n",
       "    </tr>\n",
       "  </thead>\n",
       "  <tbody>\n",
       "    <tr>\n",
       "      <th>2019-08-09</th>\n",
       "      <td>A</td>\n",
       "      <td>68.640</td>\n",
       "    </tr>\n",
       "    <tr>\n",
       "      <th>2019-08-12</th>\n",
       "      <td>A</td>\n",
       "      <td>66.780</td>\n",
       "    </tr>\n",
       "    <tr>\n",
       "      <th>2019-08-13</th>\n",
       "      <td>A</td>\n",
       "      <td>67.640</td>\n",
       "    </tr>\n",
       "    <tr>\n",
       "      <th>2019-08-14</th>\n",
       "      <td>A</td>\n",
       "      <td>65.590</td>\n",
       "    </tr>\n",
       "    <tr>\n",
       "      <th>2019-08-15</th>\n",
       "      <td>A</td>\n",
       "      <td>69.590</td>\n",
       "    </tr>\n",
       "  </tbody>\n",
       "</table>\n",
       "</div>"
      ],
      "text/plain": [
       "           sym  price\n",
       "date                 \n",
       "2019-08-09   A 68.640\n",
       "2019-08-12   A 66.780\n",
       "2019-08-13   A 67.640\n",
       "2019-08-14   A 65.590\n",
       "2019-08-15   A 69.590"
      ]
     },
     "execution_count": 17,
     "metadata": {},
     "output_type": "execute_result"
    }
   ],
   "source": [
    "# Get all symbols from price and split out only the symbols that are in price\n",
    "df_prices = df_prices.reset_index().set_index(['date'])\n",
    "prices_symbols = df_prices['sym'].unique()\n",
    "df_performance = df_performance.loc[df_performance['sym'].isin(prices_symbols)]\n",
    "df_prices.head()"
   ]
  },
  {
   "cell_type": "markdown",
   "metadata": {},
   "source": [
    "#### Add prices to performance"
   ]
  },
  {
   "cell_type": "code",
   "execution_count": 18,
   "metadata": {
    "ExecuteTime": {
     "end_time": "2020-12-02T11:36:37.143852Z",
     "start_time": "2020-12-02T11:36:25.414189Z"
    }
   },
   "outputs": [
    {
     "data": {
      "text/html": [
       "<div>\n",
       "<style scoped>\n",
       "    .dataframe tbody tr th:only-of-type {\n",
       "        vertical-align: middle;\n",
       "    }\n",
       "\n",
       "    .dataframe tbody tr th {\n",
       "        vertical-align: top;\n",
       "    }\n",
       "\n",
       "    .dataframe thead th {\n",
       "        text-align: right;\n",
       "    }\n",
       "</style>\n",
       "<table border=\"1\" class=\"dataframe\">\n",
       "  <thead>\n",
       "    <tr style=\"text-align: right;\">\n",
       "      <th></th>\n",
       "      <th></th>\n",
       "      <th>MCAP</th>\n",
       "      <th>RevenueTTM</th>\n",
       "      <th>TotalCash</th>\n",
       "      <th>ExDividendDate</th>\n",
       "      <th>Dividend</th>\n",
       "      <th>DividendYield</th>\n",
       "      <th>PriceToBook</th>\n",
       "      <th>PriceToSales</th>\n",
       "      <th>EnterpriseValue</th>\n",
       "      <th>PriceToCashFlow</th>\n",
       "      <th>PE</th>\n",
       "      <th>ReturnonEquity</th>\n",
       "      <th>FreeCashFlow</th>\n",
       "      <th>TotalDebtToEquity</th>\n",
       "      <th>PricePerformance52Weeks</th>\n",
       "      <th>PricePerformanceYTD</th>\n",
       "      <th>TotalReturn1Yr</th>\n",
       "      <th>TotalReturn3Yr</th>\n",
       "      <th>SharesOutstanding</th>\n",
       "      <th>VolumeAvg90Day</th>\n",
       "    </tr>\n",
       "    <tr>\n",
       "      <th>date</th>\n",
       "      <th>sym</th>\n",
       "      <th></th>\n",
       "      <th></th>\n",
       "      <th></th>\n",
       "      <th></th>\n",
       "      <th></th>\n",
       "      <th></th>\n",
       "      <th></th>\n",
       "      <th></th>\n",
       "      <th></th>\n",
       "      <th></th>\n",
       "      <th></th>\n",
       "      <th></th>\n",
       "      <th></th>\n",
       "      <th></th>\n",
       "      <th></th>\n",
       "      <th></th>\n",
       "      <th></th>\n",
       "      <th></th>\n",
       "      <th></th>\n",
       "      <th></th>\n",
       "    </tr>\n",
       "  </thead>\n",
       "  <tbody>\n",
       "    <tr>\n",
       "      <th>2019-08-09</th>\n",
       "      <th>A</th>\n",
       "      <td>22027.70459</td>\n",
       "      <td>5019</td>\n",
       "      <td>2155</td>\n",
       "      <td>NaN</td>\n",
       "      <td>0.164</td>\n",
       "      <td>0.94402</td>\n",
       "      <td>4.29809</td>\n",
       "      <td>4.40182</td>\n",
       "      <td>21670704590</td>\n",
       "      <td>16.57368</td>\n",
       "      <td>19.8</td>\n",
       "      <td>23.1598</td>\n",
       "      <td>887</td>\n",
       "      <td>37.29007</td>\n",
       "      <td>3.13149</td>\n",
       "      <td>3.00919</td>\n",
       "      <td>4.04369</td>\n",
       "      <td>14.79356</td>\n",
       "      <td>315.993</td>\n",
       "      <td>2.59274</td>\n",
       "    </tr>\n",
       "    <tr>\n",
       "      <th>2019-08-12</th>\n",
       "      <th>A</th>\n",
       "      <td>21758.26224</td>\n",
       "      <td>5019</td>\n",
       "      <td>2155</td>\n",
       "      <td>NaN</td>\n",
       "      <td>0.164</td>\n",
       "      <td>0.95571</td>\n",
       "      <td>4.24551</td>\n",
       "      <td>4.34797</td>\n",
       "      <td>21401262240</td>\n",
       "      <td>16.37095</td>\n",
       "      <td>19.2</td>\n",
       "      <td>23.1598</td>\n",
       "      <td>887</td>\n",
       "      <td>37.29007</td>\n",
       "      <td>3.59191</td>\n",
       "      <td>1.74918</td>\n",
       "      <td>4.50818</td>\n",
       "      <td>14.09856</td>\n",
       "      <td>315.993</td>\n",
       "      <td>2.58484</td>\n",
       "    </tr>\n",
       "    <tr>\n",
       "      <th>2019-08-13</th>\n",
       "      <th>A</th>\n",
       "      <td>21121.11033</td>\n",
       "      <td>5019</td>\n",
       "      <td>2155</td>\n",
       "      <td>NaN</td>\n",
       "      <td>0.164</td>\n",
       "      <td>0.98454</td>\n",
       "      <td>4.12119</td>\n",
       "      <td>4.22065</td>\n",
       "      <td>20764110330</td>\n",
       "      <td>15.89156</td>\n",
       "      <td>19.5</td>\n",
       "      <td>23.1598</td>\n",
       "      <td>887</td>\n",
       "      <td>37.29007</td>\n",
       "      <td>0.55841</td>\n",
       "      <td>-1.23036</td>\n",
       "      <td>1.44784</td>\n",
       "      <td>12.4788</td>\n",
       "      <td>315.993</td>\n",
       "      <td>2.60485</td>\n",
       "    </tr>\n",
       "    <tr>\n",
       "      <th>2019-08-14</th>\n",
       "      <th>A</th>\n",
       "      <td>21441.27124</td>\n",
       "      <td>5019</td>\n",
       "      <td>2155</td>\n",
       "      <td>NaN</td>\n",
       "      <td>0.164</td>\n",
       "      <td>0.96984</td>\n",
       "      <td>4.18366</td>\n",
       "      <td>4.28463</td>\n",
       "      <td>21084271240</td>\n",
       "      <td>16.13245</td>\n",
       "      <td>18.9</td>\n",
       "      <td>23.1598</td>\n",
       "      <td>887</td>\n",
       "      <td>37.29007</td>\n",
       "      <td>2.5781</td>\n",
       "      <td>0.26682</td>\n",
       "      <td>3.4854</td>\n",
       "      <td>13.04428</td>\n",
       "      <td>315.993</td>\n",
       "      <td>2.61616</td>\n",
       "    </tr>\n",
       "    <tr>\n",
       "      <th>2019-08-15</th>\n",
       "      <th>A</th>\n",
       "      <td>20332.9</td>\n",
       "      <td>5090</td>\n",
       "      <td>1765</td>\n",
       "      <td>NaN</td>\n",
       "      <td>0.164</td>\n",
       "      <td>1.00015</td>\n",
       "      <td>4.28332</td>\n",
       "      <td>4.06782</td>\n",
       "      <td>20365900000</td>\n",
       "      <td>16.05056</td>\n",
       "      <td>20.8</td>\n",
       "      <td>22.0179</td>\n",
       "      <td>918</td>\n",
       "      <td>36.93453</td>\n",
       "      <td>-1.73783</td>\n",
       "      <td>-2.77201</td>\n",
       "      <td>-0.8687</td>\n",
       "      <td>11.89052</td>\n",
       "      <td>315.993</td>\n",
       "      <td>2.63078</td>\n",
       "    </tr>\n",
       "  </tbody>\n",
       "</table>\n",
       "</div>"
      ],
      "text/plain": [
       "                       MCAP RevenueTTM TotalCash ExDividendDate Dividend  \\\n",
       "date       sym                                                             \n",
       "2019-08-09 A    22027.70459       5019      2155            NaN    0.164   \n",
       "2019-08-12 A    21758.26224       5019      2155            NaN    0.164   \n",
       "2019-08-13 A    21121.11033       5019      2155            NaN    0.164   \n",
       "2019-08-14 A    21441.27124       5019      2155            NaN    0.164   \n",
       "2019-08-15 A        20332.9       5090      1765            NaN    0.164   \n",
       "\n",
       "               DividendYield PriceToBook PriceToSales EnterpriseValue  \\\n",
       "date       sym                                                          \n",
       "2019-08-09 A         0.94402     4.29809      4.40182     21670704590   \n",
       "2019-08-12 A         0.95571     4.24551      4.34797     21401262240   \n",
       "2019-08-13 A         0.98454     4.12119      4.22065     20764110330   \n",
       "2019-08-14 A         0.96984     4.18366      4.28463     21084271240   \n",
       "2019-08-15 A         1.00015     4.28332      4.06782     20365900000   \n",
       "\n",
       "               PriceToCashFlow    PE ReturnonEquity FreeCashFlow  \\\n",
       "date       sym                                                     \n",
       "2019-08-09 A          16.57368  19.8        23.1598          887   \n",
       "2019-08-12 A          16.37095  19.2        23.1598          887   \n",
       "2019-08-13 A          15.89156  19.5        23.1598          887   \n",
       "2019-08-14 A          16.13245  18.9        23.1598          887   \n",
       "2019-08-15 A          16.05056  20.8        22.0179          918   \n",
       "\n",
       "               TotalDebtToEquity PricePerformance52Weeks PricePerformanceYTD  \\\n",
       "date       sym                                                                 \n",
       "2019-08-09 A            37.29007                 3.13149             3.00919   \n",
       "2019-08-12 A            37.29007                 3.59191             1.74918   \n",
       "2019-08-13 A            37.29007                 0.55841            -1.23036   \n",
       "2019-08-14 A            37.29007                  2.5781             0.26682   \n",
       "2019-08-15 A            36.93453                -1.73783            -2.77201   \n",
       "\n",
       "               TotalReturn1Yr TotalReturn3Yr SharesOutstanding VolumeAvg90Day  \n",
       "date       sym                                                                 \n",
       "2019-08-09 A          4.04369       14.79356           315.993        2.59274  \n",
       "2019-08-12 A          4.50818       14.09856           315.993        2.58484  \n",
       "2019-08-13 A          1.44784        12.4788           315.993        2.60485  \n",
       "2019-08-14 A           3.4854       13.04428           315.993        2.61616  \n",
       "2019-08-15 A          -0.8687       11.89052           315.993        2.63078  "
      ]
     },
     "execution_count": 18,
     "metadata": {},
     "output_type": "execute_result"
    }
   ],
   "source": [
    "test_performance = df_performance.reset_index().set_index(['date', 'sym'])\n",
    "test_prices = df_prices.reset_index().set_index(['date', 'sym'])\n",
    "df_performance = pd.DataFrame(test_performance, index=test_prices.index)\n",
    "assert (df_performance.shape[0] == df_prices.shape[0])\n",
    "\n",
    "df_performance.head()"
   ]
  },
  {
   "cell_type": "markdown",
   "metadata": {},
   "source": [
    "### Analyze null values"
   ]
  },
  {
   "cell_type": "code",
   "execution_count": 19,
   "metadata": {
    "ExecuteTime": {
     "end_time": "2020-12-02T11:36:39.807794Z",
     "start_time": "2020-12-02T11:36:37.144854Z"
    }
   },
   "outputs": [
    {
     "data": {
      "text/plain": [
       "ExDividendDate             7.486\n",
       "DividendYield             34.444\n",
       "Dividend                  34.636\n",
       "PE                        45.338\n",
       "PriceToCashFlow           53.868\n",
       "PriceToSales              75.244\n",
       "FreeCashFlow              75.711\n",
       "TotalReturn3Yr            77.774\n",
       "PriceToBook               78.177\n",
       "RevenueTTM                78.602\n",
       "EnterpriseValue           79.158\n",
       "TotalDebtToEquity         79.572\n",
       "ReturnonEquity            83.120\n",
       "PricePerformanceYTD       84.625\n",
       "TotalCash                 85.406\n",
       "MCAP                      86.419\n",
       "VolumeAvg90Day            86.453\n",
       "TotalReturn1Yr            88.693\n",
       "PricePerformance52Weeks   88.693\n",
       "SharesOutstanding         92.520\n",
       "dtype: float64"
      ]
     },
     "execution_count": 19,
     "metadata": {},
     "output_type": "execute_result"
    }
   ],
   "source": [
    "get_perc_not_null(df_performance)"
   ]
  },
  {
   "cell_type": "markdown",
   "metadata": {},
   "source": [
    "#### Convert all values to float"
   ]
  },
  {
   "cell_type": "code",
   "execution_count": 20,
   "metadata": {
    "ExecuteTime": {
     "end_time": "2020-12-02T11:37:04.044703Z",
     "start_time": "2020-12-02T11:36:39.808797Z"
    }
   },
   "outputs": [
    {
     "name": "stdout",
     "output_type": "stream",
     "text": [
      "ExDividendDate Exception ---\n"
     ]
    },
    {
     "data": {
      "text/plain": [
       "EnterpriseValue           -278943858688.000\n",
       "ReturnonEquity                 -1255335.250\n",
       "TotalDebtToEquity               -288322.562\n",
       "FreeCashFlow                     -84924.000\n",
       "RevenueTTM                         -811.925\n",
       "TotalReturn1Yr                      -99.998\n",
       "PricePerformance52Weeks             -99.998\n",
       "PricePerformanceYTD                 -99.993\n",
       "TotalReturn3Yr                      -99.767\n",
       "MCAP                                  0.000\n",
       "PE                                    0.000\n",
       "PriceToCashFlow                       0.000\n",
       "PriceToSales                          0.000\n",
       "PriceToBook                           0.000\n",
       "DividendYield                         0.000\n",
       "Dividend                              0.000\n",
       "TotalCash                             0.000\n",
       "SharesOutstanding                     0.000\n",
       "VolumeAvg90Day                        0.000\n",
       "dtype: float64"
      ]
     },
     "execution_count": 20,
     "metadata": {},
     "output_type": "execute_result"
    }
   ],
   "source": [
    "performance_mins = {}\n",
    "for col in df_performance.columns:\n",
    "    try:\n",
    "        performance_mins[col] = df_performance[col].map(try_replace).fillna(0).astype('float32').min()\n",
    "    except Exception:\n",
    "        print(col, 'Exception ---')\n",
    "performance_mins = pd.Series(performance_mins)\n",
    "performance_mins.sort_values()"
   ]
  },
  {
   "cell_type": "markdown",
   "metadata": {},
   "source": [
    "<div class=\"alert alert-warning shadow\">\n",
    "  <strong>Filling Null Values:</strong>\n",
    "    <ul>\n",
    "    <li><b>ExDividendDate:</b> Not all of the dividend stocks have a dividend date, so we will be filling null values of this column with the time equivalent of 0 1970-01-01</li></ul>\n",
    "        <br></br>\n",
    "    <b>For the rest of the stocks we will be doing two different things:</b>\n",
    "    <ul>\n",
    "        <li><b>col_to_fill_then_drop:</b> If a stock has a min lower than 0 we must interpolate nulls and then drop the stocks that still have a null in that column.  That is because if we were to simply fill with 0 it would misrepresent that stock, and we may end up with large jumps from negative to positive that increases our variance</li>\n",
    "        <li><b>col_to_fill:</b> If a stock has a min higher than 0 we can simply interpolate nulls and then set the rest of the nulls to 0</li>\n",
    "    </ul>\n",
    "</div>"
   ]
  },
  {
   "cell_type": "markdown",
   "metadata": {},
   "source": [
    "### More cleaning"
   ]
  },
  {
   "cell_type": "markdown",
   "metadata": {},
   "source": [
    "#### Fill null ExDividendDate with 1970-01-01"
   ]
  },
  {
   "cell_type": "code",
   "execution_count": 21,
   "metadata": {
    "ExecuteTime": {
     "end_time": "2020-12-02T11:37:06.568817Z",
     "start_time": "2020-12-02T11:37:04.045704Z"
    }
   },
   "outputs": [
    {
     "data": {
      "text/plain": [
       "0"
      ]
     },
     "execution_count": 21,
     "metadata": {},
     "output_type": "execute_result"
    }
   ],
   "source": [
    "fill_date = pd.to_datetime('1970-01-01')\n",
    "df_performance = df_performance.reset_index().set_index('date', drop=True)\n",
    "df_performance['ExDividendDate'] = pd.to_datetime(df_performance['ExDividendDate'].fillna(fill_date))\n",
    "df_performance['ExDividendDate'].isna().sum()"
   ]
  },
  {
   "cell_type": "markdown",
   "metadata": {},
   "source": [
    "#### Encode ExDividendDate"
   ]
  },
  {
   "cell_type": "code",
   "execution_count": 22,
   "metadata": {
    "ExecuteTime": {
     "end_time": "2020-12-02T11:37:26.394256Z",
     "start_time": "2020-12-02T11:37:06.569820Z"
    }
   },
   "outputs": [],
   "source": [
    "df_performance['ExDividendDate'] = \\\n",
    "    df_performance['ExDividendDate'].map(lambda x: (x - fill_date).days)"
   ]
  },
  {
   "cell_type": "markdown",
   "metadata": {},
   "source": [
    "### Execute col_to_fill\n",
    "> We will use the way we interpolated prices as a reference, and do something similar.  Although we already reindexed, and we don't have to drop symbols here so we can skip those steps.  This will also be converting the data to numeric.  We will also be removing the limit, as some this isn't as important as prices"
   ]
  },
  {
   "cell_type": "code",
   "execution_count": 23,
   "metadata": {
    "ExecuteTime": {
     "end_time": "2020-12-02T11:40:47.131290Z",
     "start_time": "2020-12-02T11:37:26.398259Z"
    }
   },
   "outputs": [
    {
     "name": "stdout",
     "output_type": "stream",
     "text": [
      "Null values filled = 1438213 :: averaging 0.03s/sym......\n",
      "Null values left after filling with 0\n"
     ]
    },
    {
     "data": {
      "text/plain": [
       "FreeCashFlow               75.711\n",
       "TotalReturn3Yr             77.774\n",
       "RevenueTTM                 78.602\n",
       "EnterpriseValue            79.158\n",
       "TotalDebtToEquity          79.572\n",
       "ReturnonEquity             83.120\n",
       "PricePerformanceYTD        84.625\n",
       "TotalReturn1Yr             88.693\n",
       "PricePerformance52Weeks    88.693\n",
       "sym                       100.000\n",
       "PE                        100.000\n",
       "PriceToCashFlow           100.000\n",
       "PriceToSales              100.000\n",
       "PriceToBook               100.000\n",
       "DividendYield             100.000\n",
       "Dividend                  100.000\n",
       "ExDividendDate            100.000\n",
       "TotalCash                 100.000\n",
       "MCAP                      100.000\n",
       "SharesOutstanding         100.000\n",
       "VolumeAvg90Day            100.000\n",
       "dtype: float64"
      ]
     },
     "execution_count": 23,
     "metadata": {},
     "output_type": "execute_result"
    }
   ],
   "source": [
    "# Make col_to_fill\n",
    "col_to_fill = ['sym']\n",
    "col_to_fill += list(performance_mins[performance_mins >= 0].index)\n",
    "\n",
    "# Split df_performance into a temp dataframe\n",
    "df_performance_temp = df_performance[col_to_fill]\n",
    "\n",
    "# Get all symbol list\n",
    "all_symbols = df_performance_temp['sym'].unique()\n",
    "\n",
    "# Make an empty list of all dataframes that will be combined\n",
    "sym_dfs = []\n",
    "\n",
    "# For time display\n",
    "sym_num = len(all_symbols)\n",
    "times = np.array([])\n",
    "\n",
    "def cust_interpolate_fill_na(sym):\n",
    "    \"\"\"Function to convert columns to numeric and interpolate null values\"\"\"\n",
    "    df = df_performance_temp.query(f\"sym == '{sym}'\")\n",
    "    for col in df.columns:\n",
    "        if col != 'sym':\n",
    "            df[col] = pd.to_numeric(df[col], errors='coerce').interpolate()\n",
    "    sym_dfs.append(df)\n",
    "\n",
    "# Loop through each symbol and apply the above function\n",
    "for num, sym in enumerate(all_symbols):\n",
    "    start = time.time()\n",
    "    cust_interpolate_fill_na(sym)  # Timed function\n",
    "    end = time.time()\n",
    "    time_taken = end-start\n",
    "    times = np.append(times, time_taken)\n",
    "    print(f\"{num+1}/{sym_num} in {time_taken: .2f}s for {sym} :: averaging {times.mean():.2f}s/sym...\", end='\\r')\n",
    "\n",
    "# Combine all symbol dataframes, and display info\n",
    "df_performance_temp =  pd.concat(sym_dfs)\n",
    "\n",
    "nulls_filled = df_performance[col_to_fill].isna().sum().sum() - \\\n",
    "    df_performance_temp.isna().sum().sum()\n",
    "print(\"Null values filled =\", nulls_filled)\n",
    "print(\"Null values left after filling with 0\")\n",
    "\n",
    "# Fill rest of na with 0\n",
    "df_performance[col_to_fill] = df_performance_temp.fillna(0)\n",
    "get_perc_not_null(df_performance)"
   ]
  },
  {
   "cell_type": "code",
   "execution_count": 24,
   "metadata": {
    "ExecuteTime": {
     "end_time": "2020-12-02T11:40:47.367277Z",
     "start_time": "2020-12-02T11:40:47.133290Z"
    }
   },
   "outputs": [
    {
     "data": {
      "text/plain": [
       "(339, 339)"
      ]
     },
     "execution_count": 24,
     "metadata": {},
     "output_type": "execute_result"
    }
   ],
   "source": [
    "df_performance['sym'].value_counts().min(), df_performance['sym'].value_counts().max()"
   ]
  },
  {
   "cell_type": "markdown",
   "metadata": {},
   "source": [
    "### Execute col_to_fill_then_drop\n",
    "> Interpolate null values then drop stocks that still have nulls in these columns"
   ]
  },
  {
   "cell_type": "markdown",
   "metadata": {},
   "source": [
    "#### Interpolating the null values"
   ]
  },
  {
   "cell_type": "code",
   "execution_count": 25,
   "metadata": {
    "ExecuteTime": {
     "end_time": "2020-12-02T11:44:16.419881Z",
     "start_time": "2020-12-02T11:40:47.368278Z"
    }
   },
   "outputs": [
    {
     "name": "stdout",
     "output_type": "stream",
     "text": [
      "6103/6103 in  0.03s for ZYXI :: averaging 0.03s/sym......\r"
     ]
    },
    {
     "data": {
      "text/html": [
       "<div>\n",
       "<style scoped>\n",
       "    .dataframe tbody tr th:only-of-type {\n",
       "        vertical-align: middle;\n",
       "    }\n",
       "\n",
       "    .dataframe tbody tr th {\n",
       "        vertical-align: top;\n",
       "    }\n",
       "\n",
       "    .dataframe thead th {\n",
       "        text-align: right;\n",
       "    }\n",
       "</style>\n",
       "<table border=\"1\" class=\"dataframe\">\n",
       "  <thead>\n",
       "    <tr style=\"text-align: right;\">\n",
       "      <th></th>\n",
       "      <th>sym</th>\n",
       "      <th>MCAP</th>\n",
       "      <th>RevenueTTM</th>\n",
       "      <th>TotalCash</th>\n",
       "      <th>ExDividendDate</th>\n",
       "      <th>Dividend</th>\n",
       "      <th>DividendYield</th>\n",
       "      <th>PriceToBook</th>\n",
       "      <th>PriceToSales</th>\n",
       "      <th>EnterpriseValue</th>\n",
       "      <th>...</th>\n",
       "      <th>PE</th>\n",
       "      <th>ReturnonEquity</th>\n",
       "      <th>FreeCashFlow</th>\n",
       "      <th>TotalDebtToEquity</th>\n",
       "      <th>PricePerformance52Weeks</th>\n",
       "      <th>PricePerformanceYTD</th>\n",
       "      <th>TotalReturn1Yr</th>\n",
       "      <th>TotalReturn3Yr</th>\n",
       "      <th>SharesOutstanding</th>\n",
       "      <th>VolumeAvg90Day</th>\n",
       "    </tr>\n",
       "    <tr>\n",
       "      <th>date</th>\n",
       "      <th></th>\n",
       "      <th></th>\n",
       "      <th></th>\n",
       "      <th></th>\n",
       "      <th></th>\n",
       "      <th></th>\n",
       "      <th></th>\n",
       "      <th></th>\n",
       "      <th></th>\n",
       "      <th></th>\n",
       "      <th></th>\n",
       "      <th></th>\n",
       "      <th></th>\n",
       "      <th></th>\n",
       "      <th></th>\n",
       "      <th></th>\n",
       "      <th></th>\n",
       "      <th></th>\n",
       "      <th></th>\n",
       "      <th></th>\n",
       "      <th></th>\n",
       "    </tr>\n",
       "  </thead>\n",
       "  <tbody>\n",
       "    <tr>\n",
       "      <th>2019-08-09</th>\n",
       "      <td>A</td>\n",
       "      <td>22027.705</td>\n",
       "      <td>5019.000</td>\n",
       "      <td>2155.000</td>\n",
       "      <td>0</td>\n",
       "      <td>0.164</td>\n",
       "      <td>0.944</td>\n",
       "      <td>4.298</td>\n",
       "      <td>4.402</td>\n",
       "      <td>21670704590.000</td>\n",
       "      <td>...</td>\n",
       "      <td>19.800</td>\n",
       "      <td>23.160</td>\n",
       "      <td>887.000</td>\n",
       "      <td>37.290</td>\n",
       "      <td>3.131</td>\n",
       "      <td>3.009</td>\n",
       "      <td>4.044</td>\n",
       "      <td>14.794</td>\n",
       "      <td>315.993</td>\n",
       "      <td>2.593</td>\n",
       "    </tr>\n",
       "    <tr>\n",
       "      <th>2019-08-12</th>\n",
       "      <td>A</td>\n",
       "      <td>21758.262</td>\n",
       "      <td>5019.000</td>\n",
       "      <td>2155.000</td>\n",
       "      <td>0</td>\n",
       "      <td>0.164</td>\n",
       "      <td>0.956</td>\n",
       "      <td>4.246</td>\n",
       "      <td>4.348</td>\n",
       "      <td>21401262240.000</td>\n",
       "      <td>...</td>\n",
       "      <td>19.200</td>\n",
       "      <td>23.160</td>\n",
       "      <td>887.000</td>\n",
       "      <td>37.290</td>\n",
       "      <td>3.592</td>\n",
       "      <td>1.749</td>\n",
       "      <td>4.508</td>\n",
       "      <td>14.099</td>\n",
       "      <td>315.993</td>\n",
       "      <td>2.585</td>\n",
       "    </tr>\n",
       "    <tr>\n",
       "      <th>2019-08-13</th>\n",
       "      <td>A</td>\n",
       "      <td>21121.110</td>\n",
       "      <td>5019.000</td>\n",
       "      <td>2155.000</td>\n",
       "      <td>0</td>\n",
       "      <td>0.164</td>\n",
       "      <td>0.985</td>\n",
       "      <td>4.121</td>\n",
       "      <td>4.221</td>\n",
       "      <td>20764110330.000</td>\n",
       "      <td>...</td>\n",
       "      <td>19.500</td>\n",
       "      <td>23.160</td>\n",
       "      <td>887.000</td>\n",
       "      <td>37.290</td>\n",
       "      <td>0.558</td>\n",
       "      <td>-1.230</td>\n",
       "      <td>1.448</td>\n",
       "      <td>12.479</td>\n",
       "      <td>315.993</td>\n",
       "      <td>2.605</td>\n",
       "    </tr>\n",
       "    <tr>\n",
       "      <th>2019-08-14</th>\n",
       "      <td>A</td>\n",
       "      <td>21441.271</td>\n",
       "      <td>5019.000</td>\n",
       "      <td>2155.000</td>\n",
       "      <td>0</td>\n",
       "      <td>0.164</td>\n",
       "      <td>0.970</td>\n",
       "      <td>4.184</td>\n",
       "      <td>4.285</td>\n",
       "      <td>21084271240.000</td>\n",
       "      <td>...</td>\n",
       "      <td>18.900</td>\n",
       "      <td>23.160</td>\n",
       "      <td>887.000</td>\n",
       "      <td>37.290</td>\n",
       "      <td>2.578</td>\n",
       "      <td>0.267</td>\n",
       "      <td>3.485</td>\n",
       "      <td>13.044</td>\n",
       "      <td>315.993</td>\n",
       "      <td>2.616</td>\n",
       "    </tr>\n",
       "    <tr>\n",
       "      <th>2019-08-15</th>\n",
       "      <td>A</td>\n",
       "      <td>20332.900</td>\n",
       "      <td>5090.000</td>\n",
       "      <td>1765.000</td>\n",
       "      <td>0</td>\n",
       "      <td>0.164</td>\n",
       "      <td>1.000</td>\n",
       "      <td>4.283</td>\n",
       "      <td>4.068</td>\n",
       "      <td>20365900000.000</td>\n",
       "      <td>...</td>\n",
       "      <td>20.800</td>\n",
       "      <td>22.018</td>\n",
       "      <td>918.000</td>\n",
       "      <td>36.935</td>\n",
       "      <td>-1.738</td>\n",
       "      <td>-2.772</td>\n",
       "      <td>-0.869</td>\n",
       "      <td>11.891</td>\n",
       "      <td>315.993</td>\n",
       "      <td>2.631</td>\n",
       "    </tr>\n",
       "  </tbody>\n",
       "</table>\n",
       "<p>5 rows × 21 columns</p>\n",
       "</div>"
      ],
      "text/plain": [
       "           sym      MCAP  RevenueTTM  TotalCash  ExDividendDate  Dividend  \\\n",
       "date                                                                        \n",
       "2019-08-09   A 22027.705    5019.000   2155.000               0     0.164   \n",
       "2019-08-12   A 21758.262    5019.000   2155.000               0     0.164   \n",
       "2019-08-13   A 21121.110    5019.000   2155.000               0     0.164   \n",
       "2019-08-14   A 21441.271    5019.000   2155.000               0     0.164   \n",
       "2019-08-15   A 20332.900    5090.000   1765.000               0     0.164   \n",
       "\n",
       "            DividendYield  PriceToBook  PriceToSales  EnterpriseValue  ...  \\\n",
       "date                                                                   ...   \n",
       "2019-08-09          0.944        4.298         4.402  21670704590.000  ...   \n",
       "2019-08-12          0.956        4.246         4.348  21401262240.000  ...   \n",
       "2019-08-13          0.985        4.121         4.221  20764110330.000  ...   \n",
       "2019-08-14          0.970        4.184         4.285  21084271240.000  ...   \n",
       "2019-08-15          1.000        4.283         4.068  20365900000.000  ...   \n",
       "\n",
       "               PE  ReturnonEquity  FreeCashFlow  TotalDebtToEquity  \\\n",
       "date                                                                 \n",
       "2019-08-09 19.800          23.160       887.000             37.290   \n",
       "2019-08-12 19.200          23.160       887.000             37.290   \n",
       "2019-08-13 19.500          23.160       887.000             37.290   \n",
       "2019-08-14 18.900          23.160       887.000             37.290   \n",
       "2019-08-15 20.800          22.018       918.000             36.935   \n",
       "\n",
       "            PricePerformance52Weeks  PricePerformanceYTD  TotalReturn1Yr  \\\n",
       "date                                                                       \n",
       "2019-08-09                    3.131                3.009           4.044   \n",
       "2019-08-12                    3.592                1.749           4.508   \n",
       "2019-08-13                    0.558               -1.230           1.448   \n",
       "2019-08-14                    2.578                0.267           3.485   \n",
       "2019-08-15                   -1.738               -2.772          -0.869   \n",
       "\n",
       "            TotalReturn3Yr  SharesOutstanding  VolumeAvg90Day  \n",
       "date                                                           \n",
       "2019-08-09          14.794            315.993           2.593  \n",
       "2019-08-12          14.099            315.993           2.585  \n",
       "2019-08-13          12.479            315.993           2.605  \n",
       "2019-08-14          13.044            315.993           2.616  \n",
       "2019-08-15          11.891            315.993           2.631  \n",
       "\n",
       "[5 rows x 21 columns]"
      ]
     },
     "execution_count": 25,
     "metadata": {},
     "output_type": "execute_result"
    }
   ],
   "source": [
    "all_symbols = df_performance['sym'].unique()\n",
    "\n",
    "sym_dfs = []\n",
    "sym_num = len(all_symbols)\n",
    "times = np.array([])\n",
    "\n",
    "def cust_interpolate_fill_na(sym):\n",
    "    df = df_performance.query(f\"sym == '{sym}'\")\n",
    "    for col in df.columns:\n",
    "        if col != 'sym':\n",
    "            df[col] = pd.to_numeric(df[col], errors='coerce').interpolate()\n",
    "    sym_dfs.append(df)\n",
    "\n",
    "for num, sym in enumerate(all_symbols):\n",
    "    start = time.time()\n",
    "    cust_interpolate_fill_na(sym)  # Timed function\n",
    "    end = time.time()\n",
    "    time_taken = end-start\n",
    "    times = np.append(times, time_taken)\n",
    "    print(f\"{num+1}/{sym_num} in {time_taken: .2f}s for {sym} :: averaging {times.mean():.2f}s/sym...\", end='\\r')\n",
    "\n",
    "df_performance =  pd.concat(sym_dfs)\n",
    "df_performance.head()"
   ]
  },
  {
   "cell_type": "markdown",
   "metadata": {},
   "source": [
    "#### Dropping the stocks that still have nulls"
   ]
  },
  {
   "cell_type": "code",
   "execution_count": 26,
   "metadata": {
    "ExecuteTime": {
     "end_time": "2020-12-02T11:44:17.652953Z",
     "start_time": "2020-12-02T11:44:16.420881Z"
    }
   },
   "outputs": [
    {
     "name": "stdout",
     "output_type": "stream",
     "text": [
      "Removed  51.53% of the stocks from the data\n",
      "2958 Stocks left vs 6103 before\n"
     ]
    },
    {
     "data": {
      "text/plain": [
       "date                      100.000\n",
       "TotalReturn3Yr            100.000\n",
       "TotalReturn1Yr            100.000\n",
       "PricePerformanceYTD       100.000\n",
       "PricePerformance52Weeks   100.000\n",
       "TotalDebtToEquity         100.000\n",
       "FreeCashFlow              100.000\n",
       "ReturnonEquity            100.000\n",
       "PE                        100.000\n",
       "PriceToCashFlow           100.000\n",
       "EnterpriseValue           100.000\n",
       "PriceToSales              100.000\n",
       "PriceToBook               100.000\n",
       "DividendYield             100.000\n",
       "Dividend                  100.000\n",
       "ExDividendDate            100.000\n",
       "TotalCash                 100.000\n",
       "RevenueTTM                100.000\n",
       "MCAP                      100.000\n",
       "sym                       100.000\n",
       "SharesOutstanding         100.000\n",
       "VolumeAvg90Day            100.000\n",
       "dtype: float64"
      ]
     },
     "execution_count": 26,
     "metadata": {},
     "output_type": "execute_result"
    }
   ],
   "source": [
    "# Make for reference, to see how many stocks get dropped\n",
    "num_stocks = df_performance.reset_index()['sym'].nunique()\n",
    "\n",
    "# Create col_to_fill_then_drop\n",
    "col_to_fill_then_drop = ['sym']\n",
    "col_to_fill_then_drop += list(performance_mins[performance_mins < 0].index)\n",
    "\n",
    "# Make for reference, to see how many stocks get dropped\n",
    "num_stocks = df_performance.reset_index()['sym'].nunique()\n",
    "\n",
    "# Create col_to_fill_then_drop\n",
    "col_to_fill_then_drop = ['sym']\n",
    "col_to_fill_then_drop += list(performance_mins[performance_mins < 0].index)\n",
    "\n",
    "# Create a isna column with counts of NaNs in the given columns\n",
    "df_performance['isna'] = df_performance[col_to_fill_then_drop].isna().sum(axis=1)\n",
    "\n",
    "# Create a variable drop_symbol with a list of symbols that need to be dropped\n",
    "var = df_performance.groupby('sym').sum()\n",
    "drop_symbol = var[var['isna'] > 0].index\n",
    "\n",
    "# Drop the rows with the given symbols\n",
    "df_performance = df_performance.reset_index() \\\n",
    "    [~df_performance.reset_index()['sym'].isin(drop_symbol)]\n",
    "\n",
    "# Drop isna column\n",
    "df_performance.drop('isna', axis=1, inplace=True)\n",
    "\n",
    "# Displays\n",
    "perc_removed = 100 - (df_performance['sym'].nunique() / num_stocks)*100\n",
    "print(f\"Removed {perc_removed: .2f}% of the stocks from the data\")\n",
    "print(df_performance['sym'].nunique(), \"Stocks left vs\", num_stocks, \"before\")\n",
    "get_perc_not_null(df_performance)"
   ]
  },
  {
   "cell_type": "markdown",
   "metadata": {},
   "source": [
    "### Add price to performance"
   ]
  },
  {
   "cell_type": "code",
   "execution_count": 27,
   "metadata": {
    "ExecuteTime": {
     "end_time": "2020-12-02T11:44:18.269972Z",
     "start_time": "2020-12-02T11:44:17.653953Z"
    }
   },
   "outputs": [
    {
     "data": {
      "text/plain": [
       "0"
      ]
     },
     "execution_count": 27,
     "metadata": {},
     "output_type": "execute_result"
    }
   ],
   "source": [
    "df_performance = df_performance.merge(df_prices.reset_index(), on=['date', 'sym'])\n",
    "df_performance.isna().sum().sum()"
   ]
  },
  {
   "cell_type": "markdown",
   "metadata": {},
   "source": [
    "### Apply Splits"
   ]
  },
  {
   "cell_type": "code",
   "execution_count": 28,
   "metadata": {
    "ExecuteTime": {
     "end_time": "2020-12-02T11:44:18.299958Z",
     "start_time": "2020-12-02T11:44:18.270972Z"
    }
   },
   "outputs": [],
   "source": [
    "fresh_df_performance = df_performance.copy(deep=True)\n",
    "#df_performance = fresh_df_performance.copy(deep=True)"
   ]
  },
  {
   "cell_type": "code",
   "execution_count": 29,
   "metadata": {
    "ExecuteTime": {
     "end_time": "2020-12-02T11:44:18.489958Z",
     "start_time": "2020-12-02T11:44:18.300961Z"
    }
   },
   "outputs": [],
   "source": [
    "# Make est_price_unsplit column for calculating how far off the price is than\n",
    "# make an price_est_vs_actual for a reference to calculate if a split is\n",
    "# expected or not\n",
    "df_performance['est_price_unsplit'] = df_performance['MCAP'] / df_performance['SharesOutstanding']\n",
    "df_performance['price_est_vs_actual'] = \\\n",
    "    df_performance['est_price_unsplit'] / df_performance['price']\n",
    "df_performance['split_expected'] = \\\n",
    "    df_performance['price_est_vs_actual'] \\\n",
    "        .map(lambda x:True if ((x > 1.5) | (x < 0.50)) else False)\n",
    "\n",
    "# df_performance.reset_index(inplace=True) ???"
   ]
  },
  {
   "cell_type": "code",
   "execution_count": 30,
   "metadata": {
    "ExecuteTime": {
     "end_time": "2020-12-02T11:44:18.504958Z",
     "start_time": "2020-12-02T11:44:18.490961Z"
    }
   },
   "outputs": [],
   "source": [
    "# df_test = df_performance.loc[((df_performance['MCAP'] > 0) & (df_performance['SharesOutstanding'] > 0) & (df_performance['price'] > 0))].sort_values(by='price_est_vs_actual')\n",
    "# df_test = df_test.loc[df_test['date'] == '2019-08-09']\n",
    "# df_test.groupby('sym')['price_est_vs_actual', 'price', 'est_price_unsplit', 'MCAP', 'SharesOutstanding'].mean().sort_values(by='price_est_vs_actual').head(50).to_csv('./anomaly.csv')"
   ]
  },
  {
   "cell_type": "code",
   "execution_count": 31,
   "metadata": {
    "ExecuteTime": {
     "end_time": "2020-12-02T11:44:53.803362Z",
     "start_time": "2020-12-02T11:44:18.506963Z"
    }
   },
   "outputs": [],
   "source": [
    "for idx, row in df_splits.iterrows():\n",
    "    sym = row['sym']\n",
    "    date = row['execute']\n",
    "    apply = row['apply']\n",
    "    row_ids = ((df_performance['sym'] == sym) & (df_performance['date'] < pd.to_datetime(date)))\n",
    "    df_performance.loc[row_ids, 'price'] = \\\n",
    "        df_performance.loc[row_ids, 'price'] / apply\n",
    "    \n",
    "    date += pd.to_timedelta('1d')\n",
    "    row_ids = ((df_performance['sym'] == sym) & (df_performance['date'] < pd.to_datetime(date)))\n",
    "    row_ids = ((df_performance['sym'] == sym) & (df_performance['date'] < pd.to_datetime(date)))\n",
    "    df_performance.loc[row_ids, 'split_expected'] = False"
   ]
  },
  {
   "cell_type": "code",
   "execution_count": 32,
   "metadata": {
    "ExecuteTime": {
     "end_time": "2020-12-02T11:44:53.834362Z",
     "start_time": "2020-12-02T11:44:53.804362Z"
    }
   },
   "outputs": [
    {
     "data": {
      "text/html": [
       "<div>\n",
       "<style scoped>\n",
       "    .dataframe tbody tr th:only-of-type {\n",
       "        vertical-align: middle;\n",
       "    }\n",
       "\n",
       "    .dataframe tbody tr th {\n",
       "        vertical-align: top;\n",
       "    }\n",
       "\n",
       "    .dataframe thead th {\n",
       "        text-align: right;\n",
       "    }\n",
       "</style>\n",
       "<table border=\"1\" class=\"dataframe\">\n",
       "  <thead>\n",
       "    <tr style=\"text-align: right;\">\n",
       "      <th></th>\n",
       "      <th></th>\n",
       "      <th>MCAP</th>\n",
       "      <th>SharesOutstanding</th>\n",
       "      <th>price</th>\n",
       "      <th>est_price_unsplit</th>\n",
       "      <th>price_est_vs_actual</th>\n",
       "      <th>split_expected</th>\n",
       "    </tr>\n",
       "    <tr>\n",
       "      <th>date</th>\n",
       "      <th>sym</th>\n",
       "      <th></th>\n",
       "      <th></th>\n",
       "      <th></th>\n",
       "      <th></th>\n",
       "      <th></th>\n",
       "      <th></th>\n",
       "    </tr>\n",
       "  </thead>\n",
       "  <tbody>\n",
       "    <tr>\n",
       "      <th>2020-08-28</th>\n",
       "      <th>AAPL</th>\n",
       "      <td>2142140.858</td>\n",
       "      <td>4275.634</td>\n",
       "      <td>124.725</td>\n",
       "      <td>501.011</td>\n",
       "      <td>1.004</td>\n",
       "      <td>False</td>\n",
       "    </tr>\n",
       "    <tr>\n",
       "      <th>2020-08-31</th>\n",
       "      <th>AAPL</th>\n",
       "      <td>534667.717</td>\n",
       "      <td>17102.536</td>\n",
       "      <td>129.040</td>\n",
       "      <td>31.262</td>\n",
       "      <td>0.242</td>\n",
       "      <td>False</td>\n",
       "    </tr>\n",
       "    <tr>\n",
       "      <th>2020-09-01</th>\n",
       "      <th>AAPL</th>\n",
       "      <td>2211197.954</td>\n",
       "      <td>17102.536</td>\n",
       "      <td>134.180</td>\n",
       "      <td>129.291</td>\n",
       "      <td>0.964</td>\n",
       "      <td>False</td>\n",
       "    </tr>\n",
       "  </tbody>\n",
       "</table>\n",
       "</div>"
      ],
      "text/plain": [
       "                       MCAP  SharesOutstanding   price  est_price_unsplit  \\\n",
       "date       sym                                                              \n",
       "2020-08-28 AAPL 2142140.858           4275.634 124.725            501.011   \n",
       "2020-08-31 AAPL  534667.717          17102.536 129.040             31.262   \n",
       "2020-09-01 AAPL 2211197.954          17102.536 134.180            129.291   \n",
       "\n",
       "                 price_est_vs_actual  split_expected  \n",
       "date       sym                                        \n",
       "2020-08-28 AAPL                1.004           False  \n",
       "2020-08-31 AAPL                0.242           False  \n",
       "2020-09-01 AAPL                0.964           False  "
      ]
     },
     "execution_count": 32,
     "metadata": {},
     "output_type": "execute_result"
    }
   ],
   "source": [
    "view_cols = ['date', 'sym', 'MCAP', 'SharesOutstanding', 'price',\n",
    "             'est_price_unsplit', 'price_est_vs_actual', 'split_expected']\n",
    "df_performance.query(\"sym == 'AAPL'\").query(\"date <= '2020-09-01'\") \\\n",
    "    .tail(3)[view_cols].set_index(['date', 'sym'], drop=True)"
   ]
  },
  {
   "cell_type": "markdown",
   "metadata": {},
   "source": [
    "<div class=\"alert alert-info shadow\">\n",
    "  <strong>After the split application:</strong> <br></br>\n",
    "    08-31 was a split day from our split data,  split_expected was true before because of the differences of price and our estimated price.  This is because the <b>MCAP</b> is not accurate on a split day, so we cannot trust that or <b>SharesOutstanding</b> to make accurate predictions, or for calculating actual splits as they are not accurate enough to devise a 1 to 1.05 split.<ul>\n",
    "        <li>We will be removing stocks that still have splits expected due to the lack of ability to calculate the split</li>\n",
    "    <li>We will also be dropping <b>MCAP</b> <b>SharesOutstanding</b> and the other columns we created for split calculations</li>\n",
    "    </ul>\n",
    "</div>"
   ]
  },
  {
   "cell_type": "code",
   "execution_count": 33,
   "metadata": {
    "ExecuteTime": {
     "end_time": "2020-12-02T11:44:53.976348Z",
     "start_time": "2020-12-02T11:44:53.835363Z"
    }
   },
   "outputs": [],
   "source": [
    "drop_symbols = df_performance.query(\"split_expected\")['sym'].unique()\n",
    "\n",
    "# Drop the rows with the given symbols\n",
    "df_performance = df_performance[~df_performance['sym'].isin(drop_symbols)]\n",
    "\n",
    "# Drop the created columns, mcap, and shares outstanding\n",
    "drop_cols = ['est_price_unsplit', 'price_est_vs_actual', 'split_expected', 'SharesOutstanding', 'MCAP']\n",
    "df_performance.drop(drop_cols, axis=1, inplace=True)"
   ]
  },
  {
   "cell_type": "markdown",
   "metadata": {},
   "source": [
    "### Separate out penny stocks"
   ]
  },
  {
   "cell_type": "code",
   "execution_count": 34,
   "metadata": {
    "ExecuteTime": {
     "end_time": "2020-12-02T11:44:54.070348Z",
     "start_time": "2020-12-02T11:44:53.977350Z"
    }
   },
   "outputs": [],
   "source": [
    "df_penny_performance = df_performance.loc[df_performance['price'] < 1]\n",
    "df_performance = df_performance.drop(df_penny_performance.index)"
   ]
  },
  {
   "cell_type": "markdown",
   "metadata": {},
   "source": [
    "### View loss"
   ]
  },
  {
   "cell_type": "code",
   "execution_count": 35,
   "metadata": {
    "ExecuteTime": {
     "end_time": "2020-12-02T11:44:54.148349Z",
     "start_time": "2020-12-02T11:44:54.071347Z"
    }
   },
   "outputs": [
    {
     "name": "stdout",
     "output_type": "stream",
     "text": [
      "2225 / 6103\n",
      "Removed  63.54% of the stocks from the data\n"
     ]
    }
   ],
   "source": [
    "print(df_performance.reset_index()['sym'].nunique(), \"/\", num_stocks)\n",
    "perc_removed = 100 - (df_performance['sym'].nunique() / num_stocks)*100\n",
    "print(f\"Removed {perc_removed: .2f}% of the stocks from the data\")"
   ]
  },
  {
   "cell_type": "markdown",
   "metadata": {},
   "source": [
    "<div class=\"alert alert-info shadow\">\n",
    "  <strong>63.5%</strong> Of our stocks have now been removed in the hopes of more accurate predictions.  We are left with 2,229 stocks.\n",
    "</div>"
   ]
  },
  {
   "cell_type": "markdown",
   "metadata": {
    "ExecuteTime": {
     "end_time": "2020-11-28T09:41:08.077324Z",
     "start_time": "2020-11-28T09:41:08.066190Z"
    }
   },
   "source": [
    "## Pickle"
   ]
  },
  {
   "cell_type": "code",
   "execution_count": 36,
   "metadata": {
    "ExecuteTime": {
     "end_time": "2020-12-02T11:44:54.354348Z",
     "start_time": "2020-12-02T11:44:54.149351Z"
    }
   },
   "outputs": [],
   "source": [
    "df_performance.to_pickle('./data/performance.pkl')\n",
    "df_penny_performance.to_pickle('./data/penny_performance.pkl')"
   ]
  },
  {
   "cell_type": "code",
   "execution_count": 37,
   "metadata": {
    "ExecuteTime": {
     "end_time": "2020-12-02T11:44:54.538349Z",
     "start_time": "2020-12-02T11:44:54.355350Z"
    }
   },
   "outputs": [
    {
     "data": {
      "text/plain": [
       "0"
      ]
     },
     "execution_count": 37,
     "metadata": {},
     "output_type": "execute_result"
    }
   ],
   "source": [
    "(pd.read_pickle('./data/performance.pkl') != df_performance).sum().sum()"
   ]
  },
  {
   "cell_type": "code",
   "execution_count": 38,
   "metadata": {
    "ExecuteTime": {
     "end_time": "2020-12-02T11:44:54.568349Z",
     "start_time": "2020-12-02T11:44:54.539353Z"
    }
   },
   "outputs": [
    {
     "data": {
      "text/plain": [
       "0"
      ]
     },
     "execution_count": 38,
     "metadata": {},
     "output_type": "execute_result"
    }
   ],
   "source": [
    "(pd.read_pickle('./data/penny_performance.pkl') != df_penny_performance).sum().sum()"
   ]
  },
  {
   "cell_type": "markdown",
   "metadata": {},
   "source": [
    "## Post to sql"
   ]
  },
  {
   "cell_type": "code",
   "execution_count": 39,
   "metadata": {
    "ExecuteTime": {
     "end_time": "2020-12-02T11:44:54.694352Z",
     "start_time": "2020-12-02T11:44:54.569352Z"
    }
   },
   "outputs": [],
   "source": [
    "db_clean = DataBase('stock_cleaned', 14333, 'localhost')"
   ]
  },
  {
   "cell_type": "code",
   "execution_count": 40,
   "metadata": {
    "ExecuteTime": {
     "end_time": "2020-12-02T11:45:02.788487Z",
     "start_time": "2020-12-02T11:44:54.695351Z"
    }
   },
   "outputs": [
    {
     "data": {
      "text/html": [
       "<div>\n",
       "<style scoped>\n",
       "    .dataframe tbody tr th:only-of-type {\n",
       "        vertical-align: middle;\n",
       "    }\n",
       "\n",
       "    .dataframe tbody tr th {\n",
       "        vertical-align: top;\n",
       "    }\n",
       "\n",
       "    .dataframe thead th {\n",
       "        text-align: right;\n",
       "    }\n",
       "</style>\n",
       "<table border=\"1\" class=\"dataframe\">\n",
       "  <thead>\n",
       "    <tr style=\"text-align: right;\">\n",
       "      <th></th>\n",
       "      <th>sym</th>\n",
       "      <th>date</th>\n",
       "      <th>price</th>\n",
       "      <th>RevenueTTM</th>\n",
       "      <th>TotalCash</th>\n",
       "      <th>ExDividendDate</th>\n",
       "      <th>Dividend</th>\n",
       "      <th>DividendYield</th>\n",
       "      <th>PriceToBook</th>\n",
       "      <th>PriceToSales</th>\n",
       "      <th>...</th>\n",
       "      <th>PriceToCashFlow</th>\n",
       "      <th>PE</th>\n",
       "      <th>ReturnonEquity</th>\n",
       "      <th>FreeCashFlow</th>\n",
       "      <th>TotalDebtToEquity</th>\n",
       "      <th>PricePerformance52Weeks</th>\n",
       "      <th>PricePerformanceYTD</th>\n",
       "      <th>TotalReturn1Yr</th>\n",
       "      <th>TotalReturn3Yr</th>\n",
       "      <th>VolumeAvg90Day</th>\n",
       "    </tr>\n",
       "  </thead>\n",
       "  <tbody>\n",
       "    <tr>\n",
       "      <th>0</th>\n",
       "      <td>A</td>\n",
       "      <td>2019-08-09</td>\n",
       "      <td>68.640000</td>\n",
       "      <td>5019</td>\n",
       "      <td>2155</td>\n",
       "      <td>0</td>\n",
       "      <td>0.164</td>\n",
       "      <td>0.94402</td>\n",
       "      <td>4.29809</td>\n",
       "      <td>4.40182</td>\n",
       "      <td>...</td>\n",
       "      <td>16.57368</td>\n",
       "      <td>19.8</td>\n",
       "      <td>23.1598</td>\n",
       "      <td>887</td>\n",
       "      <td>37.29007</td>\n",
       "      <td>3.13149</td>\n",
       "      <td>3.00919</td>\n",
       "      <td>4.04369</td>\n",
       "      <td>14.79356</td>\n",
       "      <td>2.59274</td>\n",
       "    </tr>\n",
       "    <tr>\n",
       "      <th>1</th>\n",
       "      <td>A</td>\n",
       "      <td>2019-08-12</td>\n",
       "      <td>66.780000</td>\n",
       "      <td>5019</td>\n",
       "      <td>2155</td>\n",
       "      <td>0</td>\n",
       "      <td>0.164</td>\n",
       "      <td>0.95571</td>\n",
       "      <td>4.24551</td>\n",
       "      <td>4.34797</td>\n",
       "      <td>...</td>\n",
       "      <td>16.37095</td>\n",
       "      <td>19.2</td>\n",
       "      <td>23.1598</td>\n",
       "      <td>887</td>\n",
       "      <td>37.29007</td>\n",
       "      <td>3.59191</td>\n",
       "      <td>1.74918</td>\n",
       "      <td>4.50818</td>\n",
       "      <td>14.09856</td>\n",
       "      <td>2.58484</td>\n",
       "    </tr>\n",
       "    <tr>\n",
       "      <th>2</th>\n",
       "      <td>A</td>\n",
       "      <td>2019-08-13</td>\n",
       "      <td>67.640000</td>\n",
       "      <td>5019</td>\n",
       "      <td>2155</td>\n",
       "      <td>0</td>\n",
       "      <td>0.164</td>\n",
       "      <td>0.98454</td>\n",
       "      <td>4.12119</td>\n",
       "      <td>4.22065</td>\n",
       "      <td>...</td>\n",
       "      <td>15.89156</td>\n",
       "      <td>19.5</td>\n",
       "      <td>23.1598</td>\n",
       "      <td>887</td>\n",
       "      <td>37.29007</td>\n",
       "      <td>0.55841</td>\n",
       "      <td>-1.23036</td>\n",
       "      <td>1.44784</td>\n",
       "      <td>12.4788</td>\n",
       "      <td>2.60485</td>\n",
       "    </tr>\n",
       "    <tr>\n",
       "      <th>3</th>\n",
       "      <td>A</td>\n",
       "      <td>2019-08-14</td>\n",
       "      <td>65.590000</td>\n",
       "      <td>5019</td>\n",
       "      <td>2155</td>\n",
       "      <td>0</td>\n",
       "      <td>0.164</td>\n",
       "      <td>0.96984</td>\n",
       "      <td>4.18366</td>\n",
       "      <td>4.28463</td>\n",
       "      <td>...</td>\n",
       "      <td>16.13245</td>\n",
       "      <td>18.9</td>\n",
       "      <td>23.1598</td>\n",
       "      <td>887</td>\n",
       "      <td>37.29007</td>\n",
       "      <td>2.5781</td>\n",
       "      <td>0.26682</td>\n",
       "      <td>3.4854</td>\n",
       "      <td>13.04428</td>\n",
       "      <td>2.61616</td>\n",
       "    </tr>\n",
       "    <tr>\n",
       "      <th>4</th>\n",
       "      <td>A</td>\n",
       "      <td>2019-08-15</td>\n",
       "      <td>69.590000</td>\n",
       "      <td>5090</td>\n",
       "      <td>1765</td>\n",
       "      <td>0</td>\n",
       "      <td>0.164</td>\n",
       "      <td>1.00015</td>\n",
       "      <td>4.28332</td>\n",
       "      <td>4.06782</td>\n",
       "      <td>...</td>\n",
       "      <td>16.05056</td>\n",
       "      <td>20.8</td>\n",
       "      <td>22.0179</td>\n",
       "      <td>918</td>\n",
       "      <td>36.93453</td>\n",
       "      <td>-1.73783</td>\n",
       "      <td>-2.77201</td>\n",
       "      <td>-0.8687</td>\n",
       "      <td>11.89052</td>\n",
       "      <td>2.63078</td>\n",
       "    </tr>\n",
       "    <tr>\n",
       "      <th>...</th>\n",
       "      <td>...</td>\n",
       "      <td>...</td>\n",
       "      <td>...</td>\n",
       "      <td>...</td>\n",
       "      <td>...</td>\n",
       "      <td>...</td>\n",
       "      <td>...</td>\n",
       "      <td>...</td>\n",
       "      <td>...</td>\n",
       "      <td>...</td>\n",
       "      <td>...</td>\n",
       "      <td>...</td>\n",
       "      <td>...</td>\n",
       "      <td>...</td>\n",
       "      <td>...</td>\n",
       "      <td>...</td>\n",
       "      <td>...</td>\n",
       "      <td>...</td>\n",
       "      <td>...</td>\n",
       "      <td>...</td>\n",
       "      <td>...</td>\n",
       "    </tr>\n",
       "    <tr>\n",
       "      <th>727147</th>\n",
       "      <td>ZYXI</td>\n",
       "      <td>2020-11-23</td>\n",
       "      <td>13.620000</td>\n",
       "      <td>68.679</td>\n",
       "      <td>41.229</td>\n",
       "      <td>0</td>\n",
       "      <td>0</td>\n",
       "      <td>0</td>\n",
       "      <td>8.58335</td>\n",
       "      <td>6.54801</td>\n",
       "      <td>...</td>\n",
       "      <td>39.23495</td>\n",
       "      <td>45.4</td>\n",
       "      <td>32.8813</td>\n",
       "      <td>3.825</td>\n",
       "      <td>17.03027</td>\n",
       "      <td>48.28729</td>\n",
       "      <td>70.52097</td>\n",
       "      <td>48.28729</td>\n",
       "      <td>66.20773</td>\n",
       "      <td>0.91285</td>\n",
       "    </tr>\n",
       "    <tr>\n",
       "      <th>727148</th>\n",
       "      <td>ZYXI</td>\n",
       "      <td>2020-11-24</td>\n",
       "      <td>13.440000</td>\n",
       "      <td>68.679</td>\n",
       "      <td>41.229</td>\n",
       "      <td>0</td>\n",
       "      <td>0</td>\n",
       "      <td>0</td>\n",
       "      <td>8.58335</td>\n",
       "      <td>6.54801</td>\n",
       "      <td>...</td>\n",
       "      <td>39.23495</td>\n",
       "      <td>44.8</td>\n",
       "      <td>32.8813</td>\n",
       "      <td>3.825</td>\n",
       "      <td>17.03027</td>\n",
       "      <td>48.28729</td>\n",
       "      <td>70.52097</td>\n",
       "      <td>48.28729</td>\n",
       "      <td>66.20773</td>\n",
       "      <td>0.91285</td>\n",
       "    </tr>\n",
       "    <tr>\n",
       "      <th>727149</th>\n",
       "      <td>ZYXI</td>\n",
       "      <td>2020-11-25</td>\n",
       "      <td>13.390000</td>\n",
       "      <td>68.679</td>\n",
       "      <td>41.229</td>\n",
       "      <td>0</td>\n",
       "      <td>0</td>\n",
       "      <td>0</td>\n",
       "      <td>8.59615</td>\n",
       "      <td>6.55777</td>\n",
       "      <td>...</td>\n",
       "      <td>39.29342</td>\n",
       "      <td>44.6</td>\n",
       "      <td>32.8813</td>\n",
       "      <td>3.825</td>\n",
       "      <td>17.03027</td>\n",
       "      <td>50.67265</td>\n",
       "      <td>70.7751</td>\n",
       "      <td>50.67265</td>\n",
       "      <td>66.29025</td>\n",
       "      <td>0.84596</td>\n",
       "    </tr>\n",
       "    <tr>\n",
       "      <th>727150</th>\n",
       "      <td>ZYXI</td>\n",
       "      <td>2020-11-26</td>\n",
       "      <td>13.390000</td>\n",
       "      <td>68.679</td>\n",
       "      <td>41.229</td>\n",
       "      <td>0</td>\n",
       "      <td>0</td>\n",
       "      <td>0</td>\n",
       "      <td>8.58335</td>\n",
       "      <td>6.54801</td>\n",
       "      <td>...</td>\n",
       "      <td>39.23495</td>\n",
       "      <td>44.6</td>\n",
       "      <td>32.8813</td>\n",
       "      <td>3.825</td>\n",
       "      <td>17.03027</td>\n",
       "      <td>25.18657</td>\n",
       "      <td>70.52097</td>\n",
       "      <td>25.18657</td>\n",
       "      <td>66.20773</td>\n",
       "      <td>0.83464</td>\n",
       "    </tr>\n",
       "    <tr>\n",
       "      <th>727151</th>\n",
       "      <td>ZYXI</td>\n",
       "      <td>2020-11-27</td>\n",
       "      <td>13.870000</td>\n",
       "      <td>68.679</td>\n",
       "      <td>41.229</td>\n",
       "      <td>0</td>\n",
       "      <td>0</td>\n",
       "      <td>0</td>\n",
       "      <td>8.58335</td>\n",
       "      <td>6.54801</td>\n",
       "      <td>...</td>\n",
       "      <td>39.23495</td>\n",
       "      <td>46.2</td>\n",
       "      <td>32.8813</td>\n",
       "      <td>3.825</td>\n",
       "      <td>17.03027</td>\n",
       "      <td>25.18657</td>\n",
       "      <td>70.52097</td>\n",
       "      <td>25.18657</td>\n",
       "      <td>66.20773</td>\n",
       "      <td>0.83464</td>\n",
       "    </tr>\n",
       "  </tbody>\n",
       "</table>\n",
       "<p>727152 rows × 21 columns</p>\n",
       "</div>"
      ],
      "text/plain": [
       "         sym        date      price RevenueTTM TotalCash ExDividendDate  \\\n",
       "0          A  2019-08-09  68.640000       5019      2155              0   \n",
       "1          A  2019-08-12  66.780000       5019      2155              0   \n",
       "2          A  2019-08-13  67.640000       5019      2155              0   \n",
       "3          A  2019-08-14  65.590000       5019      2155              0   \n",
       "4          A  2019-08-15  69.590000       5090      1765              0   \n",
       "...      ...         ...        ...        ...       ...            ...   \n",
       "727147  ZYXI  2020-11-23  13.620000     68.679    41.229              0   \n",
       "727148  ZYXI  2020-11-24  13.440000     68.679    41.229              0   \n",
       "727149  ZYXI  2020-11-25  13.390000     68.679    41.229              0   \n",
       "727150  ZYXI  2020-11-26  13.390000     68.679    41.229              0   \n",
       "727151  ZYXI  2020-11-27  13.870000     68.679    41.229              0   \n",
       "\n",
       "       Dividend DividendYield PriceToBook PriceToSales  ... PriceToCashFlow  \\\n",
       "0         0.164       0.94402     4.29809      4.40182  ...        16.57368   \n",
       "1         0.164       0.95571     4.24551      4.34797  ...        16.37095   \n",
       "2         0.164       0.98454     4.12119      4.22065  ...        15.89156   \n",
       "3         0.164       0.96984     4.18366      4.28463  ...        16.13245   \n",
       "4         0.164       1.00015     4.28332      4.06782  ...        16.05056   \n",
       "...         ...           ...         ...          ...  ...             ...   \n",
       "727147        0             0     8.58335      6.54801  ...        39.23495   \n",
       "727148        0             0     8.58335      6.54801  ...        39.23495   \n",
       "727149        0             0     8.59615      6.55777  ...        39.29342   \n",
       "727150        0             0     8.58335      6.54801  ...        39.23495   \n",
       "727151        0             0     8.58335      6.54801  ...        39.23495   \n",
       "\n",
       "          PE ReturnonEquity FreeCashFlow TotalDebtToEquity  \\\n",
       "0       19.8        23.1598          887          37.29007   \n",
       "1       19.2        23.1598          887          37.29007   \n",
       "2       19.5        23.1598          887          37.29007   \n",
       "3       18.9        23.1598          887          37.29007   \n",
       "4       20.8        22.0179          918          36.93453   \n",
       "...      ...            ...          ...               ...   \n",
       "727147  45.4        32.8813        3.825          17.03027   \n",
       "727148  44.8        32.8813        3.825          17.03027   \n",
       "727149  44.6        32.8813        3.825          17.03027   \n",
       "727150  44.6        32.8813        3.825          17.03027   \n",
       "727151  46.2        32.8813        3.825          17.03027   \n",
       "\n",
       "       PricePerformance52Weeks PricePerformanceYTD TotalReturn1Yr  \\\n",
       "0                      3.13149             3.00919        4.04369   \n",
       "1                      3.59191             1.74918        4.50818   \n",
       "2                      0.55841            -1.23036        1.44784   \n",
       "3                       2.5781             0.26682         3.4854   \n",
       "4                     -1.73783            -2.77201        -0.8687   \n",
       "...                        ...                 ...            ...   \n",
       "727147                48.28729            70.52097       48.28729   \n",
       "727148                48.28729            70.52097       48.28729   \n",
       "727149                50.67265             70.7751       50.67265   \n",
       "727150                25.18657            70.52097       25.18657   \n",
       "727151                25.18657            70.52097       25.18657   \n",
       "\n",
       "       TotalReturn3Yr VolumeAvg90Day  \n",
       "0            14.79356        2.59274  \n",
       "1            14.09856        2.58484  \n",
       "2             12.4788        2.60485  \n",
       "3            13.04428        2.61616  \n",
       "4            11.89052        2.63078  \n",
       "...               ...            ...  \n",
       "727147       66.20773        0.91285  \n",
       "727148       66.20773        0.91285  \n",
       "727149       66.29025        0.84596  \n",
       "727150       66.20773        0.83464  \n",
       "727151       66.20773        0.83464  \n",
       "\n",
       "[727152 rows x 21 columns]"
      ]
     },
     "execution_count": 40,
     "metadata": {},
     "output_type": "execute_result"
    }
   ],
   "source": [
    "db_clean.pull_names_as_dataframes(['penny_performance', 'performance'])\n",
    "db_clean.frames['performance']"
   ]
  },
  {
   "cell_type": "markdown",
   "metadata": {},
   "source": [
    "#### Performance"
   ]
  },
  {
   "cell_type": "code",
   "execution_count": 41,
   "metadata": {
    "ExecuteTime": {
     "end_time": "2020-12-02T11:46:26.853285Z",
     "start_time": "2020-12-02T11:45:02.789484Z"
    }
   },
   "outputs": [],
   "source": [
    "# Make query list\n",
    "query_list = []\n",
    "for idx, row in df_performance.iterrows():\n",
    "    query_list.append(tuple(row.to_dict().values()))\n",
    "\n",
    "# Execute\n",
    "db_clean.cur.executemany(\"\"\"\n",
    "REPLACE INTO performance (date, sym, RevenueTTM, TotalCash, ExDividendDate,\n",
    "                    Dividend, DividendYield, PriceToBook, PriceToSales,\n",
    "                    EnterpriseValue, PriceToCashFlow, PE, ReturnonEquity,\n",
    "                    FreeCashFlow, TotalDebtToEquity, PricePerformance52Weeks,\n",
    "                    PricePerformanceYTD, TotalReturn1Yr, TotalReturn3Yr,\n",
    "                    VolumeAvg90Day, price)\n",
    "VALUES (%s, %s, %s, %s, %s, %s, %s, %s, %s, %s, %s, %s, %s, %s, %s, %s, %s, %s, %s, %s, %s)\"\"\",\n",
    "      query_list)\n",
    "\n",
    "# commit\n",
    "db_clean.conn.commit()"
   ]
  },
  {
   "cell_type": "markdown",
   "metadata": {},
   "source": [
    "#### Penny"
   ]
  },
  {
   "cell_type": "code",
   "execution_count": 42,
   "metadata": {
    "ExecuteTime": {
     "end_time": "2020-12-02T11:46:33.116899Z",
     "start_time": "2020-12-02T11:46:26.854285Z"
    }
   },
   "outputs": [],
   "source": [
    "# Make query list\n",
    "query_list_penny = []\n",
    "for idx, row in df_penny_performance.iterrows():\n",
    "    query_list_penny.append(tuple(row.to_dict().values()))\n",
    "    \n",
    "db_clean.cur.executemany(\"\"\"\n",
    "REPLACE INTO penny_performance (date, sym, RevenueTTM, TotalCash, ExDividendDate,\n",
    "                    Dividend, DividendYield, PriceToBook, PriceToSales,\n",
    "                    EnterpriseValue, PriceToCashFlow, PE, ReturnonEquity,\n",
    "                    FreeCashFlow, TotalDebtToEquity, PricePerformance52Weeks,\n",
    "                    PricePerformanceYTD, TotalReturn1Yr, TotalReturn3Yr,\n",
    "                    VolumeAvg90Day, price)\n",
    "VALUES (%s, %s, %s, %s, %s, %s, %s, %s, %s, %s, %s, %s, %s, %s, %s, %s, %s, %s, %s, %s, %s)\"\"\",\n",
    "      query_list_penny)\n",
    "\n",
    "db_clean.conn.commit()"
   ]
  },
  {
   "cell_type": "markdown",
   "metadata": {},
   "source": [
    "> Mostly equal other than rounding errors.  Good to go!"
   ]
  },
  {
   "cell_type": "markdown",
   "metadata": {
    "ExecuteTime": {
     "end_time": "2020-11-28T09:40:27.072118Z",
     "start_time": "2020-11-28T09:40:27.057119Z"
    }
   },
   "source": [
    "# Company"
   ]
  },
  {
   "cell_type": "markdown",
   "metadata": {},
   "source": [
    "## Clean for new sql"
   ]
  },
  {
   "cell_type": "code",
   "execution_count": 43,
   "metadata": {
    "ExecuteTime": {
     "end_time": "2020-12-02T11:46:33.148886Z",
     "start_time": "2020-12-02T11:46:33.117891Z"
    }
   },
   "outputs": [
    {
     "data": {
      "text/html": [
       "<div>\n",
       "<style scoped>\n",
       "    .dataframe tbody tr th:only-of-type {\n",
       "        vertical-align: middle;\n",
       "    }\n",
       "\n",
       "    .dataframe tbody tr th {\n",
       "        vertical-align: top;\n",
       "    }\n",
       "\n",
       "    .dataframe thead th {\n",
       "        text-align: right;\n",
       "    }\n",
       "</style>\n",
       "<table border=\"1\" class=\"dataframe\">\n",
       "  <thead>\n",
       "    <tr style=\"text-align: right;\">\n",
       "      <th></th>\n",
       "      <th>company</th>\n",
       "      <th>securityType</th>\n",
       "      <th>sector</th>\n",
       "      <th>industry</th>\n",
       "      <th>subIndustry</th>\n",
       "      <th>Exchange</th>\n",
       "      <th>DJIA</th>\n",
       "      <th>NASDAQ100</th>\n",
       "      <th>SP500</th>\n",
       "    </tr>\n",
       "    <tr>\n",
       "      <th>sym</th>\n",
       "      <th></th>\n",
       "      <th></th>\n",
       "      <th></th>\n",
       "      <th></th>\n",
       "      <th></th>\n",
       "      <th></th>\n",
       "      <th></th>\n",
       "      <th></th>\n",
       "      <th></th>\n",
       "    </tr>\n",
       "  </thead>\n",
       "  <tbody>\n",
       "    <tr>\n",
       "      <th>A</th>\n",
       "      <td>Agilent Technologies Inc</td>\n",
       "      <td>CS</td>\n",
       "      <td>Health Care</td>\n",
       "      <td>Life Sciences Tools &amp; Services</td>\n",
       "      <td>Life Sciences Tools &amp; Services</td>\n",
       "      <td>NYSE</td>\n",
       "      <td>0</td>\n",
       "      <td>0</td>\n",
       "      <td>1</td>\n",
       "    </tr>\n",
       "    <tr>\n",
       "      <th>AA</th>\n",
       "      <td>Alcoa Corp</td>\n",
       "      <td>CS</td>\n",
       "      <td>Materials</td>\n",
       "      <td>Metals &amp; Mining</td>\n",
       "      <td>Aluminum</td>\n",
       "      <td>NYSE</td>\n",
       "      <td>0</td>\n",
       "      <td>0</td>\n",
       "      <td>0</td>\n",
       "    </tr>\n",
       "    <tr>\n",
       "      <th>AABA</th>\n",
       "      <td>Altaba Inc</td>\n",
       "      <td>CS</td>\n",
       "      <td>Consumer Discretionary</td>\n",
       "      <td>Internet &amp; Direct Marketing Retail</td>\n",
       "      <td>Internet &amp; Direct Marketing Retail</td>\n",
       "      <td>NASDAQ</td>\n",
       "      <td>0</td>\n",
       "      <td>0</td>\n",
       "      <td>0</td>\n",
       "    </tr>\n",
       "    <tr>\n",
       "      <th>AAC</th>\n",
       "      <td>AAC Holdings Inc</td>\n",
       "      <td>CS</td>\n",
       "      <td>Health Care</td>\n",
       "      <td>Health Care Providers &amp; Services</td>\n",
       "      <td>Health Care Facilities</td>\n",
       "      <td>NYSE</td>\n",
       "      <td>0</td>\n",
       "      <td>0</td>\n",
       "      <td>0</td>\n",
       "    </tr>\n",
       "    <tr>\n",
       "      <th>AACG</th>\n",
       "      <td>ATA Creativity Global</td>\n",
       "      <td>DR</td>\n",
       "      <td>Consumer Discretionary</td>\n",
       "      <td>Diversified Consumer Services</td>\n",
       "      <td>Education Services</td>\n",
       "      <td>NASDAQ</td>\n",
       "      <td>0</td>\n",
       "      <td>0</td>\n",
       "      <td>0</td>\n",
       "    </tr>\n",
       "  </tbody>\n",
       "</table>\n",
       "</div>"
      ],
      "text/plain": [
       "                       company securityType                  sector  \\\n",
       "sym                                                                   \n",
       "A     Agilent Technologies Inc           CS             Health Care   \n",
       "AA                  Alcoa Corp           CS               Materials   \n",
       "AABA                Altaba Inc           CS  Consumer Discretionary   \n",
       "AAC           AAC Holdings Inc           CS             Health Care   \n",
       "AACG     ATA Creativity Global           DR  Consumer Discretionary   \n",
       "\n",
       "                                industry                         subIndustry  \\\n",
       "sym                                                                            \n",
       "A         Life Sciences Tools & Services      Life Sciences Tools & Services   \n",
       "AA                       Metals & Mining                            Aluminum   \n",
       "AABA  Internet & Direct Marketing Retail  Internet & Direct Marketing Retail   \n",
       "AAC     Health Care Providers & Services              Health Care Facilities   \n",
       "AACG       Diversified Consumer Services                  Education Services   \n",
       "\n",
       "     Exchange DJIA NASDAQ100 SP500  \n",
       "sym                                 \n",
       "A        NYSE    0         0     1  \n",
       "AA       NYSE    0         0     0  \n",
       "AABA   NASDAQ    0         0     0  \n",
       "AAC      NYSE    0         0     0  \n",
       "AACG   NASDAQ    0         0     0  "
      ]
     },
     "execution_count": 43,
     "metadata": {},
     "output_type": "execute_result"
    }
   ],
   "source": [
    "df_company = db.frames['company'].copy(deep=True)\n",
    "\n",
    "# Resetting date index and dropping index\n",
    "df_company.set_index('sym', inplace=True, drop=True)\n",
    "\n",
    "df_company.drop('date', inplace=True, axis=1)\n",
    "\n",
    "df_company.replace(['', '--'], np.NaN, inplace=True)\n",
    "df_company.head()"
   ]
  },
  {
   "cell_type": "code",
   "execution_count": 44,
   "metadata": {
    "ExecuteTime": {
     "end_time": "2020-12-02T11:46:33.164886Z",
     "start_time": "2020-12-02T11:46:33.149888Z"
    }
   },
   "outputs": [
    {
     "data": {
      "text/plain": [
       "company         7366\n",
       "securityType       6\n",
       "sector            11\n",
       "industry          69\n",
       "subIndustry      161\n",
       "Exchange           4\n",
       "DJIA               2\n",
       "NASDAQ100          2\n",
       "SP500              2\n",
       "dtype: int64"
      ]
     },
     "execution_count": 44,
     "metadata": {},
     "output_type": "execute_result"
    }
   ],
   "source": [
    "df_company.nunique()"
   ]
  },
  {
   "cell_type": "code",
   "execution_count": 45,
   "metadata": {
    "ExecuteTime": {
     "end_time": "2020-12-02T11:46:33.180888Z",
     "start_time": "2020-12-02T11:46:33.165890Z"
    }
   },
   "outputs": [
    {
     "data": {
      "text/plain": [
       "7936"
      ]
     },
     "execution_count": 45,
     "metadata": {},
     "output_type": "execute_result"
    }
   ],
   "source": [
    "len(df_company)"
   ]
  },
  {
   "cell_type": "code",
   "execution_count": 46,
   "metadata": {
    "ExecuteTime": {
     "end_time": "2020-12-02T11:46:33.196885Z",
     "start_time": "2020-12-02T11:46:33.182886Z"
    }
   },
   "outputs": [
    {
     "data": {
      "text/plain": [
       "company           0\n",
       "securityType      6\n",
       "sector          923\n",
       "industry        923\n",
       "subIndustry     923\n",
       "Exchange         37\n",
       "DJIA              0\n",
       "NASDAQ100         0\n",
       "SP500             0\n",
       "dtype: int64"
      ]
     },
     "execution_count": 46,
     "metadata": {},
     "output_type": "execute_result"
    }
   ],
   "source": [
    "df_company.isna().sum()"
   ]
  },
  {
   "cell_type": "code",
   "execution_count": 47,
   "metadata": {
    "ExecuteTime": {
     "end_time": "2020-12-02T11:46:33.212885Z",
     "start_time": "2020-12-02T11:46:33.197886Z"
    }
   },
   "outputs": [],
   "source": [
    "df_company = df_company.fillna('unknown')"
   ]
  },
  {
   "cell_type": "code",
   "execution_count": 48,
   "metadata": {
    "ExecuteTime": {
     "end_time": "2020-12-02T11:46:33.228885Z",
     "start_time": "2020-12-02T11:46:33.213890Z"
    }
   },
   "outputs": [
    {
     "data": {
      "text/plain": [
       "company         0\n",
       "securityType    0\n",
       "sector          0\n",
       "industry        0\n",
       "subIndustry     0\n",
       "Exchange        0\n",
       "DJIA            0\n",
       "NASDAQ100       0\n",
       "SP500           0\n",
       "dtype: int64"
      ]
     },
     "execution_count": 48,
     "metadata": {},
     "output_type": "execute_result"
    }
   ],
   "source": [
    "df_company.isna().sum()"
   ]
  },
  {
   "cell_type": "code",
   "execution_count": 49,
   "metadata": {
    "ExecuteTime": {
     "end_time": "2020-12-02T11:46:33.290893Z",
     "start_time": "2020-12-02T11:46:33.229888Z"
    }
   },
   "outputs": [],
   "source": [
    "all_symbols = df_performance.reset_index()['sym'].unique()"
   ]
  },
  {
   "cell_type": "code",
   "execution_count": 50,
   "metadata": {
    "ExecuteTime": {
     "end_time": "2020-12-02T11:46:33.306888Z",
     "start_time": "2020-12-02T11:46:33.292892Z"
    }
   },
   "outputs": [],
   "source": [
    "df_company = df_company[df_company.index.isin(all_symbols)]"
   ]
  },
  {
   "cell_type": "code",
   "execution_count": 51,
   "metadata": {
    "ExecuteTime": {
     "end_time": "2020-12-02T11:46:33.322886Z",
     "start_time": "2020-12-02T11:46:33.307890Z"
    }
   },
   "outputs": [],
   "source": [
    "df_company.to_pickle('./data/company.pkl')"
   ]
  },
  {
   "cell_type": "markdown",
   "metadata": {
    "ExecuteTime": {
     "end_time": "2020-11-28T09:40:27.088116Z",
     "start_time": "2020-11-28T09:40:27.073117Z"
    }
   },
   "source": [
    "# Analyst"
   ]
  },
  {
   "cell_type": "code",
   "execution_count": 52,
   "metadata": {
    "ExecuteTime": {
     "end_time": "2020-12-02T11:46:37.216867Z",
     "start_time": "2020-12-02T11:46:33.323887Z"
    }
   },
   "outputs": [
    {
     "data": {
      "text/html": [
       "<div>\n",
       "<style scoped>\n",
       "    .dataframe tbody tr th:only-of-type {\n",
       "        vertical-align: middle;\n",
       "    }\n",
       "\n",
       "    .dataframe tbody tr th {\n",
       "        vertical-align: top;\n",
       "    }\n",
       "\n",
       "    .dataframe thead th {\n",
       "        text-align: right;\n",
       "    }\n",
       "</style>\n",
       "<table border=\"1\" class=\"dataframe\">\n",
       "  <thead>\n",
       "    <tr style=\"text-align: right;\">\n",
       "      <th></th>\n",
       "      <th>sym</th>\n",
       "      <th>Argus</th>\n",
       "      <th>StarMine</th>\n",
       "      <th>ColumbineCapital</th>\n",
       "      <th>FordEquityResearch</th>\n",
       "      <th>ISSEVA</th>\n",
       "      <th>Jefferson</th>\n",
       "      <th>McLeanCapital</th>\n",
       "      <th>NedDavis</th>\n",
       "      <th>TradingCentral</th>\n",
       "      <th>Zacks</th>\n",
       "      <th>SPValuation</th>\n",
       "      <th>SPQuality</th>\n",
       "      <th>SPGrowthStability</th>\n",
       "      <th>SPFinancialHealth</th>\n",
       "      <th>ThomsonReutersVerus</th>\n",
       "      <th>ThomsonReutersIBES</th>\n",
       "    </tr>\n",
       "    <tr>\n",
       "      <th>date</th>\n",
       "      <th></th>\n",
       "      <th></th>\n",
       "      <th></th>\n",
       "      <th></th>\n",
       "      <th></th>\n",
       "      <th></th>\n",
       "      <th></th>\n",
       "      <th></th>\n",
       "      <th></th>\n",
       "      <th></th>\n",
       "      <th></th>\n",
       "      <th></th>\n",
       "      <th></th>\n",
       "      <th></th>\n",
       "      <th></th>\n",
       "      <th></th>\n",
       "      <th></th>\n",
       "    </tr>\n",
       "  </thead>\n",
       "  <tbody>\n",
       "    <tr>\n",
       "      <th>2019-06-04</th>\n",
       "      <td>A</td>\n",
       "      <td>NaN</td>\n",
       "      <td>NaN</td>\n",
       "      <td>1</td>\n",
       "      <td>3</td>\n",
       "      <td>70</td>\n",
       "      <td>Buy</td>\n",
       "      <td>Neutral</td>\n",
       "      <td>NEUTRAL</td>\n",
       "      <td>NaN</td>\n",
       "      <td>HOLD</td>\n",
       "      <td>92</td>\n",
       "      <td>75</td>\n",
       "      <td>7</td>\n",
       "      <td>85</td>\n",
       "      <td>HOLD</td>\n",
       "      <td>1.714</td>\n",
       "    </tr>\n",
       "    <tr>\n",
       "      <th>2019-06-08</th>\n",
       "      <td>A</td>\n",
       "      <td>NaN</td>\n",
       "      <td>NaN</td>\n",
       "      <td>1</td>\n",
       "      <td>3</td>\n",
       "      <td>70</td>\n",
       "      <td>Buy</td>\n",
       "      <td>Neutral</td>\n",
       "      <td>NEUTRAL</td>\n",
       "      <td>NaN</td>\n",
       "      <td>BUY</td>\n",
       "      <td>93</td>\n",
       "      <td>74</td>\n",
       "      <td>6</td>\n",
       "      <td>85</td>\n",
       "      <td>HOLD</td>\n",
       "      <td>1.8</td>\n",
       "    </tr>\n",
       "    <tr>\n",
       "      <th>2019-06-17</th>\n",
       "      <td>A</td>\n",
       "      <td>NaN</td>\n",
       "      <td>9.4</td>\n",
       "      <td>1</td>\n",
       "      <td>3</td>\n",
       "      <td>70</td>\n",
       "      <td>1</td>\n",
       "      <td>3</td>\n",
       "      <td>NEUTRAL</td>\n",
       "      <td>3</td>\n",
       "      <td>BUY</td>\n",
       "      <td>93</td>\n",
       "      <td>74</td>\n",
       "      <td>7</td>\n",
       "      <td>85</td>\n",
       "      <td>HOLD</td>\n",
       "      <td>1.813</td>\n",
       "    </tr>\n",
       "    <tr>\n",
       "      <th>2019-06-19</th>\n",
       "      <td>A</td>\n",
       "      <td>NaN</td>\n",
       "      <td>9.4</td>\n",
       "      <td>1</td>\n",
       "      <td>3</td>\n",
       "      <td>70</td>\n",
       "      <td>1</td>\n",
       "      <td>3</td>\n",
       "      <td>NEUTRAL</td>\n",
       "      <td>3</td>\n",
       "      <td>HOLD</td>\n",
       "      <td>93</td>\n",
       "      <td>75</td>\n",
       "      <td>7</td>\n",
       "      <td>85</td>\n",
       "      <td>HOLD</td>\n",
       "      <td>1.813</td>\n",
       "    </tr>\n",
       "    <tr>\n",
       "      <th>2019-06-20</th>\n",
       "      <td>A</td>\n",
       "      <td>NaN</td>\n",
       "      <td>7</td>\n",
       "      <td>1</td>\n",
       "      <td>3</td>\n",
       "      <td>70</td>\n",
       "      <td>1</td>\n",
       "      <td>3</td>\n",
       "      <td>NEUTRAL</td>\n",
       "      <td>3</td>\n",
       "      <td>HOLD</td>\n",
       "      <td>93</td>\n",
       "      <td>75</td>\n",
       "      <td>7</td>\n",
       "      <td>85</td>\n",
       "      <td>HOLD</td>\n",
       "      <td>1.813</td>\n",
       "    </tr>\n",
       "  </tbody>\n",
       "</table>\n",
       "</div>"
      ],
      "text/plain": [
       "           sym Argus StarMine ColumbineCapital FordEquityResearch ISSEVA  \\\n",
       "date                                                                       \n",
       "2019-06-04   A   NaN      NaN                1                  3     70   \n",
       "2019-06-08   A   NaN      NaN                1                  3     70   \n",
       "2019-06-17   A   NaN      9.4                1                  3     70   \n",
       "2019-06-19   A   NaN      9.4                1                  3     70   \n",
       "2019-06-20   A   NaN        7                1                  3     70   \n",
       "\n",
       "           Jefferson McLeanCapital NedDavis TradingCentral Zacks SPValuation  \\\n",
       "date                                                                           \n",
       "2019-06-04       Buy       Neutral  NEUTRAL            NaN  HOLD          92   \n",
       "2019-06-08       Buy       Neutral  NEUTRAL            NaN   BUY          93   \n",
       "2019-06-17         1             3  NEUTRAL              3   BUY          93   \n",
       "2019-06-19         1             3  NEUTRAL              3  HOLD          93   \n",
       "2019-06-20         1             3  NEUTRAL              3  HOLD          93   \n",
       "\n",
       "           SPQuality SPGrowthStability SPFinancialHealth ThomsonReutersVerus  \\\n",
       "date                                                                           \n",
       "2019-06-04        75                 7                85                HOLD   \n",
       "2019-06-08        74                 6                85                HOLD   \n",
       "2019-06-17        74                 7                85                HOLD   \n",
       "2019-06-19        75                 7                85                HOLD   \n",
       "2019-06-20        75                 7                85                HOLD   \n",
       "\n",
       "           ThomsonReutersIBES  \n",
       "date                           \n",
       "2019-06-04              1.714  \n",
       "2019-06-08                1.8  \n",
       "2019-06-17              1.813  \n",
       "2019-06-19              1.813  \n",
       "2019-06-20              1.813  "
      ]
     },
     "execution_count": 52,
     "metadata": {},
     "output_type": "execute_result"
    }
   ],
   "source": [
    "# Cleaning first two blank rows\n",
    "df_analyst = db.frames['analyst'].copy(deep=True).drop([0, 1])\n",
    "\n",
    "# Resetting date index and dropping index\n",
    "df_analyst.set_index('date', inplace=True, drop=True)\n",
    "\n",
    "# Dropping null date values\n",
    "df_analyst = df_analyst.loc[df_analyst.index.notnull()]\n",
    "\n",
    "df_analyst.replace(['', '--'], np.NaN, inplace=True)\n",
    "\n",
    "df_analyst.head()"
   ]
  },
  {
   "cell_type": "code",
   "execution_count": 53,
   "metadata": {
    "ExecuteTime": {
     "end_time": "2020-12-02T11:46:43.656949Z",
     "start_time": "2020-12-02T11:46:37.217867Z"
    }
   },
   "outputs": [
    {
     "data": {
      "text/plain": [
       "((730822, 16), (730822, 21))"
      ]
     },
     "execution_count": 53,
     "metadata": {},
     "output_type": "execute_result"
    }
   ],
   "source": [
    "perf_symbols = df_prices['sym'].unique()\n",
    "df_analyst = df_analyst.loc[df_analyst['sym'].isin(perf_symbols)]\n",
    "test_analyst = df_analyst.reset_index().set_index(['date', 'sym'])\n",
    "test_performance = df_performance.reset_index().set_index(['date', 'sym'])\n",
    "df_analyst = pd.DataFrame(test_analyst, index=test_performance.index)\n",
    "df_analyst.shape, df_performance.shape"
   ]
  },
  {
   "cell_type": "markdown",
   "metadata": {},
   "source": [
    "## Checking for null values"
   ]
  },
  {
   "cell_type": "code",
   "execution_count": 54,
   "metadata": {
    "ExecuteTime": {
     "end_time": "2020-12-02T11:46:44.131981Z",
     "start_time": "2020-12-02T11:46:43.657952Z"
    }
   },
   "outputs": [
    {
     "data": {
      "text/plain": [
       "Argus                 16.139\n",
       "NedDavis              24.177\n",
       "TradingCentral        39.730\n",
       "ColumbineCapital      56.147\n",
       "McLeanCapital         59.815\n",
       "Jefferson             64.994\n",
       "ISSEVA                74.702\n",
       "Zacks                 77.436\n",
       "StarMine              79.656\n",
       "FordEquityResearch    80.454\n",
       "ThomsonReutersIBES    82.482\n",
       "ThomsonReutersVerus   89.165\n",
       "SPFinancialHealth     90.321\n",
       "SPGrowthStability     91.766\n",
       "SPQuality             91.780\n",
       "SPValuation           91.783\n",
       "dtype: float64"
      ]
     },
     "execution_count": 54,
     "metadata": {},
     "output_type": "execute_result"
    }
   ],
   "source": [
    "get_perc_not_null(df_analyst)"
   ]
  },
  {
   "cell_type": "markdown",
   "metadata": {},
   "source": [
    "> Here you can see the percentage of a column that is not null, Argus is in less than one percent of the data.  We will need to convene a method to deal with the null values.\n",
    "\n",
    ">  The method for filling null values will be a front fill, and a 0 based back fill grouped by stock.  For example if a stock has not been rated by a company at all it will be continuously 0, and if that analyst suddenly rating a stock after no having rated it is significant an algorithm should pick up on that."
   ]
  },
  {
   "cell_type": "code",
   "execution_count": 55,
   "metadata": {
    "ExecuteTime": {
     "end_time": "2020-12-02T11:46:44.147969Z",
     "start_time": "2020-12-02T11:46:44.133975Z"
    }
   },
   "outputs": [
    {
     "data": {
      "text/html": [
       "<div>\n",
       "<style scoped>\n",
       "    .dataframe tbody tr th:only-of-type {\n",
       "        vertical-align: middle;\n",
       "    }\n",
       "\n",
       "    .dataframe tbody tr th {\n",
       "        vertical-align: top;\n",
       "    }\n",
       "\n",
       "    .dataframe thead th {\n",
       "        text-align: right;\n",
       "    }\n",
       "</style>\n",
       "<table border=\"1\" class=\"dataframe\">\n",
       "  <thead>\n",
       "    <tr style=\"text-align: right;\">\n",
       "      <th></th>\n",
       "      <th>sym</th>\n",
       "      <th>random_analyst</th>\n",
       "      <th>randon_analyst2</th>\n",
       "    </tr>\n",
       "  </thead>\n",
       "  <tbody>\n",
       "    <tr>\n",
       "      <th>0</th>\n",
       "      <td>a</td>\n",
       "      <td>nan</td>\n",
       "      <td>3</td>\n",
       "    </tr>\n",
       "    <tr>\n",
       "      <th>1</th>\n",
       "      <td>a</td>\n",
       "      <td>nan</td>\n",
       "      <td>4</td>\n",
       "    </tr>\n",
       "    <tr>\n",
       "      <th>2</th>\n",
       "      <td>a</td>\n",
       "      <td>3.000</td>\n",
       "      <td>8</td>\n",
       "    </tr>\n",
       "    <tr>\n",
       "      <th>3</th>\n",
       "      <td>a</td>\n",
       "      <td>nan</td>\n",
       "      <td>6</td>\n",
       "    </tr>\n",
       "    <tr>\n",
       "      <th>4</th>\n",
       "      <td>a</td>\n",
       "      <td>5.000</td>\n",
       "      <td>5</td>\n",
       "    </tr>\n",
       "  </tbody>\n",
       "</table>\n",
       "</div>"
      ],
      "text/plain": [
       "  sym  random_analyst  randon_analyst2\n",
       "0   a             nan                3\n",
       "1   a             nan                4\n",
       "2   a           3.000                8\n",
       "3   a             nan                6\n",
       "4   a           5.000                5"
      ]
     },
     "metadata": {},
     "output_type": "display_data"
    },
    {
     "data": {
      "text/html": [
       "<div>\n",
       "<style scoped>\n",
       "    .dataframe tbody tr th:only-of-type {\n",
       "        vertical-align: middle;\n",
       "    }\n",
       "\n",
       "    .dataframe tbody tr th {\n",
       "        vertical-align: top;\n",
       "    }\n",
       "\n",
       "    .dataframe thead th {\n",
       "        text-align: right;\n",
       "    }\n",
       "</style>\n",
       "<table border=\"1\" class=\"dataframe\">\n",
       "  <thead>\n",
       "    <tr style=\"text-align: right;\">\n",
       "      <th></th>\n",
       "      <th>sym</th>\n",
       "      <th>random_analyst</th>\n",
       "      <th>randon_analyst2</th>\n",
       "    </tr>\n",
       "  </thead>\n",
       "  <tbody>\n",
       "    <tr>\n",
       "      <th>0</th>\n",
       "      <td>a</td>\n",
       "      <td>0.000</td>\n",
       "      <td>3</td>\n",
       "    </tr>\n",
       "    <tr>\n",
       "      <th>1</th>\n",
       "      <td>a</td>\n",
       "      <td>0.000</td>\n",
       "      <td>4</td>\n",
       "    </tr>\n",
       "    <tr>\n",
       "      <th>2</th>\n",
       "      <td>a</td>\n",
       "      <td>3.000</td>\n",
       "      <td>8</td>\n",
       "    </tr>\n",
       "    <tr>\n",
       "      <th>3</th>\n",
       "      <td>a</td>\n",
       "      <td>3.000</td>\n",
       "      <td>6</td>\n",
       "    </tr>\n",
       "    <tr>\n",
       "      <th>4</th>\n",
       "      <td>a</td>\n",
       "      <td>5.000</td>\n",
       "      <td>5</td>\n",
       "    </tr>\n",
       "  </tbody>\n",
       "</table>\n",
       "</div>"
      ],
      "text/plain": [
       "  sym  random_analyst  randon_analyst2\n",
       "0   a           0.000                3\n",
       "1   a           0.000                4\n",
       "2   a           3.000                8\n",
       "3   a           3.000                6\n",
       "4   a           5.000                5"
      ]
     },
     "execution_count": 55,
     "metadata": {},
     "output_type": "execute_result"
    }
   ],
   "source": [
    "test_fill_na_dict = {\n",
    "    'sym': ['a', 'a', 'a', 'a', 'a'],\n",
    "    'random_analyst': [np.NaN, np.NaN, 3, np.NaN, 5],\n",
    "    'randon_analyst2': [3, 4, 8, 6, 5],\n",
    "}\n",
    "\n",
    "test_df2 = pd.DataFrame(test_fill_na_dict)\n",
    "display(test_df2.head())\n",
    "\n",
    "test_df2.fillna(method='ffill').fillna(0)"
   ]
  },
  {
   "cell_type": "markdown",
   "metadata": {},
   "source": [
    "<div class=\"alert alert-info shadow\">\n",
    "  The <strong>fillna(method=\"ffill\").fillna(0)</strong> does exactly that by first filling nulls with the front value, and then the second fillna fills the rest of the nulls with 0.  We will now use it on the entire dataframe.\n",
    "</div>"
   ]
  },
  {
   "cell_type": "markdown",
   "metadata": {},
   "source": [
    "## Filling null values"
   ]
  },
  {
   "cell_type": "code",
   "execution_count": 56,
   "metadata": {
    "ExecuteTime": {
     "end_time": "2020-12-02T11:46:45.414006Z",
     "start_time": "2020-12-02T11:46:44.148971Z"
    }
   },
   "outputs": [],
   "source": [
    "df_analyst = df_analyst.fillna(method='ffill').fillna(0)"
   ]
  },
  {
   "cell_type": "code",
   "execution_count": 57,
   "metadata": {
    "ExecuteTime": {
     "end_time": "2020-12-02T11:46:45.904078Z",
     "start_time": "2020-12-02T11:46:45.415006Z"
    }
   },
   "outputs": [
    {
     "data": {
      "text/plain": [
       "Argus                  0\n",
       "StarMine               0\n",
       "ColumbineCapital       0\n",
       "FordEquityResearch     0\n",
       "ISSEVA                 0\n",
       "Jefferson              0\n",
       "McLeanCapital          0\n",
       "NedDavis               0\n",
       "TradingCentral         0\n",
       "Zacks                  0\n",
       "SPValuation            0\n",
       "SPQuality              0\n",
       "SPGrowthStability      0\n",
       "SPFinancialHealth      0\n",
       "ThomsonReutersVerus    0\n",
       "ThomsonReutersIBES     0\n",
       "dtype: int64"
      ]
     },
     "execution_count": 57,
     "metadata": {},
     "output_type": "execute_result"
    }
   ],
   "source": [
    "# Checking that all null values are filled\n",
    "df_analyst.isna().sum()"
   ]
  },
  {
   "cell_type": "code",
   "execution_count": 58,
   "metadata": {
    "ExecuteTime": {
     "end_time": "2020-12-02T11:46:45.920067Z",
     "start_time": "2020-12-02T11:46:45.906072Z"
    }
   },
   "outputs": [
    {
     "data": {
      "text/plain": [
       "730822"
      ]
     },
     "execution_count": 58,
     "metadata": {},
     "output_type": "execute_result"
    }
   ],
   "source": [
    "len(df_analyst)"
   ]
  },
  {
   "cell_type": "markdown",
   "metadata": {},
   "source": [
    "<div class=\"alert alert-success shadow\">\n",
    "  <strong>Success!</strong> No more null values in analyst, and it has 624,265 rows.  Now we need to go about making the different columns numerical.  There are two different methods we could use for this:\n",
    "    <ul>\n",
    "        <li>Manually take the unique values for each column and <b>mapping</b> an arbitrary number to represent things like 'BUY', 'HOLD', 'SELL BIGLY'</li>\n",
    "        <li>Use <b>NLP</b> to vectorize each of the columns</li><ul> <br> We will be using the first method, as we already have the mapping ready from a previous analysis.\n",
    "\n",
    "</div>"
   ]
  },
  {
   "cell_type": "markdown",
   "metadata": {},
   "source": [
    "## Mapping"
   ]
  },
  {
   "cell_type": "code",
   "execution_count": 59,
   "metadata": {
    "ExecuteTime": {
     "end_time": "2020-12-02T11:46:46.618078Z",
     "start_time": "2020-12-02T11:46:45.921065Z"
    }
   },
   "outputs": [
    {
     "data": {
      "text/plain": [
       "Argus                  0\n",
       "StarMine               0\n",
       "ColumbineCapital       0\n",
       "FordEquityResearch     0\n",
       "ISSEVA                 0\n",
       "Jefferson              0\n",
       "McLeanCapital          0\n",
       "NedDavis               0\n",
       "TradingCentral         0\n",
       "Zacks                  0\n",
       "SPValuation            0\n",
       "SPQuality              0\n",
       "SPGrowthStability      0\n",
       "SPFinancialHealth      0\n",
       "ThomsonReutersVerus    0\n",
       "ThomsonReutersIBES     0\n",
       "dtype: int64"
      ]
     },
     "execution_count": 59,
     "metadata": {},
     "output_type": "execute_result"
    }
   ],
   "source": [
    "analyst_mapping = {\n",
    "    'Argus': {0:0, 'Buy':5, 'Hold':3, 'Sell':1},\n",
    "    'TradingCentral': {'Buy':5, '1':1, '3':3, '5':5, 0:0, 'Sell':1},\n",
    "    'Jefferson': {'Buy':5, '1':1, '3':3, '5':5, 'Hold':3, 'Sell':1},\n",
    "    'McLeanCapital': {'Buy':5, '1':1, '3':3, '5':5, 'Neutral':3, 'Sell':1},\n",
    "    'NedDavis': {'NEUTRAL':3, 'BUY':5, 'SELL':1},\n",
    "    'Zacks': {'STRONG BUY':6, 'BUY':5, 'OUTPERFORM':5,\n",
    "             'NEUTRAL':3, 'HOLD':3, 'SELL':2, 'UNDERPERFORM':2,\n",
    "             'STRONG SELL':1, 'NONE':0},\n",
    "    'ThomsonReutersVerus': {'HOLD':3, 'SELL':1, 'BUY':5}\n",
    "}\n",
    "for col, mapping in analyst_mapping.items():\n",
    "    df_analyst[col] = df_analyst[col].map(mapping)\n",
    "    \n",
    "df_analyst.isna().sum()"
   ]
  },
  {
   "cell_type": "markdown",
   "metadata": {},
   "source": [
    "## Convert strings to float"
   ]
  },
  {
   "cell_type": "code",
   "execution_count": 60,
   "metadata": {
    "ExecuteTime": {
     "end_time": "2020-12-02T11:46:49.236277Z",
     "start_time": "2020-12-02T11:46:46.619078Z"
    }
   },
   "outputs": [
    {
     "name": "stdout",
     "output_type": "stream",
     "text": [
      "Argus\n",
      "StarMine\n",
      "ColumbineCapital\n",
      "FordEquityResearch\n",
      "ISSEVA\n",
      "Jefferson\n",
      "McLeanCapital\n",
      "NedDavis\n",
      "TradingCentral\n",
      "Zacks\n",
      "SPValuation\n",
      "SPQuality\n",
      "SPGrowthStability\n",
      "SPFinancialHealth\n",
      "ThomsonReutersVerus\n",
      "ThomsonReutersIBES\n"
     ]
    }
   ],
   "source": [
    "for col in df_analyst.columns:\n",
    "    if col != 'sym':\n",
    "        print(col)\n",
    "        df_analyst[col] = pd.to_numeric(df_analyst[col])"
   ]
  },
  {
   "cell_type": "code",
   "execution_count": 61,
   "metadata": {
    "ExecuteTime": {
     "end_time": "2020-12-02T11:46:49.252264Z",
     "start_time": "2020-12-02T11:46:49.237277Z"
    }
   },
   "outputs": [
    {
     "data": {
      "text/plain": [
       "array([3, 1, 5], dtype=int64)"
      ]
     },
     "execution_count": 61,
     "metadata": {},
     "output_type": "execute_result"
    }
   ],
   "source": [
    "df_analyst['TradingCentral'].unique()"
   ]
  },
  {
   "cell_type": "code",
   "execution_count": 62,
   "metadata": {
    "ExecuteTime": {
     "end_time": "2020-12-02T11:46:49.540277Z",
     "start_time": "2020-12-02T11:46:49.254264Z"
    }
   },
   "outputs": [
    {
     "data": {
      "text/html": [
       "<div>\n",
       "<style scoped>\n",
       "    .dataframe tbody tr th:only-of-type {\n",
       "        vertical-align: middle;\n",
       "    }\n",
       "\n",
       "    .dataframe tbody tr th {\n",
       "        vertical-align: top;\n",
       "    }\n",
       "\n",
       "    .dataframe thead th {\n",
       "        text-align: right;\n",
       "    }\n",
       "</style>\n",
       "<table border=\"1\" class=\"dataframe\">\n",
       "  <thead>\n",
       "    <tr style=\"text-align: right;\">\n",
       "      <th></th>\n",
       "      <th>Argus</th>\n",
       "      <th>StarMine</th>\n",
       "      <th>ColumbineCapital</th>\n",
       "      <th>FordEquityResearch</th>\n",
       "      <th>ISSEVA</th>\n",
       "      <th>Jefferson</th>\n",
       "      <th>McLeanCapital</th>\n",
       "      <th>NedDavis</th>\n",
       "      <th>TradingCentral</th>\n",
       "      <th>Zacks</th>\n",
       "      <th>SPValuation</th>\n",
       "      <th>SPQuality</th>\n",
       "      <th>SPGrowthStability</th>\n",
       "      <th>SPFinancialHealth</th>\n",
       "      <th>ThomsonReutersVerus</th>\n",
       "      <th>ThomsonReutersIBES</th>\n",
       "    </tr>\n",
       "  </thead>\n",
       "  <tbody>\n",
       "    <tr>\n",
       "      <th>count</th>\n",
       "      <td>730822.000</td>\n",
       "      <td>730822.000</td>\n",
       "      <td>730822.000</td>\n",
       "      <td>730822.000</td>\n",
       "      <td>730822.000</td>\n",
       "      <td>730822.000</td>\n",
       "      <td>730822.000</td>\n",
       "      <td>730822.000</td>\n",
       "      <td>730822.000</td>\n",
       "      <td>730822.000</td>\n",
       "      <td>730822.000</td>\n",
       "      <td>730822.000</td>\n",
       "      <td>730822.000</td>\n",
       "      <td>730822.000</td>\n",
       "      <td>730822.000</td>\n",
       "      <td>730822.000</td>\n",
       "    </tr>\n",
       "    <tr>\n",
       "      <th>mean</th>\n",
       "      <td>4.287</td>\n",
       "      <td>4.839</td>\n",
       "      <td>1.905</td>\n",
       "      <td>2.827</td>\n",
       "      <td>51.064</td>\n",
       "      <td>3.430</td>\n",
       "      <td>2.871</td>\n",
       "      <td>3.092</td>\n",
       "      <td>2.917</td>\n",
       "      <td>3.167</td>\n",
       "      <td>53.423</td>\n",
       "      <td>54.687</td>\n",
       "      <td>48.323</td>\n",
       "      <td>52.800</td>\n",
       "      <td>2.997</td>\n",
       "      <td>2.285</td>\n",
       "    </tr>\n",
       "    <tr>\n",
       "      <th>std</th>\n",
       "      <td>0.995</td>\n",
       "      <td>2.933</td>\n",
       "      <td>0.783</td>\n",
       "      <td>0.830</td>\n",
       "      <td>29.118</td>\n",
       "      <td>1.494</td>\n",
       "      <td>0.620</td>\n",
       "      <td>0.883</td>\n",
       "      <td>1.270</td>\n",
       "      <td>0.914</td>\n",
       "      <td>27.643</td>\n",
       "      <td>27.642</td>\n",
       "      <td>28.303</td>\n",
       "      <td>26.490</td>\n",
       "      <td>1.134</td>\n",
       "      <td>0.550</td>\n",
       "    </tr>\n",
       "    <tr>\n",
       "      <th>min</th>\n",
       "      <td>0.000</td>\n",
       "      <td>-8.900</td>\n",
       "      <td>1.000</td>\n",
       "      <td>1.000</td>\n",
       "      <td>0.000</td>\n",
       "      <td>1.000</td>\n",
       "      <td>1.000</td>\n",
       "      <td>1.000</td>\n",
       "      <td>1.000</td>\n",
       "      <td>1.000</td>\n",
       "      <td>0.000</td>\n",
       "      <td>0.000</td>\n",
       "      <td>0.000</td>\n",
       "      <td>0.000</td>\n",
       "      <td>1.000</td>\n",
       "      <td>1.000</td>\n",
       "    </tr>\n",
       "    <tr>\n",
       "      <th>25%</th>\n",
       "      <td>3.000</td>\n",
       "      <td>2.200</td>\n",
       "      <td>1.000</td>\n",
       "      <td>2.000</td>\n",
       "      <td>26.000</td>\n",
       "      <td>3.000</td>\n",
       "      <td>3.000</td>\n",
       "      <td>3.000</td>\n",
       "      <td>3.000</td>\n",
       "      <td>3.000</td>\n",
       "      <td>31.000</td>\n",
       "      <td>32.000</td>\n",
       "      <td>24.000</td>\n",
       "      <td>31.000</td>\n",
       "      <td>3.000</td>\n",
       "      <td>2.000</td>\n",
       "    </tr>\n",
       "    <tr>\n",
       "      <th>50%</th>\n",
       "      <td>5.000</td>\n",
       "      <td>4.700</td>\n",
       "      <td>2.000</td>\n",
       "      <td>3.000</td>\n",
       "      <td>52.000</td>\n",
       "      <td>3.000</td>\n",
       "      <td>3.000</td>\n",
       "      <td>3.000</td>\n",
       "      <td>3.000</td>\n",
       "      <td>3.000</td>\n",
       "      <td>55.000</td>\n",
       "      <td>57.000</td>\n",
       "      <td>49.000</td>\n",
       "      <td>53.000</td>\n",
       "      <td>3.000</td>\n",
       "      <td>2.235</td>\n",
       "    </tr>\n",
       "    <tr>\n",
       "      <th>75%</th>\n",
       "      <td>5.000</td>\n",
       "      <td>7.400</td>\n",
       "      <td>3.000</td>\n",
       "      <td>3.000</td>\n",
       "      <td>76.000</td>\n",
       "      <td>5.000</td>\n",
       "      <td>3.000</td>\n",
       "      <td>3.000</td>\n",
       "      <td>3.000</td>\n",
       "      <td>3.000</td>\n",
       "      <td>77.000</td>\n",
       "      <td>78.000</td>\n",
       "      <td>72.000</td>\n",
       "      <td>75.000</td>\n",
       "      <td>3.000</td>\n",
       "      <td>2.667</td>\n",
       "    </tr>\n",
       "    <tr>\n",
       "      <th>max</th>\n",
       "      <td>5.000</td>\n",
       "      <td>10.000</td>\n",
       "      <td>3.000</td>\n",
       "      <td>5.000</td>\n",
       "      <td>100.000</td>\n",
       "      <td>5.000</td>\n",
       "      <td>5.000</td>\n",
       "      <td>5.000</td>\n",
       "      <td>5.000</td>\n",
       "      <td>6.000</td>\n",
       "      <td>99.000</td>\n",
       "      <td>99.000</td>\n",
       "      <td>99.000</td>\n",
       "      <td>99.000</td>\n",
       "      <td>5.000</td>\n",
       "      <td>5.000</td>\n",
       "    </tr>\n",
       "  </tbody>\n",
       "</table>\n",
       "</div>"
      ],
      "text/plain": [
       "           Argus   StarMine  ColumbineCapital  FordEquityResearch     ISSEVA  \\\n",
       "count 730822.000 730822.000        730822.000          730822.000 730822.000   \n",
       "mean       4.287      4.839             1.905               2.827     51.064   \n",
       "std        0.995      2.933             0.783               0.830     29.118   \n",
       "min        0.000     -8.900             1.000               1.000      0.000   \n",
       "25%        3.000      2.200             1.000               2.000     26.000   \n",
       "50%        5.000      4.700             2.000               3.000     52.000   \n",
       "75%        5.000      7.400             3.000               3.000     76.000   \n",
       "max        5.000     10.000             3.000               5.000    100.000   \n",
       "\n",
       "       Jefferson  McLeanCapital   NedDavis  TradingCentral      Zacks  \\\n",
       "count 730822.000     730822.000 730822.000      730822.000 730822.000   \n",
       "mean       3.430          2.871      3.092           2.917      3.167   \n",
       "std        1.494          0.620      0.883           1.270      0.914   \n",
       "min        1.000          1.000      1.000           1.000      1.000   \n",
       "25%        3.000          3.000      3.000           3.000      3.000   \n",
       "50%        3.000          3.000      3.000           3.000      3.000   \n",
       "75%        5.000          3.000      3.000           3.000      3.000   \n",
       "max        5.000          5.000      5.000           5.000      6.000   \n",
       "\n",
       "       SPValuation  SPQuality  SPGrowthStability  SPFinancialHealth  \\\n",
       "count   730822.000 730822.000         730822.000         730822.000   \n",
       "mean        53.423     54.687             48.323             52.800   \n",
       "std         27.643     27.642             28.303             26.490   \n",
       "min          0.000      0.000              0.000              0.000   \n",
       "25%         31.000     32.000             24.000             31.000   \n",
       "50%         55.000     57.000             49.000             53.000   \n",
       "75%         77.000     78.000             72.000             75.000   \n",
       "max         99.000     99.000             99.000             99.000   \n",
       "\n",
       "       ThomsonReutersVerus  ThomsonReutersIBES  \n",
       "count           730822.000          730822.000  \n",
       "mean                 2.997               2.285  \n",
       "std                  1.134               0.550  \n",
       "min                  1.000               1.000  \n",
       "25%                  3.000               2.000  \n",
       "50%                  3.000               2.235  \n",
       "75%                  3.000               2.667  \n",
       "max                  5.000               5.000  "
      ]
     },
     "execution_count": 62,
     "metadata": {},
     "output_type": "execute_result"
    }
   ],
   "source": [
    "df_analyst.describe()"
   ]
  },
  {
   "cell_type": "code",
   "execution_count": 63,
   "metadata": {
    "ExecuteTime": {
     "end_time": "2020-12-02T11:46:49.572263Z",
     "start_time": "2020-12-02T11:46:49.542263Z"
    }
   },
   "outputs": [
    {
     "name": "stdout",
     "output_type": "stream",
     "text": [
      "<class 'pandas.core.frame.DataFrame'>\n",
      "MultiIndex: 730822 entries, (Timestamp('2019-08-09 00:00:00'), 'A') to (Timestamp('2020-12-01 00:00:00'), 'ZYXI')\n",
      "Data columns (total 16 columns):\n",
      " #   Column               Non-Null Count   Dtype  \n",
      "---  ------               --------------   -----  \n",
      " 0   Argus                730822 non-null  int64  \n",
      " 1   StarMine             730822 non-null  float64\n",
      " 2   ColumbineCapital     730822 non-null  int64  \n",
      " 3   FordEquityResearch   730822 non-null  int64  \n",
      " 4   ISSEVA               730822 non-null  int64  \n",
      " 5   Jefferson            730822 non-null  int64  \n",
      " 6   McLeanCapital        730822 non-null  int64  \n",
      " 7   NedDavis             730822 non-null  int64  \n",
      " 8   TradingCentral       730822 non-null  int64  \n",
      " 9   Zacks                730822 non-null  int64  \n",
      " 10  SPValuation          730822 non-null  int64  \n",
      " 11  SPQuality            730822 non-null  int64  \n",
      " 12  SPGrowthStability    730822 non-null  int64  \n",
      " 13  SPFinancialHealth    730822 non-null  int64  \n",
      " 14  ThomsonReutersVerus  730822 non-null  int64  \n",
      " 15  ThomsonReutersIBES   730822 non-null  float64\n",
      "dtypes: float64(2), int64(14)\n",
      "memory usage: 92.1+ MB\n"
     ]
    }
   ],
   "source": [
    "df_analyst.info()"
   ]
  },
  {
   "cell_type": "markdown",
   "metadata": {},
   "source": [
    "## Add to sql server"
   ]
  },
  {
   "cell_type": "code",
   "execution_count": 64,
   "metadata": {
    "ExecuteTime": {
     "end_time": "2020-12-02T11:46:55.335596Z",
     "start_time": "2020-12-02T11:46:49.573266Z"
    }
   },
   "outputs": [
    {
     "data": {
      "text/html": [
       "<div>\n",
       "<style scoped>\n",
       "    .dataframe tbody tr th:only-of-type {\n",
       "        vertical-align: middle;\n",
       "    }\n",
       "\n",
       "    .dataframe tbody tr th {\n",
       "        vertical-align: top;\n",
       "    }\n",
       "\n",
       "    .dataframe thead th {\n",
       "        text-align: right;\n",
       "    }\n",
       "</style>\n",
       "<table border=\"1\" class=\"dataframe\">\n",
       "  <thead>\n",
       "    <tr style=\"text-align: right;\">\n",
       "      <th></th>\n",
       "      <th>sym</th>\n",
       "      <th>date</th>\n",
       "      <th>Argus</th>\n",
       "      <th>StarMine</th>\n",
       "      <th>ColumbineCapital</th>\n",
       "      <th>FordEquityResearch</th>\n",
       "      <th>ISSEVA</th>\n",
       "      <th>Jefferson</th>\n",
       "      <th>McLeanCapital</th>\n",
       "      <th>NedDavis</th>\n",
       "      <th>TradingCentral</th>\n",
       "      <th>Zacks</th>\n",
       "      <th>SPValuation</th>\n",
       "      <th>SPQuality</th>\n",
       "      <th>SPGrowthStability</th>\n",
       "      <th>SPFinancialHealth</th>\n",
       "      <th>ThomsonReutersVerus</th>\n",
       "      <th>ThomsonReutersIBES</th>\n",
       "    </tr>\n",
       "  </thead>\n",
       "  <tbody>\n",
       "    <tr>\n",
       "      <th>0</th>\n",
       "      <td>A</td>\n",
       "      <td>2019-08-09</td>\n",
       "      <td>0</td>\n",
       "      <td>5.800</td>\n",
       "      <td>1</td>\n",
       "      <td>3</td>\n",
       "      <td>78</td>\n",
       "      <td>1</td>\n",
       "      <td>3</td>\n",
       "      <td>3</td>\n",
       "      <td>3</td>\n",
       "      <td>3</td>\n",
       "      <td>93</td>\n",
       "      <td>73</td>\n",
       "      <td>6</td>\n",
       "      <td>84</td>\n",
       "      <td>3</td>\n",
       "      <td>2.000</td>\n",
       "    </tr>\n",
       "    <tr>\n",
       "      <th>1</th>\n",
       "      <td>A</td>\n",
       "      <td>2019-08-12</td>\n",
       "      <td>0</td>\n",
       "      <td>8.300</td>\n",
       "      <td>1</td>\n",
       "      <td>3</td>\n",
       "      <td>78</td>\n",
       "      <td>1</td>\n",
       "      <td>3</td>\n",
       "      <td>3</td>\n",
       "      <td>3</td>\n",
       "      <td>5</td>\n",
       "      <td>93</td>\n",
       "      <td>73</td>\n",
       "      <td>6</td>\n",
       "      <td>84</td>\n",
       "      <td>3</td>\n",
       "      <td>2.000</td>\n",
       "    </tr>\n",
       "    <tr>\n",
       "      <th>2</th>\n",
       "      <td>A</td>\n",
       "      <td>2019-08-13</td>\n",
       "      <td>0</td>\n",
       "      <td>8.300</td>\n",
       "      <td>1</td>\n",
       "      <td>3</td>\n",
       "      <td>73</td>\n",
       "      <td>1</td>\n",
       "      <td>3</td>\n",
       "      <td>3</td>\n",
       "      <td>3</td>\n",
       "      <td>3</td>\n",
       "      <td>93</td>\n",
       "      <td>73</td>\n",
       "      <td>7</td>\n",
       "      <td>85</td>\n",
       "      <td>3</td>\n",
       "      <td>2.000</td>\n",
       "    </tr>\n",
       "    <tr>\n",
       "      <th>3</th>\n",
       "      <td>A</td>\n",
       "      <td>2019-08-14</td>\n",
       "      <td>0</td>\n",
       "      <td>4.200</td>\n",
       "      <td>1</td>\n",
       "      <td>3</td>\n",
       "      <td>73</td>\n",
       "      <td>1</td>\n",
       "      <td>3</td>\n",
       "      <td>3</td>\n",
       "      <td>3</td>\n",
       "      <td>3</td>\n",
       "      <td>93</td>\n",
       "      <td>73</td>\n",
       "      <td>7</td>\n",
       "      <td>85</td>\n",
       "      <td>3</td>\n",
       "      <td>2.000</td>\n",
       "    </tr>\n",
       "    <tr>\n",
       "      <th>4</th>\n",
       "      <td>A</td>\n",
       "      <td>2019-08-15</td>\n",
       "      <td>0</td>\n",
       "      <td>4.200</td>\n",
       "      <td>1</td>\n",
       "      <td>3</td>\n",
       "      <td>73</td>\n",
       "      <td>1</td>\n",
       "      <td>3</td>\n",
       "      <td>3</td>\n",
       "      <td>3</td>\n",
       "      <td>3</td>\n",
       "      <td>93</td>\n",
       "      <td>74</td>\n",
       "      <td>7</td>\n",
       "      <td>85</td>\n",
       "      <td>3</td>\n",
       "      <td>2.000</td>\n",
       "    </tr>\n",
       "    <tr>\n",
       "      <th>...</th>\n",
       "      <td>...</td>\n",
       "      <td>...</td>\n",
       "      <td>...</td>\n",
       "      <td>...</td>\n",
       "      <td>...</td>\n",
       "      <td>...</td>\n",
       "      <td>...</td>\n",
       "      <td>...</td>\n",
       "      <td>...</td>\n",
       "      <td>...</td>\n",
       "      <td>...</td>\n",
       "      <td>...</td>\n",
       "      <td>...</td>\n",
       "      <td>...</td>\n",
       "      <td>...</td>\n",
       "      <td>...</td>\n",
       "      <td>...</td>\n",
       "      <td>...</td>\n",
       "    </tr>\n",
       "    <tr>\n",
       "      <th>727147</th>\n",
       "      <td>ZYXI</td>\n",
       "      <td>2020-11-23</td>\n",
       "      <td>5</td>\n",
       "      <td>0.600</td>\n",
       "      <td>2</td>\n",
       "      <td>3</td>\n",
       "      <td>44</td>\n",
       "      <td>5</td>\n",
       "      <td>3</td>\n",
       "      <td>3</td>\n",
       "      <td>1</td>\n",
       "      <td>2</td>\n",
       "      <td>61</td>\n",
       "      <td>68</td>\n",
       "      <td>15</td>\n",
       "      <td>70</td>\n",
       "      <td>3</td>\n",
       "      <td>1.800</td>\n",
       "    </tr>\n",
       "    <tr>\n",
       "      <th>727148</th>\n",
       "      <td>ZYXI</td>\n",
       "      <td>2020-11-24</td>\n",
       "      <td>5</td>\n",
       "      <td>0.600</td>\n",
       "      <td>2</td>\n",
       "      <td>3</td>\n",
       "      <td>44</td>\n",
       "      <td>5</td>\n",
       "      <td>3</td>\n",
       "      <td>3</td>\n",
       "      <td>1</td>\n",
       "      <td>2</td>\n",
       "      <td>61</td>\n",
       "      <td>68</td>\n",
       "      <td>15</td>\n",
       "      <td>70</td>\n",
       "      <td>3</td>\n",
       "      <td>1.800</td>\n",
       "    </tr>\n",
       "    <tr>\n",
       "      <th>727149</th>\n",
       "      <td>ZYXI</td>\n",
       "      <td>2020-11-25</td>\n",
       "      <td>5</td>\n",
       "      <td>0.600</td>\n",
       "      <td>2</td>\n",
       "      <td>3</td>\n",
       "      <td>43</td>\n",
       "      <td>5</td>\n",
       "      <td>3</td>\n",
       "      <td>3</td>\n",
       "      <td>1</td>\n",
       "      <td>2</td>\n",
       "      <td>62</td>\n",
       "      <td>68</td>\n",
       "      <td>15</td>\n",
       "      <td>70</td>\n",
       "      <td>3</td>\n",
       "      <td>1.800</td>\n",
       "    </tr>\n",
       "    <tr>\n",
       "      <th>727150</th>\n",
       "      <td>ZYXI</td>\n",
       "      <td>2020-11-26</td>\n",
       "      <td>5</td>\n",
       "      <td>0.600</td>\n",
       "      <td>2</td>\n",
       "      <td>3</td>\n",
       "      <td>42</td>\n",
       "      <td>5</td>\n",
       "      <td>3</td>\n",
       "      <td>3</td>\n",
       "      <td>1</td>\n",
       "      <td>2</td>\n",
       "      <td>61</td>\n",
       "      <td>69</td>\n",
       "      <td>15</td>\n",
       "      <td>70</td>\n",
       "      <td>3</td>\n",
       "      <td>1.800</td>\n",
       "    </tr>\n",
       "    <tr>\n",
       "      <th>727151</th>\n",
       "      <td>ZYXI</td>\n",
       "      <td>2020-11-27</td>\n",
       "      <td>5</td>\n",
       "      <td>0.600</td>\n",
       "      <td>2</td>\n",
       "      <td>3</td>\n",
       "      <td>42</td>\n",
       "      <td>5</td>\n",
       "      <td>3</td>\n",
       "      <td>3</td>\n",
       "      <td>1</td>\n",
       "      <td>2</td>\n",
       "      <td>61</td>\n",
       "      <td>69</td>\n",
       "      <td>15</td>\n",
       "      <td>70</td>\n",
       "      <td>3</td>\n",
       "      <td>1.800</td>\n",
       "    </tr>\n",
       "  </tbody>\n",
       "</table>\n",
       "<p>727152 rows × 18 columns</p>\n",
       "</div>"
      ],
      "text/plain": [
       "         sym        date  Argus  StarMine  ColumbineCapital  \\\n",
       "0          A  2019-08-09      0     5.800                 1   \n",
       "1          A  2019-08-12      0     8.300                 1   \n",
       "2          A  2019-08-13      0     8.300                 1   \n",
       "3          A  2019-08-14      0     4.200                 1   \n",
       "4          A  2019-08-15      0     4.200                 1   \n",
       "...      ...         ...    ...       ...               ...   \n",
       "727147  ZYXI  2020-11-23      5     0.600                 2   \n",
       "727148  ZYXI  2020-11-24      5     0.600                 2   \n",
       "727149  ZYXI  2020-11-25      5     0.600                 2   \n",
       "727150  ZYXI  2020-11-26      5     0.600                 2   \n",
       "727151  ZYXI  2020-11-27      5     0.600                 2   \n",
       "\n",
       "        FordEquityResearch  ISSEVA  Jefferson  McLeanCapital  NedDavis  \\\n",
       "0                        3      78          1              3         3   \n",
       "1                        3      78          1              3         3   \n",
       "2                        3      73          1              3         3   \n",
       "3                        3      73          1              3         3   \n",
       "4                        3      73          1              3         3   \n",
       "...                    ...     ...        ...            ...       ...   \n",
       "727147                   3      44          5              3         3   \n",
       "727148                   3      44          5              3         3   \n",
       "727149                   3      43          5              3         3   \n",
       "727150                   3      42          5              3         3   \n",
       "727151                   3      42          5              3         3   \n",
       "\n",
       "        TradingCentral  Zacks  SPValuation  SPQuality  SPGrowthStability  \\\n",
       "0                    3      3           93         73                  6   \n",
       "1                    3      5           93         73                  6   \n",
       "2                    3      3           93         73                  7   \n",
       "3                    3      3           93         73                  7   \n",
       "4                    3      3           93         74                  7   \n",
       "...                ...    ...          ...        ...                ...   \n",
       "727147               1      2           61         68                 15   \n",
       "727148               1      2           61         68                 15   \n",
       "727149               1      2           62         68                 15   \n",
       "727150               1      2           61         69                 15   \n",
       "727151               1      2           61         69                 15   \n",
       "\n",
       "        SPFinancialHealth  ThomsonReutersVerus  ThomsonReutersIBES  \n",
       "0                      84                    3               2.000  \n",
       "1                      84                    3               2.000  \n",
       "2                      85                    3               2.000  \n",
       "3                      85                    3               2.000  \n",
       "4                      85                    3               2.000  \n",
       "...                   ...                  ...                 ...  \n",
       "727147                 70                    3               1.800  \n",
       "727148                 70                    3               1.800  \n",
       "727149                 70                    3               1.800  \n",
       "727150                 70                    3               1.800  \n",
       "727151                 70                    3               1.800  \n",
       "\n",
       "[727152 rows x 18 columns]"
      ]
     },
     "execution_count": 64,
     "metadata": {},
     "output_type": "execute_result"
    }
   ],
   "source": [
    "db_clean = DataBase('stock_cleaned', 14333, 'localhost')\n",
    "db_clean.pull_names_as_dataframes(['analyst'])\n",
    "db_clean.frames['analyst']"
   ]
  },
  {
   "cell_type": "code",
   "execution_count": 65,
   "metadata": {
    "ExecuteTime": {
     "end_time": "2020-12-02T11:48:03.570689Z",
     "start_time": "2020-12-02T11:46:55.336569Z"
    }
   },
   "outputs": [],
   "source": [
    "query_list = []\n",
    "for idx, row in df_analyst.reset_index().iterrows():\n",
    "    query_list.append(tuple(row.to_dict().values()))\n",
    "\n",
    "db_clean = DataBase('stock_cleaned', 14333, 'localhost')\n",
    "db_clean.cur.executemany(\"\"\"\n",
    "REPLACE INTO analyst (date, sym, Argus, StarMine, ColumbineCapital,\n",
    "                         FordEquityResearch, ISSEVA, Jefferson, McLeanCapital,\n",
    "                         NedDavis, TradingCentral, Zacks, SPValuation,\n",
    "                         SPQuality, SPGrowthStability, SPFinancialHealth,\n",
    "                         ThomsonReutersVerus, ThomsonReutersIBES)\n",
    "VALUES (%s, %s, %s, %s, %s, %s, %s, %s, %s, %s, %s, %s, %s, %s, %s, %s, %s, %s)\"\"\",\n",
    "      query_list)\n",
    "db_clean.conn.commit()\n",
    "db_clean.conn.close()"
   ]
  },
  {
   "cell_type": "markdown",
   "metadata": {
    "ExecuteTime": {
     "end_time": "2020-11-28T09:41:08.077324Z",
     "start_time": "2020-11-28T09:41:08.066190Z"
    }
   },
   "source": [
    "## Pickle"
   ]
  },
  {
   "cell_type": "code",
   "execution_count": 66,
   "metadata": {
    "ExecuteTime": {
     "end_time": "2020-12-02T11:48:03.708676Z",
     "start_time": "2020-12-02T11:48:03.571689Z"
    }
   },
   "outputs": [],
   "source": [
    "df_analyst.to_pickle('./data/analyst.pkl')"
   ]
  },
  {
   "cell_type": "markdown",
   "metadata": {},
   "source": [
    "# Combine company, analyst and performance"
   ]
  },
  {
   "cell_type": "code",
   "execution_count": 67,
   "metadata": {
    "ExecuteTime": {
     "end_time": "2020-12-02T11:48:03.723678Z",
     "start_time": "2020-12-02T11:48:03.709678Z"
    }
   },
   "outputs": [],
   "source": [
    "df_company.drop('subIndustry', axis=1, inplace=True)"
   ]
  },
  {
   "cell_type": "code",
   "execution_count": 68,
   "metadata": {
    "ExecuteTime": {
     "end_time": "2020-12-02T11:48:03.738677Z",
     "start_time": "2020-12-02T11:48:03.727679Z"
    }
   },
   "outputs": [],
   "source": [
    "def combine_df(df, company, analyst):\n",
    "    ohe_columns = list(company.columns)\n",
    "    ohe_columns.remove('company')\n",
    "    df = df.reset_index().set_index(['date', 'sym'], drop=True)\n",
    "    analyst = analyst.reset_index().set_index(['date', 'sym'], drop=True)\n",
    "    df_new = MLFrame(df.join(df_company).join(analyst))\n",
    "    df_new.drop('company', inplace=True, axis=1)\n",
    "    df_new = df_new.one_hot_encode(columns=ohe_columns)\n",
    "    return df_new    "
   ]
  },
  {
   "cell_type": "markdown",
   "metadata": {},
   "source": [
    "## Performance"
   ]
  },
  {
   "cell_type": "code",
   "execution_count": 69,
   "metadata": {
    "ExecuteTime": {
     "end_time": "2020-12-02T11:48:08.839783Z",
     "start_time": "2020-12-02T11:48:03.740683Z"
    }
   },
   "outputs": [
    {
     "name": "stdout",
     "output_type": "stream",
     "text": [
      "Added categorical columns\n",
      "3 -> Dividend\n",
      "4 -> Exchange\n",
      "5 -> securityType\n",
      "10 -> sector\n",
      "68 -> industry\n"
     ]
    },
    {
     "data": {
      "text/html": [
       "<div>\n",
       "<style scoped>\n",
       "    .dataframe tbody tr th:only-of-type {\n",
       "        vertical-align: middle;\n",
       "    }\n",
       "\n",
       "    .dataframe tbody tr th {\n",
       "        vertical-align: top;\n",
       "    }\n",
       "\n",
       "    .dataframe thead th {\n",
       "        text-align: right;\n",
       "    }\n",
       "</style>\n",
       "<table border=\"1\" class=\"dataframe\">\n",
       "  <thead>\n",
       "    <tr style=\"text-align: right;\">\n",
       "      <th></th>\n",
       "      <th></th>\n",
       "      <th>index</th>\n",
       "      <th>RevenueTTM</th>\n",
       "      <th>TotalCash</th>\n",
       "      <th>ExDividendDate</th>\n",
       "      <th>Dividend</th>\n",
       "      <th>DividendYield</th>\n",
       "      <th>PriceToBook</th>\n",
       "      <th>PriceToSales</th>\n",
       "      <th>EnterpriseValue</th>\n",
       "      <th>PriceToCashFlow</th>\n",
       "      <th>...</th>\n",
       "      <th>industry_Transportation Infrastructure</th>\n",
       "      <th>industry_Water Utilities</th>\n",
       "      <th>industry_Wireless Telecommunication Services</th>\n",
       "      <th>Exchange_NASDAQ</th>\n",
       "      <th>Exchange_NYSE</th>\n",
       "      <th>Exchange_OTC</th>\n",
       "      <th>Exchange_unknown</th>\n",
       "      <th>DJIA_1</th>\n",
       "      <th>NASDAQ100_1</th>\n",
       "      <th>SP500_1</th>\n",
       "    </tr>\n",
       "    <tr>\n",
       "      <th>date</th>\n",
       "      <th>sym</th>\n",
       "      <th></th>\n",
       "      <th></th>\n",
       "      <th></th>\n",
       "      <th></th>\n",
       "      <th></th>\n",
       "      <th></th>\n",
       "      <th></th>\n",
       "      <th></th>\n",
       "      <th></th>\n",
       "      <th></th>\n",
       "      <th></th>\n",
       "      <th></th>\n",
       "      <th></th>\n",
       "      <th></th>\n",
       "      <th></th>\n",
       "      <th></th>\n",
       "      <th></th>\n",
       "      <th></th>\n",
       "      <th></th>\n",
       "      <th></th>\n",
       "      <th></th>\n",
       "    </tr>\n",
       "  </thead>\n",
       "  <tbody>\n",
       "    <tr>\n",
       "      <th>2019-08-09</th>\n",
       "      <th>A</th>\n",
       "      <td>0</td>\n",
       "      <td>5019.000</td>\n",
       "      <td>2155.000</td>\n",
       "      <td>0</td>\n",
       "      <td>0.164</td>\n",
       "      <td>0.944</td>\n",
       "      <td>4.298</td>\n",
       "      <td>4.402</td>\n",
       "      <td>21670704590.000</td>\n",
       "      <td>16.574</td>\n",
       "      <td>...</td>\n",
       "      <td>0</td>\n",
       "      <td>0</td>\n",
       "      <td>0</td>\n",
       "      <td>0</td>\n",
       "      <td>1</td>\n",
       "      <td>0</td>\n",
       "      <td>0</td>\n",
       "      <td>0</td>\n",
       "      <td>0</td>\n",
       "      <td>1</td>\n",
       "    </tr>\n",
       "    <tr>\n",
       "      <th>2019-08-12</th>\n",
       "      <th>A</th>\n",
       "      <td>1</td>\n",
       "      <td>5019.000</td>\n",
       "      <td>2155.000</td>\n",
       "      <td>0</td>\n",
       "      <td>0.164</td>\n",
       "      <td>0.956</td>\n",
       "      <td>4.246</td>\n",
       "      <td>4.348</td>\n",
       "      <td>21401262240.000</td>\n",
       "      <td>16.371</td>\n",
       "      <td>...</td>\n",
       "      <td>0</td>\n",
       "      <td>0</td>\n",
       "      <td>0</td>\n",
       "      <td>0</td>\n",
       "      <td>1</td>\n",
       "      <td>0</td>\n",
       "      <td>0</td>\n",
       "      <td>0</td>\n",
       "      <td>0</td>\n",
       "      <td>1</td>\n",
       "    </tr>\n",
       "    <tr>\n",
       "      <th>2019-08-13</th>\n",
       "      <th>A</th>\n",
       "      <td>2</td>\n",
       "      <td>5019.000</td>\n",
       "      <td>2155.000</td>\n",
       "      <td>0</td>\n",
       "      <td>0.164</td>\n",
       "      <td>0.985</td>\n",
       "      <td>4.121</td>\n",
       "      <td>4.221</td>\n",
       "      <td>20764110330.000</td>\n",
       "      <td>15.892</td>\n",
       "      <td>...</td>\n",
       "      <td>0</td>\n",
       "      <td>0</td>\n",
       "      <td>0</td>\n",
       "      <td>0</td>\n",
       "      <td>1</td>\n",
       "      <td>0</td>\n",
       "      <td>0</td>\n",
       "      <td>0</td>\n",
       "      <td>0</td>\n",
       "      <td>1</td>\n",
       "    </tr>\n",
       "    <tr>\n",
       "      <th>2019-08-14</th>\n",
       "      <th>A</th>\n",
       "      <td>3</td>\n",
       "      <td>5019.000</td>\n",
       "      <td>2155.000</td>\n",
       "      <td>0</td>\n",
       "      <td>0.164</td>\n",
       "      <td>0.970</td>\n",
       "      <td>4.184</td>\n",
       "      <td>4.285</td>\n",
       "      <td>21084271240.000</td>\n",
       "      <td>16.132</td>\n",
       "      <td>...</td>\n",
       "      <td>0</td>\n",
       "      <td>0</td>\n",
       "      <td>0</td>\n",
       "      <td>0</td>\n",
       "      <td>1</td>\n",
       "      <td>0</td>\n",
       "      <td>0</td>\n",
       "      <td>0</td>\n",
       "      <td>0</td>\n",
       "      <td>1</td>\n",
       "    </tr>\n",
       "    <tr>\n",
       "      <th>2019-08-15</th>\n",
       "      <th>A</th>\n",
       "      <td>4</td>\n",
       "      <td>5090.000</td>\n",
       "      <td>1765.000</td>\n",
       "      <td>0</td>\n",
       "      <td>0.164</td>\n",
       "      <td>1.000</td>\n",
       "      <td>4.283</td>\n",
       "      <td>4.068</td>\n",
       "      <td>20365900000.000</td>\n",
       "      <td>16.051</td>\n",
       "      <td>...</td>\n",
       "      <td>0</td>\n",
       "      <td>0</td>\n",
       "      <td>0</td>\n",
       "      <td>0</td>\n",
       "      <td>1</td>\n",
       "      <td>0</td>\n",
       "      <td>0</td>\n",
       "      <td>0</td>\n",
       "      <td>0</td>\n",
       "      <td>1</td>\n",
       "    </tr>\n",
       "  </tbody>\n",
       "</table>\n",
       "<p>5 rows × 126 columns</p>\n",
       "</div>"
      ],
      "text/plain": [
       "                index  RevenueTTM  TotalCash  ExDividendDate  Dividend  \\\n",
       "date       sym                                                           \n",
       "2019-08-09 A        0    5019.000   2155.000               0     0.164   \n",
       "2019-08-12 A        1    5019.000   2155.000               0     0.164   \n",
       "2019-08-13 A        2    5019.000   2155.000               0     0.164   \n",
       "2019-08-14 A        3    5019.000   2155.000               0     0.164   \n",
       "2019-08-15 A        4    5090.000   1765.000               0     0.164   \n",
       "\n",
       "                DividendYield  PriceToBook  PriceToSales  EnterpriseValue  \\\n",
       "date       sym                                                              \n",
       "2019-08-09 A            0.944        4.298         4.402  21670704590.000   \n",
       "2019-08-12 A            0.956        4.246         4.348  21401262240.000   \n",
       "2019-08-13 A            0.985        4.121         4.221  20764110330.000   \n",
       "2019-08-14 A            0.970        4.184         4.285  21084271240.000   \n",
       "2019-08-15 A            1.000        4.283         4.068  20365900000.000   \n",
       "\n",
       "                PriceToCashFlow  ...  industry_Transportation Infrastructure  \\\n",
       "date       sym                   ...                                           \n",
       "2019-08-09 A             16.574  ...                                       0   \n",
       "2019-08-12 A             16.371  ...                                       0   \n",
       "2019-08-13 A             15.892  ...                                       0   \n",
       "2019-08-14 A             16.132  ...                                       0   \n",
       "2019-08-15 A             16.051  ...                                       0   \n",
       "\n",
       "                industry_Water Utilities  \\\n",
       "date       sym                             \n",
       "2019-08-09 A                           0   \n",
       "2019-08-12 A                           0   \n",
       "2019-08-13 A                           0   \n",
       "2019-08-14 A                           0   \n",
       "2019-08-15 A                           0   \n",
       "\n",
       "                industry_Wireless Telecommunication Services  Exchange_NASDAQ  \\\n",
       "date       sym                                                                  \n",
       "2019-08-09 A                                               0                0   \n",
       "2019-08-12 A                                               0                0   \n",
       "2019-08-13 A                                               0                0   \n",
       "2019-08-14 A                                               0                0   \n",
       "2019-08-15 A                                               0                0   \n",
       "\n",
       "                Exchange_NYSE  Exchange_OTC  Exchange_unknown  DJIA_1  \\\n",
       "date       sym                                                          \n",
       "2019-08-09 A                1             0                 0       0   \n",
       "2019-08-12 A                1             0                 0       0   \n",
       "2019-08-13 A                1             0                 0       0   \n",
       "2019-08-14 A                1             0                 0       0   \n",
       "2019-08-15 A                1             0                 0       0   \n",
       "\n",
       "                NASDAQ100_1  SP500_1  \n",
       "date       sym                        \n",
       "2019-08-09 A              0        1  \n",
       "2019-08-12 A              0        1  \n",
       "2019-08-13 A              0        1  \n",
       "2019-08-14 A              0        1  \n",
       "2019-08-15 A              0        1  \n",
       "\n",
       "[5 rows x 126 columns]"
      ]
     },
     "execution_count": 69,
     "metadata": {},
     "output_type": "execute_result"
    }
   ],
   "source": [
    "df_performance_combined = combine_df(df_performance, df_company, df_analyst)\n",
    "df_performance_combined.head()"
   ]
  },
  {
   "cell_type": "markdown",
   "metadata": {},
   "source": [
    "## Penny"
   ]
  },
  {
   "cell_type": "code",
   "execution_count": 70,
   "metadata": {
    "ExecuteTime": {
     "end_time": "2020-12-02T11:48:09.251783Z",
     "start_time": "2020-12-02T11:48:08.841784Z"
    }
   },
   "outputs": [
    {
     "name": "stdout",
     "output_type": "stream",
     "text": [
      "Added categorical columns\n",
      "3 -> Dividend\n",
      "3 -> securityType\n",
      "3 -> Exchange\n",
      "10 -> sector\n",
      "46 -> industry\n"
     ]
    },
    {
     "data": {
      "text/html": [
       "<div>\n",
       "<style scoped>\n",
       "    .dataframe tbody tr th:only-of-type {\n",
       "        vertical-align: middle;\n",
       "    }\n",
       "\n",
       "    .dataframe tbody tr th {\n",
       "        vertical-align: top;\n",
       "    }\n",
       "\n",
       "    .dataframe thead th {\n",
       "        text-align: right;\n",
       "    }\n",
       "</style>\n",
       "<table border=\"1\" class=\"dataframe\">\n",
       "  <thead>\n",
       "    <tr style=\"text-align: right;\">\n",
       "      <th></th>\n",
       "      <th></th>\n",
       "      <th>index</th>\n",
       "      <th>RevenueTTM</th>\n",
       "      <th>TotalCash</th>\n",
       "      <th>ExDividendDate</th>\n",
       "      <th>Dividend</th>\n",
       "      <th>DividendYield</th>\n",
       "      <th>PriceToBook</th>\n",
       "      <th>PriceToSales</th>\n",
       "      <th>EnterpriseValue</th>\n",
       "      <th>PriceToCashFlow</th>\n",
       "      <th>...</th>\n",
       "      <th>industry_Real Estate Management &amp; Development</th>\n",
       "      <th>industry_Road &amp; Rail</th>\n",
       "      <th>industry_Software</th>\n",
       "      <th>industry_Specialty Retail</th>\n",
       "      <th>industry_Technology Hardware, Storage &amp; Peripherals</th>\n",
       "      <th>industry_Textiles, Apparel &amp; Luxury Goods</th>\n",
       "      <th>industry_Trading Companies &amp; Distributors</th>\n",
       "      <th>Exchange_NASDAQ</th>\n",
       "      <th>Exchange_NYSE</th>\n",
       "      <th>Exchange_OTC</th>\n",
       "    </tr>\n",
       "    <tr>\n",
       "      <th>date</th>\n",
       "      <th>sym</th>\n",
       "      <th></th>\n",
       "      <th></th>\n",
       "      <th></th>\n",
       "      <th></th>\n",
       "      <th></th>\n",
       "      <th></th>\n",
       "      <th></th>\n",
       "      <th></th>\n",
       "      <th></th>\n",
       "      <th></th>\n",
       "      <th></th>\n",
       "      <th></th>\n",
       "      <th></th>\n",
       "      <th></th>\n",
       "      <th></th>\n",
       "      <th></th>\n",
       "      <th></th>\n",
       "      <th></th>\n",
       "      <th></th>\n",
       "      <th></th>\n",
       "      <th></th>\n",
       "    </tr>\n",
       "  </thead>\n",
       "  <tbody>\n",
       "    <tr>\n",
       "      <th>2019-08-09</th>\n",
       "      <th>AAC</th>\n",
       "      <td>339</td>\n",
       "      <td>275.946</td>\n",
       "      <td>17.869</td>\n",
       "      <td>0</td>\n",
       "      <td>0.000</td>\n",
       "      <td>0.000</td>\n",
       "      <td>0.502</td>\n",
       "      <td>0.078</td>\n",
       "      <td>405338418.000</td>\n",
       "      <td>0.000</td>\n",
       "      <td>...</td>\n",
       "      <td>0</td>\n",
       "      <td>0</td>\n",
       "      <td>0</td>\n",
       "      <td>0</td>\n",
       "      <td>0</td>\n",
       "      <td>0</td>\n",
       "      <td>0</td>\n",
       "      <td>0</td>\n",
       "      <td>0</td>\n",
       "      <td>0</td>\n",
       "    </tr>\n",
       "    <tr>\n",
       "      <th>2019-08-12</th>\n",
       "      <th>AAC</th>\n",
       "      <td>340</td>\n",
       "      <td>275.946</td>\n",
       "      <td>17.869</td>\n",
       "      <td>0</td>\n",
       "      <td>0.000</td>\n",
       "      <td>0.000</td>\n",
       "      <td>0.506</td>\n",
       "      <td>0.079</td>\n",
       "      <td>405516013.200</td>\n",
       "      <td>0.000</td>\n",
       "      <td>...</td>\n",
       "      <td>0</td>\n",
       "      <td>0</td>\n",
       "      <td>0</td>\n",
       "      <td>0</td>\n",
       "      <td>0</td>\n",
       "      <td>0</td>\n",
       "      <td>0</td>\n",
       "      <td>0</td>\n",
       "      <td>0</td>\n",
       "      <td>0</td>\n",
       "    </tr>\n",
       "    <tr>\n",
       "      <th>2019-08-13</th>\n",
       "      <th>AAC</th>\n",
       "      <td>341</td>\n",
       "      <td>275.946</td>\n",
       "      <td>17.869</td>\n",
       "      <td>0</td>\n",
       "      <td>0.000</td>\n",
       "      <td>0.000</td>\n",
       "      <td>0.471</td>\n",
       "      <td>0.073</td>\n",
       "      <td>403996587.600</td>\n",
       "      <td>0.000</td>\n",
       "      <td>...</td>\n",
       "      <td>0</td>\n",
       "      <td>0</td>\n",
       "      <td>0</td>\n",
       "      <td>0</td>\n",
       "      <td>0</td>\n",
       "      <td>0</td>\n",
       "      <td>0</td>\n",
       "      <td>0</td>\n",
       "      <td>0</td>\n",
       "      <td>0</td>\n",
       "    </tr>\n",
       "    <tr>\n",
       "      <th>2019-08-14</th>\n",
       "      <th>AAC</th>\n",
       "      <td>342</td>\n",
       "      <td>275.946</td>\n",
       "      <td>17.869</td>\n",
       "      <td>0</td>\n",
       "      <td>0.000</td>\n",
       "      <td>0.000</td>\n",
       "      <td>0.466</td>\n",
       "      <td>0.072</td>\n",
       "      <td>403786926.600</td>\n",
       "      <td>0.000</td>\n",
       "      <td>...</td>\n",
       "      <td>0</td>\n",
       "      <td>0</td>\n",
       "      <td>0</td>\n",
       "      <td>0</td>\n",
       "      <td>0</td>\n",
       "      <td>0</td>\n",
       "      <td>0</td>\n",
       "      <td>0</td>\n",
       "      <td>0</td>\n",
       "      <td>0</td>\n",
       "    </tr>\n",
       "    <tr>\n",
       "      <th>2019-08-15</th>\n",
       "      <th>AAC</th>\n",
       "      <td>343</td>\n",
       "      <td>275.946</td>\n",
       "      <td>17.869</td>\n",
       "      <td>0</td>\n",
       "      <td>0.000</td>\n",
       "      <td>0.000</td>\n",
       "      <td>0.385</td>\n",
       "      <td>0.060</td>\n",
       "      <td>400331220.000</td>\n",
       "      <td>0.000</td>\n",
       "      <td>...</td>\n",
       "      <td>0</td>\n",
       "      <td>0</td>\n",
       "      <td>0</td>\n",
       "      <td>0</td>\n",
       "      <td>0</td>\n",
       "      <td>0</td>\n",
       "      <td>0</td>\n",
       "      <td>0</td>\n",
       "      <td>0</td>\n",
       "      <td>0</td>\n",
       "    </tr>\n",
       "  </tbody>\n",
       "</table>\n",
       "<p>5 rows × 98 columns</p>\n",
       "</div>"
      ],
      "text/plain": [
       "                index  RevenueTTM  TotalCash  ExDividendDate  Dividend  \\\n",
       "date       sym                                                           \n",
       "2019-08-09 AAC    339     275.946     17.869               0     0.000   \n",
       "2019-08-12 AAC    340     275.946     17.869               0     0.000   \n",
       "2019-08-13 AAC    341     275.946     17.869               0     0.000   \n",
       "2019-08-14 AAC    342     275.946     17.869               0     0.000   \n",
       "2019-08-15 AAC    343     275.946     17.869               0     0.000   \n",
       "\n",
       "                DividendYield  PriceToBook  PriceToSales  EnterpriseValue  \\\n",
       "date       sym                                                              \n",
       "2019-08-09 AAC          0.000        0.502         0.078    405338418.000   \n",
       "2019-08-12 AAC          0.000        0.506         0.079    405516013.200   \n",
       "2019-08-13 AAC          0.000        0.471         0.073    403996587.600   \n",
       "2019-08-14 AAC          0.000        0.466         0.072    403786926.600   \n",
       "2019-08-15 AAC          0.000        0.385         0.060    400331220.000   \n",
       "\n",
       "                PriceToCashFlow  ...  \\\n",
       "date       sym                   ...   \n",
       "2019-08-09 AAC            0.000  ...   \n",
       "2019-08-12 AAC            0.000  ...   \n",
       "2019-08-13 AAC            0.000  ...   \n",
       "2019-08-14 AAC            0.000  ...   \n",
       "2019-08-15 AAC            0.000  ...   \n",
       "\n",
       "                industry_Real Estate Management & Development  \\\n",
       "date       sym                                                  \n",
       "2019-08-09 AAC                                              0   \n",
       "2019-08-12 AAC                                              0   \n",
       "2019-08-13 AAC                                              0   \n",
       "2019-08-14 AAC                                              0   \n",
       "2019-08-15 AAC                                              0   \n",
       "\n",
       "                industry_Road & Rail  industry_Software  \\\n",
       "date       sym                                            \n",
       "2019-08-09 AAC                     0                  0   \n",
       "2019-08-12 AAC                     0                  0   \n",
       "2019-08-13 AAC                     0                  0   \n",
       "2019-08-14 AAC                     0                  0   \n",
       "2019-08-15 AAC                     0                  0   \n",
       "\n",
       "                industry_Specialty Retail  \\\n",
       "date       sym                              \n",
       "2019-08-09 AAC                          0   \n",
       "2019-08-12 AAC                          0   \n",
       "2019-08-13 AAC                          0   \n",
       "2019-08-14 AAC                          0   \n",
       "2019-08-15 AAC                          0   \n",
       "\n",
       "                industry_Technology Hardware, Storage & Peripherals  \\\n",
       "date       sym                                                        \n",
       "2019-08-09 AAC                                                  0     \n",
       "2019-08-12 AAC                                                  0     \n",
       "2019-08-13 AAC                                                  0     \n",
       "2019-08-14 AAC                                                  0     \n",
       "2019-08-15 AAC                                                  0     \n",
       "\n",
       "                industry_Textiles, Apparel & Luxury Goods  \\\n",
       "date       sym                                              \n",
       "2019-08-09 AAC                                          0   \n",
       "2019-08-12 AAC                                          0   \n",
       "2019-08-13 AAC                                          0   \n",
       "2019-08-14 AAC                                          0   \n",
       "2019-08-15 AAC                                          0   \n",
       "\n",
       "                industry_Trading Companies & Distributors  Exchange_NASDAQ  \\\n",
       "date       sym                                                               \n",
       "2019-08-09 AAC                                          0                0   \n",
       "2019-08-12 AAC                                          0                0   \n",
       "2019-08-13 AAC                                          0                0   \n",
       "2019-08-14 AAC                                          0                0   \n",
       "2019-08-15 AAC                                          0                0   \n",
       "\n",
       "                Exchange_NYSE  Exchange_OTC  \n",
       "date       sym                               \n",
       "2019-08-09 AAC              0             0  \n",
       "2019-08-12 AAC              0             0  \n",
       "2019-08-13 AAC              0             0  \n",
       "2019-08-14 AAC              0             0  \n",
       "2019-08-15 AAC              0             0  \n",
       "\n",
       "[5 rows x 98 columns]"
      ]
     },
     "execution_count": 70,
     "metadata": {},
     "output_type": "execute_result"
    }
   ],
   "source": [
    "df_penny_performance_combined = combine_df(df_penny_performance, df_company, df_analyst)\n",
    "df_penny_performance_combined.head()"
   ]
  },
  {
   "cell_type": "markdown",
   "metadata": {},
   "source": [
    "## Write pickles"
   ]
  },
  {
   "cell_type": "code",
   "execution_count": 71,
   "metadata": {
    "ExecuteTime": {
     "end_time": "2020-12-02T11:48:09.659805Z",
     "start_time": "2020-12-02T11:48:09.252784Z"
    }
   },
   "outputs": [],
   "source": [
    "df_performance_combined.to_pickle('./data/performance_combined.pkl')\n",
    "df_penny_performance_combined.to_pickle('./data/performance_penny_combined.pkl')"
   ]
  },
  {
   "cell_type": "markdown",
   "metadata": {},
   "source": [
    "# Post to firebase\n",
    "> Need to add updating"
   ]
  },
  {
   "cell_type": "code",
   "execution_count": 72,
   "metadata": {
    "ExecuteTime": {
     "end_time": "2020-12-02T11:48:09.675806Z",
     "start_time": "2020-12-02T11:48:09.660808Z"
    }
   },
   "outputs": [],
   "source": [
    "from db import FireBase\n",
    "import json\n",
    "import os"
   ]
  },
  {
   "cell_type": "code",
   "execution_count": 73,
   "metadata": {
    "ExecuteTime": {
     "end_time": "2020-12-02T11:48:09.691806Z",
     "start_time": "2020-12-02T11:48:09.677807Z"
    }
   },
   "outputs": [
    {
     "data": {
      "text/plain": [
       "['analyst.pkl',\n",
       " 'company.pkl',\n",
       " 'modeling',\n",
       " 'penny_performance.pkl',\n",
       " 'performance.pkl',\n",
       " 'performance_combined.pkl',\n",
       " 'performance_penny_combined.pkl',\n",
       " 'prices.pkl']"
      ]
     },
     "execution_count": 73,
     "metadata": {},
     "output_type": "execute_result"
    }
   ],
   "source": [
    "os.listdir('./data')"
   ]
  },
  {
   "cell_type": "code",
   "execution_count": 74,
   "metadata": {
    "ExecuteTime": {
     "end_time": "2020-12-02T11:48:09.787833Z",
     "start_time": "2020-12-02T11:48:09.693805Z"
    }
   },
   "outputs": [],
   "source": [
    "df_performance = pd.read_pickle('./data/performance.pkl')\n",
    "df_penny_performance = pd.read_pickle('./data/penny_performance.pkl')"
   ]
  },
  {
   "cell_type": "code",
   "execution_count": 75,
   "metadata": {
    "ExecuteTime": {
     "end_time": "2020-12-02T11:48:09.879833Z",
     "start_time": "2020-12-02T11:48:09.788835Z"
    }
   },
   "outputs": [
    {
     "data": {
      "text/html": [
       "<div>\n",
       "<style scoped>\n",
       "    .dataframe tbody tr th:only-of-type {\n",
       "        vertical-align: middle;\n",
       "    }\n",
       "\n",
       "    .dataframe tbody tr th {\n",
       "        vertical-align: top;\n",
       "    }\n",
       "\n",
       "    .dataframe thead th {\n",
       "        text-align: right;\n",
       "    }\n",
       "</style>\n",
       "<table border=\"1\" class=\"dataframe\">\n",
       "  <thead>\n",
       "    <tr style=\"text-align: right;\">\n",
       "      <th></th>\n",
       "      <th>sym</th>\n",
       "      <th>RevenueTTM</th>\n",
       "      <th>TotalCash</th>\n",
       "      <th>ExDividendDate</th>\n",
       "      <th>Dividend</th>\n",
       "      <th>DividendYield</th>\n",
       "      <th>PriceToBook</th>\n",
       "      <th>PriceToSales</th>\n",
       "      <th>EnterpriseValue</th>\n",
       "      <th>PriceToCashFlow</th>\n",
       "      <th>PE</th>\n",
       "      <th>ReturnonEquity</th>\n",
       "      <th>FreeCashFlow</th>\n",
       "      <th>TotalDebtToEquity</th>\n",
       "      <th>PricePerformance52Weeks</th>\n",
       "      <th>PricePerformanceYTD</th>\n",
       "      <th>TotalReturn1Yr</th>\n",
       "      <th>TotalReturn3Yr</th>\n",
       "      <th>VolumeAvg90Day</th>\n",
       "      <th>price</th>\n",
       "    </tr>\n",
       "    <tr>\n",
       "      <th>date</th>\n",
       "      <th></th>\n",
       "      <th></th>\n",
       "      <th></th>\n",
       "      <th></th>\n",
       "      <th></th>\n",
       "      <th></th>\n",
       "      <th></th>\n",
       "      <th></th>\n",
       "      <th></th>\n",
       "      <th></th>\n",
       "      <th></th>\n",
       "      <th></th>\n",
       "      <th></th>\n",
       "      <th></th>\n",
       "      <th></th>\n",
       "      <th></th>\n",
       "      <th></th>\n",
       "      <th></th>\n",
       "      <th></th>\n",
       "      <th></th>\n",
       "    </tr>\n",
       "  </thead>\n",
       "  <tbody>\n",
       "    <tr>\n",
       "      <th>2019-08-09</th>\n",
       "      <td>A</td>\n",
       "      <td>5019.000</td>\n",
       "      <td>2155.000</td>\n",
       "      <td>0</td>\n",
       "      <td>0.164</td>\n",
       "      <td>0.944</td>\n",
       "      <td>4.298</td>\n",
       "      <td>4.402</td>\n",
       "      <td>21670704590.000</td>\n",
       "      <td>16.574</td>\n",
       "      <td>19.800</td>\n",
       "      <td>23.160</td>\n",
       "      <td>887.000</td>\n",
       "      <td>37.290</td>\n",
       "      <td>3.131</td>\n",
       "      <td>3.009</td>\n",
       "      <td>4.044</td>\n",
       "      <td>14.794</td>\n",
       "      <td>2.593</td>\n",
       "      <td>68.640</td>\n",
       "    </tr>\n",
       "    <tr>\n",
       "      <th>2019-08-12</th>\n",
       "      <td>A</td>\n",
       "      <td>5019.000</td>\n",
       "      <td>2155.000</td>\n",
       "      <td>0</td>\n",
       "      <td>0.164</td>\n",
       "      <td>0.956</td>\n",
       "      <td>4.246</td>\n",
       "      <td>4.348</td>\n",
       "      <td>21401262240.000</td>\n",
       "      <td>16.371</td>\n",
       "      <td>19.200</td>\n",
       "      <td>23.160</td>\n",
       "      <td>887.000</td>\n",
       "      <td>37.290</td>\n",
       "      <td>3.592</td>\n",
       "      <td>1.749</td>\n",
       "      <td>4.508</td>\n",
       "      <td>14.099</td>\n",
       "      <td>2.585</td>\n",
       "      <td>66.780</td>\n",
       "    </tr>\n",
       "    <tr>\n",
       "      <th>2019-08-13</th>\n",
       "      <td>A</td>\n",
       "      <td>5019.000</td>\n",
       "      <td>2155.000</td>\n",
       "      <td>0</td>\n",
       "      <td>0.164</td>\n",
       "      <td>0.985</td>\n",
       "      <td>4.121</td>\n",
       "      <td>4.221</td>\n",
       "      <td>20764110330.000</td>\n",
       "      <td>15.892</td>\n",
       "      <td>19.500</td>\n",
       "      <td>23.160</td>\n",
       "      <td>887.000</td>\n",
       "      <td>37.290</td>\n",
       "      <td>0.558</td>\n",
       "      <td>-1.230</td>\n",
       "      <td>1.448</td>\n",
       "      <td>12.479</td>\n",
       "      <td>2.605</td>\n",
       "      <td>67.640</td>\n",
       "    </tr>\n",
       "    <tr>\n",
       "      <th>2019-08-14</th>\n",
       "      <td>A</td>\n",
       "      <td>5019.000</td>\n",
       "      <td>2155.000</td>\n",
       "      <td>0</td>\n",
       "      <td>0.164</td>\n",
       "      <td>0.970</td>\n",
       "      <td>4.184</td>\n",
       "      <td>4.285</td>\n",
       "      <td>21084271240.000</td>\n",
       "      <td>16.132</td>\n",
       "      <td>18.900</td>\n",
       "      <td>23.160</td>\n",
       "      <td>887.000</td>\n",
       "      <td>37.290</td>\n",
       "      <td>2.578</td>\n",
       "      <td>0.267</td>\n",
       "      <td>3.485</td>\n",
       "      <td>13.044</td>\n",
       "      <td>2.616</td>\n",
       "      <td>65.590</td>\n",
       "    </tr>\n",
       "    <tr>\n",
       "      <th>2019-08-15</th>\n",
       "      <td>A</td>\n",
       "      <td>5090.000</td>\n",
       "      <td>1765.000</td>\n",
       "      <td>0</td>\n",
       "      <td>0.164</td>\n",
       "      <td>1.000</td>\n",
       "      <td>4.283</td>\n",
       "      <td>4.068</td>\n",
       "      <td>20365900000.000</td>\n",
       "      <td>16.051</td>\n",
       "      <td>20.800</td>\n",
       "      <td>22.018</td>\n",
       "      <td>918.000</td>\n",
       "      <td>36.935</td>\n",
       "      <td>-1.738</td>\n",
       "      <td>-2.772</td>\n",
       "      <td>-0.869</td>\n",
       "      <td>11.891</td>\n",
       "      <td>2.631</td>\n",
       "      <td>69.590</td>\n",
       "    </tr>\n",
       "  </tbody>\n",
       "</table>\n",
       "</div>"
      ],
      "text/plain": [
       "           sym  RevenueTTM  TotalCash  ExDividendDate  Dividend  \\\n",
       "date                                                              \n",
       "2019-08-09   A    5019.000   2155.000               0     0.164   \n",
       "2019-08-12   A    5019.000   2155.000               0     0.164   \n",
       "2019-08-13   A    5019.000   2155.000               0     0.164   \n",
       "2019-08-14   A    5019.000   2155.000               0     0.164   \n",
       "2019-08-15   A    5090.000   1765.000               0     0.164   \n",
       "\n",
       "            DividendYield  PriceToBook  PriceToSales  EnterpriseValue  \\\n",
       "date                                                                    \n",
       "2019-08-09          0.944        4.298         4.402  21670704590.000   \n",
       "2019-08-12          0.956        4.246         4.348  21401262240.000   \n",
       "2019-08-13          0.985        4.121         4.221  20764110330.000   \n",
       "2019-08-14          0.970        4.184         4.285  21084271240.000   \n",
       "2019-08-15          1.000        4.283         4.068  20365900000.000   \n",
       "\n",
       "            PriceToCashFlow     PE  ReturnonEquity  FreeCashFlow  \\\n",
       "date                                                               \n",
       "2019-08-09           16.574 19.800          23.160       887.000   \n",
       "2019-08-12           16.371 19.200          23.160       887.000   \n",
       "2019-08-13           15.892 19.500          23.160       887.000   \n",
       "2019-08-14           16.132 18.900          23.160       887.000   \n",
       "2019-08-15           16.051 20.800          22.018       918.000   \n",
       "\n",
       "            TotalDebtToEquity  PricePerformance52Weeks  PricePerformanceYTD  \\\n",
       "date                                                                          \n",
       "2019-08-09             37.290                    3.131                3.009   \n",
       "2019-08-12             37.290                    3.592                1.749   \n",
       "2019-08-13             37.290                    0.558               -1.230   \n",
       "2019-08-14             37.290                    2.578                0.267   \n",
       "2019-08-15             36.935                   -1.738               -2.772   \n",
       "\n",
       "            TotalReturn1Yr  TotalReturn3Yr  VolumeAvg90Day  price  \n",
       "date                                                               \n",
       "2019-08-09           4.044          14.794           2.593 68.640  \n",
       "2019-08-12           4.508          14.099           2.585 66.780  \n",
       "2019-08-13           1.448          12.479           2.605 67.640  \n",
       "2019-08-14           3.485          13.044           2.616 65.590  \n",
       "2019-08-15          -0.869          11.891           2.631 69.590  "
      ]
     },
     "execution_count": 75,
     "metadata": {},
     "output_type": "execute_result"
    }
   ],
   "source": [
    "df_post = pd.concat([df_performance, df_penny_performance])\n",
    "df_post = df_post.set_index(['date'], drop=True)\n",
    "df_post.head()"
   ]
  },
  {
   "cell_type": "code",
   "execution_count": 76,
   "metadata": {
    "ExecuteTime": {
     "end_time": "2020-12-02T11:52:46.005904Z",
     "start_time": "2020-12-02T11:48:09.880834Z"
    }
   },
   "outputs": [
    {
     "name": "stdout",
     "output_type": "stream",
     "text": [
      "posted -> RNKLFF\r"
     ]
    }
   ],
   "source": [
    "fb = FireBase()\n",
    "post = {}\n",
    "all_symbols = df_post['sym'].unique()\n",
    "sym_df = df_post.groupby('sym')\n",
    "\n",
    "x = 0\n",
    "for sym in all_symbols:\n",
    "    x += 1\n",
    "    post[sym] = sym_df.get_group(sym).drop('sym', axis=1).reset_index(drop=True).to_dict()\n",
    "    if x == 100:\n",
    "        print('posting ->', sym, end='\\r')\n",
    "        req = fb.refresh_all_data(post)\n",
    "        print('posted ->', sym, end='\\r')\n",
    "        post = {}\n",
    "        x = 0\n",
    "\n",
    "req = fb.refresh_all_data(post)"
   ]
  },
  {
   "cell_type": "code",
   "execution_count": 77,
   "metadata": {
    "ExecuteTime": {
     "end_time": "2020-12-02T11:52:46.052904Z",
     "start_time": "2020-12-02T11:52:46.006904Z"
    }
   },
   "outputs": [],
   "source": [
    "date_range = df_post.query(\"sym == 'AAPL'\").reset_index().date.map(lambda x: x.strftime(\"%m-%d-%Y\")).to_dict()\n",
    "df_post.reset_index(drop=True, inplace=True)\n",
    "column_index = list(df_post.columns)\n",
    "column_index.remove('sym')\n",
    "column_index = dict(zip(range(len(column_index)), column_index))\n",
    "all_symbols = df_post['sym'].unique()"
   ]
  },
  {
   "cell_type": "code",
   "execution_count": 78,
   "metadata": {
    "ExecuteTime": {
     "end_time": "2020-12-02T11:52:46.067891Z",
     "start_time": "2020-12-02T11:52:46.053904Z"
    }
   },
   "outputs": [],
   "source": [
    "symbol_index = tuple(all_symbols)"
   ]
  },
  {
   "cell_type": "code",
   "execution_count": 79,
   "metadata": {
    "ExecuteTime": {
     "end_time": "2020-12-02T11:52:46.406919Z",
     "start_time": "2020-12-02T11:52:46.069891Z"
    }
   },
   "outputs": [],
   "source": [
    "index = {\n",
    "    'column': column_index,\n",
    "    'date_range': date_range,\n",
    "    'stocks': symbol_index\n",
    "}\n",
    "req = fb.refresh_index(index)"
   ]
  }
 ],
 "metadata": {
  "kernelspec": {
   "display_name": "Python 3",
   "language": "python",
   "name": "python3"
  },
  "language_info": {
   "codemirror_mode": {
    "name": "ipython",
    "version": 3
   },
   "file_extension": ".py",
   "mimetype": "text/x-python",
   "name": "python",
   "nbconvert_exporter": "python",
   "pygments_lexer": "ipython3",
   "version": "3.7.9"
  },
  "toc": {
   "base_numbering": 1,
   "nav_menu": {},
   "number_sections": true,
   "sideBar": true,
   "skip_h1_title": false,
   "title_cell": "Table of Contents",
   "title_sidebar": "Contents",
   "toc_cell": true,
   "toc_position": {
    "height": "calc(100% - 180px)",
    "left": "10px",
    "top": "150px",
    "width": "384px"
   },
   "toc_section_display": true,
   "toc_window_display": true
  }
 },
 "nbformat": 4,
 "nbformat_minor": 4
}
