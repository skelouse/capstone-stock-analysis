{
 "cells": [
  {
   "cell_type": "markdown",
   "metadata": {
    "toc": true
   },
   "source": [
    "<h1>Table of Contents<span class=\"tocSkip\"></span></h1>\n",
    "<div class=\"toc\"><ul class=\"toc-item\"><li><span><a href=\"#Intro\" data-toc-modified-id=\"Intro-1\"><span class=\"toc-item-num\">1&nbsp;&nbsp;</span>Intro</a></span><ul class=\"toc-item\"><li><span><a href=\"#Style\" data-toc-modified-id=\"Style-1.1\"><span class=\"toc-item-num\">1.1&nbsp;&nbsp;</span>Style</a></span></li><li><span><a href=\"#imports-and-data\" data-toc-modified-id=\"imports-and-data-1.2\"><span class=\"toc-item-num\">1.2&nbsp;&nbsp;</span>imports and data</a></span></li><li><span><a href=\"#Imports-for-reproducibility\" data-toc-modified-id=\"Imports-for-reproducibility-1.3\"><span class=\"toc-item-num\">1.3&nbsp;&nbsp;</span>Imports for reproducibility</a></span></li><li><span><a href=\"#Custom-Imports\" data-toc-modified-id=\"Custom-Imports-1.4\"><span class=\"toc-item-num\">1.4&nbsp;&nbsp;</span>Custom Imports</a></span></li></ul></li><li><span><a href=\"#Modeling\" data-toc-modified-id=\"Modeling-2\"><span class=\"toc-item-num\">2&nbsp;&nbsp;</span>Modeling</a></span><ul class=\"toc-item\"><li><span><a href=\"#Cronus\" data-toc-modified-id=\"Cronus-2.1\"><span class=\"toc-item-num\">2.1&nbsp;&nbsp;</span>Cronus</a></span></li><li><span><a href=\"#Hermes\" data-toc-modified-id=\"Hermes-2.2\"><span class=\"toc-item-num\">2.2&nbsp;&nbsp;</span>Hermes</a></span></li><li><span><a href=\"#Narcissus\" data-toc-modified-id=\"Narcissus-2.3\"><span class=\"toc-item-num\">2.3&nbsp;&nbsp;</span>Narcissus</a></span></li></ul></li><li><span><a href=\"#Predicting\" data-toc-modified-id=\"Predicting-3\"><span class=\"toc-item-num\">3&nbsp;&nbsp;</span>Predicting</a></span><ul class=\"toc-item\"><li><span><a href=\"#Functions\" data-toc-modified-id=\"Functions-3.1\"><span class=\"toc-item-num\">3.1&nbsp;&nbsp;</span>Functions</a></span></li><li><span><a href=\"#Cronus\" data-toc-modified-id=\"Cronus-3.2\"><span class=\"toc-item-num\">3.2&nbsp;&nbsp;</span>Cronus</a></span><ul class=\"toc-item\"><li><span><a href=\"#Predict\" data-toc-modified-id=\"Predict-3.2.1\"><span class=\"toc-item-num\">3.2.1&nbsp;&nbsp;</span>Predict</a></span></li><li><span><a href=\"#View-top\" data-toc-modified-id=\"View-top-3.2.2\"><span class=\"toc-item-num\">3.2.2&nbsp;&nbsp;</span>View top</a></span></li></ul></li><li><span><a href=\"#Hermes\" data-toc-modified-id=\"Hermes-3.3\"><span class=\"toc-item-num\">3.3&nbsp;&nbsp;</span>Hermes</a></span><ul class=\"toc-item\"><li><span><a href=\"#Hermes-predict\" data-toc-modified-id=\"Hermes-predict-3.3.1\"><span class=\"toc-item-num\">3.3.1&nbsp;&nbsp;</span>Hermes predict</a></span></li><li><span><a href=\"#View-top\" data-toc-modified-id=\"View-top-3.3.2\"><span class=\"toc-item-num\">3.3.2&nbsp;&nbsp;</span>View top</a></span></li></ul></li><li><span><a href=\"#Narcissus\" data-toc-modified-id=\"Narcissus-3.4\"><span class=\"toc-item-num\">3.4&nbsp;&nbsp;</span>Narcissus</a></span><ul class=\"toc-item\"><li><span><a href=\"#Predict\" data-toc-modified-id=\"Predict-3.4.1\"><span class=\"toc-item-num\">3.4.1&nbsp;&nbsp;</span>Predict</a></span></li><li><span><a href=\"#View-top-prices\" data-toc-modified-id=\"View-top-prices-3.4.2\"><span class=\"toc-item-num\">3.4.2&nbsp;&nbsp;</span>View top prices</a></span></li></ul></li><li><span><a href=\"#Total-Prediction\" data-toc-modified-id=\"Total-Prediction-3.5\"><span class=\"toc-item-num\">3.5&nbsp;&nbsp;</span>Total Prediction</a></span></li></ul></li></ul></div>"
   ]
  },
  {
   "cell_type": "markdown",
   "metadata": {},
   "source": [
    "# Intro"
   ]
  },
  {
   "cell_type": "markdown",
   "metadata": {},
   "source": [
    "## Style"
   ]
  },
  {
   "cell_type": "code",
   "execution_count": 1,
   "metadata": {
    "ExecuteTime": {
     "end_time": "2020-12-09T21:20:31.880644Z",
     "start_time": "2020-12-09T21:20:31.736751Z"
    }
   },
   "outputs": [
    {
     "data": {
      "text/html": [
       "<style>.shadowbox {\n",
       "    width: 40em;\n",
       "    border: 1px solid #333;\n",
       "    box-shadow: 8px 8px 5px #444;\n",
       "    padding: 8px 12px;\n",
       "    background-image: linear-gradient(180deg, black, rgb(107, 88, 88));\n",
       "    color: rgba(243, 218, 74, 0.801);\n",
       "    line-height: 25px;\n",
       "    position: static;\n",
       "}\n",
       "\n",
       "h1 {\n",
       "    width: 38em;\n",
       "    border: 1.5px solid #333;\n",
       "    /*box-shadow: 8px 8px 5px #444;*/\n",
       "    padding: 8px 12px;\n",
       "    background-image: linear-gradient(180deg, #fff, rgb(147, 156, 160));\n",
       "    position: static;\n",
       "}\n",
       "\n",
       "h2 {\n",
       "    width: 37em;\n",
       "    border: 1px solid #333;\n",
       "    /*box-shadow: 8px 8px 5px #444;*/\n",
       "    padding: 8px 12px;\n",
       "    background-image: linear-gradient(180deg, #fff, rgb(147, 156, 160));\n",
       "    position: relative;\n",
       "    right: -13px;\n",
       "}\n",
       "\n",
       "h3 {\n",
       "    width: 36em;\n",
       "    border: 0.5px solid #333;\n",
       "    /*box-shadow: 8px 8px 5px #444;*/\n",
       "    padding: 8px 12px;\n",
       "    background-image: linear-gradient(180deg, #fff, rgb(147, 156, 160));\n",
       "    position: relative;\n",
       "    right: -25px;\n",
       "}\n",
       "\n",
       ".shadow {\n",
       "    width: 45em;\n",
       "    box-shadow: 8px 8px 10px #444;\n",
       "    border: 1px solid silver;\n",
       "    margin-top: 2em;\n",
       "    position: relative;\n",
       "    top: -25px\n",
       "}\n",
       "\n",
       ".package_header {\n",
       "    width: 100%;\n",
       "    background-color: #0e2b59;\n",
       "    color: #ffffff;\n",
       "    font-size: 14px;\n",
       "    text-align: center;\n",
       "    padding-top: 8px;\n",
       "    padding-right: 8px;\n",
       "    padding-bottom: 8px;\n",
       "    padding-left: 8px;\n",
       "}\n",
       "\n",
       "blockquote {\n",
       "    border: 1px groove gray;\n",
       "    background-color: rgb(214, 218, 219);\n",
       "}\n",
       "\n",
       "</style>"
      ],
      "text/plain": [
       "<IPython.core.display.HTML object>"
      ]
     },
     "execution_count": 1,
     "metadata": {},
     "output_type": "execute_result"
    }
   ],
   "source": [
    "USE_GPU = True\n",
    "IGNORE_WARN = True\n",
    "SEED = 42\n",
    "import warnings\n",
    "import matplotlib as mpl\n",
    "mpl.rcParams['axes.titlesize']='xx-large'\n",
    "mpl.rcParams['xtick.labelsize'] = 13\n",
    "mpl.rcParams['ytick.labelsize'] = 13\n",
    "mpl.rcParams['axes.labelsize'] = 16\n",
    "\n",
    "# Styling notebook\n",
    "from IPython.core.display import HTML\n",
    "def css_styling():\n",
    "    styles = open(\"./styles/custom.css\", \"r\").read()\n",
    "    return HTML(styles)\n",
    "css_styling()"
   ]
  },
  {
   "cell_type": "code",
   "execution_count": 2,
   "metadata": {
    "ExecuteTime": {
     "end_time": "2020-12-09T21:20:31.910644Z",
     "start_time": "2020-12-09T21:20:31.901645Z"
    }
   },
   "outputs": [],
   "source": [
    "if IGNORE_WARN:\n",
    "    warnings.filterwarnings('ignore')"
   ]
  },
  {
   "cell_type": "markdown",
   "metadata": {},
   "source": [
    "## imports and data"
   ]
  },
  {
   "cell_type": "code",
   "execution_count": 3,
   "metadata": {
    "ExecuteTime": {
     "end_time": "2020-12-09T21:20:33.285985Z",
     "start_time": "2020-12-09T21:20:32.279988Z"
    }
   },
   "outputs": [],
   "source": [
    "import os\n",
    "import time\n",
    "import pandas as pd\n",
    "import matplotlib.pyplot as plt\n",
    "import datetime\n",
    "from functools import partial\n",
    "from sklearn.preprocessing import MinMaxScaler\n",
    "pd.set_option('display.float_format', lambda x: '%.3f' % x)"
   ]
  },
  {
   "cell_type": "markdown",
   "metadata": {},
   "source": [
    "## Imports for reproducibility"
   ]
  },
  {
   "cell_type": "code",
   "execution_count": 4,
   "metadata": {
    "ExecuteTime": {
     "end_time": "2020-12-09T21:20:34.710984Z",
     "start_time": "2020-12-09T21:20:33.286986Z"
    }
   },
   "outputs": [],
   "source": [
    "import numpy as np\n",
    "np.random.seed(SEED)\n",
    "\n",
    "import tensorflow as tf\n",
    "tf.random.set_seed(SEED)"
   ]
  },
  {
   "cell_type": "markdown",
   "metadata": {},
   "source": [
    "## Custom Imports"
   ]
  },
  {
   "cell_type": "code",
   "execution_count": 5,
   "metadata": {
    "ExecuteTime": {
     "end_time": "2020-12-09T21:20:35.229986Z",
     "start_time": "2020-12-09T21:20:34.711985Z"
    }
   },
   "outputs": [
    {
     "name": "stdout",
     "output_type": "stream",
     "text": [
      "For convinent loading 'from mlframe import MLFrame\n"
     ]
    },
    {
     "name": "stderr",
     "output_type": "stream",
     "text": [
      "Using TensorFlow backend.\n"
     ]
    }
   ],
   "source": [
    "import importlib\n",
    "import sys\n",
    "\n",
    "if 'mlframe' in sys.modules:\n",
    "    importlib.reload(sys.modules['mlframe'])\n",
    "    importlib.reload(sys.modules['db'])\n",
    "\n",
    "from db import DataBase\n",
    "from mlframe import MLFrame\n",
    "from models.create import NetworkCreator\n",
    "from models.load import NetworkLoader"
   ]
  },
  {
   "cell_type": "markdown",
   "metadata": {},
   "source": [
    "# Modeling"
   ]
  },
  {
   "cell_type": "code",
   "execution_count": 6,
   "metadata": {
    "ExecuteTime": {
     "end_time": "2020-12-09T21:20:35.245984Z",
     "start_time": "2020-12-09T21:20:35.230986Z"
    }
   },
   "outputs": [],
   "source": [
    "# RELOAD CUSTOM PACKAGE\n",
    "import importlib\n",
    "from models import create\n",
    "from models import load\n",
    "importlib.reload(create)\n",
    "importlib.reload(load)\n",
    "from models import create\n",
    "from models import load\n",
    "NetworkCreator = create.NetworkCreator\n",
    "NetworkLoader = load.NetworkLoader"
   ]
  },
  {
   "cell_type": "markdown",
   "metadata": {},
   "source": [
    "## Cronus"
   ]
  },
  {
   "cell_type": "code",
   "execution_count": 7,
   "metadata": {
    "ExecuteTime": {
     "end_time": "2020-12-09T21:20:37.774130Z",
     "start_time": "2020-12-09T21:20:37.136061Z"
    }
   },
   "outputs": [
    {
     "name": "stdout",
     "output_type": "stream",
     "text": [
      "y is in x\n"
     ]
    }
   ],
   "source": [
    "df_analyst = pd.read_pickle(\"./data/modeling/analyst.pkl\")\n",
    "df_prices = pd.read_pickle(\"./data/modeling/prices.pkl\")\n",
    "df_cronus = pd.concat([df_analyst, df_prices], axis=1)\n",
    "X_cols = list(df_cronus.columns)\n",
    "y_cols = list(df_prices.columns)\n",
    "n_days = len(df_cronus)-1\n",
    "name = 'Cronus'\n",
    "cronus_loader = NetworkLoader(df_cronus, X_cols, y_cols, name, n_days)"
   ]
  },
  {
   "cell_type": "code",
   "execution_count": 8,
   "metadata": {
    "ExecuteTime": {
     "end_time": "2020-12-09T21:20:38.559873Z",
     "start_time": "2020-12-09T21:20:38.553873Z"
    }
   },
   "outputs": [
    {
     "data": {
      "text/plain": [
       "(344, 344, 344)"
      ]
     },
     "execution_count": 8,
     "metadata": {},
     "output_type": "execute_result"
    }
   ],
   "source": [
    "len(df_analyst), len(df_prices), len(df_cronus)"
   ]
  },
  {
   "cell_type": "code",
   "execution_count": 9,
   "metadata": {
    "ExecuteTime": {
     "end_time": "2020-12-09T21:20:40.729664Z",
     "start_time": "2020-12-09T21:20:40.566666Z"
    }
   },
   "outputs": [
    {
     "ename": "AttributeError",
     "evalue": "'NetworkLoader' object has no attribute 'top_10_hps'",
     "output_type": "error",
     "traceback": [
      "\u001b[1;31m---------------------------------------------------------------------------\u001b[0m",
      "\u001b[1;31mAttributeError\u001b[0m                            Traceback (most recent call last)",
      "\u001b[1;32m<ipython-input-9-f01216927f2e>\u001b[0m in \u001b[0;36m<module>\u001b[1;34m\u001b[0m\n\u001b[1;32m----> 1\u001b[1;33m \u001b[0mcronus_loader\u001b[0m\u001b[1;33m.\u001b[0m\u001b[0mtop_10_hps\u001b[0m\u001b[1;33m[\u001b[0m\u001b[1;36m0\u001b[0m\u001b[1;33m]\u001b[0m\u001b[1;33m.\u001b[0m\u001b[0m__dict__\u001b[0m\u001b[1;33m[\u001b[0m\u001b[1;34m'values'\u001b[0m\u001b[1;33m]\u001b[0m\u001b[1;33m\u001b[0m\u001b[1;33m\u001b[0m\u001b[0m\n\u001b[0m",
      "\u001b[1;31mAttributeError\u001b[0m: 'NetworkLoader' object has no attribute 'top_10_hps'"
     ]
    }
   ],
   "source": [
    "cronus_loader.top_10_hps[0].__dict__['values']"
   ]
  },
  {
   "cell_type": "code",
   "execution_count": 10,
   "metadata": {
    "ExecuteTime": {
     "end_time": "2020-12-09T21:20:41.347101Z",
     "start_time": "2020-12-09T21:20:41.331089Z"
    }
   },
   "outputs": [],
   "source": [
    "old_parameters = {'use_input_regularizer': 0,\n",
    "             'input_neurons': 64,\n",
    "             'input_dropout_rate': 0.1,\n",
    "             'use_hidden_regularizer': 0,\n",
    "             'hidden_dropout_rate': 0.0,\n",
    "             'n_hidden_layers': 5,\n",
    "             'hidden_neurons': 64,\n",
    "             'patience': 100,\n",
    "             'use_early_stopping': 0,\n",
    "             'batch_size': 128,\n",
    "             'input_regularizer_penalty': 0.05,\n",
    "             'hidden_regularizer_penalty': 0.3\n",
    "             }"
   ]
  },
  {
   "cell_type": "code",
   "execution_count": 11,
   "metadata": {
    "ExecuteTime": {
     "end_time": "2020-12-09T21:20:41.806878Z",
     "start_time": "2020-12-09T21:20:41.803876Z"
    }
   },
   "outputs": [],
   "source": [
    "parameters = {'use_input_regularizer': 2,\n",
    "             'input_neurons': 16,\n",
    "             'input_dropout_rate': 0.1,\n",
    "             'use_hidden_regularizer': 0,\n",
    "             'hidden_dropout_rate': 0.0,\n",
    "             'n_hidden_layers': 1,\n",
    "             'hidden_neurons': 16,\n",
    "             'patience': 100,\n",
    "             'use_early_stopping': 0,\n",
    "             'batch_size': 64,\n",
    "             'input_regularizer_penalty': 0.01,\n",
    "             'hidden_regularizer_penalty': 0.01\n",
    "             }"
   ]
  },
  {
   "cell_type": "code",
   "execution_count": 11,
   "metadata": {
    "ExecuteTime": {
     "end_time": "2020-12-09T21:01:21.301323Z",
     "start_time": "2020-12-09T21:01:16.675713Z"
    },
    "scrolled": true
   },
   "outputs": [
    {
     "name": "stdout",
     "output_type": "stream",
     "text": [
      "Epoch 1/30\n",
      "1/1 [==============================] - 0s 999us/step - loss: 1.9076\n",
      "Epoch 2/30\n",
      "1/1 [==============================] - 0s 1ms/step - loss: 1.8025\n",
      "Epoch 3/30\n",
      "1/1 [==============================] - 0s 1000us/step - loss: 1.7028\n",
      "Epoch 4/30\n",
      "1/1 [==============================] - 0s 999us/step - loss: 1.6047\n",
      "Epoch 5/30\n",
      "1/1 [==============================] - 0s 999us/step - loss: 1.5107\n",
      "Epoch 6/30\n",
      "1/1 [==============================] - 0s 1ms/step - loss: 1.4348\n",
      "Epoch 7/30\n",
      "1/1 [==============================] - 0s 1ms/step - loss: 1.3431\n",
      "Epoch 8/30\n",
      "1/1 [==============================] - 0s 0s/step - loss: 1.2676\n",
      "Epoch 9/30\n",
      "1/1 [==============================] - 0s 0s/step - loss: 1.1847\n",
      "Epoch 10/30\n",
      "1/1 [==============================] - 0s 1ms/step - loss: 1.1196\n",
      "Epoch 11/30\n",
      "1/1 [==============================] - 0s 2ms/step - loss: 1.0526\n",
      "Epoch 12/30\n",
      "1/1 [==============================] - 0s 1ms/step - loss: 0.9888\n",
      "Epoch 13/30\n",
      "1/1 [==============================] - 0s 998us/step - loss: 0.9319\n",
      "Epoch 14/30\n",
      "1/1 [==============================] - 0s 1ms/step - loss: 0.8798\n",
      "Epoch 15/30\n",
      "1/1 [==============================] - 0s 1ms/step - loss: 0.8317\n",
      "Epoch 16/30\n",
      "1/1 [==============================] - 0s 1ms/step - loss: 0.7912\n",
      "Epoch 17/30\n",
      "1/1 [==============================] - 0s 997us/step - loss: 0.7442\n",
      "Epoch 18/30\n",
      "1/1 [==============================] - 0s 1ms/step - loss: 0.7206\n",
      "Epoch 19/30\n",
      "1/1 [==============================] - 0s 999us/step - loss: 0.6809\n",
      "Epoch 20/30\n",
      "1/1 [==============================] - 0s 1ms/step - loss: 0.6155\n",
      "Epoch 21/30\n",
      "1/1 [==============================] - 0s 1ms/step - loss: 0.6004\n",
      "Epoch 22/30\n",
      "1/1 [==============================] - 0s 1ms/step - loss: 0.5444\n",
      "Epoch 23/30\n",
      "1/1 [==============================] - 0s 2ms/step - loss: 0.5163\n",
      "Epoch 24/30\n",
      "1/1 [==============================] - 0s 0s/step - loss: 0.5020\n",
      "Epoch 25/30\n",
      "1/1 [==============================] - 0s 0s/step - loss: 0.4658\n",
      "Epoch 26/30\n",
      "1/1 [==============================] - 0s 1ms/step - loss: 0.4965\n",
      "Epoch 27/30\n",
      "1/1 [==============================] - 0s 1ms/step - loss: 0.4836\n",
      "Epoch 28/30\n",
      "1/1 [==============================] - 0s 1ms/step - loss: 0.3996\n",
      "Epoch 29/30\n",
      "1/1 [==============================] - 0s 999us/step - loss: 0.3800\n",
      "Epoch 30/30\n",
      "1/1 [==============================] - 0s 1ms/step - loss: 0.3839\n"
     ]
    }
   ],
   "source": [
    "cronus_model = cronus_loader.build_model(**parameters)\n",
    "history = cronus_model.fit(\n",
    "            cronus_loader.data_gen,\n",
    "            epochs=30,\n",
    "            callbacks=[])"
   ]
  },
  {
   "cell_type": "code",
   "execution_count": 12,
   "metadata": {
    "ExecuteTime": {
     "end_time": "2020-12-09T21:01:21.412351Z",
     "start_time": "2020-12-09T21:01:21.302328Z"
    }
   },
   "outputs": [
    {
     "data": {
      "text/plain": [
       "<matplotlib.legend.Legend at 0x1ae7eafa1c8>"
      ]
     },
     "execution_count": 12,
     "metadata": {},
     "output_type": "execute_result"
    },
    {
     "data": {
      "image/png": "[encoded data removed]",
      "text/plain": [
       "<Figure size 576x396 with 1 Axes>"
      ]
     },
     "metadata": {},
     "output_type": "display_data"
    }
   ],
   "source": [
    "my_loss= history.history['loss']\n",
    "plt.plot(range(len(my_loss)),my_loss, label='train')\n",
    "plt.legend()"
   ]
  },
  {
   "cell_type": "code",
   "execution_count": 13,
   "metadata": {
    "ExecuteTime": {
     "end_time": "2020-12-09T21:01:21.428352Z",
     "start_time": "2020-12-09T21:01:21.413352Z"
    }
   },
   "outputs": [],
   "source": [
    "cronus_history = history"
   ]
  },
  {
   "cell_type": "markdown",
   "metadata": {},
   "source": [
    "## Hermes"
   ]
  },
  {
   "cell_type": "code",
   "execution_count": 12,
   "metadata": {
    "ExecuteTime": {
     "end_time": "2020-12-09T21:20:50.463008Z",
     "start_time": "2020-12-09T21:20:47.905789Z"
    }
   },
   "outputs": [
    {
     "name": "stdout",
     "output_type": "stream",
     "text": [
      "y is in dataframe but not x\n"
     ]
    }
   ],
   "source": [
    "df_hermes = pd.read_pickle(\"./data/modeling/hermes.pkl\")\n",
    "df_analyst = pd.read_pickle(\"./data/modeling/analyst.pkl\")\n",
    "X_cols = [col for col in df_hermes.columns\n",
    "          if col not in df_analyst.columns]\n",
    "y_cols = [col for col in df_hermes.columns\n",
    "          if col in df_analyst.columns]\n",
    "n_days = len(df_hermes)-1\n",
    "name = 'Hermes'\n",
    "hermes_loader = NetworkLoader(df_hermes, X_cols, y_cols, name, n_days)"
   ]
  },
  {
   "cell_type": "code",
   "execution_count": 13,
   "metadata": {
    "ExecuteTime": {
     "end_time": "2020-12-09T21:20:50.479008Z",
     "start_time": "2020-12-09T21:20:50.464008Z"
    }
   },
   "outputs": [
    {
     "data": {
      "text/plain": [
       "(344, 344, 344)"
      ]
     },
     "execution_count": 13,
     "metadata": {},
     "output_type": "execute_result"
    }
   ],
   "source": [
    "len(df_hermes), len(df_prices), len(df_cronus)"
   ]
  },
  {
   "cell_type": "code",
   "execution_count": 24,
   "metadata": {
    "ExecuteTime": {
     "end_time": "2020-12-09T08:18:59.613383Z",
     "start_time": "2020-12-09T08:18:59.598383Z"
    }
   },
   "outputs": [
    {
     "ename": "AttributeError",
     "evalue": "'NetworkLoader' object has no attribute 'top_10_hps'",
     "output_type": "error",
     "traceback": [
      "\u001b[1;31m---------------------------------------------------------------------------\u001b[0m",
      "\u001b[1;31mAttributeError\u001b[0m                            Traceback (most recent call last)",
      "\u001b[1;32m<ipython-input-24-a9e2101924d5>\u001b[0m in \u001b[0;36m<module>\u001b[1;34m\u001b[0m\n\u001b[0;32m      1\u001b[0m \u001b[1;32mtry\u001b[0m\u001b[1;33m:\u001b[0m\u001b[1;33m\u001b[0m\u001b[1;33m\u001b[0m\u001b[0m\n\u001b[1;32m----> 2\u001b[1;33m     \u001b[0mprint\u001b[0m\u001b[1;33m(\u001b[0m\u001b[0mhermes_loader\u001b[0m\u001b[1;33m.\u001b[0m\u001b[0mtop_10_hps\u001b[0m\u001b[1;33m[\u001b[0m\u001b[1;36m0\u001b[0m\u001b[1;33m]\u001b[0m\u001b[1;33m.\u001b[0m\u001b[0m__dict__\u001b[0m\u001b[1;33m[\u001b[0m\u001b[1;34m'values'\u001b[0m\u001b[1;33m]\u001b[0m\u001b[1;33m)\u001b[0m\u001b[1;33m\u001b[0m\u001b[1;33m\u001b[0m\u001b[0m\n\u001b[0m\u001b[0;32m      3\u001b[0m \u001b[1;32mexcept\u001b[0m \u001b[0mIndexError\u001b[0m\u001b[1;33m:\u001b[0m\u001b[1;33m\u001b[0m\u001b[1;33m\u001b[0m\u001b[0m\n\u001b[0;32m      4\u001b[0m     \u001b[0mprint\u001b[0m\u001b[1;33m(\u001b[0m\u001b[1;34m\"No training yet\"\u001b[0m\u001b[1;33m)\u001b[0m\u001b[1;33m\u001b[0m\u001b[1;33m\u001b[0m\u001b[0m\n",
      "\u001b[1;31mAttributeError\u001b[0m: 'NetworkLoader' object has no attribute 'top_10_hps'"
     ]
    }
   ],
   "source": [
    "try:\n",
    "    print(hermes_loader.top_10_hps[0].__dict__['values'])\n",
    "except IndexError:\n",
    "    print(\"No training yet\")"
   ]
  },
  {
   "cell_type": "code",
   "execution_count": 25,
   "metadata": {
    "ExecuteTime": {
     "end_time": "2020-12-09T08:19:03.548923Z",
     "start_time": "2020-12-09T08:19:03.543925Z"
    }
   },
   "outputs": [],
   "source": [
    "parameters = {'use_input_regularizer': 0,\n",
    "              'input_neurons': 64,\n",
    "              'input_dropout_rate': 0.3,\n",
    "              'use_hidden_regularizer': 0,\n",
    "              'hidden_dropout_rate': 0.0,\n",
    "              'n_hidden_layers': 3,\n",
    "              'hidden_neurons': 64,\n",
    "              'patience': 50,\n",
    "              'use_early_stopping': 0,\n",
    "              'batch_size': 32,\n",
    "              'hidden_regularizer_penalty': 0.1,\n",
    "              'input_regularizer_penalty': 0.01\n",
    "             }"
   ]
  },
  {
   "cell_type": "code",
   "execution_count": 26,
   "metadata": {
    "ExecuteTime": {
     "end_time": "2020-12-09T08:19:10.709180Z",
     "start_time": "2020-12-09T08:19:03.915907Z"
    }
   },
   "outputs": [
    {
     "name": "stdout",
     "output_type": "stream",
     "text": [
      "Epoch 1/30\n",
      "1/1 [==============================] - 0s 8ms/step - loss: 0.3476\n",
      "Epoch 2/30\n",
      "1/1 [==============================] - 0s 6ms/step - loss: 0.3434\n",
      "Epoch 3/30\n",
      "1/1 [==============================] - 0s 6ms/step - loss: 0.3306\n",
      "Epoch 4/30\n",
      "1/1 [==============================] - 0s 7ms/step - loss: 0.3206\n",
      "Epoch 5/30\n",
      "1/1 [==============================] - 0s 7ms/step - loss: 0.3096\n",
      "Epoch 6/30\n",
      "1/1 [==============================] - 0s 6ms/step - loss: 0.2878\n",
      "Epoch 7/30\n",
      "1/1 [==============================] - 0s 7ms/step - loss: 0.2645\n",
      "Epoch 8/30\n",
      "1/1 [==============================] - 0s 6ms/step - loss: 0.2696\n",
      "Epoch 9/30\n",
      "1/1 [==============================] - 0s 7ms/step - loss: 0.2400\n",
      "Epoch 10/30\n",
      "1/1 [==============================] - 0s 7ms/step - loss: 0.2111\n",
      "Epoch 11/30\n",
      "1/1 [==============================] - 0s 6ms/step - loss: 0.2058\n",
      "Epoch 12/30\n",
      "1/1 [==============================] - 0s 7ms/step - loss: 0.1650\n",
      "Epoch 13/30\n",
      "1/1 [==============================] - 0s 7ms/step - loss: 0.1358\n",
      "Epoch 14/30\n",
      "1/1 [==============================] - 0s 7ms/step - loss: 0.1413\n",
      "Epoch 15/30\n",
      "1/1 [==============================] - 0s 7ms/step - loss: 0.0919\n",
      "Epoch 16/30\n",
      "1/1 [==============================] - 0s 6ms/step - loss: 0.0750\n",
      "Epoch 17/30\n",
      "1/1 [==============================] - 0s 6ms/step - loss: 0.0638\n",
      "Epoch 18/30\n",
      "1/1 [==============================] - 0s 7ms/step - loss: 0.0478\n",
      "Epoch 19/30\n",
      "1/1 [==============================] - 0s 6ms/step - loss: 0.0319\n",
      "Epoch 20/30\n",
      "1/1 [==============================] - 0s 6ms/step - loss: 0.0323\n",
      "Epoch 21/30\n",
      "1/1 [==============================] - 0s 7ms/step - loss: 0.0355\n",
      "Epoch 22/30\n",
      "1/1 [==============================] - 0s 6ms/step - loss: 0.0227\n",
      "Epoch 23/30\n",
      "1/1 [==============================] - 0s 7ms/step - loss: 0.0131\n",
      "Epoch 24/30\n",
      "1/1 [==============================] - 0s 7ms/step - loss: 0.0111\n",
      "Epoch 25/30\n",
      "1/1 [==============================] - 0s 7ms/step - loss: 0.0223\n",
      "Epoch 26/30\n",
      "1/1 [==============================] - 0s 6ms/step - loss: 0.0094\n",
      "Epoch 27/30\n",
      "1/1 [==============================] - 0s 7ms/step - loss: 0.0404\n",
      "Epoch 28/30\n",
      "1/1 [==============================] - 0s 7ms/step - loss: 0.0036\n",
      "Epoch 29/30\n",
      "1/1 [==============================] - 0s 6ms/step - loss: 0.0538\n",
      "Epoch 30/30\n",
      "1/1 [==============================] - 0s 7ms/step - loss: 0.0167\n"
     ]
    }
   ],
   "source": [
    "hermes_model = hermes_loader.build_model(**parameters)\n",
    "history = hermes_model.fit(\n",
    "            hermes_loader.data_gen,\n",
    "            epochs=30,\n",
    "            callbacks=[])"
   ]
  },
  {
   "cell_type": "code",
   "execution_count": 27,
   "metadata": {
    "ExecuteTime": {
     "end_time": "2020-12-09T08:19:10.805180Z",
     "start_time": "2020-12-09T08:19:10.710186Z"
    }
   },
   "outputs": [
    {
     "data": {
      "text/plain": [
       "<matplotlib.legend.Legend at 0x1c877c49cc8>"
      ]
     },
     "execution_count": 27,
     "metadata": {},
     "output_type": "execute_result"
    },
    {
     "data": {
      "image/png": "[encoded data removed]",
      "text/plain": [
       "<Figure size 576x396 with 1 Axes>"
      ]
     },
     "metadata": {},
     "output_type": "display_data"
    }
   ],
   "source": [
    "my_loss= history.history['loss']\n",
    "plt.plot(range(len(my_loss)),my_loss, label='train')\n",
    "plt.legend()"
   ]
  },
  {
   "cell_type": "code",
   "execution_count": 28,
   "metadata": {
    "ExecuteTime": {
     "end_time": "2020-12-09T08:19:10.821183Z",
     "start_time": "2020-12-09T08:19:10.806181Z"
    }
   },
   "outputs": [],
   "source": [
    "hermes_history = history"
   ]
  },
  {
   "cell_type": "markdown",
   "metadata": {},
   "source": [
    "## Narcissus"
   ]
  },
  {
   "cell_type": "code",
   "execution_count": 14,
   "metadata": {
    "ExecuteTime": {
     "end_time": "2020-12-09T21:20:55.145539Z",
     "start_time": "2020-12-09T21:20:54.907529Z"
    }
   },
   "outputs": [
    {
     "name": "stdout",
     "output_type": "stream",
     "text": [
      "y is the same as x\n"
     ]
    }
   ],
   "source": [
    "df_performance = pd.read_pickle(\"./data/modeling/performance.pkl\")\n",
    "X_cols = list(df_performance.columns)\n",
    "y_cols = X_cols\n",
    "n_days = len(df_performance)-1\n",
    "name = 'Narcissus'\n",
    "narcissus_loader = NetworkLoader(df_performance, X_cols, y_cols, name, n_days)"
   ]
  },
  {
   "cell_type": "code",
   "execution_count": 15,
   "metadata": {
    "ExecuteTime": {
     "end_time": "2020-12-09T21:20:55.161529Z",
     "start_time": "2020-12-09T21:20:55.146540Z"
    }
   },
   "outputs": [
    {
     "data": {
      "text/plain": [
       "344"
      ]
     },
     "execution_count": 15,
     "metadata": {},
     "output_type": "execute_result"
    }
   ],
   "source": [
    "len(df_performance)"
   ]
  },
  {
   "cell_type": "code",
   "execution_count": 36,
   "metadata": {
    "ExecuteTime": {
     "end_time": "2020-12-09T08:19:45.289210Z",
     "start_time": "2020-12-09T08:19:45.273209Z"
    }
   },
   "outputs": [
    {
     "name": "stdout",
     "output_type": "stream",
     "text": [
      "No training yet\n"
     ]
    }
   ],
   "source": [
    "try:\n",
    "    print(narcissus_loader.top_10_hps[0].__dict__['values'])\n",
    "except Exception:\n",
    "    print(\"No training yet\")"
   ]
  },
  {
   "cell_type": "code",
   "execution_count": 37,
   "metadata": {
    "ExecuteTime": {
     "end_time": "2020-12-09T08:19:45.838081Z",
     "start_time": "2020-12-09T08:19:45.835068Z"
    }
   },
   "outputs": [],
   "source": [
    "parameters = {'use_input_regularizer': 2,\n",
    "              'input_neurons': 64,\n",
    "              'input_dropout_rate': 0.1,\n",
    "              'use_hidden_regularizer': 0,\n",
    "              'hidden_dropout_rate': 0.0,\n",
    "              'n_hidden_layers': 3,\n",
    "              'hidden_neurons': 64,\n",
    "              'patience': 100,\n",
    "              'use_early_stopping': 0,\n",
    "              'batch_size': 128,\n",
    "              'input_regularizer_penalty': 0.01,\n",
    "              'hidden_regularizer_penalty': 0.05\n",
    "             }"
   ]
  },
  {
   "cell_type": "code",
   "execution_count": 38,
   "metadata": {
    "ExecuteTime": {
     "end_time": "2020-12-09T08:19:51.211029Z",
     "start_time": "2020-12-09T08:19:48.547155Z"
    }
   },
   "outputs": [
    {
     "name": "stdout",
     "output_type": "stream",
     "text": [
      "Epoch 1/30\n",
      "1/1 [==============================] - 0s 996us/step - loss: 5.3940\n",
      "Epoch 2/30\n",
      "1/1 [==============================] - 0s 1ms/step - loss: 4.8835\n",
      "Epoch 3/30\n",
      "1/1 [==============================] - 0s 1ms/step - loss: 4.4022\n",
      "Epoch 4/30\n",
      "1/1 [==============================] - 0s 1ms/step - loss: 3.9536\n",
      "Epoch 5/30\n",
      "1/1 [==============================] - 0s 997us/step - loss: 3.5293\n",
      "Epoch 6/30\n",
      "1/1 [==============================] - 0s 2ms/step - loss: 3.1365\n",
      "Epoch 7/30\n",
      "1/1 [==============================] - 0s 2ms/step - loss: 2.7653\n",
      "Epoch 8/30\n",
      "1/1 [==============================] - 0s 1ms/step - loss: 2.4343\n",
      "Epoch 9/30\n",
      "1/1 [==============================] - 0s 2ms/step - loss: 2.1089\n",
      "Epoch 10/30\n",
      "1/1 [==============================] - 0s 999us/step - loss: 1.8192\n",
      "Epoch 11/30\n",
      "1/1 [==============================] - 0s 999us/step - loss: 1.5783\n",
      "Epoch 12/30\n",
      "1/1 [==============================] - 0s 1ms/step - loss: 1.3451\n",
      "Epoch 13/30\n",
      "1/1 [==============================] - 0s 1ms/step - loss: 1.1248\n",
      "Epoch 14/30\n",
      "1/1 [==============================] - 0s 2ms/step - loss: 0.9584\n",
      "Epoch 15/30\n",
      "1/1 [==============================] - 0s 2ms/step - loss: 0.8114\n",
      "Epoch 16/30\n",
      "1/1 [==============================] - 0s 997us/step - loss: 0.6749\n",
      "Epoch 17/30\n",
      "1/1 [==============================] - 0s 1ms/step - loss: 0.5666\n",
      "Epoch 18/30\n",
      "1/1 [==============================] - 0s 1000us/step - loss: 0.4705\n",
      "Epoch 19/30\n",
      "1/1 [==============================] - 0s 999us/step - loss: 0.4115\n",
      "Epoch 20/30\n",
      "1/1 [==============================] - 0s 1000us/step - loss: 0.3345\n",
      "Epoch 21/30\n",
      "1/1 [==============================] - 0s 1ms/step - loss: 0.2769\n",
      "Epoch 22/30\n",
      "1/1 [==============================] - 0s 2ms/step - loss: 0.2393\n",
      "Epoch 23/30\n",
      "1/1 [==============================] - 0s 1ms/step - loss: 0.2240\n",
      "Epoch 24/30\n",
      "1/1 [==============================] - 0s 2ms/step - loss: 0.1964\n",
      "Epoch 25/30\n",
      "1/1 [==============================] - 0s 2ms/step - loss: 0.1582\n",
      "Epoch 26/30\n",
      "1/1 [==============================] - 0s 1ms/step - loss: 0.1406\n",
      "Epoch 27/30\n",
      "1/1 [==============================] - 0s 2ms/step - loss: 0.1599\n",
      "Epoch 28/30\n",
      "1/1 [==============================] - 0s 1ms/step - loss: 0.1240\n",
      "Epoch 29/30\n",
      "1/1 [==============================] - 0s 1ms/step - loss: 0.1144\n",
      "Epoch 30/30\n",
      "1/1 [==============================] - 0s 1ms/step - loss: 0.1140\n"
     ]
    }
   ],
   "source": [
    "narcissus_model = narcissus_loader.build_model(**parameters)\n",
    "history = narcissus_model.fit(\n",
    "            narcissus_loader.data_gen,\n",
    "            epochs=30,\n",
    "            callbacks=[])"
   ]
  },
  {
   "cell_type": "code",
   "execution_count": 39,
   "metadata": {
    "ExecuteTime": {
     "end_time": "2020-12-09T08:19:53.727525Z",
     "start_time": "2020-12-09T08:19:53.632528Z"
    }
   },
   "outputs": [
    {
     "data": {
      "text/plain": [
       "<matplotlib.legend.Legend at 0x1c8d45d9c08>"
      ]
     },
     "execution_count": 39,
     "metadata": {},
     "output_type": "execute_result"
    },
    {
     "data": {
      "image/png": "[encoded data removed]",
      "text/plain": [
       "<Figure size 576x396 with 1 Axes>"
      ]
     },
     "metadata": {},
     "output_type": "display_data"
    }
   ],
   "source": [
    "my_loss= history.history['loss']\n",
    "plt.plot(range(len(my_loss)),my_loss, label='train')\n",
    "plt.legend()"
   ]
  },
  {
   "cell_type": "code",
   "execution_count": 40,
   "metadata": {
    "ExecuteTime": {
     "end_time": "2020-12-09T08:19:57.261057Z",
     "start_time": "2020-12-09T08:19:57.253070Z"
    }
   },
   "outputs": [],
   "source": [
    "narcissus_history = history"
   ]
  },
  {
   "cell_type": "markdown",
   "metadata": {},
   "source": [
    "# Predicting"
   ]
  },
  {
   "cell_type": "code",
   "execution_count": 25,
   "metadata": {
    "ExecuteTime": {
     "end_time": "2020-12-09T02:56:20.962021Z",
     "start_time": "2020-12-09T02:56:20.954949Z"
    }
   },
   "outputs": [
    {
     "data": {
      "text/plain": [
       "(<tensorflow.python.keras.engine.sequential.Sequential at 0x19ac9f939c8>,\n",
       " <tensorflow.python.keras.engine.sequential.Sequential at 0x19d191197c8>,\n",
       " <tensorflow.python.keras.engine.sequential.Sequential at 0x19d228d9e08>)"
      ]
     },
     "execution_count": 25,
     "metadata": {},
     "output_type": "execute_result"
    }
   ],
   "source": [
    "cronus_model, hermes_model, narcissus_model"
   ]
  },
  {
   "cell_type": "markdown",
   "metadata": {},
   "source": [
    "## Functions"
   ]
  },
  {
   "cell_type": "code",
   "execution_count": 105,
   "metadata": {
    "ExecuteTime": {
     "end_time": "2020-12-09T08:49:06.461787Z",
     "start_time": "2020-12-09T08:49:06.447787Z"
    }
   },
   "outputs": [],
   "source": [
    "def predict_next_day(model, loader, same=False):\n",
    "    out_columns = loader.y_cols\n",
    "    prediction = model.predict(loader.data_gen)\n",
    "    if same:\n",
    "        prediction = loader.X_scaler.inverse_transform(prediction)\n",
    "    else:\n",
    "        prediction = loader.y_scaler.inverse_transform(prediction)\n",
    "    return pd.DataFrame(prediction, columns=out_columns).iloc[[0]]"
   ]
  },
  {
   "cell_type": "code",
   "execution_count": 13,
   "metadata": {
    "ExecuteTime": {
     "end_time": "2020-12-09T07:00:08.659594Z",
     "start_time": "2020-12-09T07:00:08.651030Z"
    }
   },
   "outputs": [
    {
     "data": {
      "text/plain": [
       "0   122.720\n",
       "1   123.080\n",
       "2   122.940\n",
       "Name: AAPL_price, dtype: float64"
      ]
     },
     "execution_count": 13,
     "metadata": {},
     "output_type": "execute_result"
    }
   ],
   "source": [
    "# For predicting with n_input = 3\n",
    "# pd.DataFrame(df_cronus.iloc[-3:].values, columns=df_cronus.columns)['AAPL_price']\n",
    "# cronus_last_3_x = df_cronus.iloc[-3:].values.reshape(3, 1, cronus_loader.X_n_features)"
   ]
  },
  {
   "cell_type": "markdown",
   "metadata": {},
   "source": [
    "## Cronus"
   ]
  },
  {
   "cell_type": "markdown",
   "metadata": {},
   "source": [
    "### Predict"
   ]
  },
  {
   "cell_type": "code",
   "execution_count": 52,
   "metadata": {
    "ExecuteTime": {
     "end_time": "2020-12-09T08:25:25.473371Z",
     "start_time": "2020-12-09T08:25:25.397384Z"
    }
   },
   "outputs": [
    {
     "data": {
      "text/html": [
       "<div>\n",
       "<style scoped>\n",
       "    .dataframe tbody tr th:only-of-type {\n",
       "        vertical-align: middle;\n",
       "    }\n",
       "\n",
       "    .dataframe tbody tr th {\n",
       "        vertical-align: top;\n",
       "    }\n",
       "\n",
       "    .dataframe thead th {\n",
       "        text-align: right;\n",
       "    }\n",
       "</style>\n",
       "<table border=\"1\" class=\"dataframe\">\n",
       "  <thead>\n",
       "    <tr style=\"text-align: right;\">\n",
       "      <th></th>\n",
       "      <th>A_price</th>\n",
       "      <th>AAL_price</th>\n",
       "      <th>AAP_price</th>\n",
       "      <th>AAPL_price</th>\n",
       "      <th>ABBV_price</th>\n",
       "      <th>ABC_price</th>\n",
       "      <th>ABMD_price</th>\n",
       "      <th>ABT_price</th>\n",
       "      <th>ACN_price</th>\n",
       "      <th>ADBE_price</th>\n",
       "      <th>...</th>\n",
       "      <th>XEL_price</th>\n",
       "      <th>XLNX_price</th>\n",
       "      <th>XRAY_price</th>\n",
       "      <th>XRX_price</th>\n",
       "      <th>XYL_price</th>\n",
       "      <th>YUM_price</th>\n",
       "      <th>ZBH_price</th>\n",
       "      <th>ZBRA_price</th>\n",
       "      <th>ZION_price</th>\n",
       "      <th>ZTS_price</th>\n",
       "    </tr>\n",
       "  </thead>\n",
       "  <tbody>\n",
       "    <tr>\n",
       "      <th>0</th>\n",
       "      <td>113.065</td>\n",
       "      <td>17.149</td>\n",
       "      <td>149.624</td>\n",
       "      <td>116.892</td>\n",
       "      <td>118.141</td>\n",
       "      <td>107.262</td>\n",
       "      <td>261.113</td>\n",
       "      <td>101.617</td>\n",
       "      <td>237.196</td>\n",
       "      <td>482.882</td>\n",
       "      <td>...</td>\n",
       "      <td>67.560</td>\n",
       "      <td>153.692</td>\n",
       "      <td>60.400</td>\n",
       "      <td>20.882</td>\n",
       "      <td>93.220</td>\n",
       "      <td>112.039</td>\n",
       "      <td>156.104</td>\n",
       "      <td>401.961</td>\n",
       "      <td>43.650</td>\n",
       "      <td>169.353</td>\n",
       "    </tr>\n",
       "  </tbody>\n",
       "</table>\n",
       "<p>1 rows × 387 columns</p>\n",
       "</div>"
      ],
      "text/plain": [
       "   A_price  AAL_price  AAP_price  AAPL_price  ABBV_price  ABC_price  \\\n",
       "0  113.065     17.149    149.624     116.892     118.141    107.262   \n",
       "\n",
       "   ABMD_price  ABT_price  ACN_price  ADBE_price  ...  XEL_price  XLNX_price  \\\n",
       "0     261.113    101.617    237.196     482.882  ...     67.560     153.692   \n",
       "\n",
       "   XRAY_price  XRX_price  XYL_price  YUM_price  ZBH_price  ZBRA_price  \\\n",
       "0      60.400     20.882     93.220    112.039    156.104     401.961   \n",
       "\n",
       "   ZION_price  ZTS_price  \n",
       "0      43.650    169.353  \n",
       "\n",
       "[1 rows x 387 columns]"
      ]
     },
     "execution_count": 52,
     "metadata": {},
     "output_type": "execute_result"
    }
   ],
   "source": [
    "df_cronus_prediction = predict_next_day(cronus_model, cronus_loader)\n",
    "df_cronus_prediction.head()"
   ]
  },
  {
   "cell_type": "markdown",
   "metadata": {},
   "source": [
    "### View top"
   ]
  },
  {
   "cell_type": "code",
   "execution_count": 73,
   "metadata": {
    "ExecuteTime": {
     "end_time": "2020-12-09T08:33:45.762562Z",
     "start_time": "2020-12-09T08:33:45.746473Z"
    }
   },
   "outputs": [
    {
     "data": {
      "text/html": [
       "<div>\n",
       "<style scoped>\n",
       "    .dataframe tbody tr th:only-of-type {\n",
       "        vertical-align: middle;\n",
       "    }\n",
       "\n",
       "    .dataframe tbody tr th {\n",
       "        vertical-align: top;\n",
       "    }\n",
       "\n",
       "    .dataframe thead th {\n",
       "        text-align: right;\n",
       "    }\n",
       "</style>\n",
       "<table border=\"1\" class=\"dataframe\">\n",
       "  <thead>\n",
       "    <tr style=\"text-align: right;\">\n",
       "      <th></th>\n",
       "      <th>before</th>\n",
       "      <th>after</th>\n",
       "      <th>difference</th>\n",
       "      <th>perc</th>\n",
       "    </tr>\n",
       "  </thead>\n",
       "  <tbody>\n",
       "    <tr>\n",
       "      <th>MKC_price</th>\n",
       "      <td>93.440</td>\n",
       "      <td>112.164</td>\n",
       "      <td>18.724</td>\n",
       "      <td>20.039</td>\n",
       "    </tr>\n",
       "    <tr>\n",
       "      <th>NVDA_price</th>\n",
       "      <td>534.000</td>\n",
       "      <td>631.846</td>\n",
       "      <td>97.846</td>\n",
       "      <td>18.323</td>\n",
       "    </tr>\n",
       "    <tr>\n",
       "      <th>DAL_price</th>\n",
       "      <td>42.410</td>\n",
       "      <td>49.033</td>\n",
       "      <td>6.623</td>\n",
       "      <td>15.616</td>\n",
       "    </tr>\n",
       "    <tr>\n",
       "      <th>WFC_price</th>\n",
       "      <td>28.940</td>\n",
       "      <td>33.021</td>\n",
       "      <td>4.081</td>\n",
       "      <td>14.100</td>\n",
       "    </tr>\n",
       "    <tr>\n",
       "      <th>LH_price</th>\n",
       "      <td>202.100</td>\n",
       "      <td>230.340</td>\n",
       "      <td>28.240</td>\n",
       "      <td>13.973</td>\n",
       "    </tr>\n",
       "    <tr>\n",
       "      <th>GE_price</th>\n",
       "      <td>10.960</td>\n",
       "      <td>12.421</td>\n",
       "      <td>1.461</td>\n",
       "      <td>13.330</td>\n",
       "    </tr>\n",
       "    <tr>\n",
       "      <th>EOG_price</th>\n",
       "      <td>52.150</td>\n",
       "      <td>58.150</td>\n",
       "      <td>6.000</td>\n",
       "      <td>11.505</td>\n",
       "    </tr>\n",
       "    <tr>\n",
       "      <th>EXPE_price</th>\n",
       "      <td>126.240</td>\n",
       "      <td>140.604</td>\n",
       "      <td>14.364</td>\n",
       "      <td>11.378</td>\n",
       "    </tr>\n",
       "    <tr>\n",
       "      <th>XRAY_price</th>\n",
       "      <td>54.280</td>\n",
       "      <td>60.400</td>\n",
       "      <td>6.120</td>\n",
       "      <td>11.274</td>\n",
       "    </tr>\n",
       "    <tr>\n",
       "      <th>AMD_price</th>\n",
       "      <td>92.930</td>\n",
       "      <td>103.262</td>\n",
       "      <td>10.332</td>\n",
       "      <td>11.118</td>\n",
       "    </tr>\n",
       "  </tbody>\n",
       "</table>\n",
       "</div>"
      ],
      "text/plain": [
       "            before   after  difference   perc\n",
       "MKC_price   93.440 112.164      18.724 20.039\n",
       "NVDA_price 534.000 631.846      97.846 18.323\n",
       "DAL_price   42.410  49.033       6.623 15.616\n",
       "WFC_price   28.940  33.021       4.081 14.100\n",
       "LH_price   202.100 230.340      28.240 13.973\n",
       "GE_price    10.960  12.421       1.461 13.330\n",
       "EOG_price   52.150  58.150       6.000 11.505\n",
       "EXPE_price 126.240 140.604      14.364 11.378\n",
       "XRAY_price  54.280  60.400       6.120 11.274\n",
       "AMD_price   92.930 103.262      10.332 11.118"
      ]
     },
     "execution_count": 73,
     "metadata": {},
     "output_type": "execute_result"
    }
   ],
   "source": [
    "last_price = df_prices.iloc[[-1]]\n",
    "test_df = pd.concat([last_price, df_cronus_prediction])\n",
    "test_df.index = [0, 1]\n",
    "test_df = pd.concat([test_df, test_df.diff().dropna()])\n",
    "test_df.index = ['before', 'after', 'difference']\n",
    "test_df = test_df.transpose()\n",
    "test_df['perc'] = (test_df['difference'] / test_df['before'])*100\n",
    "cronus_pred_diff = test_df.sort_values(by='perc', ascending=False)\n",
    "cronus_pred_diff.head(10)"
   ]
  },
  {
   "cell_type": "markdown",
   "metadata": {},
   "source": [
    "## Hermes"
   ]
  },
  {
   "cell_type": "markdown",
   "metadata": {},
   "source": [
    "### Hermes predict"
   ]
  },
  {
   "cell_type": "code",
   "execution_count": 97,
   "metadata": {
    "ExecuteTime": {
     "end_time": "2020-12-09T08:41:09.875197Z",
     "start_time": "2020-12-09T08:41:09.857124Z"
    }
   },
   "outputs": [
    {
     "data": {
      "text/plain": [
       "2709"
      ]
     },
     "execution_count": 97,
     "metadata": {},
     "output_type": "execute_result"
    }
   ],
   "source": [
    "cols_to_round = ['Argus', 'TradingCentral', 'Jefferson', 'McLeanCapital',\n",
    "                 'NedDavis', 'Zacks', 'ThomsonReutersVerus']\n",
    "cols_to_round = [col for col in df_analyst.columns\n",
    "                 if col.split('_')[1] in cols_to_round]\n",
    "len(cols_to_round)"
   ]
  },
  {
   "cell_type": "code",
   "execution_count": 100,
   "metadata": {
    "ExecuteTime": {
     "end_time": "2020-12-09T08:41:35.822679Z",
     "start_time": "2020-12-09T08:41:35.052614Z"
    }
   },
   "outputs": [
    {
     "data": {
      "text/html": [
       "<div>\n",
       "<style scoped>\n",
       "    .dataframe tbody tr th:only-of-type {\n",
       "        vertical-align: middle;\n",
       "    }\n",
       "\n",
       "    .dataframe tbody tr th {\n",
       "        vertical-align: top;\n",
       "    }\n",
       "\n",
       "    .dataframe thead th {\n",
       "        text-align: right;\n",
       "    }\n",
       "</style>\n",
       "<table border=\"1\" class=\"dataframe\">\n",
       "  <thead>\n",
       "    <tr style=\"text-align: right;\">\n",
       "      <th></th>\n",
       "      <th>A_Argus</th>\n",
       "      <th>A_StarMine</th>\n",
       "      <th>A_ColumbineCapital</th>\n",
       "      <th>A_FordEquityResearch</th>\n",
       "      <th>A_ISSEVA</th>\n",
       "      <th>A_Jefferson</th>\n",
       "      <th>A_McLeanCapital</th>\n",
       "      <th>A_NedDavis</th>\n",
       "      <th>A_TradingCentral</th>\n",
       "      <th>A_Zacks</th>\n",
       "      <th>...</th>\n",
       "      <th>ZTS_McLeanCapital</th>\n",
       "      <th>ZTS_NedDavis</th>\n",
       "      <th>ZTS_TradingCentral</th>\n",
       "      <th>ZTS_Zacks</th>\n",
       "      <th>ZTS_SPValuation</th>\n",
       "      <th>ZTS_SPQuality</th>\n",
       "      <th>ZTS_SPGrowthStability</th>\n",
       "      <th>ZTS_SPFinancialHealth</th>\n",
       "      <th>ZTS_ThomsonReutersVerus</th>\n",
       "      <th>ZTS_ThomsonReutersIBES</th>\n",
       "    </tr>\n",
       "  </thead>\n",
       "  <tbody>\n",
       "    <tr>\n",
       "      <th>0</th>\n",
       "      <td>-0.000</td>\n",
       "      <td>8.385</td>\n",
       "      <td>1.002</td>\n",
       "      <td>3.137</td>\n",
       "      <td>70.406</td>\n",
       "      <td>1.000</td>\n",
       "      <td>3.000</td>\n",
       "      <td>3.000</td>\n",
       "      <td>1.000</td>\n",
       "      <td>3.000</td>\n",
       "      <td>...</td>\n",
       "      <td>3.000</td>\n",
       "      <td>3.000</td>\n",
       "      <td>3.000</td>\n",
       "      <td>3.000</td>\n",
       "      <td>86.935</td>\n",
       "      <td>86.535</td>\n",
       "      <td>62.543</td>\n",
       "      <td>79.014</td>\n",
       "      <td>3.000</td>\n",
       "      <td>2.058</td>\n",
       "    </tr>\n",
       "  </tbody>\n",
       "</table>\n",
       "<p>1 rows × 6192 columns</p>\n",
       "</div>"
      ],
      "text/plain": [
       "   A_Argus  A_StarMine  A_ColumbineCapital  A_FordEquityResearch  A_ISSEVA  \\\n",
       "0   -0.000       8.385               1.002                 3.137    70.406   \n",
       "\n",
       "   A_Jefferson  A_McLeanCapital  A_NedDavis  A_TradingCentral  A_Zacks  ...  \\\n",
       "0        1.000            3.000       3.000             1.000    3.000  ...   \n",
       "\n",
       "   ZTS_McLeanCapital  ZTS_NedDavis  ZTS_TradingCentral  ZTS_Zacks  \\\n",
       "0              3.000         3.000               3.000      3.000   \n",
       "\n",
       "   ZTS_SPValuation  ZTS_SPQuality  ZTS_SPGrowthStability  \\\n",
       "0           86.935         86.535                 62.543   \n",
       "\n",
       "   ZTS_SPFinancialHealth  ZTS_ThomsonReutersVerus  ZTS_ThomsonReutersIBES  \n",
       "0                 79.014                    3.000                   2.058  \n",
       "\n",
       "[1 rows x 6192 columns]"
      ]
     },
     "execution_count": 100,
     "metadata": {},
     "output_type": "execute_result"
    }
   ],
   "source": [
    "df_hermes_prediction = predict_next_day(hermes_model, hermes_loader)\n",
    "df_hermes_prediction[cols_to_round] = df_hermes_prediction[cols_to_round].round()\n",
    "df_hermes_prediction"
   ]
  },
  {
   "cell_type": "markdown",
   "metadata": {},
   "source": [
    "### View top"
   ]
  },
  {
   "cell_type": "code",
   "execution_count": 103,
   "metadata": {
    "ExecuteTime": {
     "end_time": "2020-12-09T08:46:28.079046Z",
     "start_time": "2020-12-09T08:46:27.792048Z"
    }
   },
   "outputs": [
    {
     "data": {
      "text/html": [
       "<div>\n",
       "<style scoped>\n",
       "    .dataframe tbody tr th:only-of-type {\n",
       "        vertical-align: middle;\n",
       "    }\n",
       "\n",
       "    .dataframe tbody tr th {\n",
       "        vertical-align: top;\n",
       "    }\n",
       "\n",
       "    .dataframe thead th {\n",
       "        text-align: right;\n",
       "    }\n",
       "</style>\n",
       "<table border=\"1\" class=\"dataframe\">\n",
       "  <thead>\n",
       "    <tr style=\"text-align: right;\">\n",
       "      <th></th>\n",
       "      <th>before</th>\n",
       "      <th>after</th>\n",
       "      <th>difference</th>\n",
       "      <th>perc</th>\n",
       "    </tr>\n",
       "  </thead>\n",
       "  <tbody>\n",
       "    <tr>\n",
       "      <th>JWN_ISSEVA</th>\n",
       "      <td>2.000</td>\n",
       "      <td>4.431</td>\n",
       "      <td>2.431</td>\n",
       "      <td>121.546</td>\n",
       "    </tr>\n",
       "    <tr>\n",
       "      <th>KMB_SPGrowthStability</th>\n",
       "      <td>2.000</td>\n",
       "      <td>4.072</td>\n",
       "      <td>2.072</td>\n",
       "      <td>103.622</td>\n",
       "    </tr>\n",
       "    <tr>\n",
       "      <th>UNP_SPGrowthStability</th>\n",
       "      <td>1.000</td>\n",
       "      <td>1.615</td>\n",
       "      <td>0.615</td>\n",
       "      <td>61.534</td>\n",
       "    </tr>\n",
       "    <tr>\n",
       "      <th>LVS_SPGrowthStability</th>\n",
       "      <td>1.000</td>\n",
       "      <td>1.571</td>\n",
       "      <td>0.571</td>\n",
       "      <td>57.088</td>\n",
       "    </tr>\n",
       "    <tr>\n",
       "      <th>MDT_SPGrowthStability</th>\n",
       "      <td>4.000</td>\n",
       "      <td>5.910</td>\n",
       "      <td>1.910</td>\n",
       "      <td>47.758</td>\n",
       "    </tr>\n",
       "    <tr>\n",
       "      <th>UNH_SPGrowthStability</th>\n",
       "      <td>3.000</td>\n",
       "      <td>4.422</td>\n",
       "      <td>1.422</td>\n",
       "      <td>47.406</td>\n",
       "    </tr>\n",
       "    <tr>\n",
       "      <th>LVS_StarMine</th>\n",
       "      <td>0.300</td>\n",
       "      <td>0.424</td>\n",
       "      <td>0.124</td>\n",
       "      <td>41.242</td>\n",
       "    </tr>\n",
       "    <tr>\n",
       "      <th>ECL_SPGrowthStability</th>\n",
       "      <td>4.000</td>\n",
       "      <td>5.586</td>\n",
       "      <td>1.586</td>\n",
       "      <td>39.660</td>\n",
       "    </tr>\n",
       "    <tr>\n",
       "      <th>UAL_StarMine</th>\n",
       "      <td>0.400</td>\n",
       "      <td>0.557</td>\n",
       "      <td>0.157</td>\n",
       "      <td>39.174</td>\n",
       "    </tr>\n",
       "    <tr>\n",
       "      <th>HP_StarMine</th>\n",
       "      <td>0.400</td>\n",
       "      <td>0.542</td>\n",
       "      <td>0.142</td>\n",
       "      <td>35.501</td>\n",
       "    </tr>\n",
       "  </tbody>\n",
       "</table>\n",
       "</div>"
      ],
      "text/plain": [
       "                       before  after  difference    perc\n",
       "JWN_ISSEVA              2.000  4.431       2.431 121.546\n",
       "KMB_SPGrowthStability   2.000  4.072       2.072 103.622\n",
       "UNP_SPGrowthStability   1.000  1.615       0.615  61.534\n",
       "LVS_SPGrowthStability   1.000  1.571       0.571  57.088\n",
       "MDT_SPGrowthStability   4.000  5.910       1.910  47.758\n",
       "UNH_SPGrowthStability   3.000  4.422       1.422  47.406\n",
       "LVS_StarMine            0.300  0.424       0.124  41.242\n",
       "ECL_SPGrowthStability   4.000  5.586       1.586  39.660\n",
       "UAL_StarMine            0.400  0.557       0.157  39.174\n",
       "HP_StarMine             0.400  0.542       0.142  35.501"
      ]
     },
     "execution_count": 103,
     "metadata": {},
     "output_type": "execute_result"
    }
   ],
   "source": [
    "last_analyst = df_analyst.iloc[[-1]]\n",
    "test_df = pd.concat([last_analyst, df_hermes_prediction])\n",
    "test_df.index = [0, 1]\n",
    "test_df = pd.concat([test_df, test_df.diff().dropna()])\n",
    "test_df.index = ['before', 'after', 'difference']\n",
    "test_df = test_df.transpose()\n",
    "test_df['perc'] = (test_df['difference'] / test_df['before'])*100\n",
    "hermes_pred_diff = test_df.sort_values(by='perc', ascending=False)\n",
    "hermes_pred_diff.loc[~hermes_pred_diff['perc'].isin([np.NaN, np.inf, -np.inf])].head(10)"
   ]
  },
  {
   "cell_type": "markdown",
   "metadata": {},
   "source": [
    "## Narcissus"
   ]
  },
  {
   "cell_type": "markdown",
   "metadata": {},
   "source": [
    "### Predict"
   ]
  },
  {
   "cell_type": "code",
   "execution_count": 107,
   "metadata": {
    "ExecuteTime": {
     "end_time": "2020-12-09T08:49:29.454231Z",
     "start_time": "2020-12-09T08:49:29.378717Z"
    }
   },
   "outputs": [
    {
     "data": {
      "text/html": [
       "<div>\n",
       "<style scoped>\n",
       "    .dataframe tbody tr th:only-of-type {\n",
       "        vertical-align: middle;\n",
       "    }\n",
       "\n",
       "    .dataframe tbody tr th {\n",
       "        vertical-align: top;\n",
       "    }\n",
       "\n",
       "    .dataframe thead th {\n",
       "        text-align: right;\n",
       "    }\n",
       "</style>\n",
       "<table border=\"1\" class=\"dataframe\">\n",
       "  <thead>\n",
       "    <tr style=\"text-align: right;\">\n",
       "      <th></th>\n",
       "      <th>A_RevenueTTM</th>\n",
       "      <th>A_TotalCash</th>\n",
       "      <th>A_ExDividendDate</th>\n",
       "      <th>A_Dividend</th>\n",
       "      <th>A_DividendYield</th>\n",
       "      <th>A_PriceToBook</th>\n",
       "      <th>A_PriceToSales</th>\n",
       "      <th>A_EnterpriseValue</th>\n",
       "      <th>A_PriceToCashFlow</th>\n",
       "      <th>A_PE</th>\n",
       "      <th>...</th>\n",
       "      <th>ZTS_PE</th>\n",
       "      <th>ZTS_ReturnonEquity</th>\n",
       "      <th>ZTS_FreeCashFlow</th>\n",
       "      <th>ZTS_TotalDebtToEquity</th>\n",
       "      <th>ZTS_PricePerformance52Weeks</th>\n",
       "      <th>ZTS_PricePerformanceYTD</th>\n",
       "      <th>ZTS_TotalReturn1Yr</th>\n",
       "      <th>ZTS_TotalReturn3Yr</th>\n",
       "      <th>ZTS_VolumeAvg90Day</th>\n",
       "      <th>ZTS_price</th>\n",
       "    </tr>\n",
       "  </thead>\n",
       "  <tbody>\n",
       "    <tr>\n",
       "      <th>0</th>\n",
       "      <td>5353.204</td>\n",
       "      <td>1444.873</td>\n",
       "      <td>20115.744</td>\n",
       "      <td>0.198</td>\n",
       "      <td>0.665</td>\n",
       "      <td>7.627</td>\n",
       "      <td>7.138</td>\n",
       "      <td>38722150400.000</td>\n",
       "      <td>37.619</td>\n",
       "      <td>56.325</td>\n",
       "      <td>...</td>\n",
       "      <td>48.472</td>\n",
       "      <td>55.151</td>\n",
       "      <td>1556.517</td>\n",
       "      <td>241.547</td>\n",
       "      <td>23.765</td>\n",
       "      <td>19.529</td>\n",
       "      <td>28.383</td>\n",
       "      <td>31.389</td>\n",
       "      <td>1.764</td>\n",
       "      <td>173.219</td>\n",
       "    </tr>\n",
       "  </tbody>\n",
       "</table>\n",
       "<p>1 rows × 7353 columns</p>\n",
       "</div>"
      ],
      "text/plain": [
       "   A_RevenueTTM  A_TotalCash  A_ExDividendDate  A_Dividend  A_DividendYield  \\\n",
       "0      5353.204     1444.873         20115.744       0.198            0.665   \n",
       "\n",
       "   A_PriceToBook  A_PriceToSales  A_EnterpriseValue  A_PriceToCashFlow   A_PE  \\\n",
       "0          7.627           7.138    38722150400.000             37.619 56.325   \n",
       "\n",
       "   ...  ZTS_PE  ZTS_ReturnonEquity  ZTS_FreeCashFlow  ZTS_TotalDebtToEquity  \\\n",
       "0  ...  48.472              55.151          1556.517                241.547   \n",
       "\n",
       "   ZTS_PricePerformance52Weeks  ZTS_PricePerformanceYTD  ZTS_TotalReturn1Yr  \\\n",
       "0                       23.765                   19.529              28.383   \n",
       "\n",
       "   ZTS_TotalReturn3Yr  ZTS_VolumeAvg90Day  ZTS_price  \n",
       "0              31.389               1.764    173.219  \n",
       "\n",
       "[1 rows x 7353 columns]"
      ]
     },
     "execution_count": 107,
     "metadata": {},
     "output_type": "execute_result"
    }
   ],
   "source": [
    "df_narcissus_prediction = predict_next_day(narcissus_model, narcissus_loader, same=True)\n",
    "df_narcissus_prediction"
   ]
  },
  {
   "cell_type": "markdown",
   "metadata": {},
   "source": [
    "### View top prices"
   ]
  },
  {
   "cell_type": "code",
   "execution_count": 117,
   "metadata": {
    "ExecuteTime": {
     "end_time": "2020-12-09T08:54:13.138464Z",
     "start_time": "2020-12-09T08:54:13.116463Z"
    }
   },
   "outputs": [
    {
     "data": {
      "text/html": [
       "<div>\n",
       "<style scoped>\n",
       "    .dataframe tbody tr th:only-of-type {\n",
       "        vertical-align: middle;\n",
       "    }\n",
       "\n",
       "    .dataframe tbody tr th {\n",
       "        vertical-align: top;\n",
       "    }\n",
       "\n",
       "    .dataframe thead th {\n",
       "        text-align: right;\n",
       "    }\n",
       "</style>\n",
       "<table border=\"1\" class=\"dataframe\">\n",
       "  <thead>\n",
       "    <tr style=\"text-align: right;\">\n",
       "      <th></th>\n",
       "      <th>A_price</th>\n",
       "      <th>AAL_price</th>\n",
       "      <th>AAP_price</th>\n",
       "      <th>AAPL_price</th>\n",
       "      <th>ABBV_price</th>\n",
       "      <th>ABC_price</th>\n",
       "      <th>ABMD_price</th>\n",
       "      <th>ABT_price</th>\n",
       "      <th>ACN_price</th>\n",
       "      <th>ADBE_price</th>\n",
       "      <th>...</th>\n",
       "      <th>XEL_price</th>\n",
       "      <th>XLNX_price</th>\n",
       "      <th>XRAY_price</th>\n",
       "      <th>XRX_price</th>\n",
       "      <th>XYL_price</th>\n",
       "      <th>YUM_price</th>\n",
       "      <th>ZBH_price</th>\n",
       "      <th>ZBRA_price</th>\n",
       "      <th>ZION_price</th>\n",
       "      <th>ZTS_price</th>\n",
       "    </tr>\n",
       "  </thead>\n",
       "  <tbody>\n",
       "    <tr>\n",
       "      <th>0</th>\n",
       "      <td>126.194</td>\n",
       "      <td>16.306</td>\n",
       "      <td>170.243</td>\n",
       "      <td>121.413</td>\n",
       "      <td>114.600</td>\n",
       "      <td>105.057</td>\n",
       "      <td>279.480</td>\n",
       "      <td>115.183</td>\n",
       "      <td>265.488</td>\n",
       "      <td>520.940</td>\n",
       "      <td>...</td>\n",
       "      <td>67.827</td>\n",
       "      <td>159.902</td>\n",
       "      <td>52.811</td>\n",
       "      <td>21.708</td>\n",
       "      <td>105.788</td>\n",
       "      <td>113.720</td>\n",
       "      <td>149.623</td>\n",
       "      <td>388.828</td>\n",
       "      <td>45.021</td>\n",
       "      <td>173.219</td>\n",
       "    </tr>\n",
       "  </tbody>\n",
       "</table>\n",
       "<p>1 rows × 387 columns</p>\n",
       "</div>"
      ],
      "text/plain": [
       "   A_price  AAL_price  AAP_price  AAPL_price  ABBV_price  ABC_price  \\\n",
       "0  126.194     16.306    170.243     121.413     114.600    105.057   \n",
       "\n",
       "   ABMD_price  ABT_price  ACN_price  ADBE_price  ...  XEL_price  XLNX_price  \\\n",
       "0     279.480    115.183    265.488     520.940  ...     67.827     159.902   \n",
       "\n",
       "   XRAY_price  XRX_price  XYL_price  YUM_price  ZBH_price  ZBRA_price  \\\n",
       "0      52.811     21.708    105.788    113.720    149.623     388.828   \n",
       "\n",
       "   ZION_price  ZTS_price  \n",
       "0      45.021    173.219  \n",
       "\n",
       "[1 rows x 387 columns]"
      ]
     },
     "execution_count": 117,
     "metadata": {},
     "output_type": "execute_result"
    }
   ],
   "source": [
    "df_narcissus_prediction_prices = \\\n",
    "    df_narcissus_prediction[[col for col in df_narcissus_prediction.columns\n",
    "                            if col.split('_')[1] == 'price']]\n",
    "df_narcissus_prediction_prices.head()"
   ]
  },
  {
   "cell_type": "code",
   "execution_count": 118,
   "metadata": {
    "ExecuteTime": {
     "end_time": "2020-12-09T08:54:38.675099Z",
     "start_time": "2020-12-09T08:54:38.651112Z"
    }
   },
   "outputs": [
    {
     "data": {
      "text/html": [
       "<div>\n",
       "<style scoped>\n",
       "    .dataframe tbody tr th:only-of-type {\n",
       "        vertical-align: middle;\n",
       "    }\n",
       "\n",
       "    .dataframe tbody tr th {\n",
       "        vertical-align: top;\n",
       "    }\n",
       "\n",
       "    .dataframe thead th {\n",
       "        text-align: right;\n",
       "    }\n",
       "</style>\n",
       "<table border=\"1\" class=\"dataframe\">\n",
       "  <thead>\n",
       "    <tr style=\"text-align: right;\">\n",
       "      <th></th>\n",
       "      <th>before</th>\n",
       "      <th>after</th>\n",
       "      <th>difference</th>\n",
       "      <th>perc</th>\n",
       "    </tr>\n",
       "  </thead>\n",
       "  <tbody>\n",
       "    <tr>\n",
       "      <th>DRI_price</th>\n",
       "      <td>111.650</td>\n",
       "      <td>127.182</td>\n",
       "      <td>15.532</td>\n",
       "      <td>13.911</td>\n",
       "    </tr>\n",
       "    <tr>\n",
       "      <th>WHR_price</th>\n",
       "      <td>185.150</td>\n",
       "      <td>209.417</td>\n",
       "      <td>24.267</td>\n",
       "      <td>13.107</td>\n",
       "    </tr>\n",
       "    <tr>\n",
       "      <th>ALGN_price</th>\n",
       "      <td>515.760</td>\n",
       "      <td>583.082</td>\n",
       "      <td>67.322</td>\n",
       "      <td>13.053</td>\n",
       "    </tr>\n",
       "    <tr>\n",
       "      <th>MOS_price</th>\n",
       "      <td>22.380</td>\n",
       "      <td>25.247</td>\n",
       "      <td>2.867</td>\n",
       "      <td>12.812</td>\n",
       "    </tr>\n",
       "    <tr>\n",
       "      <th>HOLX_price</th>\n",
       "      <td>72.770</td>\n",
       "      <td>81.817</td>\n",
       "      <td>9.047</td>\n",
       "      <td>12.433</td>\n",
       "    </tr>\n",
       "    <tr>\n",
       "      <th>WMB_price</th>\n",
       "      <td>22.100</td>\n",
       "      <td>24.819</td>\n",
       "      <td>2.719</td>\n",
       "      <td>12.301</td>\n",
       "    </tr>\n",
       "    <tr>\n",
       "      <th>MHK_price</th>\n",
       "      <td>132.770</td>\n",
       "      <td>148.706</td>\n",
       "      <td>15.936</td>\n",
       "      <td>12.003</td>\n",
       "    </tr>\n",
       "    <tr>\n",
       "      <th>MET_price</th>\n",
       "      <td>47.520</td>\n",
       "      <td>53.121</td>\n",
       "      <td>5.601</td>\n",
       "      <td>11.786</td>\n",
       "    </tr>\n",
       "    <tr>\n",
       "      <th>LB_price</th>\n",
       "      <td>40.960</td>\n",
       "      <td>45.738</td>\n",
       "      <td>4.778</td>\n",
       "      <td>11.664</td>\n",
       "    </tr>\n",
       "    <tr>\n",
       "      <th>EXPE_price</th>\n",
       "      <td>126.240</td>\n",
       "      <td>140.881</td>\n",
       "      <td>14.641</td>\n",
       "      <td>11.598</td>\n",
       "    </tr>\n",
       "  </tbody>\n",
       "</table>\n",
       "</div>"
      ],
      "text/plain": [
       "            before   after  difference   perc\n",
       "DRI_price  111.650 127.182      15.532 13.911\n",
       "WHR_price  185.150 209.417      24.267 13.107\n",
       "ALGN_price 515.760 583.082      67.322 13.053\n",
       "MOS_price   22.380  25.247       2.867 12.812\n",
       "HOLX_price  72.770  81.817       9.047 12.433\n",
       "WMB_price   22.100  24.819       2.719 12.301\n",
       "MHK_price  132.770 148.706      15.936 12.003\n",
       "MET_price   47.520  53.121       5.601 11.786\n",
       "LB_price    40.960  45.738       4.778 11.664\n",
       "EXPE_price 126.240 140.881      14.641 11.598"
      ]
     },
     "execution_count": 118,
     "metadata": {},
     "output_type": "execute_result"
    }
   ],
   "source": [
    "last_price = df_prices.iloc[[-1]]\n",
    "test_df = pd.concat([last_price, df_narcissus_prediction_prices])\n",
    "test_df.index = [0, 1]\n",
    "test_df = pd.concat([test_df, test_df.diff().dropna()])\n",
    "test_df.index = ['before', 'after', 'difference']\n",
    "test_df = test_df.transpose()\n",
    "test_df['perc'] = (test_df['difference'] / test_df['before'])*100\n",
    "narcissus_pred_diff = test_df.sort_values(by='perc', ascending=False)\n",
    "narcissus_pred_diff.head(10)"
   ]
  },
  {
   "cell_type": "markdown",
   "metadata": {},
   "source": [
    "## Total Prediction"
   ]
  },
  {
   "cell_type": "code",
   "execution_count": 207,
   "metadata": {
    "ExecuteTime": {
     "end_time": "2020-12-09T09:28:21.598268Z",
     "start_time": "2020-12-09T09:28:21.567269Z"
    }
   },
   "outputs": [
    {
     "data": {
      "text/html": [
       "<div>\n",
       "<style scoped>\n",
       "    .dataframe tbody tr th:only-of-type {\n",
       "        vertical-align: middle;\n",
       "    }\n",
       "\n",
       "    .dataframe tbody tr th {\n",
       "        vertical-align: top;\n",
       "    }\n",
       "\n",
       "    .dataframe thead th {\n",
       "        text-align: right;\n",
       "    }\n",
       "</style>\n",
       "<table border=\"1\" class=\"dataframe\">\n",
       "  <thead>\n",
       "    <tr style=\"text-align: right;\">\n",
       "      <th></th>\n",
       "      <th>before</th>\n",
       "      <th>after_n</th>\n",
       "      <th>difference_n</th>\n",
       "      <th>perc_n</th>\n",
       "      <th>after_c</th>\n",
       "      <th>difference_c</th>\n",
       "      <th>perc_c</th>\n",
       "      <th>difference_mean</th>\n",
       "      <th>perc_mean</th>\n",
       "      <th>both_pos</th>\n",
       "    </tr>\n",
       "    <tr>\n",
       "      <th>sym</th>\n",
       "      <th></th>\n",
       "      <th></th>\n",
       "      <th></th>\n",
       "      <th></th>\n",
       "      <th></th>\n",
       "      <th></th>\n",
       "      <th></th>\n",
       "      <th></th>\n",
       "      <th></th>\n",
       "      <th></th>\n",
       "    </tr>\n",
       "  </thead>\n",
       "  <tbody>\n",
       "    <tr>\n",
       "      <th>NVDA_price</th>\n",
       "      <td>534.000</td>\n",
       "      <td>579.100</td>\n",
       "      <td>45.100</td>\n",
       "      <td>8.450</td>\n",
       "      <td>631.850</td>\n",
       "      <td>97.850</td>\n",
       "      <td>18.320</td>\n",
       "      <td>71.470</td>\n",
       "      <td>13.380</td>\n",
       "      <td>True</td>\n",
       "    </tr>\n",
       "    <tr>\n",
       "      <th>EXPE_price</th>\n",
       "      <td>126.240</td>\n",
       "      <td>140.880</td>\n",
       "      <td>14.640</td>\n",
       "      <td>11.600</td>\n",
       "      <td>140.600</td>\n",
       "      <td>14.360</td>\n",
       "      <td>11.380</td>\n",
       "      <td>14.500</td>\n",
       "      <td>11.490</td>\n",
       "      <td>True</td>\n",
       "    </tr>\n",
       "    <tr>\n",
       "      <th>HOLX_price</th>\n",
       "      <td>72.770</td>\n",
       "      <td>81.820</td>\n",
       "      <td>9.050</td>\n",
       "      <td>12.430</td>\n",
       "      <td>79.900</td>\n",
       "      <td>7.130</td>\n",
       "      <td>9.800</td>\n",
       "      <td>8.090</td>\n",
       "      <td>11.120</td>\n",
       "      <td>True</td>\n",
       "    </tr>\n",
       "    <tr>\n",
       "      <th>MKC_price</th>\n",
       "      <td>93.440</td>\n",
       "      <td>94.580</td>\n",
       "      <td>1.140</td>\n",
       "      <td>1.220</td>\n",
       "      <td>112.160</td>\n",
       "      <td>18.720</td>\n",
       "      <td>20.040</td>\n",
       "      <td>9.930</td>\n",
       "      <td>10.630</td>\n",
       "      <td>True</td>\n",
       "    </tr>\n",
       "    <tr>\n",
       "      <th>DE_price</th>\n",
       "      <td>252.600</td>\n",
       "      <td>277.960</td>\n",
       "      <td>25.360</td>\n",
       "      <td>10.040</td>\n",
       "      <td>279.350</td>\n",
       "      <td>26.750</td>\n",
       "      <td>10.590</td>\n",
       "      <td>26.050</td>\n",
       "      <td>10.310</td>\n",
       "      <td>True</td>\n",
       "    </tr>\n",
       "  </tbody>\n",
       "</table>\n",
       "</div>"
      ],
      "text/plain": [
       "            before  after_n  difference_n  perc_n  after_c  difference_c  \\\n",
       "sym                                                                        \n",
       "NVDA_price 534.000  579.100        45.100   8.450  631.850        97.850   \n",
       "EXPE_price 126.240  140.880        14.640  11.600  140.600        14.360   \n",
       "HOLX_price  72.770   81.820         9.050  12.430   79.900         7.130   \n",
       "MKC_price   93.440   94.580         1.140   1.220  112.160        18.720   \n",
       "DE_price   252.600  277.960        25.360  10.040  279.350        26.750   \n",
       "\n",
       "            perc_c  difference_mean  perc_mean  both_pos  \n",
       "sym                                                       \n",
       "NVDA_price  18.320           71.470     13.380      True  \n",
       "EXPE_price  11.380           14.500     11.490      True  \n",
       "HOLX_price   9.800            8.090     11.120      True  \n",
       "MKC_price   20.040            9.930     10.630      True  \n",
       "DE_price    10.590           26.050     10.310      True  "
      ]
     },
     "execution_count": 207,
     "metadata": {},
     "output_type": "execute_result"
    }
   ],
   "source": [
    "pred_diff = narcissus_pred_diff.reset_index().merge(cronus_pred_diff.reset_index(),\n",
    "                                                    on=['index', 'before'],\n",
    "                                                    suffixes=('_n', '_c'))\n",
    "pred_diff['sym'] = pred_diff['index']\n",
    "pred_diff.drop('index', inplace=True, axis=1)\n",
    "pred_diff = pred_diff.set_index('sym', drop=True)\n",
    "pred_diff['difference_mean'] = pred_diff[['difference_c', 'difference_n']].transpose().mean()\n",
    "pred_diff['perc_mean'] = pred_diff[['perc_c', 'perc_n']].transpose().mean()\n",
    "pred_diff['both_pos'] = pd.concat([pred_diff['perc_n'] > 0, pred_diff['perc_c'] > 0], axis=1).transpose().all()\n",
    "pred_diff = pred_diff.sort_values(by=['perc_mean'], ascending=False)\n",
    "pred_diff = pred_diff.round(2)\n",
    "pred_diff.head()"
   ]
  },
  {
   "cell_type": "code",
   "execution_count": 208,
   "metadata": {
    "ExecuteTime": {
     "end_time": "2020-12-09T09:28:22.200888Z",
     "start_time": "2020-12-09T09:28:22.182095Z"
    }
   },
   "outputs": [
    {
     "data": {
      "text/html": [
       "<div>\n",
       "<style scoped>\n",
       "    .dataframe tbody tr th:only-of-type {\n",
       "        vertical-align: middle;\n",
       "    }\n",
       "\n",
       "    .dataframe tbody tr th {\n",
       "        vertical-align: top;\n",
       "    }\n",
       "\n",
       "    .dataframe thead th {\n",
       "        text-align: right;\n",
       "    }\n",
       "</style>\n",
       "<table border=\"1\" class=\"dataframe\">\n",
       "  <thead>\n",
       "    <tr style=\"text-align: right;\">\n",
       "      <th></th>\n",
       "      <th>0</th>\n",
       "    </tr>\n",
       "  </thead>\n",
       "  <tbody>\n",
       "    <tr>\n",
       "      <th>NVDA</th>\n",
       "      <td>+ %13.38</td>\n",
       "    </tr>\n",
       "    <tr>\n",
       "      <th>EXPE</th>\n",
       "      <td>+ %11.49</td>\n",
       "    </tr>\n",
       "    <tr>\n",
       "      <th>HOLX</th>\n",
       "      <td>+ %11.12</td>\n",
       "    </tr>\n",
       "    <tr>\n",
       "      <th>MKC</th>\n",
       "      <td>+ %10.63</td>\n",
       "    </tr>\n",
       "    <tr>\n",
       "      <th>DE</th>\n",
       "      <td>+ %10.31</td>\n",
       "    </tr>\n",
       "    <tr>\n",
       "      <th>SWKS</th>\n",
       "      <td>+ %9.55</td>\n",
       "    </tr>\n",
       "    <tr>\n",
       "      <th>ALGN</th>\n",
       "      <td>+ %9.28</td>\n",
       "    </tr>\n",
       "    <tr>\n",
       "      <th>MOS</th>\n",
       "      <td>+ %9.24</td>\n",
       "    </tr>\n",
       "    <tr>\n",
       "      <th>LB</th>\n",
       "      <td>+ %8.96</td>\n",
       "    </tr>\n",
       "    <tr>\n",
       "      <th>EOG</th>\n",
       "      <td>+ %8.87</td>\n",
       "    </tr>\n",
       "    <tr>\n",
       "      <th>FTV</th>\n",
       "      <td>+ %8.85</td>\n",
       "    </tr>\n",
       "    <tr>\n",
       "      <th>DRI</th>\n",
       "      <td>+ %8.85</td>\n",
       "    </tr>\n",
       "    <tr>\n",
       "      <th>FCX</th>\n",
       "      <td>+ %8.76</td>\n",
       "    </tr>\n",
       "    <tr>\n",
       "      <th>DAL</th>\n",
       "      <td>+ %8.7</td>\n",
       "    </tr>\n",
       "    <tr>\n",
       "      <th>CAT</th>\n",
       "      <td>+ %8.23</td>\n",
       "    </tr>\n",
       "    <tr>\n",
       "      <th>TGT</th>\n",
       "      <td>+ %8.23</td>\n",
       "    </tr>\n",
       "    <tr>\n",
       "      <th>FTNT</th>\n",
       "      <td>+ %8.2</td>\n",
       "    </tr>\n",
       "    <tr>\n",
       "      <th>AMAT</th>\n",
       "      <td>+ %8.18</td>\n",
       "    </tr>\n",
       "    <tr>\n",
       "      <th>PAYC</th>\n",
       "      <td>+ %8.1</td>\n",
       "    </tr>\n",
       "    <tr>\n",
       "      <th>ABBV</th>\n",
       "      <td>+ %8.06</td>\n",
       "    </tr>\n",
       "  </tbody>\n",
       "</table>\n",
       "</div>"
      ],
      "text/plain": [
       "             0\n",
       "NVDA  + %13.38\n",
       "EXPE  + %11.49\n",
       "HOLX  + %11.12\n",
       "MKC   + %10.63\n",
       "DE    + %10.31\n",
       "SWKS   + %9.55\n",
       "ALGN   + %9.28\n",
       "MOS    + %9.24\n",
       "LB     + %8.96\n",
       "EOG    + %8.87\n",
       "FTV    + %8.85\n",
       "DRI    + %8.85\n",
       "FCX    + %8.76\n",
       "DAL     + %8.7\n",
       "CAT    + %8.23\n",
       "TGT    + %8.23\n",
       "FTNT    + %8.2\n",
       "AMAT   + %8.18\n",
       "PAYC    + %8.1\n",
       "ABBV   + %8.06"
      ]
     },
     "execution_count": 208,
     "metadata": {},
     "output_type": "execute_result"
    }
   ],
   "source": [
    "top_predictions = pred_diff.loc[pred_diff['both_pos']].sort_values(\n",
    "                    by=['perc_mean'], ascending=False).head(20)\n",
    "pretty_predictions = {}\n",
    "for idx, row in top_predictions.iterrows():\n",
    "    sym = idx.split('_')[0]\n",
    "    pred_up = round(row['perc_mean'], 2)\n",
    "    pretty_predictions[sym] = f\"+ %{pred_up}\"\n",
    "pd.DataFrame(pd.Series(pretty_predictions))"
   ]
  },
  {
   "cell_type": "code",
   "execution_count": 209,
   "metadata": {
    "ExecuteTime": {
     "end_time": "2020-12-09T09:28:22.531340Z",
     "start_time": "2020-12-09T09:28:22.511340Z"
    }
   },
   "outputs": [],
   "source": [
    "today = time.strftime(\"%m-%d-%Y\")\n",
    "pred_diff.to_pickle(\"./predictions/pred-%s.pkl\" % today)\n",
    "pred_diff.to_csv(\"./predictions/pred-%s.csv\" % today)"
   ]
  },
  {
   "cell_type": "code",
   "execution_count": 212,
   "metadata": {
    "ExecuteTime": {
     "end_time": "2020-12-09T09:29:12.864155Z",
     "start_time": "2020-12-09T09:29:12.851156Z"
    }
   },
   "outputs": [
    {
     "data": {
      "text/plain": [
       "False   0.576\n",
       "True    0.424\n",
       "Name: both_pos, dtype: float64"
      ]
     },
     "execution_count": 212,
     "metadata": {},
     "output_type": "execute_result"
    }
   ],
   "source": [
    "pred_diff['both_pos'].value_counts(normalize=True)"
   ]
  },
  {
   "cell_type": "code",
   "execution_count": null,
   "metadata": {},
   "outputs": [],
   "source": []
  }
 ],
 "metadata": {
  "kernelspec": {
   "display_name": "Python 3",
   "language": "python",
   "name": "python3"
  },
  "language_info": {
   "codemirror_mode": {
    "name": "ipython",
    "version": 3
   },
   "file_extension": ".py",
   "mimetype": "text/x-python",
   "name": "python",
   "nbconvert_exporter": "python",
   "pygments_lexer": "ipython3",
   "version": "3.7.9"
  },
  "toc": {
   "base_numbering": 1,
   "nav_menu": {},
   "number_sections": true,
   "sideBar": true,
   "skip_h1_title": false,
   "title_cell": "Table of Contents",
   "title_sidebar": "Contents",
   "toc_cell": true,
   "toc_position": {
    "height": "calc(100% - 180px)",
    "left": "10px",
    "top": "150px",
    "width": "271.094px"
   },
   "toc_section_display": true,
   "toc_window_display": true
  }
 },
 "nbformat": 4,
 "nbformat_minor": 4
}
