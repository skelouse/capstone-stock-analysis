{
 "cells": [
  {
   "cell_type": "markdown",
   "metadata": {
    "toc": true
   },
   "source": [
    "<h1>Table of Contents<span class=\"tocSkip\"></span></h1>\n",
    "<div class=\"toc\"><ul class=\"toc-item\"></ul></div>"
   ]
  },
  {
   "cell_type": "code",
   "execution_count": 1,
   "metadata": {},
   "outputs": [],
   "source": [
    "import os\n",
    "import sys\n",
    "import time\n",
    "import datetime\n",
    "import importlib\n",
    "import numpy as np\n",
    "import pandas as pd\n",
    "import tensorflow as tf\n",
    "import matplotlib.pyplot as plt\n",
    "\n",
    "from sklearn.preprocessing import MinMaxScaler\n",
    "from sklearn.metrics import r2_score\n",
    "\n",
    "from tensorflow.keras.models import Sequential\n",
    "from tensorflow.keras.callbacks import EarlyStopping\n",
    "from tensorflow.keras.layers import Dense, Dropout, LSTM, Embedding\n",
    "# from tensorflow.keras.regularizers import l2, l1\n",
    "from tensorflow.keras.preprocessing import sequence\n"
   ]
  },
  {
   "cell_type": "code",
   "execution_count": 2,
   "metadata": {},
   "outputs": [],
   "source": [
    "from sklearn.metrics import make_scorer\n",
    "from sklearn.model_selection import GridSearchCV\n",
    "from tensorflow.keras.wrappers.scikit_learn import KerasRegressor"
   ]
  },
  {
   "cell_type": "code",
   "execution_count": 3,
   "metadata": {},
   "outputs": [],
   "source": [
    "# def calc_score(y_true, y_pred):\n",
    "#     # calculate score here\n",
    "#     # need to round or get argmax\n",
    "#     return score\n",
    "\n",
    "# model = Kerasclassifier(build)  # this would create the model\n",
    "\n",
    "# # overwrite the fit\n",
    "# model.fit()\n",
    "\n",
    "# from sklearn.model_selection import GridSearchCV\n",
    "\n",
    "# GridSearchCV(scoring=make_scorer(calc_score))\n",
    "\n",
    "# params = dict(\n",
    "#     input_neurons=64\n",
    "\n",
    "#     # also arguments for .fit(epochs, batch_size, etc)\n",
    "# )"
   ]
  },
  {
   "cell_type": "code",
   "execution_count": 5,
   "metadata": {},
   "outputs": [],
   "source": [
    "from sklearn.base import BaseEstimator"
   ]
  },
  {
   "cell_type": "code",
   "execution_count": 38,
   "metadata": {},
   "outputs": [],
   "source": [
    "class Sequential2(Sequential):\n",
    "    def predict(self, **kwargs):\n",
    "        print(\"predicting with:\", kwargs)\n",
    "        return super(Sequential2, self).predict(**kwargs)"
   ]
  },
  {
   "cell_type": "code",
   "execution_count": 40,
   "metadata": {},
   "outputs": [],
   "source": [
    "class NetworkRegressor(BaseEstimator):\n",
    "    def __init__(self, test=5):\n",
    "        self.test=test\n",
    "        self.build(test=test)\n",
    "        \n",
    "    def predict(self, **args):\n",
    "        print(\"Predicting with:\", args)\n",
    "        \n",
    "    def build(self, **args):\n",
    "        print(\"Building model with args:\", args)\n",
    "        # create model\n",
    "        model = Sequential2()\n",
    "        model.add(Dense(12, input_dim=8, activation='relu'))\n",
    "        model.add(Dense(8, activation='relu'))\n",
    "        model.add(Dense(1, activation='sigmoid'))\n",
    "        # Compile model\n",
    "        model.compile(loss='binary_crossentropy', optimizer='adam', metrics=['accuracy'])\n",
    "        return model\n",
    "    def fit(self, *args):\n",
    "        print('fitting')\n",
    "        print('fit args:', args)\n",
    "        #return super(self, fit)\n",
    "    def score(self, *args):\n",
    "        print('scoring with args:', args)\n",
    "        return 1"
   ]
  },
  {
   "cell_type": "code",
   "execution_count": 41,
   "metadata": {},
   "outputs": [
    {
     "name": "stdout",
     "output_type": "stream",
     "text": [
      "Building model with args: {'test': 5}\n"
     ]
    },
    {
     "data": {
      "text/plain": [
       "NetworkRegressor()"
      ]
     },
     "execution_count": 41,
     "metadata": {},
     "output_type": "execute_result"
    }
   ],
   "source": [
    "NetworkRegressor()"
   ]
  },
  {
   "cell_type": "code",
   "execution_count": 42,
   "metadata": {},
   "outputs": [],
   "source": [
    "params = {\n",
    "    'test': [1, 2, 3]\n",
    "}"
   ]
  },
  {
   "cell_type": "code",
   "execution_count": 43,
   "metadata": {},
   "outputs": [
    {
     "name": "stdout",
     "output_type": "stream",
     "text": [
      "Building model with args: {'test': 5}\n"
     ]
    }
   ],
   "source": [
    "test = NetworkRegressor()\n",
    "grid_search = GridSearchCV(test, params, verbose=2)"
   ]
  },
  {
   "cell_type": "code",
   "execution_count": 44,
   "metadata": {},
   "outputs": [],
   "source": [
    "x = [1, 2, 3, 4, 5, 6, 7, 8]\n",
    "y = [4, 5, 6, 7, 8, 9, 10, 11]"
   ]
  },
  {
   "cell_type": "code",
   "execution_count": 45,
   "metadata": {
    "scrolled": true
   },
   "outputs": [
    {
     "name": "stdout",
     "output_type": "stream",
     "text": [
      "Building model with args: {'test': 5}\n",
      "Fitting 5 folds for each of 3 candidates, totalling 15 fits\n",
      "Building model with args: {'test': 5}\n",
      "[CV] test=1 ..........................................................\n",
      "fitting\n",
      "fit args: ([3, 4, 5, 6, 7, 8], [6, 7, 8, 9, 10, 11])\n",
      "scoring with args: ([1, 2], [4, 5])\n",
      "[CV] ........................................... test=1, total=   0.0s\n",
      "Building model with args: {'test': 5}\n",
      "[CV] test=1 ..........................................................\n",
      "fitting\n",
      "fit args: ([1, 2, 5, 6, 7, 8], [4, 5, 8, 9, 10, 11])\n",
      "scoring with args: ([3, 4], [6, 7])\n",
      "[CV] ........................................... test=1, total=   0.0s\n",
      "Building model with args: {'test': 5}\n",
      "[CV] test=1 ..........................................................\n",
      "fitting\n",
      "fit args: ([1, 2, 3, 4, 7, 8], [4, 5, 6, 7, 10, 11])\n",
      "scoring with args: ([5, 6], [8, 9])\n",
      "[CV] ........................................... test=1, total=   0.0s\n",
      "Building model with args: {'test': 5}\n",
      "[CV] test=1 ..........................................................\n",
      "fitting\n",
      "fit args: ([1, 2, 3, 4, 5, 6, 8], [4, 5, 6, 7, 8, 9, 11])\n",
      "scoring with args: ([7], [10])\n",
      "[CV] ........................................... test=1, total=   0.0s\n",
      "Building model with args: {'test': 5}\n",
      "[CV] test=1 ..........................................................\n",
      "fitting\n",
      "fit args: ([1, 2, 3, 4, 5, 6, 7], [4, 5, 6, 7, 8, 9, 10])\n",
      "scoring with args: ([8], [11])\n",
      "[CV] ........................................... test=1, total=   0.0s\n",
      "Building model with args: {'test': 5}\n"
     ]
    },
    {
     "name": "stderr",
     "output_type": "stream",
     "text": [
      "[Parallel(n_jobs=1)]: Using backend SequentialBackend with 1 concurrent workers.\n",
      "[Parallel(n_jobs=1)]: Done   1 out of   1 | elapsed:    0.0s remaining:    0.0s\n"
     ]
    },
    {
     "name": "stdout",
     "output_type": "stream",
     "text": [
      "[CV] test=2 ..........................................................\n",
      "fitting\n",
      "fit args: ([3, 4, 5, 6, 7, 8], [6, 7, 8, 9, 10, 11])\n",
      "scoring with args: ([1, 2], [4, 5])\n",
      "[CV] ........................................... test=2, total=   0.0s\n",
      "Building model with args: {'test': 5}\n",
      "[CV] test=2 ..........................................................\n",
      "fitting\n",
      "fit args: ([1, 2, 5, 6, 7, 8], [4, 5, 8, 9, 10, 11])\n",
      "scoring with args: ([3, 4], [6, 7])\n",
      "[CV] ........................................... test=2, total=   0.0s\n",
      "Building model with args: {'test': 5}\n",
      "[CV] test=2 ..........................................................\n",
      "fitting\n",
      "fit args: ([1, 2, 3, 4, 7, 8], [4, 5, 6, 7, 10, 11])\n",
      "scoring with args: ([5, 6], [8, 9])\n",
      "[CV] ........................................... test=2, total=   0.0s\n",
      "Building model with args: {'test': 5}\n",
      "[CV] test=2 ..........................................................\n",
      "fitting\n",
      "fit args: ([1, 2, 3, 4, 5, 6, 8], [4, 5, 6, 7, 8, 9, 11])\n",
      "scoring with args: ([7], [10])\n",
      "[CV] ........................................... test=2, total=   0.0s\n",
      "Building model with args: {'test': 5}\n",
      "[CV] test=2 ..........................................................\n",
      "fitting\n",
      "fit args: ([1, 2, 3, 4, 5, 6, 7], [4, 5, 6, 7, 8, 9, 10])\n",
      "scoring with args: ([8], [11])\n",
      "[CV] ........................................... test=2, total=   0.0s\n",
      "Building model with args: {'test': 5}\n",
      "[CV] test=3 ..........................................................\n",
      "fitting\n",
      "fit args: ([3, 4, 5, 6, 7, 8], [6, 7, 8, 9, 10, 11])\n",
      "scoring with args: ([1, 2], [4, 5])\n",
      "[CV] ........................................... test=3, total=   0.0s\n",
      "Building model with args: {'test': 5}\n",
      "[CV] test=3 ..........................................................\n",
      "fitting\n",
      "fit args: ([1, 2, 5, 6, 7, 8], [4, 5, 8, 9, 10, 11])\n",
      "scoring with args: ([3, 4], [6, 7])\n",
      "[CV] ........................................... test=3, total=   0.0s\n",
      "Building model with args: {'test': 5}\n",
      "[CV] test=3 ..........................................................\n",
      "fitting\n",
      "fit args: ([1, 2, 3, 4, 7, 8], [4, 5, 6, 7, 10, 11])\n",
      "scoring with args: ([5, 6], [8, 9])\n",
      "[CV] ........................................... test=3, total=   0.0s\n",
      "Building model with args: {'test': 5}\n",
      "[CV] test=3 ..........................................................\n",
      "fitting\n",
      "fit args: ([1, 2, 3, 4, 5, 6, 8], [4, 5, 6, 7, 8, 9, 11])\n",
      "scoring with args: ([7], [10])\n",
      "[CV] ........................................... test=3, total=   0.0s\n",
      "Building model with args: {'test': 5}\n",
      "[CV] test=3 ..........................................................\n",
      "fitting\n",
      "fit args: ([1, 2, 3, 4, 5, 6, 7], [4, 5, 6, 7, 8, 9, 10])\n",
      "scoring with args: ([8], [11])\n",
      "[CV] ........................................... test=3, total=   0.0s\n",
      "Building model with args: {'test': 5}\n",
      "Building model with args: {'test': 1}\n",
      "fitting\n",
      "fit args: ([1, 2, 3, 4, 5, 6, 7, 8], [4, 5, 6, 7, 8, 9, 10, 11])\n"
     ]
    },
    {
     "name": "stderr",
     "output_type": "stream",
     "text": [
      "[Parallel(n_jobs=1)]: Done  15 out of  15 | elapsed:    0.3s finished\n"
     ]
    },
    {
     "data": {
      "text/plain": [
       "GridSearchCV(estimator=NetworkRegressor(), param_grid={'test': [1, 2, 3]},\n",
       "             verbose=2)"
      ]
     },
     "execution_count": 45,
     "metadata": {},
     "output_type": "execute_result"
    }
   ],
   "source": [
    "grid_search.fit(x, y)"
   ]
  },
  {
   "cell_type": "code",
   "execution_count": null,
   "metadata": {},
   "outputs": [],
   "source": []
  }
 ],
 "metadata": {
  "kernelspec": {
   "display_name": "Python 3",
   "language": "python",
   "name": "python3"
  },
  "language_info": {
   "codemirror_mode": {
    "name": "ipython",
    "version": 3
   },
   "file_extension": ".py",
   "mimetype": "text/x-python",
   "name": "python",
   "nbconvert_exporter": "python",
   "pygments_lexer": "ipython3",
   "version": "3.7.9"
  },
  "toc": {
   "base_numbering": 1,
   "nav_menu": {},
   "number_sections": true,
   "sideBar": true,
   "skip_h1_title": false,
   "title_cell": "Table of Contents",
   "title_sidebar": "Contents",
   "toc_cell": true,
   "toc_position": {},
   "toc_section_display": true,
   "toc_window_display": false
  }
 },
 "nbformat": 4,
 "nbformat_minor": 4
}
