{
 "cells": [
  {
   "cell_type": "markdown",
   "metadata": {
    "toc": true
   },
   "source": [
    "<h1>Table of Contents<span class=\"tocSkip\"></span></h1>\n",
    "<div class=\"toc\"><ul class=\"toc-item\"><li><span><a href=\"#Intro\" data-toc-modified-id=\"Intro-1\"><span class=\"toc-item-num\">1&nbsp;&nbsp;</span>Intro</a></span><ul class=\"toc-item\"><li><span><a href=\"#Presets\" data-toc-modified-id=\"Presets-1.1\"><span class=\"toc-item-num\">1.1&nbsp;&nbsp;</span>Presets</a></span></li><li><span><a href=\"#Style,-imports,-and-data\" data-toc-modified-id=\"Style,-imports,-and-data-1.2\"><span class=\"toc-item-num\">1.2&nbsp;&nbsp;</span>Style, imports, and data</a></span></li><li><span><a href=\"#GPU\" data-toc-modified-id=\"GPU-1.3\"><span class=\"toc-item-num\">1.3&nbsp;&nbsp;</span>GPU</a></span></li></ul></li><li><span><a href=\"#Model\" data-toc-modified-id=\"Model-2\"><span class=\"toc-item-num\">2&nbsp;&nbsp;</span>Model</a></span><ul class=\"toc-item\"><li><span><a href=\"#Functions\" data-toc-modified-id=\"Functions-2.1\"><span class=\"toc-item-num\">2.1&nbsp;&nbsp;</span>Functions</a></span></li><li><span><a href=\"#Load-data-(freeze-this-and-read-series-of-pickles)\" data-toc-modified-id=\"Load-data-(freeze-this-and-read-series-of-pickles)-2.2\"><span class=\"toc-item-num\">2.2&nbsp;&nbsp;</span>Load data (freeze this and read series of pickles)</a></span></li><li><span><a href=\"#Modeling\" data-toc-modified-id=\"Modeling-2.3\"><span class=\"toc-item-num\">2.3&nbsp;&nbsp;</span>Modeling</a></span></li></ul></li></ul></div>"
   ]
  },
  {
   "cell_type": "markdown",
   "metadata": {},
   "source": [
    "# Intro"
   ]
  },
  {
   "cell_type": "markdown",
   "metadata": {},
   "source": [
    "## Presets"
   ]
  },
  {
   "cell_type": "code",
   "execution_count": 1,
   "metadata": {
    "ExecuteTime": {
     "end_time": "2020-11-30T03:14:37.547144Z",
     "start_time": "2020-11-30T03:14:37.538144Z"
    }
   },
   "outputs": [],
   "source": [
    "USE_GPU = True\n",
    "IGNORE_WARN = True\n",
    "SEED = 42"
   ]
  },
  {
   "cell_type": "markdown",
   "metadata": {},
   "source": [
    "## Style, imports, and data"
   ]
  },
  {
   "cell_type": "code",
   "execution_count": 2,
   "metadata": {
    "ExecuteTime": {
     "end_time": "2020-11-30T03:14:38.147792Z",
     "start_time": "2020-11-30T03:14:37.894086Z"
    }
   },
   "outputs": [],
   "source": [
    "import warnings\n",
    "import matplotlib as mpl\n",
    "mpl.rcParams['axes.titlesize']='xx-large'\n",
    "mpl.rcParams['xtick.labelsize'] = 13\n",
    "mpl.rcParams['ytick.labelsize'] = 13\n",
    "mpl.rcParams['axes.labelsize'] = 16\n",
    "if IGNORE_WARN:\n",
    "    warnings.filterwarnings('ignore')"
   ]
  },
  {
   "cell_type": "code",
   "execution_count": 3,
   "metadata": {
    "ExecuteTime": {
     "end_time": "2020-11-30T03:14:38.819700Z",
     "start_time": "2020-11-30T03:14:38.148798Z"
    }
   },
   "outputs": [],
   "source": [
    "import os\n",
    "import time\n",
    "import pandas as pd\n",
    "import numpy as np\n",
    "import matplotlib.pyplot as plt\n",
    "import datetime\n",
    "pd.set_option('display.float_format', lambda x: '%.3f' % x)"
   ]
  },
  {
   "cell_type": "code",
   "execution_count": 4,
   "metadata": {
    "ExecuteTime": {
     "end_time": "2020-11-30T03:14:42.152065Z",
     "start_time": "2020-11-30T03:14:38.820706Z"
    }
   },
   "outputs": [],
   "source": [
    "import numpy as np\n",
    "np.random.seed(SEED)\n",
    "\n",
    "import tensorflow as tf\n",
    "tf.random.set_seed(SEED)"
   ]
  },
  {
   "cell_type": "code",
   "execution_count": 5,
   "metadata": {
    "ExecuteTime": {
     "end_time": "2020-11-30T03:14:42.168066Z",
     "start_time": "2020-11-30T03:14:42.153066Z"
    }
   },
   "outputs": [],
   "source": [
    "import importlib\n",
    "import sys"
   ]
  },
  {
   "cell_type": "code",
   "execution_count": 6,
   "metadata": {
    "ExecuteTime": {
     "end_time": "2020-11-30T03:14:42.694067Z",
     "start_time": "2020-11-30T03:14:42.169066Z"
    }
   },
   "outputs": [],
   "source": [
    "from sklearn.preprocessing import MinMaxScaler\n",
    "\n",
    "from tensorflow.keras.models import Sequential\n",
    "from tensorflow.keras.callbacks import EarlyStopping\n",
    "from tensorflow.keras.layers import Dense, Dropout, LSTM, Embedding\n",
    "# from tensorflow.keras.regularizers import l2, l1"
   ]
  },
  {
   "cell_type": "markdown",
   "metadata": {},
   "source": [
    "## GPU"
   ]
  },
  {
   "cell_type": "code",
   "execution_count": 7,
   "metadata": {
    "ExecuteTime": {
     "end_time": "2020-11-30T03:14:42.931313Z",
     "start_time": "2020-11-30T03:14:42.695067Z"
    }
   },
   "outputs": [
    {
     "name": "stdout",
     "output_type": "stream",
     "text": [
      "Using GPU\n",
      "[PhysicalDevice(name='/physical_device:GPU:0', device_type='GPU')]\n"
     ]
    }
   ],
   "source": [
    "if USE_GPU:\n",
    "    # Enable GPU\n",
    "    physical_devices = tf.config.list_physical_devices('GPU')\n",
    "    tf.config.experimental.set_memory_growth(physical_devices[0], enable=True)\n",
    "    os.environ[\"TF_FORCE_GPU_ALLOW_GROWTH\"]=\"true\"\n",
    "\n",
    "    # Show GPU\n",
    "    print(\"Using GPU\")\n",
    "    print(tf.config.list_physical_devices('GPU'))\n",
    "else:\n",
    "    print(\"Using CPU\")"
   ]
  },
  {
   "cell_type": "markdown",
   "metadata": {},
   "source": [
    "# Model"
   ]
  },
  {
   "cell_type": "markdown",
   "metadata": {},
   "source": [
    "## Functions"
   ]
  },
  {
   "cell_type": "code",
   "execution_count": 8,
   "metadata": {
    "ExecuteTime": {
     "end_time": "2020-11-30T03:14:42.947311Z",
     "start_time": "2020-11-30T03:14:42.932311Z"
    }
   },
   "outputs": [],
   "source": [
    "def series_to_supervised(data, n_in=1, n_out=1, dropnan=True):\n",
    "    \"https://machinelearningmastery.com/multivariate-time-series-forecasting-lstms-keras/\"\n",
    "    n_vars = 1 if type(data) is list else data.shape[1]\n",
    "    df = pd.DataFrame(data)\n",
    "    cols, names = list(), list()\n",
    "    # input sequence (t-n, ... t-1)\n",
    "    for i in range(n_in, 0, -1):\n",
    "        cols.append(df.shift(i))\n",
    "        names += [('var%d(t-%d)' % (j+1, i)) for j in range(n_vars)]\n",
    "    # forecast sequence (t, t+1, ... t+n)\n",
    "    for i in range(0, n_out):\n",
    "        cols.append(df.shift(-i))\n",
    "        if i == 0:\n",
    "            names += [('var%d(t)' % (j+1)) for j in range(n_vars)]\n",
    "        else:\n",
    "            names += [('var%d(t+%d)' % (j+1, i)) for j in range(n_vars)]\n",
    "    # put it all together\n",
    "    agg = pd.concat(cols, axis=1)\n",
    "    agg.columns = names\n",
    "    # drop rows with NaN values\n",
    "    if dropnan:\n",
    "        agg.dropna(inplace=True)\n",
    "    return agg"
   ]
  },
  {
   "cell_type": "markdown",
   "metadata": {
    "deletable": false,
    "editable": false,
    "run_control": {
     "frozen": true
    }
   },
   "source": [
    "## Load data (freeze this and read series of pickles)"
   ]
  },
  {
   "cell_type": "code",
   "execution_count": 9,
   "metadata": {
    "ExecuteTime": {
     "end_time": "2020-11-30T03:14:43.105312Z",
     "start_time": "2020-11-30T03:14:42.948311Z"
    }
   },
   "outputs": [],
   "source": [
    "df = pd.read_pickle('./data/modeling/model_df.pkl')"
   ]
  },
  {
   "cell_type": "code",
   "execution_count": 10,
   "metadata": {
    "ExecuteTime": {
     "end_time": "2020-11-30T03:14:48.414292Z",
     "start_time": "2020-11-30T03:14:43.106313Z"
    }
   },
   "outputs": [
    {
     "data": {
      "text/plain": [
       "(337, 256625)"
      ]
     },
     "execution_count": 10,
     "metadata": {},
     "output_type": "execute_result"
    }
   ],
   "source": [
    "n_features = 256625\n",
    "sym_predict='VLO'\n",
    "col = f'{sym_predict}_price'\n",
    "df = pd.concat([df[col], df.drop(col, axis=1)], axis=1)\n",
    "scaler = MinMaxScaler()\n",
    "df_scaled = scaler.fit_transform(df)\n",
    "df_scaled.shape"
   ]
  },
  {
   "cell_type": "code",
   "execution_count": 11,
   "metadata": {
    "ExecuteTime": {
     "end_time": "2020-11-30T03:14:50.895346Z",
     "start_time": "2020-11-30T03:14:48.415292Z"
    }
   },
   "outputs": [
    {
     "data": {
      "text/plain": [
       "((250, 513249), (250,), (86, 513249), (86,))"
      ]
     },
     "execution_count": 11,
     "metadata": {},
     "output_type": "execute_result"
    }
   ],
   "source": [
    "reframed = series_to_supervised(df_scaled, 1, 1)\n",
    "values = reframed.values\n",
    "train = values[:250]\n",
    "test = values[250:]\n",
    "\n",
    "X_train, y_train = train[:, :-1], train[:, -1]\n",
    "X_test, y_test = test[:, :-1], test[:, -1]\n",
    "\n",
    "X_train.shape, y_train.shape, X_test.shape, y_test.shape"
   ]
  },
  {
   "cell_type": "code",
   "execution_count": 12,
   "metadata": {
    "ExecuteTime": {
     "end_time": "2020-11-30T03:14:50.911353Z",
     "start_time": "2020-11-30T03:14:50.896348Z"
    }
   },
   "outputs": [],
   "source": [
    "X_train = X_train.reshape((X_train.shape[0], 1, X_train.shape[1]))\n",
    "X_test = X_test.reshape((X_test.shape[0], 1, X_test.shape[1]))"
   ]
  },
  {
   "cell_type": "code",
   "execution_count": 31,
   "metadata": {
    "ExecuteTime": {
     "end_time": "2020-11-29T11:28:06.710531Z",
     "start_time": "2020-11-29T11:28:01.298076Z"
    }
   },
   "outputs": [],
   "source": [
    "# import pickle\n",
    "\n",
    "# filepath = './data/modeling/'\n",
    "# def dump_pickle(var, name):\n",
    "#     with open(filepath+name, 'wb') as pickle_file:\n",
    "#         pickle.dump(var, pickle_file)\n",
    "\n",
    "# dump_pickle(X_train, \"X_train.pkl\")\n",
    "# dump_pickle(y_train, \"y_train.pkl\")\n",
    "# dump_pickle(X_test, \"X_test.pkl\")\n",
    "# dump_pickle(y_test, \"y_test.pkl\")\n",
    "# dump_pickle(X_val, \"y_test.pkl\")\n",
    "# dump_pickle(y_val, \"y_test.pkl\")\n",
    "# dump_pickle(df, \"df_modeling_ready.pkl\")"
   ]
  },
  {
   "cell_type": "markdown",
   "metadata": {},
   "source": [
    "## Modeling"
   ]
  },
  {
   "cell_type": "code",
   "execution_count": 10,
   "metadata": {
    "ExecuteTime": {
     "end_time": "2020-11-29T11:31:43.551412Z",
     "start_time": "2020-11-29T11:31:42.499393Z"
    }
   },
   "outputs": [],
   "source": [
    "# import pickle\n",
    "# filepath = './data/modeling/'\n",
    "# def read_pickle(name):\n",
    "#     with open(filepath+name, 'rb') as pickle_file:\n",
    "#         return pickle.load(pickle_file)\n",
    "    \n",
    "# X_train = read_pickle(\"X_train.pkl\")\n",
    "# y_train = read_pickle(\"y_train.pkl\")\n",
    "# X_test = read_pickle(\"X_test.pkl\")\n",
    "# y_test = read_pickle(\"y_test.pkl\")\n",
    "# X_val = read_pickle(\"y_test.pkl\")\n",
    "# y_val = read_pickle(\"y_test.pkl\")\n",
    "# df = read_pickle(\"df_modeling_ready.pkl\")"
   ]
  },
  {
   "cell_type": "code",
   "execution_count": 13,
   "metadata": {
    "ExecuteTime": {
     "end_time": "2020-11-30T03:15:08.305137Z",
     "start_time": "2020-11-30T03:14:50.912346Z"
    }
   },
   "outputs": [
    {
     "name": "stdout",
     "output_type": "stream",
     "text": [
      "Epoch 1/2000\n",
      "2/2 - 1s - loss: 1.1771 - val_loss: 2.2186\n",
      "Epoch 2/2000\n",
      "2/2 - 0s - loss: 2.2132 - val_loss: 2.1955\n",
      "Epoch 3/2000\n",
      "2/2 - 0s - loss: 2.1893 - val_loss: 2.1699\n",
      "Epoch 4/2000\n",
      "2/2 - 0s - loss: 2.1634 - val_loss: 2.1433\n",
      "Epoch 5/2000\n",
      "2/2 - 0s - loss: 2.1367 - val_loss: 2.1161\n",
      "Epoch 6/2000\n",
      "2/2 - 0s - loss: 2.1094 - val_loss: 2.0886\n",
      "Epoch 7/2000\n",
      "2/2 - 0s - loss: 2.0819 - val_loss: 2.0609\n",
      "Epoch 8/2000\n",
      "2/2 - 0s - loss: 2.0541 - val_loss: 2.0330\n",
      "Epoch 9/2000\n",
      "2/2 - 0s - loss: 2.0262 - val_loss: 2.0051\n",
      "Epoch 10/2000\n",
      "2/2 - 0s - loss: 1.9982 - val_loss: 1.9770\n",
      "Epoch 11/2000\n",
      "2/2 - 0s - loss: 1.9702 - val_loss: 1.9490\n",
      "Epoch 12/2000\n",
      "2/2 - 0s - loss: 1.9421 - val_loss: 1.9209\n",
      "Epoch 13/2000\n",
      "2/2 - 0s - loss: 1.9140 - val_loss: 1.8927\n",
      "Epoch 14/2000\n",
      "2/2 - 0s - loss: 1.8858 - val_loss: 1.8646\n",
      "Epoch 15/2000\n",
      "2/2 - 0s - loss: 1.8577 - val_loss: 1.8364\n",
      "Epoch 16/2000\n",
      "2/2 - 0s - loss: 1.8295 - val_loss: 1.8082\n",
      "Epoch 17/2000\n",
      "2/2 - 0s - loss: 1.8014 - val_loss: 1.7801\n",
      "Epoch 18/2000\n",
      "2/2 - 0s - loss: 1.7732 - val_loss: 1.7519\n",
      "Epoch 19/2000\n",
      "2/2 - 0s - loss: 1.7450 - val_loss: 1.7237\n",
      "Epoch 20/2000\n",
      "2/2 - 0s - loss: 1.7169 - val_loss: 1.6956\n",
      "Epoch 21/2000\n",
      "2/2 - 0s - loss: 1.6887 - val_loss: 1.6674\n",
      "Epoch 22/2000\n",
      "2/2 - 0s - loss: 1.6605 - val_loss: 1.6393\n",
      "Epoch 23/2000\n",
      "2/2 - 0s - loss: 1.6324 - val_loss: 1.6111\n",
      "Epoch 24/2000\n",
      "2/2 - 0s - loss: 1.6043 - val_loss: 1.5830\n",
      "Epoch 25/2000\n",
      "2/2 - 0s - loss: 1.5761 - val_loss: 1.5548\n",
      "Epoch 26/2000\n",
      "2/2 - 0s - loss: 1.5480 - val_loss: 1.5267\n",
      "Epoch 27/2000\n",
      "2/2 - 0s - loss: 1.5199 - val_loss: 1.4986\n",
      "Epoch 28/2000\n",
      "2/2 - 0s - loss: 1.4917 - val_loss: 1.4705\n",
      "Epoch 29/2000\n",
      "2/2 - 0s - loss: 1.4636 - val_loss: 1.4424\n",
      "Epoch 30/2000\n",
      "2/2 - 0s - loss: 1.4355 - val_loss: 1.4143\n",
      "Epoch 31/2000\n",
      "2/2 - 0s - loss: 1.4074 - val_loss: 1.3862\n",
      "Epoch 32/2000\n",
      "2/2 - 0s - loss: 1.3793 - val_loss: 1.3581\n",
      "Epoch 33/2000\n",
      "2/2 - 0s - loss: 1.3513 - val_loss: 1.3300\n",
      "Epoch 34/2000\n",
      "2/2 - 0s - loss: 1.3232 - val_loss: 1.3020\n",
      "Epoch 35/2000\n",
      "2/2 - 0s - loss: 1.2951 - val_loss: 1.2739\n",
      "Epoch 36/2000\n",
      "2/2 - 0s - loss: 1.2670 - val_loss: 1.2458\n",
      "Epoch 37/2000\n",
      "2/2 - 0s - loss: 1.2390 - val_loss: 1.2178\n",
      "Epoch 38/2000\n",
      "2/2 - 0s - loss: 1.2109 - val_loss: 1.1897\n",
      "Epoch 39/2000\n",
      "2/2 - 0s - loss: 1.1828 - val_loss: 1.1616\n",
      "Epoch 40/2000\n",
      "2/2 - 0s - loss: 1.1548 - val_loss: 1.1336\n",
      "Epoch 41/2000\n",
      "2/2 - 0s - loss: 1.1267 - val_loss: 1.1055\n",
      "Epoch 42/2000\n",
      "2/2 - 0s - loss: 1.0987 - val_loss: 1.0775\n",
      "Epoch 43/2000\n"
     ]
    },
    {
     "ename": "KeyboardInterrupt",
     "evalue": "",
     "output_type": "error",
     "traceback": [
      "\u001b[1;31m---------------------------------------------------------------------------\u001b[0m",
      "\u001b[1;31mKeyboardInterrupt\u001b[0m                         Traceback (most recent call last)",
      "\u001b[1;32m<ipython-input-13-21d36fa1df45>\u001b[0m in \u001b[0;36m<module>\u001b[1;34m\u001b[0m\n\u001b[0;32m     17\u001b[0m                     \u001b[0mvalidation_data\u001b[0m\u001b[1;33m=\u001b[0m\u001b[1;33m(\u001b[0m\u001b[0mX_test\u001b[0m\u001b[1;33m,\u001b[0m \u001b[0my_test\u001b[0m\u001b[1;33m)\u001b[0m\u001b[1;33m,\u001b[0m\u001b[1;33m\u001b[0m\u001b[1;33m\u001b[0m\u001b[0m\n\u001b[0;32m     18\u001b[0m                     \u001b[0mverbose\u001b[0m\u001b[1;33m=\u001b[0m\u001b[1;36m2\u001b[0m\u001b[1;33m,\u001b[0m \u001b[0mshuffle\u001b[0m\u001b[1;33m=\u001b[0m\u001b[1;32mFalse\u001b[0m\u001b[1;33m,\u001b[0m\u001b[1;33m\u001b[0m\u001b[1;33m\u001b[0m\u001b[0m\n\u001b[1;32m---> 19\u001b[1;33m                     callbacks=[earlystopping])\n\u001b[0m",
      "\u001b[1;32m~\\AppData\\Roaming\\Python\\Python37\\site-packages\\tensorflow\\python\\keras\\engine\\training.py\u001b[0m in \u001b[0;36m_method_wrapper\u001b[1;34m(self, *args, **kwargs)\u001b[0m\n\u001b[0;32m    106\u001b[0m   \u001b[1;32mdef\u001b[0m \u001b[0m_method_wrapper\u001b[0m\u001b[1;33m(\u001b[0m\u001b[0mself\u001b[0m\u001b[1;33m,\u001b[0m \u001b[1;33m*\u001b[0m\u001b[0margs\u001b[0m\u001b[1;33m,\u001b[0m \u001b[1;33m**\u001b[0m\u001b[0mkwargs\u001b[0m\u001b[1;33m)\u001b[0m\u001b[1;33m:\u001b[0m\u001b[1;33m\u001b[0m\u001b[1;33m\u001b[0m\u001b[0m\n\u001b[0;32m    107\u001b[0m     \u001b[1;32mif\u001b[0m \u001b[1;32mnot\u001b[0m \u001b[0mself\u001b[0m\u001b[1;33m.\u001b[0m\u001b[0m_in_multi_worker_mode\u001b[0m\u001b[1;33m(\u001b[0m\u001b[1;33m)\u001b[0m\u001b[1;33m:\u001b[0m  \u001b[1;31m# pylint: disable=protected-access\u001b[0m\u001b[1;33m\u001b[0m\u001b[1;33m\u001b[0m\u001b[0m\n\u001b[1;32m--> 108\u001b[1;33m       \u001b[1;32mreturn\u001b[0m \u001b[0mmethod\u001b[0m\u001b[1;33m(\u001b[0m\u001b[0mself\u001b[0m\u001b[1;33m,\u001b[0m \u001b[1;33m*\u001b[0m\u001b[0margs\u001b[0m\u001b[1;33m,\u001b[0m \u001b[1;33m**\u001b[0m\u001b[0mkwargs\u001b[0m\u001b[1;33m)\u001b[0m\u001b[1;33m\u001b[0m\u001b[1;33m\u001b[0m\u001b[0m\n\u001b[0m\u001b[0;32m    109\u001b[0m \u001b[1;33m\u001b[0m\u001b[0m\n\u001b[0;32m    110\u001b[0m     \u001b[1;31m# Running inside `run_distribute_coordinator` already.\u001b[0m\u001b[1;33m\u001b[0m\u001b[1;33m\u001b[0m\u001b[1;33m\u001b[0m\u001b[0m\n",
      "\u001b[1;32m~\\AppData\\Roaming\\Python\\Python37\\site-packages\\tensorflow\\python\\keras\\engine\\training.py\u001b[0m in \u001b[0;36mfit\u001b[1;34m(self, x, y, batch_size, epochs, verbose, callbacks, validation_split, validation_data, shuffle, class_weight, sample_weight, initial_epoch, steps_per_epoch, validation_steps, validation_batch_size, validation_freq, max_queue_size, workers, use_multiprocessing)\u001b[0m\n\u001b[0;32m   1096\u001b[0m                 batch_size=batch_size):\n\u001b[0;32m   1097\u001b[0m               \u001b[0mcallbacks\u001b[0m\u001b[1;33m.\u001b[0m\u001b[0mon_train_batch_begin\u001b[0m\u001b[1;33m(\u001b[0m\u001b[0mstep\u001b[0m\u001b[1;33m)\u001b[0m\u001b[1;33m\u001b[0m\u001b[1;33m\u001b[0m\u001b[0m\n\u001b[1;32m-> 1098\u001b[1;33m               \u001b[0mtmp_logs\u001b[0m \u001b[1;33m=\u001b[0m \u001b[0mtrain_function\u001b[0m\u001b[1;33m(\u001b[0m\u001b[0miterator\u001b[0m\u001b[1;33m)\u001b[0m\u001b[1;33m\u001b[0m\u001b[1;33m\u001b[0m\u001b[0m\n\u001b[0m\u001b[0;32m   1099\u001b[0m               \u001b[1;32mif\u001b[0m \u001b[0mdata_handler\u001b[0m\u001b[1;33m.\u001b[0m\u001b[0mshould_sync\u001b[0m\u001b[1;33m:\u001b[0m\u001b[1;33m\u001b[0m\u001b[1;33m\u001b[0m\u001b[0m\n\u001b[0;32m   1100\u001b[0m                 \u001b[0mcontext\u001b[0m\u001b[1;33m.\u001b[0m\u001b[0masync_wait\u001b[0m\u001b[1;33m(\u001b[0m\u001b[1;33m)\u001b[0m\u001b[1;33m\u001b[0m\u001b[1;33m\u001b[0m\u001b[0m\n",
      "\u001b[1;32m~\\AppData\\Roaming\\Python\\Python37\\site-packages\\tensorflow\\python\\eager\\def_function.py\u001b[0m in \u001b[0;36m__call__\u001b[1;34m(self, *args, **kwds)\u001b[0m\n\u001b[0;32m    778\u001b[0m       \u001b[1;32melse\u001b[0m\u001b[1;33m:\u001b[0m\u001b[1;33m\u001b[0m\u001b[1;33m\u001b[0m\u001b[0m\n\u001b[0;32m    779\u001b[0m         \u001b[0mcompiler\u001b[0m \u001b[1;33m=\u001b[0m \u001b[1;34m\"nonXla\"\u001b[0m\u001b[1;33m\u001b[0m\u001b[1;33m\u001b[0m\u001b[0m\n\u001b[1;32m--> 780\u001b[1;33m         \u001b[0mresult\u001b[0m \u001b[1;33m=\u001b[0m \u001b[0mself\u001b[0m\u001b[1;33m.\u001b[0m\u001b[0m_call\u001b[0m\u001b[1;33m(\u001b[0m\u001b[1;33m*\u001b[0m\u001b[0margs\u001b[0m\u001b[1;33m,\u001b[0m \u001b[1;33m**\u001b[0m\u001b[0mkwds\u001b[0m\u001b[1;33m)\u001b[0m\u001b[1;33m\u001b[0m\u001b[1;33m\u001b[0m\u001b[0m\n\u001b[0m\u001b[0;32m    781\u001b[0m \u001b[1;33m\u001b[0m\u001b[0m\n\u001b[0;32m    782\u001b[0m       \u001b[0mnew_tracing_count\u001b[0m \u001b[1;33m=\u001b[0m \u001b[0mself\u001b[0m\u001b[1;33m.\u001b[0m\u001b[0m_get_tracing_count\u001b[0m\u001b[1;33m(\u001b[0m\u001b[1;33m)\u001b[0m\u001b[1;33m\u001b[0m\u001b[1;33m\u001b[0m\u001b[0m\n",
      "\u001b[1;32m~\\AppData\\Roaming\\Python\\Python37\\site-packages\\tensorflow\\python\\eager\\def_function.py\u001b[0m in \u001b[0;36m_call\u001b[1;34m(self, *args, **kwds)\u001b[0m\n\u001b[0;32m    805\u001b[0m       \u001b[1;31m# In this case we have created variables on the first call, so we run the\u001b[0m\u001b[1;33m\u001b[0m\u001b[1;33m\u001b[0m\u001b[1;33m\u001b[0m\u001b[0m\n\u001b[0;32m    806\u001b[0m       \u001b[1;31m# defunned version which is guaranteed to never create variables.\u001b[0m\u001b[1;33m\u001b[0m\u001b[1;33m\u001b[0m\u001b[1;33m\u001b[0m\u001b[0m\n\u001b[1;32m--> 807\u001b[1;33m       \u001b[1;32mreturn\u001b[0m \u001b[0mself\u001b[0m\u001b[1;33m.\u001b[0m\u001b[0m_stateless_fn\u001b[0m\u001b[1;33m(\u001b[0m\u001b[1;33m*\u001b[0m\u001b[0margs\u001b[0m\u001b[1;33m,\u001b[0m \u001b[1;33m**\u001b[0m\u001b[0mkwds\u001b[0m\u001b[1;33m)\u001b[0m  \u001b[1;31m# pylint: disable=not-callable\u001b[0m\u001b[1;33m\u001b[0m\u001b[1;33m\u001b[0m\u001b[0m\n\u001b[0m\u001b[0;32m    808\u001b[0m     \u001b[1;32melif\u001b[0m \u001b[0mself\u001b[0m\u001b[1;33m.\u001b[0m\u001b[0m_stateful_fn\u001b[0m \u001b[1;32mis\u001b[0m \u001b[1;32mnot\u001b[0m \u001b[1;32mNone\u001b[0m\u001b[1;33m:\u001b[0m\u001b[1;33m\u001b[0m\u001b[1;33m\u001b[0m\u001b[0m\n\u001b[0;32m    809\u001b[0m       \u001b[1;31m# Release the lock early so that multiple threads can perform the call\u001b[0m\u001b[1;33m\u001b[0m\u001b[1;33m\u001b[0m\u001b[1;33m\u001b[0m\u001b[0m\n",
      "\u001b[1;32m~\\AppData\\Roaming\\Python\\Python37\\site-packages\\tensorflow\\python\\eager\\function.py\u001b[0m in \u001b[0;36m__call__\u001b[1;34m(self, *args, **kwargs)\u001b[0m\n\u001b[0;32m   2827\u001b[0m     \u001b[1;32mwith\u001b[0m \u001b[0mself\u001b[0m\u001b[1;33m.\u001b[0m\u001b[0m_lock\u001b[0m\u001b[1;33m:\u001b[0m\u001b[1;33m\u001b[0m\u001b[1;33m\u001b[0m\u001b[0m\n\u001b[0;32m   2828\u001b[0m       \u001b[0mgraph_function\u001b[0m\u001b[1;33m,\u001b[0m \u001b[0margs\u001b[0m\u001b[1;33m,\u001b[0m \u001b[0mkwargs\u001b[0m \u001b[1;33m=\u001b[0m \u001b[0mself\u001b[0m\u001b[1;33m.\u001b[0m\u001b[0m_maybe_define_function\u001b[0m\u001b[1;33m(\u001b[0m\u001b[0margs\u001b[0m\u001b[1;33m,\u001b[0m \u001b[0mkwargs\u001b[0m\u001b[1;33m)\u001b[0m\u001b[1;33m\u001b[0m\u001b[1;33m\u001b[0m\u001b[0m\n\u001b[1;32m-> 2829\u001b[1;33m     \u001b[1;32mreturn\u001b[0m \u001b[0mgraph_function\u001b[0m\u001b[1;33m.\u001b[0m\u001b[0m_filtered_call\u001b[0m\u001b[1;33m(\u001b[0m\u001b[0margs\u001b[0m\u001b[1;33m,\u001b[0m \u001b[0mkwargs\u001b[0m\u001b[1;33m)\u001b[0m  \u001b[1;31m# pylint: disable=protected-access\u001b[0m\u001b[1;33m\u001b[0m\u001b[1;33m\u001b[0m\u001b[0m\n\u001b[0m\u001b[0;32m   2830\u001b[0m \u001b[1;33m\u001b[0m\u001b[0m\n\u001b[0;32m   2831\u001b[0m   \u001b[1;33m@\u001b[0m\u001b[0mproperty\u001b[0m\u001b[1;33m\u001b[0m\u001b[1;33m\u001b[0m\u001b[0m\n",
      "\u001b[1;32m~\\AppData\\Roaming\\Python\\Python37\\site-packages\\tensorflow\\python\\eager\\function.py\u001b[0m in \u001b[0;36m_filtered_call\u001b[1;34m(self, args, kwargs, cancellation_manager)\u001b[0m\n\u001b[0;32m   1846\u001b[0m                            resource_variable_ops.BaseResourceVariable))],\n\u001b[0;32m   1847\u001b[0m         \u001b[0mcaptured_inputs\u001b[0m\u001b[1;33m=\u001b[0m\u001b[0mself\u001b[0m\u001b[1;33m.\u001b[0m\u001b[0mcaptured_inputs\u001b[0m\u001b[1;33m,\u001b[0m\u001b[1;33m\u001b[0m\u001b[1;33m\u001b[0m\u001b[0m\n\u001b[1;32m-> 1848\u001b[1;33m         cancellation_manager=cancellation_manager)\n\u001b[0m\u001b[0;32m   1849\u001b[0m \u001b[1;33m\u001b[0m\u001b[0m\n\u001b[0;32m   1850\u001b[0m   \u001b[1;32mdef\u001b[0m \u001b[0m_call_flat\u001b[0m\u001b[1;33m(\u001b[0m\u001b[0mself\u001b[0m\u001b[1;33m,\u001b[0m \u001b[0margs\u001b[0m\u001b[1;33m,\u001b[0m \u001b[0mcaptured_inputs\u001b[0m\u001b[1;33m,\u001b[0m \u001b[0mcancellation_manager\u001b[0m\u001b[1;33m=\u001b[0m\u001b[1;32mNone\u001b[0m\u001b[1;33m)\u001b[0m\u001b[1;33m:\u001b[0m\u001b[1;33m\u001b[0m\u001b[1;33m\u001b[0m\u001b[0m\n",
      "\u001b[1;32m~\\AppData\\Roaming\\Python\\Python37\\site-packages\\tensorflow\\python\\eager\\function.py\u001b[0m in \u001b[0;36m_call_flat\u001b[1;34m(self, args, captured_inputs, cancellation_manager)\u001b[0m\n\u001b[0;32m   1922\u001b[0m       \u001b[1;31m# No tape is watching; skip to running the function.\u001b[0m\u001b[1;33m\u001b[0m\u001b[1;33m\u001b[0m\u001b[1;33m\u001b[0m\u001b[0m\n\u001b[0;32m   1923\u001b[0m       return self._build_call_outputs(self._inference_function.call(\n\u001b[1;32m-> 1924\u001b[1;33m           ctx, args, cancellation_manager=cancellation_manager))\n\u001b[0m\u001b[0;32m   1925\u001b[0m     forward_backward = self._select_forward_and_backward_functions(\n\u001b[0;32m   1926\u001b[0m         \u001b[0margs\u001b[0m\u001b[1;33m,\u001b[0m\u001b[1;33m\u001b[0m\u001b[1;33m\u001b[0m\u001b[0m\n",
      "\u001b[1;32m~\\AppData\\Roaming\\Python\\Python37\\site-packages\\tensorflow\\python\\eager\\function.py\u001b[0m in \u001b[0;36mcall\u001b[1;34m(self, ctx, args, cancellation_manager)\u001b[0m\n\u001b[0;32m    548\u001b[0m               \u001b[0minputs\u001b[0m\u001b[1;33m=\u001b[0m\u001b[0margs\u001b[0m\u001b[1;33m,\u001b[0m\u001b[1;33m\u001b[0m\u001b[1;33m\u001b[0m\u001b[0m\n\u001b[0;32m    549\u001b[0m               \u001b[0mattrs\u001b[0m\u001b[1;33m=\u001b[0m\u001b[0mattrs\u001b[0m\u001b[1;33m,\u001b[0m\u001b[1;33m\u001b[0m\u001b[1;33m\u001b[0m\u001b[0m\n\u001b[1;32m--> 550\u001b[1;33m               ctx=ctx)\n\u001b[0m\u001b[0;32m    551\u001b[0m         \u001b[1;32melse\u001b[0m\u001b[1;33m:\u001b[0m\u001b[1;33m\u001b[0m\u001b[1;33m\u001b[0m\u001b[0m\n\u001b[0;32m    552\u001b[0m           outputs = execute.execute_with_cancellation(\n",
      "\u001b[1;32m~\\AppData\\Roaming\\Python\\Python37\\site-packages\\tensorflow\\python\\eager\\execute.py\u001b[0m in \u001b[0;36mquick_execute\u001b[1;34m(op_name, num_outputs, inputs, attrs, ctx, name)\u001b[0m\n\u001b[0;32m     58\u001b[0m     \u001b[0mctx\u001b[0m\u001b[1;33m.\u001b[0m\u001b[0mensure_initialized\u001b[0m\u001b[1;33m(\u001b[0m\u001b[1;33m)\u001b[0m\u001b[1;33m\u001b[0m\u001b[1;33m\u001b[0m\u001b[0m\n\u001b[0;32m     59\u001b[0m     tensors = pywrap_tfe.TFE_Py_Execute(ctx._handle, device_name, op_name,\n\u001b[1;32m---> 60\u001b[1;33m                                         inputs, attrs, num_outputs)\n\u001b[0m\u001b[0;32m     61\u001b[0m   \u001b[1;32mexcept\u001b[0m \u001b[0mcore\u001b[0m\u001b[1;33m.\u001b[0m\u001b[0m_NotOkStatusException\u001b[0m \u001b[1;32mas\u001b[0m \u001b[0me\u001b[0m\u001b[1;33m:\u001b[0m\u001b[1;33m\u001b[0m\u001b[1;33m\u001b[0m\u001b[0m\n\u001b[0;32m     62\u001b[0m     \u001b[1;32mif\u001b[0m \u001b[0mname\u001b[0m \u001b[1;32mis\u001b[0m \u001b[1;32mnot\u001b[0m \u001b[1;32mNone\u001b[0m\u001b[1;33m:\u001b[0m\u001b[1;33m\u001b[0m\u001b[1;33m\u001b[0m\u001b[0m\n",
      "\u001b[1;31mKeyboardInterrupt\u001b[0m: "
     ]
    }
   ],
   "source": [
    "#del model\n",
    "# tf.keras.backend.clear_session()\n",
    "n_timesteps, n_features, n_outputs = X_train.shape[1], X_train.shape[2], X_train.shape[1]\n",
    "# design network\n",
    "model = Sequential()\n",
    "model.add(LSTM(50, input_shape=(X_train.shape[1], X_train.shape[2])))\n",
    "#model.add(Dropout(.3))\n",
    "#model.add(Dense(50, activation='relu'))\n",
    "\n",
    "model.add(Dense(1))\n",
    "model.compile(loss='mae', optimizer='adam')\n",
    "\n",
    "# fit network\n",
    "earlystopping = EarlyStopping(monitor='val_loss', patience=25)\n",
    "history = model.fit(X_train, y_train,\n",
    "                    epochs=2000, batch_size=128,\n",
    "                    validation_data=(X_test, y_test),\n",
    "                    verbose=2, shuffle=False,\n",
    "                    callbacks=[earlystopping])"
   ]
  },
  {
   "cell_type": "code",
   "execution_count": 15,
   "metadata": {
    "ExecuteTime": {
     "end_time": "2020-11-29T12:08:12.855132Z",
     "start_time": "2020-11-29T12:08:12.620134Z"
    }
   },
   "outputs": [
    {
     "data": {
      "text/plain": [
       "<matplotlib.legend.Legend at 0x12feea12c08>"
      ]
     },
     "execution_count": 15,
     "metadata": {},
     "output_type": "execute_result"
    },
    {
     "data": {
      "image/png": "[encoded data removed]",
      "text/plain": [
       "<Figure size 432x288 with 1 Axes>"
      ]
     },
     "metadata": {
      "needs_background": "light"
     },
     "output_type": "display_data"
    }
   ],
   "source": [
    "my_loss= history.history['loss']\n",
    "plt.plot(range(len(my_loss)),my_loss, label='train')\n",
    "my_val_loss= history.history['val_loss']\n",
    "plt.plot(range(len(my_loss)),my_val_loss, label='test')\n",
    "plt.legend()"
   ]
  },
  {
   "cell_type": "code",
   "execution_count": 16,
   "metadata": {
    "ExecuteTime": {
     "end_time": "2020-11-29T12:08:16.450587Z",
     "start_time": "2020-11-29T12:08:16.409588Z"
    }
   },
   "outputs": [
    {
     "data": {
      "text/html": [
       "<div>\n",
       "<style scoped>\n",
       "    .dataframe tbody tr th:only-of-type {\n",
       "        vertical-align: middle;\n",
       "    }\n",
       "\n",
       "    .dataframe tbody tr th {\n",
       "        vertical-align: top;\n",
       "    }\n",
       "\n",
       "    .dataframe thead th {\n",
       "        text-align: right;\n",
       "    }\n",
       "</style>\n",
       "<table border=\"1\" class=\"dataframe\">\n",
       "  <thead>\n",
       "    <tr style=\"text-align: right;\">\n",
       "      <th></th>\n",
       "      <th>VLO_price</th>\n",
       "      <th>A_RevenueTTM</th>\n",
       "      <th>A_TotalCash</th>\n",
       "      <th>A_ExDividendDate</th>\n",
       "      <th>A_Dividend</th>\n",
       "      <th>A_DividendYield</th>\n",
       "      <th>A_PriceToBook</th>\n",
       "      <th>A_PriceToSales</th>\n",
       "      <th>A_EnterpriseValue</th>\n",
       "      <th>A_PriceToCashFlow</th>\n",
       "      <th>...</th>\n",
       "      <th>ZYXI_industry_Transportation Infrastructure</th>\n",
       "      <th>ZYXI_industry_Water Utilities</th>\n",
       "      <th>ZYXI_industry_Wireless Telecommunication Services</th>\n",
       "      <th>ZYXI_Exchange_NASDAQ</th>\n",
       "      <th>ZYXI_Exchange_NYSE</th>\n",
       "      <th>ZYXI_Exchange_OTC</th>\n",
       "      <th>ZYXI_Exchange_unknown</th>\n",
       "      <th>ZYXI_DJIA_1</th>\n",
       "      <th>ZYXI_NASDAQ100_1</th>\n",
       "      <th>ZYXI_SP500_1</th>\n",
       "    </tr>\n",
       "    <tr>\n",
       "      <th>date</th>\n",
       "      <th></th>\n",
       "      <th></th>\n",
       "      <th></th>\n",
       "      <th></th>\n",
       "      <th></th>\n",
       "      <th></th>\n",
       "      <th></th>\n",
       "      <th></th>\n",
       "      <th></th>\n",
       "      <th></th>\n",
       "      <th></th>\n",
       "      <th></th>\n",
       "      <th></th>\n",
       "      <th></th>\n",
       "      <th></th>\n",
       "      <th></th>\n",
       "      <th></th>\n",
       "      <th></th>\n",
       "      <th></th>\n",
       "      <th></th>\n",
       "      <th></th>\n",
       "    </tr>\n",
       "  </thead>\n",
       "  <tbody>\n",
       "    <tr>\n",
       "      <th>2020-07-30</th>\n",
       "      <td>56.330</td>\n",
       "      <td>5236.000</td>\n",
       "      <td>1324.000</td>\n",
       "      <td>0</td>\n",
       "      <td>0.180</td>\n",
       "      <td>0.742</td>\n",
       "      <td>6.272</td>\n",
       "      <td>5.735</td>\n",
       "      <td>31259800000.000</td>\n",
       "      <td>30.959</td>\n",
       "      <td>...</td>\n",
       "      <td>0</td>\n",
       "      <td>0</td>\n",
       "      <td>0</td>\n",
       "      <td>1</td>\n",
       "      <td>0</td>\n",
       "      <td>0</td>\n",
       "      <td>0</td>\n",
       "      <td>0</td>\n",
       "      <td>0</td>\n",
       "      <td>0</td>\n",
       "    </tr>\n",
       "    <tr>\n",
       "      <th>2020-07-31</th>\n",
       "      <td>56.230</td>\n",
       "      <td>5236.000</td>\n",
       "      <td>1324.000</td>\n",
       "      <td>0</td>\n",
       "      <td>0.180</td>\n",
       "      <td>0.751</td>\n",
       "      <td>6.197</td>\n",
       "      <td>5.666</td>\n",
       "      <td>30899440000.000</td>\n",
       "      <td>30.586</td>\n",
       "      <td>...</td>\n",
       "      <td>0</td>\n",
       "      <td>0</td>\n",
       "      <td>0</td>\n",
       "      <td>1</td>\n",
       "      <td>0</td>\n",
       "      <td>0</td>\n",
       "      <td>0</td>\n",
       "      <td>0</td>\n",
       "      <td>0</td>\n",
       "      <td>0</td>\n",
       "    </tr>\n",
       "    <tr>\n",
       "      <th>2020-08-03</th>\n",
       "      <td>53.910</td>\n",
       "      <td>5236.000</td>\n",
       "      <td>1324.000</td>\n",
       "      <td>0</td>\n",
       "      <td>0.180</td>\n",
       "      <td>0.747</td>\n",
       "      <td>6.223</td>\n",
       "      <td>5.690</td>\n",
       "      <td>31022640000.000</td>\n",
       "      <td>30.713</td>\n",
       "      <td>...</td>\n",
       "      <td>0</td>\n",
       "      <td>0</td>\n",
       "      <td>0</td>\n",
       "      <td>1</td>\n",
       "      <td>0</td>\n",
       "      <td>0</td>\n",
       "      <td>0</td>\n",
       "      <td>0</td>\n",
       "      <td>0</td>\n",
       "      <td>0</td>\n",
       "    </tr>\n",
       "    <tr>\n",
       "      <th>2020-08-04</th>\n",
       "      <td>53.020</td>\n",
       "      <td>5236.000</td>\n",
       "      <td>1324.000</td>\n",
       "      <td>0</td>\n",
       "      <td>0.180</td>\n",
       "      <td>0.727</td>\n",
       "      <td>6.401</td>\n",
       "      <td>5.853</td>\n",
       "      <td>31872720000.000</td>\n",
       "      <td>31.593</td>\n",
       "      <td>...</td>\n",
       "      <td>0</td>\n",
       "      <td>0</td>\n",
       "      <td>0</td>\n",
       "      <td>1</td>\n",
       "      <td>0</td>\n",
       "      <td>0</td>\n",
       "      <td>0</td>\n",
       "      <td>0</td>\n",
       "      <td>0</td>\n",
       "      <td>0</td>\n",
       "    </tr>\n",
       "    <tr>\n",
       "      <th>2020-08-05</th>\n",
       "      <td>51.620</td>\n",
       "      <td>5236.000</td>\n",
       "      <td>1324.000</td>\n",
       "      <td>0</td>\n",
       "      <td>0.180</td>\n",
       "      <td>0.738</td>\n",
       "      <td>6.300</td>\n",
       "      <td>5.761</td>\n",
       "      <td>31392240000.000</td>\n",
       "      <td>31.096</td>\n",
       "      <td>...</td>\n",
       "      <td>0</td>\n",
       "      <td>0</td>\n",
       "      <td>0</td>\n",
       "      <td>1</td>\n",
       "      <td>0</td>\n",
       "      <td>0</td>\n",
       "      <td>0</td>\n",
       "      <td>0</td>\n",
       "      <td>0</td>\n",
       "      <td>0</td>\n",
       "    </tr>\n",
       "    <tr>\n",
       "      <th>...</th>\n",
       "      <td>...</td>\n",
       "      <td>...</td>\n",
       "      <td>...</td>\n",
       "      <td>...</td>\n",
       "      <td>...</td>\n",
       "      <td>...</td>\n",
       "      <td>...</td>\n",
       "      <td>...</td>\n",
       "      <td>...</td>\n",
       "      <td>...</td>\n",
       "      <td>...</td>\n",
       "      <td>...</td>\n",
       "      <td>...</td>\n",
       "      <td>...</td>\n",
       "      <td>...</td>\n",
       "      <td>...</td>\n",
       "      <td>...</td>\n",
       "      <td>...</td>\n",
       "      <td>...</td>\n",
       "      <td>...</td>\n",
       "      <td>...</td>\n",
       "    </tr>\n",
       "    <tr>\n",
       "      <th>2020-10-22</th>\n",
       "      <td>41.280</td>\n",
       "      <td>5223.000</td>\n",
       "      <td>1358.000</td>\n",
       "      <td>0</td>\n",
       "      <td>0.180</td>\n",
       "      <td>0.687</td>\n",
       "      <td>6.503</td>\n",
       "      <td>6.202</td>\n",
       "      <td>33542470000.000</td>\n",
       "      <td>32.394</td>\n",
       "      <td>...</td>\n",
       "      <td>0</td>\n",
       "      <td>0</td>\n",
       "      <td>0</td>\n",
       "      <td>1</td>\n",
       "      <td>0</td>\n",
       "      <td>0</td>\n",
       "      <td>0</td>\n",
       "      <td>0</td>\n",
       "      <td>0</td>\n",
       "      <td>0</td>\n",
       "    </tr>\n",
       "    <tr>\n",
       "      <th>2020-10-23</th>\n",
       "      <td>41.970</td>\n",
       "      <td>5223.000</td>\n",
       "      <td>1358.000</td>\n",
       "      <td>0</td>\n",
       "      <td>0.180</td>\n",
       "      <td>0.674</td>\n",
       "      <td>6.624</td>\n",
       "      <td>6.317</td>\n",
       "      <td>34141930000.000</td>\n",
       "      <td>32.994</td>\n",
       "      <td>...</td>\n",
       "      <td>0</td>\n",
       "      <td>0</td>\n",
       "      <td>0</td>\n",
       "      <td>1</td>\n",
       "      <td>0</td>\n",
       "      <td>0</td>\n",
       "      <td>0</td>\n",
       "      <td>0</td>\n",
       "      <td>0</td>\n",
       "      <td>0</td>\n",
       "    </tr>\n",
       "    <tr>\n",
       "      <th>2020-10-26</th>\n",
       "      <td>39.540</td>\n",
       "      <td>5223.000</td>\n",
       "      <td>1358.000</td>\n",
       "      <td>0</td>\n",
       "      <td>0.180</td>\n",
       "      <td>0.678</td>\n",
       "      <td>6.586</td>\n",
       "      <td>6.282</td>\n",
       "      <td>33956530000.000</td>\n",
       "      <td>32.808</td>\n",
       "      <td>...</td>\n",
       "      <td>0</td>\n",
       "      <td>0</td>\n",
       "      <td>0</td>\n",
       "      <td>1</td>\n",
       "      <td>0</td>\n",
       "      <td>0</td>\n",
       "      <td>0</td>\n",
       "      <td>0</td>\n",
       "      <td>0</td>\n",
       "      <td>0</td>\n",
       "    </tr>\n",
       "    <tr>\n",
       "      <th>2020-10-27</th>\n",
       "      <td>38.260</td>\n",
       "      <td>5223.000</td>\n",
       "      <td>1358.000</td>\n",
       "      <td>0</td>\n",
       "      <td>0.180</td>\n",
       "      <td>0.688</td>\n",
       "      <td>6.491</td>\n",
       "      <td>6.190</td>\n",
       "      <td>33480670000.000</td>\n",
       "      <td>32.333</td>\n",
       "      <td>...</td>\n",
       "      <td>0</td>\n",
       "      <td>0</td>\n",
       "      <td>0</td>\n",
       "      <td>1</td>\n",
       "      <td>0</td>\n",
       "      <td>0</td>\n",
       "      <td>0</td>\n",
       "      <td>0</td>\n",
       "      <td>0</td>\n",
       "      <td>0</td>\n",
       "    </tr>\n",
       "    <tr>\n",
       "      <th>2020-10-28</th>\n",
       "      <td>36.190</td>\n",
       "      <td>5223.000</td>\n",
       "      <td>1358.000</td>\n",
       "      <td>0</td>\n",
       "      <td>0.180</td>\n",
       "      <td>0.679</td>\n",
       "      <td>6.578</td>\n",
       "      <td>6.274</td>\n",
       "      <td>33916360000.000</td>\n",
       "      <td>32.768</td>\n",
       "      <td>...</td>\n",
       "      <td>0</td>\n",
       "      <td>0</td>\n",
       "      <td>0</td>\n",
       "      <td>1</td>\n",
       "      <td>0</td>\n",
       "      <td>0</td>\n",
       "      <td>0</td>\n",
       "      <td>0</td>\n",
       "      <td>0</td>\n",
       "      <td>0</td>\n",
       "    </tr>\n",
       "  </tbody>\n",
       "</table>\n",
       "<p>65 rows × 256625 columns</p>\n",
       "</div>"
      ],
      "text/plain": [
       "            VLO_price  A_RevenueTTM  A_TotalCash  A_ExDividendDate  \\\n",
       "date                                                                 \n",
       "2020-07-30     56.330      5236.000     1324.000                 0   \n",
       "2020-07-31     56.230      5236.000     1324.000                 0   \n",
       "2020-08-03     53.910      5236.000     1324.000                 0   \n",
       "2020-08-04     53.020      5236.000     1324.000                 0   \n",
       "2020-08-05     51.620      5236.000     1324.000                 0   \n",
       "...               ...           ...          ...               ...   \n",
       "2020-10-22     41.280      5223.000     1358.000                 0   \n",
       "2020-10-23     41.970      5223.000     1358.000                 0   \n",
       "2020-10-26     39.540      5223.000     1358.000                 0   \n",
       "2020-10-27     38.260      5223.000     1358.000                 0   \n",
       "2020-10-28     36.190      5223.000     1358.000                 0   \n",
       "\n",
       "            A_Dividend  A_DividendYield  A_PriceToBook  A_PriceToSales  \\\n",
       "date                                                                     \n",
       "2020-07-30       0.180            0.742          6.272           5.735   \n",
       "2020-07-31       0.180            0.751          6.197           5.666   \n",
       "2020-08-03       0.180            0.747          6.223           5.690   \n",
       "2020-08-04       0.180            0.727          6.401           5.853   \n",
       "2020-08-05       0.180            0.738          6.300           5.761   \n",
       "...                ...              ...            ...             ...   \n",
       "2020-10-22       0.180            0.687          6.503           6.202   \n",
       "2020-10-23       0.180            0.674          6.624           6.317   \n",
       "2020-10-26       0.180            0.678          6.586           6.282   \n",
       "2020-10-27       0.180            0.688          6.491           6.190   \n",
       "2020-10-28       0.180            0.679          6.578           6.274   \n",
       "\n",
       "            A_EnterpriseValue  A_PriceToCashFlow  ...  \\\n",
       "date                                              ...   \n",
       "2020-07-30    31259800000.000             30.959  ...   \n",
       "2020-07-31    30899440000.000             30.586  ...   \n",
       "2020-08-03    31022640000.000             30.713  ...   \n",
       "2020-08-04    31872720000.000             31.593  ...   \n",
       "2020-08-05    31392240000.000             31.096  ...   \n",
       "...                       ...                ...  ...   \n",
       "2020-10-22    33542470000.000             32.394  ...   \n",
       "2020-10-23    34141930000.000             32.994  ...   \n",
       "2020-10-26    33956530000.000             32.808  ...   \n",
       "2020-10-27    33480670000.000             32.333  ...   \n",
       "2020-10-28    33916360000.000             32.768  ...   \n",
       "\n",
       "            ZYXI_industry_Transportation Infrastructure  \\\n",
       "date                                                      \n",
       "2020-07-30                                            0   \n",
       "2020-07-31                                            0   \n",
       "2020-08-03                                            0   \n",
       "2020-08-04                                            0   \n",
       "2020-08-05                                            0   \n",
       "...                                                 ...   \n",
       "2020-10-22                                            0   \n",
       "2020-10-23                                            0   \n",
       "2020-10-26                                            0   \n",
       "2020-10-27                                            0   \n",
       "2020-10-28                                            0   \n",
       "\n",
       "            ZYXI_industry_Water Utilities  \\\n",
       "date                                        \n",
       "2020-07-30                              0   \n",
       "2020-07-31                              0   \n",
       "2020-08-03                              0   \n",
       "2020-08-04                              0   \n",
       "2020-08-05                              0   \n",
       "...                                   ...   \n",
       "2020-10-22                              0   \n",
       "2020-10-23                              0   \n",
       "2020-10-26                              0   \n",
       "2020-10-27                              0   \n",
       "2020-10-28                              0   \n",
       "\n",
       "            ZYXI_industry_Wireless Telecommunication Services  \\\n",
       "date                                                            \n",
       "2020-07-30                                                  0   \n",
       "2020-07-31                                                  0   \n",
       "2020-08-03                                                  0   \n",
       "2020-08-04                                                  0   \n",
       "2020-08-05                                                  0   \n",
       "...                                                       ...   \n",
       "2020-10-22                                                  0   \n",
       "2020-10-23                                                  0   \n",
       "2020-10-26                                                  0   \n",
       "2020-10-27                                                  0   \n",
       "2020-10-28                                                  0   \n",
       "\n",
       "            ZYXI_Exchange_NASDAQ  ZYXI_Exchange_NYSE  ZYXI_Exchange_OTC  \\\n",
       "date                                                                      \n",
       "2020-07-30                     1                   0                  0   \n",
       "2020-07-31                     1                   0                  0   \n",
       "2020-08-03                     1                   0                  0   \n",
       "2020-08-04                     1                   0                  0   \n",
       "2020-08-05                     1                   0                  0   \n",
       "...                          ...                 ...                ...   \n",
       "2020-10-22                     1                   0                  0   \n",
       "2020-10-23                     1                   0                  0   \n",
       "2020-10-26                     1                   0                  0   \n",
       "2020-10-27                     1                   0                  0   \n",
       "2020-10-28                     1                   0                  0   \n",
       "\n",
       "            ZYXI_Exchange_unknown  ZYXI_DJIA_1  ZYXI_NASDAQ100_1  ZYXI_SP500_1  \n",
       "date                                                                            \n",
       "2020-07-30                      0            0                 0             0  \n",
       "2020-07-31                      0            0                 0             0  \n",
       "2020-08-03                      0            0                 0             0  \n",
       "2020-08-04                      0            0                 0             0  \n",
       "2020-08-05                      0            0                 0             0  \n",
       "...                           ...          ...               ...           ...  \n",
       "2020-10-22                      0            0                 0             0  \n",
       "2020-10-23                      0            0                 0             0  \n",
       "2020-10-26                      0            0                 0             0  \n",
       "2020-10-27                      0            0                 0             0  \n",
       "2020-10-28                      0            0                 0             0  \n",
       "\n",
       "[65 rows x 256625 columns]"
      ]
     },
     "execution_count": 16,
     "metadata": {},
     "output_type": "execute_result"
    }
   ],
   "source": [
    "df.iloc[250:315]"
   ]
  },
  {
   "cell_type": "code",
   "execution_count": 20,
   "metadata": {
    "ExecuteTime": {
     "end_time": "2020-11-29T12:10:01.280820Z",
     "start_time": "2020-11-29T12:10:00.704781Z"
    }
   },
   "outputs": [
    {
     "ename": "ValueError",
     "evalue": "operands could not be broadcast together with shapes (86,513249) (256625,) (86,513249) ",
     "output_type": "error",
     "traceback": [
      "\u001b[1;31m---------------------------------------------------------------------------\u001b[0m",
      "\u001b[1;31mValueError\u001b[0m                                Traceback (most recent call last)",
      "\u001b[1;32m<ipython-input-20-c29db7605eab>\u001b[0m in \u001b[0;36m<module>\u001b[1;34m\u001b[0m\n\u001b[0;32m      4\u001b[0m \u001b[1;31m# invert scaling for forecast\u001b[0m\u001b[1;33m\u001b[0m\u001b[1;33m\u001b[0m\u001b[1;33m\u001b[0m\u001b[0m\n\u001b[0;32m      5\u001b[0m \u001b[0minv_yhat\u001b[0m \u001b[1;33m=\u001b[0m \u001b[0mnp\u001b[0m\u001b[1;33m.\u001b[0m\u001b[0mconcatenate\u001b[0m\u001b[1;33m(\u001b[0m\u001b[1;33m(\u001b[0m\u001b[0myhat\u001b[0m\u001b[1;33m,\u001b[0m \u001b[0mX_test\u001b[0m\u001b[1;33m[\u001b[0m\u001b[1;33m:\u001b[0m\u001b[1;33m,\u001b[0m \u001b[1;36m1\u001b[0m\u001b[1;33m:\u001b[0m\u001b[1;33m]\u001b[0m\u001b[1;33m)\u001b[0m\u001b[1;33m,\u001b[0m \u001b[0maxis\u001b[0m\u001b[1;33m=\u001b[0m\u001b[1;36m1\u001b[0m\u001b[1;33m)\u001b[0m\u001b[1;33m\u001b[0m\u001b[1;33m\u001b[0m\u001b[0m\n\u001b[1;32m----> 6\u001b[1;33m \u001b[0minv_yhat\u001b[0m \u001b[1;33m=\u001b[0m \u001b[0mscaler\u001b[0m\u001b[1;33m.\u001b[0m\u001b[0minverse_transform\u001b[0m\u001b[1;33m(\u001b[0m\u001b[0minv_yhat\u001b[0m\u001b[1;33m)\u001b[0m\u001b[1;33m\u001b[0m\u001b[1;33m\u001b[0m\u001b[0m\n\u001b[0m\u001b[0;32m      7\u001b[0m \u001b[0minv_yhat\u001b[0m \u001b[1;33m=\u001b[0m \u001b[0minv_yhat\u001b[0m\u001b[1;33m[\u001b[0m\u001b[1;33m:\u001b[0m\u001b[1;33m,\u001b[0m\u001b[1;36m0\u001b[0m\u001b[1;33m]\u001b[0m\u001b[1;33m\u001b[0m\u001b[1;33m\u001b[0m\u001b[0m\n\u001b[0;32m      8\u001b[0m \u001b[1;31m# invert scaling for actual\u001b[0m\u001b[1;33m\u001b[0m\u001b[1;33m\u001b[0m\u001b[1;33m\u001b[0m\u001b[0m\n",
      "\u001b[1;32m~\\anaconda3\\envs\\tf-gpu\\lib\\site-packages\\sklearn\\preprocessing\\_data.py\u001b[0m in \u001b[0;36minverse_transform\u001b[1;34m(self, X)\u001b[0m\n\u001b[0;32m    430\u001b[0m                         force_all_finite=\"allow-nan\")\n\u001b[0;32m    431\u001b[0m \u001b[1;33m\u001b[0m\u001b[0m\n\u001b[1;32m--> 432\u001b[1;33m         \u001b[0mX\u001b[0m \u001b[1;33m-=\u001b[0m \u001b[0mself\u001b[0m\u001b[1;33m.\u001b[0m\u001b[0mmin_\u001b[0m\u001b[1;33m\u001b[0m\u001b[1;33m\u001b[0m\u001b[0m\n\u001b[0m\u001b[0;32m    433\u001b[0m         \u001b[0mX\u001b[0m \u001b[1;33m/=\u001b[0m \u001b[0mself\u001b[0m\u001b[1;33m.\u001b[0m\u001b[0mscale_\u001b[0m\u001b[1;33m\u001b[0m\u001b[1;33m\u001b[0m\u001b[0m\n\u001b[0;32m    434\u001b[0m         \u001b[1;32mreturn\u001b[0m \u001b[0mX\u001b[0m\u001b[1;33m\u001b[0m\u001b[1;33m\u001b[0m\u001b[0m\n",
      "\u001b[1;31mValueError\u001b[0m: operands could not be broadcast together with shapes (86,513249) (256625,) (86,513249) "
     ]
    }
   ],
   "source": [
    "# make a prediction\n",
    "yhat = model.predict(X_test)\n",
    "X_test = X_test.reshape((X_test.shape[0], X_test.shape[2]))\n",
    "# invert scaling for forecast\n",
    "inv_yhat = np.concatenate((yhat, X_test[:, 1:]), axis=1)\n",
    "inv_yhat = scaler.inverse_transform(inv_yhat)\n",
    "inv_yhat = inv_yhat[:,0]\n",
    "# invert scaling for actual\n",
    "test_y = test_y.reshape((len(y_test), 1))\n",
    "inv_y = np.concatenate((y_test, X_test[:, 1:]), axis=1)\n",
    "inv_y = scaler.inverse_transform(inv_y)\n",
    "inv_y = inv_y[:,0]\n",
    "# calculate RMSE\n",
    "rmse = sqrt(mean_squared_error(inv_y, inv_yhat))\n",
    "print('Test RMSE: %.3f' % rmse)"
   ]
  },
  {
   "cell_type": "code",
   "execution_count": 19,
   "metadata": {
    "ExecuteTime": {
     "end_time": "2020-11-29T12:08:33.023591Z",
     "start_time": "2020-11-29T12:08:32.628591Z"
    }
   },
   "outputs": [
    {
     "ename": "ValueError",
     "evalue": "non-broadcastable output operand with shape (86,1) doesn't match the broadcast shape (86,256625)",
     "output_type": "error",
     "traceback": [
      "\u001b[1;31m---------------------------------------------------------------------------\u001b[0m",
      "\u001b[1;31mValueError\u001b[0m                                Traceback (most recent call last)",
      "\u001b[1;32m<ipython-input-19-f7115e8f9e1a>\u001b[0m in \u001b[0;36m<module>\u001b[1;34m\u001b[0m\n\u001b[1;32m----> 1\u001b[1;33m \u001b[0mpd\u001b[0m\u001b[1;33m.\u001b[0m\u001b[0mDataFrame\u001b[0m\u001b[1;33m(\u001b[0m\u001b[0mscaler\u001b[0m\u001b[1;33m.\u001b[0m\u001b[0minverse_transform\u001b[0m\u001b[1;33m(\u001b[0m\u001b[0mmodel\u001b[0m\u001b[1;33m.\u001b[0m\u001b[0mpredict\u001b[0m\u001b[1;33m(\u001b[0m\u001b[0mX_test\u001b[0m\u001b[1;33m)\u001b[0m\u001b[1;33m)\u001b[0m\u001b[1;33m,\u001b[0m \u001b[0mcolumns\u001b[0m\u001b[1;33m=\u001b[0m\u001b[0mdf\u001b[0m\u001b[1;33m.\u001b[0m\u001b[0mcolumns\u001b[0m\u001b[1;33m)\u001b[0m\u001b[1;33m[\u001b[0m\u001b[0mcol\u001b[0m\u001b[1;33m]\u001b[0m\u001b[1;33m\u001b[0m\u001b[1;33m\u001b[0m\u001b[0m\n\u001b[0m",
      "\u001b[1;32m~\\anaconda3\\envs\\tf-gpu\\lib\\site-packages\\sklearn\\preprocessing\\_data.py\u001b[0m in \u001b[0;36minverse_transform\u001b[1;34m(self, X)\u001b[0m\n\u001b[0;32m    430\u001b[0m                         force_all_finite=\"allow-nan\")\n\u001b[0;32m    431\u001b[0m \u001b[1;33m\u001b[0m\u001b[0m\n\u001b[1;32m--> 432\u001b[1;33m         \u001b[0mX\u001b[0m \u001b[1;33m-=\u001b[0m \u001b[0mself\u001b[0m\u001b[1;33m.\u001b[0m\u001b[0mmin_\u001b[0m\u001b[1;33m\u001b[0m\u001b[1;33m\u001b[0m\u001b[0m\n\u001b[0m\u001b[0;32m    433\u001b[0m         \u001b[0mX\u001b[0m \u001b[1;33m/=\u001b[0m \u001b[0mself\u001b[0m\u001b[1;33m.\u001b[0m\u001b[0mscale_\u001b[0m\u001b[1;33m\u001b[0m\u001b[1;33m\u001b[0m\u001b[0m\n\u001b[0;32m    434\u001b[0m         \u001b[1;32mreturn\u001b[0m \u001b[0mX\u001b[0m\u001b[1;33m\u001b[0m\u001b[1;33m\u001b[0m\u001b[0m\n",
      "\u001b[1;31mValueError\u001b[0m: non-broadcastable output operand with shape (86,1) doesn't match the broadcast shape (86,256625)"
     ]
    }
   ],
   "source": [
    "pd.DataFrame(scaler.inverse_transform(model.predict(X_test)), columns=df.columns)[col]"
   ]
  },
  {
   "cell_type": "code",
   "execution_count": 19,
   "metadata": {
    "ExecuteTime": {
     "end_time": "2020-11-29T11:57:57.733597Z",
     "start_time": "2020-11-29T11:57:57.719601Z"
    }
   },
   "outputs": [
    {
     "data": {
      "text/plain": [
       "date\n",
       "2020-07-30   56.330\n",
       "2020-07-31   56.230\n",
       "2020-08-03   53.910\n",
       "2020-08-04   53.020\n",
       "2020-08-05   51.620\n",
       "              ...  \n",
       "2020-10-22   41.280\n",
       "2020-10-23   41.970\n",
       "2020-10-26   39.540\n",
       "2020-10-27   38.260\n",
       "2020-10-28   36.190\n",
       "Name: VLO_price, Length: 65, dtype: float64"
      ]
     },
     "execution_count": 19,
     "metadata": {},
     "output_type": "execute_result"
    }
   ],
   "source": [
    "df.iloc[250:315][col]"
   ]
  },
  {
   "cell_type": "code",
   "execution_count": null,
   "metadata": {},
   "outputs": [],
   "source": []
  }
 ],
 "metadata": {
  "kernelspec": {
   "display_name": "Python 3",
   "language": "python",
   "name": "python3"
  },
  "language_info": {
   "codemirror_mode": {
    "name": "ipython",
    "version": 3
   },
   "file_extension": ".py",
   "mimetype": "text/x-python",
   "name": "python",
   "nbconvert_exporter": "python",
   "pygments_lexer": "ipython3",
   "version": "3.7.9"
  },
  "toc": {
   "base_numbering": 1,
   "nav_menu": {},
   "number_sections": true,
   "sideBar": true,
   "skip_h1_title": false,
   "title_cell": "Table of Contents",
   "title_sidebar": "Contents",
   "toc_cell": true,
   "toc_position": {},
   "toc_section_display": true,
   "toc_window_display": true
  }
 },
 "nbformat": 4,
 "nbformat_minor": 4
}
