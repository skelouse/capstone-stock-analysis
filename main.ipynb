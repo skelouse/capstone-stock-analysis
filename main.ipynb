{
 "cells": [
  {
   "cell_type": "markdown",
   "metadata": {
    "toc": true
   },
   "source": [
    "<h1>Table of Contents<span class=\"tocSkip\"></span></h1>\n",
    "<div class=\"toc\"><ul class=\"toc-item\"><li><span><a href=\"#Style\" data-toc-modified-id=\"Style-1\"><span class=\"toc-item-num\">1&nbsp;&nbsp;</span>Style</a></span></li><li><span><a href=\"#Import-and-Data\" data-toc-modified-id=\"Import-and-Data-2\"><span class=\"toc-item-num\">2&nbsp;&nbsp;</span>Import and Data</a></span><ul class=\"toc-item\"><li><span><a href=\"#Custom-imports\" data-toc-modified-id=\"Custom-imports-2.1\"><span class=\"toc-item-num\">2.1&nbsp;&nbsp;</span>Custom imports</a></span></li><li><span><a href=\"#Import-Data\" data-toc-modified-id=\"Import-Data-2.2\"><span class=\"toc-item-num\">2.2&nbsp;&nbsp;</span>Import Data</a></span></li></ul></li><li><span><a href=\"#Scrubbing\" data-toc-modified-id=\"Scrubbing-3\"><span class=\"toc-item-num\">3&nbsp;&nbsp;</span>Scrubbing</a></span><ul class=\"toc-item\"><li><span><a href=\"#Test-df\" data-toc-modified-id=\"Test-df-3.1\"><span class=\"toc-item-num\">3.1&nbsp;&nbsp;</span>Test df</a></span></li><li><span><a href=\"#Functions\" data-toc-modified-id=\"Functions-3.2\"><span class=\"toc-item-num\">3.2&nbsp;&nbsp;</span>Functions</a></span></li><li><span><a href=\"#Price\" data-toc-modified-id=\"Price-3.3\"><span class=\"toc-item-num\">3.3&nbsp;&nbsp;</span>Price</a></span></li><li><span><a href=\"#Analyst\" data-toc-modified-id=\"Analyst-3.4\"><span class=\"toc-item-num\">3.4&nbsp;&nbsp;</span>Analyst</a></span><ul class=\"toc-item\"><li><span><a href=\"#Checking-for-null-values\" data-toc-modified-id=\"Checking-for-null-values-3.4.1\"><span class=\"toc-item-num\">3.4.1&nbsp;&nbsp;</span>Checking for null values</a></span></li><li><span><a href=\"#Filling-null-values\" data-toc-modified-id=\"Filling-null-values-3.4.2\"><span class=\"toc-item-num\">3.4.2&nbsp;&nbsp;</span>Filling null values</a></span></li><li><span><a href=\"#Length-of-df_analyst\" data-toc-modified-id=\"Length-of-df_analyst-3.4.3\"><span class=\"toc-item-num\">3.4.3&nbsp;&nbsp;</span>Length of df_analyst</a></span></li><li><span><a href=\"#mapping\" data-toc-modified-id=\"mapping-3.4.4\"><span class=\"toc-item-num\">3.4.4&nbsp;&nbsp;</span>mapping</a></span></li><li><span><a href=\"#Convert-object-to-float\" data-toc-modified-id=\"Convert-object-to-float-3.4.5\"><span class=\"toc-item-num\">3.4.5&nbsp;&nbsp;</span>Convert object to float</a></span></li></ul></li><li><span><a href=\"#Company\" data-toc-modified-id=\"Company-3.5\"><span class=\"toc-item-num\">3.5&nbsp;&nbsp;</span>Company</a></span><ul class=\"toc-item\"><li><span><a href=\"#NLP\" data-toc-modified-id=\"NLP-3.5.1\"><span class=\"toc-item-num\">3.5.1&nbsp;&nbsp;</span>NLP</a></span></li></ul></li><li><span><a href=\"#Performance\" data-toc-modified-id=\"Performance-3.6\"><span class=\"toc-item-num\">3.6&nbsp;&nbsp;</span>Performance</a></span><ul class=\"toc-item\"><li><span><a href=\"#Analyzing-a-stock\" data-toc-modified-id=\"Analyzing-a-stock-3.6.1\"><span class=\"toc-item-num\">3.6.1&nbsp;&nbsp;</span>Analyzing a stock</a></span></li><li><span><a href=\"#Null-Values\" data-toc-modified-id=\"Null-Values-3.6.2\"><span class=\"toc-item-num\">3.6.2&nbsp;&nbsp;</span>Null Values</a></span></li><li><span><a href=\"#Add-Price-to-Performance\" data-toc-modified-id=\"Add-Price-to-Performance-3.6.3\"><span class=\"toc-item-num\">3.6.3&nbsp;&nbsp;</span>Add Price to Performance</a></span></li><li><span><a href=\"#Double-indexing\" data-toc-modified-id=\"Double-indexing-3.6.4\"><span class=\"toc-item-num\">3.6.4&nbsp;&nbsp;</span>Double indexing</a></span></li><li><span><a href=\"#Fill-null-ExDividendDate-with-1970-01-01\" data-toc-modified-id=\"Fill-null-ExDividendDate-with-1970-01-01-3.6.5\"><span class=\"toc-item-num\">3.6.5&nbsp;&nbsp;</span>Fill null ExDividendDate with 1970-01-01</a></span></li><li><span><a href=\"#Calculate-missing-PE\" data-toc-modified-id=\"Calculate-missing-PE-3.6.6\"><span class=\"toc-item-num\">3.6.6&nbsp;&nbsp;</span>Calculate missing PE</a></span></li><li><span><a href=\"#Calculate-missing-PriceToCashFlow\" data-toc-modified-id=\"Calculate-missing-PriceToCashFlow-3.6.7\"><span class=\"toc-item-num\">3.6.7&nbsp;&nbsp;</span>Calculate missing PriceToCashFlow</a></span></li><li><span><a href=\"#Front-fill-columns-then-fill-null-with-0\" data-toc-modified-id=\"Front-fill-columns-then-fill-null-with-0-3.6.8\"><span class=\"toc-item-num\">3.6.8&nbsp;&nbsp;</span>Front fill columns then fill null with 0</a></span></li><li><span><a href=\"#Drop-the-stocks-that-are-in-the-missing-20%\" data-toc-modified-id=\"Drop-the-stocks-that-are-in-the-missing-20%-3.6.9\"><span class=\"toc-item-num\">3.6.9&nbsp;&nbsp;</span>Drop the stocks that are in the missing 20%</a></span></li></ul></li><li><span><a href=\"#Performance-Percentiles\" data-toc-modified-id=\"Performance-Percentiles-3.7\"><span class=\"toc-item-num\">3.7&nbsp;&nbsp;</span>Performance Percentiles</a></span></li><li><span><a href=\"#Splits\" data-toc-modified-id=\"Splits-3.8\"><span class=\"toc-item-num\">3.8&nbsp;&nbsp;</span>Splits</a></span></li></ul></li></ul></div>"
   ]
  },
  {
   "cell_type": "markdown",
   "metadata": {
    "ExecuteTime": {
     "end_time": "2020-11-15T20:00:48.122478Z",
     "start_time": "2020-11-15T20:00:48.115479Z"
    }
   },
   "source": [
    "## Style"
   ]
  },
  {
   "cell_type": "code",
   "execution_count": 1,
   "metadata": {
    "ExecuteTime": {
     "end_time": "2020-11-17T07:12:42.590349Z",
     "start_time": "2020-11-17T07:12:42.286399Z"
    }
   },
   "outputs": [
    {
     "data": {
      "text/html": [
       "<style>.shadowbox {\n",
       "    width: 40em;\n",
       "    border: 1px solid #333;\n",
       "    box-shadow: 8px 8px 5px #444;\n",
       "    padding: 8px 12px;\n",
       "    background-image: linear-gradient(180deg, black, rgb(107, 88, 88));\n",
       "    color: rgba(243, 218, 74, 0.801);\n",
       "    line-height: 25px;\n",
       "    position: static;\n",
       "}\n",
       "\n",
       "h2 {\n",
       "    width: 45em;\n",
       "    border: 1.5px solid #333;\n",
       "    /*box-shadow: 8px 8px 5px #444;*/\n",
       "    padding: 8px 12px;\n",
       "    background-image: linear-gradient(180deg, #fff, rgb(147, 156, 160));\n",
       "    position: static;\n",
       "}\n",
       "\n",
       "h3 {\n",
       "    width: 45em;\n",
       "    border: 1px solid #333;\n",
       "    /*box-shadow: 8px 8px 5px #444;*/\n",
       "    padding: 8px 12px;\n",
       "    background-image: linear-gradient(180deg, #fff, rgb(147, 156, 160));\n",
       "    position: relative;\n",
       "    right: -13px;\n",
       "}\n",
       "\n",
       "h4 {\n",
       "    width: 45em;\n",
       "    border: 0.5px solid #333;\n",
       "    /*box-shadow: 8px 8px 5px #444;*/\n",
       "    padding: 8px 12px;\n",
       "    background-image: linear-gradient(180deg, #fff, rgb(147, 156, 160));\n",
       "    position: relative;\n",
       "    right: -25px;\n",
       "}\n",
       "\n",
       ".shadow {\n",
       "    width: 45em;\n",
       "    box-shadow: 8px 8px 10px #444;\n",
       "    border: 1px solid silver;\n",
       "    margin-top: 2em;\n",
       "    position: relative;\n",
       "    top: -25px\n",
       "}\n",
       "\n",
       ".package_header {\n",
       "    width: 100%;\n",
       "    background-color: #0e2b59;\n",
       "    color: #ffffff;\n",
       "    font-size: 14px;\n",
       "    text-align: center;\n",
       "    padding-top: 8px;\n",
       "    padding-right: 8px;\n",
       "    padding-bottom: 8px;\n",
       "    padding-left: 8px;\n",
       "}\n",
       "\n",
       "blockquote {\n",
       "    border: 1px groove gray;\n",
       "    background-color: rgb(214, 218, 219);\n",
       "}\n",
       "\n",
       "</style>"
      ],
      "text/plain": [
       "<IPython.core.display.HTML object>"
      ]
     },
     "execution_count": 1,
     "metadata": {},
     "output_type": "execute_result"
    }
   ],
   "source": [
    "# import warnings\n",
    "# warnings.filterwarnings('ignore')\n",
    "import matplotlib as mpl\n",
    "mpl.rcParams['axes.titlesize']='xx-large'\n",
    "mpl.rcParams['xtick.labelsize'] = 13\n",
    "mpl.rcParams['ytick.labelsize'] = 13\n",
    "mpl.rcParams['axes.labelsize'] = 16\n",
    "\n",
    "# Styling notebook\n",
    "from IPython.core.display import HTML\n",
    "def css_styling():\n",
    "    styles = open(\"./styles/custom.css\", \"r\").read()\n",
    "    return HTML(styles)\n",
    "css_styling()"
   ]
  },
  {
   "cell_type": "markdown",
   "metadata": {},
   "source": [
    "## Import and Data"
   ]
  },
  {
   "cell_type": "code",
   "execution_count": 2,
   "metadata": {
    "ExecuteTime": {
     "end_time": "2020-11-17T07:12:44.143334Z",
     "start_time": "2020-11-17T07:12:43.465438Z"
    }
   },
   "outputs": [],
   "source": [
    "import pandas as pd\n",
    "import numpy as np\n",
    "import matplotlib.pyplot as plt\n",
    "import datetime\n",
    "pd.set_option('display.float_format', lambda x: '%.3f' % x)"
   ]
  },
  {
   "cell_type": "markdown",
   "metadata": {},
   "source": [
    "### Custom imports"
   ]
  },
  {
   "cell_type": "code",
   "execution_count": 3,
   "metadata": {
    "ExecuteTime": {
     "end_time": "2020-11-17T07:12:45.882398Z",
     "start_time": "2020-11-17T07:12:44.144333Z"
    }
   },
   "outputs": [
    {
     "name": "stdout",
     "output_type": "stream",
     "text": [
      "For convinent loading 'from mlframe import MLFrame\n"
     ]
    }
   ],
   "source": [
    "# from db import DataBase\n",
    "# from mlframe import MLFrame\n",
    "\n",
    "import importlib\n",
    "import sys\n",
    "\n",
    "if 'mlframe' in sys.modules:\n",
    "    importlib.reload(sys.modules['mlframe'])\n",
    "    importlib.reload(sys.modules['db'])\n",
    "\n",
    "from db import DataBase\n",
    "from mlframe import MLFrame"
   ]
  },
  {
   "cell_type": "markdown",
   "metadata": {},
   "source": [
    "### Import Data"
   ]
  },
  {
   "cell_type": "code",
   "execution_count": 4,
   "metadata": {
    "ExecuteTime": {
     "end_time": "2020-11-17T07:12:45.930399Z",
     "start_time": "2020-11-17T07:12:45.883402Z"
    }
   },
   "outputs": [
    {
     "data": {
      "text/plain": [
       "<db.db.DataBase at 0x246590bd9c8>"
      ]
     },
     "execution_count": 4,
     "metadata": {},
     "output_type": "execute_result"
    }
   ],
   "source": [
    "db = DataBase('stock', 14333, 'localhost')\n",
    "db"
   ]
  },
  {
   "cell_type": "code",
   "execution_count": 5,
   "metadata": {
    "ExecuteTime": {
     "end_time": "2020-11-17T07:12:45.946397Z",
     "start_time": "2020-11-17T07:12:45.931398Z"
    }
   },
   "outputs": [
    {
     "data": {
      "text/plain": [
       "(('analyst',),\n",
       " ('analystranking',),\n",
       " ('company',),\n",
       " ('performance',),\n",
       " ('performancepercentiles',),\n",
       " ('prices',),\n",
       " ('splits',),\n",
       " ('temp',))"
      ]
     },
     "execution_count": 5,
     "metadata": {},
     "output_type": "execute_result"
    }
   ],
   "source": [
    "query = \"\"\"\n",
    "SHOW TABLES\n",
    "\"\"\"\n",
    "db.cur.execute(query)\n",
    "tables = db.cur.fetchall()\n",
    "tables"
   ]
  },
  {
   "cell_type": "code",
   "execution_count": 6,
   "metadata": {
    "ExecuteTime": {
     "end_time": "2020-11-17T07:12:45.962400Z",
     "start_time": "2020-11-17T07:12:45.947399Z"
    }
   },
   "outputs": [
    {
     "data": {
      "text/plain": [
       "['analyst',\n",
       " 'analystranking',\n",
       " 'company',\n",
       " 'performance',\n",
       " 'performancepercentiles',\n",
       " 'prices',\n",
       " 'splits',\n",
       " 'temp']"
      ]
     },
     "execution_count": 6,
     "metadata": {},
     "output_type": "execute_result"
    }
   ],
   "source": [
    "db_names = list(table[0] for table in tables)\n",
    "db_names"
   ]
  },
  {
   "cell_type": "code",
   "execution_count": 7,
   "metadata": {
    "ExecuteTime": {
     "end_time": "2020-11-17T07:13:58.222354Z",
     "start_time": "2020-11-17T07:12:45.963400Z"
    }
   },
   "outputs": [],
   "source": [
    "db.pull_names_as_dataframes(db_names)"
   ]
  },
  {
   "cell_type": "markdown",
   "metadata": {},
   "source": [
    "## Scrubbing"
   ]
  },
  {
   "cell_type": "markdown",
   "metadata": {},
   "source": [
    "### Test df"
   ]
  },
  {
   "cell_type": "code",
   "execution_count": 8,
   "metadata": {
    "ExecuteTime": {
     "end_time": "2020-11-17T07:13:58.238359Z",
     "start_time": "2020-11-17T07:13:58.223354Z"
    }
   },
   "outputs": [],
   "source": [
    "test_dict = {'sym': {2: 'A', 3: 'A', 4: 'A', 5: 'A', 6: 'A'},\n",
    " 'date': {2: datetime.date(2019, 6, 4),\n",
    "  3: datetime.date(2019, 6, 8),\n",
    "  4: datetime.date(2019, 6, 17),\n",
    "  5: datetime.date(2019, 6, 19),\n",
    "  6: datetime.date(2019, 6, 20)},\n",
    " 'Argus': {2: '', 3: '', 4: '', 5: '', 6: ''},\n",
    " 'StarMine': {2: '', 3: '', 4: '9.4', 5\n",
    "              : '9.4', 6: '7'},\n",
    " 'ColumbineCapital': {2: '1', 3: '1', 4: '1', 5: '1', 6: '1'},\n",
    " 'FordEquityResearch': {2: '3', 3: '3', 4: '3', 5: '3', 6: '3'},\n",
    " 'ISSEVA': {2: '70', 3: '70', 4: '70', 5: '70', 6: '70'},\n",
    " 'Jefferson': {2: 'Buy', 3: 'Buy', 4: '1', 5: '1', 6: '1'},\n",
    " 'McLeanCapital': {2: 'Neutral', 3: 'Neutral', 4: '3', 5: '3', 6: '3'},\n",
    " 'NedDavis': {2: 'NEUTRAL',\n",
    "  3: 'NEUTRAL',\n",
    "  4: 'NEUTRAL',\n",
    "  5: 'NEUTRAL',\n",
    "  6: 'NEUTRAL'},\n",
    " 'TradingCentral': {2: '--', 3: '--', 4: '3', 5: '3', 6: '3'},\n",
    " 'Zacks': {2: 'HOLD', 3: 'BUY', 4: 'BUY', 5: 'HOLD', 6: 'HOLD'},\n",
    " 'SPValuation': {2: '92', 3: '93', 4: '93', 5: '93', 6: '93'},\n",
    " 'SPQuality': {2: '75', 3: '74', 4: '74', 5: '75', 6: '75'},\n",
    " 'SPGrowthStability': {2: '7', 3: '6', 4: '7', 5: '7', 6: '7'},\n",
    " 'SPFinancialHealth': {2: '85', 3: '85', 4: '85', 5: '85', 6: '85'},\n",
    " 'ThomsonReutersVerus': {2: 'HOLD',\n",
    "  3: 'HOLD',\n",
    "  4: 'HOLD',\n",
    "  5: 'HOLD',\n",
    "  6: 'HOLD'},\n",
    " 'ThomsonReutersIBES': {2: '1.714',\n",
    "  3: '1.8',\n",
    "  4: '1.813',\n",
    "  5: '1.813',\n",
    "  6: '1.813'}}"
   ]
  },
  {
   "cell_type": "code",
   "execution_count": 9,
   "metadata": {
    "ExecuteTime": {
     "end_time": "2020-11-17T07:13:58.268354Z",
     "start_time": "2020-11-17T07:13:58.239357Z"
    }
   },
   "outputs": [
    {
     "data": {
      "text/html": [
       "<div>\n",
       "<style scoped>\n",
       "    .dataframe tbody tr th:only-of-type {\n",
       "        vertical-align: middle;\n",
       "    }\n",
       "\n",
       "    .dataframe tbody tr th {\n",
       "        vertical-align: top;\n",
       "    }\n",
       "\n",
       "    .dataframe thead th {\n",
       "        text-align: right;\n",
       "    }\n",
       "</style>\n",
       "<table border=\"1\" class=\"dataframe\">\n",
       "  <thead>\n",
       "    <tr style=\"text-align: right;\">\n",
       "      <th></th>\n",
       "      <th>sym</th>\n",
       "      <th>date</th>\n",
       "      <th>Argus</th>\n",
       "      <th>StarMine</th>\n",
       "      <th>ColumbineCapital</th>\n",
       "      <th>FordEquityResearch</th>\n",
       "      <th>ISSEVA</th>\n",
       "      <th>Jefferson</th>\n",
       "      <th>McLeanCapital</th>\n",
       "      <th>NedDavis</th>\n",
       "      <th>TradingCentral</th>\n",
       "      <th>Zacks</th>\n",
       "      <th>SPValuation</th>\n",
       "      <th>SPQuality</th>\n",
       "      <th>SPGrowthStability</th>\n",
       "      <th>SPFinancialHealth</th>\n",
       "      <th>ThomsonReutersVerus</th>\n",
       "      <th>ThomsonReutersIBES</th>\n",
       "    </tr>\n",
       "  </thead>\n",
       "  <tbody>\n",
       "    <tr>\n",
       "      <th>2</th>\n",
       "      <td>A</td>\n",
       "      <td>2019-06-04</td>\n",
       "      <td></td>\n",
       "      <td></td>\n",
       "      <td>1</td>\n",
       "      <td>3</td>\n",
       "      <td>70</td>\n",
       "      <td>Buy</td>\n",
       "      <td>Neutral</td>\n",
       "      <td>NEUTRAL</td>\n",
       "      <td>--</td>\n",
       "      <td>HOLD</td>\n",
       "      <td>92</td>\n",
       "      <td>75</td>\n",
       "      <td>7</td>\n",
       "      <td>85</td>\n",
       "      <td>HOLD</td>\n",
       "      <td>1.714</td>\n",
       "    </tr>\n",
       "    <tr>\n",
       "      <th>3</th>\n",
       "      <td>A</td>\n",
       "      <td>2019-06-08</td>\n",
       "      <td></td>\n",
       "      <td></td>\n",
       "      <td>1</td>\n",
       "      <td>3</td>\n",
       "      <td>70</td>\n",
       "      <td>Buy</td>\n",
       "      <td>Neutral</td>\n",
       "      <td>NEUTRAL</td>\n",
       "      <td>--</td>\n",
       "      <td>BUY</td>\n",
       "      <td>93</td>\n",
       "      <td>74</td>\n",
       "      <td>6</td>\n",
       "      <td>85</td>\n",
       "      <td>HOLD</td>\n",
       "      <td>1.8</td>\n",
       "    </tr>\n",
       "    <tr>\n",
       "      <th>4</th>\n",
       "      <td>A</td>\n",
       "      <td>2019-06-17</td>\n",
       "      <td></td>\n",
       "      <td>9.4</td>\n",
       "      <td>1</td>\n",
       "      <td>3</td>\n",
       "      <td>70</td>\n",
       "      <td>1</td>\n",
       "      <td>3</td>\n",
       "      <td>NEUTRAL</td>\n",
       "      <td>3</td>\n",
       "      <td>BUY</td>\n",
       "      <td>93</td>\n",
       "      <td>74</td>\n",
       "      <td>7</td>\n",
       "      <td>85</td>\n",
       "      <td>HOLD</td>\n",
       "      <td>1.813</td>\n",
       "    </tr>\n",
       "    <tr>\n",
       "      <th>5</th>\n",
       "      <td>A</td>\n",
       "      <td>2019-06-19</td>\n",
       "      <td></td>\n",
       "      <td>9.4</td>\n",
       "      <td>1</td>\n",
       "      <td>3</td>\n",
       "      <td>70</td>\n",
       "      <td>1</td>\n",
       "      <td>3</td>\n",
       "      <td>NEUTRAL</td>\n",
       "      <td>3</td>\n",
       "      <td>HOLD</td>\n",
       "      <td>93</td>\n",
       "      <td>75</td>\n",
       "      <td>7</td>\n",
       "      <td>85</td>\n",
       "      <td>HOLD</td>\n",
       "      <td>1.813</td>\n",
       "    </tr>\n",
       "    <tr>\n",
       "      <th>6</th>\n",
       "      <td>A</td>\n",
       "      <td>2019-06-20</td>\n",
       "      <td></td>\n",
       "      <td>7</td>\n",
       "      <td>1</td>\n",
       "      <td>3</td>\n",
       "      <td>70</td>\n",
       "      <td>1</td>\n",
       "      <td>3</td>\n",
       "      <td>NEUTRAL</td>\n",
       "      <td>3</td>\n",
       "      <td>HOLD</td>\n",
       "      <td>93</td>\n",
       "      <td>75</td>\n",
       "      <td>7</td>\n",
       "      <td>85</td>\n",
       "      <td>HOLD</td>\n",
       "      <td>1.813</td>\n",
       "    </tr>\n",
       "  </tbody>\n",
       "</table>\n",
       "</div>"
      ],
      "text/plain": [
       "  sym        date Argus StarMine ColumbineCapital FordEquityResearch ISSEVA  \\\n",
       "2   A  2019-06-04                               1                  3     70   \n",
       "3   A  2019-06-08                               1                  3     70   \n",
       "4   A  2019-06-17            9.4                1                  3     70   \n",
       "5   A  2019-06-19            9.4                1                  3     70   \n",
       "6   A  2019-06-20              7                1                  3     70   \n",
       "\n",
       "  Jefferson McLeanCapital NedDavis TradingCentral Zacks SPValuation SPQuality  \\\n",
       "2       Buy       Neutral  NEUTRAL             --  HOLD          92        75   \n",
       "3       Buy       Neutral  NEUTRAL             --   BUY          93        74   \n",
       "4         1             3  NEUTRAL              3   BUY          93        74   \n",
       "5         1             3  NEUTRAL              3  HOLD          93        75   \n",
       "6         1             3  NEUTRAL              3  HOLD          93        75   \n",
       "\n",
       "  SPGrowthStability SPFinancialHealth ThomsonReutersVerus ThomsonReutersIBES  \n",
       "2                 7                85                HOLD              1.714  \n",
       "3                 6                85                HOLD                1.8  \n",
       "4                 7                85                HOLD              1.813  \n",
       "5                 7                85                HOLD              1.813  \n",
       "6                 7                85                HOLD              1.813  "
      ]
     },
     "execution_count": 9,
     "metadata": {},
     "output_type": "execute_result"
    }
   ],
   "source": [
    "test_df = pd.DataFrame(test_dict)\n",
    "test_df.head()"
   ]
  },
  {
   "cell_type": "markdown",
   "metadata": {},
   "source": [
    "### Functions"
   ]
  },
  {
   "cell_type": "code",
   "execution_count": 10,
   "metadata": {
    "ExecuteTime": {
     "end_time": "2020-11-17T07:13:58.284352Z",
     "start_time": "2020-11-17T07:13:58.269353Z"
    }
   },
   "outputs": [],
   "source": [
    "def get_perc_not_null(df):\n",
    "    nulls = df.isna().sum()\n",
    "    return pd.Series(1 - nulls/len(df)).sort_values() * 100"
   ]
  },
  {
   "cell_type": "markdown",
   "metadata": {},
   "source": [
    "### Price"
   ]
  },
  {
   "cell_type": "code",
   "execution_count": 11,
   "metadata": {
    "ExecuteTime": {
     "end_time": "2020-11-17T07:13:58.580327Z",
     "start_time": "2020-11-17T07:13:58.285351Z"
    }
   },
   "outputs": [
    {
     "data": {
      "text/html": [
       "<div>\n",
       "<style scoped>\n",
       "    .dataframe tbody tr th:only-of-type {\n",
       "        vertical-align: middle;\n",
       "    }\n",
       "\n",
       "    .dataframe tbody tr th {\n",
       "        vertical-align: top;\n",
       "    }\n",
       "\n",
       "    .dataframe thead th {\n",
       "        text-align: right;\n",
       "    }\n",
       "</style>\n",
       "<table border=\"1\" class=\"dataframe\">\n",
       "  <thead>\n",
       "    <tr style=\"text-align: right;\">\n",
       "      <th></th>\n",
       "      <th>sym</th>\n",
       "      <th>price</th>\n",
       "    </tr>\n",
       "    <tr>\n",
       "      <th>date</th>\n",
       "      <th></th>\n",
       "      <th></th>\n",
       "    </tr>\n",
       "  </thead>\n",
       "  <tbody>\n",
       "    <tr>\n",
       "      <th>2019-06-04</th>\n",
       "      <td>A</td>\n",
       "      <td>67.950000</td>\n",
       "    </tr>\n",
       "    <tr>\n",
       "      <th>2019-06-08</th>\n",
       "      <td>A</td>\n",
       "      <td>69.520000</td>\n",
       "    </tr>\n",
       "    <tr>\n",
       "      <th>2019-06-17</th>\n",
       "      <td>A</td>\n",
       "      <td>70.290000</td>\n",
       "    </tr>\n",
       "    <tr>\n",
       "      <th>2019-06-19</th>\n",
       "      <td>A</td>\n",
       "      <td>71.910000</td>\n",
       "    </tr>\n",
       "    <tr>\n",
       "      <th>2019-06-20</th>\n",
       "      <td>A</td>\n",
       "      <td>73.320000</td>\n",
       "    </tr>\n",
       "  </tbody>\n",
       "</table>\n",
       "</div>"
      ],
      "text/plain": [
       "           sym      price\n",
       "date                     \n",
       "2019-06-04   A  67.950000\n",
       "2019-06-08   A  69.520000\n",
       "2019-06-17   A  70.290000\n",
       "2019-06-19   A  71.910000\n",
       "2019-06-20   A  73.320000"
      ]
     },
     "execution_count": 11,
     "metadata": {},
     "output_type": "execute_result"
    }
   ],
   "source": [
    "# Cleaning first blank row\n",
    "df_prices = db.frames['prices'].copy(deep=True).drop(0)\n",
    "\n",
    "# Resetting date index and dropping index\n",
    "df_prices.set_index('date', inplace=True, drop=True)\n",
    "\n",
    "df_prices.head()"
   ]
  },
  {
   "cell_type": "code",
   "execution_count": 12,
   "metadata": {
    "ExecuteTime": {
     "end_time": "2020-11-17T07:13:58.724324Z",
     "start_time": "2020-11-17T07:13:58.581330Z"
    }
   },
   "outputs": [
    {
     "data": {
      "text/plain": [
       "sym      0\n",
       "price    0\n",
       "dtype: int64"
      ]
     },
     "execution_count": 12,
     "metadata": {},
     "output_type": "execute_result"
    }
   ],
   "source": [
    "df_prices.isna().sum()"
   ]
  },
  {
   "cell_type": "markdown",
   "metadata": {},
   "source": [
    "### Analyst"
   ]
  },
  {
   "cell_type": "code",
   "execution_count": 13,
   "metadata": {
    "ExecuteTime": {
     "end_time": "2020-11-17T07:14:00.852900Z",
     "start_time": "2020-11-17T07:13:58.725330Z"
    }
   },
   "outputs": [
    {
     "data": {
      "text/html": [
       "<div>\n",
       "<style scoped>\n",
       "    .dataframe tbody tr th:only-of-type {\n",
       "        vertical-align: middle;\n",
       "    }\n",
       "\n",
       "    .dataframe tbody tr th {\n",
       "        vertical-align: top;\n",
       "    }\n",
       "\n",
       "    .dataframe thead th {\n",
       "        text-align: right;\n",
       "    }\n",
       "</style>\n",
       "<table border=\"1\" class=\"dataframe\">\n",
       "  <thead>\n",
       "    <tr style=\"text-align: right;\">\n",
       "      <th></th>\n",
       "      <th>sym</th>\n",
       "      <th>Argus</th>\n",
       "      <th>StarMine</th>\n",
       "      <th>ColumbineCapital</th>\n",
       "      <th>FordEquityResearch</th>\n",
       "      <th>ISSEVA</th>\n",
       "      <th>Jefferson</th>\n",
       "      <th>McLeanCapital</th>\n",
       "      <th>NedDavis</th>\n",
       "      <th>TradingCentral</th>\n",
       "      <th>Zacks</th>\n",
       "      <th>SPValuation</th>\n",
       "      <th>SPQuality</th>\n",
       "      <th>SPGrowthStability</th>\n",
       "      <th>SPFinancialHealth</th>\n",
       "      <th>ThomsonReutersVerus</th>\n",
       "      <th>ThomsonReutersIBES</th>\n",
       "    </tr>\n",
       "    <tr>\n",
       "      <th>date</th>\n",
       "      <th></th>\n",
       "      <th></th>\n",
       "      <th></th>\n",
       "      <th></th>\n",
       "      <th></th>\n",
       "      <th></th>\n",
       "      <th></th>\n",
       "      <th></th>\n",
       "      <th></th>\n",
       "      <th></th>\n",
       "      <th></th>\n",
       "      <th></th>\n",
       "      <th></th>\n",
       "      <th></th>\n",
       "      <th></th>\n",
       "      <th></th>\n",
       "      <th></th>\n",
       "    </tr>\n",
       "  </thead>\n",
       "  <tbody>\n",
       "    <tr>\n",
       "      <th>2019-06-04</th>\n",
       "      <td>A</td>\n",
       "      <td></td>\n",
       "      <td></td>\n",
       "      <td>1</td>\n",
       "      <td>3</td>\n",
       "      <td>70</td>\n",
       "      <td>Buy</td>\n",
       "      <td>Neutral</td>\n",
       "      <td>NEUTRAL</td>\n",
       "      <td>--</td>\n",
       "      <td>HOLD</td>\n",
       "      <td>92</td>\n",
       "      <td>75</td>\n",
       "      <td>7</td>\n",
       "      <td>85</td>\n",
       "      <td>HOLD</td>\n",
       "      <td>1.714</td>\n",
       "    </tr>\n",
       "    <tr>\n",
       "      <th>2019-06-08</th>\n",
       "      <td>A</td>\n",
       "      <td></td>\n",
       "      <td></td>\n",
       "      <td>1</td>\n",
       "      <td>3</td>\n",
       "      <td>70</td>\n",
       "      <td>Buy</td>\n",
       "      <td>Neutral</td>\n",
       "      <td>NEUTRAL</td>\n",
       "      <td>--</td>\n",
       "      <td>BUY</td>\n",
       "      <td>93</td>\n",
       "      <td>74</td>\n",
       "      <td>6</td>\n",
       "      <td>85</td>\n",
       "      <td>HOLD</td>\n",
       "      <td>1.8</td>\n",
       "    </tr>\n",
       "    <tr>\n",
       "      <th>2019-06-17</th>\n",
       "      <td>A</td>\n",
       "      <td></td>\n",
       "      <td>9.4</td>\n",
       "      <td>1</td>\n",
       "      <td>3</td>\n",
       "      <td>70</td>\n",
       "      <td>1</td>\n",
       "      <td>3</td>\n",
       "      <td>NEUTRAL</td>\n",
       "      <td>3</td>\n",
       "      <td>BUY</td>\n",
       "      <td>93</td>\n",
       "      <td>74</td>\n",
       "      <td>7</td>\n",
       "      <td>85</td>\n",
       "      <td>HOLD</td>\n",
       "      <td>1.813</td>\n",
       "    </tr>\n",
       "    <tr>\n",
       "      <th>2019-06-19</th>\n",
       "      <td>A</td>\n",
       "      <td></td>\n",
       "      <td>9.4</td>\n",
       "      <td>1</td>\n",
       "      <td>3</td>\n",
       "      <td>70</td>\n",
       "      <td>1</td>\n",
       "      <td>3</td>\n",
       "      <td>NEUTRAL</td>\n",
       "      <td>3</td>\n",
       "      <td>HOLD</td>\n",
       "      <td>93</td>\n",
       "      <td>75</td>\n",
       "      <td>7</td>\n",
       "      <td>85</td>\n",
       "      <td>HOLD</td>\n",
       "      <td>1.813</td>\n",
       "    </tr>\n",
       "    <tr>\n",
       "      <th>2019-06-20</th>\n",
       "      <td>A</td>\n",
       "      <td></td>\n",
       "      <td>7</td>\n",
       "      <td>1</td>\n",
       "      <td>3</td>\n",
       "      <td>70</td>\n",
       "      <td>1</td>\n",
       "      <td>3</td>\n",
       "      <td>NEUTRAL</td>\n",
       "      <td>3</td>\n",
       "      <td>HOLD</td>\n",
       "      <td>93</td>\n",
       "      <td>75</td>\n",
       "      <td>7</td>\n",
       "      <td>85</td>\n",
       "      <td>HOLD</td>\n",
       "      <td>1.813</td>\n",
       "    </tr>\n",
       "  </tbody>\n",
       "</table>\n",
       "</div>"
      ],
      "text/plain": [
       "           sym Argus StarMine ColumbineCapital FordEquityResearch ISSEVA  \\\n",
       "date                                                                       \n",
       "2019-06-04   A                               1                  3     70   \n",
       "2019-06-08   A                               1                  3     70   \n",
       "2019-06-17   A            9.4                1                  3     70   \n",
       "2019-06-19   A            9.4                1                  3     70   \n",
       "2019-06-20   A              7                1                  3     70   \n",
       "\n",
       "           Jefferson McLeanCapital NedDavis TradingCentral Zacks SPValuation  \\\n",
       "date                                                                           \n",
       "2019-06-04       Buy       Neutral  NEUTRAL             --  HOLD          92   \n",
       "2019-06-08       Buy       Neutral  NEUTRAL             --   BUY          93   \n",
       "2019-06-17         1             3  NEUTRAL              3   BUY          93   \n",
       "2019-06-19         1             3  NEUTRAL              3  HOLD          93   \n",
       "2019-06-20         1             3  NEUTRAL              3  HOLD          93   \n",
       "\n",
       "           SPQuality SPGrowthStability SPFinancialHealth ThomsonReutersVerus  \\\n",
       "date                                                                           \n",
       "2019-06-04        75                 7                85                HOLD   \n",
       "2019-06-08        74                 6                85                HOLD   \n",
       "2019-06-17        74                 7                85                HOLD   \n",
       "2019-06-19        75                 7                85                HOLD   \n",
       "2019-06-20        75                 7                85                HOLD   \n",
       "\n",
       "           ThomsonReutersIBES  \n",
       "date                           \n",
       "2019-06-04              1.714  \n",
       "2019-06-08                1.8  \n",
       "2019-06-17              1.813  \n",
       "2019-06-19              1.813  \n",
       "2019-06-20              1.813  "
      ]
     },
     "execution_count": 13,
     "metadata": {},
     "output_type": "execute_result"
    }
   ],
   "source": [
    "# Cleaning first two blank rows\n",
    "df_analyst = db.frames['analyst'].copy(deep=True).drop([0, 1])\n",
    "\n",
    "# Resetting date index and dropping index\n",
    "df_analyst.set_index('date', inplace=True, drop=True)\n",
    "\n",
    "# Dropping null date values\n",
    "df_analyst = df_analyst.loc[df_analyst.index.notnull()]\n",
    "\n",
    "df_analyst.head()"
   ]
  },
  {
   "cell_type": "code",
   "execution_count": 14,
   "metadata": {
    "ExecuteTime": {
     "end_time": "2020-11-17T07:14:02.434499Z",
     "start_time": "2020-11-17T07:14:00.853902Z"
    }
   },
   "outputs": [],
   "source": [
    "df_analyst.replace(['', '--'], np.NaN, inplace=True)"
   ]
  },
  {
   "cell_type": "markdown",
   "metadata": {},
   "source": [
    "#### Checking for null values"
   ]
  },
  {
   "cell_type": "code",
   "execution_count": 15,
   "metadata": {
    "ExecuteTime": {
     "end_time": "2020-11-17T07:14:03.787482Z",
     "start_time": "2020-11-17T07:14:02.435501Z"
    }
   },
   "outputs": [
    {
     "data": {
      "text/plain": [
       "Argus                   7.731\n",
       "NedDavis               14.365\n",
       "TradingCentral         22.200\n",
       "McLeanCapital          37.580\n",
       "Jefferson              37.611\n",
       "ColumbineCapital       47.071\n",
       "ISSEVA                 52.943\n",
       "StarMine               56.662\n",
       "FordEquityResearch     57.875\n",
       "Zacks                  60.053\n",
       "ThomsonReutersIBES     66.188\n",
       "ThomsonReutersVerus    67.532\n",
       "SPFinancialHealth      68.669\n",
       "SPQuality              71.977\n",
       "SPGrowthStability      72.126\n",
       "SPValuation            72.192\n",
       "sym                   100.000\n",
       "dtype: float64"
      ]
     },
     "execution_count": 15,
     "metadata": {},
     "output_type": "execute_result"
    }
   ],
   "source": [
    "get_perc_not_null(df_analyst)"
   ]
  },
  {
   "cell_type": "markdown",
   "metadata": {},
   "source": [
    "> Here you can see the percentage of a column that is not null, Argus is in less than one percent of the data.  We will need to convene a method to deal with the null values.\n",
    "\n",
    ">  The method for filling null values will be a front fill, and a 0 based back fill grouped by stock.  For example if a stock has not been rated by a company at all it will be continuously 0, and if that analyst suddenly rating a stock after no having rated it is significant an algorithm should pick up on that.\n",
    "> * Example below:"
   ]
  },
  {
   "cell_type": "code",
   "execution_count": 16,
   "metadata": {
    "ExecuteTime": {
     "end_time": "2020-11-17T07:14:04.475448Z",
     "start_time": "2020-11-17T07:14:03.788474Z"
    }
   },
   "outputs": [
    {
     "data": {
      "text/plain": [
       "date\n",
       "2019-06-04      1\n",
       "2019-06-08      1\n",
       "2019-06-17      1\n",
       "2019-06-19      1\n",
       "2019-06-20      1\n",
       "             ... \n",
       "2020-11-02    NaN\n",
       "2020-11-03    NaN\n",
       "2020-11-04    NaN\n",
       "2020-11-05    NaN\n",
       "2020-11-06    NaN\n",
       "Name: ColumbineCapital, Length: 361, dtype: object"
      ]
     },
     "execution_count": 16,
     "metadata": {},
     "output_type": "execute_result"
    }
   ],
   "source": [
    "df_analyst.loc[df_analyst['sym'] == 'BBU']['ColumbineCapital']"
   ]
  },
  {
   "cell_type": "markdown",
   "metadata": {},
   "source": [
    "> As you can see the beginning values are 1 and the end values are NaN.  If there were values missed in between two days we wouldn't want it to go from 5 to 0 back to 5 so we will be filling the in between and end NaNs with the previous rating, and the starting NaNs with 0."
   ]
  },
  {
   "cell_type": "code",
   "execution_count": 17,
   "metadata": {
    "ExecuteTime": {
     "end_time": "2020-11-17T07:14:04.491449Z",
     "start_time": "2020-11-17T07:14:04.476449Z"
    }
   },
   "outputs": [
    {
     "data": {
      "text/html": [
       "<div>\n",
       "<style scoped>\n",
       "    .dataframe tbody tr th:only-of-type {\n",
       "        vertical-align: middle;\n",
       "    }\n",
       "\n",
       "    .dataframe tbody tr th {\n",
       "        vertical-align: top;\n",
       "    }\n",
       "\n",
       "    .dataframe thead th {\n",
       "        text-align: right;\n",
       "    }\n",
       "</style>\n",
       "<table border=\"1\" class=\"dataframe\">\n",
       "  <thead>\n",
       "    <tr style=\"text-align: right;\">\n",
       "      <th></th>\n",
       "      <th>sym</th>\n",
       "      <th>random_analyst</th>\n",
       "      <th>randon_analyst2</th>\n",
       "    </tr>\n",
       "  </thead>\n",
       "  <tbody>\n",
       "    <tr>\n",
       "      <th>0</th>\n",
       "      <td>a</td>\n",
       "      <td>nan</td>\n",
       "      <td>3</td>\n",
       "    </tr>\n",
       "    <tr>\n",
       "      <th>1</th>\n",
       "      <td>a</td>\n",
       "      <td>nan</td>\n",
       "      <td>4</td>\n",
       "    </tr>\n",
       "    <tr>\n",
       "      <th>2</th>\n",
       "      <td>a</td>\n",
       "      <td>3.000</td>\n",
       "      <td>8</td>\n",
       "    </tr>\n",
       "    <tr>\n",
       "      <th>3</th>\n",
       "      <td>a</td>\n",
       "      <td>nan</td>\n",
       "      <td>6</td>\n",
       "    </tr>\n",
       "    <tr>\n",
       "      <th>4</th>\n",
       "      <td>a</td>\n",
       "      <td>5.000</td>\n",
       "      <td>5</td>\n",
       "    </tr>\n",
       "  </tbody>\n",
       "</table>\n",
       "</div>"
      ],
      "text/plain": [
       "  sym  random_analyst  randon_analyst2\n",
       "0   a             nan                3\n",
       "1   a             nan                4\n",
       "2   a           3.000                8\n",
       "3   a             nan                6\n",
       "4   a           5.000                5"
      ]
     },
     "metadata": {},
     "output_type": "display_data"
    },
    {
     "data": {
      "text/html": [
       "<div>\n",
       "<style scoped>\n",
       "    .dataframe tbody tr th:only-of-type {\n",
       "        vertical-align: middle;\n",
       "    }\n",
       "\n",
       "    .dataframe tbody tr th {\n",
       "        vertical-align: top;\n",
       "    }\n",
       "\n",
       "    .dataframe thead th {\n",
       "        text-align: right;\n",
       "    }\n",
       "</style>\n",
       "<table border=\"1\" class=\"dataframe\">\n",
       "  <thead>\n",
       "    <tr style=\"text-align: right;\">\n",
       "      <th></th>\n",
       "      <th>sym</th>\n",
       "      <th>random_analyst</th>\n",
       "      <th>randon_analyst2</th>\n",
       "    </tr>\n",
       "  </thead>\n",
       "  <tbody>\n",
       "    <tr>\n",
       "      <th>0</th>\n",
       "      <td>a</td>\n",
       "      <td>0.000</td>\n",
       "      <td>3</td>\n",
       "    </tr>\n",
       "    <tr>\n",
       "      <th>1</th>\n",
       "      <td>a</td>\n",
       "      <td>0.000</td>\n",
       "      <td>4</td>\n",
       "    </tr>\n",
       "    <tr>\n",
       "      <th>2</th>\n",
       "      <td>a</td>\n",
       "      <td>3.000</td>\n",
       "      <td>8</td>\n",
       "    </tr>\n",
       "    <tr>\n",
       "      <th>3</th>\n",
       "      <td>a</td>\n",
       "      <td>3.000</td>\n",
       "      <td>6</td>\n",
       "    </tr>\n",
       "    <tr>\n",
       "      <th>4</th>\n",
       "      <td>a</td>\n",
       "      <td>5.000</td>\n",
       "      <td>5</td>\n",
       "    </tr>\n",
       "  </tbody>\n",
       "</table>\n",
       "</div>"
      ],
      "text/plain": [
       "  sym  random_analyst  randon_analyst2\n",
       "0   a           0.000                3\n",
       "1   a           0.000                4\n",
       "2   a           3.000                8\n",
       "3   a           3.000                6\n",
       "4   a           5.000                5"
      ]
     },
     "execution_count": 17,
     "metadata": {},
     "output_type": "execute_result"
    }
   ],
   "source": [
    "test_fill_na_dict = {\n",
    "    'sym': ['a', 'a', 'a', 'a', 'a'],\n",
    "    'random_analyst': [np.NaN, np.NaN, 3, np.NaN, 5],\n",
    "    'randon_analyst2': [3, 4, 8, 6, 5],\n",
    "}\n",
    "\n",
    "test_df2 = pd.DataFrame(test_fill_na_dict)\n",
    "display(test_df2.head())\n",
    "\n",
    "test_df2.fillna(method='ffill').fillna(0)"
   ]
  },
  {
   "cell_type": "markdown",
   "metadata": {},
   "source": [
    "<div class=\"alert alert-info shadow\">\n",
    "  The <strong>fillna(method=\"ffill\").fillna(0)</strong> does exactly that by first filling nulls with the front value, and then the second fillna fills the rest of the nulls with 0.  We will now use it on the entire dataframe.\n",
    "</div>"
   ]
  },
  {
   "cell_type": "markdown",
   "metadata": {},
   "source": [
    "#### Filling null values"
   ]
  },
  {
   "cell_type": "code",
   "execution_count": 18,
   "metadata": {
    "ExecuteTime": {
     "end_time": "2020-11-17T07:14:08.122766Z",
     "start_time": "2020-11-17T07:14:04.492449Z"
    }
   },
   "outputs": [],
   "source": [
    "df_analyst = df_analyst.fillna(method='ffill').fillna(0)"
   ]
  },
  {
   "cell_type": "code",
   "execution_count": 19,
   "metadata": {
    "ExecuteTime": {
     "end_time": "2020-11-17T07:14:09.034036Z",
     "start_time": "2020-11-17T07:14:08.137572Z"
    }
   },
   "outputs": [
    {
     "data": {
      "text/plain": [
       "date\n",
       "2019-06-04    1\n",
       "2019-06-08    1\n",
       "2019-06-17    1\n",
       "2019-06-19    1\n",
       "2019-06-20    1\n",
       "             ..\n",
       "2020-11-02    2\n",
       "2020-11-03    2\n",
       "2020-11-04    2\n",
       "2020-11-05    2\n",
       "2020-11-06    2\n",
       "Name: ColumbineCapital, Length: 361, dtype: object"
      ]
     },
     "execution_count": 19,
     "metadata": {},
     "output_type": "execute_result"
    }
   ],
   "source": [
    "# Rechecking BBU\n",
    "df_analyst.loc[df_analyst['sym'] == 'BBU']['ColumbineCapital']"
   ]
  },
  {
   "cell_type": "code",
   "execution_count": 20,
   "metadata": {
    "ExecuteTime": {
     "end_time": "2020-11-17T07:14:10.394581Z",
     "start_time": "2020-11-17T07:14:09.036043Z"
    }
   },
   "outputs": [
    {
     "data": {
      "text/plain": [
       "sym                    0\n",
       "Argus                  0\n",
       "StarMine               0\n",
       "ColumbineCapital       0\n",
       "FordEquityResearch     0\n",
       "ISSEVA                 0\n",
       "Jefferson              0\n",
       "McLeanCapital          0\n",
       "NedDavis               0\n",
       "TradingCentral         0\n",
       "Zacks                  0\n",
       "SPValuation            0\n",
       "SPQuality              0\n",
       "SPGrowthStability      0\n",
       "SPFinancialHealth      0\n",
       "ThomsonReutersVerus    0\n",
       "ThomsonReutersIBES     0\n",
       "dtype: int64"
      ]
     },
     "execution_count": 20,
     "metadata": {},
     "output_type": "execute_result"
    }
   ],
   "source": [
    "# Checking that all null values are filled\n",
    "df_analyst.isna().sum()"
   ]
  },
  {
   "cell_type": "markdown",
   "metadata": {},
   "source": [
    "#### Length of df_analyst"
   ]
  },
  {
   "cell_type": "code",
   "execution_count": 21,
   "metadata": {
    "ExecuteTime": {
     "end_time": "2020-11-17T07:14:10.410581Z",
     "start_time": "2020-11-17T07:14:10.395584Z"
    }
   },
   "outputs": [
    {
     "data": {
      "text/plain": [
       "2249627"
      ]
     },
     "execution_count": 21,
     "metadata": {},
     "output_type": "execute_result"
    }
   ],
   "source": [
    "len(df_analyst)"
   ]
  },
  {
   "cell_type": "markdown",
   "metadata": {},
   "source": [
    "<div class=\"alert alert-success shadow\">\n",
    "  <strong>Success!</strong> No more null values in analyst, and it has 2,249,627 rows.  Now we need to go about making the different columns numerical.  There are two different methods we could use for this:\n",
    "    <ul>\n",
    "        <li>Manually take the unique values for each column and <b>mapping</b> an arbitrary number to represent things like 'BUY', 'HOLD', 'SELL BIGLY'</li>\n",
    "        <li>Use <b>NLP</b> to vectorize each of the columns</li><ul> <br> We will be using the first method, as we already have the mapping ready from a previous analysis.\n",
    "\n",
    "</div>"
   ]
  },
  {
   "cell_type": "markdown",
   "metadata": {},
   "source": [
    "#### mapping"
   ]
  },
  {
   "cell_type": "code",
   "execution_count": 22,
   "metadata": {
    "ExecuteTime": {
     "end_time": "2020-11-17T07:14:10.599583Z",
     "start_time": "2020-11-17T07:14:10.411584Z"
    }
   },
   "outputs": [
    {
     "data": {
      "text/plain": [
       "date\n",
       "2019-06-04    5\n",
       "2019-06-08    5\n",
       "2019-06-17    1\n",
       "2019-06-19    1\n",
       "2019-06-20    1\n",
       "             ..\n",
       "2020-11-02    3\n",
       "2020-11-03    3\n",
       "2020-11-04    3\n",
       "2020-11-05    3\n",
       "2020-11-06    3\n",
       "Name: Jefferson, Length: 2249627, dtype: int64"
      ]
     },
     "execution_count": 22,
     "metadata": {},
     "output_type": "execute_result"
    }
   ],
   "source": [
    "df_analyst['Jefferson'].map({'Buy':5, '1':1, '3':3, '5':5, 'Hold':3, 'Sell':1})"
   ]
  },
  {
   "cell_type": "code",
   "execution_count": 23,
   "metadata": {
    "ExecuteTime": {
     "end_time": "2020-11-17T07:14:10.614581Z",
     "start_time": "2020-11-17T07:14:10.600587Z"
    }
   },
   "outputs": [],
   "source": [
    "analyst_mapping = {\n",
    "    'Argus': {0:0, 'Buy':5, 'Hold':3, 'Sell':1},\n",
    "    'TradingCentral': {'Buy':5, '1':1, '3':3, '5':5, 0:0, 'Sell':1},\n",
    "    'Jefferson': {'Buy':5, '1':1, '3':3, '5':5, 'Hold':3, 'Sell':1},\n",
    "    'McLeanCapital': {'Buy':5, '1':1, '3':3, '5':5, 'Neutral':3, 'Sell':1},\n",
    "    'NedDavis': {'NEUTRAL':3, 'BUY':5, 'SELL':1},\n",
    "    'Zacks': {'STRONG BUY':6, 'BUY':5, 'OUTPERFORM':5,\n",
    "             'NEUTRAL':3, 'HOLD':3, 'SELL':2, 'UNDERPERFORM':2,\n",
    "             'STRONG SELL':1, 'NONE':0},\n",
    "    'ThomsonReutersVerus': {'HOLD':3, 'SELL':1, 'BUY':5}\n",
    "}"
   ]
  },
  {
   "cell_type": "code",
   "execution_count": 24,
   "metadata": {
    "ExecuteTime": {
     "end_time": "2020-11-17T07:14:13.728222Z",
     "start_time": "2020-11-17T07:14:10.615586Z"
    }
   },
   "outputs": [],
   "source": [
    "for col, mapping in analyst_mapping.items():\n",
    "    df_analyst[col] = df_analyst[col].map(mapping)"
   ]
  },
  {
   "cell_type": "code",
   "execution_count": 40,
   "metadata": {
    "ExecuteTime": {
     "end_time": "2020-11-17T07:31:06.407034Z",
     "start_time": "2020-11-17T07:31:06.225916Z"
    }
   },
   "outputs": [
    {
     "data": {
      "text/plain": [
       "sym                    0\n",
       "Argus                  0\n",
       "StarMine               0\n",
       "ColumbineCapital       0\n",
       "FordEquityResearch     0\n",
       "ISSEVA                 0\n",
       "Jefferson              0\n",
       "McLeanCapital          0\n",
       "NedDavis               0\n",
       "TradingCentral         0\n",
       "Zacks                  0\n",
       "SPValuation            0\n",
       "SPQuality              0\n",
       "SPGrowthStability      0\n",
       "SPFinancialHealth      0\n",
       "ThomsonReutersVerus    0\n",
       "ThomsonReutersIBES     0\n",
       "dtype: int64"
      ]
     },
     "execution_count": 40,
     "metadata": {},
     "output_type": "execute_result"
    }
   ],
   "source": [
    "# Double checking to make sure no mappings were missed\n",
    "df_analyst.isna().sum()"
   ]
  },
  {
   "cell_type": "markdown",
   "metadata": {},
   "source": [
    "#### Convert object to float"
   ]
  },
  {
   "cell_type": "code",
   "execution_count": 27,
   "metadata": {
    "ExecuteTime": {
     "end_time": "2020-11-17T07:14:19.258398Z",
     "start_time": "2020-11-17T07:14:14.661334Z"
    }
   },
   "outputs": [
    {
     "name": "stdout",
     "output_type": "stream",
     "text": [
      "Argus\n",
      "StarMine\n",
      "ColumbineCapital\n",
      "FordEquityResearch\n",
      "ISSEVA\n",
      "Jefferson\n",
      "McLeanCapital\n",
      "NedDavis\n",
      "TradingCentral\n",
      "Zacks\n",
      "SPValuation\n",
      "SPQuality\n",
      "SPGrowthStability\n",
      "SPFinancialHealth\n",
      "ThomsonReutersVerus\n",
      "ThomsonReutersIBES\n"
     ]
    }
   ],
   "source": [
    "for col in df_analyst.columns:\n",
    "    if col != 'sym':\n",
    "        print(col)\n",
    "        df_analyst[col] = df_analyst[col].astype('float32')"
   ]
  },
  {
   "cell_type": "code",
   "execution_count": 25,
   "metadata": {
    "ExecuteTime": {
     "end_time": "2020-11-17T07:14:13.759232Z",
     "start_time": "2020-11-17T07:14:13.729220Z"
    }
   },
   "outputs": [
    {
     "data": {
      "text/plain": [
       "array([0, 3, 1, 5], dtype=int64)"
      ]
     },
     "execution_count": 25,
     "metadata": {},
     "output_type": "execute_result"
    }
   ],
   "source": [
    "df_analyst['TradingCentral'].unique()"
   ]
  },
  {
   "cell_type": "code",
   "execution_count": 28,
   "metadata": {
    "ExecuteTime": {
     "end_time": "2020-11-17T07:14:20.116441Z",
     "start_time": "2020-11-17T07:14:19.259400Z"
    }
   },
   "outputs": [
    {
     "data": {
      "text/html": [
       "<div>\n",
       "<style scoped>\n",
       "    .dataframe tbody tr th:only-of-type {\n",
       "        vertical-align: middle;\n",
       "    }\n",
       "\n",
       "    .dataframe tbody tr th {\n",
       "        vertical-align: top;\n",
       "    }\n",
       "\n",
       "    .dataframe thead th {\n",
       "        text-align: right;\n",
       "    }\n",
       "</style>\n",
       "<table border=\"1\" class=\"dataframe\">\n",
       "  <thead>\n",
       "    <tr style=\"text-align: right;\">\n",
       "      <th></th>\n",
       "      <th>Argus</th>\n",
       "      <th>StarMine</th>\n",
       "      <th>ColumbineCapital</th>\n",
       "      <th>FordEquityResearch</th>\n",
       "      <th>ISSEVA</th>\n",
       "      <th>Jefferson</th>\n",
       "      <th>McLeanCapital</th>\n",
       "      <th>NedDavis</th>\n",
       "      <th>TradingCentral</th>\n",
       "      <th>Zacks</th>\n",
       "      <th>SPValuation</th>\n",
       "      <th>SPQuality</th>\n",
       "      <th>SPGrowthStability</th>\n",
       "      <th>SPFinancialHealth</th>\n",
       "      <th>ThomsonReutersVerus</th>\n",
       "      <th>ThomsonReutersIBES</th>\n",
       "    </tr>\n",
       "  </thead>\n",
       "  <tbody>\n",
       "    <tr>\n",
       "      <th>count</th>\n",
       "      <td>2249627.000</td>\n",
       "      <td>2249627.000</td>\n",
       "      <td>2249627.000</td>\n",
       "      <td>2249627.000</td>\n",
       "      <td>2249627.000</td>\n",
       "      <td>2249627.000</td>\n",
       "      <td>2249627.000</td>\n",
       "      <td>2249627.000</td>\n",
       "      <td>2249627.000</td>\n",
       "      <td>2249627.000</td>\n",
       "      <td>2249627.000</td>\n",
       "      <td>2249627.000</td>\n",
       "      <td>2249627.000</td>\n",
       "      <td>2249627.000</td>\n",
       "      <td>2249627.000</td>\n",
       "      <td>2249627.000</td>\n",
       "    </tr>\n",
       "    <tr>\n",
       "      <th>mean</th>\n",
       "      <td>4.223</td>\n",
       "      <td>4.526</td>\n",
       "      <td>2.004</td>\n",
       "      <td>2.911</td>\n",
       "      <td>49.333</td>\n",
       "      <td>3.583</td>\n",
       "      <td>2.973</td>\n",
       "      <td>2.925</td>\n",
       "      <td>2.877</td>\n",
       "      <td>3.141</td>\n",
       "      <td>48.308</td>\n",
       "      <td>48.725</td>\n",
       "      <td>49.616</td>\n",
       "      <td>48.970</td>\n",
       "      <td>2.916</td>\n",
       "      <td>2.256</td>\n",
       "    </tr>\n",
       "    <tr>\n",
       "      <th>std</th>\n",
       "      <td>1.005</td>\n",
       "      <td>2.979</td>\n",
       "      <td>0.784</td>\n",
       "      <td>0.891</td>\n",
       "      <td>30.326</td>\n",
       "      <td>1.462</td>\n",
       "      <td>0.478</td>\n",
       "      <td>0.896</td>\n",
       "      <td>1.248</td>\n",
       "      <td>0.866</td>\n",
       "      <td>29.314</td>\n",
       "      <td>29.045</td>\n",
       "      <td>28.906</td>\n",
       "      <td>28.914</td>\n",
       "      <td>1.195</td>\n",
       "      <td>0.573</td>\n",
       "    </tr>\n",
       "    <tr>\n",
       "      <th>min</th>\n",
       "      <td>0.000</td>\n",
       "      <td>-8.900</td>\n",
       "      <td>1.000</td>\n",
       "      <td>1.000</td>\n",
       "      <td>0.000</td>\n",
       "      <td>1.000</td>\n",
       "      <td>1.000</td>\n",
       "      <td>1.000</td>\n",
       "      <td>0.000</td>\n",
       "      <td>0.000</td>\n",
       "      <td>0.000</td>\n",
       "      <td>0.000</td>\n",
       "      <td>0.000</td>\n",
       "      <td>0.000</td>\n",
       "      <td>1.000</td>\n",
       "      <td>1.000</td>\n",
       "    </tr>\n",
       "    <tr>\n",
       "      <th>25%</th>\n",
       "      <td>3.000</td>\n",
       "      <td>1.700</td>\n",
       "      <td>1.000</td>\n",
       "      <td>3.000</td>\n",
       "      <td>22.000</td>\n",
       "      <td>3.000</td>\n",
       "      <td>3.000</td>\n",
       "      <td>3.000</td>\n",
       "      <td>3.000</td>\n",
       "      <td>3.000</td>\n",
       "      <td>22.000</td>\n",
       "      <td>23.000</td>\n",
       "      <td>25.000</td>\n",
       "      <td>24.000</td>\n",
       "      <td>3.000</td>\n",
       "      <td>1.929</td>\n",
       "    </tr>\n",
       "    <tr>\n",
       "      <th>50%</th>\n",
       "      <td>5.000</td>\n",
       "      <td>4.300</td>\n",
       "      <td>2.000</td>\n",
       "      <td>3.000</td>\n",
       "      <td>49.000</td>\n",
       "      <td>3.000</td>\n",
       "      <td>3.000</td>\n",
       "      <td>3.000</td>\n",
       "      <td>3.000</td>\n",
       "      <td>3.000</td>\n",
       "      <td>48.000</td>\n",
       "      <td>48.000</td>\n",
       "      <td>50.000</td>\n",
       "      <td>49.000</td>\n",
       "      <td>3.000</td>\n",
       "      <td>2.176</td>\n",
       "    </tr>\n",
       "    <tr>\n",
       "      <th>75%</th>\n",
       "      <td>5.000</td>\n",
       "      <td>7.100</td>\n",
       "      <td>3.000</td>\n",
       "      <td>3.000</td>\n",
       "      <td>76.000</td>\n",
       "      <td>5.000</td>\n",
       "      <td>3.000</td>\n",
       "      <td>3.000</td>\n",
       "      <td>3.000</td>\n",
       "      <td>3.000</td>\n",
       "      <td>74.000</td>\n",
       "      <td>74.000</td>\n",
       "      <td>75.000</td>\n",
       "      <td>74.000</td>\n",
       "      <td>3.000</td>\n",
       "      <td>2.643</td>\n",
       "    </tr>\n",
       "    <tr>\n",
       "      <th>max</th>\n",
       "      <td>5.000</td>\n",
       "      <td>10.000</td>\n",
       "      <td>3.000</td>\n",
       "      <td>5.000</td>\n",
       "      <td>100.000</td>\n",
       "      <td>5.000</td>\n",
       "      <td>5.000</td>\n",
       "      <td>5.000</td>\n",
       "      <td>5.000</td>\n",
       "      <td>6.000</td>\n",
       "      <td>99.000</td>\n",
       "      <td>99.000</td>\n",
       "      <td>99.000</td>\n",
       "      <td>99.000</td>\n",
       "      <td>5.000</td>\n",
       "      <td>5.000</td>\n",
       "    </tr>\n",
       "  </tbody>\n",
       "</table>\n",
       "</div>"
      ],
      "text/plain": [
       "            Argus    StarMine  ColumbineCapital  FordEquityResearch  \\\n",
       "count 2249627.000 2249627.000       2249627.000         2249627.000   \n",
       "mean        4.223       4.526             2.004               2.911   \n",
       "std         1.005       2.979             0.784               0.891   \n",
       "min         0.000      -8.900             1.000               1.000   \n",
       "25%         3.000       1.700             1.000               3.000   \n",
       "50%         5.000       4.300             2.000               3.000   \n",
       "75%         5.000       7.100             3.000               3.000   \n",
       "max         5.000      10.000             3.000               5.000   \n",
       "\n",
       "           ISSEVA   Jefferson  McLeanCapital    NedDavis  TradingCentral  \\\n",
       "count 2249627.000 2249627.000    2249627.000 2249627.000     2249627.000   \n",
       "mean       49.333       3.583          2.973       2.925           2.877   \n",
       "std        30.326       1.462          0.478       0.896           1.248   \n",
       "min         0.000       1.000          1.000       1.000           0.000   \n",
       "25%        22.000       3.000          3.000       3.000           3.000   \n",
       "50%        49.000       3.000          3.000       3.000           3.000   \n",
       "75%        76.000       5.000          3.000       3.000           3.000   \n",
       "max       100.000       5.000          5.000       5.000           5.000   \n",
       "\n",
       "            Zacks  SPValuation   SPQuality  SPGrowthStability  \\\n",
       "count 2249627.000  2249627.000 2249627.000        2249627.000   \n",
       "mean        3.141       48.308      48.725             49.616   \n",
       "std         0.866       29.314      29.045             28.906   \n",
       "min         0.000        0.000       0.000              0.000   \n",
       "25%         3.000       22.000      23.000             25.000   \n",
       "50%         3.000       48.000      48.000             50.000   \n",
       "75%         3.000       74.000      74.000             75.000   \n",
       "max         6.000       99.000      99.000             99.000   \n",
       "\n",
       "       SPFinancialHealth  ThomsonReutersVerus  ThomsonReutersIBES  \n",
       "count        2249627.000          2249627.000         2249627.000  \n",
       "mean              48.970                2.916               2.256  \n",
       "std               28.914                1.195               0.573  \n",
       "min                0.000                1.000               1.000  \n",
       "25%               24.000                3.000               1.929  \n",
       "50%               49.000                3.000               2.176  \n",
       "75%               74.000                3.000               2.643  \n",
       "max               99.000                5.000               5.000  "
      ]
     },
     "execution_count": 28,
     "metadata": {},
     "output_type": "execute_result"
    }
   ],
   "source": [
    "df_analyst.describe()"
   ]
  },
  {
   "cell_type": "markdown",
   "metadata": {},
   "source": [
    "### Company"
   ]
  },
  {
   "cell_type": "code",
   "execution_count": 29,
   "metadata": {
    "ExecuteTime": {
     "end_time": "2020-11-17T07:14:20.132439Z",
     "start_time": "2020-11-17T07:14:20.117438Z"
    }
   },
   "outputs": [
    {
     "data": {
      "text/html": [
       "<div>\n",
       "<style scoped>\n",
       "    .dataframe tbody tr th:only-of-type {\n",
       "        vertical-align: middle;\n",
       "    }\n",
       "\n",
       "    .dataframe tbody tr th {\n",
       "        vertical-align: top;\n",
       "    }\n",
       "\n",
       "    .dataframe thead th {\n",
       "        text-align: right;\n",
       "    }\n",
       "</style>\n",
       "<table border=\"1\" class=\"dataframe\">\n",
       "  <thead>\n",
       "    <tr style=\"text-align: right;\">\n",
       "      <th></th>\n",
       "      <th>company</th>\n",
       "      <th>securityType</th>\n",
       "      <th>sector</th>\n",
       "      <th>industry</th>\n",
       "      <th>subIndustry</th>\n",
       "      <th>Exchange</th>\n",
       "      <th>DJIA</th>\n",
       "      <th>NASDAQ100</th>\n",
       "      <th>SP500</th>\n",
       "    </tr>\n",
       "    <tr>\n",
       "      <th>sym</th>\n",
       "      <th></th>\n",
       "      <th></th>\n",
       "      <th></th>\n",
       "      <th></th>\n",
       "      <th></th>\n",
       "      <th></th>\n",
       "      <th></th>\n",
       "      <th></th>\n",
       "      <th></th>\n",
       "    </tr>\n",
       "  </thead>\n",
       "  <tbody>\n",
       "    <tr>\n",
       "      <th>A</th>\n",
       "      <td>Agilent Technologies Inc</td>\n",
       "      <td>CS</td>\n",
       "      <td>Health Care</td>\n",
       "      <td>Life Sciences Tools &amp; Services</td>\n",
       "      <td>Life Sciences Tools &amp; Services</td>\n",
       "      <td>NYSE</td>\n",
       "      <td>0</td>\n",
       "      <td>0</td>\n",
       "      <td>1</td>\n",
       "    </tr>\n",
       "    <tr>\n",
       "      <th>AA</th>\n",
       "      <td>Alcoa Corp</td>\n",
       "      <td>CS</td>\n",
       "      <td>Materials</td>\n",
       "      <td>Metals &amp; Mining</td>\n",
       "      <td>Aluminum</td>\n",
       "      <td>NYSE</td>\n",
       "      <td>0</td>\n",
       "      <td>0</td>\n",
       "      <td>0</td>\n",
       "    </tr>\n",
       "    <tr>\n",
       "      <th>AABA</th>\n",
       "      <td>Altaba Inc</td>\n",
       "      <td>CS</td>\n",
       "      <td>Consumer Discretionary</td>\n",
       "      <td>Internet &amp; Direct Marketing Retail</td>\n",
       "      <td>Internet &amp; Direct Marketing Retail</td>\n",
       "      <td>NASDAQ</td>\n",
       "      <td>0</td>\n",
       "      <td>0</td>\n",
       "      <td>0</td>\n",
       "    </tr>\n",
       "    <tr>\n",
       "      <th>AAC</th>\n",
       "      <td>AAC Holdings Inc</td>\n",
       "      <td>CS</td>\n",
       "      <td>Health Care</td>\n",
       "      <td>Health Care Providers &amp; Services</td>\n",
       "      <td>Health Care Facilities</td>\n",
       "      <td>NYSE</td>\n",
       "      <td>0</td>\n",
       "      <td>0</td>\n",
       "      <td>0</td>\n",
       "    </tr>\n",
       "    <tr>\n",
       "      <th>AACG</th>\n",
       "      <td>ATA Creativity Global</td>\n",
       "      <td>DR</td>\n",
       "      <td>Consumer Discretionary</td>\n",
       "      <td>Diversified Consumer Services</td>\n",
       "      <td>Education Services</td>\n",
       "      <td>NASDAQ</td>\n",
       "      <td>0</td>\n",
       "      <td>0</td>\n",
       "      <td>0</td>\n",
       "    </tr>\n",
       "  </tbody>\n",
       "</table>\n",
       "</div>"
      ],
      "text/plain": [
       "                       company securityType                  sector  \\\n",
       "sym                                                                   \n",
       "A     Agilent Technologies Inc           CS             Health Care   \n",
       "AA                  Alcoa Corp           CS               Materials   \n",
       "AABA                Altaba Inc           CS  Consumer Discretionary   \n",
       "AAC           AAC Holdings Inc           CS             Health Care   \n",
       "AACG     ATA Creativity Global           DR  Consumer Discretionary   \n",
       "\n",
       "                                industry                         subIndustry  \\\n",
       "sym                                                                            \n",
       "A         Life Sciences Tools & Services      Life Sciences Tools & Services   \n",
       "AA                       Metals & Mining                            Aluminum   \n",
       "AABA  Internet & Direct Marketing Retail  Internet & Direct Marketing Retail   \n",
       "AAC     Health Care Providers & Services              Health Care Facilities   \n",
       "AACG       Diversified Consumer Services                  Education Services   \n",
       "\n",
       "     Exchange DJIA NASDAQ100 SP500  \n",
       "sym                                 \n",
       "A        NYSE    0         0     1  \n",
       "AA       NYSE    0         0     0  \n",
       "AABA   NASDAQ    0         0     0  \n",
       "AAC      NYSE    0         0     0  \n",
       "AACG   NASDAQ    0         0     0  "
      ]
     },
     "execution_count": 29,
     "metadata": {},
     "output_type": "execute_result"
    }
   ],
   "source": [
    "df_company = db.frames['company'].copy(deep=True)\n",
    "\n",
    "# Resetting date index and dropping index\n",
    "df_company.set_index('sym', inplace=True, drop=True)\n",
    "\n",
    "df_company.drop('date', inplace=True, axis=1)\n",
    "df_company.head()"
   ]
  },
  {
   "cell_type": "code",
   "execution_count": 50,
   "metadata": {
    "ExecuteTime": {
     "end_time": "2020-11-17T08:08:28.541487Z",
     "start_time": "2020-11-17T08:08:28.535487Z"
    }
   },
   "outputs": [],
   "source": [
    "df_company.replace(['', '--'], np.NaN, inplace=True)"
   ]
  },
  {
   "cell_type": "code",
   "execution_count": 51,
   "metadata": {
    "ExecuteTime": {
     "end_time": "2020-11-17T08:08:28.681439Z",
     "start_time": "2020-11-17T08:08:28.663439Z"
    }
   },
   "outputs": [
    {
     "data": {
      "text/plain": [
       "company           0\n",
       "securityType      5\n",
       "sector          827\n",
       "industry        827\n",
       "subIndustry     827\n",
       "Exchange         30\n",
       "DJIA              0\n",
       "NASDAQ100         0\n",
       "SP500             0\n",
       "dtype: int64"
      ]
     },
     "execution_count": 51,
     "metadata": {},
     "output_type": "execute_result"
    }
   ],
   "source": [
    "df_company.isna().sum()"
   ]
  },
  {
   "cell_type": "code",
   "execution_count": 31,
   "metadata": {
    "ExecuteTime": {
     "end_time": "2020-11-17T07:14:20.164446Z",
     "start_time": "2020-11-17T07:14:20.149438Z"
    }
   },
   "outputs": [
    {
     "data": {
      "text/plain": [
       "7807"
      ]
     },
     "execution_count": 31,
     "metadata": {},
     "output_type": "execute_result"
    }
   ],
   "source": [
    "len(df_company)"
   ]
  },
  {
   "cell_type": "markdown",
   "metadata": {},
   "source": [
    "#### NLP"
   ]
  },
  {
   "cell_type": "markdown",
   "metadata": {},
   "source": [
    "### Performance"
   ]
  },
  {
   "cell_type": "code",
   "execution_count": 106,
   "metadata": {
    "ExecuteTime": {
     "end_time": "2020-11-17T08:24:16.119760Z",
     "start_time": "2020-11-17T08:24:11.655441Z"
    }
   },
   "outputs": [
    {
     "data": {
      "text/html": [
       "<div>\n",
       "<style scoped>\n",
       "    .dataframe tbody tr th:only-of-type {\n",
       "        vertical-align: middle;\n",
       "    }\n",
       "\n",
       "    .dataframe tbody tr th {\n",
       "        vertical-align: top;\n",
       "    }\n",
       "\n",
       "    .dataframe thead th {\n",
       "        text-align: right;\n",
       "    }\n",
       "</style>\n",
       "<table border=\"1\" class=\"dataframe\">\n",
       "  <thead>\n",
       "    <tr style=\"text-align: right;\">\n",
       "      <th></th>\n",
       "      <th>sym</th>\n",
       "      <th>MCAP</th>\n",
       "      <th>RevenueTTM</th>\n",
       "      <th>TotalCash</th>\n",
       "      <th>ExDividendDate</th>\n",
       "      <th>Dividend</th>\n",
       "      <th>DividendYield</th>\n",
       "      <th>DividendCoverage</th>\n",
       "      <th>PEG</th>\n",
       "      <th>PriceToBook</th>\n",
       "      <th>...</th>\n",
       "      <th>FreeCashFlow</th>\n",
       "      <th>TotalDebtToEquity</th>\n",
       "      <th>PricePerformance52Weeks</th>\n",
       "      <th>PricePerformanceYTD</th>\n",
       "      <th>TotalReturn1Yr</th>\n",
       "      <th>TotalReturn3Yr</th>\n",
       "      <th>TotalReturn5Yr</th>\n",
       "      <th>TotalReturn10Yr</th>\n",
       "      <th>SharesOutstanding</th>\n",
       "      <th>VolumeAvg90Day</th>\n",
       "    </tr>\n",
       "    <tr>\n",
       "      <th>date</th>\n",
       "      <th></th>\n",
       "      <th></th>\n",
       "      <th></th>\n",
       "      <th></th>\n",
       "      <th></th>\n",
       "      <th></th>\n",
       "      <th></th>\n",
       "      <th></th>\n",
       "      <th></th>\n",
       "      <th></th>\n",
       "      <th></th>\n",
       "      <th></th>\n",
       "      <th></th>\n",
       "      <th></th>\n",
       "      <th></th>\n",
       "      <th></th>\n",
       "      <th></th>\n",
       "      <th></th>\n",
       "      <th></th>\n",
       "      <th></th>\n",
       "      <th></th>\n",
       "    </tr>\n",
       "  </thead>\n",
       "  <tbody>\n",
       "    <tr>\n",
       "      <th>2019-06-04</th>\n",
       "      <td>A</td>\n",
       "      <td>21240</td>\n",
       "      <td>5019</td>\n",
       "      <td>2155</td>\n",
       "      <td>2019-07-01</td>\n",
       "      <td>0.1640</td>\n",
       "      <td>0.979</td>\n",
       "      <td>5.413</td>\n",
       "      <td>1.816</td>\n",
       "      <td>4.143</td>\n",
       "      <td>...</td>\n",
       "      <td>887</td>\n",
       "      <td>37.290</td>\n",
       "      <td>6.706</td>\n",
       "      <td>-0.697</td>\n",
       "      <td>7.673</td>\n",
       "      <td>14.651</td>\n",
       "      <td>9.571</td>\n",
       "      <td>16.938</td>\n",
       "      <td>315.993</td>\n",
       "      <td>2.245</td>\n",
       "    </tr>\n",
       "    <tr>\n",
       "      <th>2019-06-08</th>\n",
       "      <td>A</td>\n",
       "      <td>22040</td>\n",
       "      <td>5019</td>\n",
       "      <td>2155</td>\n",
       "      <td>2019-07-01</td>\n",
       "      <td>0.1640</td>\n",
       "      <td>0.944</td>\n",
       "      <td>5.413</td>\n",
       "      <td>1.884</td>\n",
       "      <td>4.300</td>\n",
       "      <td>...</td>\n",
       "      <td>887</td>\n",
       "      <td>37.290</td>\n",
       "      <td>6.577</td>\n",
       "      <td>3.054</td>\n",
       "      <td>7.542</td>\n",
       "      <td>16.052</td>\n",
       "      <td>9.708</td>\n",
       "      <td>17.032</td>\n",
       "      <td>315.993</td>\n",
       "      <td>2.280</td>\n",
       "    </tr>\n",
       "    <tr>\n",
       "      <th>2019-06-17</th>\n",
       "      <td>A</td>\n",
       "      <td>22179.86027</td>\n",
       "      <td>5019</td>\n",
       "      <td>2155</td>\n",
       "      <td>2019-07-01</td>\n",
       "      <td>0.164</td>\n",
       "      <td>0.93754</td>\n",
       "      <td>5.41342</td>\n",
       "      <td>1.89629</td>\n",
       "      <td>4.32778</td>\n",
       "      <td>...</td>\n",
       "      <td>887</td>\n",
       "      <td>37.29007</td>\n",
       "      <td>5.80674</td>\n",
       "      <td>3.72072</td>\n",
       "      <td>6.7653</td>\n",
       "      <td>16.99609</td>\n",
       "      <td>10.04098</td>\n",
       "      <td>17.71908</td>\n",
       "      <td>315.993</td>\n",
       "      <td>2.26162</td>\n",
       "    </tr>\n",
       "    <tr>\n",
       "      <th>2019-06-19</th>\n",
       "      <td>A</td>\n",
       "      <td>22281.29739</td>\n",
       "      <td>5019</td>\n",
       "      <td>2155</td>\n",
       "      <td>2019-07-01</td>\n",
       "      <td>0.164</td>\n",
       "      <td>0.93328</td>\n",
       "      <td>5.41342</td>\n",
       "      <td>1.90496</td>\n",
       "      <td>4.34757</td>\n",
       "      <td>...</td>\n",
       "      <td>887</td>\n",
       "      <td>37.29007</td>\n",
       "      <td>6.29064</td>\n",
       "      <td>4.19508</td>\n",
       "      <td>7.25358</td>\n",
       "      <td>16.8114</td>\n",
       "      <td>10.00265</td>\n",
       "      <td>18.09559</td>\n",
       "      <td>315.993</td>\n",
       "      <td>2.25691</td>\n",
       "    </tr>\n",
       "    <tr>\n",
       "      <th>2019-06-20</th>\n",
       "      <td>A</td>\n",
       "      <td>23029.39615</td>\n",
       "      <td>5019</td>\n",
       "      <td>2155</td>\n",
       "      <td>2019-07-01</td>\n",
       "      <td>0.164</td>\n",
       "      <td>0.90296</td>\n",
       "      <td>5.41342</td>\n",
       "      <td>1.96892</td>\n",
       "      <td>4.49354</td>\n",
       "      <td>...</td>\n",
       "      <td>887</td>\n",
       "      <td>37.29007</td>\n",
       "      <td>14.37343</td>\n",
       "      <td>7.69345</td>\n",
       "      <td>15.40959</td>\n",
       "      <td>18.10436</td>\n",
       "      <td>10.82588</td>\n",
       "      <td>18.16238</td>\n",
       "      <td>315.993</td>\n",
       "      <td>2.26902</td>\n",
       "    </tr>\n",
       "  </tbody>\n",
       "</table>\n",
       "<p>5 rows × 27 columns</p>\n",
       "</div>"
      ],
      "text/plain": [
       "           sym         MCAP RevenueTTM TotalCash ExDividendDate Dividend  \\\n",
       "date                                                                       \n",
       "2019-06-04   A        21240       5019      2155     2019-07-01   0.1640   \n",
       "2019-06-08   A        22040       5019      2155     2019-07-01   0.1640   \n",
       "2019-06-17   A  22179.86027       5019      2155     2019-07-01    0.164   \n",
       "2019-06-19   A  22281.29739       5019      2155     2019-07-01    0.164   \n",
       "2019-06-20   A  23029.39615       5019      2155     2019-07-01    0.164   \n",
       "\n",
       "           DividendYield DividendCoverage      PEG PriceToBook  ...  \\\n",
       "date                                                            ...   \n",
       "2019-06-04         0.979            5.413    1.816       4.143  ...   \n",
       "2019-06-08         0.944            5.413    1.884       4.300  ...   \n",
       "2019-06-17       0.93754          5.41342  1.89629     4.32778  ...   \n",
       "2019-06-19       0.93328          5.41342  1.90496     4.34757  ...   \n",
       "2019-06-20       0.90296          5.41342  1.96892     4.49354  ...   \n",
       "\n",
       "           FreeCashFlow TotalDebtToEquity PricePerformance52Weeks  \\\n",
       "date                                                                \n",
       "2019-06-04          887            37.290                   6.706   \n",
       "2019-06-08          887            37.290                   6.577   \n",
       "2019-06-17          887          37.29007                 5.80674   \n",
       "2019-06-19          887          37.29007                 6.29064   \n",
       "2019-06-20          887          37.29007                14.37343   \n",
       "\n",
       "           PricePerformanceYTD TotalReturn1Yr TotalReturn3Yr TotalReturn5Yr  \\\n",
       "date                                                                          \n",
       "2019-06-04              -0.697          7.673         14.651          9.571   \n",
       "2019-06-08               3.054          7.542         16.052          9.708   \n",
       "2019-06-17             3.72072         6.7653       16.99609       10.04098   \n",
       "2019-06-19             4.19508        7.25358        16.8114       10.00265   \n",
       "2019-06-20             7.69345       15.40959       18.10436       10.82588   \n",
       "\n",
       "           TotalReturn10Yr SharesOutstanding VolumeAvg90Day  \n",
       "date                                                         \n",
       "2019-06-04          16.938           315.993          2.245  \n",
       "2019-06-08          17.032           315.993          2.280  \n",
       "2019-06-17        17.71908           315.993        2.26162  \n",
       "2019-06-19        18.09559           315.993        2.25691  \n",
       "2019-06-20        18.16238           315.993        2.26902  \n",
       "\n",
       "[5 rows x 27 columns]"
      ]
     },
     "execution_count": 106,
     "metadata": {},
     "output_type": "execute_result"
    }
   ],
   "source": [
    "# Cleaning first two blank rows\n",
    "df_performance = db.frames['performance'].copy(deep=True).drop([0, 1])\n",
    "\n",
    "# Resetting date index and dropping index\n",
    "df_performance.set_index('date', inplace=True, drop=True)\n",
    "\n",
    "# Dropping null date values\n",
    "df_performance = df_performance.loc[df_performance.index.notnull()]\n",
    "\n",
    "df_performance.head()"
   ]
  },
  {
   "cell_type": "code",
   "execution_count": 107,
   "metadata": {
    "ExecuteTime": {
     "end_time": "2020-11-17T08:24:20.292576Z",
     "start_time": "2020-11-17T08:24:16.120760Z"
    }
   },
   "outputs": [],
   "source": [
    "df_performance.replace(['', '--'], np.NaN, inplace=True)"
   ]
  },
  {
   "cell_type": "markdown",
   "metadata": {},
   "source": [
    "#### Analyzing a stock"
   ]
  },
  {
   "cell_type": "markdown",
   "metadata": {},
   "source": [
    "##### Select AAPL"
   ]
  },
  {
   "cell_type": "code",
   "execution_count": 108,
   "metadata": {
    "ExecuteTime": {
     "end_time": "2020-11-17T08:24:21.828687Z",
     "start_time": "2020-11-17T08:24:20.293575Z"
    }
   },
   "outputs": [],
   "source": [
    "aapl = df_performance.loc[df_performance['sym'] == 'AAPL']\n"
   ]
  },
  {
   "cell_type": "code",
   "execution_count": 109,
   "metadata": {
    "ExecuteTime": {
     "end_time": "2020-11-17T08:24:21.844713Z",
     "start_time": "2020-11-17T08:24:21.829687Z"
    }
   },
   "outputs": [],
   "source": [
    "aapl = aapl.reset_index(drop=True).drop('sym', axis=1)"
   ]
  },
  {
   "cell_type": "code",
   "execution_count": 110,
   "metadata": {
    "ExecuteTime": {
     "end_time": "2020-11-17T08:24:21.859700Z",
     "start_time": "2020-11-17T08:24:21.845714Z"
    }
   },
   "outputs": [],
   "source": [
    "aapl = aapl.fillna(method='ffill').fillna(0)"
   ]
  },
  {
   "cell_type": "markdown",
   "metadata": {},
   "source": []
  },
  {
   "cell_type": "code",
   "execution_count": 111,
   "metadata": {
    "ExecuteTime": {
     "end_time": "2020-11-17T08:24:21.874701Z",
     "start_time": "2020-11-17T08:24:21.860699Z"
    }
   },
   "outputs": [],
   "source": [
    "aapl.drop('ExDividendDate', axis=1, inplace=True)"
   ]
  },
  {
   "cell_type": "markdown",
   "metadata": {},
   "source": [
    "##### PEG graph"
   ]
  },
  {
   "cell_type": "code",
   "execution_count": 112,
   "metadata": {
    "ExecuteTime": {
     "end_time": "2020-11-17T08:24:21.954703Z",
     "start_time": "2020-11-17T08:24:21.875703Z"
    }
   },
   "outputs": [
    {
     "data": {
      "text/plain": [
       "<AxesSubplot:>"
      ]
     },
     "execution_count": 112,
     "metadata": {},
     "output_type": "execute_result"
    },
    {
     "data": {
      "image/png": "[encoded data removed]",
      "text/plain": [
       "<Figure size 576x396 with 1 Axes>"
      ]
     },
     "metadata": {},
     "output_type": "display_data"
    }
   ],
   "source": [
    "aapl['PEG'].astype('float32').plot()"
   ]
  },
  {
   "cell_type": "markdown",
   "metadata": {},
   "source": [
    "##### Correlation"
   ]
  },
  {
   "cell_type": "code",
   "execution_count": 113,
   "metadata": {
    "ExecuteTime": {
     "end_time": "2020-11-17T08:24:22.366762Z",
     "start_time": "2020-11-17T08:24:21.955706Z"
    },
    "scrolled": false
   },
   "outputs": [
    {
     "data": {
      "text/plain": [
       "0"
      ]
     },
     "execution_count": 113,
     "metadata": {},
     "output_type": "execute_result"
    },
    {
     "data": {
      "image/png": "[encoded data removed]",
      "text/plain": [
       "<Figure size 864x864 with 2 Axes>"
      ]
     },
     "metadata": {},
     "output_type": "display_data"
    }
   ],
   "source": [
    "fig, ax = MLFrame(aapl.astype('float32')).plot_corr(figsize=(12, 12))\n",
    "ax.set_yticklabels(ax.get_ymajorticklabels(), fontsize = 18)\n",
    "ax.set_xticklabels(ax.get_xmajorticklabels(), fontsize = 18)\n",
    "0"
   ]
  },
  {
   "cell_type": "markdown",
   "metadata": {},
   "source": [
    "#### Null Values"
   ]
  },
  {
   "cell_type": "code",
   "execution_count": 114,
   "metadata": {
    "ExecuteTime": {
     "end_time": "2020-11-17T08:24:26.007000Z",
     "start_time": "2020-11-17T08:24:22.367761Z"
    }
   },
   "outputs": [
    {
     "data": {
      "text/plain": [
       "ExDividendDate              7.298\n",
       "PEG                        17.410\n",
       "FwdEPS3to5Yr               22.942\n",
       "DividendCoverage           34.126\n",
       "DividendYield              34.770\n",
       "Dividend                   35.021\n",
       "PE                         46.118\n",
       "PriceToCashFlow            54.559\n",
       "TotalReturn10Yr            55.781\n",
       "EPSGrowth5Year             67.769\n",
       "TotalReturn5Yr             71.530\n",
       "PriceToSales               76.284\n",
       "FreeCashFlow               76.923\n",
       "TotalReturn3Yr             79.562\n",
       "RevenueTTM                 80.331\n",
       "PriceToBook                80.780\n",
       "TotalDebtToEquity          80.790\n",
       "EnterpriseValue            82.309\n",
       "ReturnonEquity             84.573\n",
       "PricePerformanceYTD        86.425\n",
       "VolumeAvg90Day             88.543\n",
       "TotalCash                  88.890\n",
       "MCAP                       89.807\n",
       "TotalReturn1Yr             91.309\n",
       "PricePerformance52Weeks    91.309\n",
       "SharesOutstanding          99.867\n",
       "sym                       100.000\n",
       "dtype: float64"
      ]
     },
     "execution_count": 114,
     "metadata": {},
     "output_type": "execute_result"
    }
   ],
   "source": [
    "get_perc_not_null(df_performance)"
   ]
  },
  {
   "cell_type": "markdown",
   "metadata": {},
   "source": [
    "<div class=\"alert alert-warning shadow\">\n",
    "  <strong>Filling Null Values:</strong>\n",
    "    <ul>\n",
    "    <li><b>ExDividendDate:</b> Not all of the dividend stocks have a dividend date, so we will be filling null values of this column with the time equivalent of 0 1970-01-01</li>\n",
    "    <li><b><sub># *</sub> PEG</b> Front fill then Fill null with 0, as we have no earnings data so there is no way to calculate the given PEG ratios.  We may try dropping this column in the future</li>\n",
    "    <li><b><sub>#</sub> FwdEPS3to5Yr</b> Some stocks may not have this yet if they IPOd within 3 years of current date, or if there is no earnings data for a given stock so we will be front filling nulls and then filling rest of nulls with 0</li>\n",
    "    <li><b><sub>#</sub> DivdendCoverage</b> Front fill then Fill null with 0</li>\n",
    "    <li><b><sub>#</sub> DividendYield</b> Front fill then Fill null with 0</li>\n",
    "    <li><b><sub>#</sub> Dividend</b> Front fill then Fill null with 0, this for the dividend stocks, as if there is no data a stock most likely does not have a dividend</li>\n",
    "    <li><b><sub>% #</sub> PE</b> Front fill then Fill null with 0, as one can't calculate a PE ratio for stocks that have no or negative earnings,  this may have adverse effects if it were to jump from 0</li>\n",
    "    <li><b><sub>% #</sub> PriceToCashFlow</b> Some nulls here can be calculated from FreeCashFlow and Price,  the rest will be front filled, and nulls filled with 0</li>\n",
    "    <li><b><sub>#</sub> TotalReturn10Yr</b> It may be relevent if a stock suddenly gets a 10 year return datapoint, front fill then fill nulls with 0</li>\n",
    "    <li><sub>#</sub> <b>EPSGrowth5Year</b> Same as above</li>\n",
    "    <li><sub>#</sub><b> TotalReturn5Yr</b> Same as above</li>\n",
    "    <li><sub>#</sub><b> TotalReturn3Yr</b> Same as above</li>\n",
    "    <li><sub>#</sub><b> PriceToSales</b> Front fill then Fill null with 0</li>\n",
    "    <li><sub>#</sub><b> FreeCashFlow</b> Front fill then Fill null with 0</li>\n",
    "    <li>For the rest of the columns we will be dropping stocks that do not have these, and see how many stocks we lose.  As these seem to cover 80% of the data.  Hopefully that 80% is all of the same stocks, and we are not left with 20% of the data.</li></ul>\n",
    "    <sub>* Indicates columns that may need to be looked at again in the future</sub><br></br>\n",
    "    <sub>% can be calculated</sub><br></br>\n",
    "    <sub># Front fill, then fill null with 0</sub>\n",
    "</div>"
   ]
  },
  {
   "cell_type": "markdown",
   "metadata": {},
   "source": [
    "#### Add Price to Performance"
   ]
  },
  {
   "cell_type": "code",
   "execution_count": 115,
   "metadata": {
    "ExecuteTime": {
     "end_time": "2020-11-17T08:24:26.023000Z",
     "start_time": "2020-11-17T08:24:26.008000Z"
    }
   },
   "outputs": [
    {
     "data": {
      "text/plain": [
       "((2249626, 27), (2252570, 2))"
      ]
     },
     "execution_count": 115,
     "metadata": {},
     "output_type": "execute_result"
    }
   ],
   "source": [
    "df_performance.shape, df_prices.shape"
   ]
  },
  {
   "cell_type": "code",
   "execution_count": 116,
   "metadata": {
    "ExecuteTime": {
     "end_time": "2020-11-17T08:24:28.882179Z",
     "start_time": "2020-11-17T08:24:26.023991Z"
    },
    "scrolled": true
   },
   "outputs": [
    {
     "data": {
      "text/html": [
       "<div>\n",
       "<style scoped>\n",
       "    .dataframe tbody tr th:only-of-type {\n",
       "        vertical-align: middle;\n",
       "    }\n",
       "\n",
       "    .dataframe tbody tr th {\n",
       "        vertical-align: top;\n",
       "    }\n",
       "\n",
       "    .dataframe thead th {\n",
       "        text-align: right;\n",
       "    }\n",
       "</style>\n",
       "<table border=\"1\" class=\"dataframe\">\n",
       "  <thead>\n",
       "    <tr style=\"text-align: right;\">\n",
       "      <th></th>\n",
       "      <th>sym</th>\n",
       "      <th>MCAP</th>\n",
       "      <th>RevenueTTM</th>\n",
       "      <th>TotalCash</th>\n",
       "      <th>ExDividendDate</th>\n",
       "      <th>Dividend</th>\n",
       "      <th>DividendYield</th>\n",
       "      <th>DividendCoverage</th>\n",
       "      <th>PEG</th>\n",
       "      <th>PriceToBook</th>\n",
       "      <th>...</th>\n",
       "      <th>TotalDebtToEquity</th>\n",
       "      <th>PricePerformance52Weeks</th>\n",
       "      <th>PricePerformanceYTD</th>\n",
       "      <th>TotalReturn1Yr</th>\n",
       "      <th>TotalReturn3Yr</th>\n",
       "      <th>TotalReturn5Yr</th>\n",
       "      <th>TotalReturn10Yr</th>\n",
       "      <th>SharesOutstanding</th>\n",
       "      <th>VolumeAvg90Day</th>\n",
       "      <th>price</th>\n",
       "    </tr>\n",
       "    <tr>\n",
       "      <th>date</th>\n",
       "      <th></th>\n",
       "      <th></th>\n",
       "      <th></th>\n",
       "      <th></th>\n",
       "      <th></th>\n",
       "      <th></th>\n",
       "      <th></th>\n",
       "      <th></th>\n",
       "      <th></th>\n",
       "      <th></th>\n",
       "      <th></th>\n",
       "      <th></th>\n",
       "      <th></th>\n",
       "      <th></th>\n",
       "      <th></th>\n",
       "      <th></th>\n",
       "      <th></th>\n",
       "      <th></th>\n",
       "      <th></th>\n",
       "      <th></th>\n",
       "      <th></th>\n",
       "    </tr>\n",
       "  </thead>\n",
       "  <tbody>\n",
       "    <tr>\n",
       "      <th>2019-06-04</th>\n",
       "      <td>A</td>\n",
       "      <td>21240</td>\n",
       "      <td>5019</td>\n",
       "      <td>2155</td>\n",
       "      <td>2019-07-01</td>\n",
       "      <td>0.1640</td>\n",
       "      <td>0.979</td>\n",
       "      <td>5.413</td>\n",
       "      <td>1.816</td>\n",
       "      <td>4.143</td>\n",
       "      <td>...</td>\n",
       "      <td>37.290</td>\n",
       "      <td>6.706</td>\n",
       "      <td>-0.697</td>\n",
       "      <td>7.673</td>\n",
       "      <td>14.651</td>\n",
       "      <td>9.571</td>\n",
       "      <td>16.938</td>\n",
       "      <td>315.993</td>\n",
       "      <td>2.245</td>\n",
       "      <td>67.950000</td>\n",
       "    </tr>\n",
       "    <tr>\n",
       "      <th>2019-06-08</th>\n",
       "      <td>A</td>\n",
       "      <td>22040</td>\n",
       "      <td>5019</td>\n",
       "      <td>2155</td>\n",
       "      <td>2019-07-01</td>\n",
       "      <td>0.1640</td>\n",
       "      <td>0.944</td>\n",
       "      <td>5.413</td>\n",
       "      <td>1.884</td>\n",
       "      <td>4.300</td>\n",
       "      <td>...</td>\n",
       "      <td>37.290</td>\n",
       "      <td>6.577</td>\n",
       "      <td>3.054</td>\n",
       "      <td>7.542</td>\n",
       "      <td>16.052</td>\n",
       "      <td>9.708</td>\n",
       "      <td>17.032</td>\n",
       "      <td>315.993</td>\n",
       "      <td>2.280</td>\n",
       "      <td>69.520000</td>\n",
       "    </tr>\n",
       "    <tr>\n",
       "      <th>2019-06-17</th>\n",
       "      <td>A</td>\n",
       "      <td>22179.86027</td>\n",
       "      <td>5019</td>\n",
       "      <td>2155</td>\n",
       "      <td>2019-07-01</td>\n",
       "      <td>0.164</td>\n",
       "      <td>0.93754</td>\n",
       "      <td>5.41342</td>\n",
       "      <td>1.89629</td>\n",
       "      <td>4.32778</td>\n",
       "      <td>...</td>\n",
       "      <td>37.29007</td>\n",
       "      <td>5.80674</td>\n",
       "      <td>3.72072</td>\n",
       "      <td>6.7653</td>\n",
       "      <td>16.99609</td>\n",
       "      <td>10.04098</td>\n",
       "      <td>17.71908</td>\n",
       "      <td>315.993</td>\n",
       "      <td>2.26162</td>\n",
       "      <td>70.290000</td>\n",
       "    </tr>\n",
       "    <tr>\n",
       "      <th>2019-06-19</th>\n",
       "      <td>A</td>\n",
       "      <td>22281.29739</td>\n",
       "      <td>5019</td>\n",
       "      <td>2155</td>\n",
       "      <td>2019-07-01</td>\n",
       "      <td>0.164</td>\n",
       "      <td>0.93328</td>\n",
       "      <td>5.41342</td>\n",
       "      <td>1.90496</td>\n",
       "      <td>4.34757</td>\n",
       "      <td>...</td>\n",
       "      <td>37.29007</td>\n",
       "      <td>6.29064</td>\n",
       "      <td>4.19508</td>\n",
       "      <td>7.25358</td>\n",
       "      <td>16.8114</td>\n",
       "      <td>10.00265</td>\n",
       "      <td>18.09559</td>\n",
       "      <td>315.993</td>\n",
       "      <td>2.25691</td>\n",
       "      <td>71.910000</td>\n",
       "    </tr>\n",
       "    <tr>\n",
       "      <th>2019-06-20</th>\n",
       "      <td>A</td>\n",
       "      <td>23029.39615</td>\n",
       "      <td>5019</td>\n",
       "      <td>2155</td>\n",
       "      <td>2019-07-01</td>\n",
       "      <td>0.164</td>\n",
       "      <td>0.90296</td>\n",
       "      <td>5.41342</td>\n",
       "      <td>1.96892</td>\n",
       "      <td>4.49354</td>\n",
       "      <td>...</td>\n",
       "      <td>37.29007</td>\n",
       "      <td>14.37343</td>\n",
       "      <td>7.69345</td>\n",
       "      <td>15.40959</td>\n",
       "      <td>18.10436</td>\n",
       "      <td>10.82588</td>\n",
       "      <td>18.16238</td>\n",
       "      <td>315.993</td>\n",
       "      <td>2.26902</td>\n",
       "      <td>73.320000</td>\n",
       "    </tr>\n",
       "  </tbody>\n",
       "</table>\n",
       "<p>5 rows × 28 columns</p>\n",
       "</div>"
      ],
      "text/plain": [
       "           sym         MCAP RevenueTTM TotalCash ExDividendDate Dividend  \\\n",
       "date                                                                       \n",
       "2019-06-04   A        21240       5019      2155     2019-07-01   0.1640   \n",
       "2019-06-08   A        22040       5019      2155     2019-07-01   0.1640   \n",
       "2019-06-17   A  22179.86027       5019      2155     2019-07-01    0.164   \n",
       "2019-06-19   A  22281.29739       5019      2155     2019-07-01    0.164   \n",
       "2019-06-20   A  23029.39615       5019      2155     2019-07-01    0.164   \n",
       "\n",
       "           DividendYield DividendCoverage      PEG PriceToBook  ...  \\\n",
       "date                                                            ...   \n",
       "2019-06-04         0.979            5.413    1.816       4.143  ...   \n",
       "2019-06-08         0.944            5.413    1.884       4.300  ...   \n",
       "2019-06-17       0.93754          5.41342  1.89629     4.32778  ...   \n",
       "2019-06-19       0.93328          5.41342  1.90496     4.34757  ...   \n",
       "2019-06-20       0.90296          5.41342  1.96892     4.49354  ...   \n",
       "\n",
       "           TotalDebtToEquity PricePerformance52Weeks PricePerformanceYTD  \\\n",
       "date                                                                       \n",
       "2019-06-04            37.290                   6.706              -0.697   \n",
       "2019-06-08            37.290                   6.577               3.054   \n",
       "2019-06-17          37.29007                 5.80674             3.72072   \n",
       "2019-06-19          37.29007                 6.29064             4.19508   \n",
       "2019-06-20          37.29007                14.37343             7.69345   \n",
       "\n",
       "           TotalReturn1Yr TotalReturn3Yr TotalReturn5Yr TotalReturn10Yr  \\\n",
       "date                                                                      \n",
       "2019-06-04          7.673         14.651          9.571          16.938   \n",
       "2019-06-08          7.542         16.052          9.708          17.032   \n",
       "2019-06-17         6.7653       16.99609       10.04098        17.71908   \n",
       "2019-06-19        7.25358        16.8114       10.00265        18.09559   \n",
       "2019-06-20       15.40959       18.10436       10.82588        18.16238   \n",
       "\n",
       "           SharesOutstanding VolumeAvg90Day      price  \n",
       "date                                                    \n",
       "2019-06-04           315.993          2.245  67.950000  \n",
       "2019-06-08           315.993          2.280  69.520000  \n",
       "2019-06-17           315.993        2.26162  70.290000  \n",
       "2019-06-19           315.993        2.25691  71.910000  \n",
       "2019-06-20           315.993        2.26902  73.320000  \n",
       "\n",
       "[5 rows x 28 columns]"
      ]
     },
     "execution_count": 116,
     "metadata": {},
     "output_type": "execute_result"
    }
   ],
   "source": [
    "df_performance = pd.merge(df_performance, df_prices, on=['date', 'sym'])\n",
    "df_performance.head()"
   ]
  },
  {
   "cell_type": "markdown",
   "metadata": {},
   "source": [
    "#### Double indexing"
   ]
  },
  {
   "cell_type": "code",
   "execution_count": 117,
   "metadata": {
    "ExecuteTime": {
     "end_time": "2020-11-17T08:25:21.073421Z",
     "start_time": "2020-11-17T08:25:20.987435Z"
    }
   },
   "outputs": [],
   "source": [
    "df_performance.reset_index(inplace=True)"
   ]
  },
  {
   "cell_type": "code",
   "execution_count": 118,
   "metadata": {
    "ExecuteTime": {
     "end_time": "2020-11-17T08:25:24.635291Z",
     "start_time": "2020-11-17T08:25:22.705392Z"
    }
   },
   "outputs": [],
   "source": [
    "df_performance = df_performance.set_index(['date', 'sym'], drop=True)"
   ]
  },
  {
   "cell_type": "code",
   "execution_count": 119,
   "metadata": {
    "ExecuteTime": {
     "end_time": "2020-11-17T08:25:28.816366Z",
     "start_time": "2020-11-17T08:25:28.788378Z"
    }
   },
   "outputs": [
    {
     "data": {
      "text/html": [
       "<div>\n",
       "<style scoped>\n",
       "    .dataframe tbody tr th:only-of-type {\n",
       "        vertical-align: middle;\n",
       "    }\n",
       "\n",
       "    .dataframe tbody tr th {\n",
       "        vertical-align: top;\n",
       "    }\n",
       "\n",
       "    .dataframe thead th {\n",
       "        text-align: right;\n",
       "    }\n",
       "</style>\n",
       "<table border=\"1\" class=\"dataframe\">\n",
       "  <thead>\n",
       "    <tr style=\"text-align: right;\">\n",
       "      <th></th>\n",
       "      <th></th>\n",
       "      <th>MCAP</th>\n",
       "      <th>RevenueTTM</th>\n",
       "      <th>TotalCash</th>\n",
       "      <th>ExDividendDate</th>\n",
       "      <th>Dividend</th>\n",
       "      <th>DividendYield</th>\n",
       "      <th>DividendCoverage</th>\n",
       "      <th>PEG</th>\n",
       "      <th>PriceToBook</th>\n",
       "      <th>PriceToSales</th>\n",
       "      <th>...</th>\n",
       "      <th>TotalDebtToEquity</th>\n",
       "      <th>PricePerformance52Weeks</th>\n",
       "      <th>PricePerformanceYTD</th>\n",
       "      <th>TotalReturn1Yr</th>\n",
       "      <th>TotalReturn3Yr</th>\n",
       "      <th>TotalReturn5Yr</th>\n",
       "      <th>TotalReturn10Yr</th>\n",
       "      <th>SharesOutstanding</th>\n",
       "      <th>VolumeAvg90Day</th>\n",
       "      <th>price</th>\n",
       "    </tr>\n",
       "    <tr>\n",
       "      <th>date</th>\n",
       "      <th>sym</th>\n",
       "      <th></th>\n",
       "      <th></th>\n",
       "      <th></th>\n",
       "      <th></th>\n",
       "      <th></th>\n",
       "      <th></th>\n",
       "      <th></th>\n",
       "      <th></th>\n",
       "      <th></th>\n",
       "      <th></th>\n",
       "      <th></th>\n",
       "      <th></th>\n",
       "      <th></th>\n",
       "      <th></th>\n",
       "      <th></th>\n",
       "      <th></th>\n",
       "      <th></th>\n",
       "      <th></th>\n",
       "      <th></th>\n",
       "      <th></th>\n",
       "      <th></th>\n",
       "    </tr>\n",
       "  </thead>\n",
       "  <tbody>\n",
       "    <tr>\n",
       "      <th>2019-06-04</th>\n",
       "      <th>A</th>\n",
       "      <td>21240</td>\n",
       "      <td>5019</td>\n",
       "      <td>2155</td>\n",
       "      <td>2019-07-01</td>\n",
       "      <td>0.1640</td>\n",
       "      <td>0.979</td>\n",
       "      <td>5.413</td>\n",
       "      <td>1.816</td>\n",
       "      <td>4.143</td>\n",
       "      <td>4.243</td>\n",
       "      <td>...</td>\n",
       "      <td>37.290</td>\n",
       "      <td>6.706</td>\n",
       "      <td>-0.697</td>\n",
       "      <td>7.673</td>\n",
       "      <td>14.651</td>\n",
       "      <td>9.571</td>\n",
       "      <td>16.938</td>\n",
       "      <td>315.993</td>\n",
       "      <td>2.245</td>\n",
       "      <td>67.950000</td>\n",
       "    </tr>\n",
       "    <tr>\n",
       "      <th>2019-06-08</th>\n",
       "      <th>A</th>\n",
       "      <td>22040</td>\n",
       "      <td>5019</td>\n",
       "      <td>2155</td>\n",
       "      <td>2019-07-01</td>\n",
       "      <td>0.1640</td>\n",
       "      <td>0.944</td>\n",
       "      <td>5.413</td>\n",
       "      <td>1.884</td>\n",
       "      <td>4.300</td>\n",
       "      <td>4.404</td>\n",
       "      <td>...</td>\n",
       "      <td>37.290</td>\n",
       "      <td>6.577</td>\n",
       "      <td>3.054</td>\n",
       "      <td>7.542</td>\n",
       "      <td>16.052</td>\n",
       "      <td>9.708</td>\n",
       "      <td>17.032</td>\n",
       "      <td>315.993</td>\n",
       "      <td>2.280</td>\n",
       "      <td>69.520000</td>\n",
       "    </tr>\n",
       "    <tr>\n",
       "      <th>2019-06-17</th>\n",
       "      <th>A</th>\n",
       "      <td>22179.86027</td>\n",
       "      <td>5019</td>\n",
       "      <td>2155</td>\n",
       "      <td>2019-07-01</td>\n",
       "      <td>0.164</td>\n",
       "      <td>0.93754</td>\n",
       "      <td>5.41342</td>\n",
       "      <td>1.89629</td>\n",
       "      <td>4.32778</td>\n",
       "      <td>4.43222</td>\n",
       "      <td>...</td>\n",
       "      <td>37.29007</td>\n",
       "      <td>5.80674</td>\n",
       "      <td>3.72072</td>\n",
       "      <td>6.7653</td>\n",
       "      <td>16.99609</td>\n",
       "      <td>10.04098</td>\n",
       "      <td>17.71908</td>\n",
       "      <td>315.993</td>\n",
       "      <td>2.26162</td>\n",
       "      <td>70.290000</td>\n",
       "    </tr>\n",
       "    <tr>\n",
       "      <th>2019-06-19</th>\n",
       "      <th>A</th>\n",
       "      <td>22281.29739</td>\n",
       "      <td>5019</td>\n",
       "      <td>2155</td>\n",
       "      <td>2019-07-01</td>\n",
       "      <td>0.164</td>\n",
       "      <td>0.93328</td>\n",
       "      <td>5.41342</td>\n",
       "      <td>1.90496</td>\n",
       "      <td>4.34757</td>\n",
       "      <td>4.45249</td>\n",
       "      <td>...</td>\n",
       "      <td>37.29007</td>\n",
       "      <td>6.29064</td>\n",
       "      <td>4.19508</td>\n",
       "      <td>7.25358</td>\n",
       "      <td>16.8114</td>\n",
       "      <td>10.00265</td>\n",
       "      <td>18.09559</td>\n",
       "      <td>315.993</td>\n",
       "      <td>2.25691</td>\n",
       "      <td>71.910000</td>\n",
       "    </tr>\n",
       "    <tr>\n",
       "      <th>2019-06-20</th>\n",
       "      <th>A</th>\n",
       "      <td>23029.39615</td>\n",
       "      <td>5019</td>\n",
       "      <td>2155</td>\n",
       "      <td>2019-07-01</td>\n",
       "      <td>0.164</td>\n",
       "      <td>0.90296</td>\n",
       "      <td>5.41342</td>\n",
       "      <td>1.96892</td>\n",
       "      <td>4.49354</td>\n",
       "      <td>4.60198</td>\n",
       "      <td>...</td>\n",
       "      <td>37.29007</td>\n",
       "      <td>14.37343</td>\n",
       "      <td>7.69345</td>\n",
       "      <td>15.40959</td>\n",
       "      <td>18.10436</td>\n",
       "      <td>10.82588</td>\n",
       "      <td>18.16238</td>\n",
       "      <td>315.993</td>\n",
       "      <td>2.26902</td>\n",
       "      <td>73.320000</td>\n",
       "    </tr>\n",
       "  </tbody>\n",
       "</table>\n",
       "<p>5 rows × 27 columns</p>\n",
       "</div>"
      ],
      "text/plain": [
       "                       MCAP RevenueTTM TotalCash ExDividendDate Dividend  \\\n",
       "date       sym                                                             \n",
       "2019-06-04 A          21240       5019      2155     2019-07-01   0.1640   \n",
       "2019-06-08 A          22040       5019      2155     2019-07-01   0.1640   \n",
       "2019-06-17 A    22179.86027       5019      2155     2019-07-01    0.164   \n",
       "2019-06-19 A    22281.29739       5019      2155     2019-07-01    0.164   \n",
       "2019-06-20 A    23029.39615       5019      2155     2019-07-01    0.164   \n",
       "\n",
       "               DividendYield DividendCoverage      PEG PriceToBook  \\\n",
       "date       sym                                                       \n",
       "2019-06-04 A           0.979            5.413    1.816       4.143   \n",
       "2019-06-08 A           0.944            5.413    1.884       4.300   \n",
       "2019-06-17 A         0.93754          5.41342  1.89629     4.32778   \n",
       "2019-06-19 A         0.93328          5.41342  1.90496     4.34757   \n",
       "2019-06-20 A         0.90296          5.41342  1.96892     4.49354   \n",
       "\n",
       "               PriceToSales  ... TotalDebtToEquity PricePerformance52Weeks  \\\n",
       "date       sym               ...                                             \n",
       "2019-06-04 A          4.243  ...            37.290                   6.706   \n",
       "2019-06-08 A          4.404  ...            37.290                   6.577   \n",
       "2019-06-17 A        4.43222  ...          37.29007                 5.80674   \n",
       "2019-06-19 A        4.45249  ...          37.29007                 6.29064   \n",
       "2019-06-20 A        4.60198  ...          37.29007                14.37343   \n",
       "\n",
       "               PricePerformanceYTD TotalReturn1Yr TotalReturn3Yr  \\\n",
       "date       sym                                                     \n",
       "2019-06-04 A                -0.697          7.673         14.651   \n",
       "2019-06-08 A                 3.054          7.542         16.052   \n",
       "2019-06-17 A               3.72072         6.7653       16.99609   \n",
       "2019-06-19 A               4.19508        7.25358        16.8114   \n",
       "2019-06-20 A               7.69345       15.40959       18.10436   \n",
       "\n",
       "               TotalReturn5Yr TotalReturn10Yr SharesOutstanding  \\\n",
       "date       sym                                                    \n",
       "2019-06-04 A            9.571          16.938           315.993   \n",
       "2019-06-08 A            9.708          17.032           315.993   \n",
       "2019-06-17 A         10.04098        17.71908           315.993   \n",
       "2019-06-19 A         10.00265        18.09559           315.993   \n",
       "2019-06-20 A         10.82588        18.16238           315.993   \n",
       "\n",
       "               VolumeAvg90Day      price  \n",
       "date       sym                            \n",
       "2019-06-04 A            2.245  67.950000  \n",
       "2019-06-08 A            2.280  69.520000  \n",
       "2019-06-17 A          2.26162  70.290000  \n",
       "2019-06-19 A          2.25691  71.910000  \n",
       "2019-06-20 A          2.26902  73.320000  \n",
       "\n",
       "[5 rows x 27 columns]"
      ]
     },
     "execution_count": 119,
     "metadata": {},
     "output_type": "execute_result"
    }
   ],
   "source": [
    "df_performance.head()"
   ]
  },
  {
   "cell_type": "code",
   "execution_count": 121,
   "metadata": {
    "ExecuteTime": {
     "end_time": "2020-11-17T08:25:59.521419Z",
     "start_time": "2020-11-17T08:25:59.512419Z"
    }
   },
   "outputs": [
    {
     "data": {
      "text/plain": [
       "<pandas.core.indexing._IndexSlice at 0x2465825e108>"
      ]
     },
     "execution_count": 121,
     "metadata": {},
     "output_type": "execute_result"
    }
   ],
   "source": [
    "pd.IndexSlice"
   ]
  },
  {
   "cell_type": "markdown",
   "metadata": {},
   "source": [
    "#### Fill null ExDividendDate with 1970-01-01"
   ]
  },
  {
   "cell_type": "markdown",
   "metadata": {},
   "source": [
    "##### Checking a stock will nulls"
   ]
  },
  {
   "cell_type": "code",
   "execution_count": 127,
   "metadata": {
    "ExecuteTime": {
     "end_time": "2020-11-17T08:27:46.985522Z",
     "start_time": "2020-11-17T08:27:46.871522Z"
    }
   },
   "outputs": [
    {
     "data": {
      "text/html": [
       "<div>\n",
       "<style scoped>\n",
       "    .dataframe tbody tr th:only-of-type {\n",
       "        vertical-align: middle;\n",
       "    }\n",
       "\n",
       "    .dataframe tbody tr th {\n",
       "        vertical-align: top;\n",
       "    }\n",
       "\n",
       "    .dataframe thead th {\n",
       "        text-align: right;\n",
       "    }\n",
       "</style>\n",
       "<table border=\"1\" class=\"dataframe\">\n",
       "  <thead>\n",
       "    <tr style=\"text-align: right;\">\n",
       "      <th></th>\n",
       "      <th></th>\n",
       "      <th>MCAP</th>\n",
       "      <th>RevenueTTM</th>\n",
       "      <th>TotalCash</th>\n",
       "      <th>ExDividendDate</th>\n",
       "      <th>Dividend</th>\n",
       "      <th>DividendYield</th>\n",
       "      <th>DividendCoverage</th>\n",
       "      <th>PEG</th>\n",
       "      <th>PriceToBook</th>\n",
       "      <th>PriceToSales</th>\n",
       "      <th>...</th>\n",
       "      <th>TotalDebtToEquity</th>\n",
       "      <th>PricePerformance52Weeks</th>\n",
       "      <th>PricePerformanceYTD</th>\n",
       "      <th>TotalReturn1Yr</th>\n",
       "      <th>TotalReturn3Yr</th>\n",
       "      <th>TotalReturn5Yr</th>\n",
       "      <th>TotalReturn10Yr</th>\n",
       "      <th>SharesOutstanding</th>\n",
       "      <th>VolumeAvg90Day</th>\n",
       "      <th>price</th>\n",
       "    </tr>\n",
       "    <tr>\n",
       "      <th>date</th>\n",
       "      <th>sym</th>\n",
       "      <th></th>\n",
       "      <th></th>\n",
       "      <th></th>\n",
       "      <th></th>\n",
       "      <th></th>\n",
       "      <th></th>\n",
       "      <th></th>\n",
       "      <th></th>\n",
       "      <th></th>\n",
       "      <th></th>\n",
       "      <th></th>\n",
       "      <th></th>\n",
       "      <th></th>\n",
       "      <th></th>\n",
       "      <th></th>\n",
       "      <th></th>\n",
       "      <th></th>\n",
       "      <th></th>\n",
       "      <th></th>\n",
       "      <th></th>\n",
       "      <th></th>\n",
       "    </tr>\n",
       "  </thead>\n",
       "  <tbody>\n",
       "    <tr>\n",
       "      <th>2019-06-04</th>\n",
       "      <th>VLO</th>\n",
       "      <td>30040</td>\n",
       "      <td>109365</td>\n",
       "      <td>2777</td>\n",
       "      <td>NaN</td>\n",
       "      <td>0.9000</td>\n",
       "      <td>5</td>\n",
       "      <td>1.926</td>\n",
       "      <td>1.176</td>\n",
       "      <td>1.410</td>\n",
       "      <td>0.278</td>\n",
       "      <td>...</td>\n",
       "      <td>44.568</td>\n",
       "      <td>-41.832</td>\n",
       "      <td>-3.962</td>\n",
       "      <td>-39.572</td>\n",
       "      <td>13.514</td>\n",
       "      <td>9.070</td>\n",
       "      <td>18.959</td>\n",
       "      <td>417.241</td>\n",
       "      <td>3.740</td>\n",
       "      <td>73.850000</td>\n",
       "    </tr>\n",
       "    <tr>\n",
       "      <th>2019-06-08</th>\n",
       "      <th>VLO</th>\n",
       "      <td>31180</td>\n",
       "      <td>109365</td>\n",
       "      <td>2777</td>\n",
       "      <td>NaN</td>\n",
       "      <td>0.9000</td>\n",
       "      <td>4.817</td>\n",
       "      <td>1.926</td>\n",
       "      <td>1.220</td>\n",
       "      <td>1.463</td>\n",
       "      <td>0.288</td>\n",
       "      <td>...</td>\n",
       "      <td>44.568</td>\n",
       "      <td>-38.489</td>\n",
       "      <td>-0.320</td>\n",
       "      <td>-36.098</td>\n",
       "      <td>14.593</td>\n",
       "      <td>9.956</td>\n",
       "      <td>19.527</td>\n",
       "      <td>417.241</td>\n",
       "      <td>3.666</td>\n",
       "      <td>74.730000</td>\n",
       "    </tr>\n",
       "    <tr>\n",
       "      <th>2019-06-17</th>\n",
       "      <th>VLO</th>\n",
       "      <td>32026.42128</td>\n",
       "      <td>109365</td>\n",
       "      <td>2777</td>\n",
       "      <td>NaN</td>\n",
       "      <td>0.9</td>\n",
       "      <td>4.68994</td>\n",
       "      <td>1.92647</td>\n",
       "      <td>1.25338</td>\n",
       "      <td>1.50295</td>\n",
       "      <td>0.29617</td>\n",
       "      <td>...</td>\n",
       "      <td>44.56754</td>\n",
       "      <td>-33.35649</td>\n",
       "      <td>2.38762</td>\n",
       "      <td>-30.76632</td>\n",
       "      <td>18.80137</td>\n",
       "      <td>11.14925</td>\n",
       "      <td>20.45681</td>\n",
       "      <td>417.241</td>\n",
       "      <td>3.52318</td>\n",
       "      <td>76.930000</td>\n",
       "    </tr>\n",
       "    <tr>\n",
       "      <th>2019-06-19</th>\n",
       "      <th>VLO</th>\n",
       "      <td>32097.35004</td>\n",
       "      <td>109365</td>\n",
       "      <td>2777</td>\n",
       "      <td>NaN</td>\n",
       "      <td>0.9</td>\n",
       "      <td>4.67958</td>\n",
       "      <td>1.92647</td>\n",
       "      <td>1.25615</td>\n",
       "      <td>1.50628</td>\n",
       "      <td>0.29683</td>\n",
       "      <td>...</td>\n",
       "      <td>44.56754</td>\n",
       "      <td>-33.20889</td>\n",
       "      <td>2.61438</td>\n",
       "      <td>-30.61298</td>\n",
       "      <td>18.56625</td>\n",
       "      <td>11.04595</td>\n",
       "      <td>20.53229</td>\n",
       "      <td>417.241</td>\n",
       "      <td>3.4971</td>\n",
       "      <td>77.800000</td>\n",
       "    </tr>\n",
       "    <tr>\n",
       "      <th>2019-06-20</th>\n",
       "      <th>VLO</th>\n",
       "      <td>32610.54048</td>\n",
       "      <td>109365</td>\n",
       "      <td>2777</td>\n",
       "      <td>NaN</td>\n",
       "      <td>0.9</td>\n",
       "      <td>4.60594</td>\n",
       "      <td>1.92647</td>\n",
       "      <td>1.27624</td>\n",
       "      <td>1.53036</td>\n",
       "      <td>0.30157</td>\n",
       "      <td>...</td>\n",
       "      <td>44.56754</td>\n",
       "      <td>-32.97891</td>\n",
       "      <td>4.25504</td>\n",
       "      <td>-30.37406</td>\n",
       "      <td>19.19481</td>\n",
       "      <td>10.21075</td>\n",
       "      <td>20.7587</td>\n",
       "      <td>417.241</td>\n",
       "      <td>3.48806</td>\n",
       "      <td>79.750000</td>\n",
       "    </tr>\n",
       "  </tbody>\n",
       "</table>\n",
       "<p>5 rows × 27 columns</p>\n",
       "</div>"
      ],
      "text/plain": [
       "                       MCAP RevenueTTM TotalCash ExDividendDate Dividend  \\\n",
       "date       sym                                                             \n",
       "2019-06-04 VLO        30040     109365      2777            NaN   0.9000   \n",
       "2019-06-08 VLO        31180     109365      2777            NaN   0.9000   \n",
       "2019-06-17 VLO  32026.42128     109365      2777            NaN      0.9   \n",
       "2019-06-19 VLO  32097.35004     109365      2777            NaN      0.9   \n",
       "2019-06-20 VLO  32610.54048     109365      2777            NaN      0.9   \n",
       "\n",
       "               DividendYield DividendCoverage      PEG PriceToBook  \\\n",
       "date       sym                                                       \n",
       "2019-06-04 VLO             5            1.926    1.176       1.410   \n",
       "2019-06-08 VLO         4.817            1.926    1.220       1.463   \n",
       "2019-06-17 VLO       4.68994          1.92647  1.25338     1.50295   \n",
       "2019-06-19 VLO       4.67958          1.92647  1.25615     1.50628   \n",
       "2019-06-20 VLO       4.60594          1.92647  1.27624     1.53036   \n",
       "\n",
       "               PriceToSales  ... TotalDebtToEquity PricePerformance52Weeks  \\\n",
       "date       sym               ...                                             \n",
       "2019-06-04 VLO        0.278  ...            44.568                 -41.832   \n",
       "2019-06-08 VLO        0.288  ...            44.568                 -38.489   \n",
       "2019-06-17 VLO      0.29617  ...          44.56754               -33.35649   \n",
       "2019-06-19 VLO      0.29683  ...          44.56754               -33.20889   \n",
       "2019-06-20 VLO      0.30157  ...          44.56754               -32.97891   \n",
       "\n",
       "               PricePerformanceYTD TotalReturn1Yr TotalReturn3Yr  \\\n",
       "date       sym                                                     \n",
       "2019-06-04 VLO              -3.962        -39.572         13.514   \n",
       "2019-06-08 VLO              -0.320        -36.098         14.593   \n",
       "2019-06-17 VLO             2.38762      -30.76632       18.80137   \n",
       "2019-06-19 VLO             2.61438      -30.61298       18.56625   \n",
       "2019-06-20 VLO             4.25504      -30.37406       19.19481   \n",
       "\n",
       "               TotalReturn5Yr TotalReturn10Yr SharesOutstanding  \\\n",
       "date       sym                                                    \n",
       "2019-06-04 VLO          9.070          18.959           417.241   \n",
       "2019-06-08 VLO          9.956          19.527           417.241   \n",
       "2019-06-17 VLO       11.14925        20.45681           417.241   \n",
       "2019-06-19 VLO       11.04595        20.53229           417.241   \n",
       "2019-06-20 VLO       10.21075         20.7587           417.241   \n",
       "\n",
       "               VolumeAvg90Day      price  \n",
       "date       sym                            \n",
       "2019-06-04 VLO          3.740  73.850000  \n",
       "2019-06-08 VLO          3.666  74.730000  \n",
       "2019-06-17 VLO        3.52318  76.930000  \n",
       "2019-06-19 VLO         3.4971  77.800000  \n",
       "2019-06-20 VLO        3.48806  79.750000  \n",
       "\n",
       "[5 rows x 27 columns]"
      ]
     },
     "execution_count": 127,
     "metadata": {},
     "output_type": "execute_result"
    }
   ],
   "source": [
    "df_performance.query(\"sym == 'VLO'\").head()"
   ]
  },
  {
   "cell_type": "markdown",
   "metadata": {},
   "source": [
    "##### Checking a stock with valid dates"
   ]
  },
  {
   "cell_type": "code",
   "execution_count": 128,
   "metadata": {
    "ExecuteTime": {
     "end_time": "2020-11-17T08:27:56.142753Z",
     "start_time": "2020-11-17T08:27:56.028632Z"
    }
   },
   "outputs": [
    {
     "data": {
      "text/html": [
       "<div>\n",
       "<style scoped>\n",
       "    .dataframe tbody tr th:only-of-type {\n",
       "        vertical-align: middle;\n",
       "    }\n",
       "\n",
       "    .dataframe tbody tr th {\n",
       "        vertical-align: top;\n",
       "    }\n",
       "\n",
       "    .dataframe thead th {\n",
       "        text-align: right;\n",
       "    }\n",
       "</style>\n",
       "<table border=\"1\" class=\"dataframe\">\n",
       "  <thead>\n",
       "    <tr style=\"text-align: right;\">\n",
       "      <th></th>\n",
       "      <th></th>\n",
       "      <th>MCAP</th>\n",
       "      <th>RevenueTTM</th>\n",
       "      <th>TotalCash</th>\n",
       "      <th>ExDividendDate</th>\n",
       "      <th>Dividend</th>\n",
       "      <th>DividendYield</th>\n",
       "      <th>DividendCoverage</th>\n",
       "      <th>PEG</th>\n",
       "      <th>PriceToBook</th>\n",
       "      <th>PriceToSales</th>\n",
       "      <th>...</th>\n",
       "      <th>TotalDebtToEquity</th>\n",
       "      <th>PricePerformance52Weeks</th>\n",
       "      <th>PricePerformanceYTD</th>\n",
       "      <th>TotalReturn1Yr</th>\n",
       "      <th>TotalReturn3Yr</th>\n",
       "      <th>TotalReturn5Yr</th>\n",
       "      <th>TotalReturn10Yr</th>\n",
       "      <th>SharesOutstanding</th>\n",
       "      <th>VolumeAvg90Day</th>\n",
       "      <th>price</th>\n",
       "    </tr>\n",
       "    <tr>\n",
       "      <th>date</th>\n",
       "      <th>sym</th>\n",
       "      <th></th>\n",
       "      <th></th>\n",
       "      <th></th>\n",
       "      <th></th>\n",
       "      <th></th>\n",
       "      <th></th>\n",
       "      <th></th>\n",
       "      <th></th>\n",
       "      <th></th>\n",
       "      <th></th>\n",
       "      <th></th>\n",
       "      <th></th>\n",
       "      <th></th>\n",
       "      <th></th>\n",
       "      <th></th>\n",
       "      <th></th>\n",
       "      <th></th>\n",
       "      <th></th>\n",
       "      <th></th>\n",
       "      <th></th>\n",
       "      <th></th>\n",
       "    </tr>\n",
       "  </thead>\n",
       "  <tbody>\n",
       "    <tr>\n",
       "      <th>2019-06-04</th>\n",
       "      <th>NHI</th>\n",
       "      <td>3380</td>\n",
       "      <td>297.973</td>\n",
       "      <td>15.554</td>\n",
       "      <td>2019-06-27</td>\n",
       "      <td>1.0500</td>\n",
       "      <td>5.367</td>\n",
       "      <td>0.873</td>\n",
       "      <td>NaN</td>\n",
       "      <td>2.388</td>\n",
       "      <td>11.182</td>\n",
       "      <td>...</td>\n",
       "      <td>90.696</td>\n",
       "      <td>5.700</td>\n",
       "      <td>3.601</td>\n",
       "      <td>11.436</td>\n",
       "      <td>8.749</td>\n",
       "      <td>10.070</td>\n",
       "      <td>17.223</td>\n",
       "      <td>43.260</td>\n",
       "      <td>0.201</td>\n",
       "      <td>76.940000</td>\n",
       "    </tr>\n",
       "    <tr>\n",
       "      <th>2019-06-08</th>\n",
       "      <th>NHI</th>\n",
       "      <td>3400</td>\n",
       "      <td>297.973</td>\n",
       "      <td>15.554</td>\n",
       "      <td>2019-06-27</td>\n",
       "      <td>1.0500</td>\n",
       "      <td>5.331</td>\n",
       "      <td>0.873</td>\n",
       "      <td>NaN</td>\n",
       "      <td>2.403</td>\n",
       "      <td>11.256</td>\n",
       "      <td>...</td>\n",
       "      <td>90.696</td>\n",
       "      <td>6.187</td>\n",
       "      <td>4.289</td>\n",
       "      <td>11.950</td>\n",
       "      <td>9.309</td>\n",
       "      <td>9.569</td>\n",
       "      <td>17.275</td>\n",
       "      <td>43.260</td>\n",
       "      <td>0.209</td>\n",
       "      <td>78.780000</td>\n",
       "    </tr>\n",
       "    <tr>\n",
       "      <th>2019-06-17</th>\n",
       "      <th>NHI</th>\n",
       "      <td>3397.16936</td>\n",
       "      <td>297.973</td>\n",
       "      <td>15.554</td>\n",
       "      <td>2019-06-27</td>\n",
       "      <td>1.05</td>\n",
       "      <td>5.34079</td>\n",
       "      <td>0.87317</td>\n",
       "      <td>NaN</td>\n",
       "      <td>2.39916</td>\n",
       "      <td>11.23638</td>\n",
       "      <td>...</td>\n",
       "      <td>90.69594</td>\n",
       "      <td>5.55705</td>\n",
       "      <td>4.10379</td>\n",
       "      <td>11.28569</td>\n",
       "      <td>8.88381</td>\n",
       "      <td>10.48224</td>\n",
       "      <td>17.51797</td>\n",
       "      <td>43.26</td>\n",
       "      <td>0.20339</td>\n",
       "      <td>80.340000</td>\n",
       "    </tr>\n",
       "    <tr>\n",
       "      <th>2019-06-19</th>\n",
       "      <th>NHI</th>\n",
       "      <td>3470.60766</td>\n",
       "      <td>297.973</td>\n",
       "      <td>15.554</td>\n",
       "      <td>2019-06-27</td>\n",
       "      <td>1.05</td>\n",
       "      <td>5.22778</td>\n",
       "      <td>0.87317</td>\n",
       "      <td>NaN</td>\n",
       "      <td>2.45102</td>\n",
       "      <td>11.47928</td>\n",
       "      <td>...</td>\n",
       "      <td>90.69594</td>\n",
       "      <td>7.95485</td>\n",
       "      <td>6.35425</td>\n",
       "      <td>13.81362</td>\n",
       "      <td>9.5088</td>\n",
       "      <td>11.10387</td>\n",
       "      <td>18.13954</td>\n",
       "      <td>43.26</td>\n",
       "      <td>0.20444</td>\n",
       "      <td>79.900000</td>\n",
       "    </tr>\n",
       "    <tr>\n",
       "      <th>2019-06-20</th>\n",
       "      <th>NHI</th>\n",
       "      <td>3482.70338</td>\n",
       "      <td>297.973</td>\n",
       "      <td>15.554</td>\n",
       "      <td>2019-06-27</td>\n",
       "      <td>1.05</td>\n",
       "      <td>5.20963</td>\n",
       "      <td>0.87317</td>\n",
       "      <td>NaN</td>\n",
       "      <td>2.45956</td>\n",
       "      <td>11.51929</td>\n",
       "      <td>...</td>\n",
       "      <td>90.69594</td>\n",
       "      <td>9.13767</td>\n",
       "      <td>6.72491</td>\n",
       "      <td>15.06064</td>\n",
       "      <td>9.63588</td>\n",
       "      <td>10.53602</td>\n",
       "      <td>17.99178</td>\n",
       "      <td>43.26</td>\n",
       "      <td>0.20424</td>\n",
       "      <td>81.260000</td>\n",
       "    </tr>\n",
       "  </tbody>\n",
       "</table>\n",
       "<p>5 rows × 27 columns</p>\n",
       "</div>"
      ],
      "text/plain": [
       "                      MCAP RevenueTTM TotalCash ExDividendDate Dividend  \\\n",
       "date       sym                                                            \n",
       "2019-06-04 NHI        3380    297.973    15.554     2019-06-27   1.0500   \n",
       "2019-06-08 NHI        3400    297.973    15.554     2019-06-27   1.0500   \n",
       "2019-06-17 NHI  3397.16936    297.973    15.554     2019-06-27     1.05   \n",
       "2019-06-19 NHI  3470.60766    297.973    15.554     2019-06-27     1.05   \n",
       "2019-06-20 NHI  3482.70338    297.973    15.554     2019-06-27     1.05   \n",
       "\n",
       "               DividendYield DividendCoverage  PEG PriceToBook PriceToSales  \\\n",
       "date       sym                                                                \n",
       "2019-06-04 NHI         5.367            0.873  NaN       2.388       11.182   \n",
       "2019-06-08 NHI         5.331            0.873  NaN       2.403       11.256   \n",
       "2019-06-17 NHI       5.34079          0.87317  NaN     2.39916     11.23638   \n",
       "2019-06-19 NHI       5.22778          0.87317  NaN     2.45102     11.47928   \n",
       "2019-06-20 NHI       5.20963          0.87317  NaN     2.45956     11.51929   \n",
       "\n",
       "                ... TotalDebtToEquity PricePerformance52Weeks  \\\n",
       "date       sym  ...                                             \n",
       "2019-06-04 NHI  ...            90.696                   5.700   \n",
       "2019-06-08 NHI  ...            90.696                   6.187   \n",
       "2019-06-17 NHI  ...          90.69594                 5.55705   \n",
       "2019-06-19 NHI  ...          90.69594                 7.95485   \n",
       "2019-06-20 NHI  ...          90.69594                 9.13767   \n",
       "\n",
       "               PricePerformanceYTD TotalReturn1Yr TotalReturn3Yr  \\\n",
       "date       sym                                                     \n",
       "2019-06-04 NHI               3.601         11.436          8.749   \n",
       "2019-06-08 NHI               4.289         11.950          9.309   \n",
       "2019-06-17 NHI             4.10379       11.28569        8.88381   \n",
       "2019-06-19 NHI             6.35425       13.81362         9.5088   \n",
       "2019-06-20 NHI             6.72491       15.06064        9.63588   \n",
       "\n",
       "               TotalReturn5Yr TotalReturn10Yr SharesOutstanding  \\\n",
       "date       sym                                                    \n",
       "2019-06-04 NHI         10.070          17.223            43.260   \n",
       "2019-06-08 NHI          9.569          17.275            43.260   \n",
       "2019-06-17 NHI       10.48224        17.51797             43.26   \n",
       "2019-06-19 NHI       11.10387        18.13954             43.26   \n",
       "2019-06-20 NHI       10.53602        17.99178             43.26   \n",
       "\n",
       "               VolumeAvg90Day      price  \n",
       "date       sym                            \n",
       "2019-06-04 NHI          0.201  76.940000  \n",
       "2019-06-08 NHI          0.209  78.780000  \n",
       "2019-06-17 NHI        0.20339  80.340000  \n",
       "2019-06-19 NHI        0.20444  79.900000  \n",
       "2019-06-20 NHI        0.20424  81.260000  \n",
       "\n",
       "[5 rows x 27 columns]"
      ]
     },
     "execution_count": 128,
     "metadata": {},
     "output_type": "execute_result"
    }
   ],
   "source": [
    "df_performance.query(\"sym == 'NHI'\").head()"
   ]
  },
  {
   "cell_type": "code",
   "execution_count": 74,
   "metadata": {
    "ExecuteTime": {
     "end_time": "2020-11-17T08:16:49.923431Z",
     "start_time": "2020-11-17T08:16:49.904620Z"
    }
   },
   "outputs": [
    {
     "data": {
      "text/plain": [
       "Timestamp('1970-01-01 00:00:00')"
      ]
     },
     "execution_count": 74,
     "metadata": {},
     "output_type": "execute_result"
    }
   ],
   "source": [
    "fill_date = pd.to_datetime('1970-01-01')\n",
    "fill_date"
   ]
  },
  {
   "cell_type": "code",
   "execution_count": 129,
   "metadata": {
    "ExecuteTime": {
     "end_time": "2020-11-17T08:28:20.776417Z",
     "start_time": "2020-11-17T08:28:18.967573Z"
    }
   },
   "outputs": [],
   "source": [
    "df_performance['ExDividendDate'] = pd.to_datetime(df_performance['ExDividendDate'].fillna(fill_date))"
   ]
  },
  {
   "cell_type": "code",
   "execution_count": 130,
   "metadata": {
    "ExecuteTime": {
     "end_time": "2020-11-17T08:28:22.511663Z",
     "start_time": "2020-11-17T08:28:22.500656Z"
    }
   },
   "outputs": [
    {
     "data": {
      "text/plain": [
       "0"
      ]
     },
     "execution_count": 130,
     "metadata": {},
     "output_type": "execute_result"
    }
   ],
   "source": [
    "df_performance['ExDividendDate'].isna().sum()"
   ]
  },
  {
   "cell_type": "markdown",
   "metadata": {},
   "source": [
    "##### Double checking fills"
   ]
  },
  {
   "cell_type": "code",
   "execution_count": 131,
   "metadata": {
    "ExecuteTime": {
     "end_time": "2020-11-17T08:28:41.010979Z",
     "start_time": "2020-11-17T08:28:40.895960Z"
    }
   },
   "outputs": [
    {
     "data": {
      "text/html": [
       "<div>\n",
       "<style scoped>\n",
       "    .dataframe tbody tr th:only-of-type {\n",
       "        vertical-align: middle;\n",
       "    }\n",
       "\n",
       "    .dataframe tbody tr th {\n",
       "        vertical-align: top;\n",
       "    }\n",
       "\n",
       "    .dataframe thead th {\n",
       "        text-align: right;\n",
       "    }\n",
       "</style>\n",
       "<table border=\"1\" class=\"dataframe\">\n",
       "  <thead>\n",
       "    <tr style=\"text-align: right;\">\n",
       "      <th></th>\n",
       "      <th></th>\n",
       "      <th>MCAP</th>\n",
       "      <th>RevenueTTM</th>\n",
       "      <th>TotalCash</th>\n",
       "      <th>ExDividendDate</th>\n",
       "      <th>Dividend</th>\n",
       "      <th>DividendYield</th>\n",
       "      <th>DividendCoverage</th>\n",
       "      <th>PEG</th>\n",
       "      <th>PriceToBook</th>\n",
       "      <th>PriceToSales</th>\n",
       "      <th>...</th>\n",
       "      <th>TotalDebtToEquity</th>\n",
       "      <th>PricePerformance52Weeks</th>\n",
       "      <th>PricePerformanceYTD</th>\n",
       "      <th>TotalReturn1Yr</th>\n",
       "      <th>TotalReturn3Yr</th>\n",
       "      <th>TotalReturn5Yr</th>\n",
       "      <th>TotalReturn10Yr</th>\n",
       "      <th>SharesOutstanding</th>\n",
       "      <th>VolumeAvg90Day</th>\n",
       "      <th>price</th>\n",
       "    </tr>\n",
       "    <tr>\n",
       "      <th>date</th>\n",
       "      <th>sym</th>\n",
       "      <th></th>\n",
       "      <th></th>\n",
       "      <th></th>\n",
       "      <th></th>\n",
       "      <th></th>\n",
       "      <th></th>\n",
       "      <th></th>\n",
       "      <th></th>\n",
       "      <th></th>\n",
       "      <th></th>\n",
       "      <th></th>\n",
       "      <th></th>\n",
       "      <th></th>\n",
       "      <th></th>\n",
       "      <th></th>\n",
       "      <th></th>\n",
       "      <th></th>\n",
       "      <th></th>\n",
       "      <th></th>\n",
       "      <th></th>\n",
       "      <th></th>\n",
       "    </tr>\n",
       "  </thead>\n",
       "  <tbody>\n",
       "    <tr>\n",
       "      <th>2019-06-04</th>\n",
       "      <th>VLO</th>\n",
       "      <td>30040</td>\n",
       "      <td>109365</td>\n",
       "      <td>2777</td>\n",
       "      <td>1970-01-01</td>\n",
       "      <td>0.9000</td>\n",
       "      <td>5</td>\n",
       "      <td>1.926</td>\n",
       "      <td>1.176</td>\n",
       "      <td>1.410</td>\n",
       "      <td>0.278</td>\n",
       "      <td>...</td>\n",
       "      <td>44.568</td>\n",
       "      <td>-41.832</td>\n",
       "      <td>-3.962</td>\n",
       "      <td>-39.572</td>\n",
       "      <td>13.514</td>\n",
       "      <td>9.070</td>\n",
       "      <td>18.959</td>\n",
       "      <td>417.241</td>\n",
       "      <td>3.740</td>\n",
       "      <td>73.850000</td>\n",
       "    </tr>\n",
       "    <tr>\n",
       "      <th>2019-06-08</th>\n",
       "      <th>VLO</th>\n",
       "      <td>31180</td>\n",
       "      <td>109365</td>\n",
       "      <td>2777</td>\n",
       "      <td>1970-01-01</td>\n",
       "      <td>0.9000</td>\n",
       "      <td>4.817</td>\n",
       "      <td>1.926</td>\n",
       "      <td>1.220</td>\n",
       "      <td>1.463</td>\n",
       "      <td>0.288</td>\n",
       "      <td>...</td>\n",
       "      <td>44.568</td>\n",
       "      <td>-38.489</td>\n",
       "      <td>-0.320</td>\n",
       "      <td>-36.098</td>\n",
       "      <td>14.593</td>\n",
       "      <td>9.956</td>\n",
       "      <td>19.527</td>\n",
       "      <td>417.241</td>\n",
       "      <td>3.666</td>\n",
       "      <td>74.730000</td>\n",
       "    </tr>\n",
       "    <tr>\n",
       "      <th>2019-06-17</th>\n",
       "      <th>VLO</th>\n",
       "      <td>32026.42128</td>\n",
       "      <td>109365</td>\n",
       "      <td>2777</td>\n",
       "      <td>1970-01-01</td>\n",
       "      <td>0.9</td>\n",
       "      <td>4.68994</td>\n",
       "      <td>1.92647</td>\n",
       "      <td>1.25338</td>\n",
       "      <td>1.50295</td>\n",
       "      <td>0.29617</td>\n",
       "      <td>...</td>\n",
       "      <td>44.56754</td>\n",
       "      <td>-33.35649</td>\n",
       "      <td>2.38762</td>\n",
       "      <td>-30.76632</td>\n",
       "      <td>18.80137</td>\n",
       "      <td>11.14925</td>\n",
       "      <td>20.45681</td>\n",
       "      <td>417.241</td>\n",
       "      <td>3.52318</td>\n",
       "      <td>76.930000</td>\n",
       "    </tr>\n",
       "    <tr>\n",
       "      <th>2019-06-19</th>\n",
       "      <th>VLO</th>\n",
       "      <td>32097.35004</td>\n",
       "      <td>109365</td>\n",
       "      <td>2777</td>\n",
       "      <td>1970-01-01</td>\n",
       "      <td>0.9</td>\n",
       "      <td>4.67958</td>\n",
       "      <td>1.92647</td>\n",
       "      <td>1.25615</td>\n",
       "      <td>1.50628</td>\n",
       "      <td>0.29683</td>\n",
       "      <td>...</td>\n",
       "      <td>44.56754</td>\n",
       "      <td>-33.20889</td>\n",
       "      <td>2.61438</td>\n",
       "      <td>-30.61298</td>\n",
       "      <td>18.56625</td>\n",
       "      <td>11.04595</td>\n",
       "      <td>20.53229</td>\n",
       "      <td>417.241</td>\n",
       "      <td>3.4971</td>\n",
       "      <td>77.800000</td>\n",
       "    </tr>\n",
       "    <tr>\n",
       "      <th>2019-06-20</th>\n",
       "      <th>VLO</th>\n",
       "      <td>32610.54048</td>\n",
       "      <td>109365</td>\n",
       "      <td>2777</td>\n",
       "      <td>1970-01-01</td>\n",
       "      <td>0.9</td>\n",
       "      <td>4.60594</td>\n",
       "      <td>1.92647</td>\n",
       "      <td>1.27624</td>\n",
       "      <td>1.53036</td>\n",
       "      <td>0.30157</td>\n",
       "      <td>...</td>\n",
       "      <td>44.56754</td>\n",
       "      <td>-32.97891</td>\n",
       "      <td>4.25504</td>\n",
       "      <td>-30.37406</td>\n",
       "      <td>19.19481</td>\n",
       "      <td>10.21075</td>\n",
       "      <td>20.7587</td>\n",
       "      <td>417.241</td>\n",
       "      <td>3.48806</td>\n",
       "      <td>79.750000</td>\n",
       "    </tr>\n",
       "  </tbody>\n",
       "</table>\n",
       "<p>5 rows × 27 columns</p>\n",
       "</div>"
      ],
      "text/plain": [
       "                       MCAP RevenueTTM TotalCash ExDividendDate Dividend  \\\n",
       "date       sym                                                             \n",
       "2019-06-04 VLO        30040     109365      2777     1970-01-01   0.9000   \n",
       "2019-06-08 VLO        31180     109365      2777     1970-01-01   0.9000   \n",
       "2019-06-17 VLO  32026.42128     109365      2777     1970-01-01      0.9   \n",
       "2019-06-19 VLO  32097.35004     109365      2777     1970-01-01      0.9   \n",
       "2019-06-20 VLO  32610.54048     109365      2777     1970-01-01      0.9   \n",
       "\n",
       "               DividendYield DividendCoverage      PEG PriceToBook  \\\n",
       "date       sym                                                       \n",
       "2019-06-04 VLO             5            1.926    1.176       1.410   \n",
       "2019-06-08 VLO         4.817            1.926    1.220       1.463   \n",
       "2019-06-17 VLO       4.68994          1.92647  1.25338     1.50295   \n",
       "2019-06-19 VLO       4.67958          1.92647  1.25615     1.50628   \n",
       "2019-06-20 VLO       4.60594          1.92647  1.27624     1.53036   \n",
       "\n",
       "               PriceToSales  ... TotalDebtToEquity PricePerformance52Weeks  \\\n",
       "date       sym               ...                                             \n",
       "2019-06-04 VLO        0.278  ...            44.568                 -41.832   \n",
       "2019-06-08 VLO        0.288  ...            44.568                 -38.489   \n",
       "2019-06-17 VLO      0.29617  ...          44.56754               -33.35649   \n",
       "2019-06-19 VLO      0.29683  ...          44.56754               -33.20889   \n",
       "2019-06-20 VLO      0.30157  ...          44.56754               -32.97891   \n",
       "\n",
       "               PricePerformanceYTD TotalReturn1Yr TotalReturn3Yr  \\\n",
       "date       sym                                                     \n",
       "2019-06-04 VLO              -3.962        -39.572         13.514   \n",
       "2019-06-08 VLO              -0.320        -36.098         14.593   \n",
       "2019-06-17 VLO             2.38762      -30.76632       18.80137   \n",
       "2019-06-19 VLO             2.61438      -30.61298       18.56625   \n",
       "2019-06-20 VLO             4.25504      -30.37406       19.19481   \n",
       "\n",
       "               TotalReturn5Yr TotalReturn10Yr SharesOutstanding  \\\n",
       "date       sym                                                    \n",
       "2019-06-04 VLO          9.070          18.959           417.241   \n",
       "2019-06-08 VLO          9.956          19.527           417.241   \n",
       "2019-06-17 VLO       11.14925        20.45681           417.241   \n",
       "2019-06-19 VLO       11.04595        20.53229           417.241   \n",
       "2019-06-20 VLO       10.21075         20.7587           417.241   \n",
       "\n",
       "               VolumeAvg90Day      price  \n",
       "date       sym                            \n",
       "2019-06-04 VLO          3.740  73.850000  \n",
       "2019-06-08 VLO          3.666  74.730000  \n",
       "2019-06-17 VLO        3.52318  76.930000  \n",
       "2019-06-19 VLO         3.4971  77.800000  \n",
       "2019-06-20 VLO        3.48806  79.750000  \n",
       "\n",
       "[5 rows x 27 columns]"
      ]
     },
     "execution_count": 131,
     "metadata": {},
     "output_type": "execute_result"
    }
   ],
   "source": [
    "df_performance.query(\"sym == 'VLO'\").head()"
   ]
  },
  {
   "cell_type": "code",
   "execution_count": 132,
   "metadata": {
    "ExecuteTime": {
     "end_time": "2020-11-17T08:28:41.138995Z",
     "start_time": "2020-11-17T08:28:41.029981Z"
    }
   },
   "outputs": [
    {
     "data": {
      "text/html": [
       "<div>\n",
       "<style scoped>\n",
       "    .dataframe tbody tr th:only-of-type {\n",
       "        vertical-align: middle;\n",
       "    }\n",
       "\n",
       "    .dataframe tbody tr th {\n",
       "        vertical-align: top;\n",
       "    }\n",
       "\n",
       "    .dataframe thead th {\n",
       "        text-align: right;\n",
       "    }\n",
       "</style>\n",
       "<table border=\"1\" class=\"dataframe\">\n",
       "  <thead>\n",
       "    <tr style=\"text-align: right;\">\n",
       "      <th></th>\n",
       "      <th></th>\n",
       "      <th>MCAP</th>\n",
       "      <th>RevenueTTM</th>\n",
       "      <th>TotalCash</th>\n",
       "      <th>ExDividendDate</th>\n",
       "      <th>Dividend</th>\n",
       "      <th>DividendYield</th>\n",
       "      <th>DividendCoverage</th>\n",
       "      <th>PEG</th>\n",
       "      <th>PriceToBook</th>\n",
       "      <th>PriceToSales</th>\n",
       "      <th>...</th>\n",
       "      <th>TotalDebtToEquity</th>\n",
       "      <th>PricePerformance52Weeks</th>\n",
       "      <th>PricePerformanceYTD</th>\n",
       "      <th>TotalReturn1Yr</th>\n",
       "      <th>TotalReturn3Yr</th>\n",
       "      <th>TotalReturn5Yr</th>\n",
       "      <th>TotalReturn10Yr</th>\n",
       "      <th>SharesOutstanding</th>\n",
       "      <th>VolumeAvg90Day</th>\n",
       "      <th>price</th>\n",
       "    </tr>\n",
       "    <tr>\n",
       "      <th>date</th>\n",
       "      <th>sym</th>\n",
       "      <th></th>\n",
       "      <th></th>\n",
       "      <th></th>\n",
       "      <th></th>\n",
       "      <th></th>\n",
       "      <th></th>\n",
       "      <th></th>\n",
       "      <th></th>\n",
       "      <th></th>\n",
       "      <th></th>\n",
       "      <th></th>\n",
       "      <th></th>\n",
       "      <th></th>\n",
       "      <th></th>\n",
       "      <th></th>\n",
       "      <th></th>\n",
       "      <th></th>\n",
       "      <th></th>\n",
       "      <th></th>\n",
       "      <th></th>\n",
       "      <th></th>\n",
       "    </tr>\n",
       "  </thead>\n",
       "  <tbody>\n",
       "    <tr>\n",
       "      <th>2019-06-04</th>\n",
       "      <th>NHI</th>\n",
       "      <td>3380</td>\n",
       "      <td>297.973</td>\n",
       "      <td>15.554</td>\n",
       "      <td>2019-06-27</td>\n",
       "      <td>1.0500</td>\n",
       "      <td>5.367</td>\n",
       "      <td>0.873</td>\n",
       "      <td>NaN</td>\n",
       "      <td>2.388</td>\n",
       "      <td>11.182</td>\n",
       "      <td>...</td>\n",
       "      <td>90.696</td>\n",
       "      <td>5.700</td>\n",
       "      <td>3.601</td>\n",
       "      <td>11.436</td>\n",
       "      <td>8.749</td>\n",
       "      <td>10.070</td>\n",
       "      <td>17.223</td>\n",
       "      <td>43.260</td>\n",
       "      <td>0.201</td>\n",
       "      <td>76.940000</td>\n",
       "    </tr>\n",
       "    <tr>\n",
       "      <th>2019-06-08</th>\n",
       "      <th>NHI</th>\n",
       "      <td>3400</td>\n",
       "      <td>297.973</td>\n",
       "      <td>15.554</td>\n",
       "      <td>2019-06-27</td>\n",
       "      <td>1.0500</td>\n",
       "      <td>5.331</td>\n",
       "      <td>0.873</td>\n",
       "      <td>NaN</td>\n",
       "      <td>2.403</td>\n",
       "      <td>11.256</td>\n",
       "      <td>...</td>\n",
       "      <td>90.696</td>\n",
       "      <td>6.187</td>\n",
       "      <td>4.289</td>\n",
       "      <td>11.950</td>\n",
       "      <td>9.309</td>\n",
       "      <td>9.569</td>\n",
       "      <td>17.275</td>\n",
       "      <td>43.260</td>\n",
       "      <td>0.209</td>\n",
       "      <td>78.780000</td>\n",
       "    </tr>\n",
       "    <tr>\n",
       "      <th>2019-06-17</th>\n",
       "      <th>NHI</th>\n",
       "      <td>3397.16936</td>\n",
       "      <td>297.973</td>\n",
       "      <td>15.554</td>\n",
       "      <td>2019-06-27</td>\n",
       "      <td>1.05</td>\n",
       "      <td>5.34079</td>\n",
       "      <td>0.87317</td>\n",
       "      <td>NaN</td>\n",
       "      <td>2.39916</td>\n",
       "      <td>11.23638</td>\n",
       "      <td>...</td>\n",
       "      <td>90.69594</td>\n",
       "      <td>5.55705</td>\n",
       "      <td>4.10379</td>\n",
       "      <td>11.28569</td>\n",
       "      <td>8.88381</td>\n",
       "      <td>10.48224</td>\n",
       "      <td>17.51797</td>\n",
       "      <td>43.26</td>\n",
       "      <td>0.20339</td>\n",
       "      <td>80.340000</td>\n",
       "    </tr>\n",
       "    <tr>\n",
       "      <th>2019-06-19</th>\n",
       "      <th>NHI</th>\n",
       "      <td>3470.60766</td>\n",
       "      <td>297.973</td>\n",
       "      <td>15.554</td>\n",
       "      <td>2019-06-27</td>\n",
       "      <td>1.05</td>\n",
       "      <td>5.22778</td>\n",
       "      <td>0.87317</td>\n",
       "      <td>NaN</td>\n",
       "      <td>2.45102</td>\n",
       "      <td>11.47928</td>\n",
       "      <td>...</td>\n",
       "      <td>90.69594</td>\n",
       "      <td>7.95485</td>\n",
       "      <td>6.35425</td>\n",
       "      <td>13.81362</td>\n",
       "      <td>9.5088</td>\n",
       "      <td>11.10387</td>\n",
       "      <td>18.13954</td>\n",
       "      <td>43.26</td>\n",
       "      <td>0.20444</td>\n",
       "      <td>79.900000</td>\n",
       "    </tr>\n",
       "    <tr>\n",
       "      <th>2019-06-20</th>\n",
       "      <th>NHI</th>\n",
       "      <td>3482.70338</td>\n",
       "      <td>297.973</td>\n",
       "      <td>15.554</td>\n",
       "      <td>2019-06-27</td>\n",
       "      <td>1.05</td>\n",
       "      <td>5.20963</td>\n",
       "      <td>0.87317</td>\n",
       "      <td>NaN</td>\n",
       "      <td>2.45956</td>\n",
       "      <td>11.51929</td>\n",
       "      <td>...</td>\n",
       "      <td>90.69594</td>\n",
       "      <td>9.13767</td>\n",
       "      <td>6.72491</td>\n",
       "      <td>15.06064</td>\n",
       "      <td>9.63588</td>\n",
       "      <td>10.53602</td>\n",
       "      <td>17.99178</td>\n",
       "      <td>43.26</td>\n",
       "      <td>0.20424</td>\n",
       "      <td>81.260000</td>\n",
       "    </tr>\n",
       "  </tbody>\n",
       "</table>\n",
       "<p>5 rows × 27 columns</p>\n",
       "</div>"
      ],
      "text/plain": [
       "                      MCAP RevenueTTM TotalCash ExDividendDate Dividend  \\\n",
       "date       sym                                                            \n",
       "2019-06-04 NHI        3380    297.973    15.554     2019-06-27   1.0500   \n",
       "2019-06-08 NHI        3400    297.973    15.554     2019-06-27   1.0500   \n",
       "2019-06-17 NHI  3397.16936    297.973    15.554     2019-06-27     1.05   \n",
       "2019-06-19 NHI  3470.60766    297.973    15.554     2019-06-27     1.05   \n",
       "2019-06-20 NHI  3482.70338    297.973    15.554     2019-06-27     1.05   \n",
       "\n",
       "               DividendYield DividendCoverage  PEG PriceToBook PriceToSales  \\\n",
       "date       sym                                                                \n",
       "2019-06-04 NHI         5.367            0.873  NaN       2.388       11.182   \n",
       "2019-06-08 NHI         5.331            0.873  NaN       2.403       11.256   \n",
       "2019-06-17 NHI       5.34079          0.87317  NaN     2.39916     11.23638   \n",
       "2019-06-19 NHI       5.22778          0.87317  NaN     2.45102     11.47928   \n",
       "2019-06-20 NHI       5.20963          0.87317  NaN     2.45956     11.51929   \n",
       "\n",
       "                ... TotalDebtToEquity PricePerformance52Weeks  \\\n",
       "date       sym  ...                                             \n",
       "2019-06-04 NHI  ...            90.696                   5.700   \n",
       "2019-06-08 NHI  ...            90.696                   6.187   \n",
       "2019-06-17 NHI  ...          90.69594                 5.55705   \n",
       "2019-06-19 NHI  ...          90.69594                 7.95485   \n",
       "2019-06-20 NHI  ...          90.69594                 9.13767   \n",
       "\n",
       "               PricePerformanceYTD TotalReturn1Yr TotalReturn3Yr  \\\n",
       "date       sym                                                     \n",
       "2019-06-04 NHI               3.601         11.436          8.749   \n",
       "2019-06-08 NHI               4.289         11.950          9.309   \n",
       "2019-06-17 NHI             4.10379       11.28569        8.88381   \n",
       "2019-06-19 NHI             6.35425       13.81362         9.5088   \n",
       "2019-06-20 NHI             6.72491       15.06064        9.63588   \n",
       "\n",
       "               TotalReturn5Yr TotalReturn10Yr SharesOutstanding  \\\n",
       "date       sym                                                    \n",
       "2019-06-04 NHI         10.070          17.223            43.260   \n",
       "2019-06-08 NHI          9.569          17.275            43.260   \n",
       "2019-06-17 NHI       10.48224        17.51797             43.26   \n",
       "2019-06-19 NHI       11.10387        18.13954             43.26   \n",
       "2019-06-20 NHI       10.53602        17.99178             43.26   \n",
       "\n",
       "               VolumeAvg90Day      price  \n",
       "date       sym                            \n",
       "2019-06-04 NHI          0.201  76.940000  \n",
       "2019-06-08 NHI          0.209  78.780000  \n",
       "2019-06-17 NHI        0.20339  80.340000  \n",
       "2019-06-19 NHI        0.20444  79.900000  \n",
       "2019-06-20 NHI        0.20424  81.260000  \n",
       "\n",
       "[5 rows x 27 columns]"
      ]
     },
     "execution_count": 132,
     "metadata": {},
     "output_type": "execute_result"
    }
   ],
   "source": [
    "df_performance.query(\"sym == 'NHI'\").head()"
   ]
  },
  {
   "cell_type": "markdown",
   "metadata": {},
   "source": [
    "#### Calculate missing PE"
   ]
  },
  {
   "cell_type": "markdown",
   "metadata": {},
   "source": [
    "#### Calculate missing PriceToCashFlow"
   ]
  },
  {
   "cell_type": "markdown",
   "metadata": {},
   "source": [
    "#### Front fill columns then fill null with 0"
   ]
  },
  {
   "cell_type": "code",
   "execution_count": null,
   "metadata": {},
   "outputs": [],
   "source": [
    "col_to_fill = ['PEG', 'FwdEPS3to5Yr', 'DivdendCoverage', 'DividendYield',\n",
    "               'Dividend', 'PE', 'PriceToCashFlow', 'TotalReturn10Yr',\n",
    "               'EPSGrowth5Year', 'TotalReturn5Yr', 'TotalReturn3Yr',\n",
    "               'PriceToSales', 'FreeCashFlow']"
   ]
  },
  {
   "cell_type": "markdown",
   "metadata": {},
   "source": [
    "#### Drop the stocks that are in the missing 20%"
   ]
  },
  {
   "cell_type": "code",
   "execution_count": null,
   "metadata": {},
   "outputs": [],
   "source": []
  },
  {
   "cell_type": "markdown",
   "metadata": {},
   "source": [
    "### Performance Percentiles"
   ]
  },
  {
   "cell_type": "code",
   "execution_count": null,
   "metadata": {
    "ExecuteTime": {
     "end_time": "2020-11-15T20:46:17.851896Z",
     "start_time": "2020-11-15T20:46:17.833902Z"
    }
   },
   "outputs": [],
   "source": [
    "df_performance_percentiles = db.frames['performancepercentiles']\n",
    "df_performance_percentiles.head()"
   ]
  },
  {
   "cell_type": "markdown",
   "metadata": {},
   "source": [
    "### Splits"
   ]
  },
  {
   "cell_type": "code",
   "execution_count": null,
   "metadata": {
    "ExecuteTime": {
     "end_time": "2020-11-15T20:46:19.819678Z",
     "start_time": "2020-11-15T20:46:19.797197Z"
    }
   },
   "outputs": [],
   "source": [
    "df_splits = db.frames['splits']\n",
    "df_splits.head()"
   ]
  },
  {
   "cell_type": "code",
   "execution_count": null,
   "metadata": {},
   "outputs": [],
   "source": []
  }
 ],
 "metadata": {
  "kernelspec": {
   "display_name": "Python 3",
   "language": "python",
   "name": "python3"
  },
  "language_info": {
   "codemirror_mode": {
    "name": "ipython",
    "version": 3
   },
   "file_extension": ".py",
   "mimetype": "text/x-python",
   "name": "python",
   "nbconvert_exporter": "python",
   "pygments_lexer": "ipython3",
   "version": "3.7.9"
  },
  "toc": {
   "base_numbering": 1,
   "nav_menu": {},
   "number_sections": true,
   "sideBar": true,
   "skip_h1_title": false,
   "title_cell": "Table of Contents",
   "title_sidebar": "Contents",
   "toc_cell": true,
   "toc_position": {
    "height": "calc(100% - 180px)",
    "left": "10px",
    "top": "150px",
    "width": "384px"
   },
   "toc_section_display": true,
   "toc_window_display": true
  }
 },
 "nbformat": 4,
 "nbformat_minor": 4
}
