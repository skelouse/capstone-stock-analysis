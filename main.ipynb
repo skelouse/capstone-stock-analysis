{
 "cells": [
  {
   "cell_type": "markdown",
   "metadata": {
    "toc": true
   },
   "source": [
    "<h1>Table of Contents<span class=\"tocSkip\"></span></h1>\n",
    "<div class=\"toc\"><ul class=\"toc-item\"><li><span><a href=\"#Introduction\" data-toc-modified-id=\"Introduction-1\"><span class=\"toc-item-num\">1&nbsp;&nbsp;</span>Introduction</a></span><ul class=\"toc-item\"><li><span><a href=\"#Style\" data-toc-modified-id=\"Style-1.1\"><span class=\"toc-item-num\">1.1&nbsp;&nbsp;</span>Style</a></span></li></ul></li><li><span><a href=\"#Imports-and-Data\" data-toc-modified-id=\"Imports-and-Data-2\"><span class=\"toc-item-num\">2&nbsp;&nbsp;</span>Imports and Data</a></span><ul class=\"toc-item\"><li><span><a href=\"#Imports-for-reproducibility\" data-toc-modified-id=\"Imports-for-reproducibility-2.1\"><span class=\"toc-item-num\">2.1&nbsp;&nbsp;</span>Imports for reproducibility</a></span></li><li><span><a href=\"#Custom-imports\" data-toc-modified-id=\"Custom-imports-2.2\"><span class=\"toc-item-num\">2.2&nbsp;&nbsp;</span>Custom imports</a></span></li></ul></li><li><span><a href=\"#Scrubbing\" data-toc-modified-id=\"Scrubbing-3\"><span class=\"toc-item-num\">3&nbsp;&nbsp;</span>Scrubbing</a></span></li><li><span><a href=\"#Checkpoint\" data-toc-modified-id=\"Checkpoint-4\"><span class=\"toc-item-num\">4&nbsp;&nbsp;</span>Checkpoint</a></span></li><li><span><a href=\"#EDA\" data-toc-modified-id=\"EDA-5\"><span class=\"toc-item-num\">5&nbsp;&nbsp;</span>EDA</a></span><ul class=\"toc-item\"><li><span><a href=\"#Functions\" data-toc-modified-id=\"Functions-5.1\"><span class=\"toc-item-num\">5.1&nbsp;&nbsp;</span>Functions</a></span></li><li><span><a href=\"#Head\" data-toc-modified-id=\"Head-5.2\"><span class=\"toc-item-num\">5.2&nbsp;&nbsp;</span>Head</a></span></li><li><span><a href=\"#Describe\" data-toc-modified-id=\"Describe-5.3\"><span class=\"toc-item-num\">5.3&nbsp;&nbsp;</span>Describe</a></span></li><li><span><a href=\"#Info\" data-toc-modified-id=\"Info-5.4\"><span class=\"toc-item-num\">5.4&nbsp;&nbsp;</span>Info</a></span></li><li><span><a href=\"#Other\" data-toc-modified-id=\"Other-5.5\"><span class=\"toc-item-num\">5.5&nbsp;&nbsp;</span>Other</a></span><ul class=\"toc-item\"><li><span><a href=\"#Quantities\" data-toc-modified-id=\"Quantities-5.5.1\"><span class=\"toc-item-num\">5.5.1&nbsp;&nbsp;</span>Quantities</a></span></li><li><span><a href=\"#Comparing-our-data-to-data-from-Yahoo-Finance\" data-toc-modified-id=\"Comparing-our-data-to-data-from-Yahoo-Finance-5.5.2\"><span class=\"toc-item-num\">5.5.2&nbsp;&nbsp;</span>Comparing our data to data from Yahoo Finance</a></span></li></ul></li><li><span><a href=\"#AAPL-differences-to-price\" data-toc-modified-id=\"AAPL-differences-to-price-5.6\"><span class=\"toc-item-num\">5.6&nbsp;&nbsp;</span>AAPL differences to price</a></span><ul class=\"toc-item\"><li><span><a href=\"#AAPL-plot-against-all-column,-differences\" data-toc-modified-id=\"AAPL-plot-against-all-column,-differences-5.6.1\"><span class=\"toc-item-num\">5.6.1&nbsp;&nbsp;</span>AAPL plot against all column, differences</a></span></li></ul></li></ul></li><li><span><a href=\"#Modeling\" data-toc-modified-id=\"Modeling-6\"><span class=\"toc-item-num\">6&nbsp;&nbsp;</span>Modeling</a></span><ul class=\"toc-item\"><li><span><a href=\"#Preparing-the-data\" data-toc-modified-id=\"Preparing-the-data-6.1\"><span class=\"toc-item-num\">6.1&nbsp;&nbsp;</span>Preparing the data</a></span><ul class=\"toc-item\"><li><span><a href=\"#Company\" data-toc-modified-id=\"Company-6.1.1\"><span class=\"toc-item-num\">6.1.1&nbsp;&nbsp;</span>Company</a></span></li><li><span><a href=\"#Performance,-Analyst-and-Prices\" data-toc-modified-id=\"Performance,-Analyst-and-Prices-6.1.2\"><span class=\"toc-item-num\">6.1.2&nbsp;&nbsp;</span>Performance, Analyst and Prices</a></span></li></ul></li><li><span><a href=\"#Checkpoint\" data-toc-modified-id=\"Checkpoint-6.2\"><span class=\"toc-item-num\">6.2&nbsp;&nbsp;</span>Checkpoint</a></span></li><li><span><a href=\"#Imports\" data-toc-modified-id=\"Imports-6.3\"><span class=\"toc-item-num\">6.3&nbsp;&nbsp;</span>Imports</a></span><ul class=\"toc-item\"><li><span><a href=\"#Custom-Class-for-Time-Series-Modeling\" data-toc-modified-id=\"Custom-Class-for-Time-Series-Modeling-6.3.1\"><span class=\"toc-item-num\">6.3.1&nbsp;&nbsp;</span>Custom Class for Time Series Modeling</a></span></li><li><span><a href=\"#Scikit-learn\" data-toc-modified-id=\"Scikit-learn-6.3.2\"><span class=\"toc-item-num\">6.3.2&nbsp;&nbsp;</span>Scikit-learn</a></span></li><li><span><a href=\"#Tensorflow\" data-toc-modified-id=\"Tensorflow-6.3.3\"><span class=\"toc-item-num\">6.3.3&nbsp;&nbsp;</span>Tensorflow</a></span></li><li><span><a href=\"#GPU\" data-toc-modified-id=\"GPU-6.3.4\"><span class=\"toc-item-num\">6.3.4&nbsp;&nbsp;</span>GPU</a></span></li></ul></li><li><span><a href=\"#Narcissus\" data-toc-modified-id=\"Narcissus-6.4\"><span class=\"toc-item-num\">6.4&nbsp;&nbsp;</span>Narcissus</a></span></li><li><span><a href=\"#Hermes\" data-toc-modified-id=\"Hermes-6.5\"><span class=\"toc-item-num\">6.5&nbsp;&nbsp;</span>Hermes</a></span></li><li><span><a href=\"#Cronus\" data-toc-modified-id=\"Cronus-6.6\"><span class=\"toc-item-num\">6.6&nbsp;&nbsp;</span>Cronus</a></span></li><li><span><a href=\"#Loading-in-best-params\" data-toc-modified-id=\"Loading-in-best-params-6.7\"><span class=\"toc-item-num\">6.7&nbsp;&nbsp;</span>Loading in best params</a></span></li></ul></li></ul></div>"
   ]
  },
  {
   "cell_type": "markdown",
   "metadata": {},
   "source": [
    "# Introduction"
   ]
  },
  {
   "cell_type": "code",
   "execution_count": 27,
   "metadata": {
    "ExecuteTime": {
     "end_time": "2020-12-09T21:15:03.455392Z",
     "start_time": "2020-12-09T21:15:03.440392Z"
    }
   },
   "outputs": [],
   "source": [
    "USE_GPU = True\n",
    "IGNORE_WARN = True\n",
    "SEED = 42"
   ]
  },
  {
   "cell_type": "markdown",
   "metadata": {
    "ExecuteTime": {
     "end_time": "2020-11-15T20:00:48.122478Z",
     "start_time": "2020-11-15T20:00:48.115479Z"
    }
   },
   "source": [
    "## Style\n",
    "> - Ignore warnings\n",
    "> - Change Matplotlib plot styling\n",
    "> - Import notebook CSS styling"
   ]
  },
  {
   "cell_type": "code",
   "execution_count": 28,
   "metadata": {
    "ExecuteTime": {
     "end_time": "2020-12-09T21:15:04.083444Z",
     "start_time": "2020-12-09T21:15:04.070448Z"
    }
   },
   "outputs": [
    {
     "data": {
      "text/html": [
       "<style>.shadowbox {\n",
       "    width: 40em;\n",
       "    border: 1px solid #333;\n",
       "    box-shadow: 8px 8px 5px #444;\n",
       "    padding: 8px 12px;\n",
       "    background-image: linear-gradient(180deg, black, rgb(107, 88, 88));\n",
       "    color: rgba(243, 218, 74, 0.801);\n",
       "    line-height: 25px;\n",
       "    position: static;\n",
       "}\n",
       "\n",
       "h1 {\n",
       "    width: 38em;\n",
       "    border: 1.5px solid #333;\n",
       "    /*box-shadow: 8px 8px 5px #444;*/\n",
       "    padding: 8px 12px;\n",
       "    background-image: linear-gradient(180deg, #fff, rgb(147, 156, 160));\n",
       "    position: static;\n",
       "}\n",
       "\n",
       "h2 {\n",
       "    width: 37em;\n",
       "    border: 1px solid #333;\n",
       "    /*box-shadow: 8px 8px 5px #444;*/\n",
       "    padding: 8px 12px;\n",
       "    background-image: linear-gradient(180deg, #fff, rgb(147, 156, 160));\n",
       "    position: relative;\n",
       "    right: -13px;\n",
       "}\n",
       "\n",
       "h3 {\n",
       "    width: 36em;\n",
       "    border: 0.5px solid #333;\n",
       "    /*box-shadow: 8px 8px 5px #444;*/\n",
       "    padding: 8px 12px;\n",
       "    background-image: linear-gradient(180deg, #fff, rgb(147, 156, 160));\n",
       "    position: relative;\n",
       "    right: -25px;\n",
       "}\n",
       "\n",
       ".shadow {\n",
       "    width: 45em;\n",
       "    box-shadow: 8px 8px 10px #444;\n",
       "    border: 1px solid silver;\n",
       "    margin-top: 2em;\n",
       "    position: relative;\n",
       "    top: -25px\n",
       "}\n",
       "\n",
       ".package_header {\n",
       "    width: 100%;\n",
       "    background-color: #0e2b59;\n",
       "    color: #ffffff;\n",
       "    font-size: 14px;\n",
       "    text-align: center;\n",
       "    padding-top: 8px;\n",
       "    padding-right: 8px;\n",
       "    padding-bottom: 8px;\n",
       "    padding-left: 8px;\n",
       "}\n",
       "\n",
       "blockquote {\n",
       "    border: 1px groove gray;\n",
       "    background-color: rgb(214, 218, 219);\n",
       "}\n",
       "\n",
       "</style>"
      ],
      "text/plain": [
       "<IPython.core.display.HTML object>"
      ]
     },
     "execution_count": 28,
     "metadata": {},
     "output_type": "execute_result"
    }
   ],
   "source": [
    "import warnings\n",
    "import matplotlib as mpl\n",
    "mpl.rcParams['axes.titlesize']='xx-large'\n",
    "mpl.rcParams['xtick.labelsize'] = 13\n",
    "mpl.rcParams['ytick.labelsize'] = 13\n",
    "mpl.rcParams['axes.labelsize'] = 16\n",
    "\n",
    "# Styling notebook\n",
    "from IPython.core.display import HTML\n",
    "def css_styling():\n",
    "    styles = open(\"./styles/custom.css\", \"r\").read()\n",
    "    return HTML(styles)\n",
    "css_styling()"
   ]
  },
  {
   "cell_type": "code",
   "execution_count": 29,
   "metadata": {
    "ExecuteTime": {
     "end_time": "2020-12-09T21:15:04.258642Z",
     "start_time": "2020-12-09T21:15:04.249643Z"
    }
   },
   "outputs": [],
   "source": [
    "# Ignore warnings\n",
    "if IGNORE_WARN:\n",
    "    warnings.filterwarnings('ignore')"
   ]
  },
  {
   "cell_type": "markdown",
   "metadata": {},
   "source": [
    "# Imports and Data"
   ]
  },
  {
   "cell_type": "code",
   "execution_count": 30,
   "metadata": {
    "ExecuteTime": {
     "end_time": "2020-12-09T21:15:04.688105Z",
     "start_time": "2020-12-09T21:15:04.678114Z"
    }
   },
   "outputs": [],
   "source": [
    "import os\n",
    "import time\n",
    "import pandas as pd\n",
    "import numpy as np\n",
    "import matplotlib.pyplot as plt\n",
    "import datetime\n",
    "from functools import partial\n",
    "from sklearn.preprocessing import MinMaxScaler\n",
    "pd.set_option('display.float_format', lambda x: '%.3f' % x)"
   ]
  },
  {
   "cell_type": "markdown",
   "metadata": {},
   "source": [
    "## Imports for reproducibility"
   ]
  },
  {
   "cell_type": "code",
   "execution_count": 31,
   "metadata": {
    "ExecuteTime": {
     "end_time": "2020-12-09T21:15:05.411842Z",
     "start_time": "2020-12-09T21:15:05.403675Z"
    }
   },
   "outputs": [],
   "source": [
    "import numpy as np\n",
    "np.random.seed(SEED)\n",
    "\n",
    "import tensorflow as tf\n",
    "tf.random.set_seed(SEED)"
   ]
  },
  {
   "cell_type": "markdown",
   "metadata": {},
   "source": [
    "## Custom imports"
   ]
  },
  {
   "cell_type": "code",
   "execution_count": 32,
   "metadata": {
    "ExecuteTime": {
     "end_time": "2020-12-09T21:15:06.157112Z",
     "start_time": "2020-12-09T21:15:06.141637Z"
    }
   },
   "outputs": [
    {
     "name": "stdout",
     "output_type": "stream",
     "text": [
      "For convinent loading 'from mlframe import MLFrame\n"
     ]
    }
   ],
   "source": [
    "# from db import DataBase\n",
    "# from mlframe import MLFrame\n",
    "\n",
    "import importlib\n",
    "import sys\n",
    "\n",
    "if 'mlframe' in sys.modules:\n",
    "    importlib.reload(sys.modules['mlframe'])\n",
    "    importlib.reload(sys.modules['db'])\n",
    "\n",
    "from db import DataBase\n",
    "from mlframe import MLFrame"
   ]
  },
  {
   "cell_type": "markdown",
   "metadata": {},
   "source": [
    "# Scrubbing\n",
    "> See `Pull and clean data.ipynb` for the process as this is simple reading in the scrubbed data"
   ]
  },
  {
   "cell_type": "code",
   "execution_count": 49,
   "metadata": {
    "ExecuteTime": {
     "end_time": "2020-12-09T21:19:03.348060Z",
     "start_time": "2020-12-09T21:19:03.266518Z"
    }
   },
   "outputs": [],
   "source": [
    "df_prices = pd.read_pickle('./data/prices.pkl')"
   ]
  },
  {
   "cell_type": "code",
   "execution_count": 50,
   "metadata": {
    "ExecuteTime": {
     "end_time": "2020-12-09T21:19:03.536577Z",
     "start_time": "2020-12-09T21:19:03.449584Z"
    }
   },
   "outputs": [],
   "source": [
    "df_performance = pd.read_pickle('./data/performance.pkl')\n",
    "df_penny_performance = pd.read_pickle('./data/penny_performance.pkl')"
   ]
  },
  {
   "cell_type": "code",
   "execution_count": 51,
   "metadata": {
    "ExecuteTime": {
     "end_time": "2020-12-09T21:19:03.615577Z",
     "start_time": "2020-12-09T21:19:03.600578Z"
    }
   },
   "outputs": [],
   "source": [
    "df_company = pd.read_pickle('./data/company.pkl')"
   ]
  },
  {
   "cell_type": "code",
   "execution_count": 52,
   "metadata": {
    "ExecuteTime": {
     "end_time": "2020-12-09T21:19:03.836581Z",
     "start_time": "2020-12-09T21:19:03.753581Z"
    }
   },
   "outputs": [],
   "source": [
    "df_analyst = pd.read_pickle('./data/analyst.pkl')"
   ]
  },
  {
   "cell_type": "code",
   "execution_count": 53,
   "metadata": {
    "ExecuteTime": {
     "end_time": "2020-12-09T21:19:04.044579Z",
     "start_time": "2020-12-09T21:19:03.894577Z"
    }
   },
   "outputs": [],
   "source": [
    "df_performance_combined = pd.read_pickle('./data/performance_combined.pkl')\n",
    "df_penny_performance_combined = pd.read_pickle('./data/performance_penny_combined.pkl')"
   ]
  },
  {
   "cell_type": "code",
   "execution_count": 60,
   "metadata": {
    "ExecuteTime": {
     "end_time": "2020-12-09T21:19:57.839521Z",
     "start_time": "2020-12-09T21:19:57.802521Z"
    }
   },
   "outputs": [],
   "source": [
    "assert(df_analyst.index.nunique() == df_prices.index.nunique() == df_performance.set_index('date', drop=True).index.nunique())"
   ]
  },
  {
   "cell_type": "markdown",
   "metadata": {},
   "source": [
    "# Checkpoint"
   ]
  },
  {
   "cell_type": "code",
   "execution_count": 61,
   "metadata": {
    "ExecuteTime": {
     "end_time": "2020-12-09T21:20:00.003518Z",
     "start_time": "2020-12-09T21:19:59.952531Z"
    }
   },
   "outputs": [],
   "source": [
    "old_df_performance = df_performance.copy()\n",
    "df_performance = df_performance_combined.copy()"
   ]
  },
  {
   "cell_type": "markdown",
   "metadata": {},
   "source": [
    "# EDA\n",
    "\n",
    "> The data consists of stocks and values from 2019-08-09 -> present,  including the drop caused by the Covid-19 pandemic"
   ]
  },
  {
   "cell_type": "markdown",
   "metadata": {},
   "source": [
    "## Functions"
   ]
  },
  {
   "cell_type": "code",
   "execution_count": 62,
   "metadata": {
    "ExecuteTime": {
     "end_time": "2020-12-09T21:20:00.694453Z",
     "start_time": "2020-12-09T21:20:00.676466Z"
    }
   },
   "outputs": [],
   "source": [
    "def get_symbol_frequency(df, sym, freq=None):\n",
    "    perf_min = df.reset_index()['date'].min()\n",
    "    perf_max = df.reset_index()['date'].max()\n",
    "    \n",
    "    if freq:\n",
    "        weekly_cut = pd.date_range(perf_min, perf_max, freq=freq)\n",
    "        q=df.query(\"sym == '%s'\"%sym).reset_index().set_index('date', drop=True).reindex(weekly_cut)\n",
    "    else:\n",
    "        q=df.query(\"sym == '%s'\"%sym).reset_index().set_index('date', drop=True)\n",
    "    return q.dropna()"
   ]
  },
  {
   "cell_type": "markdown",
   "metadata": {},
   "source": [
    "## Head"
   ]
  },
  {
   "cell_type": "code",
   "execution_count": 63,
   "metadata": {
    "ExecuteTime": {
     "end_time": "2020-12-09T21:20:01.391755Z",
     "start_time": "2020-12-09T21:20:01.367763Z"
    }
   },
   "outputs": [
    {
     "data": {
      "text/html": [
       "<div>\n",
       "<style scoped>\n",
       "    .dataframe tbody tr th:only-of-type {\n",
       "        vertical-align: middle;\n",
       "    }\n",
       "\n",
       "    .dataframe tbody tr th {\n",
       "        vertical-align: top;\n",
       "    }\n",
       "\n",
       "    .dataframe thead th {\n",
       "        text-align: right;\n",
       "    }\n",
       "</style>\n",
       "<table border=\"1\" class=\"dataframe\">\n",
       "  <thead>\n",
       "    <tr style=\"text-align: right;\">\n",
       "      <th></th>\n",
       "      <th></th>\n",
       "      <th>index</th>\n",
       "      <th>RevenueTTM</th>\n",
       "      <th>TotalCash</th>\n",
       "      <th>ExDividendDate</th>\n",
       "      <th>Dividend</th>\n",
       "      <th>DividendYield</th>\n",
       "      <th>PriceToBook</th>\n",
       "      <th>PriceToSales</th>\n",
       "      <th>EnterpriseValue</th>\n",
       "      <th>PriceToCashFlow</th>\n",
       "      <th>...</th>\n",
       "      <th>industry_Transportation Infrastructure</th>\n",
       "      <th>industry_Water Utilities</th>\n",
       "      <th>industry_Wireless Telecommunication Services</th>\n",
       "      <th>Exchange_NASDAQ</th>\n",
       "      <th>Exchange_NYSE</th>\n",
       "      <th>Exchange_OTC</th>\n",
       "      <th>Exchange_unknown</th>\n",
       "      <th>DJIA_1</th>\n",
       "      <th>NASDAQ100_1</th>\n",
       "      <th>SP500_1</th>\n",
       "    </tr>\n",
       "    <tr>\n",
       "      <th>date</th>\n",
       "      <th>sym</th>\n",
       "      <th></th>\n",
       "      <th></th>\n",
       "      <th></th>\n",
       "      <th></th>\n",
       "      <th></th>\n",
       "      <th></th>\n",
       "      <th></th>\n",
       "      <th></th>\n",
       "      <th></th>\n",
       "      <th></th>\n",
       "      <th></th>\n",
       "      <th></th>\n",
       "      <th></th>\n",
       "      <th></th>\n",
       "      <th></th>\n",
       "      <th></th>\n",
       "      <th></th>\n",
       "      <th></th>\n",
       "      <th></th>\n",
       "      <th></th>\n",
       "      <th></th>\n",
       "    </tr>\n",
       "  </thead>\n",
       "  <tbody>\n",
       "    <tr>\n",
       "      <th>2019-08-09</th>\n",
       "      <th>A</th>\n",
       "      <td>0</td>\n",
       "      <td>5019.000</td>\n",
       "      <td>2155.000</td>\n",
       "      <td>0.000</td>\n",
       "      <td>0.164</td>\n",
       "      <td>0.944</td>\n",
       "      <td>4.298</td>\n",
       "      <td>4.402</td>\n",
       "      <td>21670704590.000</td>\n",
       "      <td>16.574</td>\n",
       "      <td>...</td>\n",
       "      <td>0</td>\n",
       "      <td>0</td>\n",
       "      <td>0</td>\n",
       "      <td>0</td>\n",
       "      <td>1</td>\n",
       "      <td>0</td>\n",
       "      <td>0</td>\n",
       "      <td>0</td>\n",
       "      <td>0</td>\n",
       "      <td>1</td>\n",
       "    </tr>\n",
       "    <tr>\n",
       "      <th>2019-08-12</th>\n",
       "      <th>A</th>\n",
       "      <td>1</td>\n",
       "      <td>5019.000</td>\n",
       "      <td>2155.000</td>\n",
       "      <td>0.000</td>\n",
       "      <td>0.164</td>\n",
       "      <td>0.956</td>\n",
       "      <td>4.246</td>\n",
       "      <td>4.348</td>\n",
       "      <td>21401262240.000</td>\n",
       "      <td>16.371</td>\n",
       "      <td>...</td>\n",
       "      <td>0</td>\n",
       "      <td>0</td>\n",
       "      <td>0</td>\n",
       "      <td>0</td>\n",
       "      <td>1</td>\n",
       "      <td>0</td>\n",
       "      <td>0</td>\n",
       "      <td>0</td>\n",
       "      <td>0</td>\n",
       "      <td>1</td>\n",
       "    </tr>\n",
       "    <tr>\n",
       "      <th>2019-08-13</th>\n",
       "      <th>A</th>\n",
       "      <td>2</td>\n",
       "      <td>5019.000</td>\n",
       "      <td>2155.000</td>\n",
       "      <td>0.000</td>\n",
       "      <td>0.164</td>\n",
       "      <td>0.985</td>\n",
       "      <td>4.121</td>\n",
       "      <td>4.221</td>\n",
       "      <td>20764110330.000</td>\n",
       "      <td>15.892</td>\n",
       "      <td>...</td>\n",
       "      <td>0</td>\n",
       "      <td>0</td>\n",
       "      <td>0</td>\n",
       "      <td>0</td>\n",
       "      <td>1</td>\n",
       "      <td>0</td>\n",
       "      <td>0</td>\n",
       "      <td>0</td>\n",
       "      <td>0</td>\n",
       "      <td>1</td>\n",
       "    </tr>\n",
       "    <tr>\n",
       "      <th>2019-08-14</th>\n",
       "      <th>A</th>\n",
       "      <td>3</td>\n",
       "      <td>5019.000</td>\n",
       "      <td>2155.000</td>\n",
       "      <td>0.000</td>\n",
       "      <td>0.164</td>\n",
       "      <td>0.970</td>\n",
       "      <td>4.184</td>\n",
       "      <td>4.285</td>\n",
       "      <td>21084271240.000</td>\n",
       "      <td>16.132</td>\n",
       "      <td>...</td>\n",
       "      <td>0</td>\n",
       "      <td>0</td>\n",
       "      <td>0</td>\n",
       "      <td>0</td>\n",
       "      <td>1</td>\n",
       "      <td>0</td>\n",
       "      <td>0</td>\n",
       "      <td>0</td>\n",
       "      <td>0</td>\n",
       "      <td>1</td>\n",
       "    </tr>\n",
       "    <tr>\n",
       "      <th>2019-08-15</th>\n",
       "      <th>A</th>\n",
       "      <td>4</td>\n",
       "      <td>5090.000</td>\n",
       "      <td>1765.000</td>\n",
       "      <td>0.000</td>\n",
       "      <td>0.164</td>\n",
       "      <td>1.000</td>\n",
       "      <td>4.283</td>\n",
       "      <td>4.068</td>\n",
       "      <td>20365900000.000</td>\n",
       "      <td>16.051</td>\n",
       "      <td>...</td>\n",
       "      <td>0</td>\n",
       "      <td>0</td>\n",
       "      <td>0</td>\n",
       "      <td>0</td>\n",
       "      <td>1</td>\n",
       "      <td>0</td>\n",
       "      <td>0</td>\n",
       "      <td>0</td>\n",
       "      <td>0</td>\n",
       "      <td>1</td>\n",
       "    </tr>\n",
       "  </tbody>\n",
       "</table>\n",
       "<p>5 rows × 126 columns</p>\n",
       "</div>"
      ],
      "text/plain": [
       "                index  RevenueTTM  TotalCash  ExDividendDate  Dividend  \\\n",
       "date       sym                                                           \n",
       "2019-08-09 A        0    5019.000   2155.000           0.000     0.164   \n",
       "2019-08-12 A        1    5019.000   2155.000           0.000     0.164   \n",
       "2019-08-13 A        2    5019.000   2155.000           0.000     0.164   \n",
       "2019-08-14 A        3    5019.000   2155.000           0.000     0.164   \n",
       "2019-08-15 A        4    5090.000   1765.000           0.000     0.164   \n",
       "\n",
       "                DividendYield  PriceToBook  PriceToSales  EnterpriseValue  \\\n",
       "date       sym                                                              \n",
       "2019-08-09 A            0.944        4.298         4.402  21670704590.000   \n",
       "2019-08-12 A            0.956        4.246         4.348  21401262240.000   \n",
       "2019-08-13 A            0.985        4.121         4.221  20764110330.000   \n",
       "2019-08-14 A            0.970        4.184         4.285  21084271240.000   \n",
       "2019-08-15 A            1.000        4.283         4.068  20365900000.000   \n",
       "\n",
       "                PriceToCashFlow  ...  industry_Transportation Infrastructure  \\\n",
       "date       sym                   ...                                           \n",
       "2019-08-09 A             16.574  ...                                       0   \n",
       "2019-08-12 A             16.371  ...                                       0   \n",
       "2019-08-13 A             15.892  ...                                       0   \n",
       "2019-08-14 A             16.132  ...                                       0   \n",
       "2019-08-15 A             16.051  ...                                       0   \n",
       "\n",
       "                industry_Water Utilities  \\\n",
       "date       sym                             \n",
       "2019-08-09 A                           0   \n",
       "2019-08-12 A                           0   \n",
       "2019-08-13 A                           0   \n",
       "2019-08-14 A                           0   \n",
       "2019-08-15 A                           0   \n",
       "\n",
       "                industry_Wireless Telecommunication Services  Exchange_NASDAQ  \\\n",
       "date       sym                                                                  \n",
       "2019-08-09 A                                               0                0   \n",
       "2019-08-12 A                                               0                0   \n",
       "2019-08-13 A                                               0                0   \n",
       "2019-08-14 A                                               0                0   \n",
       "2019-08-15 A                                               0                0   \n",
       "\n",
       "                Exchange_NYSE  Exchange_OTC  Exchange_unknown  DJIA_1  \\\n",
       "date       sym                                                          \n",
       "2019-08-09 A                1             0                 0       0   \n",
       "2019-08-12 A                1             0                 0       0   \n",
       "2019-08-13 A                1             0                 0       0   \n",
       "2019-08-14 A                1             0                 0       0   \n",
       "2019-08-15 A                1             0                 0       0   \n",
       "\n",
       "                NASDAQ100_1  SP500_1  \n",
       "date       sym                        \n",
       "2019-08-09 A              0        1  \n",
       "2019-08-12 A              0        1  \n",
       "2019-08-13 A              0        1  \n",
       "2019-08-14 A              0        1  \n",
       "2019-08-15 A              0        1  \n",
       "\n",
       "[5 rows x 126 columns]"
      ]
     },
     "execution_count": 63,
     "metadata": {},
     "output_type": "execute_result"
    }
   ],
   "source": [
    "df_performance.head()"
   ]
  },
  {
   "cell_type": "markdown",
   "metadata": {},
   "source": [
    "## Describe"
   ]
  },
  {
   "cell_type": "code",
   "execution_count": null,
   "metadata": {
    "ExecuteTime": {
     "end_time": "2020-12-09T06:55:50.747875Z",
     "start_time": "2020-12-09T06:55:48.205Z"
    }
   },
   "outputs": [],
   "source": [
    "df_performance.describe()"
   ]
  },
  {
   "cell_type": "markdown",
   "metadata": {},
   "source": [
    "## Info"
   ]
  },
  {
   "cell_type": "code",
   "execution_count": null,
   "metadata": {
    "ExecuteTime": {
     "end_time": "2020-12-09T06:55:50.747875Z",
     "start_time": "2020-12-09T06:55:48.208Z"
    }
   },
   "outputs": [],
   "source": [
    "df_performance.info()"
   ]
  },
  {
   "cell_type": "markdown",
   "metadata": {},
   "source": [
    "## Other"
   ]
  },
  {
   "cell_type": "code",
   "execution_count": null,
   "metadata": {},
   "outputs": [],
   "source": []
  },
  {
   "cell_type": "markdown",
   "metadata": {},
   "source": [
    "### Quantities"
   ]
  },
  {
   "cell_type": "code",
   "execution_count": null,
   "metadata": {
    "ExecuteTime": {
     "end_time": "2020-12-09T06:55:50.748875Z",
     "start_time": "2020-12-09T06:55:48.215Z"
    }
   },
   "outputs": [],
   "source": [
    "df_performance = df_performance.reset_index().set_index('date')"
   ]
  },
  {
   "cell_type": "code",
   "execution_count": null,
   "metadata": {
    "ExecuteTime": {
     "end_time": "2020-12-09T06:55:50.749874Z",
     "start_time": "2020-12-09T06:55:48.217Z"
    }
   },
   "outputs": [],
   "source": [
    "num_symbols = df_performance['sym'].nunique()\n",
    "print(\"There are\", num_symbols, \"symbols in our dataset\")"
   ]
  },
  {
   "cell_type": "code",
   "execution_count": null,
   "metadata": {
    "ExecuteTime": {
     "end_time": "2020-12-09T06:55:50.750874Z",
     "start_time": "2020-12-09T06:55:48.219Z"
    }
   },
   "outputs": [],
   "source": [
    "sp500_quantity = \\\n",
    "    df_performance.groupby('sym').sum()['SP500_1'] \\\n",
    "        .map(lambda x: False if x==0 else True).sum()\n",
    "print(sp500_quantity, \"of our stocks are or were in the S&P500\")"
   ]
  },
  {
   "cell_type": "markdown",
   "metadata": {},
   "source": [
    "### Comparing our data to data from Yahoo Finance"
   ]
  },
  {
   "cell_type": "code",
   "execution_count": null,
   "metadata": {
    "ExecuteTime": {
     "end_time": "2020-12-09T06:55:50.750874Z",
     "start_time": "2020-12-09T06:55:48.222Z"
    }
   },
   "outputs": [],
   "source": [
    "aapl_weekly_data = get_symbol_frequency(df_performance, 'AAPL', 'W-THU')\n",
    "aapl_weekly_data['price'].plot()"
   ]
  },
  {
   "attachments": {
    "image.png": {
     "image/png": "[encoded data removed]"
    }
   },
   "cell_type": "markdown",
   "metadata": {},
   "source": [
    "![image.png](attachment:image.png)"
   ]
  },
  {
   "cell_type": "markdown",
   "metadata": {},
   "source": [
    "## AAPL differences to price"
   ]
  },
  {
   "cell_type": "code",
   "execution_count": null,
   "metadata": {
    "ExecuteTime": {
     "end_time": "2020-12-09T06:55:50.751874Z",
     "start_time": "2020-12-09T06:55:48.224Z"
    }
   },
   "outputs": [],
   "source": [
    "aapl_daily_data = get_symbol_frequency(df_performance, 'AAPL', 'D')"
   ]
  },
  {
   "cell_type": "code",
   "execution_count": null,
   "metadata": {
    "ExecuteTime": {
     "end_time": "2020-12-09T06:55:50.752874Z",
     "start_time": "2020-12-09T06:55:48.227Z"
    }
   },
   "outputs": [],
   "source": [
    "aapl_numerical = aapl_daily_data.select_dtypes('number')"
   ]
  },
  {
   "cell_type": "code",
   "execution_count": null,
   "metadata": {
    "ExecuteTime": {
     "end_time": "2020-12-09T06:55:50.752874Z",
     "start_time": "2020-12-09T06:55:48.229Z"
    }
   },
   "outputs": [],
   "source": [
    "y = aapl_numerical['price']\n",
    "X = aapl_numerical.drop('price', axis=1)"
   ]
  },
  {
   "cell_type": "code",
   "execution_count": null,
   "metadata": {
    "ExecuteTime": {
     "end_time": "2020-12-09T06:55:50.753874Z",
     "start_time": "2020-12-09T06:55:48.231Z"
    }
   },
   "outputs": [],
   "source": [
    "\n",
    "\n",
    "X_val = X.values\n",
    "min_max_scaler = MinMaxScaler()\n",
    "X_scaled = min_max_scaler.fit_transform(X_val)\n",
    "X_scaled_df = pd.DataFrame(X_scaled, columns=X.columns)\n",
    "\n",
    "y_scaled = min_max_scaler.fit_transform(y.values.reshape(-1, 1))"
   ]
  },
  {
   "cell_type": "code",
   "execution_count": null,
   "metadata": {
    "ExecuteTime": {
     "end_time": "2020-12-09T06:55:50.753874Z",
     "start_time": "2020-12-09T06:55:48.232Z"
    }
   },
   "outputs": [],
   "source": [
    "y_scaled_df = pd.DataFrame(y_scaled, columns=['price'])\n",
    "y_scaled_df.index = y.index\n",
    "y_scaled_df.head()"
   ]
  },
  {
   "cell_type": "code",
   "execution_count": null,
   "metadata": {
    "ExecuteTime": {
     "end_time": "2020-12-09T06:55:50.754874Z",
     "start_time": "2020-12-09T06:55:48.235Z"
    }
   },
   "outputs": [],
   "source": [
    "X_scaled_df_diff = X_scaled_df.diff()\n",
    "X_scaled_df_diff.index = y.index\n",
    "X_scaled_df_diff.head()"
   ]
  },
  {
   "cell_type": "code",
   "execution_count": null,
   "metadata": {
    "ExecuteTime": {
     "end_time": "2020-12-09T06:55:50.754874Z",
     "start_time": "2020-12-09T06:55:48.238Z"
    }
   },
   "outputs": [],
   "source": [
    "combined_df = pd.concat([y_scaled_df, X_scaled_df_diff], axis=1)\n",
    "combined_df = combined_df.dropna()\n",
    "combined_df.head()"
   ]
  },
  {
   "cell_type": "markdown",
   "metadata": {},
   "source": [
    "### AAPL plot against all column, differences"
   ]
  },
  {
   "cell_type": "code",
   "execution_count": null,
   "metadata": {
    "ExecuteTime": {
     "end_time": "2020-12-09T06:55:50.755874Z",
     "start_time": "2020-12-09T06:55:48.240Z"
    }
   },
   "outputs": [],
   "source": [
    "len(combined_df.columns)"
   ]
  },
  {
   "cell_type": "code",
   "execution_count": null,
   "metadata": {
    "ExecuteTime": {
     "end_time": "2020-12-09T06:55:50.756875Z",
     "start_time": "2020-12-09T06:55:48.242Z"
    }
   },
   "outputs": [],
   "source": [
    "cols = ['price',\n",
    " 'RevenueTTM',\n",
    " 'TotalCash',\n",
    " 'Dividend',\n",
    " 'DividendYield',\n",
    " 'PriceToBook',\n",
    " 'PriceToSales',\n",
    " 'EnterpriseValue',\n",
    " 'PriceToCashFlow',\n",
    " 'PE',\n",
    " 'ReturnonEquity',\n",
    " 'FreeCashFlow',\n",
    " 'TotalDebtToEquity',\n",
    " 'PricePerformance52Weeks',\n",
    " 'PricePerformanceYTD',\n",
    " 'TotalReturn1Yr',\n",
    " 'TotalReturn3Yr',\n",
    " 'VolumeAvg90Day']"
   ]
  },
  {
   "cell_type": "code",
   "execution_count": null,
   "metadata": {
    "ExecuteTime": {
     "end_time": "2020-12-09T06:55:50.756875Z",
     "start_time": "2020-12-09T06:55:48.244Z"
    },
    "scrolled": false
   },
   "outputs": [],
   "source": [
    "fig, axes = plt.subplots(figsize=(20, 40), nrows=9, ncols=2, sharex=True)\n",
    "axes = axes.flatten()\n",
    "for n, col in enumerate(cols):\n",
    "    ax = axes[n]\n",
    "    combined_df[['price', col]].plot(ax=ax)\n",
    "    ax.set_title(col)"
   ]
  },
  {
   "cell_type": "markdown",
   "metadata": {},
   "source": [
    "# Modeling\n",
    "<blockquote>\n",
    "    The total network will consist of three networks with the hope of speeding up the tuning: \n",
    "\n",
    "<div class=\"alert alert-success\">\n",
    "  <strong>Narcissus:</strong> Narcissus will be used for predicting the performance data with the previous n days performance\n",
    "</div>\n",
    "<div class=\"alert alert-info\">\n",
    "  <strong>Hermes:</strong> Hermes will be used for predicting the analyst data with the previous n days performance and company.\n",
    "</div>\n",
    "<div class=\"alert alert-danger\">\n",
    "  <strong>Cronus:</strong> Cronus will be used for predicting prices with the previous n days analyst and prices.\n",
    "</div>\n",
    "    \n",
    "![an image](./bin/out.png)\n",
    "The above image shows how the prices will be predicted day after day.  If we simply predicted one day ahead there would be no indication of when to sell, but predicting multiple days ahead we will obtain a gauge of when to buy and sell.\n",
    "\n",
    "    \n",
    "    \n",
    "> **Greek mythology note:**\n",
    "> * Narcissus loved himself greatly, and was the origin of the term Narcissism. **Performance => Performance**\n",
    "> * Hermes was a herald or messenger is fitting to have him as the analyst predictor.  **Performance, Company => Analyst**\n",
    "> * Cronus -> chaos is fitting for predicting prices as prices are extremely chaotic, and some say impossible to predict.  **Analyst, prices => prices**"
   ]
  },
  {
   "cell_type": "markdown",
   "metadata": {},
   "source": [
    "## Preparing the data\n",
    "> * We will start with only predicting companies in the S&P 500 so that will need to be split out of each of the dataframes\n",
    "> * We will pickle the data to speed up our notebook reloading if we wish"
   ]
  },
  {
   "cell_type": "markdown",
   "metadata": {},
   "source": [
    "### Company"
   ]
  },
  {
   "cell_type": "code",
   "execution_count": 64,
   "metadata": {
    "ExecuteTime": {
     "end_time": "2020-12-09T21:20:04.710532Z",
     "start_time": "2020-12-09T21:20:04.686532Z"
    }
   },
   "outputs": [
    {
     "data": {
      "text/html": [
       "<div>\n",
       "<style scoped>\n",
       "    .dataframe tbody tr th:only-of-type {\n",
       "        vertical-align: middle;\n",
       "    }\n",
       "\n",
       "    .dataframe tbody tr th {\n",
       "        vertical-align: top;\n",
       "    }\n",
       "\n",
       "    .dataframe thead th {\n",
       "        text-align: right;\n",
       "    }\n",
       "</style>\n",
       "<table border=\"1\" class=\"dataframe\">\n",
       "  <thead>\n",
       "    <tr style=\"text-align: right;\">\n",
       "      <th></th>\n",
       "      <th>company</th>\n",
       "      <th>securityType</th>\n",
       "      <th>sector</th>\n",
       "      <th>industry</th>\n",
       "      <th>subIndustry</th>\n",
       "      <th>Exchange</th>\n",
       "      <th>DJIA</th>\n",
       "      <th>NASDAQ100</th>\n",
       "      <th>SP500</th>\n",
       "    </tr>\n",
       "    <tr>\n",
       "      <th>sym</th>\n",
       "      <th></th>\n",
       "      <th></th>\n",
       "      <th></th>\n",
       "      <th></th>\n",
       "      <th></th>\n",
       "      <th></th>\n",
       "      <th></th>\n",
       "      <th></th>\n",
       "      <th></th>\n",
       "    </tr>\n",
       "  </thead>\n",
       "  <tbody>\n",
       "    <tr>\n",
       "      <th>A</th>\n",
       "      <td>Agilent Technologies Inc</td>\n",
       "      <td>CS</td>\n",
       "      <td>Health Care</td>\n",
       "      <td>Life Sciences Tools &amp; Services</td>\n",
       "      <td>Life Sciences Tools &amp; Services</td>\n",
       "      <td>NYSE</td>\n",
       "      <td>0</td>\n",
       "      <td>0</td>\n",
       "      <td>1</td>\n",
       "    </tr>\n",
       "  </tbody>\n",
       "</table>\n",
       "</div>"
      ],
      "text/plain": [
       "                      company securityType       sector  \\\n",
       "sym                                                       \n",
       "A    Agilent Technologies Inc           CS  Health Care   \n",
       "\n",
       "                           industry                     subIndustry Exchange  \\\n",
       "sym                                                                            \n",
       "A    Life Sciences Tools & Services  Life Sciences Tools & Services     NYSE   \n",
       "\n",
       "    DJIA NASDAQ100 SP500  \n",
       "sym                       \n",
       "A      0         0     1  "
      ]
     },
     "metadata": {},
     "output_type": "display_data"
    },
    {
     "data": {
      "text/plain": [
       "387"
      ]
     },
     "execution_count": 64,
     "metadata": {},
     "output_type": "execute_result"
    }
   ],
   "source": [
    "df_company = df_company.loc[df_company['SP500'] == '1']\n",
    "display(df_company.head(1))\n",
    "symbols = df_company.reset_index()['sym'].unique()\n",
    "len(symbols)"
   ]
  },
  {
   "cell_type": "markdown",
   "metadata": {},
   "source": [
    "> Note: only 402 symbols are left in the data as in our data cleaning we dropped 98 symbols that were in the sp500\n",
    "> * as in our concating with performance previously we simply need to **drop** `sub industry` and `company` then **one hot encode**"
   ]
  },
  {
   "cell_type": "code",
   "execution_count": 65,
   "metadata": {
    "ExecuteTime": {
     "end_time": "2020-12-09T21:20:05.360700Z",
     "start_time": "2020-12-09T21:20:05.349698Z"
    }
   },
   "outputs": [],
   "source": [
    "# df_company = MLFrame(df_company).drop(['subIndustry', 'company'], axis=1).one_hot_encode()\n",
    "# df_company.head()"
   ]
  },
  {
   "cell_type": "markdown",
   "metadata": {},
   "source": [
    "#### Pickle"
   ]
  },
  {
   "cell_type": "code",
   "execution_count": 66,
   "metadata": {
    "ExecuteTime": {
     "end_time": "2020-12-09T21:20:05.964500Z",
     "start_time": "2020-12-09T21:20:05.938456Z"
    }
   },
   "outputs": [],
   "source": [
    "df_company.to_pickle(\"./data/modeling/company.pkl\")\n",
    "bad_idx = \\\n",
    "    (df_company != pd.read_pickle(\"./data/modeling/company.pkl\")).sum().sum()\n",
    "assert(bad_idx == 0)"
   ]
  },
  {
   "cell_type": "markdown",
   "metadata": {},
   "source": [
    "### Performance, Analyst and Prices\n",
    "> * reset index to date\n",
    "> * get all symbols that are in sp500\n",
    "> * reindex to AAPL_price, VLO_price, etc\n",
    "> * pickle"
   ]
  },
  {
   "cell_type": "code",
   "execution_count": 67,
   "metadata": {
    "ExecuteTime": {
     "end_time": "2020-12-09T21:20:06.331332Z",
     "start_time": "2020-12-09T21:20:06.319335Z"
    }
   },
   "outputs": [],
   "source": [
    "def get_symbols_and_reindex(df, symbols):\n",
    "    new_dfs = []\n",
    "    for sym in symbols:\n",
    "        sym_df = df.loc[df['sym'] == sym]\n",
    "        sym_df.drop('sym', axis=1, inplace=True)\n",
    "        sym_df.columns = [f\"{sym}_{col}\" for col in sym_df.columns]\n",
    "        new_dfs.append(sym_df)\n",
    "    return pd.concat(new_dfs, axis=1)"
   ]
  },
  {
   "cell_type": "markdown",
   "metadata": {
    "ExecuteTime": {
     "end_time": "2020-12-05T07:24:36.965515Z",
     "start_time": "2020-12-05T07:24:36.959463Z"
    }
   },
   "source": [
    "#### Performance"
   ]
  },
  {
   "cell_type": "code",
   "execution_count": 68,
   "metadata": {
    "ExecuteTime": {
     "end_time": "2020-12-09T21:20:06.712778Z",
     "start_time": "2020-12-09T21:20:06.657787Z"
    }
   },
   "outputs": [
    {
     "name": "stdout",
     "output_type": "stream",
     "text": [
      "Before:\n"
     ]
    },
    {
     "data": {
      "text/html": [
       "<div>\n",
       "<style scoped>\n",
       "    .dataframe tbody tr th:only-of-type {\n",
       "        vertical-align: middle;\n",
       "    }\n",
       "\n",
       "    .dataframe tbody tr th {\n",
       "        vertical-align: top;\n",
       "    }\n",
       "\n",
       "    .dataframe thead th {\n",
       "        text-align: right;\n",
       "    }\n",
       "</style>\n",
       "<table border=\"1\" class=\"dataframe\">\n",
       "  <thead>\n",
       "    <tr style=\"text-align: right;\">\n",
       "      <th></th>\n",
       "      <th>sym</th>\n",
       "      <th>RevenueTTM</th>\n",
       "      <th>TotalCash</th>\n",
       "      <th>ExDividendDate</th>\n",
       "      <th>Dividend</th>\n",
       "      <th>DividendYield</th>\n",
       "      <th>PriceToBook</th>\n",
       "      <th>PriceToSales</th>\n",
       "      <th>EnterpriseValue</th>\n",
       "      <th>PriceToCashFlow</th>\n",
       "      <th>PE</th>\n",
       "      <th>ReturnonEquity</th>\n",
       "      <th>FreeCashFlow</th>\n",
       "      <th>TotalDebtToEquity</th>\n",
       "      <th>PricePerformance52Weeks</th>\n",
       "      <th>PricePerformanceYTD</th>\n",
       "      <th>TotalReturn1Yr</th>\n",
       "      <th>TotalReturn3Yr</th>\n",
       "      <th>VolumeAvg90Day</th>\n",
       "      <th>price</th>\n",
       "    </tr>\n",
       "    <tr>\n",
       "      <th>date</th>\n",
       "      <th></th>\n",
       "      <th></th>\n",
       "      <th></th>\n",
       "      <th></th>\n",
       "      <th></th>\n",
       "      <th></th>\n",
       "      <th></th>\n",
       "      <th></th>\n",
       "      <th></th>\n",
       "      <th></th>\n",
       "      <th></th>\n",
       "      <th></th>\n",
       "      <th></th>\n",
       "      <th></th>\n",
       "      <th></th>\n",
       "      <th></th>\n",
       "      <th></th>\n",
       "      <th></th>\n",
       "      <th></th>\n",
       "      <th></th>\n",
       "    </tr>\n",
       "  </thead>\n",
       "  <tbody>\n",
       "    <tr>\n",
       "      <th>2019-08-09</th>\n",
       "      <td>A</td>\n",
       "      <td>5019.000</td>\n",
       "      <td>2155.000</td>\n",
       "      <td>0.000</td>\n",
       "      <td>0.164</td>\n",
       "      <td>0.944</td>\n",
       "      <td>4.298</td>\n",
       "      <td>4.402</td>\n",
       "      <td>21670704590.000</td>\n",
       "      <td>16.574</td>\n",
       "      <td>19.800</td>\n",
       "      <td>23.160</td>\n",
       "      <td>887.000</td>\n",
       "      <td>37.290</td>\n",
       "      <td>3.131</td>\n",
       "      <td>3.009</td>\n",
       "      <td>4.044</td>\n",
       "      <td>14.794</td>\n",
       "      <td>2.593</td>\n",
       "      <td>68.640</td>\n",
       "    </tr>\n",
       "    <tr>\n",
       "      <th>2019-08-12</th>\n",
       "      <td>A</td>\n",
       "      <td>5019.000</td>\n",
       "      <td>2155.000</td>\n",
       "      <td>0.000</td>\n",
       "      <td>0.164</td>\n",
       "      <td>0.956</td>\n",
       "      <td>4.246</td>\n",
       "      <td>4.348</td>\n",
       "      <td>21401262240.000</td>\n",
       "      <td>16.371</td>\n",
       "      <td>19.200</td>\n",
       "      <td>23.160</td>\n",
       "      <td>887.000</td>\n",
       "      <td>37.290</td>\n",
       "      <td>3.592</td>\n",
       "      <td>1.749</td>\n",
       "      <td>4.508</td>\n",
       "      <td>14.099</td>\n",
       "      <td>2.585</td>\n",
       "      <td>66.780</td>\n",
       "    </tr>\n",
       "    <tr>\n",
       "      <th>2019-08-13</th>\n",
       "      <td>A</td>\n",
       "      <td>5019.000</td>\n",
       "      <td>2155.000</td>\n",
       "      <td>0.000</td>\n",
       "      <td>0.164</td>\n",
       "      <td>0.985</td>\n",
       "      <td>4.121</td>\n",
       "      <td>4.221</td>\n",
       "      <td>20764110330.000</td>\n",
       "      <td>15.892</td>\n",
       "      <td>19.500</td>\n",
       "      <td>23.160</td>\n",
       "      <td>887.000</td>\n",
       "      <td>37.290</td>\n",
       "      <td>0.558</td>\n",
       "      <td>-1.230</td>\n",
       "      <td>1.448</td>\n",
       "      <td>12.479</td>\n",
       "      <td>2.605</td>\n",
       "      <td>67.640</td>\n",
       "    </tr>\n",
       "  </tbody>\n",
       "</table>\n",
       "</div>"
      ],
      "text/plain": [
       "           sym  RevenueTTM  TotalCash  ExDividendDate  Dividend  \\\n",
       "date                                                              \n",
       "2019-08-09   A    5019.000   2155.000           0.000     0.164   \n",
       "2019-08-12   A    5019.000   2155.000           0.000     0.164   \n",
       "2019-08-13   A    5019.000   2155.000           0.000     0.164   \n",
       "\n",
       "            DividendYield  PriceToBook  PriceToSales  EnterpriseValue  \\\n",
       "date                                                                    \n",
       "2019-08-09          0.944        4.298         4.402  21670704590.000   \n",
       "2019-08-12          0.956        4.246         4.348  21401262240.000   \n",
       "2019-08-13          0.985        4.121         4.221  20764110330.000   \n",
       "\n",
       "            PriceToCashFlow     PE  ReturnonEquity  FreeCashFlow  \\\n",
       "date                                                               \n",
       "2019-08-09           16.574 19.800          23.160       887.000   \n",
       "2019-08-12           16.371 19.200          23.160       887.000   \n",
       "2019-08-13           15.892 19.500          23.160       887.000   \n",
       "\n",
       "            TotalDebtToEquity  PricePerformance52Weeks  PricePerformanceYTD  \\\n",
       "date                                                                          \n",
       "2019-08-09             37.290                    3.131                3.009   \n",
       "2019-08-12             37.290                    3.592                1.749   \n",
       "2019-08-13             37.290                    0.558               -1.230   \n",
       "\n",
       "            TotalReturn1Yr  TotalReturn3Yr  VolumeAvg90Day  price  \n",
       "date                                                               \n",
       "2019-08-09           4.044          14.794           2.593 68.640  \n",
       "2019-08-12           4.508          14.099           2.585 66.780  \n",
       "2019-08-13           1.448          12.479           2.605 67.640  "
      ]
     },
     "metadata": {},
     "output_type": "display_data"
    }
   ],
   "source": [
    "df_performance = old_df_performance.loc[old_df_performance['sym'].isin(symbols)]\n",
    "df_performance = df_performance.set_index('date', drop=True)\n",
    "print(\"Before:\")\n",
    "display(df_performance.head(3))"
   ]
  },
  {
   "cell_type": "code",
   "execution_count": 69,
   "metadata": {
    "ExecuteTime": {
     "end_time": "2020-12-09T21:20:06.904873Z",
     "start_time": "2020-12-09T21:20:06.864873Z"
    }
   },
   "outputs": [],
   "source": [
    "df_performance.to_pickle(\"./data/modeling/partial_performance.pkl\")"
   ]
  },
  {
   "cell_type": "code",
   "execution_count": 70,
   "metadata": {
    "ExecuteTime": {
     "end_time": "2020-12-09T21:20:09.885583Z",
     "start_time": "2020-12-09T21:20:07.207190Z"
    }
   },
   "outputs": [
    {
     "name": "stdout",
     "output_type": "stream",
     "text": [
      "After:\n"
     ]
    },
    {
     "data": {
      "text/html": [
       "<div>\n",
       "<style scoped>\n",
       "    .dataframe tbody tr th:only-of-type {\n",
       "        vertical-align: middle;\n",
       "    }\n",
       "\n",
       "    .dataframe tbody tr th {\n",
       "        vertical-align: top;\n",
       "    }\n",
       "\n",
       "    .dataframe thead th {\n",
       "        text-align: right;\n",
       "    }\n",
       "</style>\n",
       "<table border=\"1\" class=\"dataframe\">\n",
       "  <thead>\n",
       "    <tr style=\"text-align: right;\">\n",
       "      <th></th>\n",
       "      <th>A_RevenueTTM</th>\n",
       "      <th>A_TotalCash</th>\n",
       "      <th>A_ExDividendDate</th>\n",
       "      <th>A_Dividend</th>\n",
       "      <th>A_DividendYield</th>\n",
       "      <th>A_PriceToBook</th>\n",
       "      <th>A_PriceToSales</th>\n",
       "      <th>A_EnterpriseValue</th>\n",
       "      <th>A_PriceToCashFlow</th>\n",
       "      <th>A_PE</th>\n",
       "      <th>...</th>\n",
       "      <th>ZTS_PE</th>\n",
       "      <th>ZTS_ReturnonEquity</th>\n",
       "      <th>ZTS_FreeCashFlow</th>\n",
       "      <th>ZTS_TotalDebtToEquity</th>\n",
       "      <th>ZTS_PricePerformance52Weeks</th>\n",
       "      <th>ZTS_PricePerformanceYTD</th>\n",
       "      <th>ZTS_TotalReturn1Yr</th>\n",
       "      <th>ZTS_TotalReturn3Yr</th>\n",
       "      <th>ZTS_VolumeAvg90Day</th>\n",
       "      <th>ZTS_price</th>\n",
       "    </tr>\n",
       "    <tr>\n",
       "      <th>date</th>\n",
       "      <th></th>\n",
       "      <th></th>\n",
       "      <th></th>\n",
       "      <th></th>\n",
       "      <th></th>\n",
       "      <th></th>\n",
       "      <th></th>\n",
       "      <th></th>\n",
       "      <th></th>\n",
       "      <th></th>\n",
       "      <th></th>\n",
       "      <th></th>\n",
       "      <th></th>\n",
       "      <th></th>\n",
       "      <th></th>\n",
       "      <th></th>\n",
       "      <th></th>\n",
       "      <th></th>\n",
       "      <th></th>\n",
       "      <th></th>\n",
       "      <th></th>\n",
       "    </tr>\n",
       "  </thead>\n",
       "  <tbody>\n",
       "    <tr>\n",
       "      <th>2019-08-09</th>\n",
       "      <td>5019.000</td>\n",
       "      <td>2155.000</td>\n",
       "      <td>0.000</td>\n",
       "      <td>0.164</td>\n",
       "      <td>0.944</td>\n",
       "      <td>4.298</td>\n",
       "      <td>4.402</td>\n",
       "      <td>21670704590.000</td>\n",
       "      <td>16.574</td>\n",
       "      <td>19.800</td>\n",
       "      <td>...</td>\n",
       "      <td>44.200</td>\n",
       "      <td>60.901</td>\n",
       "      <td>1463.000</td>\n",
       "      <td>289.614</td>\n",
       "      <td>33.122</td>\n",
       "      <td>45.090</td>\n",
       "      <td>33.981</td>\n",
       "      <td>35.591</td>\n",
       "      <td>2.007</td>\n",
       "      <td>125.070</td>\n",
       "    </tr>\n",
       "    <tr>\n",
       "      <th>2019-08-12</th>\n",
       "      <td>5019.000</td>\n",
       "      <td>2155.000</td>\n",
       "      <td>0.000</td>\n",
       "      <td>0.164</td>\n",
       "      <td>0.956</td>\n",
       "      <td>4.246</td>\n",
       "      <td>4.348</td>\n",
       "      <td>21401262240.000</td>\n",
       "      <td>16.371</td>\n",
       "      <td>19.200</td>\n",
       "      <td>...</td>\n",
       "      <td>43.800</td>\n",
       "      <td>60.901</td>\n",
       "      <td>1463.000</td>\n",
       "      <td>289.614</td>\n",
       "      <td>36.390</td>\n",
       "      <td>46.212</td>\n",
       "      <td>37.270</td>\n",
       "      <td>35.051</td>\n",
       "      <td>2.003</td>\n",
       "      <td>123.940</td>\n",
       "    </tr>\n",
       "    <tr>\n",
       "      <th>2019-08-13</th>\n",
       "      <td>5019.000</td>\n",
       "      <td>2155.000</td>\n",
       "      <td>0.000</td>\n",
       "      <td>0.164</td>\n",
       "      <td>0.985</td>\n",
       "      <td>4.121</td>\n",
       "      <td>4.221</td>\n",
       "      <td>20764110330.000</td>\n",
       "      <td>15.892</td>\n",
       "      <td>19.500</td>\n",
       "      <td>...</td>\n",
       "      <td>44.100</td>\n",
       "      <td>60.901</td>\n",
       "      <td>1463.000</td>\n",
       "      <td>289.614</td>\n",
       "      <td>35.180</td>\n",
       "      <td>44.915</td>\n",
       "      <td>36.052</td>\n",
       "      <td>34.503</td>\n",
       "      <td>1.993</td>\n",
       "      <td>124.700</td>\n",
       "    </tr>\n",
       "  </tbody>\n",
       "</table>\n",
       "<p>3 rows × 7353 columns</p>\n",
       "</div>"
      ],
      "text/plain": [
       "            A_RevenueTTM  A_TotalCash  A_ExDividendDate  A_Dividend  \\\n",
       "date                                                                  \n",
       "2019-08-09      5019.000     2155.000             0.000       0.164   \n",
       "2019-08-12      5019.000     2155.000             0.000       0.164   \n",
       "2019-08-13      5019.000     2155.000             0.000       0.164   \n",
       "\n",
       "            A_DividendYield  A_PriceToBook  A_PriceToSales  A_EnterpriseValue  \\\n",
       "date                                                                            \n",
       "2019-08-09            0.944          4.298           4.402    21670704590.000   \n",
       "2019-08-12            0.956          4.246           4.348    21401262240.000   \n",
       "2019-08-13            0.985          4.121           4.221    20764110330.000   \n",
       "\n",
       "            A_PriceToCashFlow   A_PE  ...  ZTS_PE  ZTS_ReturnonEquity  \\\n",
       "date                                  ...                               \n",
       "2019-08-09             16.574 19.800  ...  44.200              60.901   \n",
       "2019-08-12             16.371 19.200  ...  43.800              60.901   \n",
       "2019-08-13             15.892 19.500  ...  44.100              60.901   \n",
       "\n",
       "            ZTS_FreeCashFlow  ZTS_TotalDebtToEquity  \\\n",
       "date                                                  \n",
       "2019-08-09          1463.000                289.614   \n",
       "2019-08-12          1463.000                289.614   \n",
       "2019-08-13          1463.000                289.614   \n",
       "\n",
       "            ZTS_PricePerformance52Weeks  ZTS_PricePerformanceYTD  \\\n",
       "date                                                               \n",
       "2019-08-09                       33.122                   45.090   \n",
       "2019-08-12                       36.390                   46.212   \n",
       "2019-08-13                       35.180                   44.915   \n",
       "\n",
       "            ZTS_TotalReturn1Yr  ZTS_TotalReturn3Yr  ZTS_VolumeAvg90Day  \\\n",
       "date                                                                     \n",
       "2019-08-09              33.981              35.591               2.007   \n",
       "2019-08-12              37.270              35.051               2.003   \n",
       "2019-08-13              36.052              34.503               1.993   \n",
       "\n",
       "            ZTS_price  \n",
       "date                   \n",
       "2019-08-09    125.070  \n",
       "2019-08-12    123.940  \n",
       "2019-08-13    124.700  \n",
       "\n",
       "[3 rows x 7353 columns]"
      ]
     },
     "metadata": {},
     "output_type": "display_data"
    },
    {
     "name": "stdout",
     "output_type": "stream",
     "text": [
      "pickled\n"
     ]
    }
   ],
   "source": [
    "print(\"After:\")\n",
    "df_performance = get_symbols_and_reindex(df_performance, symbols)\n",
    "display(df_performance.head(3))\n",
    "\n",
    "df_performance.to_pickle(\"./data/modeling/performance.pkl\")\n",
    "bad_idx = \\\n",
    "    (df_performance != pd.read_pickle(\"./data/modeling/performance.pkl\")).sum().sum()\n",
    "assert(bad_idx == 0)\n",
    "print(\"pickled\")"
   ]
  },
  {
   "cell_type": "markdown",
   "metadata": {},
   "source": [
    "#### Analyst"
   ]
  },
  {
   "cell_type": "code",
   "execution_count": 71,
   "metadata": {
    "ExecuteTime": {
     "end_time": "2020-12-09T21:20:09.965570Z",
     "start_time": "2020-12-09T21:20:09.886569Z"
    }
   },
   "outputs": [],
   "source": [
    "df_analyst = df_analyst.reset_index().set_index('date', drop=True)\n",
    "df_analyst = df_analyst.loc[df_analyst['sym'].isin(symbols)]"
   ]
  },
  {
   "cell_type": "code",
   "execution_count": 72,
   "metadata": {
    "ExecuteTime": {
     "end_time": "2020-12-09T21:20:12.965578Z",
     "start_time": "2020-12-09T21:20:09.966571Z"
    }
   },
   "outputs": [
    {
     "name": "stdout",
     "output_type": "stream",
     "text": [
      "Before:\n"
     ]
    },
    {
     "data": {
      "text/html": [
       "<div>\n",
       "<style scoped>\n",
       "    .dataframe tbody tr th:only-of-type {\n",
       "        vertical-align: middle;\n",
       "    }\n",
       "\n",
       "    .dataframe tbody tr th {\n",
       "        vertical-align: top;\n",
       "    }\n",
       "\n",
       "    .dataframe thead th {\n",
       "        text-align: right;\n",
       "    }\n",
       "</style>\n",
       "<table border=\"1\" class=\"dataframe\">\n",
       "  <thead>\n",
       "    <tr style=\"text-align: right;\">\n",
       "      <th></th>\n",
       "      <th>sym</th>\n",
       "      <th>Argus</th>\n",
       "      <th>StarMine</th>\n",
       "      <th>ColumbineCapital</th>\n",
       "      <th>FordEquityResearch</th>\n",
       "      <th>ISSEVA</th>\n",
       "      <th>Jefferson</th>\n",
       "      <th>McLeanCapital</th>\n",
       "      <th>NedDavis</th>\n",
       "      <th>TradingCentral</th>\n",
       "      <th>Zacks</th>\n",
       "      <th>SPValuation</th>\n",
       "      <th>SPQuality</th>\n",
       "      <th>SPGrowthStability</th>\n",
       "      <th>SPFinancialHealth</th>\n",
       "      <th>ThomsonReutersVerus</th>\n",
       "      <th>ThomsonReutersIBES</th>\n",
       "    </tr>\n",
       "    <tr>\n",
       "      <th>date</th>\n",
       "      <th></th>\n",
       "      <th></th>\n",
       "      <th></th>\n",
       "      <th></th>\n",
       "      <th></th>\n",
       "      <th></th>\n",
       "      <th></th>\n",
       "      <th></th>\n",
       "      <th></th>\n",
       "      <th></th>\n",
       "      <th></th>\n",
       "      <th></th>\n",
       "      <th></th>\n",
       "      <th></th>\n",
       "      <th></th>\n",
       "      <th></th>\n",
       "      <th></th>\n",
       "    </tr>\n",
       "  </thead>\n",
       "  <tbody>\n",
       "    <tr>\n",
       "      <th>2019-08-09</th>\n",
       "      <td>A</td>\n",
       "      <td>0</td>\n",
       "      <td>5.800</td>\n",
       "      <td>1.000</td>\n",
       "      <td>3.000</td>\n",
       "      <td>78.000</td>\n",
       "      <td>1.000</td>\n",
       "      <td>3.000</td>\n",
       "      <td>3.000</td>\n",
       "      <td>3</td>\n",
       "      <td>3</td>\n",
       "      <td>93.000</td>\n",
       "      <td>73.000</td>\n",
       "      <td>6.000</td>\n",
       "      <td>84.000</td>\n",
       "      <td>3.000</td>\n",
       "      <td>2.000</td>\n",
       "    </tr>\n",
       "    <tr>\n",
       "      <th>2019-08-12</th>\n",
       "      <td>A</td>\n",
       "      <td>0</td>\n",
       "      <td>8.300</td>\n",
       "      <td>1.000</td>\n",
       "      <td>3.000</td>\n",
       "      <td>78.000</td>\n",
       "      <td>1.000</td>\n",
       "      <td>3.000</td>\n",
       "      <td>3.000</td>\n",
       "      <td>3</td>\n",
       "      <td>5</td>\n",
       "      <td>93.000</td>\n",
       "      <td>73.000</td>\n",
       "      <td>6.000</td>\n",
       "      <td>84.000</td>\n",
       "      <td>3.000</td>\n",
       "      <td>2.000</td>\n",
       "    </tr>\n",
       "    <tr>\n",
       "      <th>2019-08-13</th>\n",
       "      <td>A</td>\n",
       "      <td>0</td>\n",
       "      <td>8.300</td>\n",
       "      <td>1.000</td>\n",
       "      <td>3.000</td>\n",
       "      <td>73.000</td>\n",
       "      <td>1.000</td>\n",
       "      <td>3.000</td>\n",
       "      <td>3.000</td>\n",
       "      <td>3</td>\n",
       "      <td>3</td>\n",
       "      <td>93.000</td>\n",
       "      <td>73.000</td>\n",
       "      <td>7.000</td>\n",
       "      <td>85.000</td>\n",
       "      <td>3.000</td>\n",
       "      <td>2.000</td>\n",
       "    </tr>\n",
       "  </tbody>\n",
       "</table>\n",
       "</div>"
      ],
      "text/plain": [
       "           sym  Argus  StarMine  ColumbineCapital  FordEquityResearch  ISSEVA  \\\n",
       "date                                                                            \n",
       "2019-08-09   A      0     5.800             1.000               3.000  78.000   \n",
       "2019-08-12   A      0     8.300             1.000               3.000  78.000   \n",
       "2019-08-13   A      0     8.300             1.000               3.000  73.000   \n",
       "\n",
       "            Jefferson  McLeanCapital  NedDavis  TradingCentral  Zacks  \\\n",
       "date                                                                    \n",
       "2019-08-09      1.000          3.000     3.000               3      3   \n",
       "2019-08-12      1.000          3.000     3.000               3      5   \n",
       "2019-08-13      1.000          3.000     3.000               3      3   \n",
       "\n",
       "            SPValuation  SPQuality  SPGrowthStability  SPFinancialHealth  \\\n",
       "date                                                                       \n",
       "2019-08-09       93.000     73.000              6.000             84.000   \n",
       "2019-08-12       93.000     73.000              6.000             84.000   \n",
       "2019-08-13       93.000     73.000              7.000             85.000   \n",
       "\n",
       "            ThomsonReutersVerus  ThomsonReutersIBES  \n",
       "date                                                 \n",
       "2019-08-09                3.000               2.000  \n",
       "2019-08-12                3.000               2.000  \n",
       "2019-08-13                3.000               2.000  "
      ]
     },
     "metadata": {},
     "output_type": "display_data"
    },
    {
     "name": "stdout",
     "output_type": "stream",
     "text": [
      "After:\n"
     ]
    },
    {
     "data": {
      "text/html": [
       "<div>\n",
       "<style scoped>\n",
       "    .dataframe tbody tr th:only-of-type {\n",
       "        vertical-align: middle;\n",
       "    }\n",
       "\n",
       "    .dataframe tbody tr th {\n",
       "        vertical-align: top;\n",
       "    }\n",
       "\n",
       "    .dataframe thead th {\n",
       "        text-align: right;\n",
       "    }\n",
       "</style>\n",
       "<table border=\"1\" class=\"dataframe\">\n",
       "  <thead>\n",
       "    <tr style=\"text-align: right;\">\n",
       "      <th></th>\n",
       "      <th>A_Argus</th>\n",
       "      <th>A_StarMine</th>\n",
       "      <th>A_ColumbineCapital</th>\n",
       "      <th>A_FordEquityResearch</th>\n",
       "      <th>A_ISSEVA</th>\n",
       "      <th>A_Jefferson</th>\n",
       "      <th>A_McLeanCapital</th>\n",
       "      <th>A_NedDavis</th>\n",
       "      <th>A_TradingCentral</th>\n",
       "      <th>A_Zacks</th>\n",
       "      <th>...</th>\n",
       "      <th>ZTS_McLeanCapital</th>\n",
       "      <th>ZTS_NedDavis</th>\n",
       "      <th>ZTS_TradingCentral</th>\n",
       "      <th>ZTS_Zacks</th>\n",
       "      <th>ZTS_SPValuation</th>\n",
       "      <th>ZTS_SPQuality</th>\n",
       "      <th>ZTS_SPGrowthStability</th>\n",
       "      <th>ZTS_SPFinancialHealth</th>\n",
       "      <th>ZTS_ThomsonReutersVerus</th>\n",
       "      <th>ZTS_ThomsonReutersIBES</th>\n",
       "    </tr>\n",
       "    <tr>\n",
       "      <th>date</th>\n",
       "      <th></th>\n",
       "      <th></th>\n",
       "      <th></th>\n",
       "      <th></th>\n",
       "      <th></th>\n",
       "      <th></th>\n",
       "      <th></th>\n",
       "      <th></th>\n",
       "      <th></th>\n",
       "      <th></th>\n",
       "      <th></th>\n",
       "      <th></th>\n",
       "      <th></th>\n",
       "      <th></th>\n",
       "      <th></th>\n",
       "      <th></th>\n",
       "      <th></th>\n",
       "      <th></th>\n",
       "      <th></th>\n",
       "      <th></th>\n",
       "      <th></th>\n",
       "    </tr>\n",
       "  </thead>\n",
       "  <tbody>\n",
       "    <tr>\n",
       "      <th>2019-08-09</th>\n",
       "      <td>0</td>\n",
       "      <td>5.800</td>\n",
       "      <td>1.000</td>\n",
       "      <td>3.000</td>\n",
       "      <td>78.000</td>\n",
       "      <td>1.000</td>\n",
       "      <td>3.000</td>\n",
       "      <td>3.000</td>\n",
       "      <td>3</td>\n",
       "      <td>3</td>\n",
       "      <td>...</td>\n",
       "      <td>3.000</td>\n",
       "      <td>3.000</td>\n",
       "      <td>1</td>\n",
       "      <td>3</td>\n",
       "      <td>88.000</td>\n",
       "      <td>87.000</td>\n",
       "      <td>30.000</td>\n",
       "      <td>58.000</td>\n",
       "      <td>3.000</td>\n",
       "      <td>1.941</td>\n",
       "    </tr>\n",
       "    <tr>\n",
       "      <th>2019-08-12</th>\n",
       "      <td>0</td>\n",
       "      <td>8.300</td>\n",
       "      <td>1.000</td>\n",
       "      <td>3.000</td>\n",
       "      <td>78.000</td>\n",
       "      <td>1.000</td>\n",
       "      <td>3.000</td>\n",
       "      <td>3.000</td>\n",
       "      <td>3</td>\n",
       "      <td>5</td>\n",
       "      <td>...</td>\n",
       "      <td>3.000</td>\n",
       "      <td>3.000</td>\n",
       "      <td>1</td>\n",
       "      <td>3</td>\n",
       "      <td>88.000</td>\n",
       "      <td>87.000</td>\n",
       "      <td>30.000</td>\n",
       "      <td>58.000</td>\n",
       "      <td>3.000</td>\n",
       "      <td>1.941</td>\n",
       "    </tr>\n",
       "    <tr>\n",
       "      <th>2019-08-13</th>\n",
       "      <td>0</td>\n",
       "      <td>8.300</td>\n",
       "      <td>1.000</td>\n",
       "      <td>3.000</td>\n",
       "      <td>73.000</td>\n",
       "      <td>1.000</td>\n",
       "      <td>3.000</td>\n",
       "      <td>3.000</td>\n",
       "      <td>3</td>\n",
       "      <td>3</td>\n",
       "      <td>...</td>\n",
       "      <td>3.000</td>\n",
       "      <td>3.000</td>\n",
       "      <td>1</td>\n",
       "      <td>5</td>\n",
       "      <td>88.000</td>\n",
       "      <td>87.000</td>\n",
       "      <td>28.000</td>\n",
       "      <td>56.000</td>\n",
       "      <td>3.000</td>\n",
       "      <td>1.941</td>\n",
       "    </tr>\n",
       "  </tbody>\n",
       "</table>\n",
       "<p>3 rows × 6192 columns</p>\n",
       "</div>"
      ],
      "text/plain": [
       "            A_Argus  A_StarMine  A_ColumbineCapital  A_FordEquityResearch  \\\n",
       "date                                                                        \n",
       "2019-08-09        0       5.800               1.000                 3.000   \n",
       "2019-08-12        0       8.300               1.000                 3.000   \n",
       "2019-08-13        0       8.300               1.000                 3.000   \n",
       "\n",
       "            A_ISSEVA  A_Jefferson  A_McLeanCapital  A_NedDavis  \\\n",
       "date                                                             \n",
       "2019-08-09    78.000        1.000            3.000       3.000   \n",
       "2019-08-12    78.000        1.000            3.000       3.000   \n",
       "2019-08-13    73.000        1.000            3.000       3.000   \n",
       "\n",
       "            A_TradingCentral  A_Zacks  ...  ZTS_McLeanCapital  ZTS_NedDavis  \\\n",
       "date                                   ...                                    \n",
       "2019-08-09                 3        3  ...              3.000         3.000   \n",
       "2019-08-12                 3        5  ...              3.000         3.000   \n",
       "2019-08-13                 3        3  ...              3.000         3.000   \n",
       "\n",
       "            ZTS_TradingCentral  ZTS_Zacks  ZTS_SPValuation  ZTS_SPQuality  \\\n",
       "date                                                                        \n",
       "2019-08-09                   1          3           88.000         87.000   \n",
       "2019-08-12                   1          3           88.000         87.000   \n",
       "2019-08-13                   1          5           88.000         87.000   \n",
       "\n",
       "            ZTS_SPGrowthStability  ZTS_SPFinancialHealth  \\\n",
       "date                                                       \n",
       "2019-08-09                 30.000                 58.000   \n",
       "2019-08-12                 30.000                 58.000   \n",
       "2019-08-13                 28.000                 56.000   \n",
       "\n",
       "            ZTS_ThomsonReutersVerus  ZTS_ThomsonReutersIBES  \n",
       "date                                                         \n",
       "2019-08-09                    3.000                   1.941  \n",
       "2019-08-12                    3.000                   1.941  \n",
       "2019-08-13                    3.000                   1.941  \n",
       "\n",
       "[3 rows x 6192 columns]"
      ]
     },
     "metadata": {},
     "output_type": "display_data"
    },
    {
     "name": "stdout",
     "output_type": "stream",
     "text": [
      "pickled\n"
     ]
    }
   ],
   "source": [
    "print(\"Before:\")\n",
    "display(df_analyst.head(3))\n",
    "df_analyst.to_pickle(\"./data/modeling/partial_analyst.pkl\")\n",
    "print(\"After:\")\n",
    "df_analyst = get_symbols_and_reindex(df_analyst, symbols)\n",
    "display(df_analyst.head(3))\n",
    "\n",
    "df_analyst.to_pickle(\"./data/modeling/analyst.pkl\")\n",
    "bad_idx = \\\n",
    "    (df_analyst != pd.read_pickle(\"./data/modeling/analyst.pkl\")).sum().sum()\n",
    "assert(bad_idx == 0)\n",
    "print(\"pickled\")"
   ]
  },
  {
   "cell_type": "code",
   "execution_count": 73,
   "metadata": {
    "ExecuteTime": {
     "end_time": "2020-12-09T21:20:15.698937Z",
     "start_time": "2020-12-09T21:20:12.966577Z"
    }
   },
   "outputs": [
    {
     "name": "stdout",
     "output_type": "stream",
     "text": [
      "Before:\n"
     ]
    },
    {
     "data": {
      "text/html": [
       "<div>\n",
       "<style scoped>\n",
       "    .dataframe tbody tr th:only-of-type {\n",
       "        vertical-align: middle;\n",
       "    }\n",
       "\n",
       "    .dataframe tbody tr th {\n",
       "        vertical-align: top;\n",
       "    }\n",
       "\n",
       "    .dataframe thead th {\n",
       "        text-align: right;\n",
       "    }\n",
       "</style>\n",
       "<table border=\"1\" class=\"dataframe\">\n",
       "  <thead>\n",
       "    <tr style=\"text-align: right;\">\n",
       "      <th></th>\n",
       "      <th>sym</th>\n",
       "      <th>price</th>\n",
       "    </tr>\n",
       "    <tr>\n",
       "      <th>date</th>\n",
       "      <th></th>\n",
       "      <th></th>\n",
       "    </tr>\n",
       "  </thead>\n",
       "  <tbody>\n",
       "    <tr>\n",
       "      <th>2019-08-09</th>\n",
       "      <td>A</td>\n",
       "      <td>68.640</td>\n",
       "    </tr>\n",
       "    <tr>\n",
       "      <th>2019-08-12</th>\n",
       "      <td>A</td>\n",
       "      <td>66.780</td>\n",
       "    </tr>\n",
       "    <tr>\n",
       "      <th>2019-08-13</th>\n",
       "      <td>A</td>\n",
       "      <td>67.640</td>\n",
       "    </tr>\n",
       "  </tbody>\n",
       "</table>\n",
       "</div>"
      ],
      "text/plain": [
       "           sym  price\n",
       "date                 \n",
       "2019-08-09   A 68.640\n",
       "2019-08-12   A 66.780\n",
       "2019-08-13   A 67.640"
      ]
     },
     "metadata": {},
     "output_type": "display_data"
    },
    {
     "name": "stdout",
     "output_type": "stream",
     "text": [
      "After:\n"
     ]
    },
    {
     "data": {
      "text/html": [
       "<div>\n",
       "<style scoped>\n",
       "    .dataframe tbody tr th:only-of-type {\n",
       "        vertical-align: middle;\n",
       "    }\n",
       "\n",
       "    .dataframe tbody tr th {\n",
       "        vertical-align: top;\n",
       "    }\n",
       "\n",
       "    .dataframe thead th {\n",
       "        text-align: right;\n",
       "    }\n",
       "</style>\n",
       "<table border=\"1\" class=\"dataframe\">\n",
       "  <thead>\n",
       "    <tr style=\"text-align: right;\">\n",
       "      <th></th>\n",
       "      <th>A_price</th>\n",
       "      <th>AAL_price</th>\n",
       "      <th>AAP_price</th>\n",
       "      <th>AAPL_price</th>\n",
       "      <th>ABBV_price</th>\n",
       "      <th>ABC_price</th>\n",
       "      <th>ABMD_price</th>\n",
       "      <th>ABT_price</th>\n",
       "      <th>ACN_price</th>\n",
       "      <th>ADBE_price</th>\n",
       "      <th>...</th>\n",
       "      <th>XEL_price</th>\n",
       "      <th>XLNX_price</th>\n",
       "      <th>XRAY_price</th>\n",
       "      <th>XRX_price</th>\n",
       "      <th>XYL_price</th>\n",
       "      <th>YUM_price</th>\n",
       "      <th>ZBH_price</th>\n",
       "      <th>ZBRA_price</th>\n",
       "      <th>ZION_price</th>\n",
       "      <th>ZTS_price</th>\n",
       "    </tr>\n",
       "    <tr>\n",
       "      <th>date</th>\n",
       "      <th></th>\n",
       "      <th></th>\n",
       "      <th></th>\n",
       "      <th></th>\n",
       "      <th></th>\n",
       "      <th></th>\n",
       "      <th></th>\n",
       "      <th></th>\n",
       "      <th></th>\n",
       "      <th></th>\n",
       "      <th></th>\n",
       "      <th></th>\n",
       "      <th></th>\n",
       "      <th></th>\n",
       "      <th></th>\n",
       "      <th></th>\n",
       "      <th></th>\n",
       "      <th></th>\n",
       "      <th></th>\n",
       "      <th></th>\n",
       "      <th></th>\n",
       "    </tr>\n",
       "  </thead>\n",
       "  <tbody>\n",
       "    <tr>\n",
       "      <th>2019-08-09</th>\n",
       "      <td>68.640</td>\n",
       "      <td>28.780</td>\n",
       "      <td>144.330</td>\n",
       "      <td>200.940</td>\n",
       "      <td>65.580</td>\n",
       "      <td>87.450</td>\n",
       "      <td>191.200</td>\n",
       "      <td>86.620</td>\n",
       "      <td>191.480</td>\n",
       "      <td>294.780</td>\n",
       "      <td>...</td>\n",
       "      <td>61.760</td>\n",
       "      <td>104.250</td>\n",
       "      <td>52.360</td>\n",
       "      <td>28.200</td>\n",
       "      <td>76.820</td>\n",
       "      <td>119.020</td>\n",
       "      <td>138.310</td>\n",
       "      <td>205.590</td>\n",
       "      <td>41.850</td>\n",
       "      <td>125.070</td>\n",
       "    </tr>\n",
       "    <tr>\n",
       "      <th>2019-08-12</th>\n",
       "      <td>66.780</td>\n",
       "      <td>27.640</td>\n",
       "      <td>141.080</td>\n",
       "      <td>200.480</td>\n",
       "      <td>64.500</td>\n",
       "      <td>87.380</td>\n",
       "      <td>191.720</td>\n",
       "      <td>84.810</td>\n",
       "      <td>190.000</td>\n",
       "      <td>288.650</td>\n",
       "      <td>...</td>\n",
       "      <td>61.530</td>\n",
       "      <td>103.180</td>\n",
       "      <td>52.280</td>\n",
       "      <td>28.090</td>\n",
       "      <td>75.760</td>\n",
       "      <td>116.630</td>\n",
       "      <td>138.450</td>\n",
       "      <td>201.870</td>\n",
       "      <td>41.030</td>\n",
       "      <td>123.940</td>\n",
       "    </tr>\n",
       "    <tr>\n",
       "      <th>2019-08-13</th>\n",
       "      <td>67.640</td>\n",
       "      <td>27.510</td>\n",
       "      <td>142.230</td>\n",
       "      <td>208.970</td>\n",
       "      <td>65.010</td>\n",
       "      <td>89.260</td>\n",
       "      <td>197.150</td>\n",
       "      <td>86.890</td>\n",
       "      <td>192.880</td>\n",
       "      <td>293.170</td>\n",
       "      <td>...</td>\n",
       "      <td>61.380</td>\n",
       "      <td>106.430</td>\n",
       "      <td>53.370</td>\n",
       "      <td>28.350</td>\n",
       "      <td>77.040</td>\n",
       "      <td>117.130</td>\n",
       "      <td>138.170</td>\n",
       "      <td>208.260</td>\n",
       "      <td>41.240</td>\n",
       "      <td>124.700</td>\n",
       "    </tr>\n",
       "  </tbody>\n",
       "</table>\n",
       "<p>3 rows × 387 columns</p>\n",
       "</div>"
      ],
      "text/plain": [
       "            A_price  AAL_price  AAP_price  AAPL_price  ABBV_price  ABC_price  \\\n",
       "date                                                                           \n",
       "2019-08-09   68.640     28.780    144.330     200.940      65.580     87.450   \n",
       "2019-08-12   66.780     27.640    141.080     200.480      64.500     87.380   \n",
       "2019-08-13   67.640     27.510    142.230     208.970      65.010     89.260   \n",
       "\n",
       "            ABMD_price  ABT_price  ACN_price  ADBE_price  ...  XEL_price  \\\n",
       "date                                                      ...              \n",
       "2019-08-09     191.200     86.620    191.480     294.780  ...     61.760   \n",
       "2019-08-12     191.720     84.810    190.000     288.650  ...     61.530   \n",
       "2019-08-13     197.150     86.890    192.880     293.170  ...     61.380   \n",
       "\n",
       "            XLNX_price  XRAY_price  XRX_price  XYL_price  YUM_price  \\\n",
       "date                                                                  \n",
       "2019-08-09     104.250      52.360     28.200     76.820    119.020   \n",
       "2019-08-12     103.180      52.280     28.090     75.760    116.630   \n",
       "2019-08-13     106.430      53.370     28.350     77.040    117.130   \n",
       "\n",
       "            ZBH_price  ZBRA_price  ZION_price  ZTS_price  \n",
       "date                                                      \n",
       "2019-08-09    138.310     205.590      41.850    125.070  \n",
       "2019-08-12    138.450     201.870      41.030    123.940  \n",
       "2019-08-13    138.170     208.260      41.240    124.700  \n",
       "\n",
       "[3 rows x 387 columns]"
      ]
     },
     "metadata": {},
     "output_type": "display_data"
    },
    {
     "name": "stdout",
     "output_type": "stream",
     "text": [
      "pickled\n"
     ]
    }
   ],
   "source": [
    "df_prices = df_prices.reset_index().set_index('date', drop=True)\n",
    "df_prices = df_prices.loc[df_prices['sym'].isin(symbols)]\n",
    "print(\"Before:\")\n",
    "display(df_prices.head(3))\n",
    "print(\"After:\")\n",
    "df_prices = get_symbols_and_reindex(df_prices, symbols)\n",
    "display(df_prices.head(3))\n",
    "df_prices.to_pickle(\"./data/modeling/prices.pkl\")\n",
    "bad_idx = \\\n",
    "    (df_prices != pd.read_pickle(\"./data/modeling/prices.pkl\")).sum().sum()\n",
    "assert(bad_idx == 0)\n",
    "print(\"pickled\")"
   ]
  },
  {
   "cell_type": "markdown",
   "metadata": {},
   "source": [
    "## Checkpoint"
   ]
  },
  {
   "cell_type": "code",
   "execution_count": 74,
   "metadata": {
    "ExecuteTime": {
     "end_time": "2020-12-09T21:20:15.714938Z",
     "start_time": "2020-12-09T21:20:15.699938Z"
    }
   },
   "outputs": [],
   "source": [
    "def combine_df_new(df, company, analyst):\n",
    "    ohe_columns = list(company.columns)\n",
    "    ohe_columns.remove('company')\n",
    "    df = df.reset_index().set_index(['date', 'sym'], drop=True)\n",
    "    analyst = analyst.reset_index().set_index(['date', 'sym'], drop=True)\n",
    "    df_new = MLFrame(df.join(df_company).join(analyst))\n",
    "    df_new.drop('company', inplace=True, axis=1)\n",
    "    df_new = df_new.one_hot_encode(columns=ohe_columns)\n",
    "    return df_new    "
   ]
  },
  {
   "cell_type": "code",
   "execution_count": 75,
   "metadata": {
    "ExecuteTime": {
     "end_time": "2020-12-09T21:20:15.938925Z",
     "start_time": "2020-12-09T21:20:15.715938Z"
    }
   },
   "outputs": [],
   "source": [
    "df_company = pd.read_pickle(\"./data/modeling/company.pkl\")\n",
    "df_performance = pd.read_pickle(\"./data/modeling/performance.pkl\")\n",
    "df_analyst = pd.read_pickle(\"./data/modeling/analyst.pkl\")\n",
    "df_prices = pd.read_pickle(\"./data/modeling/prices.pkl\")\n",
    "df_partial_performance = pd.read_pickle(\"./data/modeling/partial_performance.pkl\")\n",
    "df_partial_analyst = pd.read_pickle(\"./data/modeling/partial_analyst.pkl\")"
   ]
  },
  {
   "cell_type": "code",
   "execution_count": 76,
   "metadata": {
    "ExecuteTime": {
     "end_time": "2020-12-09T21:20:20.079220Z",
     "start_time": "2020-12-09T21:20:15.939925Z"
    }
   },
   "outputs": [
    {
     "name": "stdout",
     "output_type": "stream",
     "text": [
      "Added categorical columns\n",
      "3 -> Dividend\n",
      "3 -> Exchange\n",
      "10 -> sector\n",
      "61 -> industry\n",
      "115 -> subIndustry\n"
     ]
    },
    {
     "data": {
      "text/html": [
       "<div>\n",
       "<style scoped>\n",
       "    .dataframe tbody tr th:only-of-type {\n",
       "        vertical-align: middle;\n",
       "    }\n",
       "\n",
       "    .dataframe tbody tr th {\n",
       "        vertical-align: top;\n",
       "    }\n",
       "\n",
       "    .dataframe thead th {\n",
       "        text-align: right;\n",
       "    }\n",
       "</style>\n",
       "<table border=\"1\" class=\"dataframe\">\n",
       "  <thead>\n",
       "    <tr style=\"text-align: right;\">\n",
       "      <th></th>\n",
       "      <th>A_RevenueTTM</th>\n",
       "      <th>A_TotalCash</th>\n",
       "      <th>A_ExDividendDate</th>\n",
       "      <th>A_Dividend</th>\n",
       "      <th>A_DividendYield</th>\n",
       "      <th>A_PriceToBook</th>\n",
       "      <th>A_PriceToSales</th>\n",
       "      <th>A_EnterpriseValue</th>\n",
       "      <th>A_PriceToCashFlow</th>\n",
       "      <th>A_PE</th>\n",
       "      <th>...</th>\n",
       "      <th>ZTS_subIndustry_Technology Hardware, Storage &amp; Peripherals</th>\n",
       "      <th>ZTS_subIndustry_Tobacco</th>\n",
       "      <th>ZTS_subIndustry_Trading Companies &amp; Distributors</th>\n",
       "      <th>ZTS_subIndustry_Trucking</th>\n",
       "      <th>ZTS_subIndustry_Water Utilities</th>\n",
       "      <th>ZTS_subIndustry_Wireless Telecommunication Services</th>\n",
       "      <th>ZTS_Exchange_NYSE</th>\n",
       "      <th>ZTS_Exchange_unknown</th>\n",
       "      <th>ZTS_DJIA_1</th>\n",
       "      <th>ZTS_NASDAQ100_1</th>\n",
       "    </tr>\n",
       "    <tr>\n",
       "      <th>date</th>\n",
       "      <th></th>\n",
       "      <th></th>\n",
       "      <th></th>\n",
       "      <th></th>\n",
       "      <th></th>\n",
       "      <th></th>\n",
       "      <th></th>\n",
       "      <th></th>\n",
       "      <th></th>\n",
       "      <th></th>\n",
       "      <th></th>\n",
       "      <th></th>\n",
       "      <th></th>\n",
       "      <th></th>\n",
       "      <th></th>\n",
       "      <th></th>\n",
       "      <th></th>\n",
       "      <th></th>\n",
       "      <th></th>\n",
       "      <th></th>\n",
       "      <th></th>\n",
       "    </tr>\n",
       "  </thead>\n",
       "  <tbody>\n",
       "    <tr>\n",
       "      <th>2019-08-09</th>\n",
       "      <td>5019.000</td>\n",
       "      <td>2155.000</td>\n",
       "      <td>0.000</td>\n",
       "      <td>0.164</td>\n",
       "      <td>0.944</td>\n",
       "      <td>4.298</td>\n",
       "      <td>4.402</td>\n",
       "      <td>21670704590.000</td>\n",
       "      <td>16.574</td>\n",
       "      <td>19.800</td>\n",
       "      <td>...</td>\n",
       "      <td>0</td>\n",
       "      <td>0</td>\n",
       "      <td>0</td>\n",
       "      <td>0</td>\n",
       "      <td>0</td>\n",
       "      <td>0</td>\n",
       "      <td>1</td>\n",
       "      <td>0</td>\n",
       "      <td>0</td>\n",
       "      <td>0</td>\n",
       "    </tr>\n",
       "    <tr>\n",
       "      <th>2019-08-12</th>\n",
       "      <td>5019.000</td>\n",
       "      <td>2155.000</td>\n",
       "      <td>0.000</td>\n",
       "      <td>0.164</td>\n",
       "      <td>0.956</td>\n",
       "      <td>4.246</td>\n",
       "      <td>4.348</td>\n",
       "      <td>21401262240.000</td>\n",
       "      <td>16.371</td>\n",
       "      <td>19.200</td>\n",
       "      <td>...</td>\n",
       "      <td>0</td>\n",
       "      <td>0</td>\n",
       "      <td>0</td>\n",
       "      <td>0</td>\n",
       "      <td>0</td>\n",
       "      <td>0</td>\n",
       "      <td>1</td>\n",
       "      <td>0</td>\n",
       "      <td>0</td>\n",
       "      <td>0</td>\n",
       "    </tr>\n",
       "    <tr>\n",
       "      <th>2019-08-13</th>\n",
       "      <td>5019.000</td>\n",
       "      <td>2155.000</td>\n",
       "      <td>0.000</td>\n",
       "      <td>0.164</td>\n",
       "      <td>0.985</td>\n",
       "      <td>4.121</td>\n",
       "      <td>4.221</td>\n",
       "      <td>20764110330.000</td>\n",
       "      <td>15.892</td>\n",
       "      <td>19.500</td>\n",
       "      <td>...</td>\n",
       "      <td>0</td>\n",
       "      <td>0</td>\n",
       "      <td>0</td>\n",
       "      <td>0</td>\n",
       "      <td>0</td>\n",
       "      <td>0</td>\n",
       "      <td>1</td>\n",
       "      <td>0</td>\n",
       "      <td>0</td>\n",
       "      <td>0</td>\n",
       "    </tr>\n",
       "    <tr>\n",
       "      <th>2019-08-14</th>\n",
       "      <td>5019.000</td>\n",
       "      <td>2155.000</td>\n",
       "      <td>0.000</td>\n",
       "      <td>0.164</td>\n",
       "      <td>0.970</td>\n",
       "      <td>4.184</td>\n",
       "      <td>4.285</td>\n",
       "      <td>21084271240.000</td>\n",
       "      <td>16.132</td>\n",
       "      <td>18.900</td>\n",
       "      <td>...</td>\n",
       "      <td>0</td>\n",
       "      <td>0</td>\n",
       "      <td>0</td>\n",
       "      <td>0</td>\n",
       "      <td>0</td>\n",
       "      <td>0</td>\n",
       "      <td>1</td>\n",
       "      <td>0</td>\n",
       "      <td>0</td>\n",
       "      <td>0</td>\n",
       "    </tr>\n",
       "    <tr>\n",
       "      <th>2019-08-15</th>\n",
       "      <td>5090.000</td>\n",
       "      <td>1765.000</td>\n",
       "      <td>0.000</td>\n",
       "      <td>0.164</td>\n",
       "      <td>1.000</td>\n",
       "      <td>4.283</td>\n",
       "      <td>4.068</td>\n",
       "      <td>20365900000.000</td>\n",
       "      <td>16.051</td>\n",
       "      <td>20.800</td>\n",
       "      <td>...</td>\n",
       "      <td>0</td>\n",
       "      <td>0</td>\n",
       "      <td>0</td>\n",
       "      <td>0</td>\n",
       "      <td>0</td>\n",
       "      <td>0</td>\n",
       "      <td>1</td>\n",
       "      <td>0</td>\n",
       "      <td>0</td>\n",
       "      <td>0</td>\n",
       "    </tr>\n",
       "  </tbody>\n",
       "</table>\n",
       "<p>5 rows × 87462 columns</p>\n",
       "</div>"
      ],
      "text/plain": [
       "            A_RevenueTTM  A_TotalCash  A_ExDividendDate  A_Dividend  \\\n",
       "date                                                                  \n",
       "2019-08-09      5019.000     2155.000             0.000       0.164   \n",
       "2019-08-12      5019.000     2155.000             0.000       0.164   \n",
       "2019-08-13      5019.000     2155.000             0.000       0.164   \n",
       "2019-08-14      5019.000     2155.000             0.000       0.164   \n",
       "2019-08-15      5090.000     1765.000             0.000       0.164   \n",
       "\n",
       "            A_DividendYield  A_PriceToBook  A_PriceToSales  A_EnterpriseValue  \\\n",
       "date                                                                            \n",
       "2019-08-09            0.944          4.298           4.402    21670704590.000   \n",
       "2019-08-12            0.956          4.246           4.348    21401262240.000   \n",
       "2019-08-13            0.985          4.121           4.221    20764110330.000   \n",
       "2019-08-14            0.970          4.184           4.285    21084271240.000   \n",
       "2019-08-15            1.000          4.283           4.068    20365900000.000   \n",
       "\n",
       "            A_PriceToCashFlow   A_PE  ...  \\\n",
       "date                                  ...   \n",
       "2019-08-09             16.574 19.800  ...   \n",
       "2019-08-12             16.371 19.200  ...   \n",
       "2019-08-13             15.892 19.500  ...   \n",
       "2019-08-14             16.132 18.900  ...   \n",
       "2019-08-15             16.051 20.800  ...   \n",
       "\n",
       "            ZTS_subIndustry_Technology Hardware, Storage & Peripherals  \\\n",
       "date                                                                     \n",
       "2019-08-09                                                  0            \n",
       "2019-08-12                                                  0            \n",
       "2019-08-13                                                  0            \n",
       "2019-08-14                                                  0            \n",
       "2019-08-15                                                  0            \n",
       "\n",
       "            ZTS_subIndustry_Tobacco  \\\n",
       "date                                  \n",
       "2019-08-09                        0   \n",
       "2019-08-12                        0   \n",
       "2019-08-13                        0   \n",
       "2019-08-14                        0   \n",
       "2019-08-15                        0   \n",
       "\n",
       "            ZTS_subIndustry_Trading Companies & Distributors  \\\n",
       "date                                                           \n",
       "2019-08-09                                                 0   \n",
       "2019-08-12                                                 0   \n",
       "2019-08-13                                                 0   \n",
       "2019-08-14                                                 0   \n",
       "2019-08-15                                                 0   \n",
       "\n",
       "            ZTS_subIndustry_Trucking  ZTS_subIndustry_Water Utilities  \\\n",
       "date                                                                    \n",
       "2019-08-09                         0                                0   \n",
       "2019-08-12                         0                                0   \n",
       "2019-08-13                         0                                0   \n",
       "2019-08-14                         0                                0   \n",
       "2019-08-15                         0                                0   \n",
       "\n",
       "            ZTS_subIndustry_Wireless Telecommunication Services  \\\n",
       "date                                                              \n",
       "2019-08-09                                                  0     \n",
       "2019-08-12                                                  0     \n",
       "2019-08-13                                                  0     \n",
       "2019-08-14                                                  0     \n",
       "2019-08-15                                                  0     \n",
       "\n",
       "            ZTS_Exchange_NYSE  ZTS_Exchange_unknown  ZTS_DJIA_1  \\\n",
       "date                                                              \n",
       "2019-08-09                  1                     0           0   \n",
       "2019-08-12                  1                     0           0   \n",
       "2019-08-13                  1                     0           0   \n",
       "2019-08-14                  1                     0           0   \n",
       "2019-08-15                  1                     0           0   \n",
       "\n",
       "            ZTS_NASDAQ100_1  \n",
       "date                         \n",
       "2019-08-09                0  \n",
       "2019-08-12                0  \n",
       "2019-08-13                0  \n",
       "2019-08-14                0  \n",
       "2019-08-15                0  \n",
       "\n",
       "[5 rows x 87462 columns]"
      ]
     },
     "execution_count": 76,
     "metadata": {},
     "output_type": "execute_result"
    }
   ],
   "source": [
    "df_hermes = combine_df_new(df_partial_performance, df_company, df_partial_analyst)\n",
    "df_hermes = df_hermes.reset_index().set_index('date', drop=True)\n",
    "df_hermes = get_symbols_and_reindex(df_hermes, df_hermes['sym'].unique())\n",
    "df_hermes.to_pickle(\"./data/modeling/hermes.pkl\")\n",
    "df_hermes.head()"
   ]
  },
  {
   "cell_type": "markdown",
   "metadata": {},
   "source": [
    "## Imports"
   ]
  },
  {
   "cell_type": "markdown",
   "metadata": {},
   "source": [
    "### Custom Class for Time Series Modeling"
   ]
  },
  {
   "cell_type": "code",
   "execution_count": null,
   "metadata": {
    "ExecuteTime": {
     "end_time": "2020-12-09T06:56:29.743767Z",
     "start_time": "2020-12-09T06:56:29.627Z"
    }
   },
   "outputs": [],
   "source": [
    "from models.create import NetworkCreator\n",
    "from models.load import NetworkLoader"
   ]
  },
  {
   "cell_type": "code",
   "execution_count": null,
   "metadata": {
    "ExecuteTime": {
     "end_time": "2020-12-09T06:56:29.744768Z",
     "start_time": "2020-12-09T06:56:29.628Z"
    }
   },
   "outputs": [],
   "source": [
    "help(NetworkCreator)"
   ]
  },
  {
   "cell_type": "code",
   "execution_count": null,
   "metadata": {
    "ExecuteTime": {
     "end_time": "2020-12-09T06:56:29.744768Z",
     "start_time": "2020-12-09T06:56:29.630Z"
    }
   },
   "outputs": [],
   "source": [
    "help(NetworkLoader)"
   ]
  },
  {
   "cell_type": "markdown",
   "metadata": {},
   "source": [
    "### Scikit-learn"
   ]
  },
  {
   "cell_type": "code",
   "execution_count": null,
   "metadata": {
    "ExecuteTime": {
     "end_time": "2020-12-09T06:56:29.745768Z",
     "start_time": "2020-12-09T06:56:29.632Z"
    }
   },
   "outputs": [],
   "source": [
    "import sklearn\n",
    "from sklearn.feature_extraction.text import TfidfVectorizer, CountVectorizer\n",
    "from sklearn import svm\n",
    "from sklearn.ensemble import RandomForestClassifier, StackingClassifier, \\\n",
    "                             AdaBoostClassifier, GradientBoostingClassifier, \\\n",
    "                             VotingClassifier\n",
    "from sklearn.tree import DecisionTreeClassifier\n",
    "from sklearn.neighbors import KNeighborsClassifier\n",
    "from sklearn.model_selection import GridSearchCV, train_test_split\n",
    "from sklearn.metrics import confusion_matrix, plot_confusion_matrix, \\\n",
    "                            classification_report\n",
    "from sklearn.utils import resample"
   ]
  },
  {
   "cell_type": "markdown",
   "metadata": {},
   "source": [
    "### Tensorflow"
   ]
  },
  {
   "cell_type": "code",
   "execution_count": null,
   "metadata": {
    "ExecuteTime": {
     "end_time": "2020-12-09T06:56:29.745768Z",
     "start_time": "2020-12-09T06:56:29.634Z"
    }
   },
   "outputs": [],
   "source": [
    "from tensorflow.keras.models import Sequential\n",
    "from tensorflow.keras.callbacks import EarlyStopping\n",
    "from tensorflow.keras.layers import Dense, Dropout, LSTM, Embedding, Input, \\\n",
    "                                    Bidirectional, LeakyReLU, ELU\n",
    "from tensorflow.keras.regularizers import l2, l1\n",
    "from tensorflow.keras.preprocessing import text, sequence\n",
    "\n",
    "import kerastuner as kt"
   ]
  },
  {
   "cell_type": "markdown",
   "metadata": {},
   "source": [
    "### GPU"
   ]
  },
  {
   "cell_type": "code",
   "execution_count": null,
   "metadata": {
    "ExecuteTime": {
     "end_time": "2020-12-09T06:56:29.746767Z",
     "start_time": "2020-12-09T06:56:29.637Z"
    }
   },
   "outputs": [],
   "source": [
    "if USE_GPU:\n",
    "    # Enable GPU\n",
    "    physical_devices = tf.config.list_physical_devices('GPU')\n",
    "    tf.config.experimental.set_memory_growth(physical_devices[0], enable=True)\n",
    "    os.environ[\"TF_FORCE_GPU_ALLOW_GROWTH\"]=\"true\"\n",
    "\n",
    "    # Show GPU\n",
    "    print(\"Using GPU\")\n",
    "    print(tf.config.list_physical_devices('GPU'))\n",
    "else:\n",
    "    print(\"Using CPU\")"
   ]
  },
  {
   "cell_type": "markdown",
   "metadata": {},
   "source": [
    "## Narcissus\n",
    "> Model for predicting performance with performance"
   ]
  },
  {
   "cell_type": "code",
   "execution_count": null,
   "metadata": {
    "ExecuteTime": {
     "end_time": "2020-12-09T06:56:29.746767Z",
     "start_time": "2020-12-09T06:56:29.639Z"
    }
   },
   "outputs": [],
   "source": [
    "df_performance = pd.read_pickle(\"./data/modeling/performance.pkl\")\n",
    "X_cols = list(df_performance.columns)\n",
    "y_cols = X_cols\n",
    "n_days = 4\n",
    "name = 'Narcissus'\n",
    "narcissus_loader = NetworkLoader(df_hermes, X_cols, y_cols, name, n_days)"
   ]
  },
  {
   "cell_type": "code",
   "execution_count": null,
   "metadata": {
    "ExecuteTime": {
     "end_time": "2020-12-09T06:56:29.747770Z",
     "start_time": "2020-12-09T06:56:29.640Z"
    }
   },
   "outputs": [],
   "source": [
    "parameters = {'use_input_regularizer': 2,\n",
    " 'input_neurons': 64,\n",
    " 'input_dropout_rate': 0.1,\n",
    " 'use_hidden_regularizer': 0,\n",
    " 'hidden_dropout_rate': 0.0,\n",
    " 'n_hidden_layers': 3,\n",
    " 'hidden_neurons': 64,\n",
    " 'patience': 100,\n",
    " 'use_early_stopping': 0,\n",
    " 'batch_size': 128,\n",
    " 'input_regularizer_penalty': 0.01,\n",
    " 'hidden_regularizer_penalty': 0.05}"
   ]
  },
  {
   "cell_type": "code",
   "execution_count": null,
   "metadata": {
    "ExecuteTime": {
     "end_time": "2020-12-09T06:56:29.747770Z",
     "start_time": "2020-12-09T06:56:29.643Z"
    }
   },
   "outputs": [],
   "source": [
    "parameters = narcissus_loader.top_10_hps[0].__dict__['values']\n",
    "parameters = dict([(param, val) for (param, val) in parameters.items() if not 'tuner' in param])\n",
    "parameters"
   ]
  },
  {
   "cell_type": "markdown",
   "metadata": {},
   "source": [
    "## Hermes"
   ]
  },
  {
   "cell_type": "code",
   "execution_count": null,
   "metadata": {
    "ExecuteTime": {
     "end_time": "2020-12-09T06:56:29.748769Z",
     "start_time": "2020-12-09T06:56:29.646Z"
    }
   },
   "outputs": [],
   "source": [
    "df_hermes = pd.read_pickle(\"./data/modeling/hermes.pkl\")\n",
    "df_analyst = pd.read_pickle(\"./data/modeling/analyst.pkl\")\n",
    "X_cols = [col for col in df_hermes.columns\n",
    "          if col not in df_analyst.columns]\n",
    "y_cols = [col for col in df_hermes.columns\n",
    "          if col in df_analyst.columns]\n",
    "n_days = 4\n",
    "name = 'Hermes'\n",
    "hermes_loader = NetworkLoader(df_hermes, X_cols, y_cols, name, n_days)"
   ]
  },
  {
   "cell_type": "code",
   "execution_count": null,
   "metadata": {
    "ExecuteTime": {
     "end_time": "2020-12-09T06:56:29.748769Z",
     "start_time": "2020-12-09T06:56:29.648Z"
    }
   },
   "outputs": [],
   "source": [
    "parameters = {'use_input_regularizer': 0,\n",
    "             'input_neurons': 64,\n",
    "             'input_dropout_rate': 0.3,\n",
    "             'use_hidden_regularizer': 0,\n",
    "             'hidden_dropout_rate': 0.0,\n",
    "             'n_hidden_layers': 3,\n",
    "             'hidden_neurons': 64,\n",
    "             'patience': 50,\n",
    "             'use_early_stopping': 0,\n",
    "             'batch_size': 32,\n",
    "             'hidden_regularizer_penalty': 0.1,\n",
    "             'input_regularizer_penalty': 0.01}"
   ]
  },
  {
   "cell_type": "code",
   "execution_count": null,
   "metadata": {
    "ExecuteTime": {
     "end_time": "2020-12-09T06:56:29.749769Z",
     "start_time": "2020-12-09T06:56:29.650Z"
    }
   },
   "outputs": [],
   "source": [
    "parameters = hermes_loader.top_10_hps[0].__dict__['values']\n",
    "parameters = dict([(param, val) for (param, val) in parameters.items() if not 'tuner' in param])\n",
    "parameters"
   ]
  },
  {
   "cell_type": "markdown",
   "metadata": {},
   "source": [
    "## Cronus"
   ]
  },
  {
   "cell_type": "code",
   "execution_count": null,
   "metadata": {
    "ExecuteTime": {
     "end_time": "2020-12-09T06:56:29.750769Z",
     "start_time": "2020-12-09T06:56:29.652Z"
    }
   },
   "outputs": [],
   "source": [
    "df_cronus = pd.concat([df_analyst, df_prices], axis=1)"
   ]
  },
  {
   "cell_type": "code",
   "execution_count": null,
   "metadata": {
    "ExecuteTime": {
     "end_time": "2020-12-09T06:56:29.750769Z",
     "start_time": "2020-12-09T06:56:29.654Z"
    }
   },
   "outputs": [],
   "source": [
    "df_cronus[[col for col in df_cronus if 'price' in col]]"
   ]
  },
  {
   "cell_type": "code",
   "execution_count": null,
   "metadata": {
    "ExecuteTime": {
     "end_time": "2020-12-08T13:55:50.779280Z",
     "start_time": "2020-12-08T13:55:50.440249Z"
    }
   },
   "outputs": [],
   "source": []
  },
  {
   "cell_type": "code",
   "execution_count": null,
   "metadata": {
    "ExecuteTime": {
     "end_time": "2020-12-09T06:56:29.751769Z",
     "start_time": "2020-12-09T06:56:29.657Z"
    }
   },
   "outputs": [],
   "source": [
    "df_analyst = pd.read_pickle(\"./data/modeling/analyst.pkl\")\n",
    "df_prices = pd.read_pickle(\"./data/modeling/prices.pkl\")\n",
    "df_cronus = pd.concat([df_analyst, df_prices], axis=1)\n",
    "X_cols = list(df_cronus.columns)\n",
    "y_cols = list(df_prices.columns)\n",
    "n_days = 4\n",
    "name = 'Cronus'\n",
    "cronus_loader = NetworkLoader(df_cronus, X_cols, y_cols, name, n_days)"
   ]
  },
  {
   "cell_type": "code",
   "execution_count": null,
   "metadata": {
    "ExecuteTime": {
     "end_time": "2020-12-09T06:56:29.751769Z",
     "start_time": "2020-12-09T06:56:29.659Z"
    }
   },
   "outputs": [],
   "source": [
    "parameters = {'use_input_regularizer': 0,\n",
    "             'input_neurons': 64,\n",
    "             'input_dropout_rate': 0.1,\n",
    "             'use_hidden_regularizer': 0,\n",
    "             'hidden_dropout_rate': 0.0,\n",
    "             'n_hidden_layers': 8,\n",
    "             'hidden_neurons': 64,\n",
    "             'patience': 25,\n",
    "             'use_early_stopping': 1,\n",
    "             'batch_size': 64,\n",
    "             'input_regularizer_penalty': 0.1,\n",
    "             'hidden_regularizer_penalty': 0.1}"
   ]
  },
  {
   "cell_type": "code",
   "execution_count": null,
   "metadata": {
    "ExecuteTime": {
     "end_time": "2020-12-09T06:56:29.752769Z",
     "start_time": "2020-12-09T06:56:29.661Z"
    }
   },
   "outputs": [],
   "source": [
    "parameters = cronus_loader.top_10_hps[0].__dict__['values']\n",
    "parameters = dict([(param, val) for (param, val) in parameters.items() if not 'tuner' in param])\n",
    "parameters"
   ]
  },
  {
   "cell_type": "code",
   "execution_count": null,
   "metadata": {
    "ExecuteTime": {
     "end_time": "2020-12-09T06:56:29.752769Z",
     "start_time": "2020-12-09T06:56:29.663Z"
    }
   },
   "outputs": [],
   "source": [
    "model = cronus_loader.build_model(**parameters)"
   ]
  },
  {
   "cell_type": "code",
   "execution_count": null,
   "metadata": {
    "ExecuteTime": {
     "end_time": "2020-12-09T06:56:29.753769Z",
     "start_time": "2020-12-09T06:56:29.665Z"
    }
   },
   "outputs": [],
   "source": [
    "train_data_gen = cronus_loader.train_data_gen\n",
    "test_data_gen = cronus_loader.test_data_gen"
   ]
  },
  {
   "cell_type": "code",
   "execution_count": null,
   "metadata": {
    "ExecuteTime": {
     "end_time": "2020-12-09T06:56:29.753769Z",
     "start_time": "2020-12-09T06:56:29.666Z"
    }
   },
   "outputs": [],
   "source": [
    "history = model.fit(\n",
    "            train_data_gen,\n",
    "            validation_data=(test_data_gen),\n",
    "            epochs=5000,\n",
    "            callbacks=[])"
   ]
  },
  {
   "cell_type": "code",
   "execution_count": null,
   "metadata": {
    "ExecuteTime": {
     "end_time": "2020-12-09T06:56:29.754769Z",
     "start_time": "2020-12-09T06:56:29.668Z"
    }
   },
   "outputs": [],
   "source": [
    "my_loss= history.history['loss']\n",
    "plt.plot(range(len(my_loss)),my_loss, label='train')\n",
    "my_val_loss= history.history['val_loss']\n",
    "plt.plot(range(len(my_loss)),my_val_loss, label='test')\n",
    "plt.legend()"
   ]
  },
  {
   "cell_type": "code",
   "execution_count": null,
   "metadata": {
    "ExecuteTime": {
     "end_time": "2020-12-09T06:56:29.755768Z",
     "start_time": "2020-12-09T06:56:29.669Z"
    }
   },
   "outputs": [],
   "source": [
    "test_data_gen.data.shape"
   ]
  },
  {
   "cell_type": "code",
   "execution_count": null,
   "metadata": {
    "ExecuteTime": {
     "end_time": "2020-12-09T06:56:29.755768Z",
     "start_time": "2020-12-09T06:56:29.671Z"
    }
   },
   "outputs": [],
   "source": [
    "df_cronus.iloc[-4:].values.shape"
   ]
  },
  {
   "cell_type": "code",
   "execution_count": null,
   "metadata": {
    "ExecuteTime": {
     "end_time": "2020-12-09T06:56:29.755768Z",
     "start_time": "2020-12-09T06:56:29.672Z"
    }
   },
   "outputs": [],
   "source": [
    "len(df_cronus.iloc[-4:].values)"
   ]
  },
  {
   "cell_type": "code",
   "execution_count": null,
   "metadata": {
    "ExecuteTime": {
     "end_time": "2020-12-09T06:56:29.756769Z",
     "start_time": "2020-12-09T06:56:29.674Z"
    }
   },
   "outputs": [],
   "source": [
    "cronus_loader.X_n_features"
   ]
  },
  {
   "cell_type": "code",
   "execution_count": null,
   "metadata": {
    "ExecuteTime": {
     "end_time": "2020-12-09T06:56:29.756769Z",
     "start_time": "2020-12-09T06:56:29.675Z"
    }
   },
   "outputs": [],
   "source": [
    "cronus_loader.X_train_reshaped.shape"
   ]
  },
  {
   "cell_type": "code",
   "execution_count": null,
   "metadata": {
    "ExecuteTime": {
     "end_time": "2020-12-09T06:56:29.757769Z",
     "start_time": "2020-12-09T06:56:29.677Z"
    }
   },
   "outputs": [],
   "source": [
    "df_cronus.iloc[-4:].values.reshape(4, cronus_loader.X_n_features, 1)"
   ]
  },
  {
   "cell_type": "code",
   "execution_count": null,
   "metadata": {
    "ExecuteTime": {
     "end_time": "2020-12-09T06:56:29.758769Z",
     "start_time": "2020-12-09T06:56:29.679Z"
    }
   },
   "outputs": [],
   "source": [
    "prediction = model.predict(df_cronus.iloc[-4:].values.reshape(4, 1, cronus_loader.X_n_features))"
   ]
  },
  {
   "cell_type": "code",
   "execution_count": null,
   "metadata": {
    "ExecuteTime": {
     "end_time": "2020-12-09T06:56:29.758769Z",
     "start_time": "2020-12-09T06:56:29.680Z"
    }
   },
   "outputs": [],
   "source": [
    "prediction = cronus_loader.y_scaler.inverse_transform(prediction)"
   ]
  },
  {
   "cell_type": "code",
   "execution_count": null,
   "metadata": {
    "ExecuteTime": {
     "end_time": "2020-12-09T06:56:29.758769Z",
     "start_time": "2020-12-09T06:56:29.681Z"
    }
   },
   "outputs": [],
   "source": [
    "pred_df = pd.DataFrame(prediction, columns=df_prices.columns)"
   ]
  },
  {
   "cell_type": "code",
   "execution_count": null,
   "metadata": {
    "ExecuteTime": {
     "end_time": "2020-12-09T06:56:29.759769Z",
     "start_time": "2020-12-09T06:56:29.683Z"
    }
   },
   "outputs": [],
   "source": [
    "df_prices.iloc[[-1]]"
   ]
  },
  {
   "cell_type": "code",
   "execution_count": null,
   "metadata": {
    "ExecuteTime": {
     "end_time": "2020-12-09T06:56:29.759769Z",
     "start_time": "2020-12-09T06:56:29.684Z"
    }
   },
   "outputs": [],
   "source": [
    "combo_df = pd.concat([df_prices.iloc[[-1]], pred_df])\n",
    "combo_df"
   ]
  },
  {
   "cell_type": "code",
   "execution_count": null,
   "metadata": {
    "ExecuteTime": {
     "end_time": "2020-12-09T06:56:29.760769Z",
     "start_time": "2020-12-09T06:56:29.686Z"
    }
   },
   "outputs": [],
   "source": [
    "combo_df.sort_values()"
   ]
  },
  {
   "cell_type": "code",
   "execution_count": null,
   "metadata": {
    "ExecuteTime": {
     "end_time": "2020-12-09T06:56:29.761769Z",
     "start_time": "2020-12-09T06:56:29.687Z"
    }
   },
   "outputs": [],
   "source": [
    "top_20_predictions = combo_df.diff().iloc[1].sort_values(ascending=False)[:20]"
   ]
  },
  {
   "cell_type": "code",
   "execution_count": null,
   "metadata": {
    "ExecuteTime": {
     "end_time": "2020-12-09T06:56:29.761769Z",
     "start_time": "2020-12-09T06:56:29.689Z"
    }
   },
   "outputs": [],
   "source": [
    "combo_df['NEE_price']"
   ]
  },
  {
   "cell_type": "code",
   "execution_count": null,
   "metadata": {
    "ExecuteTime": {
     "end_time": "2020-12-09T06:56:29.762769Z",
     "start_time": "2020-12-09T06:56:29.690Z"
    }
   },
   "outputs": [],
   "source": [
    "normalized_preds = {}\n",
    "for key, value in top_20_predictions.items():\n",
    "    up = round(value/combo_df[key].iloc[0] * 100, 2)\n",
    "    normalized_preds[key] = f\"+{up}%\""
   ]
  },
  {
   "cell_type": "code",
   "execution_count": null,
   "metadata": {
    "ExecuteTime": {
     "end_time": "2020-12-09T06:56:29.762769Z",
     "start_time": "2020-12-09T06:56:29.692Z"
    }
   },
   "outputs": [],
   "source": [
    "pd.Series(normalized_preds)"
   ]
  },
  {
   "cell_type": "code",
   "execution_count": null,
   "metadata": {
    "ExecuteTime": {
     "end_time": "2020-12-09T06:56:29.762769Z",
     "start_time": "2020-12-09T06:56:29.693Z"
    }
   },
   "outputs": [],
   "source": [
    "def get_top_10(top_10_hps):\n",
    "    parameter_list = []\n",
    "    for parameters in top_10_hps:\n",
    "        parameters = parameters.__dict__['values']\n",
    "        parameters = [(param, val) for (param, val) in parameters.items() if not 'tuner' in param]\n",
    "        parameter_list.append(dict(parameters))\n",
    "    return parameter_list\n",
    "top_10 = get_top_10(cronus_loader.top_10_hps)"
   ]
  },
  {
   "cell_type": "code",
   "execution_count": null,
   "metadata": {
    "ExecuteTime": {
     "end_time": "2020-12-09T06:56:29.763769Z",
     "start_time": "2020-12-09T06:56:29.695Z"
    }
   },
   "outputs": [],
   "source": [
    "#def test_top_10(top_10_parameters):\n",
    "        \n",
    "    \n",
    "#scores = test_top_10(top_10)"
   ]
  },
  {
   "cell_type": "code",
   "execution_count": null,
   "metadata": {
    "ExecuteTime": {
     "end_time": "2020-12-09T06:56:29.764768Z",
     "start_time": "2020-12-09T06:56:29.696Z"
    }
   },
   "outputs": [],
   "source": [
    "import copy"
   ]
  },
  {
   "cell_type": "code",
   "execution_count": null,
   "metadata": {
    "ExecuteTime": {
     "end_time": "2020-12-09T06:56:29.764768Z",
     "start_time": "2020-12-09T06:56:29.698Z"
    }
   },
   "outputs": [],
   "source": [
    "print(cronus_model)"
   ]
  },
  {
   "cell_type": "code",
   "execution_count": null,
   "metadata": {
    "ExecuteTime": {
     "end_time": "2020-12-09T06:56:29.765769Z",
     "start_time": "2020-12-09T06:56:29.699Z"
    }
   },
   "outputs": [],
   "source": [
    "def get_top_r2_scores(loader, top_10_parameters, verbose=False):\n",
    "    evaluation = {}\n",
    "    for num, parameters in enumerate(top_10_parameters):\n",
    "        print(\"model %s starting\" % num, end='\\r')\n",
    "        model = loader.creator.build_and_fit_model(dummy_hp=True,\n",
    "                                                   **parameters)\n",
    "        print(\"model %s fitting\" % num, end='\\r')\n",
    "        history = model.fit(\n",
    "            loader.creator.train_data_gen,\n",
    "            validation_data=(loader.creator.test_data_gen),\n",
    "            epochs=5000,\n",
    "            verbose=verbose\n",
    "                           )\n",
    "        print(\"model %s predicting\" % num, end='\\r')\n",
    "        loader.creator.predict_r2_scores()\n",
    "        print(\"model %s r2 =\" % num, loader.creator.val_r2)\n",
    "        evaluation[num] = {\n",
    "            'model': model,\n",
    "            'val_r2': loader.creator.val_r2,\n",
    "            'history': history,\n",
    "            'parameters': parameters\n",
    "        }\n",
    "get_top_r2_scores(cronus_loader, top_10)"
   ]
  },
  {
   "cell_type": "code",
   "execution_count": null,
   "metadata": {
    "ExecuteTime": {
     "end_time": "2020-12-08T01:44:04.859656Z",
     "start_time": "2020-12-08T01:44:04.394951Z"
    }
   },
   "outputs": [],
   "source": []
  },
  {
   "cell_type": "code",
   "execution_count": null,
   "metadata": {
    "ExecuteTime": {
     "end_time": "2020-12-09T06:56:29.767769Z",
     "start_time": "2020-12-09T06:56:29.701Z"
    }
   },
   "outputs": [],
   "source": [
    "cronus_loader.creator.val_r2"
   ]
  },
  {
   "cell_type": "code",
   "execution_count": null,
   "metadata": {
    "ExecuteTime": {
     "end_time": "2020-12-09T06:56:29.767769Z",
     "start_time": "2020-12-09T06:56:29.703Z"
    }
   },
   "outputs": [],
   "source": [
    "top_10[0]"
   ]
  },
  {
   "cell_type": "code",
   "execution_count": null,
   "metadata": {
    "ExecuteTime": {
     "end_time": "2020-12-09T06:56:29.768768Z",
     "start_time": "2020-12-09T06:56:29.704Z"
    }
   },
   "outputs": [],
   "source": [
    "cronus_loader.top_10_hps[0].__dict__['values']"
   ]
  },
  {
   "cell_type": "code",
   "execution_count": null,
   "metadata": {
    "ExecuteTime": {
     "end_time": "2020-12-09T06:56:29.769769Z",
     "start_time": "2020-12-09T06:56:29.706Z"
    }
   },
   "outputs": [],
   "source": [
    "X_cols = list(df.columns)\n",
    "y_cols = 'AAPL_price'\n",
    "n_days = 1\n",
    "creator = NetworkCreator(df_cronus, X_cols, y_cols, n_days)"
   ]
  },
  {
   "cell_type": "markdown",
   "metadata": {},
   "source": [
    "## Loading in best params"
   ]
  },
  {
   "cell_type": "code",
   "execution_count": null,
   "metadata": {
    "ExecuteTime": {
     "end_time": "2020-12-09T06:56:29.770769Z",
     "start_time": "2020-12-09T06:56:29.708Z"
    }
   },
   "outputs": [],
   "source": [
    "X_cols = list(df_cronus.columns)\n",
    "y_cols = list(df_prices.columns)\n",
    "n_days = 3\n",
    "creator = NetworkCreator(df_cronus, X_cols, y_cols, n_days)"
   ]
  },
  {
   "cell_type": "code",
   "execution_count": null,
   "metadata": {
    "ExecuteTime": {
     "end_time": "2020-12-09T06:56:29.771769Z",
     "start_time": "2020-12-09T06:56:29.709Z"
    }
   },
   "outputs": [],
   "source": [
    "parameters = {\n",
    "    'input_neurons': [16, 32, 64],\n",
    "    'input_dropout_rate': [.1, .3, .5],\n",
    "    'use_input_regularizer': [0, 1, 2],\n",
    "    'input_regularizer_penalty': [0.01, 0.05, 0.1, 0.3],\n",
    "    'n_hidden_layers': [1, 3, 5, 8],\n",
    "    'hidden_dropout_rate': [0.0, .3, .5, .9],\n",
    "    'hidden_neurons': [16, 32, 64],\n",
    "    'use_hidden_regularizer': [0, 1, 2],\n",
    "    'hidden_regularizer_penalty': [0.01, 0.05, 0.1, 0.3],\n",
    "    'patience': [5, 25, 50, 100],\n",
    "    'batch_size': [32, 64, 128],\n",
    "    'use_early_stopping': [0, 1]\n",
    "}"
   ]
  },
  {
   "cell_type": "code",
   "execution_count": null,
   "metadata": {
    "ExecuteTime": {
     "end_time": "2020-12-09T06:56:29.771769Z",
     "start_time": "2020-12-09T06:56:29.711Z"
    }
   },
   "outputs": [],
   "source": [
    "creator.build_and_fit_model = partial(\n",
    "    creator.build_and_fit_model, **parameters\n",
    ")\n",
    "\n",
    "tuner = kt.Hyperband(\n",
    "    creator.build_and_fit_model,\n",
    "    objective='val_loss',\n",
    "    max_epochs=5000,\n",
    "    factor=3,\n",
    "    directory='E:/tuner_directory',\n",
    "    project_name='Cronus')\n",
    "best_hps = tuner.get_best_hyperparameters(num_trials=1)[0]\n",
    "best_hps"
   ]
  },
  {
   "cell_type": "code",
   "execution_count": null,
   "metadata": {
    "ExecuteTime": {
     "end_time": "2020-12-09T06:56:29.772769Z",
     "start_time": "2020-12-09T06:56:29.712Z"
    }
   },
   "outputs": [],
   "source": [
    "best_hps.__dict__['values']"
   ]
  },
  {
   "cell_type": "code",
   "execution_count": null,
   "metadata": {
    "ExecuteTime": {
     "end_time": "2020-12-09T06:56:29.772769Z",
     "start_time": "2020-12-09T06:56:29.714Z"
    }
   },
   "outputs": [],
   "source": [
    "args = {\n",
    "    'use_input_regularizer': 0,\n",
    "    'input_neurons': 64,\n",
    "    'input_dropout_rate': 0.1,\n",
    "    'use_hidden_regularizer': 0,\n",
    "    'hidden_dropout_rate': 0.0,\n",
    "    'n_hidden_layers': 8,\n",
    "    'hidden_neurons': 64,\n",
    "    'patience': 25,\n",
    "    'batch_size': 32,\n",
    "    'input_regularizer_penalty': 0.3,\n",
    "    'hidden_regularizer_penalty': 0.01,\n",
    "        }"
   ]
  },
  {
   "cell_type": "code",
   "execution_count": null,
   "metadata": {
    "ExecuteTime": {
     "end_time": "2020-12-09T06:56:29.773769Z",
     "start_time": "2020-12-09T06:56:29.715Z"
    }
   },
   "outputs": [],
   "source": [
    "creator = NetworkCreator(df_cronus, X_cols, y_cols, n_days)"
   ]
  },
  {
   "cell_type": "code",
   "execution_count": null,
   "metadata": {
    "ExecuteTime": {
     "end_time": "2020-12-09T06:56:29.773769Z",
     "start_time": "2020-12-09T06:56:29.717Z"
    }
   },
   "outputs": [],
   "source": [
    "creator.build_and_fit_model(dummy_hp=True,\n",
    "                            use_early_stopping=False,\n",
    "                            **args)"
   ]
  },
  {
   "cell_type": "code",
   "execution_count": null,
   "metadata": {
    "ExecuteTime": {
     "end_time": "2020-12-09T06:56:29.774767Z",
     "start_time": "2020-12-09T06:56:29.718Z"
    }
   },
   "outputs": [],
   "source": [
    "history = creator.model.fit(creator.train_data_gen,\n",
    "                            validation_data=(creator.test_data_gen),\n",
    "                            epochs=5000)"
   ]
  },
  {
   "cell_type": "code",
   "execution_count": null,
   "metadata": {
    "ExecuteTime": {
     "end_time": "2020-12-09T06:56:29.775768Z",
     "start_time": "2020-12-09T06:56:29.720Z"
    }
   },
   "outputs": [],
   "source": [
    "creator.predict_r2_scores()\n",
    "creator.display_r2_scores()"
   ]
  },
  {
   "cell_type": "code",
   "execution_count": null,
   "metadata": {
    "ExecuteTime": {
     "end_time": "2020-12-09T06:56:29.775768Z",
     "start_time": "2020-12-09T06:56:29.722Z"
    }
   },
   "outputs": [],
   "source": [
    "df"
   ]
  },
  {
   "cell_type": "code",
   "execution_count": null,
   "metadata": {
    "ExecuteTime": {
     "end_time": "2020-12-09T06:56:29.776768Z",
     "start_time": "2020-12-09T06:56:29.723Z"
    }
   },
   "outputs": [],
   "source": [
    "df = pd.DataFrame(history.history)\n",
    "    \n",
    "fig, ax = plt.subplots(figsize=(15, 6))\n",
    "\n",
    "df.plot(ax=ax)\n",
    "ax.set_title(\"Loss\")"
   ]
  },
  {
   "cell_type": "markdown",
   "metadata": {
    "ExecuteTime": {
     "end_time": "2020-11-24T15:44:59.675856Z",
     "start_time": "2020-11-24T15:44:59.670832Z"
    }
   },
   "source": [
    "> **Future:**\n",
    "> * Cluster on absolute correlation?  take.corr for different symbols\n",
    "> * iteratively add columns,  start with only predicting future price of one stock with all the prices previously of other stocks\n",
    "> * Try w/ without differencing"
   ]
  },
  {
   "cell_type": "code",
   "execution_count": null,
   "metadata": {
    "ExecuteTime": {
     "end_time": "2020-12-09T06:56:29.776768Z",
     "start_time": "2020-12-09T06:56:29.726Z"
    }
   },
   "outputs": [],
   "source": [
    "# RELOAD CUSTOM PACKAGE\n",
    "import importlib\n",
    "from models import create\n",
    "from models import load\n",
    "importlib.reload(create)\n",
    "importlib.reload(load)\n",
    "from models import create\n",
    "from models import load\n",
    "NetworkCreator = create.NetworkCreator\n",
    "NetworkLoader = load.NetworkLoader"
   ]
  },
  {
   "cell_type": "code",
   "execution_count": null,
   "metadata": {},
   "outputs": [],
   "source": []
  },
  {
   "cell_type": "markdown",
   "metadata": {
    "ExecuteTime": {
     "end_time": "2020-12-05T07:33:40.130645Z",
     "start_time": "2020-12-05T07:33:40.123646Z"
    }
   },
   "source": [
    "> **Reference** \n",
    "```python\n",
    "def build_and_fit_model(\n",
    "        self,\n",
    "        input_neurons=64,\n",
    "        input_dropout_rate=0,\n",
    "        input_kwargs={},\n",
    "        input_dropout_kwargs={},\n",
    "        optimizer='adam',\n",
    "        loss='mse',\n",
    "        n_hidden_layers=1,\n",
    "        hidden_layer_activation='relu',\n",
    "        hidden_dropout_rate=.3,\n",
    "        hidden_neurons=64,\n",
    "        hidden_kwargs={},\n",
    "        hidden_dropout_kwargs={},\n",
    "        output_layer_kwargs={},\n",
    "        use_early_stopping=True,\n",
    "        early_stopping_kwargs={},\n",
    "        model_compile_kwargs={},\n",
    "        model_fit_kwargs={},\n",
    "                            ):\n",
    "```\n"
   ]
  }
 ],
 "metadata": {
  "kernelspec": {
   "display_name": "Python 3",
   "language": "python",
   "name": "python3"
  },
  "language_info": {
   "codemirror_mode": {
    "name": "ipython",
    "version": 3
   },
   "file_extension": ".py",
   "mimetype": "text/x-python",
   "name": "python",
   "nbconvert_exporter": "python",
   "pygments_lexer": "ipython3",
   "version": "3.7.9"
  },
  "toc": {
   "base_numbering": 1,
   "nav_menu": {},
   "number_sections": true,
   "sideBar": true,
   "skip_h1_title": false,
   "title_cell": "Table of Contents",
   "title_sidebar": "Contents",
   "toc_cell": true,
   "toc_position": {
    "height": "calc(100% - 180px)",
    "left": "10px",
    "top": "150px",
    "width": "274.006px"
   },
   "toc_section_display": true,
   "toc_window_display": true
  }
 },
 "nbformat": 4,
 "nbformat_minor": 4
}
