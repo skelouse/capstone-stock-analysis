{
 "cells": [
  {
   "cell_type": "markdown",
   "metadata": {
    "toc": true
   },
   "source": [
    "<h1>Table of Contents<span class=\"tocSkip\"></span></h1>\n",
    "<div class=\"toc\"><ul class=\"toc-item\"><li><span><a href=\"#Introduction\" data-toc-modified-id=\"Introduction-1\"><span class=\"toc-item-num\">1&nbsp;&nbsp;</span>Introduction</a></span><ul class=\"toc-item\"><li><span><a href=\"#Style\" data-toc-modified-id=\"Style-1.1\"><span class=\"toc-item-num\">1.1&nbsp;&nbsp;</span>Style</a></span></li></ul></li><li><span><a href=\"#Imports-and-Data\" data-toc-modified-id=\"Imports-and-Data-2\"><span class=\"toc-item-num\">2&nbsp;&nbsp;</span>Imports and Data</a></span><ul class=\"toc-item\"><li><span><a href=\"#Custom-imports\" data-toc-modified-id=\"Custom-imports-2.1\"><span class=\"toc-item-num\">2.1&nbsp;&nbsp;</span>Custom imports</a></span></li><li><span><a href=\"#Import-Data\" data-toc-modified-id=\"Import-Data-2.2\"><span class=\"toc-item-num\">2.2&nbsp;&nbsp;</span>Import Data</a></span></li></ul></li><li><span><a href=\"#Scrubbing\" data-toc-modified-id=\"Scrubbing-3\"><span class=\"toc-item-num\">3&nbsp;&nbsp;</span>Scrubbing</a></span><ul class=\"toc-item\"><li><span><a href=\"#Test-df\" data-toc-modified-id=\"Test-df-3.1\"><span class=\"toc-item-num\">3.1&nbsp;&nbsp;</span>Test df</a></span></li><li><span><a href=\"#Functions\" data-toc-modified-id=\"Functions-3.2\"><span class=\"toc-item-num\">3.2&nbsp;&nbsp;</span>Functions</a></span></li><li><span><a href=\"#Price\" data-toc-modified-id=\"Price-3.3\"><span class=\"toc-item-num\">3.3&nbsp;&nbsp;</span>Price</a></span></li><li><span><a href=\"#Analyst\" data-toc-modified-id=\"Analyst-3.4\"><span class=\"toc-item-num\">3.4&nbsp;&nbsp;</span>Analyst</a></span><ul class=\"toc-item\"><li><span><a href=\"#Checking-for-null-values\" data-toc-modified-id=\"Checking-for-null-values-3.4.1\"><span class=\"toc-item-num\">3.4.1&nbsp;&nbsp;</span>Checking for null values</a></span></li><li><span><a href=\"#Filling-null-values\" data-toc-modified-id=\"Filling-null-values-3.4.2\"><span class=\"toc-item-num\">3.4.2&nbsp;&nbsp;</span>Filling null values</a></span></li><li><span><a href=\"#Length-of-df_analyst\" data-toc-modified-id=\"Length-of-df_analyst-3.4.3\"><span class=\"toc-item-num\">3.4.3&nbsp;&nbsp;</span>Length of df_analyst</a></span></li><li><span><a href=\"#mapping\" data-toc-modified-id=\"mapping-3.4.4\"><span class=\"toc-item-num\">3.4.4&nbsp;&nbsp;</span>mapping</a></span></li><li><span><a href=\"#Convert-object-to-float\" data-toc-modified-id=\"Convert-object-to-float-3.4.5\"><span class=\"toc-item-num\">3.4.5&nbsp;&nbsp;</span>Convert object to float</a></span></li></ul></li><li><span><a href=\"#Company\" data-toc-modified-id=\"Company-3.5\"><span class=\"toc-item-num\">3.5&nbsp;&nbsp;</span>Company</a></span><ul class=\"toc-item\"><li><span><a href=\"#One-Hot-Encode\" data-toc-modified-id=\"One-Hot-Encode-3.5.1\"><span class=\"toc-item-num\">3.5.1&nbsp;&nbsp;</span>One Hot Encode</a></span></li></ul></li><li><span><a href=\"#Splits\" data-toc-modified-id=\"Splits-3.6\"><span class=\"toc-item-num\">3.6&nbsp;&nbsp;</span>Splits</a></span></li><li><span><a href=\"#Performance\" data-toc-modified-id=\"Performance-3.7\"><span class=\"toc-item-num\">3.7&nbsp;&nbsp;</span>Performance</a></span><ul class=\"toc-item\"><li><span><a href=\"#Analyzing-a-stock\" data-toc-modified-id=\"Analyzing-a-stock-3.7.1\"><span class=\"toc-item-num\">3.7.1&nbsp;&nbsp;</span>Analyzing a stock</a></span></li><li><span><a href=\"#Null-Values\" data-toc-modified-id=\"Null-Values-3.7.2\"><span class=\"toc-item-num\">3.7.2&nbsp;&nbsp;</span>Null Values</a></span></li><li><span><a href=\"#Add-Price-to-Performance\" data-toc-modified-id=\"Add-Price-to-Performance-3.7.3\"><span class=\"toc-item-num\">3.7.3&nbsp;&nbsp;</span>Add Price to Performance</a></span></li><li><span><a href=\"#Double-indexing\" data-toc-modified-id=\"Double-indexing-3.7.4\"><span class=\"toc-item-num\">3.7.4&nbsp;&nbsp;</span>Double indexing</a></span></li><li><span><a href=\"#col_to_fill\" data-toc-modified-id=\"col_to_fill-3.7.5\"><span class=\"toc-item-num\">3.7.5&nbsp;&nbsp;</span>col_to_fill</a></span></li><li><span><a href=\"#col_to_fill_then_drop\" data-toc-modified-id=\"col_to_fill_then_drop-3.7.6\"><span class=\"toc-item-num\">3.7.6&nbsp;&nbsp;</span>col_to_fill_then_drop</a></span></li><li><span><a href=\"#Fill-null-ExDividendDate-with-1970-01-01\" data-toc-modified-id=\"Fill-null-ExDividendDate-with-1970-01-01-3.7.7\"><span class=\"toc-item-num\">3.7.7&nbsp;&nbsp;</span>Fill null ExDividendDate with 1970-01-01</a></span></li><li><span><a href=\"#Convert-to-float\" data-toc-modified-id=\"Convert-to-float-3.7.8\"><span class=\"toc-item-num\">3.7.8&nbsp;&nbsp;</span>Convert to float</a></span></li><li><span><a href=\"#Apply-splits\" data-toc-modified-id=\"Apply-splits-3.7.9\"><span class=\"toc-item-num\">3.7.9&nbsp;&nbsp;</span>Apply splits</a></span></li></ul></li><li><span><a href=\"#Performance-Percentiles\" data-toc-modified-id=\"Performance-Percentiles-3.8\"><span class=\"toc-item-num\">3.8&nbsp;&nbsp;</span>Performance Percentiles</a></span><ul class=\"toc-item\"><li><span><a href=\"#Combine-Price\" data-toc-modified-id=\"Combine-Price-3.8.1\"><span class=\"toc-item-num\">3.8.1&nbsp;&nbsp;</span>Combine Price</a></span></li></ul></li></ul></li><li><span><a href=\"#EDA\" data-toc-modified-id=\"EDA-4\"><span class=\"toc-item-num\">4&nbsp;&nbsp;</span>EDA</a></span><ul class=\"toc-item\"><li><span><a href=\"#Head\" data-toc-modified-id=\"Head-4.1\"><span class=\"toc-item-num\">4.1&nbsp;&nbsp;</span>Head</a></span></li><li><span><a href=\"#Describe\" data-toc-modified-id=\"Describe-4.2\"><span class=\"toc-item-num\">4.2&nbsp;&nbsp;</span>Describe</a></span></li><li><span><a href=\"#Info\" data-toc-modified-id=\"Info-4.3\"><span class=\"toc-item-num\">4.3&nbsp;&nbsp;</span>Info</a></span></li><li><span><a href=\"#Other\" data-toc-modified-id=\"Other-4.4\"><span class=\"toc-item-num\">4.4&nbsp;&nbsp;</span>Other</a></span></li></ul></li></ul></div>"
   ]
  },
  {
   "cell_type": "markdown",
   "metadata": {
    "heading_collapsed": true
   },
   "source": [
    "# Introduction"
   ]
  },
  {
   "cell_type": "markdown",
   "metadata": {
    "ExecuteTime": {
     "end_time": "2020-11-15T20:00:48.122478Z",
     "start_time": "2020-11-15T20:00:48.115479Z"
    },
    "heading_collapsed": true,
    "hidden": true
   },
   "source": [
    "## Style"
   ]
  },
  {
   "cell_type": "code",
   "execution_count": 337,
   "metadata": {
    "ExecuteTime": {
     "end_time": "2020-11-18T08:23:21.635292Z",
     "start_time": "2020-11-18T08:23:21.619389Z"
    },
    "hidden": true
   },
   "outputs": [
    {
     "data": {
      "text/html": [
       "<style>.shadowbox {\n",
       "    width: 40em;\n",
       "    border: 1px solid #333;\n",
       "    box-shadow: 8px 8px 5px #444;\n",
       "    padding: 8px 12px;\n",
       "    background-image: linear-gradient(180deg, black, rgb(107, 88, 88));\n",
       "    color: rgba(243, 218, 74, 0.801);\n",
       "    line-height: 25px;\n",
       "    position: static;\n",
       "}\n",
       "\n",
       "h1 {\n",
       "    width: 38em;\n",
       "    border: 1.5px solid #333;\n",
       "    /*box-shadow: 8px 8px 5px #444;*/\n",
       "    padding: 8px 12px;\n",
       "    background-image: linear-gradient(180deg, #fff, rgb(147, 156, 160));\n",
       "    position: static;\n",
       "}\n",
       "\n",
       "h2 {\n",
       "    width: 37em;\n",
       "    border: 1px solid #333;\n",
       "    /*box-shadow: 8px 8px 5px #444;*/\n",
       "    padding: 8px 12px;\n",
       "    background-image: linear-gradient(180deg, #fff, rgb(147, 156, 160));\n",
       "    position: relative;\n",
       "    right: -13px;\n",
       "}\n",
       "\n",
       "h3 {\n",
       "    width: 36em;\n",
       "    border: 0.5px solid #333;\n",
       "    /*box-shadow: 8px 8px 5px #444;*/\n",
       "    padding: 8px 12px;\n",
       "    background-image: linear-gradient(180deg, #fff, rgb(147, 156, 160));\n",
       "    position: relative;\n",
       "    right: -25px;\n",
       "}\n",
       "\n",
       ".shadow {\n",
       "    width: 45em;\n",
       "    box-shadow: 8px 8px 10px #444;\n",
       "    border: 1px solid silver;\n",
       "    margin-top: 2em;\n",
       "    position: relative;\n",
       "    top: -25px\n",
       "}\n",
       "\n",
       ".package_header {\n",
       "    width: 100%;\n",
       "    background-color: #0e2b59;\n",
       "    color: #ffffff;\n",
       "    font-size: 14px;\n",
       "    text-align: center;\n",
       "    padding-top: 8px;\n",
       "    padding-right: 8px;\n",
       "    padding-bottom: 8px;\n",
       "    padding-left: 8px;\n",
       "}\n",
       "\n",
       "blockquote {\n",
       "    border: 1px groove gray;\n",
       "    background-color: rgb(214, 218, 219);\n",
       "}\n",
       "\n",
       "</style>"
      ],
      "text/plain": [
       "<IPython.core.display.HTML object>"
      ]
     },
     "execution_count": 337,
     "metadata": {},
     "output_type": "execute_result"
    }
   ],
   "source": [
    "# import warnings\n",
    "# warnings.filterwarnings('ignore')\n",
    "import matplotlib as mpl\n",
    "mpl.rcParams['axes.titlesize']='xx-large'\n",
    "mpl.rcParams['xtick.labelsize'] = 13\n",
    "mpl.rcParams['ytick.labelsize'] = 13\n",
    "mpl.rcParams['axes.labelsize'] = 16\n",
    "\n",
    "# Styling notebook\n",
    "from IPython.core.display import HTML\n",
    "def css_styling():\n",
    "    styles = open(\"./styles/custom.css\", \"r\").read()\n",
    "    return HTML(styles)\n",
    "css_styling()"
   ]
  },
  {
   "cell_type": "markdown",
   "metadata": {
    "heading_collapsed": true
   },
   "source": [
    "# Imports and Data"
   ]
  },
  {
   "cell_type": "code",
   "execution_count": 2,
   "metadata": {
    "ExecuteTime": {
     "end_time": "2020-11-18T03:17:14.734042Z",
     "start_time": "2020-11-18T03:17:14.721042Z"
    },
    "hidden": true
   },
   "outputs": [],
   "source": [
    "TEST = False\n",
    "USE_GPU = True"
   ]
  },
  {
   "cell_type": "code",
   "execution_count": 3,
   "metadata": {
    "ExecuteTime": {
     "end_time": "2020-11-18T03:17:15.308041Z",
     "start_time": "2020-11-18T03:17:14.736043Z"
    },
    "hidden": true
   },
   "outputs": [],
   "source": [
    "import pandas as pd\n",
    "import numpy as np\n",
    "import matplotlib.pyplot as plt\n",
    "import datetime\n",
    "pd.set_option('display.float_format', lambda x: '%.3f' % x)"
   ]
  },
  {
   "cell_type": "markdown",
   "metadata": {
    "hidden": true
   },
   "source": [
    "## Custom imports"
   ]
  },
  {
   "cell_type": "code",
   "execution_count": 4,
   "metadata": {
    "ExecuteTime": {
     "end_time": "2020-11-18T03:17:16.695116Z",
     "start_time": "2020-11-18T03:17:15.309043Z"
    },
    "hidden": true
   },
   "outputs": [
    {
     "name": "stdout",
     "output_type": "stream",
     "text": [
      "For convinent loading 'from mlframe import MLFrame\n"
     ]
    }
   ],
   "source": [
    "# from db import DataBase\n",
    "# from mlframe import MLFrame\n",
    "\n",
    "import importlib\n",
    "import sys\n",
    "\n",
    "if 'mlframe' in sys.modules:\n",
    "    importlib.reload(sys.modules['mlframe'])\n",
    "    importlib.reload(sys.modules['db'])\n",
    "\n",
    "from db import DataBase\n",
    "from mlframe import MLFrame"
   ]
  },
  {
   "cell_type": "markdown",
   "metadata": {
    "hidden": true
   },
   "source": [
    "## Import Data"
   ]
  },
  {
   "cell_type": "code",
   "execution_count": 5,
   "metadata": {
    "ExecuteTime": {
     "end_time": "2020-11-18T03:17:16.727118Z",
     "start_time": "2020-11-18T03:17:16.696120Z"
    },
    "hidden": true
   },
   "outputs": [
    {
     "data": {
      "text/plain": [
       "<db.db.DataBase at 0x1771795fe88>"
      ]
     },
     "execution_count": 5,
     "metadata": {},
     "output_type": "execute_result"
    }
   ],
   "source": [
    "db = DataBase('stock', 14333, 'localhost')\n",
    "db"
   ]
  },
  {
   "cell_type": "code",
   "execution_count": 6,
   "metadata": {
    "ExecuteTime": {
     "end_time": "2020-11-18T03:17:16.743117Z",
     "start_time": "2020-11-18T03:17:16.729118Z"
    },
    "hidden": true
   },
   "outputs": [
    {
     "data": {
      "text/plain": [
       "(('analyst',),\n",
       " ('analystranking',),\n",
       " ('company',),\n",
       " ('performance',),\n",
       " ('performancepercentiles',),\n",
       " ('prices',),\n",
       " ('splits',),\n",
       " ('temp',))"
      ]
     },
     "execution_count": 6,
     "metadata": {},
     "output_type": "execute_result"
    }
   ],
   "source": [
    "query = \"\"\"\n",
    "SHOW TABLES\n",
    "\"\"\"\n",
    "db.cur.execute(query)\n",
    "tables = db.cur.fetchall()\n",
    "tables"
   ]
  },
  {
   "cell_type": "code",
   "execution_count": 7,
   "metadata": {
    "ExecuteTime": {
     "end_time": "2020-11-18T03:17:16.759117Z",
     "start_time": "2020-11-18T03:17:16.745124Z"
    },
    "hidden": true
   },
   "outputs": [
    {
     "data": {
      "text/plain": [
       "['analyst',\n",
       " 'analystranking',\n",
       " 'company',\n",
       " 'performance',\n",
       " 'performancepercentiles',\n",
       " 'prices',\n",
       " 'splits',\n",
       " 'temp']"
      ]
     },
     "execution_count": 7,
     "metadata": {},
     "output_type": "execute_result"
    }
   ],
   "source": [
    "db_names = list(table[0] for table in tables)\n",
    "db_names"
   ]
  },
  {
   "cell_type": "code",
   "execution_count": 8,
   "metadata": {
    "ExecuteTime": {
     "end_time": "2020-11-18T03:18:31.271536Z",
     "start_time": "2020-11-18T03:17:16.761118Z"
    },
    "hidden": true
   },
   "outputs": [],
   "source": [
    "db.pull_names_as_dataframes(db_names)"
   ]
  },
  {
   "cell_type": "markdown",
   "metadata": {},
   "source": [
    "# Scrubbing"
   ]
  },
  {
   "cell_type": "markdown",
   "metadata": {},
   "source": [
    "## Test df"
   ]
  },
  {
   "cell_type": "code",
   "execution_count": 9,
   "metadata": {
    "ExecuteTime": {
     "end_time": "2020-11-18T03:18:31.287537Z",
     "start_time": "2020-11-18T03:18:31.273543Z"
    }
   },
   "outputs": [],
   "source": [
    "test_dict = {'sym': {2: 'A', 3: 'A', 4: 'A', 5: 'A', 6: 'A'},\n",
    " 'date': {2: datetime.date(2019, 6, 4),\n",
    "  3: datetime.date(2019, 6, 8),\n",
    "  4: datetime.date(2019, 6, 17),\n",
    "  5: datetime.date(2019, 6, 19),\n",
    "  6: datetime.date(2019, 6, 20)},\n",
    " 'Argus': {2: '', 3: '', 4: '', 5: '', 6: ''},\n",
    " 'StarMine': {2: '', 3: '', 4: '9.4', 5\n",
    "              : '9.4', 6: '7'},\n",
    " 'ColumbineCapital': {2: '1', 3: '1', 4: '1', 5: '1', 6: '1'},\n",
    " 'FordEquityResearch': {2: '3', 3: '3', 4: '3', 5: '3', 6: '3'},\n",
    " 'ISSEVA': {2: '70', 3: '70', 4: '70', 5: '70', 6: '70'},\n",
    " 'Jefferson': {2: 'Buy', 3: 'Buy', 4: '1', 5: '1', 6: '1'},\n",
    " 'McLeanCapital': {2: 'Neutral', 3: 'Neutral', 4: '3', 5: '3', 6: '3'},\n",
    " 'NedDavis': {2: 'NEUTRAL',\n",
    "  3: 'NEUTRAL',\n",
    "  4: 'NEUTRAL',\n",
    "  5: 'NEUTRAL',\n",
    "  6: 'NEUTRAL'},\n",
    " 'TradingCentral': {2: '--', 3: '--', 4: '3', 5: '3', 6: '3'},\n",
    " 'Zacks': {2: 'HOLD', 3: 'BUY', 4: 'BUY', 5: 'HOLD', 6: 'HOLD'},\n",
    " 'SPValuation': {2: '92', 3: '93', 4: '93', 5: '93', 6: '93'},\n",
    " 'SPQuality': {2: '75', 3: '74', 4: '74', 5: '75', 6: '75'},\n",
    " 'SPGrowthStability': {2: '7', 3: '6', 4: '7', 5: '7', 6: '7'},\n",
    " 'SPFinancialHealth': {2: '85', 3: '85', 4: '85', 5: '85', 6: '85'},\n",
    " 'ThomsonReutersVerus': {2: 'HOLD',\n",
    "  3: 'HOLD',\n",
    "  4: 'HOLD',\n",
    "  5: 'HOLD',\n",
    "  6: 'HOLD'},\n",
    " 'ThomsonReutersIBES': {2: '1.714',\n",
    "  3: '1.8',\n",
    "  4: '1.813',\n",
    "  5: '1.813',\n",
    "  6: '1.813'}}"
   ]
  },
  {
   "cell_type": "code",
   "execution_count": 10,
   "metadata": {
    "ExecuteTime": {
     "end_time": "2020-11-18T03:18:31.319536Z",
     "start_time": "2020-11-18T03:18:31.289541Z"
    }
   },
   "outputs": [
    {
     "data": {
      "text/html": [
       "<div>\n",
       "<style scoped>\n",
       "    .dataframe tbody tr th:only-of-type {\n",
       "        vertical-align: middle;\n",
       "    }\n",
       "\n",
       "    .dataframe tbody tr th {\n",
       "        vertical-align: top;\n",
       "    }\n",
       "\n",
       "    .dataframe thead th {\n",
       "        text-align: right;\n",
       "    }\n",
       "</style>\n",
       "<table border=\"1\" class=\"dataframe\">\n",
       "  <thead>\n",
       "    <tr style=\"text-align: right;\">\n",
       "      <th></th>\n",
       "      <th>sym</th>\n",
       "      <th>date</th>\n",
       "      <th>Argus</th>\n",
       "      <th>StarMine</th>\n",
       "      <th>ColumbineCapital</th>\n",
       "      <th>FordEquityResearch</th>\n",
       "      <th>ISSEVA</th>\n",
       "      <th>Jefferson</th>\n",
       "      <th>McLeanCapital</th>\n",
       "      <th>NedDavis</th>\n",
       "      <th>TradingCentral</th>\n",
       "      <th>Zacks</th>\n",
       "      <th>SPValuation</th>\n",
       "      <th>SPQuality</th>\n",
       "      <th>SPGrowthStability</th>\n",
       "      <th>SPFinancialHealth</th>\n",
       "      <th>ThomsonReutersVerus</th>\n",
       "      <th>ThomsonReutersIBES</th>\n",
       "    </tr>\n",
       "  </thead>\n",
       "  <tbody>\n",
       "    <tr>\n",
       "      <th>2</th>\n",
       "      <td>A</td>\n",
       "      <td>2019-06-04</td>\n",
       "      <td></td>\n",
       "      <td></td>\n",
       "      <td>1</td>\n",
       "      <td>3</td>\n",
       "      <td>70</td>\n",
       "      <td>Buy</td>\n",
       "      <td>Neutral</td>\n",
       "      <td>NEUTRAL</td>\n",
       "      <td>--</td>\n",
       "      <td>HOLD</td>\n",
       "      <td>92</td>\n",
       "      <td>75</td>\n",
       "      <td>7</td>\n",
       "      <td>85</td>\n",
       "      <td>HOLD</td>\n",
       "      <td>1.714</td>\n",
       "    </tr>\n",
       "    <tr>\n",
       "      <th>3</th>\n",
       "      <td>A</td>\n",
       "      <td>2019-06-08</td>\n",
       "      <td></td>\n",
       "      <td></td>\n",
       "      <td>1</td>\n",
       "      <td>3</td>\n",
       "      <td>70</td>\n",
       "      <td>Buy</td>\n",
       "      <td>Neutral</td>\n",
       "      <td>NEUTRAL</td>\n",
       "      <td>--</td>\n",
       "      <td>BUY</td>\n",
       "      <td>93</td>\n",
       "      <td>74</td>\n",
       "      <td>6</td>\n",
       "      <td>85</td>\n",
       "      <td>HOLD</td>\n",
       "      <td>1.8</td>\n",
       "    </tr>\n",
       "    <tr>\n",
       "      <th>4</th>\n",
       "      <td>A</td>\n",
       "      <td>2019-06-17</td>\n",
       "      <td></td>\n",
       "      <td>9.4</td>\n",
       "      <td>1</td>\n",
       "      <td>3</td>\n",
       "      <td>70</td>\n",
       "      <td>1</td>\n",
       "      <td>3</td>\n",
       "      <td>NEUTRAL</td>\n",
       "      <td>3</td>\n",
       "      <td>BUY</td>\n",
       "      <td>93</td>\n",
       "      <td>74</td>\n",
       "      <td>7</td>\n",
       "      <td>85</td>\n",
       "      <td>HOLD</td>\n",
       "      <td>1.813</td>\n",
       "    </tr>\n",
       "    <tr>\n",
       "      <th>5</th>\n",
       "      <td>A</td>\n",
       "      <td>2019-06-19</td>\n",
       "      <td></td>\n",
       "      <td>9.4</td>\n",
       "      <td>1</td>\n",
       "      <td>3</td>\n",
       "      <td>70</td>\n",
       "      <td>1</td>\n",
       "      <td>3</td>\n",
       "      <td>NEUTRAL</td>\n",
       "      <td>3</td>\n",
       "      <td>HOLD</td>\n",
       "      <td>93</td>\n",
       "      <td>75</td>\n",
       "      <td>7</td>\n",
       "      <td>85</td>\n",
       "      <td>HOLD</td>\n",
       "      <td>1.813</td>\n",
       "    </tr>\n",
       "    <tr>\n",
       "      <th>6</th>\n",
       "      <td>A</td>\n",
       "      <td>2019-06-20</td>\n",
       "      <td></td>\n",
       "      <td>7</td>\n",
       "      <td>1</td>\n",
       "      <td>3</td>\n",
       "      <td>70</td>\n",
       "      <td>1</td>\n",
       "      <td>3</td>\n",
       "      <td>NEUTRAL</td>\n",
       "      <td>3</td>\n",
       "      <td>HOLD</td>\n",
       "      <td>93</td>\n",
       "      <td>75</td>\n",
       "      <td>7</td>\n",
       "      <td>85</td>\n",
       "      <td>HOLD</td>\n",
       "      <td>1.813</td>\n",
       "    </tr>\n",
       "  </tbody>\n",
       "</table>\n",
       "</div>"
      ],
      "text/plain": [
       "  sym        date Argus StarMine ColumbineCapital FordEquityResearch ISSEVA  \\\n",
       "2   A  2019-06-04                               1                  3     70   \n",
       "3   A  2019-06-08                               1                  3     70   \n",
       "4   A  2019-06-17            9.4                1                  3     70   \n",
       "5   A  2019-06-19            9.4                1                  3     70   \n",
       "6   A  2019-06-20              7                1                  3     70   \n",
       "\n",
       "  Jefferson McLeanCapital NedDavis TradingCentral Zacks SPValuation SPQuality  \\\n",
       "2       Buy       Neutral  NEUTRAL             --  HOLD          92        75   \n",
       "3       Buy       Neutral  NEUTRAL             --   BUY          93        74   \n",
       "4         1             3  NEUTRAL              3   BUY          93        74   \n",
       "5         1             3  NEUTRAL              3  HOLD          93        75   \n",
       "6         1             3  NEUTRAL              3  HOLD          93        75   \n",
       "\n",
       "  SPGrowthStability SPFinancialHealth ThomsonReutersVerus ThomsonReutersIBES  \n",
       "2                 7                85                HOLD              1.714  \n",
       "3                 6                85                HOLD                1.8  \n",
       "4                 7                85                HOLD              1.813  \n",
       "5                 7                85                HOLD              1.813  \n",
       "6                 7                85                HOLD              1.813  "
      ]
     },
     "execution_count": 10,
     "metadata": {},
     "output_type": "execute_result"
    }
   ],
   "source": [
    "test_df = pd.DataFrame(test_dict)\n",
    "test_df.head()"
   ]
  },
  {
   "cell_type": "markdown",
   "metadata": {},
   "source": [
    "## Functions"
   ]
  },
  {
   "cell_type": "code",
   "execution_count": 11,
   "metadata": {
    "ExecuteTime": {
     "end_time": "2020-11-18T03:18:31.335536Z",
     "start_time": "2020-11-18T03:18:31.320542Z"
    }
   },
   "outputs": [],
   "source": [
    "def get_perc_not_null(df):\n",
    "    nulls = df.isna().sum()\n",
    "    return pd.Series(1 - nulls/len(df)).sort_values() * 100"
   ]
  },
  {
   "cell_type": "markdown",
   "metadata": {},
   "source": [
    ">Query to find how many stocks have a null value in any of these columns\n",
    "> * loc the rows that have any nulls in the given columns\n",
    "> * reset the index to 0-x\n",
    "> * get 'sym' series\n",
    "> * get the number of unique values"
   ]
  },
  {
   "cell_type": "code",
   "execution_count": 12,
   "metadata": {
    "ExecuteTime": {
     "end_time": "2020-11-18T03:18:31.351536Z",
     "start_time": "2020-11-18T03:18:31.336539Z"
    }
   },
   "outputs": [],
   "source": [
    "def check_quantity_stocks_null_in_columns(df, cols):\n",
    "    return df.loc[df[cols].isna().transpose().any()].reset_index()['sym'].nunique()"
   ]
  },
  {
   "cell_type": "code",
   "execution_count": 13,
   "metadata": {
    "ExecuteTime": {
     "end_time": "2020-11-18T03:18:31.366539Z",
     "start_time": "2020-11-18T03:18:31.353538Z"
    }
   },
   "outputs": [],
   "source": [
    "def try_replace(x):\n",
    "    try:\n",
    "        x = x.replace(',', '')\n",
    "        return x\n",
    "    except Exception:\n",
    "        return x"
   ]
  },
  {
   "cell_type": "markdown",
   "metadata": {},
   "source": [
    "## Price\n",
    "> Will be added to performance"
   ]
  },
  {
   "cell_type": "code",
   "execution_count": 14,
   "metadata": {
    "ExecuteTime": {
     "end_time": "2020-11-18T03:18:31.669539Z",
     "start_time": "2020-11-18T03:18:31.368538Z"
    }
   },
   "outputs": [
    {
     "data": {
      "text/html": [
       "<div>\n",
       "<style scoped>\n",
       "    .dataframe tbody tr th:only-of-type {\n",
       "        vertical-align: middle;\n",
       "    }\n",
       "\n",
       "    .dataframe tbody tr th {\n",
       "        vertical-align: top;\n",
       "    }\n",
       "\n",
       "    .dataframe thead th {\n",
       "        text-align: right;\n",
       "    }\n",
       "</style>\n",
       "<table border=\"1\" class=\"dataframe\">\n",
       "  <thead>\n",
       "    <tr style=\"text-align: right;\">\n",
       "      <th></th>\n",
       "      <th>sym</th>\n",
       "      <th>price</th>\n",
       "    </tr>\n",
       "    <tr>\n",
       "      <th>date</th>\n",
       "      <th></th>\n",
       "      <th></th>\n",
       "    </tr>\n",
       "  </thead>\n",
       "  <tbody>\n",
       "    <tr>\n",
       "      <th>2019-06-04</th>\n",
       "      <td>A</td>\n",
       "      <td>67.950000</td>\n",
       "    </tr>\n",
       "    <tr>\n",
       "      <th>2019-06-08</th>\n",
       "      <td>A</td>\n",
       "      <td>69.520000</td>\n",
       "    </tr>\n",
       "    <tr>\n",
       "      <th>2019-06-17</th>\n",
       "      <td>A</td>\n",
       "      <td>70.290000</td>\n",
       "    </tr>\n",
       "    <tr>\n",
       "      <th>2019-06-19</th>\n",
       "      <td>A</td>\n",
       "      <td>71.910000</td>\n",
       "    </tr>\n",
       "    <tr>\n",
       "      <th>2019-06-20</th>\n",
       "      <td>A</td>\n",
       "      <td>73.320000</td>\n",
       "    </tr>\n",
       "  </tbody>\n",
       "</table>\n",
       "</div>"
      ],
      "text/plain": [
       "           sym      price\n",
       "date                     \n",
       "2019-06-04   A  67.950000\n",
       "2019-06-08   A  69.520000\n",
       "2019-06-17   A  70.290000\n",
       "2019-06-19   A  71.910000\n",
       "2019-06-20   A  73.320000"
      ]
     },
     "execution_count": 14,
     "metadata": {},
     "output_type": "execute_result"
    }
   ],
   "source": [
    "# Cleaning first blank row\n",
    "df_prices = db.frames['prices'].copy(deep=True).drop(0)\n",
    "\n",
    "# Resetting date index and dropping index\n",
    "df_prices.set_index('date', inplace=True, drop=True)\n",
    "\n",
    "df_prices.head()"
   ]
  },
  {
   "cell_type": "code",
   "execution_count": 15,
   "metadata": {
    "ExecuteTime": {
     "end_time": "2020-11-18T03:18:31.827536Z",
     "start_time": "2020-11-18T03:18:31.670542Z"
    }
   },
   "outputs": [
    {
     "data": {
      "text/plain": [
       "sym      0\n",
       "price    0\n",
       "dtype: int64"
      ]
     },
     "execution_count": 15,
     "metadata": {},
     "output_type": "execute_result"
    }
   ],
   "source": [
    "df_prices.isna().sum()"
   ]
  },
  {
   "cell_type": "markdown",
   "metadata": {},
   "source": [
    "## Analyst"
   ]
  },
  {
   "cell_type": "code",
   "execution_count": 16,
   "metadata": {
    "ExecuteTime": {
     "end_time": "2020-11-18T03:18:33.969582Z",
     "start_time": "2020-11-18T03:18:31.829537Z"
    }
   },
   "outputs": [
    {
     "data": {
      "text/html": [
       "<div>\n",
       "<style scoped>\n",
       "    .dataframe tbody tr th:only-of-type {\n",
       "        vertical-align: middle;\n",
       "    }\n",
       "\n",
       "    .dataframe tbody tr th {\n",
       "        vertical-align: top;\n",
       "    }\n",
       "\n",
       "    .dataframe thead th {\n",
       "        text-align: right;\n",
       "    }\n",
       "</style>\n",
       "<table border=\"1\" class=\"dataframe\">\n",
       "  <thead>\n",
       "    <tr style=\"text-align: right;\">\n",
       "      <th></th>\n",
       "      <th>sym</th>\n",
       "      <th>Argus</th>\n",
       "      <th>StarMine</th>\n",
       "      <th>ColumbineCapital</th>\n",
       "      <th>FordEquityResearch</th>\n",
       "      <th>ISSEVA</th>\n",
       "      <th>Jefferson</th>\n",
       "      <th>McLeanCapital</th>\n",
       "      <th>NedDavis</th>\n",
       "      <th>TradingCentral</th>\n",
       "      <th>Zacks</th>\n",
       "      <th>SPValuation</th>\n",
       "      <th>SPQuality</th>\n",
       "      <th>SPGrowthStability</th>\n",
       "      <th>SPFinancialHealth</th>\n",
       "      <th>ThomsonReutersVerus</th>\n",
       "      <th>ThomsonReutersIBES</th>\n",
       "    </tr>\n",
       "    <tr>\n",
       "      <th>date</th>\n",
       "      <th></th>\n",
       "      <th></th>\n",
       "      <th></th>\n",
       "      <th></th>\n",
       "      <th></th>\n",
       "      <th></th>\n",
       "      <th></th>\n",
       "      <th></th>\n",
       "      <th></th>\n",
       "      <th></th>\n",
       "      <th></th>\n",
       "      <th></th>\n",
       "      <th></th>\n",
       "      <th></th>\n",
       "      <th></th>\n",
       "      <th></th>\n",
       "      <th></th>\n",
       "    </tr>\n",
       "  </thead>\n",
       "  <tbody>\n",
       "    <tr>\n",
       "      <th>2019-06-04</th>\n",
       "      <td>A</td>\n",
       "      <td></td>\n",
       "      <td></td>\n",
       "      <td>1</td>\n",
       "      <td>3</td>\n",
       "      <td>70</td>\n",
       "      <td>Buy</td>\n",
       "      <td>Neutral</td>\n",
       "      <td>NEUTRAL</td>\n",
       "      <td>--</td>\n",
       "      <td>HOLD</td>\n",
       "      <td>92</td>\n",
       "      <td>75</td>\n",
       "      <td>7</td>\n",
       "      <td>85</td>\n",
       "      <td>HOLD</td>\n",
       "      <td>1.714</td>\n",
       "    </tr>\n",
       "    <tr>\n",
       "      <th>2019-06-08</th>\n",
       "      <td>A</td>\n",
       "      <td></td>\n",
       "      <td></td>\n",
       "      <td>1</td>\n",
       "      <td>3</td>\n",
       "      <td>70</td>\n",
       "      <td>Buy</td>\n",
       "      <td>Neutral</td>\n",
       "      <td>NEUTRAL</td>\n",
       "      <td>--</td>\n",
       "      <td>BUY</td>\n",
       "      <td>93</td>\n",
       "      <td>74</td>\n",
       "      <td>6</td>\n",
       "      <td>85</td>\n",
       "      <td>HOLD</td>\n",
       "      <td>1.8</td>\n",
       "    </tr>\n",
       "    <tr>\n",
       "      <th>2019-06-17</th>\n",
       "      <td>A</td>\n",
       "      <td></td>\n",
       "      <td>9.4</td>\n",
       "      <td>1</td>\n",
       "      <td>3</td>\n",
       "      <td>70</td>\n",
       "      <td>1</td>\n",
       "      <td>3</td>\n",
       "      <td>NEUTRAL</td>\n",
       "      <td>3</td>\n",
       "      <td>BUY</td>\n",
       "      <td>93</td>\n",
       "      <td>74</td>\n",
       "      <td>7</td>\n",
       "      <td>85</td>\n",
       "      <td>HOLD</td>\n",
       "      <td>1.813</td>\n",
       "    </tr>\n",
       "    <tr>\n",
       "      <th>2019-06-19</th>\n",
       "      <td>A</td>\n",
       "      <td></td>\n",
       "      <td>9.4</td>\n",
       "      <td>1</td>\n",
       "      <td>3</td>\n",
       "      <td>70</td>\n",
       "      <td>1</td>\n",
       "      <td>3</td>\n",
       "      <td>NEUTRAL</td>\n",
       "      <td>3</td>\n",
       "      <td>HOLD</td>\n",
       "      <td>93</td>\n",
       "      <td>75</td>\n",
       "      <td>7</td>\n",
       "      <td>85</td>\n",
       "      <td>HOLD</td>\n",
       "      <td>1.813</td>\n",
       "    </tr>\n",
       "    <tr>\n",
       "      <th>2019-06-20</th>\n",
       "      <td>A</td>\n",
       "      <td></td>\n",
       "      <td>7</td>\n",
       "      <td>1</td>\n",
       "      <td>3</td>\n",
       "      <td>70</td>\n",
       "      <td>1</td>\n",
       "      <td>3</td>\n",
       "      <td>NEUTRAL</td>\n",
       "      <td>3</td>\n",
       "      <td>HOLD</td>\n",
       "      <td>93</td>\n",
       "      <td>75</td>\n",
       "      <td>7</td>\n",
       "      <td>85</td>\n",
       "      <td>HOLD</td>\n",
       "      <td>1.813</td>\n",
       "    </tr>\n",
       "  </tbody>\n",
       "</table>\n",
       "</div>"
      ],
      "text/plain": [
       "           sym Argus StarMine ColumbineCapital FordEquityResearch ISSEVA  \\\n",
       "date                                                                       \n",
       "2019-06-04   A                               1                  3     70   \n",
       "2019-06-08   A                               1                  3     70   \n",
       "2019-06-17   A            9.4                1                  3     70   \n",
       "2019-06-19   A            9.4                1                  3     70   \n",
       "2019-06-20   A              7                1                  3     70   \n",
       "\n",
       "           Jefferson McLeanCapital NedDavis TradingCentral Zacks SPValuation  \\\n",
       "date                                                                           \n",
       "2019-06-04       Buy       Neutral  NEUTRAL             --  HOLD          92   \n",
       "2019-06-08       Buy       Neutral  NEUTRAL             --   BUY          93   \n",
       "2019-06-17         1             3  NEUTRAL              3   BUY          93   \n",
       "2019-06-19         1             3  NEUTRAL              3  HOLD          93   \n",
       "2019-06-20         1             3  NEUTRAL              3  HOLD          93   \n",
       "\n",
       "           SPQuality SPGrowthStability SPFinancialHealth ThomsonReutersVerus  \\\n",
       "date                                                                           \n",
       "2019-06-04        75                 7                85                HOLD   \n",
       "2019-06-08        74                 6                85                HOLD   \n",
       "2019-06-17        74                 7                85                HOLD   \n",
       "2019-06-19        75                 7                85                HOLD   \n",
       "2019-06-20        75                 7                85                HOLD   \n",
       "\n",
       "           ThomsonReutersIBES  \n",
       "date                           \n",
       "2019-06-04              1.714  \n",
       "2019-06-08                1.8  \n",
       "2019-06-17              1.813  \n",
       "2019-06-19              1.813  \n",
       "2019-06-20              1.813  "
      ]
     },
     "execution_count": 16,
     "metadata": {},
     "output_type": "execute_result"
    }
   ],
   "source": [
    "# Cleaning first two blank rows\n",
    "df_analyst = db.frames['analyst'].copy(deep=True).drop([0, 1])\n",
    "\n",
    "# Resetting date index and dropping index\n",
    "df_analyst.set_index('date', inplace=True, drop=True)\n",
    "\n",
    "# Dropping null date values\n",
    "df_analyst = df_analyst.loc[df_analyst.index.notnull()]\n",
    "\n",
    "df_analyst.head()"
   ]
  },
  {
   "cell_type": "code",
   "execution_count": 17,
   "metadata": {
    "ExecuteTime": {
     "end_time": "2020-11-18T03:18:35.620887Z",
     "start_time": "2020-11-18T03:18:33.970583Z"
    }
   },
   "outputs": [],
   "source": [
    "df_analyst.replace(['', '--'], np.NaN, inplace=True)"
   ]
  },
  {
   "cell_type": "markdown",
   "metadata": {},
   "source": [
    "### Checking for null values"
   ]
  },
  {
   "cell_type": "code",
   "execution_count": 18,
   "metadata": {
    "ExecuteTime": {
     "end_time": "2020-11-18T03:18:37.011877Z",
     "start_time": "2020-11-18T03:18:35.621887Z"
    }
   },
   "outputs": [
    {
     "data": {
      "text/plain": [
       "Argus                   7.731\n",
       "NedDavis               14.365\n",
       "TradingCentral         22.200\n",
       "McLeanCapital          37.580\n",
       "Jefferson              37.611\n",
       "ColumbineCapital       47.071\n",
       "ISSEVA                 52.943\n",
       "StarMine               56.662\n",
       "FordEquityResearch     57.875\n",
       "Zacks                  60.053\n",
       "ThomsonReutersIBES     66.188\n",
       "ThomsonReutersVerus    67.532\n",
       "SPFinancialHealth      68.669\n",
       "SPQuality              71.977\n",
       "SPGrowthStability      72.126\n",
       "SPValuation            72.192\n",
       "sym                   100.000\n",
       "dtype: float64"
      ]
     },
     "execution_count": 18,
     "metadata": {},
     "output_type": "execute_result"
    }
   ],
   "source": [
    "get_perc_not_null(df_analyst)"
   ]
  },
  {
   "cell_type": "markdown",
   "metadata": {},
   "source": [
    "> Here you can see the percentage of a column that is not null, Argus is in less than one percent of the data.  We will need to convene a method to deal with the null values.\n",
    "\n",
    ">  The method for filling null values will be a front fill, and a 0 based back fill grouped by stock.  For example if a stock has not been rated by a company at all it will be continuously 0, and if that analyst suddenly rating a stock after no having rated it is significant an algorithm should pick up on that.\n",
    "> * Example below:"
   ]
  },
  {
   "cell_type": "code",
   "execution_count": 19,
   "metadata": {
    "ExecuteTime": {
     "end_time": "2020-11-18T03:18:37.725272Z",
     "start_time": "2020-11-18T03:18:37.012943Z"
    }
   },
   "outputs": [
    {
     "data": {
      "text/plain": [
       "date\n",
       "2019-06-04      1\n",
       "2019-06-08      1\n",
       "2019-06-17      1\n",
       "2019-06-19      1\n",
       "2019-06-20      1\n",
       "             ... \n",
       "2020-11-02    NaN\n",
       "2020-11-03    NaN\n",
       "2020-11-04    NaN\n",
       "2020-11-05    NaN\n",
       "2020-11-06    NaN\n",
       "Name: ColumbineCapital, Length: 361, dtype: object"
      ]
     },
     "execution_count": 19,
     "metadata": {},
     "output_type": "execute_result"
    }
   ],
   "source": [
    "df_analyst.loc[df_analyst['sym'] == 'BBU']['ColumbineCapital']"
   ]
  },
  {
   "cell_type": "markdown",
   "metadata": {},
   "source": [
    "> As you can see the beginning values are 1 and the end values are NaN.  If there were values missed in between two days we wouldn't want it to go from 5 to 0 back to 5 so we will be filling the in between and end NaNs with the previous rating, and the starting NaNs with 0."
   ]
  },
  {
   "cell_type": "code",
   "execution_count": 20,
   "metadata": {
    "ExecuteTime": {
     "end_time": "2020-11-18T03:18:37.740303Z",
     "start_time": "2020-11-18T03:18:37.727263Z"
    }
   },
   "outputs": [
    {
     "data": {
      "text/html": [
       "<div>\n",
       "<style scoped>\n",
       "    .dataframe tbody tr th:only-of-type {\n",
       "        vertical-align: middle;\n",
       "    }\n",
       "\n",
       "    .dataframe tbody tr th {\n",
       "        vertical-align: top;\n",
       "    }\n",
       "\n",
       "    .dataframe thead th {\n",
       "        text-align: right;\n",
       "    }\n",
       "</style>\n",
       "<table border=\"1\" class=\"dataframe\">\n",
       "  <thead>\n",
       "    <tr style=\"text-align: right;\">\n",
       "      <th></th>\n",
       "      <th>sym</th>\n",
       "      <th>random_analyst</th>\n",
       "      <th>randon_analyst2</th>\n",
       "    </tr>\n",
       "  </thead>\n",
       "  <tbody>\n",
       "    <tr>\n",
       "      <th>0</th>\n",
       "      <td>a</td>\n",
       "      <td>nan</td>\n",
       "      <td>3</td>\n",
       "    </tr>\n",
       "    <tr>\n",
       "      <th>1</th>\n",
       "      <td>a</td>\n",
       "      <td>nan</td>\n",
       "      <td>4</td>\n",
       "    </tr>\n",
       "    <tr>\n",
       "      <th>2</th>\n",
       "      <td>a</td>\n",
       "      <td>3.000</td>\n",
       "      <td>8</td>\n",
       "    </tr>\n",
       "    <tr>\n",
       "      <th>3</th>\n",
       "      <td>a</td>\n",
       "      <td>nan</td>\n",
       "      <td>6</td>\n",
       "    </tr>\n",
       "    <tr>\n",
       "      <th>4</th>\n",
       "      <td>a</td>\n",
       "      <td>5.000</td>\n",
       "      <td>5</td>\n",
       "    </tr>\n",
       "  </tbody>\n",
       "</table>\n",
       "</div>"
      ],
      "text/plain": [
       "  sym  random_analyst  randon_analyst2\n",
       "0   a             nan                3\n",
       "1   a             nan                4\n",
       "2   a           3.000                8\n",
       "3   a             nan                6\n",
       "4   a           5.000                5"
      ]
     },
     "metadata": {},
     "output_type": "display_data"
    },
    {
     "data": {
      "text/html": [
       "<div>\n",
       "<style scoped>\n",
       "    .dataframe tbody tr th:only-of-type {\n",
       "        vertical-align: middle;\n",
       "    }\n",
       "\n",
       "    .dataframe tbody tr th {\n",
       "        vertical-align: top;\n",
       "    }\n",
       "\n",
       "    .dataframe thead th {\n",
       "        text-align: right;\n",
       "    }\n",
       "</style>\n",
       "<table border=\"1\" class=\"dataframe\">\n",
       "  <thead>\n",
       "    <tr style=\"text-align: right;\">\n",
       "      <th></th>\n",
       "      <th>sym</th>\n",
       "      <th>random_analyst</th>\n",
       "      <th>randon_analyst2</th>\n",
       "    </tr>\n",
       "  </thead>\n",
       "  <tbody>\n",
       "    <tr>\n",
       "      <th>0</th>\n",
       "      <td>a</td>\n",
       "      <td>0.000</td>\n",
       "      <td>3</td>\n",
       "    </tr>\n",
       "    <tr>\n",
       "      <th>1</th>\n",
       "      <td>a</td>\n",
       "      <td>0.000</td>\n",
       "      <td>4</td>\n",
       "    </tr>\n",
       "    <tr>\n",
       "      <th>2</th>\n",
       "      <td>a</td>\n",
       "      <td>3.000</td>\n",
       "      <td>8</td>\n",
       "    </tr>\n",
       "    <tr>\n",
       "      <th>3</th>\n",
       "      <td>a</td>\n",
       "      <td>3.000</td>\n",
       "      <td>6</td>\n",
       "    </tr>\n",
       "    <tr>\n",
       "      <th>4</th>\n",
       "      <td>a</td>\n",
       "      <td>5.000</td>\n",
       "      <td>5</td>\n",
       "    </tr>\n",
       "  </tbody>\n",
       "</table>\n",
       "</div>"
      ],
      "text/plain": [
       "  sym  random_analyst  randon_analyst2\n",
       "0   a           0.000                3\n",
       "1   a           0.000                4\n",
       "2   a           3.000                8\n",
       "3   a           3.000                6\n",
       "4   a           5.000                5"
      ]
     },
     "execution_count": 20,
     "metadata": {},
     "output_type": "execute_result"
    }
   ],
   "source": [
    "test_fill_na_dict = {\n",
    "    'sym': ['a', 'a', 'a', 'a', 'a'],\n",
    "    'random_analyst': [np.NaN, np.NaN, 3, np.NaN, 5],\n",
    "    'randon_analyst2': [3, 4, 8, 6, 5],\n",
    "}\n",
    "\n",
    "test_df2 = pd.DataFrame(test_fill_na_dict)\n",
    "display(test_df2.head())\n",
    "\n",
    "test_df2.fillna(method='ffill').fillna(0)"
   ]
  },
  {
   "cell_type": "markdown",
   "metadata": {},
   "source": [
    "<div class=\"alert alert-info shadow\">\n",
    "  The <strong>fillna(method=\"ffill\").fillna(0)</strong> does exactly that by first filling nulls with the front value, and then the second fillna fills the rest of the nulls with 0.  We will now use it on the entire dataframe.\n",
    "</div>"
   ]
  },
  {
   "cell_type": "markdown",
   "metadata": {},
   "source": [
    "### Filling null values"
   ]
  },
  {
   "cell_type": "code",
   "execution_count": 21,
   "metadata": {
    "ExecuteTime": {
     "end_time": "2020-11-18T03:18:41.500050Z",
     "start_time": "2020-11-18T03:18:37.740303Z"
    }
   },
   "outputs": [],
   "source": [
    "df_analyst = df_analyst.fillna(method='ffill').fillna(0)"
   ]
  },
  {
   "cell_type": "code",
   "execution_count": 22,
   "metadata": {
    "ExecuteTime": {
     "end_time": "2020-11-18T03:18:42.395324Z",
     "start_time": "2020-11-18T03:18:41.501034Z"
    }
   },
   "outputs": [
    {
     "data": {
      "text/plain": [
       "date\n",
       "2019-06-04    1\n",
       "2019-06-08    1\n",
       "2019-06-17    1\n",
       "2019-06-19    1\n",
       "2019-06-20    1\n",
       "             ..\n",
       "2020-11-02    2\n",
       "2020-11-03    2\n",
       "2020-11-04    2\n",
       "2020-11-05    2\n",
       "2020-11-06    2\n",
       "Name: ColumbineCapital, Length: 361, dtype: object"
      ]
     },
     "execution_count": 22,
     "metadata": {},
     "output_type": "execute_result"
    }
   ],
   "source": [
    "# Rechecking BBU\n",
    "df_analyst.loc[df_analyst['sym'] == 'BBU']['ColumbineCapital']"
   ]
  },
  {
   "cell_type": "code",
   "execution_count": 23,
   "metadata": {
    "ExecuteTime": {
     "end_time": "2020-11-18T03:18:43.800131Z",
     "start_time": "2020-11-18T03:18:42.399072Z"
    }
   },
   "outputs": [
    {
     "data": {
      "text/plain": [
       "sym                    0\n",
       "Argus                  0\n",
       "StarMine               0\n",
       "ColumbineCapital       0\n",
       "FordEquityResearch     0\n",
       "ISSEVA                 0\n",
       "Jefferson              0\n",
       "McLeanCapital          0\n",
       "NedDavis               0\n",
       "TradingCentral         0\n",
       "Zacks                  0\n",
       "SPValuation            0\n",
       "SPQuality              0\n",
       "SPGrowthStability      0\n",
       "SPFinancialHealth      0\n",
       "ThomsonReutersVerus    0\n",
       "ThomsonReutersIBES     0\n",
       "dtype: int64"
      ]
     },
     "execution_count": 23,
     "metadata": {},
     "output_type": "execute_result"
    }
   ],
   "source": [
    "# Checking that all null values are filled\n",
    "df_analyst.isna().sum()"
   ]
  },
  {
   "cell_type": "markdown",
   "metadata": {},
   "source": [
    "### Length of df_analyst"
   ]
  },
  {
   "cell_type": "code",
   "execution_count": 24,
   "metadata": {
    "ExecuteTime": {
     "end_time": "2020-11-18T03:18:43.816120Z",
     "start_time": "2020-11-18T03:18:43.801130Z"
    }
   },
   "outputs": [
    {
     "data": {
      "text/plain": [
       "2249627"
      ]
     },
     "execution_count": 24,
     "metadata": {},
     "output_type": "execute_result"
    }
   ],
   "source": [
    "len(df_analyst)"
   ]
  },
  {
   "cell_type": "markdown",
   "metadata": {},
   "source": [
    "<div class=\"alert alert-success shadow\">\n",
    "  <strong>Success!</strong> No more null values in analyst, and it has 2,249,627 rows.  Now we need to go about making the different columns numerical.  There are two different methods we could use for this:\n",
    "    <ul>\n",
    "        <li>Manually take the unique values for each column and <b>mapping</b> an arbitrary number to represent things like 'BUY', 'HOLD', 'SELL BIGLY'</li>\n",
    "        <li>Use <b>NLP</b> to vectorize each of the columns</li><ul> <br> We will be using the first method, as we already have the mapping ready from a previous analysis.\n",
    "\n",
    "</div>"
   ]
  },
  {
   "cell_type": "markdown",
   "metadata": {},
   "source": [
    "### mapping"
   ]
  },
  {
   "cell_type": "code",
   "execution_count": 25,
   "metadata": {
    "ExecuteTime": {
     "end_time": "2020-11-18T03:18:44.023166Z",
     "start_time": "2020-11-18T03:18:43.817119Z"
    }
   },
   "outputs": [
    {
     "data": {
      "text/plain": [
       "date\n",
       "2019-06-04    5\n",
       "2019-06-08    5\n",
       "2019-06-17    1\n",
       "2019-06-19    1\n",
       "2019-06-20    1\n",
       "             ..\n",
       "2020-11-02    3\n",
       "2020-11-03    3\n",
       "2020-11-04    3\n",
       "2020-11-05    3\n",
       "2020-11-06    3\n",
       "Name: Jefferson, Length: 2249627, dtype: int64"
      ]
     },
     "execution_count": 25,
     "metadata": {},
     "output_type": "execute_result"
    }
   ],
   "source": [
    "df_analyst['Jefferson'].map({'Buy':5, '1':1, '3':3, '5':5, 'Hold':3, 'Sell':1})"
   ]
  },
  {
   "cell_type": "code",
   "execution_count": 26,
   "metadata": {
    "ExecuteTime": {
     "end_time": "2020-11-18T03:18:44.039165Z",
     "start_time": "2020-11-18T03:18:44.025173Z"
    }
   },
   "outputs": [],
   "source": [
    "analyst_mapping = {\n",
    "    'Argus': {0:0, 'Buy':5, 'Hold':3, 'Sell':1},\n",
    "    'TradingCentral': {'Buy':5, '1':1, '3':3, '5':5, 0:0, 'Sell':1},\n",
    "    'Jefferson': {'Buy':5, '1':1, '3':3, '5':5, 'Hold':3, 'Sell':1},\n",
    "    'McLeanCapital': {'Buy':5, '1':1, '3':3, '5':5, 'Neutral':3, 'Sell':1},\n",
    "    'NedDavis': {'NEUTRAL':3, 'BUY':5, 'SELL':1},\n",
    "    'Zacks': {'STRONG BUY':6, 'BUY':5, 'OUTPERFORM':5,\n",
    "             'NEUTRAL':3, 'HOLD':3, 'SELL':2, 'UNDERPERFORM':2,\n",
    "             'STRONG SELL':1, 'NONE':0},\n",
    "    'ThomsonReutersVerus': {'HOLD':3, 'SELL':1, 'BUY':5}\n",
    "}"
   ]
  },
  {
   "cell_type": "code",
   "execution_count": 27,
   "metadata": {
    "ExecuteTime": {
     "end_time": "2020-11-18T03:18:47.191428Z",
     "start_time": "2020-11-18T03:18:44.041170Z"
    }
   },
   "outputs": [],
   "source": [
    "for col, mapping in analyst_mapping.items():\n",
    "    df_analyst[col] = df_analyst[col].map(mapping)"
   ]
  },
  {
   "cell_type": "code",
   "execution_count": 28,
   "metadata": {
    "ExecuteTime": {
     "end_time": "2020-11-18T03:18:48.132533Z",
     "start_time": "2020-11-18T03:18:47.192431Z"
    }
   },
   "outputs": [
    {
     "data": {
      "text/plain": [
       "sym                    0\n",
       "Argus                  0\n",
       "StarMine               0\n",
       "ColumbineCapital       0\n",
       "FordEquityResearch     0\n",
       "ISSEVA                 0\n",
       "Jefferson              0\n",
       "McLeanCapital          0\n",
       "NedDavis               0\n",
       "TradingCentral         0\n",
       "Zacks                  0\n",
       "SPValuation            0\n",
       "SPQuality              0\n",
       "SPGrowthStability      0\n",
       "SPFinancialHealth      0\n",
       "ThomsonReutersVerus    0\n",
       "ThomsonReutersIBES     0\n",
       "dtype: int64"
      ]
     },
     "execution_count": 28,
     "metadata": {},
     "output_type": "execute_result"
    }
   ],
   "source": [
    "# Double checking to make sure no mappings were missed\n",
    "df_analyst.isna().sum()"
   ]
  },
  {
   "cell_type": "markdown",
   "metadata": {},
   "source": [
    "### Convert object to float"
   ]
  },
  {
   "cell_type": "code",
   "execution_count": 29,
   "metadata": {
    "ExecuteTime": {
     "end_time": "2020-11-18T03:18:52.839893Z",
     "start_time": "2020-11-18T03:18:48.133534Z"
    }
   },
   "outputs": [
    {
     "name": "stdout",
     "output_type": "stream",
     "text": [
      "Argus\n",
      "StarMine\n",
      "ColumbineCapital\n",
      "FordEquityResearch\n",
      "ISSEVA\n",
      "Jefferson\n",
      "McLeanCapital\n",
      "NedDavis\n",
      "TradingCentral\n",
      "Zacks\n",
      "SPValuation\n",
      "SPQuality\n",
      "SPGrowthStability\n",
      "SPFinancialHealth\n",
      "ThomsonReutersVerus\n",
      "ThomsonReutersIBES\n"
     ]
    }
   ],
   "source": [
    "for col in df_analyst.columns:\n",
    "    if col != 'sym':\n",
    "        print(col)\n",
    "        df_analyst[col] = df_analyst[col].astype('float32')"
   ]
  },
  {
   "cell_type": "code",
   "execution_count": 30,
   "metadata": {
    "ExecuteTime": {
     "end_time": "2020-11-18T03:18:52.871884Z",
     "start_time": "2020-11-18T03:18:52.840877Z"
    }
   },
   "outputs": [
    {
     "data": {
      "text/plain": [
       "array([0., 3., 1., 5.], dtype=float32)"
      ]
     },
     "execution_count": 30,
     "metadata": {},
     "output_type": "execute_result"
    }
   ],
   "source": [
    "df_analyst['TradingCentral'].unique()"
   ]
  },
  {
   "cell_type": "code",
   "execution_count": 31,
   "metadata": {
    "ExecuteTime": {
     "end_time": "2020-11-18T03:18:53.702915Z",
     "start_time": "2020-11-18T03:18:52.873880Z"
    }
   },
   "outputs": [
    {
     "data": {
      "text/html": [
       "<div>\n",
       "<style scoped>\n",
       "    .dataframe tbody tr th:only-of-type {\n",
       "        vertical-align: middle;\n",
       "    }\n",
       "\n",
       "    .dataframe tbody tr th {\n",
       "        vertical-align: top;\n",
       "    }\n",
       "\n",
       "    .dataframe thead th {\n",
       "        text-align: right;\n",
       "    }\n",
       "</style>\n",
       "<table border=\"1\" class=\"dataframe\">\n",
       "  <thead>\n",
       "    <tr style=\"text-align: right;\">\n",
       "      <th></th>\n",
       "      <th>Argus</th>\n",
       "      <th>StarMine</th>\n",
       "      <th>ColumbineCapital</th>\n",
       "      <th>FordEquityResearch</th>\n",
       "      <th>ISSEVA</th>\n",
       "      <th>Jefferson</th>\n",
       "      <th>McLeanCapital</th>\n",
       "      <th>NedDavis</th>\n",
       "      <th>TradingCentral</th>\n",
       "      <th>Zacks</th>\n",
       "      <th>SPValuation</th>\n",
       "      <th>SPQuality</th>\n",
       "      <th>SPGrowthStability</th>\n",
       "      <th>SPFinancialHealth</th>\n",
       "      <th>ThomsonReutersVerus</th>\n",
       "      <th>ThomsonReutersIBES</th>\n",
       "    </tr>\n",
       "  </thead>\n",
       "  <tbody>\n",
       "    <tr>\n",
       "      <th>count</th>\n",
       "      <td>2249627.000</td>\n",
       "      <td>2249627.000</td>\n",
       "      <td>2249627.000</td>\n",
       "      <td>2249627.000</td>\n",
       "      <td>2249627.000</td>\n",
       "      <td>2249627.000</td>\n",
       "      <td>2249627.000</td>\n",
       "      <td>2249627.000</td>\n",
       "      <td>2249627.000</td>\n",
       "      <td>2249627.000</td>\n",
       "      <td>2249627.000</td>\n",
       "      <td>2249627.000</td>\n",
       "      <td>2249627.000</td>\n",
       "      <td>2249627.000</td>\n",
       "      <td>2249627.000</td>\n",
       "      <td>2249627.000</td>\n",
       "    </tr>\n",
       "    <tr>\n",
       "      <th>mean</th>\n",
       "      <td>4.223</td>\n",
       "      <td>4.526</td>\n",
       "      <td>2.004</td>\n",
       "      <td>2.911</td>\n",
       "      <td>49.333</td>\n",
       "      <td>3.583</td>\n",
       "      <td>2.973</td>\n",
       "      <td>2.925</td>\n",
       "      <td>2.877</td>\n",
       "      <td>3.141</td>\n",
       "      <td>48.308</td>\n",
       "      <td>48.725</td>\n",
       "      <td>49.616</td>\n",
       "      <td>48.970</td>\n",
       "      <td>2.916</td>\n",
       "      <td>2.256</td>\n",
       "    </tr>\n",
       "    <tr>\n",
       "      <th>std</th>\n",
       "      <td>1.005</td>\n",
       "      <td>2.979</td>\n",
       "      <td>0.784</td>\n",
       "      <td>0.891</td>\n",
       "      <td>30.326</td>\n",
       "      <td>1.462</td>\n",
       "      <td>0.478</td>\n",
       "      <td>0.896</td>\n",
       "      <td>1.248</td>\n",
       "      <td>0.866</td>\n",
       "      <td>29.314</td>\n",
       "      <td>29.045</td>\n",
       "      <td>28.906</td>\n",
       "      <td>28.914</td>\n",
       "      <td>1.195</td>\n",
       "      <td>0.573</td>\n",
       "    </tr>\n",
       "    <tr>\n",
       "      <th>min</th>\n",
       "      <td>0.000</td>\n",
       "      <td>-8.900</td>\n",
       "      <td>1.000</td>\n",
       "      <td>1.000</td>\n",
       "      <td>0.000</td>\n",
       "      <td>1.000</td>\n",
       "      <td>1.000</td>\n",
       "      <td>1.000</td>\n",
       "      <td>0.000</td>\n",
       "      <td>0.000</td>\n",
       "      <td>0.000</td>\n",
       "      <td>0.000</td>\n",
       "      <td>0.000</td>\n",
       "      <td>0.000</td>\n",
       "      <td>1.000</td>\n",
       "      <td>1.000</td>\n",
       "    </tr>\n",
       "    <tr>\n",
       "      <th>25%</th>\n",
       "      <td>3.000</td>\n",
       "      <td>1.700</td>\n",
       "      <td>1.000</td>\n",
       "      <td>3.000</td>\n",
       "      <td>22.000</td>\n",
       "      <td>3.000</td>\n",
       "      <td>3.000</td>\n",
       "      <td>3.000</td>\n",
       "      <td>3.000</td>\n",
       "      <td>3.000</td>\n",
       "      <td>22.000</td>\n",
       "      <td>23.000</td>\n",
       "      <td>25.000</td>\n",
       "      <td>24.000</td>\n",
       "      <td>3.000</td>\n",
       "      <td>1.929</td>\n",
       "    </tr>\n",
       "    <tr>\n",
       "      <th>50%</th>\n",
       "      <td>5.000</td>\n",
       "      <td>4.300</td>\n",
       "      <td>2.000</td>\n",
       "      <td>3.000</td>\n",
       "      <td>49.000</td>\n",
       "      <td>3.000</td>\n",
       "      <td>3.000</td>\n",
       "      <td>3.000</td>\n",
       "      <td>3.000</td>\n",
       "      <td>3.000</td>\n",
       "      <td>48.000</td>\n",
       "      <td>48.000</td>\n",
       "      <td>50.000</td>\n",
       "      <td>49.000</td>\n",
       "      <td>3.000</td>\n",
       "      <td>2.176</td>\n",
       "    </tr>\n",
       "    <tr>\n",
       "      <th>75%</th>\n",
       "      <td>5.000</td>\n",
       "      <td>7.100</td>\n",
       "      <td>3.000</td>\n",
       "      <td>3.000</td>\n",
       "      <td>76.000</td>\n",
       "      <td>5.000</td>\n",
       "      <td>3.000</td>\n",
       "      <td>3.000</td>\n",
       "      <td>3.000</td>\n",
       "      <td>3.000</td>\n",
       "      <td>74.000</td>\n",
       "      <td>74.000</td>\n",
       "      <td>75.000</td>\n",
       "      <td>74.000</td>\n",
       "      <td>3.000</td>\n",
       "      <td>2.643</td>\n",
       "    </tr>\n",
       "    <tr>\n",
       "      <th>max</th>\n",
       "      <td>5.000</td>\n",
       "      <td>10.000</td>\n",
       "      <td>3.000</td>\n",
       "      <td>5.000</td>\n",
       "      <td>100.000</td>\n",
       "      <td>5.000</td>\n",
       "      <td>5.000</td>\n",
       "      <td>5.000</td>\n",
       "      <td>5.000</td>\n",
       "      <td>6.000</td>\n",
       "      <td>99.000</td>\n",
       "      <td>99.000</td>\n",
       "      <td>99.000</td>\n",
       "      <td>99.000</td>\n",
       "      <td>5.000</td>\n",
       "      <td>5.000</td>\n",
       "    </tr>\n",
       "  </tbody>\n",
       "</table>\n",
       "</div>"
      ],
      "text/plain": [
       "            Argus    StarMine  ColumbineCapital  FordEquityResearch  \\\n",
       "count 2249627.000 2249627.000       2249627.000         2249627.000   \n",
       "mean        4.223       4.526             2.004               2.911   \n",
       "std         1.005       2.979             0.784               0.891   \n",
       "min         0.000      -8.900             1.000               1.000   \n",
       "25%         3.000       1.700             1.000               3.000   \n",
       "50%         5.000       4.300             2.000               3.000   \n",
       "75%         5.000       7.100             3.000               3.000   \n",
       "max         5.000      10.000             3.000               5.000   \n",
       "\n",
       "           ISSEVA   Jefferson  McLeanCapital    NedDavis  TradingCentral  \\\n",
       "count 2249627.000 2249627.000    2249627.000 2249627.000     2249627.000   \n",
       "mean       49.333       3.583          2.973       2.925           2.877   \n",
       "std        30.326       1.462          0.478       0.896           1.248   \n",
       "min         0.000       1.000          1.000       1.000           0.000   \n",
       "25%        22.000       3.000          3.000       3.000           3.000   \n",
       "50%        49.000       3.000          3.000       3.000           3.000   \n",
       "75%        76.000       5.000          3.000       3.000           3.000   \n",
       "max       100.000       5.000          5.000       5.000           5.000   \n",
       "\n",
       "            Zacks  SPValuation   SPQuality  SPGrowthStability  \\\n",
       "count 2249627.000  2249627.000 2249627.000        2249627.000   \n",
       "mean        3.141       48.308      48.725             49.616   \n",
       "std         0.866       29.314      29.045             28.906   \n",
       "min         0.000        0.000       0.000              0.000   \n",
       "25%         3.000       22.000      23.000             25.000   \n",
       "50%         3.000       48.000      48.000             50.000   \n",
       "75%         3.000       74.000      74.000             75.000   \n",
       "max         6.000       99.000      99.000             99.000   \n",
       "\n",
       "       SPFinancialHealth  ThomsonReutersVerus  ThomsonReutersIBES  \n",
       "count        2249627.000          2249627.000         2249627.000  \n",
       "mean              48.970                2.916               2.256  \n",
       "std               28.914                1.195               0.573  \n",
       "min                0.000                1.000               1.000  \n",
       "25%               24.000                3.000               1.929  \n",
       "50%               49.000                3.000               2.176  \n",
       "75%               74.000                3.000               2.643  \n",
       "max               99.000                5.000               5.000  "
      ]
     },
     "execution_count": 31,
     "metadata": {},
     "output_type": "execute_result"
    }
   ],
   "source": [
    "df_analyst.describe()"
   ]
  },
  {
   "cell_type": "markdown",
   "metadata": {},
   "source": [
    "## Company"
   ]
  },
  {
   "cell_type": "code",
   "execution_count": 32,
   "metadata": {
    "ExecuteTime": {
     "end_time": "2020-11-18T03:18:53.718904Z",
     "start_time": "2020-11-18T03:18:53.704900Z"
    }
   },
   "outputs": [
    {
     "data": {
      "text/html": [
       "<div>\n",
       "<style scoped>\n",
       "    .dataframe tbody tr th:only-of-type {\n",
       "        vertical-align: middle;\n",
       "    }\n",
       "\n",
       "    .dataframe tbody tr th {\n",
       "        vertical-align: top;\n",
       "    }\n",
       "\n",
       "    .dataframe thead th {\n",
       "        text-align: right;\n",
       "    }\n",
       "</style>\n",
       "<table border=\"1\" class=\"dataframe\">\n",
       "  <thead>\n",
       "    <tr style=\"text-align: right;\">\n",
       "      <th></th>\n",
       "      <th>company</th>\n",
       "      <th>securityType</th>\n",
       "      <th>sector</th>\n",
       "      <th>industry</th>\n",
       "      <th>subIndustry</th>\n",
       "      <th>Exchange</th>\n",
       "      <th>DJIA</th>\n",
       "      <th>NASDAQ100</th>\n",
       "      <th>SP500</th>\n",
       "    </tr>\n",
       "    <tr>\n",
       "      <th>sym</th>\n",
       "      <th></th>\n",
       "      <th></th>\n",
       "      <th></th>\n",
       "      <th></th>\n",
       "      <th></th>\n",
       "      <th></th>\n",
       "      <th></th>\n",
       "      <th></th>\n",
       "      <th></th>\n",
       "    </tr>\n",
       "  </thead>\n",
       "  <tbody>\n",
       "    <tr>\n",
       "      <th>A</th>\n",
       "      <td>Agilent Technologies Inc</td>\n",
       "      <td>CS</td>\n",
       "      <td>Health Care</td>\n",
       "      <td>Life Sciences Tools &amp; Services</td>\n",
       "      <td>Life Sciences Tools &amp; Services</td>\n",
       "      <td>NYSE</td>\n",
       "      <td>0</td>\n",
       "      <td>0</td>\n",
       "      <td>1</td>\n",
       "    </tr>\n",
       "    <tr>\n",
       "      <th>AA</th>\n",
       "      <td>Alcoa Corp</td>\n",
       "      <td>CS</td>\n",
       "      <td>Materials</td>\n",
       "      <td>Metals &amp; Mining</td>\n",
       "      <td>Aluminum</td>\n",
       "      <td>NYSE</td>\n",
       "      <td>0</td>\n",
       "      <td>0</td>\n",
       "      <td>0</td>\n",
       "    </tr>\n",
       "    <tr>\n",
       "      <th>AABA</th>\n",
       "      <td>Altaba Inc</td>\n",
       "      <td>CS</td>\n",
       "      <td>Consumer Discretionary</td>\n",
       "      <td>Internet &amp; Direct Marketing Retail</td>\n",
       "      <td>Internet &amp; Direct Marketing Retail</td>\n",
       "      <td>NASDAQ</td>\n",
       "      <td>0</td>\n",
       "      <td>0</td>\n",
       "      <td>0</td>\n",
       "    </tr>\n",
       "    <tr>\n",
       "      <th>AAC</th>\n",
       "      <td>AAC Holdings Inc</td>\n",
       "      <td>CS</td>\n",
       "      <td>Health Care</td>\n",
       "      <td>Health Care Providers &amp; Services</td>\n",
       "      <td>Health Care Facilities</td>\n",
       "      <td>NYSE</td>\n",
       "      <td>0</td>\n",
       "      <td>0</td>\n",
       "      <td>0</td>\n",
       "    </tr>\n",
       "    <tr>\n",
       "      <th>AACG</th>\n",
       "      <td>ATA Creativity Global</td>\n",
       "      <td>DR</td>\n",
       "      <td>Consumer Discretionary</td>\n",
       "      <td>Diversified Consumer Services</td>\n",
       "      <td>Education Services</td>\n",
       "      <td>NASDAQ</td>\n",
       "      <td>0</td>\n",
       "      <td>0</td>\n",
       "      <td>0</td>\n",
       "    </tr>\n",
       "  </tbody>\n",
       "</table>\n",
       "</div>"
      ],
      "text/plain": [
       "                       company securityType                  sector  \\\n",
       "sym                                                                   \n",
       "A     Agilent Technologies Inc           CS             Health Care   \n",
       "AA                  Alcoa Corp           CS               Materials   \n",
       "AABA                Altaba Inc           CS  Consumer Discretionary   \n",
       "AAC           AAC Holdings Inc           CS             Health Care   \n",
       "AACG     ATA Creativity Global           DR  Consumer Discretionary   \n",
       "\n",
       "                                industry                         subIndustry  \\\n",
       "sym                                                                            \n",
       "A         Life Sciences Tools & Services      Life Sciences Tools & Services   \n",
       "AA                       Metals & Mining                            Aluminum   \n",
       "AABA  Internet & Direct Marketing Retail  Internet & Direct Marketing Retail   \n",
       "AAC     Health Care Providers & Services              Health Care Facilities   \n",
       "AACG       Diversified Consumer Services                  Education Services   \n",
       "\n",
       "     Exchange DJIA NASDAQ100 SP500  \n",
       "sym                                 \n",
       "A        NYSE    0         0     1  \n",
       "AA       NYSE    0         0     0  \n",
       "AABA   NASDAQ    0         0     0  \n",
       "AAC      NYSE    0         0     0  \n",
       "AACG   NASDAQ    0         0     0  "
      ]
     },
     "execution_count": 32,
     "metadata": {},
     "output_type": "execute_result"
    }
   ],
   "source": [
    "df_company = db.frames['company'].copy(deep=True)\n",
    "\n",
    "# Resetting date index and dropping index\n",
    "df_company.set_index('sym', inplace=True, drop=True)\n",
    "\n",
    "df_company.drop('date', inplace=True, axis=1)\n",
    "df_company.head()"
   ]
  },
  {
   "cell_type": "code",
   "execution_count": 33,
   "metadata": {
    "ExecuteTime": {
     "end_time": "2020-11-18T03:18:53.734902Z",
     "start_time": "2020-11-18T03:18:53.719904Z"
    }
   },
   "outputs": [],
   "source": [
    "df_company.replace(['', '--'], np.NaN, inplace=True)"
   ]
  },
  {
   "cell_type": "code",
   "execution_count": 34,
   "metadata": {
    "ExecuteTime": {
     "end_time": "2020-11-18T03:18:53.750905Z",
     "start_time": "2020-11-18T03:18:53.736903Z"
    }
   },
   "outputs": [
    {
     "data": {
      "text/plain": [
       "company           0\n",
       "securityType      5\n",
       "sector          827\n",
       "industry        827\n",
       "subIndustry     827\n",
       "Exchange         30\n",
       "DJIA              0\n",
       "NASDAQ100         0\n",
       "SP500             0\n",
       "dtype: int64"
      ]
     },
     "execution_count": 34,
     "metadata": {},
     "output_type": "execute_result"
    }
   ],
   "source": [
    "df_company.isna().sum()"
   ]
  },
  {
   "cell_type": "code",
   "execution_count": 35,
   "metadata": {
    "ExecuteTime": {
     "end_time": "2020-11-18T03:18:53.766903Z",
     "start_time": "2020-11-18T03:18:53.751903Z"
    }
   },
   "outputs": [
    {
     "data": {
      "text/plain": [
       "company         7284\n",
       "securityType       6\n",
       "sector            11\n",
       "industry          69\n",
       "subIndustry      161\n",
       "Exchange           4\n",
       "DJIA               2\n",
       "NASDAQ100          2\n",
       "SP500              2\n",
       "dtype: int64"
      ]
     },
     "execution_count": 35,
     "metadata": {},
     "output_type": "execute_result"
    }
   ],
   "source": [
    "df_company.nunique()"
   ]
  },
  {
   "cell_type": "code",
   "execution_count": 36,
   "metadata": {
    "ExecuteTime": {
     "end_time": "2020-11-18T03:18:53.782902Z",
     "start_time": "2020-11-18T03:18:53.767905Z"
    }
   },
   "outputs": [
    {
     "data": {
      "text/plain": [
       "7807"
      ]
     },
     "execution_count": 36,
     "metadata": {},
     "output_type": "execute_result"
    }
   ],
   "source": [
    "len(df_company)"
   ]
  },
  {
   "cell_type": "markdown",
   "metadata": {},
   "source": [
    "### One Hot Encode"
   ]
  },
  {
   "cell_type": "markdown",
   "metadata": {},
   "source": [
    "## Splits"
   ]
  },
  {
   "cell_type": "code",
   "execution_count": 427,
   "metadata": {
    "ExecuteTime": {
     "end_time": "2020-11-18T17:43:47.114853Z",
     "start_time": "2020-11-18T17:43:47.092854Z"
    }
   },
   "outputs": [
    {
     "name": "stderr",
     "output_type": "stream",
     "text": [
      "C:\\Users\\12147\\AppData\\Roaming\\Python\\Python37\\site-packages\\ipykernel_launcher.py:5: SettingWithCopyWarning: \n",
      "A value is trying to be set on a copy of a slice from a DataFrame.\n",
      "Try using .loc[row_indexer,col_indexer] = value instead\n",
      "\n",
      "See the caveats in the documentation: https://pandas.pydata.org/pandas-docs/stable/user_guide/indexing.html#returning-a-view-versus-a-copy\n",
      "  \"\"\"\n",
      "C:\\Users\\12147\\AppData\\Roaming\\Python\\Python37\\site-packages\\ipykernel_launcher.py:6: SettingWithCopyWarning: \n",
      "A value is trying to be set on a copy of a slice from a DataFrame.\n",
      "Try using .loc[row_indexer,col_indexer] = value instead\n",
      "\n",
      "See the caveats in the documentation: https://pandas.pydata.org/pandas-docs/stable/user_guide/indexing.html#returning-a-view-versus-a-copy\n",
      "  \n",
      "C:\\Users\\12147\\AppData\\Roaming\\Python\\Python37\\site-packages\\ipykernel_launcher.py:8: SettingWithCopyWarning: \n",
      "A value is trying to be set on a copy of a slice from a DataFrame.\n",
      "Try using .loc[row_indexer,col_indexer] = value instead\n",
      "\n",
      "See the caveats in the documentation: https://pandas.pydata.org/pandas-docs/stable/user_guide/indexing.html#returning-a-view-versus-a-copy\n",
      "  \n"
     ]
    },
    {
     "data": {
      "text/html": [
       "<div>\n",
       "<style scoped>\n",
       "    .dataframe tbody tr th:only-of-type {\n",
       "        vertical-align: middle;\n",
       "    }\n",
       "\n",
       "    .dataframe tbody tr th {\n",
       "        vertical-align: top;\n",
       "    }\n",
       "\n",
       "    .dataframe thead th {\n",
       "        text-align: right;\n",
       "    }\n",
       "</style>\n",
       "<table border=\"1\" class=\"dataframe\">\n",
       "  <thead>\n",
       "    <tr style=\"text-align: right;\">\n",
       "      <th></th>\n",
       "      <th>sym</th>\n",
       "      <th>num</th>\n",
       "      <th>den</th>\n",
       "      <th>announce</th>\n",
       "      <th>record</th>\n",
       "      <th>execute</th>\n",
       "      <th>apply</th>\n",
       "    </tr>\n",
       "  </thead>\n",
       "  <tbody>\n",
       "    <tr>\n",
       "      <th>0</th>\n",
       "      <td>AAPL</td>\n",
       "      <td>4.000</td>\n",
       "      <td>1.000</td>\n",
       "      <td>2020-07-30</td>\n",
       "      <td>2020-08-24</td>\n",
       "      <td>2020-08-31</td>\n",
       "      <td>4.000</td>\n",
       "    </tr>\n",
       "    <tr>\n",
       "      <th>1</th>\n",
       "      <td>ACHV</td>\n",
       "      <td>1.000</td>\n",
       "      <td>20.000</td>\n",
       "      <td>2020-07-30</td>\n",
       "      <td>2020-07-31</td>\n",
       "      <td>2020-07-31</td>\n",
       "      <td>0.050</td>\n",
       "    </tr>\n",
       "    <tr>\n",
       "      <th>2</th>\n",
       "      <td>AEMD</td>\n",
       "      <td>1.000</td>\n",
       "      <td>15.000</td>\n",
       "      <td>2019-10-14</td>\n",
       "      <td>2019-10-15</td>\n",
       "      <td>2019-10-15</td>\n",
       "      <td>0.067</td>\n",
       "    </tr>\n",
       "    <tr>\n",
       "      <th>3</th>\n",
       "      <td>AHT</td>\n",
       "      <td>1.000</td>\n",
       "      <td>10.000</td>\n",
       "      <td>2020-07-02</td>\n",
       "      <td>2020-07-16</td>\n",
       "      <td>2020-07-16</td>\n",
       "      <td>0.100</td>\n",
       "    </tr>\n",
       "    <tr>\n",
       "      <th>6</th>\n",
       "      <td>AITX</td>\n",
       "      <td>1.000</td>\n",
       "      <td>10000.000</td>\n",
       "      <td>2020-03-26</td>\n",
       "      <td>2020-03-27</td>\n",
       "      <td>2020-03-27</td>\n",
       "      <td>0.000</td>\n",
       "    </tr>\n",
       "  </tbody>\n",
       "</table>\n",
       "</div>"
      ],
      "text/plain": [
       "    sym   num       den    announce      record     execute  apply\n",
       "0  AAPL 4.000     1.000  2020-07-30  2020-08-24  2020-08-31  4.000\n",
       "1  ACHV 1.000    20.000  2020-07-30  2020-07-31  2020-07-31  0.050\n",
       "2  AEMD 1.000    15.000  2019-10-14  2019-10-15  2019-10-15  0.067\n",
       "3   AHT 1.000    10.000  2020-07-02  2020-07-16  2020-07-16  0.100\n",
       "6  AITX 1.000 10000.000  2020-03-26  2020-03-27  2020-03-27  0.000"
      ]
     },
     "execution_count": 427,
     "metadata": {},
     "output_type": "execute_result"
    }
   ],
   "source": [
    "df_splits = db.frames['splits']\n",
    "\n",
    "df_splits = df_splits[df_splits['execute'] > pd.to_datetime('2019-08-08')]\n",
    "\n",
    "df_splits['num'] = df_splits['num'].astype('float32')\n",
    "df_splits['den'] = df_splits['den'].astype('float32')\n",
    "\n",
    "df_splits['apply'] = df_splits['num'] / df_splits['den']\n",
    "\n",
    "df_splits.head()"
   ]
  },
  {
   "cell_type": "code",
   "execution_count": null,
   "metadata": {},
   "outputs": [],
   "source": []
  },
  {
   "cell_type": "code",
   "execution_count": 286,
   "metadata": {
    "ExecuteTime": {
     "end_time": "2020-11-18T08:14:57.152278Z",
     "start_time": "2020-11-18T08:14:57.139282Z"
    }
   },
   "outputs": [
    {
     "data": {
      "text/plain": [
       "256"
      ]
     },
     "execution_count": 286,
     "metadata": {},
     "output_type": "execute_result"
    }
   ],
   "source": [
    "len(df_splits)"
   ]
  },
  {
   "cell_type": "code",
   "execution_count": 340,
   "metadata": {
    "ExecuteTime": {
     "end_time": "2020-11-18T08:34:13.801861Z",
     "start_time": "2020-11-18T08:34:13.785970Z"
    },
    "scrolled": true
   },
   "outputs": [
    {
     "data": {
      "text/plain": [
       "GECC     6\n",
       "SFUN     2\n",
       "HWBK     2\n",
       "TRMNF    2\n",
       "RAND     2\n",
       "        ..\n",
       "DCTH     1\n",
       "BKCC     1\n",
       "TYHT     1\n",
       "BBX      1\n",
       "CGIX     1\n",
       "Name: sym, Length: 239, dtype: int64"
      ]
     },
     "execution_count": 340,
     "metadata": {},
     "output_type": "execute_result"
    }
   ],
   "source": [
    "df_splits['sym'].value_counts()"
   ]
  },
  {
   "cell_type": "markdown",
   "metadata": {},
   "source": [
    "## Performance"
   ]
  },
  {
   "cell_type": "code",
   "execution_count": 606,
   "metadata": {
    "ExecuteTime": {
     "end_time": "2020-11-18T19:36:33.227988Z",
     "start_time": "2020-11-18T19:36:25.867607Z"
    }
   },
   "outputs": [
    {
     "data": {
      "text/html": [
       "<div>\n",
       "<style scoped>\n",
       "    .dataframe tbody tr th:only-of-type {\n",
       "        vertical-align: middle;\n",
       "    }\n",
       "\n",
       "    .dataframe tbody tr th {\n",
       "        vertical-align: top;\n",
       "    }\n",
       "\n",
       "    .dataframe thead th {\n",
       "        text-align: right;\n",
       "    }\n",
       "</style>\n",
       "<table border=\"1\" class=\"dataframe\">\n",
       "  <thead>\n",
       "    <tr style=\"text-align: right;\">\n",
       "      <th></th>\n",
       "      <th>sym</th>\n",
       "      <th>MCAP</th>\n",
       "      <th>RevenueTTM</th>\n",
       "      <th>TotalCash</th>\n",
       "      <th>ExDividendDate</th>\n",
       "      <th>Dividend</th>\n",
       "      <th>DividendYield</th>\n",
       "      <th>DividendCoverage</th>\n",
       "      <th>PEG</th>\n",
       "      <th>PriceToBook</th>\n",
       "      <th>...</th>\n",
       "      <th>FreeCashFlow</th>\n",
       "      <th>TotalDebtToEquity</th>\n",
       "      <th>PricePerformance52Weeks</th>\n",
       "      <th>PricePerformanceYTD</th>\n",
       "      <th>TotalReturn1Yr</th>\n",
       "      <th>TotalReturn3Yr</th>\n",
       "      <th>TotalReturn5Yr</th>\n",
       "      <th>TotalReturn10Yr</th>\n",
       "      <th>SharesOutstanding</th>\n",
       "      <th>VolumeAvg90Day</th>\n",
       "    </tr>\n",
       "    <tr>\n",
       "      <th>date</th>\n",
       "      <th></th>\n",
       "      <th></th>\n",
       "      <th></th>\n",
       "      <th></th>\n",
       "      <th></th>\n",
       "      <th></th>\n",
       "      <th></th>\n",
       "      <th></th>\n",
       "      <th></th>\n",
       "      <th></th>\n",
       "      <th></th>\n",
       "      <th></th>\n",
       "      <th></th>\n",
       "      <th></th>\n",
       "      <th></th>\n",
       "      <th></th>\n",
       "      <th></th>\n",
       "      <th></th>\n",
       "      <th></th>\n",
       "      <th></th>\n",
       "      <th></th>\n",
       "    </tr>\n",
       "  </thead>\n",
       "  <tbody>\n",
       "    <tr>\n",
       "      <th>2019-08-09</th>\n",
       "      <td>A</td>\n",
       "      <td>22027.70459</td>\n",
       "      <td>5019</td>\n",
       "      <td>2155</td>\n",
       "      <td></td>\n",
       "      <td>0.164</td>\n",
       "      <td>0.94402</td>\n",
       "      <td>5.41342</td>\n",
       "      <td>1.88328</td>\n",
       "      <td>4.29809</td>\n",
       "      <td>...</td>\n",
       "      <td>887</td>\n",
       "      <td>37.29007</td>\n",
       "      <td>3.13149</td>\n",
       "      <td>3.00919</td>\n",
       "      <td>4.04369</td>\n",
       "      <td>14.79356</td>\n",
       "      <td>11.15484</td>\n",
       "      <td>15.01027</td>\n",
       "      <td>315.993</td>\n",
       "      <td>2.59274</td>\n",
       "    </tr>\n",
       "    <tr>\n",
       "      <th>2019-08-12</th>\n",
       "      <td>A</td>\n",
       "      <td>21758.26224</td>\n",
       "      <td>5019</td>\n",
       "      <td>2155</td>\n",
       "      <td></td>\n",
       "      <td>0.164</td>\n",
       "      <td>0.95571</td>\n",
       "      <td>5.41342</td>\n",
       "      <td>1.86024</td>\n",
       "      <td>4.24551</td>\n",
       "      <td>...</td>\n",
       "      <td>887</td>\n",
       "      <td>37.29007</td>\n",
       "      <td>3.59191</td>\n",
       "      <td>1.74918</td>\n",
       "      <td>4.50818</td>\n",
       "      <td>14.09856</td>\n",
       "      <td>10.88157</td>\n",
       "      <td>14.82051</td>\n",
       "      <td>315.993</td>\n",
       "      <td>2.58484</td>\n",
       "    </tr>\n",
       "    <tr>\n",
       "      <th>2019-08-13</th>\n",
       "      <td>A</td>\n",
       "      <td>21121.11033</td>\n",
       "      <td>5019</td>\n",
       "      <td>2155</td>\n",
       "      <td></td>\n",
       "      <td>0.164</td>\n",
       "      <td>0.98454</td>\n",
       "      <td>5.41342</td>\n",
       "      <td>1.80577</td>\n",
       "      <td>4.12119</td>\n",
       "      <td>...</td>\n",
       "      <td>887</td>\n",
       "      <td>37.29007</td>\n",
       "      <td>0.55841</td>\n",
       "      <td>-1.23036</td>\n",
       "      <td>1.44784</td>\n",
       "      <td>12.4788</td>\n",
       "      <td>10.58715</td>\n",
       "      <td>14.21885</td>\n",
       "      <td>315.993</td>\n",
       "      <td>2.60485</td>\n",
       "    </tr>\n",
       "    <tr>\n",
       "      <th>2019-08-14</th>\n",
       "      <td>A</td>\n",
       "      <td>21441.27124</td>\n",
       "      <td>5019</td>\n",
       "      <td>2155</td>\n",
       "      <td></td>\n",
       "      <td>0.164</td>\n",
       "      <td>0.96984</td>\n",
       "      <td>5.41342</td>\n",
       "      <td>1.83314</td>\n",
       "      <td>4.18366</td>\n",
       "      <td>...</td>\n",
       "      <td>887</td>\n",
       "      <td>37.29007</td>\n",
       "      <td>2.5781</td>\n",
       "      <td>0.26682</td>\n",
       "      <td>3.4854</td>\n",
       "      <td>13.04428</td>\n",
       "      <td>10.74164</td>\n",
       "      <td>14.29275</td>\n",
       "      <td>315.993</td>\n",
       "      <td>2.61616</td>\n",
       "    </tr>\n",
       "    <tr>\n",
       "      <th>2019-08-15</th>\n",
       "      <td>A</td>\n",
       "      <td>20332.9</td>\n",
       "      <td>5090</td>\n",
       "      <td>1765</td>\n",
       "      <td></td>\n",
       "      <td>0.164</td>\n",
       "      <td>1.00015</td>\n",
       "      <td>5.22621</td>\n",
       "      <td>1.82931</td>\n",
       "      <td>4.28332</td>\n",
       "      <td>...</td>\n",
       "      <td>918</td>\n",
       "      <td>36.93453</td>\n",
       "      <td>-1.73783</td>\n",
       "      <td>-2.77201</td>\n",
       "      <td>-0.8687</td>\n",
       "      <td>11.89052</td>\n",
       "      <td>9.72762</td>\n",
       "      <td>14.19957</td>\n",
       "      <td>315.993</td>\n",
       "      <td>2.63078</td>\n",
       "    </tr>\n",
       "  </tbody>\n",
       "</table>\n",
       "<p>5 rows × 27 columns</p>\n",
       "</div>"
      ],
      "text/plain": [
       "           sym         MCAP RevenueTTM TotalCash ExDividendDate Dividend  \\\n",
       "date                                                                       \n",
       "2019-08-09   A  22027.70459       5019      2155                   0.164   \n",
       "2019-08-12   A  21758.26224       5019      2155                   0.164   \n",
       "2019-08-13   A  21121.11033       5019      2155                   0.164   \n",
       "2019-08-14   A  21441.27124       5019      2155                   0.164   \n",
       "2019-08-15   A      20332.9       5090      1765                   0.164   \n",
       "\n",
       "           DividendYield DividendCoverage      PEG PriceToBook  ...  \\\n",
       "date                                                            ...   \n",
       "2019-08-09       0.94402          5.41342  1.88328     4.29809  ...   \n",
       "2019-08-12       0.95571          5.41342  1.86024     4.24551  ...   \n",
       "2019-08-13       0.98454          5.41342  1.80577     4.12119  ...   \n",
       "2019-08-14       0.96984          5.41342  1.83314     4.18366  ...   \n",
       "2019-08-15       1.00015          5.22621  1.82931     4.28332  ...   \n",
       "\n",
       "           FreeCashFlow TotalDebtToEquity PricePerformance52Weeks  \\\n",
       "date                                                                \n",
       "2019-08-09          887          37.29007                 3.13149   \n",
       "2019-08-12          887          37.29007                 3.59191   \n",
       "2019-08-13          887          37.29007                 0.55841   \n",
       "2019-08-14          887          37.29007                  2.5781   \n",
       "2019-08-15          918          36.93453                -1.73783   \n",
       "\n",
       "           PricePerformanceYTD TotalReturn1Yr TotalReturn3Yr TotalReturn5Yr  \\\n",
       "date                                                                          \n",
       "2019-08-09             3.00919        4.04369       14.79356       11.15484   \n",
       "2019-08-12             1.74918        4.50818       14.09856       10.88157   \n",
       "2019-08-13            -1.23036        1.44784        12.4788       10.58715   \n",
       "2019-08-14             0.26682         3.4854       13.04428       10.74164   \n",
       "2019-08-15            -2.77201        -0.8687       11.89052        9.72762   \n",
       "\n",
       "           TotalReturn10Yr SharesOutstanding VolumeAvg90Day  \n",
       "date                                                         \n",
       "2019-08-09        15.01027           315.993        2.59274  \n",
       "2019-08-12        14.82051           315.993        2.58484  \n",
       "2019-08-13        14.21885           315.993        2.60485  \n",
       "2019-08-14        14.29275           315.993        2.61616  \n",
       "2019-08-15        14.19957           315.993        2.63078  \n",
       "\n",
       "[5 rows x 27 columns]"
      ]
     },
     "execution_count": 606,
     "metadata": {},
     "output_type": "execute_result"
    }
   ],
   "source": [
    "# Cleaning first two blank rows\n",
    "df_performance = db.frames['performance'].copy(deep=True).drop([0, 1])\n",
    "\n",
    "# Remove Dates that are less than august 8th, as that is from a different collection method\n",
    "df_performance = df_performance[df_performance['date'] > pd.to_datetime('2019-08-08')]\n",
    "\n",
    "# Resetting date index and dropping index\n",
    "df_performance.set_index('date', inplace=True, drop=True)\n",
    "\n",
    "# Dropping null date values\n",
    "df_performance = df_performance.loc[df_performance.index.notnull()]\n",
    "\n",
    "df_performance.head()"
   ]
  },
  {
   "cell_type": "code",
   "execution_count": 607,
   "metadata": {
    "ExecuteTime": {
     "end_time": "2020-11-18T19:36:37.717687Z",
     "start_time": "2020-11-18T19:36:33.229991Z"
    }
   },
   "outputs": [],
   "source": [
    "df_performance.replace(['', '--'], np.NaN, inplace=True)"
   ]
  },
  {
   "cell_type": "markdown",
   "metadata": {},
   "source": [
    "### Analyzing a stock"
   ]
  },
  {
   "cell_type": "markdown",
   "metadata": {},
   "source": [
    "#### Select AAPL"
   ]
  },
  {
   "cell_type": "code",
   "execution_count": 608,
   "metadata": {
    "ExecuteTime": {
     "end_time": "2020-11-18T19:36:39.377479Z",
     "start_time": "2020-11-18T19:36:37.719687Z"
    }
   },
   "outputs": [],
   "source": [
    "aapl = df_performance.loc[df_performance['sym'] == 'AAPL']\n"
   ]
  },
  {
   "cell_type": "code",
   "execution_count": 609,
   "metadata": {
    "ExecuteTime": {
     "end_time": "2020-11-18T19:36:39.393036Z",
     "start_time": "2020-11-18T19:36:39.379479Z"
    }
   },
   "outputs": [],
   "source": [
    "aapl = aapl.reset_index(drop=True).drop('sym', axis=1)"
   ]
  },
  {
   "cell_type": "code",
   "execution_count": 610,
   "metadata": {
    "ExecuteTime": {
     "end_time": "2020-11-18T19:36:39.409038Z",
     "start_time": "2020-11-18T19:36:39.394032Z"
    }
   },
   "outputs": [],
   "source": [
    "aapl = aapl.fillna(method='ffill').fillna(0)"
   ]
  },
  {
   "cell_type": "markdown",
   "metadata": {},
   "source": []
  },
  {
   "cell_type": "code",
   "execution_count": 611,
   "metadata": {
    "ExecuteTime": {
     "end_time": "2020-11-18T19:36:39.425036Z",
     "start_time": "2020-11-18T19:36:39.411033Z"
    }
   },
   "outputs": [],
   "source": [
    "aapl.drop('ExDividendDate', axis=1, inplace=True)"
   ]
  },
  {
   "cell_type": "markdown",
   "metadata": {},
   "source": [
    "#### PEG graph"
   ]
  },
  {
   "cell_type": "code",
   "execution_count": 612,
   "metadata": {
    "ExecuteTime": {
     "end_time": "2020-11-18T19:36:39.537035Z",
     "start_time": "2020-11-18T19:36:39.427036Z"
    }
   },
   "outputs": [
    {
     "data": {
      "text/plain": [
       "<AxesSubplot:>"
      ]
     },
     "execution_count": 612,
     "metadata": {},
     "output_type": "execute_result"
    },
    {
     "data": {
      "image/png": "[encoded data removed]",
      "text/plain": [
       "<Figure size 576x396 with 1 Axes>"
      ]
     },
     "metadata": {},
     "output_type": "display_data"
    }
   ],
   "source": [
    "aapl['PEG'].astype('float32').plot()"
   ]
  },
  {
   "cell_type": "markdown",
   "metadata": {},
   "source": [
    "#### Correlation"
   ]
  },
  {
   "cell_type": "code",
   "execution_count": 613,
   "metadata": {
    "ExecuteTime": {
     "end_time": "2020-11-18T19:36:40.038036Z",
     "start_time": "2020-11-18T19:36:39.540039Z"
    },
    "scrolled": false
   },
   "outputs": [
    {
     "data": {
      "text/plain": [
       "0"
      ]
     },
     "execution_count": 613,
     "metadata": {},
     "output_type": "execute_result"
    },
    {
     "data": {
      "image/png": "[encoded data removed]",
      "text/plain": [
       "<Figure size 864x864 with 2 Axes>"
      ]
     },
     "metadata": {},
     "output_type": "display_data"
    }
   ],
   "source": [
    "fig, ax = MLFrame(aapl.astype('float32')).plot_corr(figsize=(12, 12))\n",
    "ax.set_yticklabels(ax.get_ymajorticklabels(), fontsize = 18)\n",
    "ax.set_xticklabels(ax.get_xmajorticklabels(), fontsize = 18)\n",
    "0"
   ]
  },
  {
   "cell_type": "markdown",
   "metadata": {},
   "source": [
    "### Null Values"
   ]
  },
  {
   "cell_type": "code",
   "execution_count": 614,
   "metadata": {
    "ExecuteTime": {
     "end_time": "2020-11-18T19:36:43.747966Z",
     "start_time": "2020-11-18T19:36:40.040038Z"
    }
   },
   "outputs": [
    {
     "data": {
      "text/plain": [
       "ExDividendDate              7.352\n",
       "PEG                        17.015\n",
       "FwdEPS3to5Yr               22.565\n",
       "DividendCoverage           33.868\n",
       "DividendYield              34.428\n",
       "Dividend                   34.733\n",
       "PE                         45.641\n",
       "PriceToCashFlow            54.089\n",
       "TotalReturn10Yr            55.815\n",
       "EPSGrowth5Year             67.567\n",
       "TotalReturn5Yr             71.494\n",
       "PriceToSales               75.986\n",
       "FreeCashFlow               76.606\n",
       "TotalReturn3Yr             79.505\n",
       "RevenueTTM                 80.028\n",
       "TotalDebtToEquity          80.564\n",
       "PriceToBook                80.589\n",
       "EnterpriseValue            82.042\n",
       "ReturnonEquity             84.314\n",
       "PricePerformanceYTD        86.175\n",
       "VolumeAvg90Day             88.336\n",
       "TotalCash                  88.641\n",
       "MCAP                       89.579\n",
       "TotalReturn1Yr             91.224\n",
       "PricePerformance52Weeks    91.224\n",
       "SharesOutstanding          99.864\n",
       "sym                       100.000\n",
       "dtype: float64"
      ]
     },
     "execution_count": 614,
     "metadata": {},
     "output_type": "execute_result"
    }
   ],
   "source": [
    "get_perc_not_null(df_performance)"
   ]
  },
  {
   "cell_type": "code",
   "execution_count": 615,
   "metadata": {
    "ExecuteTime": {
     "end_time": "2020-11-18T19:37:18.895630Z",
     "start_time": "2020-11-18T19:36:43.749970Z"
    }
   },
   "outputs": [
    {
     "name": "stdout",
     "output_type": "stream",
     "text": [
      "sym Exception ---\n",
      "ExDividendDate Exception ---\n"
     ]
    },
    {
     "data": {
      "text/plain": [
       "EnterpriseValue           -278943858688.000\n",
       "ReturnonEquity                 -1255335.250\n",
       "TotalDebtToEquity               -288322.562\n",
       "FreeCashFlow                     -84924.000\n",
       "PEG                              -20312.500\n",
       "RevenueTTM                         -811.925\n",
       "FwdEPS3to5Yr                       -550.200\n",
       "DividendCoverage                   -503.750\n",
       "EPSGrowth5Year                     -100.000\n",
       "TotalReturn1Yr                      -99.998\n",
       "PricePerformance52Weeks             -99.998\n",
       "PricePerformanceYTD                 -99.993\n",
       "TotalReturn5Yr                      -99.913\n",
       "TotalReturn3Yr                      -99.767\n",
       "TotalReturn10Yr                     -96.688\n",
       "MCAP                                  0.000\n",
       "PE                                    0.000\n",
       "PriceToCashFlow                       0.000\n",
       "PriceToSales                          0.000\n",
       "PriceToBook                           0.000\n",
       "DividendYield                         0.000\n",
       "Dividend                              0.000\n",
       "TotalCash                             0.000\n",
       "SharesOutstanding                     0.000\n",
       "VolumeAvg90Day                        0.000\n",
       "dtype: float64"
      ]
     },
     "execution_count": 615,
     "metadata": {},
     "output_type": "execute_result"
    }
   ],
   "source": [
    "performance_mins = {}\n",
    "for col in df_performance.columns:\n",
    "    try:\n",
    "        performance_mins[col] = df_performance[col].map(try_replace).fillna(0).astype('float32').min()\n",
    "    except Exception:\n",
    "        print(col, 'Exception ---')\n",
    "performance_mins = pd.Series(performance_mins)\n",
    "performance_mins.sort_values()"
   ]
  },
  {
   "cell_type": "markdown",
   "metadata": {},
   "source": [
    "<div class=\"alert alert-warning shadow\">\n",
    "  <strong>Filling Null Values:</strong>\n",
    "    <ul>\n",
    "    <li><b>ExDividendDate:</b> Not all of the dividend stocks have a dividend date, so we will be filling null values of this column with the time equivalent of 0 1970-01-01</li></ul>\n",
    "        <br></br>\n",
    "    <b>For the rest of the stocks we will be doing two different things:</b>\n",
    "    <ul>\n",
    "        <li><b>col_to_fill_then_drop:</b> If a stock has a min lower than 0 we must front fill nulls and then drop the stocks that still have a null in that column.  That is because if we were to simply fill with 0 it would misrepresent that stock, and we may end up with large jumps from negative to positive that ticks the algorithm</li>\n",
    "        <li><b>col_to_fill:</b> If a stock has a min higher than 0 we can simply front fill nulls and then set the rest of the nulls to 0</li>\n",
    "    </ul>\n",
    "</div>"
   ]
  },
  {
   "cell_type": "markdown",
   "metadata": {},
   "source": [
    "### Add Price to Performance"
   ]
  },
  {
   "cell_type": "code",
   "execution_count": 616,
   "metadata": {
    "ExecuteTime": {
     "end_time": "2020-11-18T19:37:18.911626Z",
     "start_time": "2020-11-18T19:37:18.896624Z"
    }
   },
   "outputs": [
    {
     "data": {
      "text/plain": [
       "((2015786, 27), (2252570, 2))"
      ]
     },
     "execution_count": 616,
     "metadata": {},
     "output_type": "execute_result"
    }
   ],
   "source": [
    "df_performance.shape, df_prices.shape"
   ]
  },
  {
   "cell_type": "code",
   "execution_count": 617,
   "metadata": {
    "ExecuteTime": {
     "end_time": "2020-11-18T19:37:22.003722Z",
     "start_time": "2020-11-18T19:37:18.912623Z"
    },
    "scrolled": true
   },
   "outputs": [
    {
     "data": {
      "text/html": [
       "<div>\n",
       "<style scoped>\n",
       "    .dataframe tbody tr th:only-of-type {\n",
       "        vertical-align: middle;\n",
       "    }\n",
       "\n",
       "    .dataframe tbody tr th {\n",
       "        vertical-align: top;\n",
       "    }\n",
       "\n",
       "    .dataframe thead th {\n",
       "        text-align: right;\n",
       "    }\n",
       "</style>\n",
       "<table border=\"1\" class=\"dataframe\">\n",
       "  <thead>\n",
       "    <tr style=\"text-align: right;\">\n",
       "      <th></th>\n",
       "      <th>sym</th>\n",
       "      <th>MCAP</th>\n",
       "      <th>RevenueTTM</th>\n",
       "      <th>TotalCash</th>\n",
       "      <th>ExDividendDate</th>\n",
       "      <th>Dividend</th>\n",
       "      <th>DividendYield</th>\n",
       "      <th>DividendCoverage</th>\n",
       "      <th>PEG</th>\n",
       "      <th>PriceToBook</th>\n",
       "      <th>...</th>\n",
       "      <th>TotalDebtToEquity</th>\n",
       "      <th>PricePerformance52Weeks</th>\n",
       "      <th>PricePerformanceYTD</th>\n",
       "      <th>TotalReturn1Yr</th>\n",
       "      <th>TotalReturn3Yr</th>\n",
       "      <th>TotalReturn5Yr</th>\n",
       "      <th>TotalReturn10Yr</th>\n",
       "      <th>SharesOutstanding</th>\n",
       "      <th>VolumeAvg90Day</th>\n",
       "      <th>price</th>\n",
       "    </tr>\n",
       "    <tr>\n",
       "      <th>date</th>\n",
       "      <th></th>\n",
       "      <th></th>\n",
       "      <th></th>\n",
       "      <th></th>\n",
       "      <th></th>\n",
       "      <th></th>\n",
       "      <th></th>\n",
       "      <th></th>\n",
       "      <th></th>\n",
       "      <th></th>\n",
       "      <th></th>\n",
       "      <th></th>\n",
       "      <th></th>\n",
       "      <th></th>\n",
       "      <th></th>\n",
       "      <th></th>\n",
       "      <th></th>\n",
       "      <th></th>\n",
       "      <th></th>\n",
       "      <th></th>\n",
       "      <th></th>\n",
       "    </tr>\n",
       "  </thead>\n",
       "  <tbody>\n",
       "    <tr>\n",
       "      <th>2019-08-09</th>\n",
       "      <td>A</td>\n",
       "      <td>22027.70459</td>\n",
       "      <td>5019</td>\n",
       "      <td>2155</td>\n",
       "      <td>NaN</td>\n",
       "      <td>0.164</td>\n",
       "      <td>0.94402</td>\n",
       "      <td>5.41342</td>\n",
       "      <td>1.88328</td>\n",
       "      <td>4.29809</td>\n",
       "      <td>...</td>\n",
       "      <td>37.29007</td>\n",
       "      <td>3.13149</td>\n",
       "      <td>3.00919</td>\n",
       "      <td>4.04369</td>\n",
       "      <td>14.79356</td>\n",
       "      <td>11.15484</td>\n",
       "      <td>15.01027</td>\n",
       "      <td>315.993</td>\n",
       "      <td>2.59274</td>\n",
       "      <td>68.640000</td>\n",
       "    </tr>\n",
       "    <tr>\n",
       "      <th>2019-08-12</th>\n",
       "      <td>A</td>\n",
       "      <td>21758.26224</td>\n",
       "      <td>5019</td>\n",
       "      <td>2155</td>\n",
       "      <td>NaN</td>\n",
       "      <td>0.164</td>\n",
       "      <td>0.95571</td>\n",
       "      <td>5.41342</td>\n",
       "      <td>1.86024</td>\n",
       "      <td>4.24551</td>\n",
       "      <td>...</td>\n",
       "      <td>37.29007</td>\n",
       "      <td>3.59191</td>\n",
       "      <td>1.74918</td>\n",
       "      <td>4.50818</td>\n",
       "      <td>14.09856</td>\n",
       "      <td>10.88157</td>\n",
       "      <td>14.82051</td>\n",
       "      <td>315.993</td>\n",
       "      <td>2.58484</td>\n",
       "      <td>66.780000</td>\n",
       "    </tr>\n",
       "    <tr>\n",
       "      <th>2019-08-13</th>\n",
       "      <td>A</td>\n",
       "      <td>21121.11033</td>\n",
       "      <td>5019</td>\n",
       "      <td>2155</td>\n",
       "      <td>NaN</td>\n",
       "      <td>0.164</td>\n",
       "      <td>0.98454</td>\n",
       "      <td>5.41342</td>\n",
       "      <td>1.80577</td>\n",
       "      <td>4.12119</td>\n",
       "      <td>...</td>\n",
       "      <td>37.29007</td>\n",
       "      <td>0.55841</td>\n",
       "      <td>-1.23036</td>\n",
       "      <td>1.44784</td>\n",
       "      <td>12.4788</td>\n",
       "      <td>10.58715</td>\n",
       "      <td>14.21885</td>\n",
       "      <td>315.993</td>\n",
       "      <td>2.60485</td>\n",
       "      <td>67.640000</td>\n",
       "    </tr>\n",
       "    <tr>\n",
       "      <th>2019-08-14</th>\n",
       "      <td>A</td>\n",
       "      <td>21441.27124</td>\n",
       "      <td>5019</td>\n",
       "      <td>2155</td>\n",
       "      <td>NaN</td>\n",
       "      <td>0.164</td>\n",
       "      <td>0.96984</td>\n",
       "      <td>5.41342</td>\n",
       "      <td>1.83314</td>\n",
       "      <td>4.18366</td>\n",
       "      <td>...</td>\n",
       "      <td>37.29007</td>\n",
       "      <td>2.5781</td>\n",
       "      <td>0.26682</td>\n",
       "      <td>3.4854</td>\n",
       "      <td>13.04428</td>\n",
       "      <td>10.74164</td>\n",
       "      <td>14.29275</td>\n",
       "      <td>315.993</td>\n",
       "      <td>2.61616</td>\n",
       "      <td>65.590000</td>\n",
       "    </tr>\n",
       "    <tr>\n",
       "      <th>2019-08-15</th>\n",
       "      <td>A</td>\n",
       "      <td>20332.9</td>\n",
       "      <td>5090</td>\n",
       "      <td>1765</td>\n",
       "      <td>NaN</td>\n",
       "      <td>0.164</td>\n",
       "      <td>1.00015</td>\n",
       "      <td>5.22621</td>\n",
       "      <td>1.82931</td>\n",
       "      <td>4.28332</td>\n",
       "      <td>...</td>\n",
       "      <td>36.93453</td>\n",
       "      <td>-1.73783</td>\n",
       "      <td>-2.77201</td>\n",
       "      <td>-0.8687</td>\n",
       "      <td>11.89052</td>\n",
       "      <td>9.72762</td>\n",
       "      <td>14.19957</td>\n",
       "      <td>315.993</td>\n",
       "      <td>2.63078</td>\n",
       "      <td>69.590000</td>\n",
       "    </tr>\n",
       "  </tbody>\n",
       "</table>\n",
       "<p>5 rows × 28 columns</p>\n",
       "</div>"
      ],
      "text/plain": [
       "           sym         MCAP RevenueTTM TotalCash ExDividendDate Dividend  \\\n",
       "date                                                                       \n",
       "2019-08-09   A  22027.70459       5019      2155            NaN    0.164   \n",
       "2019-08-12   A  21758.26224       5019      2155            NaN    0.164   \n",
       "2019-08-13   A  21121.11033       5019      2155            NaN    0.164   \n",
       "2019-08-14   A  21441.27124       5019      2155            NaN    0.164   \n",
       "2019-08-15   A      20332.9       5090      1765            NaN    0.164   \n",
       "\n",
       "           DividendYield DividendCoverage      PEG PriceToBook  ...  \\\n",
       "date                                                            ...   \n",
       "2019-08-09       0.94402          5.41342  1.88328     4.29809  ...   \n",
       "2019-08-12       0.95571          5.41342  1.86024     4.24551  ...   \n",
       "2019-08-13       0.98454          5.41342  1.80577     4.12119  ...   \n",
       "2019-08-14       0.96984          5.41342  1.83314     4.18366  ...   \n",
       "2019-08-15       1.00015          5.22621  1.82931     4.28332  ...   \n",
       "\n",
       "           TotalDebtToEquity PricePerformance52Weeks PricePerformanceYTD  \\\n",
       "date                                                                       \n",
       "2019-08-09          37.29007                 3.13149             3.00919   \n",
       "2019-08-12          37.29007                 3.59191             1.74918   \n",
       "2019-08-13          37.29007                 0.55841            -1.23036   \n",
       "2019-08-14          37.29007                  2.5781             0.26682   \n",
       "2019-08-15          36.93453                -1.73783            -2.77201   \n",
       "\n",
       "           TotalReturn1Yr TotalReturn3Yr TotalReturn5Yr TotalReturn10Yr  \\\n",
       "date                                                                      \n",
       "2019-08-09        4.04369       14.79356       11.15484        15.01027   \n",
       "2019-08-12        4.50818       14.09856       10.88157        14.82051   \n",
       "2019-08-13        1.44784        12.4788       10.58715        14.21885   \n",
       "2019-08-14         3.4854       13.04428       10.74164        14.29275   \n",
       "2019-08-15        -0.8687       11.89052        9.72762        14.19957   \n",
       "\n",
       "           SharesOutstanding VolumeAvg90Day      price  \n",
       "date                                                    \n",
       "2019-08-09           315.993        2.59274  68.640000  \n",
       "2019-08-12           315.993        2.58484  66.780000  \n",
       "2019-08-13           315.993        2.60485  67.640000  \n",
       "2019-08-14           315.993        2.61616  65.590000  \n",
       "2019-08-15           315.993        2.63078  69.590000  \n",
       "\n",
       "[5 rows x 28 columns]"
      ]
     },
     "execution_count": 617,
     "metadata": {},
     "output_type": "execute_result"
    }
   ],
   "source": [
    "df_performance = pd.merge(df_performance, df_prices, on=['date', 'sym'])\n",
    "df_performance.head()"
   ]
  },
  {
   "cell_type": "markdown",
   "metadata": {},
   "source": [
    "### Double indexing"
   ]
  },
  {
   "cell_type": "code",
   "execution_count": 618,
   "metadata": {
    "ExecuteTime": {
     "end_time": "2020-11-18T19:37:22.097747Z",
     "start_time": "2020-11-18T19:37:22.005722Z"
    }
   },
   "outputs": [],
   "source": [
    "df_performance.reset_index(inplace=True)"
   ]
  },
  {
   "cell_type": "code",
   "execution_count": 619,
   "metadata": {
    "ExecuteTime": {
     "end_time": "2020-11-18T19:37:24.267066Z",
     "start_time": "2020-11-18T19:37:22.099745Z"
    }
   },
   "outputs": [],
   "source": [
    "df_performance = df_performance.set_index(['date', 'sym'], drop=True)"
   ]
  },
  {
   "cell_type": "code",
   "execution_count": 620,
   "metadata": {
    "ExecuteTime": {
     "end_time": "2020-11-18T19:37:24.299068Z",
     "start_time": "2020-11-18T19:37:24.269065Z"
    }
   },
   "outputs": [
    {
     "data": {
      "text/html": [
       "<div>\n",
       "<style scoped>\n",
       "    .dataframe tbody tr th:only-of-type {\n",
       "        vertical-align: middle;\n",
       "    }\n",
       "\n",
       "    .dataframe tbody tr th {\n",
       "        vertical-align: top;\n",
       "    }\n",
       "\n",
       "    .dataframe thead th {\n",
       "        text-align: right;\n",
       "    }\n",
       "</style>\n",
       "<table border=\"1\" class=\"dataframe\">\n",
       "  <thead>\n",
       "    <tr style=\"text-align: right;\">\n",
       "      <th></th>\n",
       "      <th></th>\n",
       "      <th>MCAP</th>\n",
       "      <th>RevenueTTM</th>\n",
       "      <th>TotalCash</th>\n",
       "      <th>ExDividendDate</th>\n",
       "      <th>Dividend</th>\n",
       "      <th>DividendYield</th>\n",
       "      <th>DividendCoverage</th>\n",
       "      <th>PEG</th>\n",
       "      <th>PriceToBook</th>\n",
       "      <th>PriceToSales</th>\n",
       "      <th>...</th>\n",
       "      <th>TotalDebtToEquity</th>\n",
       "      <th>PricePerformance52Weeks</th>\n",
       "      <th>PricePerformanceYTD</th>\n",
       "      <th>TotalReturn1Yr</th>\n",
       "      <th>TotalReturn3Yr</th>\n",
       "      <th>TotalReturn5Yr</th>\n",
       "      <th>TotalReturn10Yr</th>\n",
       "      <th>SharesOutstanding</th>\n",
       "      <th>VolumeAvg90Day</th>\n",
       "      <th>price</th>\n",
       "    </tr>\n",
       "    <tr>\n",
       "      <th>date</th>\n",
       "      <th>sym</th>\n",
       "      <th></th>\n",
       "      <th></th>\n",
       "      <th></th>\n",
       "      <th></th>\n",
       "      <th></th>\n",
       "      <th></th>\n",
       "      <th></th>\n",
       "      <th></th>\n",
       "      <th></th>\n",
       "      <th></th>\n",
       "      <th></th>\n",
       "      <th></th>\n",
       "      <th></th>\n",
       "      <th></th>\n",
       "      <th></th>\n",
       "      <th></th>\n",
       "      <th></th>\n",
       "      <th></th>\n",
       "      <th></th>\n",
       "      <th></th>\n",
       "      <th></th>\n",
       "    </tr>\n",
       "  </thead>\n",
       "  <tbody>\n",
       "    <tr>\n",
       "      <th>2019-08-09</th>\n",
       "      <th>A</th>\n",
       "      <td>22027.70459</td>\n",
       "      <td>5019</td>\n",
       "      <td>2155</td>\n",
       "      <td>NaN</td>\n",
       "      <td>0.164</td>\n",
       "      <td>0.94402</td>\n",
       "      <td>5.41342</td>\n",
       "      <td>1.88328</td>\n",
       "      <td>4.29809</td>\n",
       "      <td>4.40182</td>\n",
       "      <td>...</td>\n",
       "      <td>37.29007</td>\n",
       "      <td>3.13149</td>\n",
       "      <td>3.00919</td>\n",
       "      <td>4.04369</td>\n",
       "      <td>14.79356</td>\n",
       "      <td>11.15484</td>\n",
       "      <td>15.01027</td>\n",
       "      <td>315.993</td>\n",
       "      <td>2.59274</td>\n",
       "      <td>68.640000</td>\n",
       "    </tr>\n",
       "    <tr>\n",
       "      <th>2019-08-12</th>\n",
       "      <th>A</th>\n",
       "      <td>21758.26224</td>\n",
       "      <td>5019</td>\n",
       "      <td>2155</td>\n",
       "      <td>NaN</td>\n",
       "      <td>0.164</td>\n",
       "      <td>0.95571</td>\n",
       "      <td>5.41342</td>\n",
       "      <td>1.86024</td>\n",
       "      <td>4.24551</td>\n",
       "      <td>4.34797</td>\n",
       "      <td>...</td>\n",
       "      <td>37.29007</td>\n",
       "      <td>3.59191</td>\n",
       "      <td>1.74918</td>\n",
       "      <td>4.50818</td>\n",
       "      <td>14.09856</td>\n",
       "      <td>10.88157</td>\n",
       "      <td>14.82051</td>\n",
       "      <td>315.993</td>\n",
       "      <td>2.58484</td>\n",
       "      <td>66.780000</td>\n",
       "    </tr>\n",
       "    <tr>\n",
       "      <th>2019-08-13</th>\n",
       "      <th>A</th>\n",
       "      <td>21121.11033</td>\n",
       "      <td>5019</td>\n",
       "      <td>2155</td>\n",
       "      <td>NaN</td>\n",
       "      <td>0.164</td>\n",
       "      <td>0.98454</td>\n",
       "      <td>5.41342</td>\n",
       "      <td>1.80577</td>\n",
       "      <td>4.12119</td>\n",
       "      <td>4.22065</td>\n",
       "      <td>...</td>\n",
       "      <td>37.29007</td>\n",
       "      <td>0.55841</td>\n",
       "      <td>-1.23036</td>\n",
       "      <td>1.44784</td>\n",
       "      <td>12.4788</td>\n",
       "      <td>10.58715</td>\n",
       "      <td>14.21885</td>\n",
       "      <td>315.993</td>\n",
       "      <td>2.60485</td>\n",
       "      <td>67.640000</td>\n",
       "    </tr>\n",
       "    <tr>\n",
       "      <th>2019-08-14</th>\n",
       "      <th>A</th>\n",
       "      <td>21441.27124</td>\n",
       "      <td>5019</td>\n",
       "      <td>2155</td>\n",
       "      <td>NaN</td>\n",
       "      <td>0.164</td>\n",
       "      <td>0.96984</td>\n",
       "      <td>5.41342</td>\n",
       "      <td>1.83314</td>\n",
       "      <td>4.18366</td>\n",
       "      <td>4.28463</td>\n",
       "      <td>...</td>\n",
       "      <td>37.29007</td>\n",
       "      <td>2.5781</td>\n",
       "      <td>0.26682</td>\n",
       "      <td>3.4854</td>\n",
       "      <td>13.04428</td>\n",
       "      <td>10.74164</td>\n",
       "      <td>14.29275</td>\n",
       "      <td>315.993</td>\n",
       "      <td>2.61616</td>\n",
       "      <td>65.590000</td>\n",
       "    </tr>\n",
       "    <tr>\n",
       "      <th>2019-08-15</th>\n",
       "      <th>A</th>\n",
       "      <td>20332.9</td>\n",
       "      <td>5090</td>\n",
       "      <td>1765</td>\n",
       "      <td>NaN</td>\n",
       "      <td>0.164</td>\n",
       "      <td>1.00015</td>\n",
       "      <td>5.22621</td>\n",
       "      <td>1.82931</td>\n",
       "      <td>4.28332</td>\n",
       "      <td>4.06782</td>\n",
       "      <td>...</td>\n",
       "      <td>36.93453</td>\n",
       "      <td>-1.73783</td>\n",
       "      <td>-2.77201</td>\n",
       "      <td>-0.8687</td>\n",
       "      <td>11.89052</td>\n",
       "      <td>9.72762</td>\n",
       "      <td>14.19957</td>\n",
       "      <td>315.993</td>\n",
       "      <td>2.63078</td>\n",
       "      <td>69.590000</td>\n",
       "    </tr>\n",
       "  </tbody>\n",
       "</table>\n",
       "<p>5 rows × 27 columns</p>\n",
       "</div>"
      ],
      "text/plain": [
       "                       MCAP RevenueTTM TotalCash ExDividendDate Dividend  \\\n",
       "date       sym                                                             \n",
       "2019-08-09 A    22027.70459       5019      2155            NaN    0.164   \n",
       "2019-08-12 A    21758.26224       5019      2155            NaN    0.164   \n",
       "2019-08-13 A    21121.11033       5019      2155            NaN    0.164   \n",
       "2019-08-14 A    21441.27124       5019      2155            NaN    0.164   \n",
       "2019-08-15 A        20332.9       5090      1765            NaN    0.164   \n",
       "\n",
       "               DividendYield DividendCoverage      PEG PriceToBook  \\\n",
       "date       sym                                                       \n",
       "2019-08-09 A         0.94402          5.41342  1.88328     4.29809   \n",
       "2019-08-12 A         0.95571          5.41342  1.86024     4.24551   \n",
       "2019-08-13 A         0.98454          5.41342  1.80577     4.12119   \n",
       "2019-08-14 A         0.96984          5.41342  1.83314     4.18366   \n",
       "2019-08-15 A         1.00015          5.22621  1.82931     4.28332   \n",
       "\n",
       "               PriceToSales  ... TotalDebtToEquity PricePerformance52Weeks  \\\n",
       "date       sym               ...                                             \n",
       "2019-08-09 A        4.40182  ...          37.29007                 3.13149   \n",
       "2019-08-12 A        4.34797  ...          37.29007                 3.59191   \n",
       "2019-08-13 A        4.22065  ...          37.29007                 0.55841   \n",
       "2019-08-14 A        4.28463  ...          37.29007                  2.5781   \n",
       "2019-08-15 A        4.06782  ...          36.93453                -1.73783   \n",
       "\n",
       "               PricePerformanceYTD TotalReturn1Yr TotalReturn3Yr  \\\n",
       "date       sym                                                     \n",
       "2019-08-09 A               3.00919        4.04369       14.79356   \n",
       "2019-08-12 A               1.74918        4.50818       14.09856   \n",
       "2019-08-13 A              -1.23036        1.44784        12.4788   \n",
       "2019-08-14 A               0.26682         3.4854       13.04428   \n",
       "2019-08-15 A              -2.77201        -0.8687       11.89052   \n",
       "\n",
       "               TotalReturn5Yr TotalReturn10Yr SharesOutstanding  \\\n",
       "date       sym                                                    \n",
       "2019-08-09 A         11.15484        15.01027           315.993   \n",
       "2019-08-12 A         10.88157        14.82051           315.993   \n",
       "2019-08-13 A         10.58715        14.21885           315.993   \n",
       "2019-08-14 A         10.74164        14.29275           315.993   \n",
       "2019-08-15 A          9.72762        14.19957           315.993   \n",
       "\n",
       "               VolumeAvg90Day      price  \n",
       "date       sym                            \n",
       "2019-08-09 A          2.59274  68.640000  \n",
       "2019-08-12 A          2.58484  66.780000  \n",
       "2019-08-13 A          2.60485  67.640000  \n",
       "2019-08-14 A          2.61616  65.590000  \n",
       "2019-08-15 A          2.63078  69.590000  \n",
       "\n",
       "[5 rows x 27 columns]"
      ]
     },
     "execution_count": 620,
     "metadata": {},
     "output_type": "execute_result"
    }
   ],
   "source": [
    "df_performance.head()"
   ]
  },
  {
   "cell_type": "markdown",
   "metadata": {},
   "source": [
    "### col_to_fill\n",
    "> Front fill null values, then fill the rest with 0"
   ]
  },
  {
   "cell_type": "code",
   "execution_count": 621,
   "metadata": {
    "ExecuteTime": {
     "end_time": "2020-11-18T19:37:24.315065Z",
     "start_time": "2020-11-18T19:37:24.300071Z"
    }
   },
   "outputs": [
    {
     "data": {
      "text/plain": [
       "['MCAP',\n",
       " 'TotalCash',\n",
       " 'Dividend',\n",
       " 'DividendYield',\n",
       " 'PriceToBook',\n",
       " 'PriceToSales',\n",
       " 'PriceToCashFlow',\n",
       " 'PE',\n",
       " 'SharesOutstanding',\n",
       " 'VolumeAvg90Day']"
      ]
     },
     "execution_count": 621,
     "metadata": {},
     "output_type": "execute_result"
    }
   ],
   "source": [
    "col_to_fill = list(performance_mins[performance_mins >= 0].index)\n",
    "col_to_fill"
   ]
  },
  {
   "cell_type": "code",
   "execution_count": 622,
   "metadata": {
    "ExecuteTime": {
     "end_time": "2020-11-18T19:37:34.256928Z",
     "start_time": "2020-11-18T19:37:24.321064Z"
    }
   },
   "outputs": [
    {
     "data": {
      "text/plain": [
       "ExDividendDate              7.352\n",
       "PEG                        17.015\n",
       "FwdEPS3to5Yr               22.565\n",
       "DividendCoverage           33.868\n",
       "TotalReturn10Yr            55.815\n",
       "EPSGrowth5Year             67.567\n",
       "TotalReturn5Yr             71.494\n",
       "FreeCashFlow               76.606\n",
       "TotalReturn3Yr             79.505\n",
       "RevenueTTM                 80.028\n",
       "TotalDebtToEquity          80.564\n",
       "EnterpriseValue            82.042\n",
       "ReturnonEquity             84.314\n",
       "PricePerformanceYTD        86.175\n",
       "TotalReturn1Yr             91.224\n",
       "PricePerformance52Weeks    91.224\n",
       "SharesOutstanding         100.000\n",
       "MCAP                      100.000\n",
       "PE                        100.000\n",
       "PriceToCashFlow           100.000\n",
       "PriceToSales              100.000\n",
       "PriceToBook               100.000\n",
       "DividendYield             100.000\n",
       "Dividend                  100.000\n",
       "TotalCash                 100.000\n",
       "VolumeAvg90Day            100.000\n",
       "price                     100.000\n",
       "dtype: float64"
      ]
     },
     "execution_count": 622,
     "metadata": {},
     "output_type": "execute_result"
    }
   ],
   "source": [
    "df_performance[col_to_fill] = df_performance[col_to_fill] \\\n",
    "    .fillna(method='ffill').fillna(0)\n",
    "get_perc_not_null(df_performance)"
   ]
  },
  {
   "cell_type": "markdown",
   "metadata": {},
   "source": [
    "### col_to_fill_then_drop\n",
    "> Front fill null values then drop stocks that still have nulls in these columns\n",
    "> * Beware!  we could lose stocks that have had an IPO since the inception of the data collection"
   ]
  },
  {
   "cell_type": "code",
   "execution_count": 623,
   "metadata": {
    "ExecuteTime": {
     "end_time": "2020-11-18T19:37:34.272967Z",
     "start_time": "2020-11-18T19:37:34.257929Z"
    }
   },
   "outputs": [
    {
     "data": {
      "text/plain": [
       "['RevenueTTM',\n",
       " 'DividendCoverage',\n",
       " 'PEG',\n",
       " 'EnterpriseValue',\n",
       " 'EPSGrowth5Year',\n",
       " 'FwdEPS3to5Yr',\n",
       " 'ReturnonEquity',\n",
       " 'FreeCashFlow',\n",
       " 'TotalDebtToEquity',\n",
       " 'PricePerformance52Weeks',\n",
       " 'PricePerformanceYTD',\n",
       " 'TotalReturn1Yr',\n",
       " 'TotalReturn3Yr',\n",
       " 'TotalReturn5Yr',\n",
       " 'TotalReturn10Yr']"
      ]
     },
     "execution_count": 623,
     "metadata": {},
     "output_type": "execute_result"
    }
   ],
   "source": [
    "col_to_front_then_drop = list(performance_mins[performance_mins < 0].index)\n",
    "col_to_front_then_drop"
   ]
  },
  {
   "cell_type": "markdown",
   "metadata": {},
   "source": [
    "#### Save length of dataframe for reference"
   ]
  },
  {
   "cell_type": "code",
   "execution_count": 624,
   "metadata": {
    "ExecuteTime": {
     "end_time": "2020-11-18T19:37:34.288966Z",
     "start_time": "2020-11-18T19:37:34.273972Z"
    }
   },
   "outputs": [
    {
     "data": {
      "text/plain": [
       "2015786"
      ]
     },
     "execution_count": 624,
     "metadata": {},
     "output_type": "execute_result"
    }
   ],
   "source": [
    "old_length = len(df_performance)\n",
    "old_length"
   ]
  },
  {
   "cell_type": "markdown",
   "metadata": {},
   "source": [
    "#### Front fill null values"
   ]
  },
  {
   "cell_type": "code",
   "execution_count": 625,
   "metadata": {
    "ExecuteTime": {
     "end_time": "2020-11-18T19:37:35.336201Z",
     "start_time": "2020-11-18T19:37:34.290968Z"
    }
   },
   "outputs": [
    {
     "data": {
      "text/html": [
       "<div>\n",
       "<style scoped>\n",
       "    .dataframe tbody tr th:only-of-type {\n",
       "        vertical-align: middle;\n",
       "    }\n",
       "\n",
       "    .dataframe tbody tr th {\n",
       "        vertical-align: top;\n",
       "    }\n",
       "\n",
       "    .dataframe thead th {\n",
       "        text-align: right;\n",
       "    }\n",
       "</style>\n",
       "<table border=\"1\" class=\"dataframe\">\n",
       "  <thead>\n",
       "    <tr style=\"text-align: right;\">\n",
       "      <th></th>\n",
       "      <th></th>\n",
       "      <th>RevenueTTM</th>\n",
       "      <th>DividendCoverage</th>\n",
       "      <th>PEG</th>\n",
       "      <th>EnterpriseValue</th>\n",
       "      <th>EPSGrowth5Year</th>\n",
       "      <th>FwdEPS3to5Yr</th>\n",
       "      <th>ReturnonEquity</th>\n",
       "      <th>FreeCashFlow</th>\n",
       "      <th>TotalDebtToEquity</th>\n",
       "      <th>PricePerformance52Weeks</th>\n",
       "      <th>PricePerformanceYTD</th>\n",
       "      <th>TotalReturn1Yr</th>\n",
       "      <th>TotalReturn3Yr</th>\n",
       "      <th>TotalReturn5Yr</th>\n",
       "      <th>TotalReturn10Yr</th>\n",
       "    </tr>\n",
       "    <tr>\n",
       "      <th>date</th>\n",
       "      <th>sym</th>\n",
       "      <th></th>\n",
       "      <th></th>\n",
       "      <th></th>\n",
       "      <th></th>\n",
       "      <th></th>\n",
       "      <th></th>\n",
       "      <th></th>\n",
       "      <th></th>\n",
       "      <th></th>\n",
       "      <th></th>\n",
       "      <th></th>\n",
       "      <th></th>\n",
       "      <th></th>\n",
       "      <th></th>\n",
       "      <th></th>\n",
       "    </tr>\n",
       "  </thead>\n",
       "  <tbody>\n",
       "    <tr>\n",
       "      <th>2019-08-09</th>\n",
       "      <th>A</th>\n",
       "      <td>5019</td>\n",
       "      <td>5.41342</td>\n",
       "      <td>1.88328</td>\n",
       "      <td>21670704590</td>\n",
       "      <td>-14.31388</td>\n",
       "      <td>10.603</td>\n",
       "      <td>23.1598</td>\n",
       "      <td>887</td>\n",
       "      <td>37.29007</td>\n",
       "      <td>3.13149</td>\n",
       "      <td>3.00919</td>\n",
       "      <td>4.04369</td>\n",
       "      <td>14.79356</td>\n",
       "      <td>11.15484</td>\n",
       "      <td>15.01027</td>\n",
       "    </tr>\n",
       "    <tr>\n",
       "      <th>2019-08-12</th>\n",
       "      <th>A</th>\n",
       "      <td>5019</td>\n",
       "      <td>5.41342</td>\n",
       "      <td>1.86024</td>\n",
       "      <td>21401262240</td>\n",
       "      <td>-14.31388</td>\n",
       "      <td>10.603</td>\n",
       "      <td>23.1598</td>\n",
       "      <td>887</td>\n",
       "      <td>37.29007</td>\n",
       "      <td>3.59191</td>\n",
       "      <td>1.74918</td>\n",
       "      <td>4.50818</td>\n",
       "      <td>14.09856</td>\n",
       "      <td>10.88157</td>\n",
       "      <td>14.82051</td>\n",
       "    </tr>\n",
       "    <tr>\n",
       "      <th>2019-08-13</th>\n",
       "      <th>A</th>\n",
       "      <td>5019</td>\n",
       "      <td>5.41342</td>\n",
       "      <td>1.80577</td>\n",
       "      <td>20764110330</td>\n",
       "      <td>-14.31388</td>\n",
       "      <td>10.603</td>\n",
       "      <td>23.1598</td>\n",
       "      <td>887</td>\n",
       "      <td>37.29007</td>\n",
       "      <td>0.55841</td>\n",
       "      <td>-1.23036</td>\n",
       "      <td>1.44784</td>\n",
       "      <td>12.4788</td>\n",
       "      <td>10.58715</td>\n",
       "      <td>14.21885</td>\n",
       "    </tr>\n",
       "    <tr>\n",
       "      <th>2019-08-14</th>\n",
       "      <th>A</th>\n",
       "      <td>5019</td>\n",
       "      <td>5.41342</td>\n",
       "      <td>1.83314</td>\n",
       "      <td>21084271240</td>\n",
       "      <td>-14.31388</td>\n",
       "      <td>10.603</td>\n",
       "      <td>23.1598</td>\n",
       "      <td>887</td>\n",
       "      <td>37.29007</td>\n",
       "      <td>2.5781</td>\n",
       "      <td>0.26682</td>\n",
       "      <td>3.4854</td>\n",
       "      <td>13.04428</td>\n",
       "      <td>10.74164</td>\n",
       "      <td>14.29275</td>\n",
       "    </tr>\n",
       "    <tr>\n",
       "      <th>2019-08-15</th>\n",
       "      <th>A</th>\n",
       "      <td>5090</td>\n",
       "      <td>5.22621</td>\n",
       "      <td>1.82931</td>\n",
       "      <td>20365900000</td>\n",
       "      <td>-14.31388</td>\n",
       "      <td>10.447</td>\n",
       "      <td>22.0179</td>\n",
       "      <td>918</td>\n",
       "      <td>36.93453</td>\n",
       "      <td>-1.73783</td>\n",
       "      <td>-2.77201</td>\n",
       "      <td>-0.8687</td>\n",
       "      <td>11.89052</td>\n",
       "      <td>9.72762</td>\n",
       "      <td>14.19957</td>\n",
       "    </tr>\n",
       "  </tbody>\n",
       "</table>\n",
       "</div>"
      ],
      "text/plain": [
       "               RevenueTTM DividendCoverage      PEG EnterpriseValue  \\\n",
       "date       sym                                                        \n",
       "2019-08-09 A         5019          5.41342  1.88328     21670704590   \n",
       "2019-08-12 A         5019          5.41342  1.86024     21401262240   \n",
       "2019-08-13 A         5019          5.41342  1.80577     20764110330   \n",
       "2019-08-14 A         5019          5.41342  1.83314     21084271240   \n",
       "2019-08-15 A         5090          5.22621  1.82931     20365900000   \n",
       "\n",
       "               EPSGrowth5Year FwdEPS3to5Yr ReturnonEquity FreeCashFlow  \\\n",
       "date       sym                                                           \n",
       "2019-08-09 A        -14.31388       10.603        23.1598          887   \n",
       "2019-08-12 A        -14.31388       10.603        23.1598          887   \n",
       "2019-08-13 A        -14.31388       10.603        23.1598          887   \n",
       "2019-08-14 A        -14.31388       10.603        23.1598          887   \n",
       "2019-08-15 A        -14.31388       10.447        22.0179          918   \n",
       "\n",
       "               TotalDebtToEquity PricePerformance52Weeks PricePerformanceYTD  \\\n",
       "date       sym                                                                 \n",
       "2019-08-09 A            37.29007                 3.13149             3.00919   \n",
       "2019-08-12 A            37.29007                 3.59191             1.74918   \n",
       "2019-08-13 A            37.29007                 0.55841            -1.23036   \n",
       "2019-08-14 A            37.29007                  2.5781             0.26682   \n",
       "2019-08-15 A            36.93453                -1.73783            -2.77201   \n",
       "\n",
       "               TotalReturn1Yr TotalReturn3Yr TotalReturn5Yr TotalReturn10Yr  \n",
       "date       sym                                                               \n",
       "2019-08-09 A          4.04369       14.79356       11.15484        15.01027  \n",
       "2019-08-12 A          4.50818       14.09856       10.88157        14.82051  \n",
       "2019-08-13 A          1.44784        12.4788       10.58715        14.21885  \n",
       "2019-08-14 A           3.4854       13.04428       10.74164        14.29275  \n",
       "2019-08-15 A          -0.8687       11.89052        9.72762        14.19957  "
      ]
     },
     "execution_count": 625,
     "metadata": {},
     "output_type": "execute_result"
    }
   ],
   "source": [
    "df_performance_split = df_performance[col_to_front_then_drop].copy(deep=True)\n",
    "df_performance_split.head()"
   ]
  },
  {
   "cell_type": "code",
   "execution_count": 626,
   "metadata": {
    "ExecuteTime": {
     "end_time": "2020-11-18T19:38:10.078370Z",
     "start_time": "2020-11-18T19:37:35.337698Z"
    }
   },
   "outputs": [],
   "source": [
    "df_performance[col_to_front_then_drop] = \\\n",
    "    df_performance_split.groupby('sym').fillna(method='ffill')"
   ]
  },
  {
   "cell_type": "code",
   "execution_count": 627,
   "metadata": {
    "ExecuteTime": {
     "end_time": "2020-11-18T19:38:13.624781Z",
     "start_time": "2020-11-18T19:38:10.080368Z"
    }
   },
   "outputs": [
    {
     "data": {
      "text/plain": [
       "ExDividendDate              7.352\n",
       "PEG                        22.992\n",
       "FwdEPS3to5Yr               29.222\n",
       "DividendCoverage           35.735\n",
       "TotalReturn10Yr            58.630\n",
       "EPSGrowth5Year             72.299\n",
       "TotalReturn5Yr             74.813\n",
       "RevenueTTM                 80.461\n",
       "TotalReturn3Yr             82.345\n",
       "FreeCashFlow               83.210\n",
       "TotalDebtToEquity          83.326\n",
       "ReturnonEquity             84.871\n",
       "EnterpriseValue            85.617\n",
       "PricePerformanceYTD        86.759\n",
       "TotalReturn1Yr             93.667\n",
       "PricePerformance52Weeks    93.667\n",
       "SharesOutstanding         100.000\n",
       "MCAP                      100.000\n",
       "PE                        100.000\n",
       "PriceToCashFlow           100.000\n",
       "PriceToSales              100.000\n",
       "PriceToBook               100.000\n",
       "DividendYield             100.000\n",
       "Dividend                  100.000\n",
       "TotalCash                 100.000\n",
       "VolumeAvg90Day            100.000\n",
       "price                     100.000\n",
       "dtype: float64"
      ]
     },
     "execution_count": 627,
     "metadata": {},
     "output_type": "execute_result"
    }
   ],
   "source": [
    "get_perc_not_null(df_performance)"
   ]
  },
  {
   "cell_type": "markdown",
   "metadata": {},
   "source": [
    "<div class=\"alert alert-info shadow\">\n",
    "  <strong>Success!</strong> We front filled some of the columns by stock by using a groupby.  Now we are going to drop a few columns that have more than 20% null values left.\n",
    "    <ul>\n",
    "        <li>PEG</li>\n",
    "        <li>FwdEPS3to5Yr</li>\n",
    "        <li>DividendCoverage</li>\n",
    "        <li>TotalReturn10Yr</li>\n",
    "        <li>EPSGrowth5Year</li>\n",
    "        <li>TotalReturn5Yr</li>\n",
    "    </ul>\n",
    "</div>"
   ]
  },
  {
   "cell_type": "code",
   "execution_count": 628,
   "metadata": {
    "ExecuteTime": {
     "end_time": "2020-11-18T19:38:14.672353Z",
     "start_time": "2020-11-18T19:38:13.627779Z"
    }
   },
   "outputs": [
    {
     "data": {
      "text/plain": [
       "7743"
      ]
     },
     "execution_count": 628,
     "metadata": {},
     "output_type": "execute_result"
    }
   ],
   "source": [
    "# For reference\n",
    "num_stocks = df_performance.reset_index()['sym'].nunique()\n",
    "num_stocks"
   ]
  },
  {
   "cell_type": "code",
   "execution_count": 629,
   "metadata": {
    "ExecuteTime": {
     "end_time": "2020-11-18T19:38:14.688371Z",
     "start_time": "2020-11-18T19:38:14.674355Z"
    }
   },
   "outputs": [],
   "source": [
    "drop_cols = ['PEG', 'FwdEPS3to5Yr', 'DividendCoverage', 'TotalReturn10Yr',\n",
    "             'EPSGrowth5Year', 'TotalReturn5Yr']"
   ]
  },
  {
   "cell_type": "code",
   "execution_count": 630,
   "metadata": {
    "ExecuteTime": {
     "end_time": "2020-11-18T19:38:15.799395Z",
     "start_time": "2020-11-18T19:38:14.690369Z"
    }
   },
   "outputs": [],
   "source": [
    "df_performance.drop(drop_cols, axis=1, inplace=True)\n",
    "col_to_front_then_drop = [col for col in col_to_front_then_drop if col not in drop_cols]"
   ]
  },
  {
   "cell_type": "code",
   "execution_count": 631,
   "metadata": {
    "ExecuteTime": {
     "end_time": "2020-11-18T19:38:25.186502Z",
     "start_time": "2020-11-18T19:38:15.800391Z"
    }
   },
   "outputs": [
    {
     "data": {
      "text/plain": [
       "ExDividendDate              9.454\n",
       "MCAP                      100.000\n",
       "SharesOutstanding         100.000\n",
       "TotalReturn3Yr            100.000\n",
       "TotalReturn1Yr            100.000\n",
       "PricePerformanceYTD       100.000\n",
       "PricePerformance52Weeks   100.000\n",
       "TotalDebtToEquity         100.000\n",
       "FreeCashFlow              100.000\n",
       "ReturnonEquity            100.000\n",
       "PE                        100.000\n",
       "PriceToCashFlow           100.000\n",
       "EnterpriseValue           100.000\n",
       "PriceToSales              100.000\n",
       "PriceToBook               100.000\n",
       "DividendYield             100.000\n",
       "Dividend                  100.000\n",
       "TotalCash                 100.000\n",
       "RevenueTTM                100.000\n",
       "VolumeAvg90Day            100.000\n",
       "price                     100.000\n",
       "dtype: float64"
      ]
     },
     "execution_count": 631,
     "metadata": {},
     "output_type": "execute_result"
    }
   ],
   "source": [
    "# Create a isna column with counts of NaNs in the given columns\n",
    "df_performance['isna'] = df_performance[col_to_front_then_drop].isna().sum(axis=1)\n",
    "\n",
    "# Create a variable drop_symbol with a list of symbols that need to be dropped\n",
    "var = df_performance.groupby('sym').sum()\n",
    "drop_symbol = var[var['isna'] > 0].index\n",
    "\n",
    "# Drop the rows with the given symbols\n",
    "df_performance = df_performance.reset_index() \\\n",
    "    [~df_performance.reset_index()['sym'].isin(drop_symbol)]\n",
    "\n",
    "# Reset the index back to how it was\n",
    "df_performance = df_performance.set_index(['date', 'sym'], drop=True)\n",
    "\n",
    "# Drop isna column\n",
    "df_performance.drop('isna', axis=1, inplace=True)\n",
    "\n",
    "get_perc_not_null(df_performance)"
   ]
  },
  {
   "cell_type": "code",
   "execution_count": 632,
   "metadata": {
    "ExecuteTime": {
     "end_time": "2020-11-18T19:38:25.694536Z",
     "start_time": "2020-11-18T19:38:25.188499Z"
    }
   },
   "outputs": [
    {
     "data": {
      "text/plain": [
       "59.705540488182876"
      ]
     },
     "execution_count": 632,
     "metadata": {},
     "output_type": "execute_result"
    }
   ],
   "source": [
    "100 - (df_performance.reset_index()['sym'].nunique() / num_stocks)*100"
   ]
  },
  {
   "cell_type": "markdown",
   "metadata": {},
   "source": [
    "<div class=\"alert alert-info shadow\">\n",
    "  <strong>58.7% gone!</strong> We may have given up 58.7% of our stock, but the integrity has greatly increased\n",
    "</div>"
   ]
  },
  {
   "cell_type": "markdown",
   "metadata": {},
   "source": [
    "### Fill null ExDividendDate with 1970-01-01"
   ]
  },
  {
   "cell_type": "markdown",
   "metadata": {},
   "source": [
    "#### Checking a stock will nulls"
   ]
  },
  {
   "cell_type": "code",
   "execution_count": 634,
   "metadata": {
    "ExecuteTime": {
     "end_time": "2020-11-18T19:38:31.947161Z",
     "start_time": "2020-11-18T19:38:31.865408Z"
    }
   },
   "outputs": [
    {
     "data": {
      "text/html": [
       "<div>\n",
       "<style scoped>\n",
       "    .dataframe tbody tr th:only-of-type {\n",
       "        vertical-align: middle;\n",
       "    }\n",
       "\n",
       "    .dataframe tbody tr th {\n",
       "        vertical-align: top;\n",
       "    }\n",
       "\n",
       "    .dataframe thead th {\n",
       "        text-align: right;\n",
       "    }\n",
       "</style>\n",
       "<table border=\"1\" class=\"dataframe\">\n",
       "  <thead>\n",
       "    <tr style=\"text-align: right;\">\n",
       "      <th></th>\n",
       "      <th></th>\n",
       "      <th>MCAP</th>\n",
       "      <th>RevenueTTM</th>\n",
       "      <th>TotalCash</th>\n",
       "      <th>ExDividendDate</th>\n",
       "      <th>Dividend</th>\n",
       "      <th>DividendYield</th>\n",
       "      <th>PriceToBook</th>\n",
       "      <th>PriceToSales</th>\n",
       "      <th>EnterpriseValue</th>\n",
       "      <th>PriceToCashFlow</th>\n",
       "      <th>...</th>\n",
       "      <th>ReturnonEquity</th>\n",
       "      <th>FreeCashFlow</th>\n",
       "      <th>TotalDebtToEquity</th>\n",
       "      <th>PricePerformance52Weeks</th>\n",
       "      <th>PricePerformanceYTD</th>\n",
       "      <th>TotalReturn1Yr</th>\n",
       "      <th>TotalReturn3Yr</th>\n",
       "      <th>SharesOutstanding</th>\n",
       "      <th>VolumeAvg90Day</th>\n",
       "      <th>price</th>\n",
       "    </tr>\n",
       "    <tr>\n",
       "      <th>date</th>\n",
       "      <th>sym</th>\n",
       "      <th></th>\n",
       "      <th></th>\n",
       "      <th></th>\n",
       "      <th></th>\n",
       "      <th></th>\n",
       "      <th></th>\n",
       "      <th></th>\n",
       "      <th></th>\n",
       "      <th></th>\n",
       "      <th></th>\n",
       "      <th></th>\n",
       "      <th></th>\n",
       "      <th></th>\n",
       "      <th></th>\n",
       "      <th></th>\n",
       "      <th></th>\n",
       "      <th></th>\n",
       "      <th></th>\n",
       "      <th></th>\n",
       "      <th></th>\n",
       "      <th></th>\n",
       "    </tr>\n",
       "  </thead>\n",
       "  <tbody>\n",
       "    <tr>\n",
       "      <th>2019-08-09</th>\n",
       "      <th>VLO</th>\n",
       "      <td>32654.52608</td>\n",
       "      <td>107343</td>\n",
       "      <td>2033</td>\n",
       "      <td>NaN</td>\n",
       "      <td>0.9</td>\n",
       "      <td>4.57085</td>\n",
       "      <td>1.52984</td>\n",
       "      <td>0.30708</td>\n",
       "      <td>41457526080</td>\n",
       "      <td>6.97474</td>\n",
       "      <td>...</td>\n",
       "      <td>11.8797</td>\n",
       "      <td>2244</td>\n",
       "      <td>46.84742</td>\n",
       "      <td>-32.04487</td>\n",
       "      <td>5.05536</td>\n",
       "      <td>-29.12099</td>\n",
       "      <td>18.07604</td>\n",
       "      <td>414.403</td>\n",
       "      <td>3.45152</td>\n",
       "      <td>78.850000</td>\n",
       "    </tr>\n",
       "    <tr>\n",
       "      <th>2019-08-12</th>\n",
       "      <th>VLO</th>\n",
       "      <td>32691.8408</td>\n",
       "      <td>107343</td>\n",
       "      <td>2033</td>\n",
       "      <td>NaN</td>\n",
       "      <td>0.9</td>\n",
       "      <td>4.56563</td>\n",
       "      <td>1.53159</td>\n",
       "      <td>0.30743</td>\n",
       "      <td>41494840800</td>\n",
       "      <td>6.98271</td>\n",
       "      <td>...</td>\n",
       "      <td>11.8797</td>\n",
       "      <td>2244</td>\n",
       "      <td>46.84742</td>\n",
       "      <td>-31.65468</td>\n",
       "      <td>5.1754</td>\n",
       "      <td>-28.71401</td>\n",
       "      <td>18.62225</td>\n",
       "      <td>414.403</td>\n",
       "      <td>3.4552</td>\n",
       "      <td>77.150000</td>\n",
       "    </tr>\n",
       "    <tr>\n",
       "      <th>2019-08-13</th>\n",
       "      <th>VLO</th>\n",
       "      <td>31987.0072</td>\n",
       "      <td>107343</td>\n",
       "      <td>2033</td>\n",
       "      <td>NaN</td>\n",
       "      <td>0.9</td>\n",
       "      <td>4.66623</td>\n",
       "      <td>1.49857</td>\n",
       "      <td>0.3008</td>\n",
       "      <td>40790007200</td>\n",
       "      <td>6.83216</td>\n",
       "      <td>...</td>\n",
       "      <td>11.8797</td>\n",
       "      <td>2244</td>\n",
       "      <td>46.84742</td>\n",
       "      <td>-33.1282</td>\n",
       "      <td>2.90783</td>\n",
       "      <td>-30.25093</td>\n",
       "      <td>16.73586</td>\n",
       "      <td>414.403</td>\n",
       "      <td>3.46185</td>\n",
       "      <td>78.740000</td>\n",
       "    </tr>\n",
       "    <tr>\n",
       "      <th>2019-08-14</th>\n",
       "      <th>VLO</th>\n",
       "      <td>32646.23392</td>\n",
       "      <td>107343</td>\n",
       "      <td>2033</td>\n",
       "      <td>NaN</td>\n",
       "      <td>0.9</td>\n",
       "      <td>4.57201</td>\n",
       "      <td>1.52946</td>\n",
       "      <td>0.307</td>\n",
       "      <td>41449233920</td>\n",
       "      <td>6.97297</td>\n",
       "      <td>...</td>\n",
       "      <td>11.8797</td>\n",
       "      <td>2244</td>\n",
       "      <td>46.84742</td>\n",
       "      <td>-31.40517</td>\n",
       "      <td>5.02868</td>\n",
       "      <td>-28.45377</td>\n",
       "      <td>17.53235</td>\n",
       "      <td>414.403</td>\n",
       "      <td>3.46362</td>\n",
       "      <td>76.000000</td>\n",
       "    </tr>\n",
       "    <tr>\n",
       "      <th>2019-08-15</th>\n",
       "      <th>VLO</th>\n",
       "      <td>31510.208</td>\n",
       "      <td>107343</td>\n",
       "      <td>2033</td>\n",
       "      <td>NaN</td>\n",
       "      <td>0.9</td>\n",
       "      <td>4.73684</td>\n",
       "      <td>1.47623</td>\n",
       "      <td>0.29632</td>\n",
       "      <td>40313208000</td>\n",
       "      <td>6.73032</td>\n",
       "      <td>...</td>\n",
       "      <td>11.8797</td>\n",
       "      <td>2244</td>\n",
       "      <td>46.84742</td>\n",
       "      <td>-33.94176</td>\n",
       "      <td>1.37388</td>\n",
       "      <td>-31.09951</td>\n",
       "      <td>16.15293</td>\n",
       "      <td>414.403</td>\n",
       "      <td>3.47071</td>\n",
       "      <td>76.720000</td>\n",
       "    </tr>\n",
       "  </tbody>\n",
       "</table>\n",
       "<p>5 rows × 21 columns</p>\n",
       "</div>"
      ],
      "text/plain": [
       "                       MCAP RevenueTTM TotalCash ExDividendDate Dividend  \\\n",
       "date       sym                                                             \n",
       "2019-08-09 VLO  32654.52608     107343      2033            NaN      0.9   \n",
       "2019-08-12 VLO   32691.8408     107343      2033            NaN      0.9   \n",
       "2019-08-13 VLO   31987.0072     107343      2033            NaN      0.9   \n",
       "2019-08-14 VLO  32646.23392     107343      2033            NaN      0.9   \n",
       "2019-08-15 VLO    31510.208     107343      2033            NaN      0.9   \n",
       "\n",
       "               DividendYield PriceToBook PriceToSales EnterpriseValue  \\\n",
       "date       sym                                                          \n",
       "2019-08-09 VLO       4.57085     1.52984      0.30708     41457526080   \n",
       "2019-08-12 VLO       4.56563     1.53159      0.30743     41494840800   \n",
       "2019-08-13 VLO       4.66623     1.49857       0.3008     40790007200   \n",
       "2019-08-14 VLO       4.57201     1.52946        0.307     41449233920   \n",
       "2019-08-15 VLO       4.73684     1.47623      0.29632     40313208000   \n",
       "\n",
       "               PriceToCashFlow  ... ReturnonEquity FreeCashFlow  \\\n",
       "date       sym                  ...                               \n",
       "2019-08-09 VLO         6.97474  ...        11.8797         2244   \n",
       "2019-08-12 VLO         6.98271  ...        11.8797         2244   \n",
       "2019-08-13 VLO         6.83216  ...        11.8797         2244   \n",
       "2019-08-14 VLO         6.97297  ...        11.8797         2244   \n",
       "2019-08-15 VLO         6.73032  ...        11.8797         2244   \n",
       "\n",
       "               TotalDebtToEquity PricePerformance52Weeks PricePerformanceYTD  \\\n",
       "date       sym                                                                 \n",
       "2019-08-09 VLO          46.84742               -32.04487             5.05536   \n",
       "2019-08-12 VLO          46.84742               -31.65468              5.1754   \n",
       "2019-08-13 VLO          46.84742                -33.1282             2.90783   \n",
       "2019-08-14 VLO          46.84742               -31.40517             5.02868   \n",
       "2019-08-15 VLO          46.84742               -33.94176             1.37388   \n",
       "\n",
       "               TotalReturn1Yr TotalReturn3Yr SharesOutstanding VolumeAvg90Day  \\\n",
       "date       sym                                                                  \n",
       "2019-08-09 VLO      -29.12099       18.07604           414.403        3.45152   \n",
       "2019-08-12 VLO      -28.71401       18.62225           414.403         3.4552   \n",
       "2019-08-13 VLO      -30.25093       16.73586           414.403        3.46185   \n",
       "2019-08-14 VLO      -28.45377       17.53235           414.403        3.46362   \n",
       "2019-08-15 VLO      -31.09951       16.15293           414.403        3.47071   \n",
       "\n",
       "                    price  \n",
       "date       sym             \n",
       "2019-08-09 VLO  78.850000  \n",
       "2019-08-12 VLO  77.150000  \n",
       "2019-08-13 VLO  78.740000  \n",
       "2019-08-14 VLO  76.000000  \n",
       "2019-08-15 VLO  76.720000  \n",
       "\n",
       "[5 rows x 21 columns]"
      ]
     },
     "execution_count": 634,
     "metadata": {},
     "output_type": "execute_result"
    }
   ],
   "source": [
    "df_performance.query(\"sym == 'VLO'\").head()"
   ]
  },
  {
   "cell_type": "code",
   "execution_count": 635,
   "metadata": {
    "ExecuteTime": {
     "end_time": "2020-11-18T19:38:32.058162Z",
     "start_time": "2020-11-18T19:38:32.051161Z"
    }
   },
   "outputs": [
    {
     "data": {
      "text/plain": [
       "['RevenueTTM',\n",
       " 'PriceToBook',\n",
       " 'TotalDebtToEquity',\n",
       " 'EnterpriseValue',\n",
       " 'ReturnonEquity',\n",
       " 'PricePerformanceYTD',\n",
       " 'VolumeAvg90Day',\n",
       " 'TotalCash',\n",
       " 'MCAP',\n",
       " 'TotalReturn1Yr',\n",
       " 'PricePerformance52Weeks',\n",
       " 'SharesOutstanding']"
      ]
     },
     "execution_count": 635,
     "metadata": {},
     "output_type": "execute_result"
    }
   ],
   "source": [
    "['RevenueTTM',\n",
    " 'PriceToBook',\n",
    " 'TotalDebtToEquity',\n",
    " 'EnterpriseValue',\n",
    " 'ReturnonEquity',\n",
    " 'PricePerformanceYTD',\n",
    " 'VolumeAvg90Day',\n",
    " 'TotalCash',\n",
    " 'MCAP',\n",
    " 'TotalReturn1Yr',\n",
    " 'PricePerformance52Weeks',\n",
    " 'SharesOutstanding']"
   ]
  },
  {
   "cell_type": "markdown",
   "metadata": {},
   "source": [
    "#### Checking a stock with valid dates"
   ]
  },
  {
   "cell_type": "code",
   "execution_count": 636,
   "metadata": {
    "ExecuteTime": {
     "end_time": "2020-11-18T19:38:32.917350Z",
     "start_time": "2020-11-18T19:38:32.846337Z"
    }
   },
   "outputs": [
    {
     "data": {
      "text/html": [
       "<div>\n",
       "<style scoped>\n",
       "    .dataframe tbody tr th:only-of-type {\n",
       "        vertical-align: middle;\n",
       "    }\n",
       "\n",
       "    .dataframe tbody tr th {\n",
       "        vertical-align: top;\n",
       "    }\n",
       "\n",
       "    .dataframe thead th {\n",
       "        text-align: right;\n",
       "    }\n",
       "</style>\n",
       "<table border=\"1\" class=\"dataframe\">\n",
       "  <thead>\n",
       "    <tr style=\"text-align: right;\">\n",
       "      <th></th>\n",
       "      <th></th>\n",
       "      <th>MCAP</th>\n",
       "      <th>RevenueTTM</th>\n",
       "      <th>TotalCash</th>\n",
       "      <th>ExDividendDate</th>\n",
       "      <th>Dividend</th>\n",
       "      <th>DividendYield</th>\n",
       "      <th>PriceToBook</th>\n",
       "      <th>PriceToSales</th>\n",
       "      <th>EnterpriseValue</th>\n",
       "      <th>PriceToCashFlow</th>\n",
       "      <th>...</th>\n",
       "      <th>ReturnonEquity</th>\n",
       "      <th>FreeCashFlow</th>\n",
       "      <th>TotalDebtToEquity</th>\n",
       "      <th>PricePerformance52Weeks</th>\n",
       "      <th>PricePerformanceYTD</th>\n",
       "      <th>TotalReturn1Yr</th>\n",
       "      <th>TotalReturn3Yr</th>\n",
       "      <th>SharesOutstanding</th>\n",
       "      <th>VolumeAvg90Day</th>\n",
       "      <th>price</th>\n",
       "    </tr>\n",
       "    <tr>\n",
       "      <th>date</th>\n",
       "      <th>sym</th>\n",
       "      <th></th>\n",
       "      <th></th>\n",
       "      <th></th>\n",
       "      <th></th>\n",
       "      <th></th>\n",
       "      <th></th>\n",
       "      <th></th>\n",
       "      <th></th>\n",
       "      <th></th>\n",
       "      <th></th>\n",
       "      <th></th>\n",
       "      <th></th>\n",
       "      <th></th>\n",
       "      <th></th>\n",
       "      <th></th>\n",
       "      <th></th>\n",
       "      <th></th>\n",
       "      <th></th>\n",
       "      <th></th>\n",
       "      <th></th>\n",
       "      <th></th>\n",
       "    </tr>\n",
       "  </thead>\n",
       "  <tbody>\n",
       "    <tr>\n",
       "      <th>2019-08-09</th>\n",
       "      <th>JNJ</th>\n",
       "      <td>347907.1192</td>\n",
       "      <td>81325</td>\n",
       "      <td>15278</td>\n",
       "      <td>2019-08-26</td>\n",
       "      <td>0.95</td>\n",
       "      <td>2.88578</td>\n",
       "      <td>5.72357</td>\n",
       "      <td>4.30831</td>\n",
       "      <td>363058119200</td>\n",
       "      <td>15.06076</td>\n",
       "      <td>...</td>\n",
       "      <td>26.7608</td>\n",
       "      <td>18377</td>\n",
       "      <td>50.15402</td>\n",
       "      <td>0.38881</td>\n",
       "      <td>2.03797</td>\n",
       "      <td>3.05849</td>\n",
       "      <td>4.83928</td>\n",
       "      <td>2639.166</td>\n",
       "      <td>7.01035</td>\n",
       "      <td>132.040000</td>\n",
       "    </tr>\n",
       "    <tr>\n",
       "      <th>2019-08-12</th>\n",
       "      <th>JNJ</th>\n",
       "      <td>348858.2626</td>\n",
       "      <td>81325</td>\n",
       "      <td>15278</td>\n",
       "      <td>2019-08-26</td>\n",
       "      <td>0.95</td>\n",
       "      <td>2.87792</td>\n",
       "      <td>5.73922</td>\n",
       "      <td>4.32009</td>\n",
       "      <td>364009262600</td>\n",
       "      <td>15.10193</td>\n",
       "      <td>...</td>\n",
       "      <td>26.7608</td>\n",
       "      <td>18377</td>\n",
       "      <td>50.15402</td>\n",
       "      <td>0.98662</td>\n",
       "      <td>2.31693</td>\n",
       "      <td>3.6722</td>\n",
       "      <td>5.01689</td>\n",
       "      <td>2639.166</td>\n",
       "      <td>6.98499</td>\n",
       "      <td>131.900000</td>\n",
       "    </tr>\n",
       "    <tr>\n",
       "      <th>2019-08-13</th>\n",
       "      <th>JNJ</th>\n",
       "      <td>348567.63545</td>\n",
       "      <td>81325</td>\n",
       "      <td>15278</td>\n",
       "      <td>2019-08-26</td>\n",
       "      <td>0.95</td>\n",
       "      <td>2.88032</td>\n",
       "      <td>5.73444</td>\n",
       "      <td>4.31649</td>\n",
       "      <td>363718635450</td>\n",
       "      <td>15.08935</td>\n",
       "      <td>...</td>\n",
       "      <td>26.7608</td>\n",
       "      <td>18377</td>\n",
       "      <td>50.15402</td>\n",
       "      <td>0.90249</td>\n",
       "      <td>2.23169</td>\n",
       "      <td>3.58583</td>\n",
       "      <td>5.02747</td>\n",
       "      <td>2639.166</td>\n",
       "      <td>7.0115</td>\n",
       "      <td>133.420000</td>\n",
       "    </tr>\n",
       "    <tr>\n",
       "      <th>2019-08-14</th>\n",
       "      <th>JNJ</th>\n",
       "      <td>352504.3123</td>\n",
       "      <td>81325</td>\n",
       "      <td>15278</td>\n",
       "      <td>2019-08-26</td>\n",
       "      <td>0.95</td>\n",
       "      <td>2.84815</td>\n",
       "      <td>5.7992</td>\n",
       "      <td>4.36524</td>\n",
       "      <td>367655312300</td>\n",
       "      <td>15.25977</td>\n",
       "      <td>...</td>\n",
       "      <td>26.7608</td>\n",
       "      <td>18377</td>\n",
       "      <td>50.15402</td>\n",
       "      <td>2.45738</td>\n",
       "      <td>3.38628</td>\n",
       "      <td>5.18208</td>\n",
       "      <td>5.42138</td>\n",
       "      <td>2639.166</td>\n",
       "      <td>7.00245</td>\n",
       "      <td>130.260000</td>\n",
       "    </tr>\n",
       "    <tr>\n",
       "      <th>2019-08-15</th>\n",
       "      <th>JNJ</th>\n",
       "      <td>344155.3869</td>\n",
       "      <td>81325</td>\n",
       "      <td>15278</td>\n",
       "      <td>2019-08-26</td>\n",
       "      <td>0.95</td>\n",
       "      <td>2.91724</td>\n",
       "      <td>5.66185</td>\n",
       "      <td>4.26185</td>\n",
       "      <td>359306386900</td>\n",
       "      <td>14.89835</td>\n",
       "      <td>...</td>\n",
       "      <td>26.7608</td>\n",
       "      <td>18377</td>\n",
       "      <td>50.15402</td>\n",
       "      <td>0.58687</td>\n",
       "      <td>0.93762</td>\n",
       "      <td>3.26183</td>\n",
       "      <td>4.58243</td>\n",
       "      <td>2639.166</td>\n",
       "      <td>7.02323</td>\n",
       "      <td>130.540000</td>\n",
       "    </tr>\n",
       "  </tbody>\n",
       "</table>\n",
       "<p>5 rows × 21 columns</p>\n",
       "</div>"
      ],
      "text/plain": [
       "                        MCAP RevenueTTM TotalCash ExDividendDate Dividend  \\\n",
       "date       sym                                                              \n",
       "2019-08-09 JNJ   347907.1192      81325     15278     2019-08-26     0.95   \n",
       "2019-08-12 JNJ   348858.2626      81325     15278     2019-08-26     0.95   \n",
       "2019-08-13 JNJ  348567.63545      81325     15278     2019-08-26     0.95   \n",
       "2019-08-14 JNJ   352504.3123      81325     15278     2019-08-26     0.95   \n",
       "2019-08-15 JNJ   344155.3869      81325     15278     2019-08-26     0.95   \n",
       "\n",
       "               DividendYield PriceToBook PriceToSales EnterpriseValue  \\\n",
       "date       sym                                                          \n",
       "2019-08-09 JNJ       2.88578     5.72357      4.30831    363058119200   \n",
       "2019-08-12 JNJ       2.87792     5.73922      4.32009    364009262600   \n",
       "2019-08-13 JNJ       2.88032     5.73444      4.31649    363718635450   \n",
       "2019-08-14 JNJ       2.84815      5.7992      4.36524    367655312300   \n",
       "2019-08-15 JNJ       2.91724     5.66185      4.26185    359306386900   \n",
       "\n",
       "               PriceToCashFlow  ... ReturnonEquity FreeCashFlow  \\\n",
       "date       sym                  ...                               \n",
       "2019-08-09 JNJ        15.06076  ...        26.7608        18377   \n",
       "2019-08-12 JNJ        15.10193  ...        26.7608        18377   \n",
       "2019-08-13 JNJ        15.08935  ...        26.7608        18377   \n",
       "2019-08-14 JNJ        15.25977  ...        26.7608        18377   \n",
       "2019-08-15 JNJ        14.89835  ...        26.7608        18377   \n",
       "\n",
       "               TotalDebtToEquity PricePerformance52Weeks PricePerformanceYTD  \\\n",
       "date       sym                                                                 \n",
       "2019-08-09 JNJ          50.15402                 0.38881             2.03797   \n",
       "2019-08-12 JNJ          50.15402                 0.98662             2.31693   \n",
       "2019-08-13 JNJ          50.15402                 0.90249             2.23169   \n",
       "2019-08-14 JNJ          50.15402                 2.45738             3.38628   \n",
       "2019-08-15 JNJ          50.15402                 0.58687             0.93762   \n",
       "\n",
       "               TotalReturn1Yr TotalReturn3Yr SharesOutstanding VolumeAvg90Day  \\\n",
       "date       sym                                                                  \n",
       "2019-08-09 JNJ        3.05849        4.83928          2639.166        7.01035   \n",
       "2019-08-12 JNJ         3.6722        5.01689          2639.166        6.98499   \n",
       "2019-08-13 JNJ        3.58583        5.02747          2639.166         7.0115   \n",
       "2019-08-14 JNJ        5.18208        5.42138          2639.166        7.00245   \n",
       "2019-08-15 JNJ        3.26183        4.58243          2639.166        7.02323   \n",
       "\n",
       "                     price  \n",
       "date       sym              \n",
       "2019-08-09 JNJ  132.040000  \n",
       "2019-08-12 JNJ  131.900000  \n",
       "2019-08-13 JNJ  133.420000  \n",
       "2019-08-14 JNJ  130.260000  \n",
       "2019-08-15 JNJ  130.540000  \n",
       "\n",
       "[5 rows x 21 columns]"
      ]
     },
     "execution_count": 636,
     "metadata": {},
     "output_type": "execute_result"
    }
   ],
   "source": [
    "df_performance.query(\"sym == 'JNJ'\").head()"
   ]
  },
  {
   "cell_type": "code",
   "execution_count": 637,
   "metadata": {
    "ExecuteTime": {
     "end_time": "2020-11-18T19:38:33.109362Z",
     "start_time": "2020-11-18T19:38:33.093349Z"
    }
   },
   "outputs": [
    {
     "data": {
      "text/plain": [
       "Timestamp('1970-01-01 00:00:00')"
      ]
     },
     "execution_count": 637,
     "metadata": {},
     "output_type": "execute_result"
    }
   ],
   "source": [
    "fill_date = pd.to_datetime('1970-01-01')\n",
    "fill_date"
   ]
  },
  {
   "cell_type": "code",
   "execution_count": 638,
   "metadata": {
    "ExecuteTime": {
     "end_time": "2020-11-18T19:38:36.275683Z",
     "start_time": "2020-11-18T19:38:35.456597Z"
    }
   },
   "outputs": [],
   "source": [
    "df_performance['ExDividendDate'] = pd.to_datetime(df_performance['ExDividendDate'].fillna(fill_date))"
   ]
  },
  {
   "cell_type": "code",
   "execution_count": 639,
   "metadata": {
    "ExecuteTime": {
     "end_time": "2020-11-18T19:38:36.291681Z",
     "start_time": "2020-11-18T19:38:36.277682Z"
    }
   },
   "outputs": [
    {
     "data": {
      "text/plain": [
       "0"
      ]
     },
     "execution_count": 639,
     "metadata": {},
     "output_type": "execute_result"
    }
   ],
   "source": [
    "df_performance['ExDividendDate'].isna().sum()"
   ]
  },
  {
   "cell_type": "markdown",
   "metadata": {},
   "source": [
    "#### Double checking fills"
   ]
  },
  {
   "cell_type": "code",
   "execution_count": 640,
   "metadata": {
    "ExecuteTime": {
     "end_time": "2020-11-18T19:38:37.146994Z",
     "start_time": "2020-11-18T19:38:37.074713Z"
    }
   },
   "outputs": [
    {
     "data": {
      "text/html": [
       "<div>\n",
       "<style scoped>\n",
       "    .dataframe tbody tr th:only-of-type {\n",
       "        vertical-align: middle;\n",
       "    }\n",
       "\n",
       "    .dataframe tbody tr th {\n",
       "        vertical-align: top;\n",
       "    }\n",
       "\n",
       "    .dataframe thead th {\n",
       "        text-align: right;\n",
       "    }\n",
       "</style>\n",
       "<table border=\"1\" class=\"dataframe\">\n",
       "  <thead>\n",
       "    <tr style=\"text-align: right;\">\n",
       "      <th></th>\n",
       "      <th></th>\n",
       "      <th>MCAP</th>\n",
       "      <th>RevenueTTM</th>\n",
       "      <th>TotalCash</th>\n",
       "      <th>ExDividendDate</th>\n",
       "      <th>Dividend</th>\n",
       "      <th>DividendYield</th>\n",
       "      <th>PriceToBook</th>\n",
       "      <th>PriceToSales</th>\n",
       "      <th>EnterpriseValue</th>\n",
       "      <th>PriceToCashFlow</th>\n",
       "      <th>...</th>\n",
       "      <th>ReturnonEquity</th>\n",
       "      <th>FreeCashFlow</th>\n",
       "      <th>TotalDebtToEquity</th>\n",
       "      <th>PricePerformance52Weeks</th>\n",
       "      <th>PricePerformanceYTD</th>\n",
       "      <th>TotalReturn1Yr</th>\n",
       "      <th>TotalReturn3Yr</th>\n",
       "      <th>SharesOutstanding</th>\n",
       "      <th>VolumeAvg90Day</th>\n",
       "      <th>price</th>\n",
       "    </tr>\n",
       "    <tr>\n",
       "      <th>date</th>\n",
       "      <th>sym</th>\n",
       "      <th></th>\n",
       "      <th></th>\n",
       "      <th></th>\n",
       "      <th></th>\n",
       "      <th></th>\n",
       "      <th></th>\n",
       "      <th></th>\n",
       "      <th></th>\n",
       "      <th></th>\n",
       "      <th></th>\n",
       "      <th></th>\n",
       "      <th></th>\n",
       "      <th></th>\n",
       "      <th></th>\n",
       "      <th></th>\n",
       "      <th></th>\n",
       "      <th></th>\n",
       "      <th></th>\n",
       "      <th></th>\n",
       "      <th></th>\n",
       "      <th></th>\n",
       "    </tr>\n",
       "  </thead>\n",
       "  <tbody>\n",
       "    <tr>\n",
       "      <th>2019-08-09</th>\n",
       "      <th>VLO</th>\n",
       "      <td>32654.52608</td>\n",
       "      <td>107343</td>\n",
       "      <td>2033</td>\n",
       "      <td>1970-01-01</td>\n",
       "      <td>0.9</td>\n",
       "      <td>4.57085</td>\n",
       "      <td>1.52984</td>\n",
       "      <td>0.30708</td>\n",
       "      <td>41457526080</td>\n",
       "      <td>6.97474</td>\n",
       "      <td>...</td>\n",
       "      <td>11.8797</td>\n",
       "      <td>2244</td>\n",
       "      <td>46.84742</td>\n",
       "      <td>-32.04487</td>\n",
       "      <td>5.05536</td>\n",
       "      <td>-29.12099</td>\n",
       "      <td>18.07604</td>\n",
       "      <td>414.403</td>\n",
       "      <td>3.45152</td>\n",
       "      <td>78.850000</td>\n",
       "    </tr>\n",
       "    <tr>\n",
       "      <th>2019-08-12</th>\n",
       "      <th>VLO</th>\n",
       "      <td>32691.8408</td>\n",
       "      <td>107343</td>\n",
       "      <td>2033</td>\n",
       "      <td>1970-01-01</td>\n",
       "      <td>0.9</td>\n",
       "      <td>4.56563</td>\n",
       "      <td>1.53159</td>\n",
       "      <td>0.30743</td>\n",
       "      <td>41494840800</td>\n",
       "      <td>6.98271</td>\n",
       "      <td>...</td>\n",
       "      <td>11.8797</td>\n",
       "      <td>2244</td>\n",
       "      <td>46.84742</td>\n",
       "      <td>-31.65468</td>\n",
       "      <td>5.1754</td>\n",
       "      <td>-28.71401</td>\n",
       "      <td>18.62225</td>\n",
       "      <td>414.403</td>\n",
       "      <td>3.4552</td>\n",
       "      <td>77.150000</td>\n",
       "    </tr>\n",
       "    <tr>\n",
       "      <th>2019-08-13</th>\n",
       "      <th>VLO</th>\n",
       "      <td>31987.0072</td>\n",
       "      <td>107343</td>\n",
       "      <td>2033</td>\n",
       "      <td>1970-01-01</td>\n",
       "      <td>0.9</td>\n",
       "      <td>4.66623</td>\n",
       "      <td>1.49857</td>\n",
       "      <td>0.3008</td>\n",
       "      <td>40790007200</td>\n",
       "      <td>6.83216</td>\n",
       "      <td>...</td>\n",
       "      <td>11.8797</td>\n",
       "      <td>2244</td>\n",
       "      <td>46.84742</td>\n",
       "      <td>-33.1282</td>\n",
       "      <td>2.90783</td>\n",
       "      <td>-30.25093</td>\n",
       "      <td>16.73586</td>\n",
       "      <td>414.403</td>\n",
       "      <td>3.46185</td>\n",
       "      <td>78.740000</td>\n",
       "    </tr>\n",
       "    <tr>\n",
       "      <th>2019-08-14</th>\n",
       "      <th>VLO</th>\n",
       "      <td>32646.23392</td>\n",
       "      <td>107343</td>\n",
       "      <td>2033</td>\n",
       "      <td>1970-01-01</td>\n",
       "      <td>0.9</td>\n",
       "      <td>4.57201</td>\n",
       "      <td>1.52946</td>\n",
       "      <td>0.307</td>\n",
       "      <td>41449233920</td>\n",
       "      <td>6.97297</td>\n",
       "      <td>...</td>\n",
       "      <td>11.8797</td>\n",
       "      <td>2244</td>\n",
       "      <td>46.84742</td>\n",
       "      <td>-31.40517</td>\n",
       "      <td>5.02868</td>\n",
       "      <td>-28.45377</td>\n",
       "      <td>17.53235</td>\n",
       "      <td>414.403</td>\n",
       "      <td>3.46362</td>\n",
       "      <td>76.000000</td>\n",
       "    </tr>\n",
       "    <tr>\n",
       "      <th>2019-08-15</th>\n",
       "      <th>VLO</th>\n",
       "      <td>31510.208</td>\n",
       "      <td>107343</td>\n",
       "      <td>2033</td>\n",
       "      <td>1970-01-01</td>\n",
       "      <td>0.9</td>\n",
       "      <td>4.73684</td>\n",
       "      <td>1.47623</td>\n",
       "      <td>0.29632</td>\n",
       "      <td>40313208000</td>\n",
       "      <td>6.73032</td>\n",
       "      <td>...</td>\n",
       "      <td>11.8797</td>\n",
       "      <td>2244</td>\n",
       "      <td>46.84742</td>\n",
       "      <td>-33.94176</td>\n",
       "      <td>1.37388</td>\n",
       "      <td>-31.09951</td>\n",
       "      <td>16.15293</td>\n",
       "      <td>414.403</td>\n",
       "      <td>3.47071</td>\n",
       "      <td>76.720000</td>\n",
       "    </tr>\n",
       "  </tbody>\n",
       "</table>\n",
       "<p>5 rows × 21 columns</p>\n",
       "</div>"
      ],
      "text/plain": [
       "                       MCAP RevenueTTM TotalCash ExDividendDate Dividend  \\\n",
       "date       sym                                                             \n",
       "2019-08-09 VLO  32654.52608     107343      2033     1970-01-01      0.9   \n",
       "2019-08-12 VLO   32691.8408     107343      2033     1970-01-01      0.9   \n",
       "2019-08-13 VLO   31987.0072     107343      2033     1970-01-01      0.9   \n",
       "2019-08-14 VLO  32646.23392     107343      2033     1970-01-01      0.9   \n",
       "2019-08-15 VLO    31510.208     107343      2033     1970-01-01      0.9   \n",
       "\n",
       "               DividendYield PriceToBook PriceToSales EnterpriseValue  \\\n",
       "date       sym                                                          \n",
       "2019-08-09 VLO       4.57085     1.52984      0.30708     41457526080   \n",
       "2019-08-12 VLO       4.56563     1.53159      0.30743     41494840800   \n",
       "2019-08-13 VLO       4.66623     1.49857       0.3008     40790007200   \n",
       "2019-08-14 VLO       4.57201     1.52946        0.307     41449233920   \n",
       "2019-08-15 VLO       4.73684     1.47623      0.29632     40313208000   \n",
       "\n",
       "               PriceToCashFlow  ... ReturnonEquity FreeCashFlow  \\\n",
       "date       sym                  ...                               \n",
       "2019-08-09 VLO         6.97474  ...        11.8797         2244   \n",
       "2019-08-12 VLO         6.98271  ...        11.8797         2244   \n",
       "2019-08-13 VLO         6.83216  ...        11.8797         2244   \n",
       "2019-08-14 VLO         6.97297  ...        11.8797         2244   \n",
       "2019-08-15 VLO         6.73032  ...        11.8797         2244   \n",
       "\n",
       "               TotalDebtToEquity PricePerformance52Weeks PricePerformanceYTD  \\\n",
       "date       sym                                                                 \n",
       "2019-08-09 VLO          46.84742               -32.04487             5.05536   \n",
       "2019-08-12 VLO          46.84742               -31.65468              5.1754   \n",
       "2019-08-13 VLO          46.84742                -33.1282             2.90783   \n",
       "2019-08-14 VLO          46.84742               -31.40517             5.02868   \n",
       "2019-08-15 VLO          46.84742               -33.94176             1.37388   \n",
       "\n",
       "               TotalReturn1Yr TotalReturn3Yr SharesOutstanding VolumeAvg90Day  \\\n",
       "date       sym                                                                  \n",
       "2019-08-09 VLO      -29.12099       18.07604           414.403        3.45152   \n",
       "2019-08-12 VLO      -28.71401       18.62225           414.403         3.4552   \n",
       "2019-08-13 VLO      -30.25093       16.73586           414.403        3.46185   \n",
       "2019-08-14 VLO      -28.45377       17.53235           414.403        3.46362   \n",
       "2019-08-15 VLO      -31.09951       16.15293           414.403        3.47071   \n",
       "\n",
       "                    price  \n",
       "date       sym             \n",
       "2019-08-09 VLO  78.850000  \n",
       "2019-08-12 VLO  77.150000  \n",
       "2019-08-13 VLO  78.740000  \n",
       "2019-08-14 VLO  76.000000  \n",
       "2019-08-15 VLO  76.720000  \n",
       "\n",
       "[5 rows x 21 columns]"
      ]
     },
     "execution_count": 640,
     "metadata": {},
     "output_type": "execute_result"
    }
   ],
   "source": [
    "df_performance.query(\"sym == 'VLO'\").head()"
   ]
  },
  {
   "cell_type": "code",
   "execution_count": 641,
   "metadata": {
    "ExecuteTime": {
     "end_time": "2020-11-18T19:38:37.607572Z",
     "start_time": "2020-11-18T19:38:37.540573Z"
    },
    "scrolled": false
   },
   "outputs": [
    {
     "data": {
      "text/html": [
       "<div>\n",
       "<style scoped>\n",
       "    .dataframe tbody tr th:only-of-type {\n",
       "        vertical-align: middle;\n",
       "    }\n",
       "\n",
       "    .dataframe tbody tr th {\n",
       "        vertical-align: top;\n",
       "    }\n",
       "\n",
       "    .dataframe thead th {\n",
       "        text-align: right;\n",
       "    }\n",
       "</style>\n",
       "<table border=\"1\" class=\"dataframe\">\n",
       "  <thead>\n",
       "    <tr style=\"text-align: right;\">\n",
       "      <th></th>\n",
       "      <th></th>\n",
       "      <th>MCAP</th>\n",
       "      <th>RevenueTTM</th>\n",
       "      <th>TotalCash</th>\n",
       "      <th>ExDividendDate</th>\n",
       "      <th>Dividend</th>\n",
       "      <th>DividendYield</th>\n",
       "      <th>PriceToBook</th>\n",
       "      <th>PriceToSales</th>\n",
       "      <th>EnterpriseValue</th>\n",
       "      <th>PriceToCashFlow</th>\n",
       "      <th>...</th>\n",
       "      <th>ReturnonEquity</th>\n",
       "      <th>FreeCashFlow</th>\n",
       "      <th>TotalDebtToEquity</th>\n",
       "      <th>PricePerformance52Weeks</th>\n",
       "      <th>PricePerformanceYTD</th>\n",
       "      <th>TotalReturn1Yr</th>\n",
       "      <th>TotalReturn3Yr</th>\n",
       "      <th>SharesOutstanding</th>\n",
       "      <th>VolumeAvg90Day</th>\n",
       "      <th>price</th>\n",
       "    </tr>\n",
       "    <tr>\n",
       "      <th>date</th>\n",
       "      <th>sym</th>\n",
       "      <th></th>\n",
       "      <th></th>\n",
       "      <th></th>\n",
       "      <th></th>\n",
       "      <th></th>\n",
       "      <th></th>\n",
       "      <th></th>\n",
       "      <th></th>\n",
       "      <th></th>\n",
       "      <th></th>\n",
       "      <th></th>\n",
       "      <th></th>\n",
       "      <th></th>\n",
       "      <th></th>\n",
       "      <th></th>\n",
       "      <th></th>\n",
       "      <th></th>\n",
       "      <th></th>\n",
       "      <th></th>\n",
       "      <th></th>\n",
       "      <th></th>\n",
       "    </tr>\n",
       "  </thead>\n",
       "  <tbody>\n",
       "    <tr>\n",
       "      <th>2019-08-09</th>\n",
       "      <th>JNJ</th>\n",
       "      <td>347907.1192</td>\n",
       "      <td>81325</td>\n",
       "      <td>15278</td>\n",
       "      <td>2019-08-26</td>\n",
       "      <td>0.95</td>\n",
       "      <td>2.88578</td>\n",
       "      <td>5.72357</td>\n",
       "      <td>4.30831</td>\n",
       "      <td>363058119200</td>\n",
       "      <td>15.06076</td>\n",
       "      <td>...</td>\n",
       "      <td>26.7608</td>\n",
       "      <td>18377</td>\n",
       "      <td>50.15402</td>\n",
       "      <td>0.38881</td>\n",
       "      <td>2.03797</td>\n",
       "      <td>3.05849</td>\n",
       "      <td>4.83928</td>\n",
       "      <td>2639.166</td>\n",
       "      <td>7.01035</td>\n",
       "      <td>132.040000</td>\n",
       "    </tr>\n",
       "    <tr>\n",
       "      <th>2019-08-12</th>\n",
       "      <th>JNJ</th>\n",
       "      <td>348858.2626</td>\n",
       "      <td>81325</td>\n",
       "      <td>15278</td>\n",
       "      <td>2019-08-26</td>\n",
       "      <td>0.95</td>\n",
       "      <td>2.87792</td>\n",
       "      <td>5.73922</td>\n",
       "      <td>4.32009</td>\n",
       "      <td>364009262600</td>\n",
       "      <td>15.10193</td>\n",
       "      <td>...</td>\n",
       "      <td>26.7608</td>\n",
       "      <td>18377</td>\n",
       "      <td>50.15402</td>\n",
       "      <td>0.98662</td>\n",
       "      <td>2.31693</td>\n",
       "      <td>3.6722</td>\n",
       "      <td>5.01689</td>\n",
       "      <td>2639.166</td>\n",
       "      <td>6.98499</td>\n",
       "      <td>131.900000</td>\n",
       "    </tr>\n",
       "    <tr>\n",
       "      <th>2019-08-13</th>\n",
       "      <th>JNJ</th>\n",
       "      <td>348567.63545</td>\n",
       "      <td>81325</td>\n",
       "      <td>15278</td>\n",
       "      <td>2019-08-26</td>\n",
       "      <td>0.95</td>\n",
       "      <td>2.88032</td>\n",
       "      <td>5.73444</td>\n",
       "      <td>4.31649</td>\n",
       "      <td>363718635450</td>\n",
       "      <td>15.08935</td>\n",
       "      <td>...</td>\n",
       "      <td>26.7608</td>\n",
       "      <td>18377</td>\n",
       "      <td>50.15402</td>\n",
       "      <td>0.90249</td>\n",
       "      <td>2.23169</td>\n",
       "      <td>3.58583</td>\n",
       "      <td>5.02747</td>\n",
       "      <td>2639.166</td>\n",
       "      <td>7.0115</td>\n",
       "      <td>133.420000</td>\n",
       "    </tr>\n",
       "    <tr>\n",
       "      <th>2019-08-14</th>\n",
       "      <th>JNJ</th>\n",
       "      <td>352504.3123</td>\n",
       "      <td>81325</td>\n",
       "      <td>15278</td>\n",
       "      <td>2019-08-26</td>\n",
       "      <td>0.95</td>\n",
       "      <td>2.84815</td>\n",
       "      <td>5.7992</td>\n",
       "      <td>4.36524</td>\n",
       "      <td>367655312300</td>\n",
       "      <td>15.25977</td>\n",
       "      <td>...</td>\n",
       "      <td>26.7608</td>\n",
       "      <td>18377</td>\n",
       "      <td>50.15402</td>\n",
       "      <td>2.45738</td>\n",
       "      <td>3.38628</td>\n",
       "      <td>5.18208</td>\n",
       "      <td>5.42138</td>\n",
       "      <td>2639.166</td>\n",
       "      <td>7.00245</td>\n",
       "      <td>130.260000</td>\n",
       "    </tr>\n",
       "    <tr>\n",
       "      <th>2019-08-15</th>\n",
       "      <th>JNJ</th>\n",
       "      <td>344155.3869</td>\n",
       "      <td>81325</td>\n",
       "      <td>15278</td>\n",
       "      <td>2019-08-26</td>\n",
       "      <td>0.95</td>\n",
       "      <td>2.91724</td>\n",
       "      <td>5.66185</td>\n",
       "      <td>4.26185</td>\n",
       "      <td>359306386900</td>\n",
       "      <td>14.89835</td>\n",
       "      <td>...</td>\n",
       "      <td>26.7608</td>\n",
       "      <td>18377</td>\n",
       "      <td>50.15402</td>\n",
       "      <td>0.58687</td>\n",
       "      <td>0.93762</td>\n",
       "      <td>3.26183</td>\n",
       "      <td>4.58243</td>\n",
       "      <td>2639.166</td>\n",
       "      <td>7.02323</td>\n",
       "      <td>130.540000</td>\n",
       "    </tr>\n",
       "  </tbody>\n",
       "</table>\n",
       "<p>5 rows × 21 columns</p>\n",
       "</div>"
      ],
      "text/plain": [
       "                        MCAP RevenueTTM TotalCash ExDividendDate Dividend  \\\n",
       "date       sym                                                              \n",
       "2019-08-09 JNJ   347907.1192      81325     15278     2019-08-26     0.95   \n",
       "2019-08-12 JNJ   348858.2626      81325     15278     2019-08-26     0.95   \n",
       "2019-08-13 JNJ  348567.63545      81325     15278     2019-08-26     0.95   \n",
       "2019-08-14 JNJ   352504.3123      81325     15278     2019-08-26     0.95   \n",
       "2019-08-15 JNJ   344155.3869      81325     15278     2019-08-26     0.95   \n",
       "\n",
       "               DividendYield PriceToBook PriceToSales EnterpriseValue  \\\n",
       "date       sym                                                          \n",
       "2019-08-09 JNJ       2.88578     5.72357      4.30831    363058119200   \n",
       "2019-08-12 JNJ       2.87792     5.73922      4.32009    364009262600   \n",
       "2019-08-13 JNJ       2.88032     5.73444      4.31649    363718635450   \n",
       "2019-08-14 JNJ       2.84815      5.7992      4.36524    367655312300   \n",
       "2019-08-15 JNJ       2.91724     5.66185      4.26185    359306386900   \n",
       "\n",
       "               PriceToCashFlow  ... ReturnonEquity FreeCashFlow  \\\n",
       "date       sym                  ...                               \n",
       "2019-08-09 JNJ        15.06076  ...        26.7608        18377   \n",
       "2019-08-12 JNJ        15.10193  ...        26.7608        18377   \n",
       "2019-08-13 JNJ        15.08935  ...        26.7608        18377   \n",
       "2019-08-14 JNJ        15.25977  ...        26.7608        18377   \n",
       "2019-08-15 JNJ        14.89835  ...        26.7608        18377   \n",
       "\n",
       "               TotalDebtToEquity PricePerformance52Weeks PricePerformanceYTD  \\\n",
       "date       sym                                                                 \n",
       "2019-08-09 JNJ          50.15402                 0.38881             2.03797   \n",
       "2019-08-12 JNJ          50.15402                 0.98662             2.31693   \n",
       "2019-08-13 JNJ          50.15402                 0.90249             2.23169   \n",
       "2019-08-14 JNJ          50.15402                 2.45738             3.38628   \n",
       "2019-08-15 JNJ          50.15402                 0.58687             0.93762   \n",
       "\n",
       "               TotalReturn1Yr TotalReturn3Yr SharesOutstanding VolumeAvg90Day  \\\n",
       "date       sym                                                                  \n",
       "2019-08-09 JNJ        3.05849        4.83928          2639.166        7.01035   \n",
       "2019-08-12 JNJ         3.6722        5.01689          2639.166        6.98499   \n",
       "2019-08-13 JNJ        3.58583        5.02747          2639.166         7.0115   \n",
       "2019-08-14 JNJ        5.18208        5.42138          2639.166        7.00245   \n",
       "2019-08-15 JNJ        3.26183        4.58243          2639.166        7.02323   \n",
       "\n",
       "                     price  \n",
       "date       sym              \n",
       "2019-08-09 JNJ  132.040000  \n",
       "2019-08-12 JNJ  131.900000  \n",
       "2019-08-13 JNJ  133.420000  \n",
       "2019-08-14 JNJ  130.260000  \n",
       "2019-08-15 JNJ  130.540000  \n",
       "\n",
       "[5 rows x 21 columns]"
      ]
     },
     "execution_count": 641,
     "metadata": {},
     "output_type": "execute_result"
    }
   ],
   "source": [
    "df_performance.query(\"sym == 'JNJ'\").head()"
   ]
  },
  {
   "cell_type": "markdown",
   "metadata": {},
   "source": [
    "### Convert to float"
   ]
  },
  {
   "cell_type": "code",
   "execution_count": 642,
   "metadata": {
    "ExecuteTime": {
     "end_time": "2020-11-18T19:38:56.941174Z",
     "start_time": "2020-11-18T19:38:38.213577Z"
    }
   },
   "outputs": [
    {
     "name": "stdout",
     "output_type": "stream",
     "text": [
      "exception in ExDividendDate\n"
     ]
    }
   ],
   "source": [
    "for col in df_performance.columns:\n",
    "    try:\n",
    "        df_performance[col] = df_performance[col].map(try_replace).astype('float32')\n",
    "    except Exception:\n",
    "        print('exception in', col)"
   ]
  },
  {
   "cell_type": "markdown",
   "metadata": {},
   "source": [
    "### Apply splits\n",
    "> "
   ]
  },
  {
   "cell_type": "code",
   "execution_count": 643,
   "metadata": {
    "ExecuteTime": {
     "end_time": "2020-11-18T19:38:56.957174Z",
     "start_time": "2020-11-18T19:38:56.942179Z"
    }
   },
   "outputs": [
    {
     "data": {
      "text/html": [
       "<div>\n",
       "<style scoped>\n",
       "    .dataframe tbody tr th:only-of-type {\n",
       "        vertical-align: middle;\n",
       "    }\n",
       "\n",
       "    .dataframe tbody tr th {\n",
       "        vertical-align: top;\n",
       "    }\n",
       "\n",
       "    .dataframe thead th {\n",
       "        text-align: right;\n",
       "    }\n",
       "</style>\n",
       "<table border=\"1\" class=\"dataframe\">\n",
       "  <thead>\n",
       "    <tr style=\"text-align: right;\">\n",
       "      <th></th>\n",
       "      <th>sym</th>\n",
       "      <th>num</th>\n",
       "      <th>den</th>\n",
       "      <th>announce</th>\n",
       "      <th>record</th>\n",
       "      <th>execute</th>\n",
       "      <th>apply</th>\n",
       "    </tr>\n",
       "  </thead>\n",
       "  <tbody>\n",
       "    <tr>\n",
       "      <th>0</th>\n",
       "      <td>AAPL</td>\n",
       "      <td>4.000</td>\n",
       "      <td>1.000</td>\n",
       "      <td>2020-07-30</td>\n",
       "      <td>2020-08-24</td>\n",
       "      <td>2020-08-31</td>\n",
       "      <td>4.000</td>\n",
       "    </tr>\n",
       "    <tr>\n",
       "      <th>1</th>\n",
       "      <td>ACHV</td>\n",
       "      <td>1.000</td>\n",
       "      <td>20.000</td>\n",
       "      <td>2020-07-30</td>\n",
       "      <td>2020-07-31</td>\n",
       "      <td>2020-07-31</td>\n",
       "      <td>0.050</td>\n",
       "    </tr>\n",
       "    <tr>\n",
       "      <th>2</th>\n",
       "      <td>AEMD</td>\n",
       "      <td>1.000</td>\n",
       "      <td>15.000</td>\n",
       "      <td>2019-10-14</td>\n",
       "      <td>2019-10-15</td>\n",
       "      <td>2019-10-15</td>\n",
       "      <td>0.067</td>\n",
       "    </tr>\n",
       "    <tr>\n",
       "      <th>3</th>\n",
       "      <td>AHT</td>\n",
       "      <td>1.000</td>\n",
       "      <td>10.000</td>\n",
       "      <td>2020-07-02</td>\n",
       "      <td>2020-07-16</td>\n",
       "      <td>2020-07-16</td>\n",
       "      <td>0.100</td>\n",
       "    </tr>\n",
       "    <tr>\n",
       "      <th>6</th>\n",
       "      <td>AITX</td>\n",
       "      <td>1.000</td>\n",
       "      <td>10000.000</td>\n",
       "      <td>2020-03-26</td>\n",
       "      <td>2020-03-27</td>\n",
       "      <td>2020-03-27</td>\n",
       "      <td>0.000</td>\n",
       "    </tr>\n",
       "  </tbody>\n",
       "</table>\n",
       "</div>"
      ],
      "text/plain": [
       "    sym   num       den    announce      record     execute  apply\n",
       "0  AAPL 4.000     1.000  2020-07-30  2020-08-24  2020-08-31  4.000\n",
       "1  ACHV 1.000    20.000  2020-07-30  2020-07-31  2020-07-31  0.050\n",
       "2  AEMD 1.000    15.000  2019-10-14  2019-10-15  2019-10-15  0.067\n",
       "3   AHT 1.000    10.000  2020-07-02  2020-07-16  2020-07-16  0.100\n",
       "6  AITX 1.000 10000.000  2020-03-26  2020-03-27  2020-03-27  0.000"
      ]
     },
     "execution_count": 643,
     "metadata": {},
     "output_type": "execute_result"
    }
   ],
   "source": [
    "df_splits.head()"
   ]
  },
  {
   "cell_type": "markdown",
   "metadata": {},
   "source": [
    "#### Check price to market_cap / shares_outstanding\n",
    "\n",
    ">"
   ]
  },
  {
   "cell_type": "code",
   "execution_count": 709,
   "metadata": {
    "ExecuteTime": {
     "end_time": "2020-11-18T19:52:53.777720Z",
     "start_time": "2020-11-18T19:52:53.760722Z"
    }
   },
   "outputs": [],
   "source": [
    "#fresh_df_performance = df_performance.copy(deep=True)\n",
    "#df_performance = fresh_df_performance.copy(deep=True)"
   ]
  },
  {
   "cell_type": "code",
   "execution_count": 710,
   "metadata": {
    "ExecuteTime": {
     "end_time": "2020-11-18T19:52:53.933723Z",
     "start_time": "2020-11-18T19:52:53.914719Z"
    }
   },
   "outputs": [],
   "source": [
    "df_performance['est_price_unsplit'] = df_performance['MCAP'] / df_performance['SharesOutstanding']"
   ]
  },
  {
   "cell_type": "code",
   "execution_count": 711,
   "metadata": {
    "ExecuteTime": {
     "end_time": "2020-11-18T19:52:54.075720Z",
     "start_time": "2020-11-18T19:52:54.060722Z"
    }
   },
   "outputs": [],
   "source": [
    "df_performance['price_est_vs_actual'] = \\\n",
    "    df_performance['est_price_unsplit'] / df_performance['price']"
   ]
  },
  {
   "cell_type": "code",
   "execution_count": 712,
   "metadata": {
    "ExecuteTime": {
     "end_time": "2020-11-18T19:52:54.203721Z",
     "start_time": "2020-11-18T19:52:54.198722Z"
    }
   },
   "outputs": [
    {
     "data": {
      "text/plain": [
       "Index(['MCAP', 'RevenueTTM', 'TotalCash', 'ExDividendDate', 'Dividend',\n",
       "       'DividendYield', 'PriceToBook', 'PriceToSales', 'EnterpriseValue',\n",
       "       'PriceToCashFlow', 'PE', 'ReturnonEquity', 'FreeCashFlow',\n",
       "       'TotalDebtToEquity', 'PricePerformance52Weeks', 'PricePerformanceYTD',\n",
       "       'TotalReturn1Yr', 'TotalReturn3Yr', 'SharesOutstanding',\n",
       "       'VolumeAvg90Day', 'price', 'est_price_unsplit', 'price_est_vs_actual'],\n",
       "      dtype='object')"
      ]
     },
     "execution_count": 712,
     "metadata": {},
     "output_type": "execute_result"
    }
   ],
   "source": [
    "df_performance.columns"
   ]
  },
  {
   "cell_type": "code",
   "execution_count": 713,
   "metadata": {
    "ExecuteTime": {
     "end_time": "2020-11-18T19:52:54.552453Z",
     "start_time": "2020-11-18T19:52:54.341643Z"
    }
   },
   "outputs": [],
   "source": [
    "df_performance['split_expected'] = \\\n",
    "    df_performance['price_est_vs_actual'] \\\n",
    "        .map(lambda x:True if ((x > 1.5) | (x < 0.50)) else False)"
   ]
  },
  {
   "cell_type": "code",
   "execution_count": 714,
   "metadata": {
    "ExecuteTime": {
     "end_time": "2020-11-18T19:52:54.662454Z",
     "start_time": "2020-11-18T19:52:54.554449Z"
    }
   },
   "outputs": [
    {
     "data": {
      "text/html": [
       "<div>\n",
       "<style scoped>\n",
       "    .dataframe tbody tr th:only-of-type {\n",
       "        vertical-align: middle;\n",
       "    }\n",
       "\n",
       "    .dataframe tbody tr th {\n",
       "        vertical-align: top;\n",
       "    }\n",
       "\n",
       "    .dataframe thead th {\n",
       "        text-align: right;\n",
       "    }\n",
       "</style>\n",
       "<table border=\"1\" class=\"dataframe\">\n",
       "  <thead>\n",
       "    <tr style=\"text-align: right;\">\n",
       "      <th></th>\n",
       "      <th></th>\n",
       "      <th>MCAP</th>\n",
       "      <th>RevenueTTM</th>\n",
       "      <th>TotalCash</th>\n",
       "      <th>ExDividendDate</th>\n",
       "      <th>Dividend</th>\n",
       "      <th>DividendYield</th>\n",
       "      <th>PriceToBook</th>\n",
       "      <th>PriceToSales</th>\n",
       "      <th>EnterpriseValue</th>\n",
       "      <th>PriceToCashFlow</th>\n",
       "      <th>...</th>\n",
       "      <th>PricePerformance52Weeks</th>\n",
       "      <th>PricePerformanceYTD</th>\n",
       "      <th>TotalReturn1Yr</th>\n",
       "      <th>TotalReturn3Yr</th>\n",
       "      <th>SharesOutstanding</th>\n",
       "      <th>VolumeAvg90Day</th>\n",
       "      <th>price</th>\n",
       "      <th>est_price_unsplit</th>\n",
       "      <th>price_est_vs_actual</th>\n",
       "      <th>split_expected</th>\n",
       "    </tr>\n",
       "    <tr>\n",
       "      <th>date</th>\n",
       "      <th>sym</th>\n",
       "      <th></th>\n",
       "      <th></th>\n",
       "      <th></th>\n",
       "      <th></th>\n",
       "      <th></th>\n",
       "      <th></th>\n",
       "      <th></th>\n",
       "      <th></th>\n",
       "      <th></th>\n",
       "      <th></th>\n",
       "      <th></th>\n",
       "      <th></th>\n",
       "      <th></th>\n",
       "      <th></th>\n",
       "      <th></th>\n",
       "      <th></th>\n",
       "      <th></th>\n",
       "      <th></th>\n",
       "      <th></th>\n",
       "      <th></th>\n",
       "      <th></th>\n",
       "    </tr>\n",
       "  </thead>\n",
       "  <tbody>\n",
       "    <tr>\n",
       "      <th>2020-08-27</th>\n",
       "      <th>AAPL</th>\n",
       "      <td>2168058.750</td>\n",
       "      <td>273857.000</td>\n",
       "      <td>93054.000</td>\n",
       "      <td>1970-01-01</td>\n",
       "      <td>0.820</td>\n",
       "      <td>0.648</td>\n",
       "      <td>29.994</td>\n",
       "      <td>8.056</td>\n",
       "      <td>2197190737920.000</td>\n",
       "      <td>31.535</td>\n",
       "      <td>...</td>\n",
       "      <td>145.092</td>\n",
       "      <td>72.345</td>\n",
       "      <td>147.517</td>\n",
       "      <td>48.813</td>\n",
       "      <td>4275.634</td>\n",
       "      <td>37.915</td>\n",
       "      <td>500.040</td>\n",
       "      <td>507.073</td>\n",
       "      <td>1.014</td>\n",
       "      <td>False</td>\n",
       "    </tr>\n",
       "    <tr>\n",
       "      <th>2020-08-28</th>\n",
       "      <th>AAPL</th>\n",
       "      <td>2142140.750</td>\n",
       "      <td>273857.000</td>\n",
       "      <td>93054.000</td>\n",
       "      <td>1970-01-01</td>\n",
       "      <td>0.820</td>\n",
       "      <td>0.656</td>\n",
       "      <td>29.636</td>\n",
       "      <td>7.959</td>\n",
       "      <td>2171272822784.000</td>\n",
       "      <td>31.158</td>\n",
       "      <td>...</td>\n",
       "      <td>143.293</td>\n",
       "      <td>70.284</td>\n",
       "      <td>145.701</td>\n",
       "      <td>47.723</td>\n",
       "      <td>4275.634</td>\n",
       "      <td>37.904</td>\n",
       "      <td>498.900</td>\n",
       "      <td>501.011</td>\n",
       "      <td>1.004</td>\n",
       "      <td>False</td>\n",
       "    </tr>\n",
       "    <tr>\n",
       "      <th>2020-08-31</th>\n",
       "      <th>AAPL</th>\n",
       "      <td>534667.688</td>\n",
       "      <td>273857.000</td>\n",
       "      <td>93054.000</td>\n",
       "      <td>1970-01-01</td>\n",
       "      <td>0.820</td>\n",
       "      <td>0.657</td>\n",
       "      <td>7.397</td>\n",
       "      <td>1.987</td>\n",
       "      <td>563799719936.000</td>\n",
       "      <td>7.777</td>\n",
       "      <td>...</td>\n",
       "      <td>139.164</td>\n",
       "      <td>70.009</td>\n",
       "      <td>141.530</td>\n",
       "      <td>46.880</td>\n",
       "      <td>17102.535</td>\n",
       "      <td>152.401</td>\n",
       "      <td>129.040</td>\n",
       "      <td>31.262</td>\n",
       "      <td>0.242</td>\n",
       "      <td>True</td>\n",
       "    </tr>\n",
       "    <tr>\n",
       "      <th>2020-09-01</th>\n",
       "      <th>AAPL</th>\n",
       "      <td>2211198.000</td>\n",
       "      <td>273857.000</td>\n",
       "      <td>93054.000</td>\n",
       "      <td>1970-01-01</td>\n",
       "      <td>0.205</td>\n",
       "      <td>0.635</td>\n",
       "      <td>30.591</td>\n",
       "      <td>8.216</td>\n",
       "      <td>2240330072064.000</td>\n",
       "      <td>32.162</td>\n",
       "      <td>...</td>\n",
       "      <td>147.274</td>\n",
       "      <td>75.774</td>\n",
       "      <td>149.721</td>\n",
       "      <td>48.507</td>\n",
       "      <td>17102.535</td>\n",
       "      <td>153.522</td>\n",
       "      <td>134.180</td>\n",
       "      <td>129.291</td>\n",
       "      <td>0.964</td>\n",
       "      <td>False</td>\n",
       "    </tr>\n",
       "    <tr>\n",
       "      <th>2020-09-02</th>\n",
       "      <th>AAPL</th>\n",
       "      <td>2299275.750</td>\n",
       "      <td>273857.000</td>\n",
       "      <td>93054.000</td>\n",
       "      <td>1970-01-01</td>\n",
       "      <td>0.205</td>\n",
       "      <td>0.611</td>\n",
       "      <td>31.810</td>\n",
       "      <td>8.543</td>\n",
       "      <td>2328407834624.000</td>\n",
       "      <td>33.443</td>\n",
       "      <td>...</td>\n",
       "      <td>157.124</td>\n",
       "      <td>82.775</td>\n",
       "      <td>159.668</td>\n",
       "      <td>50.453</td>\n",
       "      <td>17102.535</td>\n",
       "      <td>153.511</td>\n",
       "      <td>131.390</td>\n",
       "      <td>134.441</td>\n",
       "      <td>1.023</td>\n",
       "      <td>False</td>\n",
       "    </tr>\n",
       "  </tbody>\n",
       "</table>\n",
       "<p>5 rows × 24 columns</p>\n",
       "</div>"
      ],
      "text/plain": [
       "                       MCAP  RevenueTTM  TotalCash ExDividendDate  Dividend  \\\n",
       "date       sym                                                                \n",
       "2020-08-27 AAPL 2168058.750  273857.000  93054.000     1970-01-01     0.820   \n",
       "2020-08-28 AAPL 2142140.750  273857.000  93054.000     1970-01-01     0.820   \n",
       "2020-08-31 AAPL  534667.688  273857.000  93054.000     1970-01-01     0.820   \n",
       "2020-09-01 AAPL 2211198.000  273857.000  93054.000     1970-01-01     0.205   \n",
       "2020-09-02 AAPL 2299275.750  273857.000  93054.000     1970-01-01     0.205   \n",
       "\n",
       "                 DividendYield  PriceToBook  PriceToSales   EnterpriseValue  \\\n",
       "date       sym                                                                \n",
       "2020-08-27 AAPL          0.648       29.994         8.056 2197190737920.000   \n",
       "2020-08-28 AAPL          0.656       29.636         7.959 2171272822784.000   \n",
       "2020-08-31 AAPL          0.657        7.397         1.987  563799719936.000   \n",
       "2020-09-01 AAPL          0.635       30.591         8.216 2240330072064.000   \n",
       "2020-09-02 AAPL          0.611       31.810         8.543 2328407834624.000   \n",
       "\n",
       "                 PriceToCashFlow  ...  PricePerformance52Weeks  \\\n",
       "date       sym                    ...                            \n",
       "2020-08-27 AAPL           31.535  ...                  145.092   \n",
       "2020-08-28 AAPL           31.158  ...                  143.293   \n",
       "2020-08-31 AAPL            7.777  ...                  139.164   \n",
       "2020-09-01 AAPL           32.162  ...                  147.274   \n",
       "2020-09-02 AAPL           33.443  ...                  157.124   \n",
       "\n",
       "                 PricePerformanceYTD  TotalReturn1Yr  TotalReturn3Yr  \\\n",
       "date       sym                                                         \n",
       "2020-08-27 AAPL               72.345         147.517          48.813   \n",
       "2020-08-28 AAPL               70.284         145.701          47.723   \n",
       "2020-08-31 AAPL               70.009         141.530          46.880   \n",
       "2020-09-01 AAPL               75.774         149.721          48.507   \n",
       "2020-09-02 AAPL               82.775         159.668          50.453   \n",
       "\n",
       "                 SharesOutstanding  VolumeAvg90Day   price  est_price_unsplit  \\\n",
       "date       sym                                                                  \n",
       "2020-08-27 AAPL           4275.634          37.915 500.040            507.073   \n",
       "2020-08-28 AAPL           4275.634          37.904 498.900            501.011   \n",
       "2020-08-31 AAPL          17102.535         152.401 129.040             31.262   \n",
       "2020-09-01 AAPL          17102.535         153.522 134.180            129.291   \n",
       "2020-09-02 AAPL          17102.535         153.511 131.390            134.441   \n",
       "\n",
       "                 price_est_vs_actual  split_expected  \n",
       "date       sym                                        \n",
       "2020-08-27 AAPL                1.014           False  \n",
       "2020-08-28 AAPL                1.004           False  \n",
       "2020-08-31 AAPL                0.242            True  \n",
       "2020-09-01 AAPL                0.964           False  \n",
       "2020-09-02 AAPL                1.023           False  \n",
       "\n",
       "[5 rows x 24 columns]"
      ]
     },
     "execution_count": 714,
     "metadata": {},
     "output_type": "execute_result"
    }
   ],
   "source": [
    "df_performance.query(\"sym == 'AAPL'\").query(\"date <= '2020-09-2'\").tail()"
   ]
  },
  {
   "cell_type": "markdown",
   "metadata": {},
   "source": [
    "#### Apply Splits"
   ]
  },
  {
   "cell_type": "code",
   "execution_count": 715,
   "metadata": {
    "ExecuteTime": {
     "end_time": "2020-11-18T19:52:54.804453Z",
     "start_time": "2020-11-18T19:52:54.783449Z"
    }
   },
   "outputs": [
    {
     "data": {
      "text/html": [
       "<div>\n",
       "<style scoped>\n",
       "    .dataframe tbody tr th:only-of-type {\n",
       "        vertical-align: middle;\n",
       "    }\n",
       "\n",
       "    .dataframe tbody tr th {\n",
       "        vertical-align: top;\n",
       "    }\n",
       "\n",
       "    .dataframe thead th {\n",
       "        text-align: right;\n",
       "    }\n",
       "</style>\n",
       "<table border=\"1\" class=\"dataframe\">\n",
       "  <thead>\n",
       "    <tr style=\"text-align: right;\">\n",
       "      <th></th>\n",
       "      <th>sym</th>\n",
       "      <th>num</th>\n",
       "      <th>den</th>\n",
       "      <th>announce</th>\n",
       "      <th>record</th>\n",
       "      <th>execute</th>\n",
       "      <th>apply</th>\n",
       "    </tr>\n",
       "  </thead>\n",
       "  <tbody>\n",
       "    <tr>\n",
       "      <th>0</th>\n",
       "      <td>AAPL</td>\n",
       "      <td>4.000</td>\n",
       "      <td>1.000</td>\n",
       "      <td>2020-07-30</td>\n",
       "      <td>2020-08-24</td>\n",
       "      <td>2020-08-31</td>\n",
       "      <td>4.000</td>\n",
       "    </tr>\n",
       "  </tbody>\n",
       "</table>\n",
       "</div>"
      ],
      "text/plain": [
       "    sym   num   den    announce      record     execute  apply\n",
       "0  AAPL 4.000 1.000  2020-07-30  2020-08-24  2020-08-31  4.000"
      ]
     },
     "execution_count": 715,
     "metadata": {},
     "output_type": "execute_result"
    }
   ],
   "source": [
    "df_splits.loc[df_splits['sym'] == 'AAPL']"
   ]
  },
  {
   "cell_type": "code",
   "execution_count": 716,
   "metadata": {
    "ExecuteTime": {
     "end_time": "2020-11-18T19:52:55.089876Z",
     "start_time": "2020-11-18T19:52:55.076449Z"
    }
   },
   "outputs": [
    {
     "data": {
      "text/html": [
       "<div>\n",
       "<style scoped>\n",
       "    .dataframe tbody tr th:only-of-type {\n",
       "        vertical-align: middle;\n",
       "    }\n",
       "\n",
       "    .dataframe tbody tr th {\n",
       "        vertical-align: top;\n",
       "    }\n",
       "\n",
       "    .dataframe thead th {\n",
       "        text-align: right;\n",
       "    }\n",
       "</style>\n",
       "<table border=\"1\" class=\"dataframe\">\n",
       "  <thead>\n",
       "    <tr style=\"text-align: right;\">\n",
       "      <th></th>\n",
       "      <th>sym</th>\n",
       "      <th>num</th>\n",
       "      <th>den</th>\n",
       "      <th>announce</th>\n",
       "      <th>record</th>\n",
       "      <th>execute</th>\n",
       "      <th>apply</th>\n",
       "    </tr>\n",
       "  </thead>\n",
       "  <tbody>\n",
       "    <tr>\n",
       "      <th>0</th>\n",
       "      <td>AAPL</td>\n",
       "      <td>4.000</td>\n",
       "      <td>1.000</td>\n",
       "      <td>2020-07-30</td>\n",
       "      <td>2020-08-24</td>\n",
       "      <td>2020-08-31</td>\n",
       "      <td>4.000</td>\n",
       "    </tr>\n",
       "    <tr>\n",
       "      <th>1</th>\n",
       "      <td>ACHV</td>\n",
       "      <td>1.000</td>\n",
       "      <td>20.000</td>\n",
       "      <td>2020-07-30</td>\n",
       "      <td>2020-07-31</td>\n",
       "      <td>2020-07-31</td>\n",
       "      <td>0.050</td>\n",
       "    </tr>\n",
       "    <tr>\n",
       "      <th>2</th>\n",
       "      <td>AEMD</td>\n",
       "      <td>1.000</td>\n",
       "      <td>15.000</td>\n",
       "      <td>2019-10-14</td>\n",
       "      <td>2019-10-15</td>\n",
       "      <td>2019-10-15</td>\n",
       "      <td>0.067</td>\n",
       "    </tr>\n",
       "    <tr>\n",
       "      <th>3</th>\n",
       "      <td>AHT</td>\n",
       "      <td>1.000</td>\n",
       "      <td>10.000</td>\n",
       "      <td>2020-07-02</td>\n",
       "      <td>2020-07-16</td>\n",
       "      <td>2020-07-16</td>\n",
       "      <td>0.100</td>\n",
       "    </tr>\n",
       "    <tr>\n",
       "      <th>6</th>\n",
       "      <td>AITX</td>\n",
       "      <td>1.000</td>\n",
       "      <td>10000.000</td>\n",
       "      <td>2020-03-26</td>\n",
       "      <td>2020-03-27</td>\n",
       "      <td>2020-03-27</td>\n",
       "      <td>0.000</td>\n",
       "    </tr>\n",
       "  </tbody>\n",
       "</table>\n",
       "</div>"
      ],
      "text/plain": [
       "    sym   num       den    announce      record     execute  apply\n",
       "0  AAPL 4.000     1.000  2020-07-30  2020-08-24  2020-08-31  4.000\n",
       "1  ACHV 1.000    20.000  2020-07-30  2020-07-31  2020-07-31  0.050\n",
       "2  AEMD 1.000    15.000  2019-10-14  2019-10-15  2019-10-15  0.067\n",
       "3   AHT 1.000    10.000  2020-07-02  2020-07-16  2020-07-16  0.100\n",
       "6  AITX 1.000 10000.000  2020-03-26  2020-03-27  2020-03-27  0.000"
      ]
     },
     "execution_count": 716,
     "metadata": {},
     "output_type": "execute_result"
    }
   ],
   "source": [
    "df_splits.head()"
   ]
  },
  {
   "cell_type": "code",
   "execution_count": 717,
   "metadata": {
    "ExecuteTime": {
     "end_time": "2020-11-18T19:52:55.422574Z",
     "start_time": "2020-11-18T19:52:55.414574Z"
    }
   },
   "outputs": [
    {
     "data": {
      "text/plain": [
       "4.0"
      ]
     },
     "execution_count": 717,
     "metadata": {},
     "output_type": "execute_result"
    }
   ],
   "source": [
    "apply = df_splits.loc[df_splits['sym'] == 'AAPL']['num'].values[0]\n",
    "apply"
   ]
  },
  {
   "cell_type": "code",
   "execution_count": 718,
   "metadata": {
    "ExecuteTime": {
     "end_time": "2020-11-18T19:52:55.771068Z",
     "start_time": "2020-11-18T19:52:55.729072Z"
    }
   },
   "outputs": [],
   "source": [
    "df_performance.reset_index(inplace=True)"
   ]
  },
  {
   "cell_type": "code",
   "execution_count": 719,
   "metadata": {
    "ExecuteTime": {
     "end_time": "2020-11-18T19:52:56.243967Z",
     "start_time": "2020-11-18T19:52:56.214915Z"
    }
   },
   "outputs": [
    {
     "data": {
      "text/html": [
       "<div>\n",
       "<style scoped>\n",
       "    .dataframe tbody tr th:only-of-type {\n",
       "        vertical-align: middle;\n",
       "    }\n",
       "\n",
       "    .dataframe tbody tr th {\n",
       "        vertical-align: top;\n",
       "    }\n",
       "\n",
       "    .dataframe thead th {\n",
       "        text-align: right;\n",
       "    }\n",
       "</style>\n",
       "<table border=\"1\" class=\"dataframe\">\n",
       "  <thead>\n",
       "    <tr style=\"text-align: right;\">\n",
       "      <th></th>\n",
       "      <th>date</th>\n",
       "      <th>sym</th>\n",
       "      <th>MCAP</th>\n",
       "      <th>RevenueTTM</th>\n",
       "      <th>TotalCash</th>\n",
       "      <th>ExDividendDate</th>\n",
       "      <th>Dividend</th>\n",
       "      <th>DividendYield</th>\n",
       "      <th>PriceToBook</th>\n",
       "      <th>PriceToSales</th>\n",
       "      <th>...</th>\n",
       "      <th>PricePerformance52Weeks</th>\n",
       "      <th>PricePerformanceYTD</th>\n",
       "      <th>TotalReturn1Yr</th>\n",
       "      <th>TotalReturn3Yr</th>\n",
       "      <th>SharesOutstanding</th>\n",
       "      <th>VolumeAvg90Day</th>\n",
       "      <th>price</th>\n",
       "      <th>est_price_unsplit</th>\n",
       "      <th>price_est_vs_actual</th>\n",
       "      <th>split_expected</th>\n",
       "    </tr>\n",
       "  </thead>\n",
       "  <tbody>\n",
       "    <tr>\n",
       "      <th>0</th>\n",
       "      <td>2019-08-09</td>\n",
       "      <td>A</td>\n",
       "      <td>22027.705</td>\n",
       "      <td>5019.000</td>\n",
       "      <td>2155.000</td>\n",
       "      <td>1970-01-01</td>\n",
       "      <td>0.164</td>\n",
       "      <td>0.944</td>\n",
       "      <td>4.298</td>\n",
       "      <td>4.402</td>\n",
       "      <td>...</td>\n",
       "      <td>3.131</td>\n",
       "      <td>3.009</td>\n",
       "      <td>4.044</td>\n",
       "      <td>14.794</td>\n",
       "      <td>315.993</td>\n",
       "      <td>2.593</td>\n",
       "      <td>68.640</td>\n",
       "      <td>69.709</td>\n",
       "      <td>1.016</td>\n",
       "      <td>False</td>\n",
       "    </tr>\n",
       "    <tr>\n",
       "      <th>1</th>\n",
       "      <td>2019-08-12</td>\n",
       "      <td>A</td>\n",
       "      <td>21758.262</td>\n",
       "      <td>5019.000</td>\n",
       "      <td>2155.000</td>\n",
       "      <td>1970-01-01</td>\n",
       "      <td>0.164</td>\n",
       "      <td>0.956</td>\n",
       "      <td>4.246</td>\n",
       "      <td>4.348</td>\n",
       "      <td>...</td>\n",
       "      <td>3.592</td>\n",
       "      <td>1.749</td>\n",
       "      <td>4.508</td>\n",
       "      <td>14.099</td>\n",
       "      <td>315.993</td>\n",
       "      <td>2.585</td>\n",
       "      <td>66.780</td>\n",
       "      <td>68.857</td>\n",
       "      <td>1.031</td>\n",
       "      <td>False</td>\n",
       "    </tr>\n",
       "    <tr>\n",
       "      <th>2</th>\n",
       "      <td>2019-08-13</td>\n",
       "      <td>A</td>\n",
       "      <td>21121.109</td>\n",
       "      <td>5019.000</td>\n",
       "      <td>2155.000</td>\n",
       "      <td>1970-01-01</td>\n",
       "      <td>0.164</td>\n",
       "      <td>0.985</td>\n",
       "      <td>4.121</td>\n",
       "      <td>4.221</td>\n",
       "      <td>...</td>\n",
       "      <td>0.558</td>\n",
       "      <td>-1.230</td>\n",
       "      <td>1.448</td>\n",
       "      <td>12.479</td>\n",
       "      <td>315.993</td>\n",
       "      <td>2.605</td>\n",
       "      <td>67.640</td>\n",
       "      <td>66.840</td>\n",
       "      <td>0.988</td>\n",
       "      <td>False</td>\n",
       "    </tr>\n",
       "    <tr>\n",
       "      <th>3</th>\n",
       "      <td>2019-08-14</td>\n",
       "      <td>A</td>\n",
       "      <td>21441.271</td>\n",
       "      <td>5019.000</td>\n",
       "      <td>2155.000</td>\n",
       "      <td>1970-01-01</td>\n",
       "      <td>0.164</td>\n",
       "      <td>0.970</td>\n",
       "      <td>4.184</td>\n",
       "      <td>4.285</td>\n",
       "      <td>...</td>\n",
       "      <td>2.578</td>\n",
       "      <td>0.267</td>\n",
       "      <td>3.485</td>\n",
       "      <td>13.044</td>\n",
       "      <td>315.993</td>\n",
       "      <td>2.616</td>\n",
       "      <td>65.590</td>\n",
       "      <td>67.854</td>\n",
       "      <td>1.035</td>\n",
       "      <td>False</td>\n",
       "    </tr>\n",
       "    <tr>\n",
       "      <th>4</th>\n",
       "      <td>2019-08-15</td>\n",
       "      <td>A</td>\n",
       "      <td>20332.900</td>\n",
       "      <td>5090.000</td>\n",
       "      <td>1765.000</td>\n",
       "      <td>1970-01-01</td>\n",
       "      <td>0.164</td>\n",
       "      <td>1.000</td>\n",
       "      <td>4.283</td>\n",
       "      <td>4.068</td>\n",
       "      <td>...</td>\n",
       "      <td>-1.738</td>\n",
       "      <td>-2.772</td>\n",
       "      <td>-0.869</td>\n",
       "      <td>11.891</td>\n",
       "      <td>315.993</td>\n",
       "      <td>2.631</td>\n",
       "      <td>69.590</td>\n",
       "      <td>64.346</td>\n",
       "      <td>0.925</td>\n",
       "      <td>False</td>\n",
       "    </tr>\n",
       "  </tbody>\n",
       "</table>\n",
       "<p>5 rows × 26 columns</p>\n",
       "</div>"
      ],
      "text/plain": [
       "        date sym      MCAP  RevenueTTM  TotalCash ExDividendDate  Dividend  \\\n",
       "0 2019-08-09   A 22027.705    5019.000   2155.000     1970-01-01     0.164   \n",
       "1 2019-08-12   A 21758.262    5019.000   2155.000     1970-01-01     0.164   \n",
       "2 2019-08-13   A 21121.109    5019.000   2155.000     1970-01-01     0.164   \n",
       "3 2019-08-14   A 21441.271    5019.000   2155.000     1970-01-01     0.164   \n",
       "4 2019-08-15   A 20332.900    5090.000   1765.000     1970-01-01     0.164   \n",
       "\n",
       "   DividendYield  PriceToBook  PriceToSales  ...  PricePerformance52Weeks  \\\n",
       "0          0.944        4.298         4.402  ...                    3.131   \n",
       "1          0.956        4.246         4.348  ...                    3.592   \n",
       "2          0.985        4.121         4.221  ...                    0.558   \n",
       "3          0.970        4.184         4.285  ...                    2.578   \n",
       "4          1.000        4.283         4.068  ...                   -1.738   \n",
       "\n",
       "   PricePerformanceYTD  TotalReturn1Yr  TotalReturn3Yr  SharesOutstanding  \\\n",
       "0                3.009           4.044          14.794            315.993   \n",
       "1                1.749           4.508          14.099            315.993   \n",
       "2               -1.230           1.448          12.479            315.993   \n",
       "3                0.267           3.485          13.044            315.993   \n",
       "4               -2.772          -0.869          11.891            315.993   \n",
       "\n",
       "   VolumeAvg90Day  price  est_price_unsplit  price_est_vs_actual  \\\n",
       "0           2.593 68.640             69.709                1.016   \n",
       "1           2.585 66.780             68.857                1.031   \n",
       "2           2.605 67.640             66.840                0.988   \n",
       "3           2.616 65.590             67.854                1.035   \n",
       "4           2.631 69.590             64.346                0.925   \n",
       "\n",
       "   split_expected  \n",
       "0           False  \n",
       "1           False  \n",
       "2           False  \n",
       "3           False  \n",
       "4           False  \n",
       "\n",
       "[5 rows x 26 columns]"
      ]
     },
     "execution_count": 719,
     "metadata": {},
     "output_type": "execute_result"
    }
   ],
   "source": [
    "df_performance.head()"
   ]
  },
  {
   "cell_type": "code",
   "execution_count": 720,
   "metadata": {
    "ExecuteTime": {
     "end_time": "2020-11-18T19:52:56.607992Z",
     "start_time": "2020-11-18T19:52:56.594994Z"
    }
   },
   "outputs": [
    {
     "data": {
      "text/html": [
       "<div>\n",
       "<style scoped>\n",
       "    .dataframe tbody tr th:only-of-type {\n",
       "        vertical-align: middle;\n",
       "    }\n",
       "\n",
       "    .dataframe tbody tr th {\n",
       "        vertical-align: top;\n",
       "    }\n",
       "\n",
       "    .dataframe thead th {\n",
       "        text-align: right;\n",
       "    }\n",
       "</style>\n",
       "<table border=\"1\" class=\"dataframe\">\n",
       "  <thead>\n",
       "    <tr style=\"text-align: right;\">\n",
       "      <th></th>\n",
       "      <th>sym</th>\n",
       "      <th>num</th>\n",
       "      <th>den</th>\n",
       "      <th>announce</th>\n",
       "      <th>record</th>\n",
       "      <th>execute</th>\n",
       "      <th>apply</th>\n",
       "    </tr>\n",
       "  </thead>\n",
       "  <tbody>\n",
       "    <tr>\n",
       "      <th>0</th>\n",
       "      <td>AAPL</td>\n",
       "      <td>4.000</td>\n",
       "      <td>1.000</td>\n",
       "      <td>2020-07-30</td>\n",
       "      <td>2020-08-24</td>\n",
       "      <td>2020-08-31</td>\n",
       "      <td>4.000</td>\n",
       "    </tr>\n",
       "    <tr>\n",
       "      <th>1</th>\n",
       "      <td>ACHV</td>\n",
       "      <td>1.000</td>\n",
       "      <td>20.000</td>\n",
       "      <td>2020-07-30</td>\n",
       "      <td>2020-07-31</td>\n",
       "      <td>2020-07-31</td>\n",
       "      <td>0.050</td>\n",
       "    </tr>\n",
       "    <tr>\n",
       "      <th>2</th>\n",
       "      <td>AEMD</td>\n",
       "      <td>1.000</td>\n",
       "      <td>15.000</td>\n",
       "      <td>2019-10-14</td>\n",
       "      <td>2019-10-15</td>\n",
       "      <td>2019-10-15</td>\n",
       "      <td>0.067</td>\n",
       "    </tr>\n",
       "    <tr>\n",
       "      <th>3</th>\n",
       "      <td>AHT</td>\n",
       "      <td>1.000</td>\n",
       "      <td>10.000</td>\n",
       "      <td>2020-07-02</td>\n",
       "      <td>2020-07-16</td>\n",
       "      <td>2020-07-16</td>\n",
       "      <td>0.100</td>\n",
       "    </tr>\n",
       "    <tr>\n",
       "      <th>6</th>\n",
       "      <td>AITX</td>\n",
       "      <td>1.000</td>\n",
       "      <td>10000.000</td>\n",
       "      <td>2020-03-26</td>\n",
       "      <td>2020-03-27</td>\n",
       "      <td>2020-03-27</td>\n",
       "      <td>0.000</td>\n",
       "    </tr>\n",
       "  </tbody>\n",
       "</table>\n",
       "</div>"
      ],
      "text/plain": [
       "    sym   num       den    announce      record     execute  apply\n",
       "0  AAPL 4.000     1.000  2020-07-30  2020-08-24  2020-08-31  4.000\n",
       "1  ACHV 1.000    20.000  2020-07-30  2020-07-31  2020-07-31  0.050\n",
       "2  AEMD 1.000    15.000  2019-10-14  2019-10-15  2019-10-15  0.067\n",
       "3   AHT 1.000    10.000  2020-07-02  2020-07-16  2020-07-16  0.100\n",
       "6  AITX 1.000 10000.000  2020-03-26  2020-03-27  2020-03-27  0.000"
      ]
     },
     "execution_count": 720,
     "metadata": {},
     "output_type": "execute_result"
    }
   ],
   "source": [
    "df_splits.head()"
   ]
  },
  {
   "cell_type": "code",
   "execution_count": 722,
   "metadata": {
    "ExecuteTime": {
     "end_time": "2020-11-18T19:55:10.999875Z",
     "start_time": "2020-11-18T19:55:10.979876Z"
    }
   },
   "outputs": [
    {
     "data": {
      "text/plain": [
       "202"
      ]
     },
     "execution_count": 722,
     "metadata": {},
     "output_type": "execute_result"
    }
   ],
   "source": [
    "df_splits['sym'].nunique()"
   ]
  },
  {
   "cell_type": "code",
   "execution_count": 721,
   "metadata": {
    "ExecuteTime": {
     "end_time": "2020-11-18T19:53:26.645312Z",
     "start_time": "2020-11-18T19:52:57.137994Z"
    }
   },
   "outputs": [],
   "source": [
    "for idx, row in df_splits.iterrows():\n",
    "    sym = row['sym']\n",
    "    date = row['execute']\n",
    "    apply = row['apply']\n",
    "    row_ids = ((df_performance['sym'] == sym) & (df_performance['date'] < pd.to_datetime(date)))\n",
    "    df_performance.loc[row_ids, 'price'] = \\\n",
    "        df_performance.loc[row_ids, 'price'] / apply\n",
    "    \n",
    "    date += pd.to_timedelta('1d')\n",
    "    row_ids = ((df_performance['sym'] == sym) & (df_performance['date'] < pd.to_datetime(date)))\n",
    "    row_ids = ((df_performance['sym'] == sym) & (df_performance['date'] < pd.to_datetime(date)))\n",
    "    df_performance.loc[row_ids, 'split_expected'] = False"
   ]
  },
  {
   "cell_type": "code",
   "execution_count": 723,
   "metadata": {
    "ExecuteTime": {
     "end_time": "2020-11-18T19:57:23.769692Z",
     "start_time": "2020-11-18T19:57:23.761691Z"
    }
   },
   "outputs": [
    {
     "data": {
      "text/plain": [
       "Timestamp('2020-01-17 00:00:00')"
      ]
     },
     "execution_count": 723,
     "metadata": {},
     "output_type": "execute_result"
    }
   ],
   "source": [
    "pd.to_datetime(date)"
   ]
  },
  {
   "cell_type": "code",
   "execution_count": 724,
   "metadata": {
    "ExecuteTime": {
     "end_time": "2020-11-18T19:57:24.152294Z",
     "start_time": "2020-11-18T19:57:24.135690Z"
    }
   },
   "outputs": [
    {
     "data": {
      "text/plain": [
       "datetime.date(2020, 1, 18)"
      ]
     },
     "execution_count": 724,
     "metadata": {},
     "output_type": "execute_result"
    }
   ],
   "source": [
    "date + pd.to_timedelta('1d')"
   ]
  },
  {
   "cell_type": "code",
   "execution_count": 725,
   "metadata": {
    "ExecuteTime": {
     "end_time": "2020-11-18T19:57:25.295616Z",
     "start_time": "2020-11-18T19:57:25.249620Z"
    }
   },
   "outputs": [
    {
     "data": {
      "text/html": [
       "<div>\n",
       "<style scoped>\n",
       "    .dataframe tbody tr th:only-of-type {\n",
       "        vertical-align: middle;\n",
       "    }\n",
       "\n",
       "    .dataframe tbody tr th {\n",
       "        vertical-align: top;\n",
       "    }\n",
       "\n",
       "    .dataframe thead th {\n",
       "        text-align: right;\n",
       "    }\n",
       "</style>\n",
       "<table border=\"1\" class=\"dataframe\">\n",
       "  <thead>\n",
       "    <tr style=\"text-align: right;\">\n",
       "      <th></th>\n",
       "      <th>date</th>\n",
       "      <th>sym</th>\n",
       "      <th>MCAP</th>\n",
       "      <th>RevenueTTM</th>\n",
       "      <th>TotalCash</th>\n",
       "      <th>ExDividendDate</th>\n",
       "      <th>Dividend</th>\n",
       "      <th>DividendYield</th>\n",
       "      <th>PriceToBook</th>\n",
       "      <th>PriceToSales</th>\n",
       "      <th>...</th>\n",
       "      <th>PricePerformance52Weeks</th>\n",
       "      <th>PricePerformanceYTD</th>\n",
       "      <th>TotalReturn1Yr</th>\n",
       "      <th>TotalReturn3Yr</th>\n",
       "      <th>SharesOutstanding</th>\n",
       "      <th>VolumeAvg90Day</th>\n",
       "      <th>price</th>\n",
       "      <th>est_price_unsplit</th>\n",
       "      <th>price_est_vs_actual</th>\n",
       "      <th>split_expected</th>\n",
       "    </tr>\n",
       "  </thead>\n",
       "  <tbody>\n",
       "    <tr>\n",
       "      <th>1677</th>\n",
       "      <td>2019-08-09</td>\n",
       "      <td>AAPL</td>\n",
       "      <td>921821.688</td>\n",
       "      <td>259034.000</td>\n",
       "      <td>94880.000</td>\n",
       "      <td>2019-08-09</td>\n",
       "      <td>0.770</td>\n",
       "      <td>1.514</td>\n",
       "      <td>9.557</td>\n",
       "      <td>3.656</td>\n",
       "      <td>...</td>\n",
       "      <td>-1.843</td>\n",
       "      <td>28.965</td>\n",
       "      <td>-0.355</td>\n",
       "      <td>25.178</td>\n",
       "      <td>4519.180</td>\n",
       "      <td>27.233</td>\n",
       "      <td>50.235</td>\n",
       "      <td>203.980</td>\n",
       "      <td>1.015</td>\n",
       "      <td>False</td>\n",
       "    </tr>\n",
       "    <tr>\n",
       "      <th>1678</th>\n",
       "      <td>2019-08-12</td>\n",
       "      <td>AAPL</td>\n",
       "      <td>910765.062</td>\n",
       "      <td>259034.000</td>\n",
       "      <td>94880.000</td>\n",
       "      <td>1970-01-01</td>\n",
       "      <td>0.770</td>\n",
       "      <td>1.532</td>\n",
       "      <td>9.442</td>\n",
       "      <td>3.613</td>\n",
       "      <td>...</td>\n",
       "      <td>-3.151</td>\n",
       "      <td>27.419</td>\n",
       "      <td>-1.654</td>\n",
       "      <td>24.975</td>\n",
       "      <td>4519.180</td>\n",
       "      <td>27.205</td>\n",
       "      <td>50.120</td>\n",
       "      <td>201.533</td>\n",
       "      <td>1.005</td>\n",
       "      <td>False</td>\n",
       "    </tr>\n",
       "    <tr>\n",
       "      <th>1679</th>\n",
       "      <td>2019-08-13</td>\n",
       "      <td>AAPL</td>\n",
       "      <td>908454.062</td>\n",
       "      <td>259034.000</td>\n",
       "      <td>94880.000</td>\n",
       "      <td>1970-01-01</td>\n",
       "      <td>0.770</td>\n",
       "      <td>1.536</td>\n",
       "      <td>9.418</td>\n",
       "      <td>3.603</td>\n",
       "      <td>...</td>\n",
       "      <td>-3.397</td>\n",
       "      <td>27.095</td>\n",
       "      <td>-1.904</td>\n",
       "      <td>24.800</td>\n",
       "      <td>4519.180</td>\n",
       "      <td>27.194</td>\n",
       "      <td>52.243</td>\n",
       "      <td>201.022</td>\n",
       "      <td>0.962</td>\n",
       "      <td>False</td>\n",
       "    </tr>\n",
       "    <tr>\n",
       "      <th>1680</th>\n",
       "      <td>2019-08-14</td>\n",
       "      <td>AAPL</td>\n",
       "      <td>946925.625</td>\n",
       "      <td>259034.000</td>\n",
       "      <td>94880.000</td>\n",
       "      <td>1970-01-01</td>\n",
       "      <td>0.770</td>\n",
       "      <td>1.474</td>\n",
       "      <td>9.817</td>\n",
       "      <td>3.756</td>\n",
       "      <td>...</td>\n",
       "      <td>0.048</td>\n",
       "      <td>32.477</td>\n",
       "      <td>1.594</td>\n",
       "      <td>26.537</td>\n",
       "      <td>4519.180</td>\n",
       "      <td>27.461</td>\n",
       "      <td>50.688</td>\n",
       "      <td>209.535</td>\n",
       "      <td>1.033</td>\n",
       "      <td>False</td>\n",
       "    </tr>\n",
       "    <tr>\n",
       "      <th>1681</th>\n",
       "      <td>2019-08-15</td>\n",
       "      <td>AAPL</td>\n",
       "      <td>918740.312</td>\n",
       "      <td>259034.000</td>\n",
       "      <td>94880.000</td>\n",
       "      <td>1970-01-01</td>\n",
       "      <td>0.770</td>\n",
       "      <td>1.519</td>\n",
       "      <td>9.525</td>\n",
       "      <td>3.644</td>\n",
       "      <td>...</td>\n",
       "      <td>-3.337</td>\n",
       "      <td>28.534</td>\n",
       "      <td>-1.843</td>\n",
       "      <td>25.269</td>\n",
       "      <td>4519.180</td>\n",
       "      <td>27.653</td>\n",
       "      <td>50.435</td>\n",
       "      <td>203.298</td>\n",
       "      <td>1.008</td>\n",
       "      <td>False</td>\n",
       "    </tr>\n",
       "    <tr>\n",
       "      <th>...</th>\n",
       "      <td>...</td>\n",
       "      <td>...</td>\n",
       "      <td>...</td>\n",
       "      <td>...</td>\n",
       "      <td>...</td>\n",
       "      <td>...</td>\n",
       "      <td>...</td>\n",
       "      <td>...</td>\n",
       "      <td>...</td>\n",
       "      <td>...</td>\n",
       "      <td>...</td>\n",
       "      <td>...</td>\n",
       "      <td>...</td>\n",
       "      <td>...</td>\n",
       "      <td>...</td>\n",
       "      <td>...</td>\n",
       "      <td>...</td>\n",
       "      <td>...</td>\n",
       "      <td>...</td>\n",
       "      <td>...</td>\n",
       "      <td>...</td>\n",
       "    </tr>\n",
       "    <tr>\n",
       "      <th>1945</th>\n",
       "      <td>2020-08-25</td>\n",
       "      <td>AAPL</td>\n",
       "      <td>2156663.500</td>\n",
       "      <td>273857.000</td>\n",
       "      <td>93054.000</td>\n",
       "      <td>1970-01-01</td>\n",
       "      <td>0.820</td>\n",
       "      <td>0.652</td>\n",
       "      <td>29.837</td>\n",
       "      <td>8.013</td>\n",
       "      <td>...</td>\n",
       "      <td>148.436</td>\n",
       "      <td>71.439</td>\n",
       "      <td>150.894</td>\n",
       "      <td>48.735</td>\n",
       "      <td>4275.634</td>\n",
       "      <td>37.909</td>\n",
       "      <td>124.825</td>\n",
       "      <td>504.408</td>\n",
       "      <td>1.010</td>\n",
       "      <td>False</td>\n",
       "    </tr>\n",
       "    <tr>\n",
       "      <th>1946</th>\n",
       "      <td>2020-08-26</td>\n",
       "      <td>AAPL</td>\n",
       "      <td>2138970.750</td>\n",
       "      <td>273857.000</td>\n",
       "      <td>93054.000</td>\n",
       "      <td>1970-01-01</td>\n",
       "      <td>0.820</td>\n",
       "      <td>0.657</td>\n",
       "      <td>29.592</td>\n",
       "      <td>7.947</td>\n",
       "      <td>...</td>\n",
       "      <td>146.398</td>\n",
       "      <td>70.032</td>\n",
       "      <td>148.836</td>\n",
       "      <td>48.144</td>\n",
       "      <td>4275.634</td>\n",
       "      <td>38.058</td>\n",
       "      <td>126.522</td>\n",
       "      <td>500.270</td>\n",
       "      <td>0.988</td>\n",
       "      <td>False</td>\n",
       "    </tr>\n",
       "    <tr>\n",
       "      <th>1947</th>\n",
       "      <td>2020-08-27</td>\n",
       "      <td>AAPL</td>\n",
       "      <td>2168058.750</td>\n",
       "      <td>273857.000</td>\n",
       "      <td>93054.000</td>\n",
       "      <td>1970-01-01</td>\n",
       "      <td>0.820</td>\n",
       "      <td>0.648</td>\n",
       "      <td>29.994</td>\n",
       "      <td>8.056</td>\n",
       "      <td>...</td>\n",
       "      <td>145.092</td>\n",
       "      <td>72.345</td>\n",
       "      <td>147.517</td>\n",
       "      <td>48.813</td>\n",
       "      <td>4275.634</td>\n",
       "      <td>37.915</td>\n",
       "      <td>125.010</td>\n",
       "      <td>507.073</td>\n",
       "      <td>1.014</td>\n",
       "      <td>False</td>\n",
       "    </tr>\n",
       "    <tr>\n",
       "      <th>1948</th>\n",
       "      <td>2020-08-28</td>\n",
       "      <td>AAPL</td>\n",
       "      <td>2142140.750</td>\n",
       "      <td>273857.000</td>\n",
       "      <td>93054.000</td>\n",
       "      <td>1970-01-01</td>\n",
       "      <td>0.820</td>\n",
       "      <td>0.656</td>\n",
       "      <td>29.636</td>\n",
       "      <td>7.959</td>\n",
       "      <td>...</td>\n",
       "      <td>143.293</td>\n",
       "      <td>70.284</td>\n",
       "      <td>145.701</td>\n",
       "      <td>47.723</td>\n",
       "      <td>4275.634</td>\n",
       "      <td>37.904</td>\n",
       "      <td>124.725</td>\n",
       "      <td>501.011</td>\n",
       "      <td>1.004</td>\n",
       "      <td>False</td>\n",
       "    </tr>\n",
       "    <tr>\n",
       "      <th>1949</th>\n",
       "      <td>2020-08-31</td>\n",
       "      <td>AAPL</td>\n",
       "      <td>534667.688</td>\n",
       "      <td>273857.000</td>\n",
       "      <td>93054.000</td>\n",
       "      <td>1970-01-01</td>\n",
       "      <td>0.820</td>\n",
       "      <td>0.657</td>\n",
       "      <td>7.397</td>\n",
       "      <td>1.987</td>\n",
       "      <td>...</td>\n",
       "      <td>139.164</td>\n",
       "      <td>70.009</td>\n",
       "      <td>141.530</td>\n",
       "      <td>46.880</td>\n",
       "      <td>17102.535</td>\n",
       "      <td>152.401</td>\n",
       "      <td>129.040</td>\n",
       "      <td>31.262</td>\n",
       "      <td>0.242</td>\n",
       "      <td>False</td>\n",
       "    </tr>\n",
       "  </tbody>\n",
       "</table>\n",
       "<p>273 rows × 26 columns</p>\n",
       "</div>"
      ],
      "text/plain": [
       "           date   sym        MCAP  RevenueTTM  TotalCash ExDividendDate  \\\n",
       "1677 2019-08-09  AAPL  921821.688  259034.000  94880.000     2019-08-09   \n",
       "1678 2019-08-12  AAPL  910765.062  259034.000  94880.000     1970-01-01   \n",
       "1679 2019-08-13  AAPL  908454.062  259034.000  94880.000     1970-01-01   \n",
       "1680 2019-08-14  AAPL  946925.625  259034.000  94880.000     1970-01-01   \n",
       "1681 2019-08-15  AAPL  918740.312  259034.000  94880.000     1970-01-01   \n",
       "...         ...   ...         ...         ...        ...            ...   \n",
       "1945 2020-08-25  AAPL 2156663.500  273857.000  93054.000     1970-01-01   \n",
       "1946 2020-08-26  AAPL 2138970.750  273857.000  93054.000     1970-01-01   \n",
       "1947 2020-08-27  AAPL 2168058.750  273857.000  93054.000     1970-01-01   \n",
       "1948 2020-08-28  AAPL 2142140.750  273857.000  93054.000     1970-01-01   \n",
       "1949 2020-08-31  AAPL  534667.688  273857.000  93054.000     1970-01-01   \n",
       "\n",
       "      Dividend  DividendYield  PriceToBook  PriceToSales  ...  \\\n",
       "1677     0.770          1.514        9.557         3.656  ...   \n",
       "1678     0.770          1.532        9.442         3.613  ...   \n",
       "1679     0.770          1.536        9.418         3.603  ...   \n",
       "1680     0.770          1.474        9.817         3.756  ...   \n",
       "1681     0.770          1.519        9.525         3.644  ...   \n",
       "...        ...            ...          ...           ...  ...   \n",
       "1945     0.820          0.652       29.837         8.013  ...   \n",
       "1946     0.820          0.657       29.592         7.947  ...   \n",
       "1947     0.820          0.648       29.994         8.056  ...   \n",
       "1948     0.820          0.656       29.636         7.959  ...   \n",
       "1949     0.820          0.657        7.397         1.987  ...   \n",
       "\n",
       "      PricePerformance52Weeks  PricePerformanceYTD  TotalReturn1Yr  \\\n",
       "1677                   -1.843               28.965          -0.355   \n",
       "1678                   -3.151               27.419          -1.654   \n",
       "1679                   -3.397               27.095          -1.904   \n",
       "1680                    0.048               32.477           1.594   \n",
       "1681                   -3.337               28.534          -1.843   \n",
       "...                       ...                  ...             ...   \n",
       "1945                  148.436               71.439         150.894   \n",
       "1946                  146.398               70.032         148.836   \n",
       "1947                  145.092               72.345         147.517   \n",
       "1948                  143.293               70.284         145.701   \n",
       "1949                  139.164               70.009         141.530   \n",
       "\n",
       "      TotalReturn3Yr  SharesOutstanding  VolumeAvg90Day   price  \\\n",
       "1677          25.178           4519.180          27.233  50.235   \n",
       "1678          24.975           4519.180          27.205  50.120   \n",
       "1679          24.800           4519.180          27.194  52.243   \n",
       "1680          26.537           4519.180          27.461  50.688   \n",
       "1681          25.269           4519.180          27.653  50.435   \n",
       "...              ...                ...             ...     ...   \n",
       "1945          48.735           4275.634          37.909 124.825   \n",
       "1946          48.144           4275.634          38.058 126.522   \n",
       "1947          48.813           4275.634          37.915 125.010   \n",
       "1948          47.723           4275.634          37.904 124.725   \n",
       "1949          46.880          17102.535         152.401 129.040   \n",
       "\n",
       "      est_price_unsplit  price_est_vs_actual  split_expected  \n",
       "1677            203.980                1.015           False  \n",
       "1678            201.533                1.005           False  \n",
       "1679            201.022                0.962           False  \n",
       "1680            209.535                1.033           False  \n",
       "1681            203.298                1.008           False  \n",
       "...                 ...                  ...             ...  \n",
       "1945            504.408                1.010           False  \n",
       "1946            500.270                0.988           False  \n",
       "1947            507.073                1.014           False  \n",
       "1948            501.011                1.004           False  \n",
       "1949             31.262                0.242           False  \n",
       "\n",
       "[273 rows x 26 columns]"
      ]
     },
     "execution_count": 725,
     "metadata": {},
     "output_type": "execute_result"
    }
   ],
   "source": [
    "df_performance.query(\"sym == 'AAPL'\").query(\"date <= '2020-08-31'\")"
   ]
  },
  {
   "cell_type": "code",
   "execution_count": 726,
   "metadata": {
    "ExecuteTime": {
     "end_time": "2020-11-18T19:57:26.465525Z",
     "start_time": "2020-11-18T19:57:26.416522Z"
    }
   },
   "outputs": [
    {
     "data": {
      "text/plain": [
       "3120"
      ]
     },
     "execution_count": 726,
     "metadata": {},
     "output_type": "execute_result"
    }
   ],
   "source": [
    "df_performance['sym'].nunique()"
   ]
  },
  {
   "cell_type": "code",
   "execution_count": 735,
   "metadata": {
    "ExecuteTime": {
     "end_time": "2020-11-18T20:17:39.579616Z",
     "start_time": "2020-11-18T20:17:39.562613Z"
    }
   },
   "outputs": [],
   "source": [
    "drop_symbols = df_performance.query(\"split_expected\")['sym'].unique()"
   ]
  },
  {
   "cell_type": "code",
   "execution_count": 736,
   "metadata": {
    "ExecuteTime": {
     "end_time": "2020-11-18T20:17:43.591011Z",
     "start_time": "2020-11-18T20:17:43.472010Z"
    }
   },
   "outputs": [],
   "source": [
    "# Drop the rows with the given symbols\n",
    "df_performance = df_performance[~df_performance.reset_index()['sym'].isin(drop_symbols)]"
   ]
  },
  {
   "cell_type": "code",
   "execution_count": 740,
   "metadata": {
    "ExecuteTime": {
     "end_time": "2020-11-18T20:18:51.917574Z",
     "start_time": "2020-11-18T20:18:51.879559Z"
    }
   },
   "outputs": [],
   "source": [
    "drop_cols = ['est_price_unsplit', 'price_est_vs_actual', 'split_expected']\n",
    "df_performance.drop(drop_cols, axis=1, inplace=True)"
   ]
  },
  {
   "cell_type": "code",
   "execution_count": 743,
   "metadata": {
    "ExecuteTime": {
     "end_time": "2020-11-18T20:19:23.796053Z",
     "start_time": "2020-11-18T20:19:23.729232Z"
    }
   },
   "outputs": [],
   "source": [
    "df_performance.set_index(['date', 'sym'], drop=True, inplace=True)"
   ]
  },
  {
   "cell_type": "markdown",
   "metadata": {},
   "source": [
    "## Performance Percentiles\n",
    "> May attempt a prediction with this later"
   ]
  },
  {
   "cell_type": "code",
   "execution_count": 327,
   "metadata": {
    "ExecuteTime": {
     "end_time": "2020-11-18T08:20:29.124031Z",
     "start_time": "2020-11-18T08:20:28.707014Z"
    }
   },
   "outputs": [
    {
     "data": {
      "text/html": [
       "<div>\n",
       "<style scoped>\n",
       "    .dataframe tbody tr th:only-of-type {\n",
       "        vertical-align: middle;\n",
       "    }\n",
       "\n",
       "    .dataframe tbody tr th {\n",
       "        vertical-align: top;\n",
       "    }\n",
       "\n",
       "    .dataframe thead th {\n",
       "        text-align: right;\n",
       "    }\n",
       "</style>\n",
       "<table border=\"1\" class=\"dataframe\">\n",
       "  <thead>\n",
       "    <tr style=\"text-align: right;\">\n",
       "      <th></th>\n",
       "      <th>sym</th>\n",
       "      <th>sum</th>\n",
       "      <th>FreeCachFlow/MCAP</th>\n",
       "      <th>PE</th>\n",
       "      <th>PEG</th>\n",
       "      <th>DividendYield</th>\n",
       "      <th>EPSGrowth5Year</th>\n",
       "      <th>TotalDebtToEquity</th>\n",
       "      <th>TotalReturn10Yr</th>\n",
       "      <th>PricePerformanceYTD</th>\n",
       "    </tr>\n",
       "    <tr>\n",
       "      <th>date</th>\n",
       "      <th></th>\n",
       "      <th></th>\n",
       "      <th></th>\n",
       "      <th></th>\n",
       "      <th></th>\n",
       "      <th></th>\n",
       "      <th></th>\n",
       "      <th></th>\n",
       "      <th></th>\n",
       "      <th></th>\n",
       "    </tr>\n",
       "  </thead>\n",
       "  <tbody>\n",
       "    <tr>\n",
       "      <th>2019-08-09</th>\n",
       "      <td>A</td>\n",
       "      <td>307</td>\n",
       "      <td>26</td>\n",
       "      <td>75</td>\n",
       "      <td>54</td>\n",
       "      <td>11</td>\n",
       "      <td>10</td>\n",
       "      <td>26</td>\n",
       "      <td>69</td>\n",
       "      <td>36</td>\n",
       "    </tr>\n",
       "    <tr>\n",
       "      <th>2019-08-12</th>\n",
       "      <td>A</td>\n",
       "      <td>306</td>\n",
       "      <td>26</td>\n",
       "      <td>76</td>\n",
       "      <td>54</td>\n",
       "      <td>12</td>\n",
       "      <td>10</td>\n",
       "      <td>26</td>\n",
       "      <td>68</td>\n",
       "      <td>34</td>\n",
       "    </tr>\n",
       "    <tr>\n",
       "      <th>2019-08-13</th>\n",
       "      <td>A</td>\n",
       "      <td>302</td>\n",
       "      <td>26</td>\n",
       "      <td>76</td>\n",
       "      <td>54</td>\n",
       "      <td>12</td>\n",
       "      <td>10</td>\n",
       "      <td>26</td>\n",
       "      <td>66</td>\n",
       "      <td>32</td>\n",
       "    </tr>\n",
       "    <tr>\n",
       "      <th>2019-08-14</th>\n",
       "      <td>A</td>\n",
       "      <td>304</td>\n",
       "      <td>26</td>\n",
       "      <td>76</td>\n",
       "      <td>55</td>\n",
       "      <td>12</td>\n",
       "      <td>10</td>\n",
       "      <td>26</td>\n",
       "      <td>66</td>\n",
       "      <td>33</td>\n",
       "    </tr>\n",
       "    <tr>\n",
       "      <th>2019-08-15</th>\n",
       "      <td>A</td>\n",
       "      <td>300</td>\n",
       "      <td>28</td>\n",
       "      <td>74</td>\n",
       "      <td>53</td>\n",
       "      <td>12</td>\n",
       "      <td>10</td>\n",
       "      <td>26</td>\n",
       "      <td>66</td>\n",
       "      <td>31</td>\n",
       "    </tr>\n",
       "  </tbody>\n",
       "</table>\n",
       "</div>"
      ],
      "text/plain": [
       "           sym  sum  FreeCachFlow/MCAP  PE  PEG  DividendYield  \\\n",
       "date                                                             \n",
       "2019-08-09   A  307                 26  75   54             11   \n",
       "2019-08-12   A  306                 26  76   54             12   \n",
       "2019-08-13   A  302                 26  76   54             12   \n",
       "2019-08-14   A  304                 26  76   55             12   \n",
       "2019-08-15   A  300                 28  74   53             12   \n",
       "\n",
       "            EPSGrowth5Year  TotalDebtToEquity  TotalReturn10Yr  \\\n",
       "date                                                             \n",
       "2019-08-09              10                 26               69   \n",
       "2019-08-12              10                 26               68   \n",
       "2019-08-13              10                 26               66   \n",
       "2019-08-14              10                 26               66   \n",
       "2019-08-15              10                 26               66   \n",
       "\n",
       "            PricePerformanceYTD  \n",
       "date                             \n",
       "2019-08-09                   36  \n",
       "2019-08-12                   34  \n",
       "2019-08-13                   32  \n",
       "2019-08-14                   33  \n",
       "2019-08-15                   31  "
      ]
     },
     "execution_count": 327,
     "metadata": {},
     "output_type": "execute_result"
    }
   ],
   "source": [
    "df_perc = db.frames['performancepercentiles']\n",
    "\n",
    "# Remove Dates that are less than august 8th, as that is from a different collection method\n",
    "df_perc = \\\n",
    "    df_perc[df_perc['date'] > pd.to_datetime('2019-08-08')]\n",
    "\n",
    "# Resetting date index and dropping index\n",
    "df_perc.set_index('date', inplace=True, drop=True)\n",
    "\n",
    "# Dropping null date values\n",
    "df_perc = df_perc.loc[df_performance_perc.index.notnull()]\n",
    "\n",
    "df_perc.head()"
   ]
  },
  {
   "cell_type": "code",
   "execution_count": 328,
   "metadata": {
    "ExecuteTime": {
     "end_time": "2020-11-18T08:20:29.569029Z",
     "start_time": "2020-11-18T08:20:29.502028Z"
    }
   },
   "outputs": [
    {
     "data": {
      "text/plain": [
       "6018"
      ]
     },
     "execution_count": 328,
     "metadata": {},
     "output_type": "execute_result"
    }
   ],
   "source": [
    "df_perc['sym'].nunique()"
   ]
  },
  {
   "cell_type": "markdown",
   "metadata": {},
   "source": [
    "### Combine Price"
   ]
  },
  {
   "cell_type": "code",
   "execution_count": 338,
   "metadata": {
    "ExecuteTime": {
     "end_time": "2020-11-18T08:27:49.431848Z",
     "start_time": "2020-11-18T08:27:48.285842Z"
    }
   },
   "outputs": [
    {
     "data": {
      "text/html": [
       "<div>\n",
       "<style scoped>\n",
       "    .dataframe tbody tr th:only-of-type {\n",
       "        vertical-align: middle;\n",
       "    }\n",
       "\n",
       "    .dataframe tbody tr th {\n",
       "        vertical-align: top;\n",
       "    }\n",
       "\n",
       "    .dataframe thead th {\n",
       "        text-align: right;\n",
       "    }\n",
       "</style>\n",
       "<table border=\"1\" class=\"dataframe\">\n",
       "  <thead>\n",
       "    <tr style=\"text-align: right;\">\n",
       "      <th></th>\n",
       "      <th>sym</th>\n",
       "      <th>sum</th>\n",
       "      <th>FreeCachFlow/MCAP</th>\n",
       "      <th>PE</th>\n",
       "      <th>PEG</th>\n",
       "      <th>DividendYield</th>\n",
       "      <th>EPSGrowth5Year</th>\n",
       "      <th>TotalDebtToEquity</th>\n",
       "      <th>TotalReturn10Yr</th>\n",
       "      <th>PricePerformanceYTD</th>\n",
       "      <th>price</th>\n",
       "    </tr>\n",
       "    <tr>\n",
       "      <th>date</th>\n",
       "      <th></th>\n",
       "      <th></th>\n",
       "      <th></th>\n",
       "      <th></th>\n",
       "      <th></th>\n",
       "      <th></th>\n",
       "      <th></th>\n",
       "      <th></th>\n",
       "      <th></th>\n",
       "      <th></th>\n",
       "      <th></th>\n",
       "    </tr>\n",
       "  </thead>\n",
       "  <tbody>\n",
       "    <tr>\n",
       "      <th>2019-08-09</th>\n",
       "      <td>A</td>\n",
       "      <td>307</td>\n",
       "      <td>26</td>\n",
       "      <td>75</td>\n",
       "      <td>54</td>\n",
       "      <td>11</td>\n",
       "      <td>10</td>\n",
       "      <td>26</td>\n",
       "      <td>69</td>\n",
       "      <td>36</td>\n",
       "      <td>68.640000</td>\n",
       "    </tr>\n",
       "    <tr>\n",
       "      <th>2019-08-12</th>\n",
       "      <td>A</td>\n",
       "      <td>306</td>\n",
       "      <td>26</td>\n",
       "      <td>76</td>\n",
       "      <td>54</td>\n",
       "      <td>12</td>\n",
       "      <td>10</td>\n",
       "      <td>26</td>\n",
       "      <td>68</td>\n",
       "      <td>34</td>\n",
       "      <td>66.780000</td>\n",
       "    </tr>\n",
       "    <tr>\n",
       "      <th>2019-08-13</th>\n",
       "      <td>A</td>\n",
       "      <td>302</td>\n",
       "      <td>26</td>\n",
       "      <td>76</td>\n",
       "      <td>54</td>\n",
       "      <td>12</td>\n",
       "      <td>10</td>\n",
       "      <td>26</td>\n",
       "      <td>66</td>\n",
       "      <td>32</td>\n",
       "      <td>67.640000</td>\n",
       "    </tr>\n",
       "    <tr>\n",
       "      <th>2019-08-14</th>\n",
       "      <td>A</td>\n",
       "      <td>304</td>\n",
       "      <td>26</td>\n",
       "      <td>76</td>\n",
       "      <td>55</td>\n",
       "      <td>12</td>\n",
       "      <td>10</td>\n",
       "      <td>26</td>\n",
       "      <td>66</td>\n",
       "      <td>33</td>\n",
       "      <td>65.590000</td>\n",
       "    </tr>\n",
       "    <tr>\n",
       "      <th>2019-08-15</th>\n",
       "      <td>A</td>\n",
       "      <td>300</td>\n",
       "      <td>28</td>\n",
       "      <td>74</td>\n",
       "      <td>53</td>\n",
       "      <td>12</td>\n",
       "      <td>10</td>\n",
       "      <td>26</td>\n",
       "      <td>66</td>\n",
       "      <td>31</td>\n",
       "      <td>69.590000</td>\n",
       "    </tr>\n",
       "  </tbody>\n",
       "</table>\n",
       "</div>"
      ],
      "text/plain": [
       "           sym  sum  FreeCachFlow/MCAP  PE  PEG  DividendYield  \\\n",
       "date                                                             \n",
       "2019-08-09   A  307                 26  75   54             11   \n",
       "2019-08-12   A  306                 26  76   54             12   \n",
       "2019-08-13   A  302                 26  76   54             12   \n",
       "2019-08-14   A  304                 26  76   55             12   \n",
       "2019-08-15   A  300                 28  74   53             12   \n",
       "\n",
       "            EPSGrowth5Year  TotalDebtToEquity  TotalReturn10Yr  \\\n",
       "date                                                             \n",
       "2019-08-09              10                 26               69   \n",
       "2019-08-12              10                 26               68   \n",
       "2019-08-13              10                 26               66   \n",
       "2019-08-14              10                 26               66   \n",
       "2019-08-15              10                 26               66   \n",
       "\n",
       "            PricePerformanceYTD      price  \n",
       "date                                        \n",
       "2019-08-09                   36  68.640000  \n",
       "2019-08-12                   34  66.780000  \n",
       "2019-08-13                   32  67.640000  \n",
       "2019-08-14                   33  65.590000  \n",
       "2019-08-15                   31  69.590000  "
      ]
     },
     "execution_count": 338,
     "metadata": {},
     "output_type": "execute_result"
    }
   ],
   "source": [
    "df_perc = pd.merge(df_perc, df_prices, on=['date', 'sym'])\n",
    "df_perc.head()"
   ]
  },
  {
   "cell_type": "markdown",
   "metadata": {},
   "source": [
    "# EDA"
   ]
  },
  {
   "cell_type": "markdown",
   "metadata": {},
   "source": [
    "## Head"
   ]
  },
  {
   "cell_type": "code",
   "execution_count": 741,
   "metadata": {
    "ExecuteTime": {
     "end_time": "2020-11-18T20:18:59.502042Z",
     "start_time": "2020-11-18T20:18:59.472080Z"
    }
   },
   "outputs": [
    {
     "data": {
      "text/html": [
       "<div>\n",
       "<style scoped>\n",
       "    .dataframe tbody tr th:only-of-type {\n",
       "        vertical-align: middle;\n",
       "    }\n",
       "\n",
       "    .dataframe tbody tr th {\n",
       "        vertical-align: top;\n",
       "    }\n",
       "\n",
       "    .dataframe thead th {\n",
       "        text-align: right;\n",
       "    }\n",
       "</style>\n",
       "<table border=\"1\" class=\"dataframe\">\n",
       "  <thead>\n",
       "    <tr style=\"text-align: right;\">\n",
       "      <th></th>\n",
       "      <th>date</th>\n",
       "      <th>sym</th>\n",
       "      <th>MCAP</th>\n",
       "      <th>RevenueTTM</th>\n",
       "      <th>TotalCash</th>\n",
       "      <th>ExDividendDate</th>\n",
       "      <th>Dividend</th>\n",
       "      <th>DividendYield</th>\n",
       "      <th>PriceToBook</th>\n",
       "      <th>PriceToSales</th>\n",
       "      <th>...</th>\n",
       "      <th>ReturnonEquity</th>\n",
       "      <th>FreeCashFlow</th>\n",
       "      <th>TotalDebtToEquity</th>\n",
       "      <th>PricePerformance52Weeks</th>\n",
       "      <th>PricePerformanceYTD</th>\n",
       "      <th>TotalReturn1Yr</th>\n",
       "      <th>TotalReturn3Yr</th>\n",
       "      <th>SharesOutstanding</th>\n",
       "      <th>VolumeAvg90Day</th>\n",
       "      <th>price</th>\n",
       "    </tr>\n",
       "  </thead>\n",
       "  <tbody>\n",
       "    <tr>\n",
       "      <th>0</th>\n",
       "      <td>2019-08-09</td>\n",
       "      <td>A</td>\n",
       "      <td>22027.705</td>\n",
       "      <td>5019.000</td>\n",
       "      <td>2155.000</td>\n",
       "      <td>1970-01-01</td>\n",
       "      <td>0.164</td>\n",
       "      <td>0.944</td>\n",
       "      <td>4.298</td>\n",
       "      <td>4.402</td>\n",
       "      <td>...</td>\n",
       "      <td>23.160</td>\n",
       "      <td>887.000</td>\n",
       "      <td>37.290</td>\n",
       "      <td>3.131</td>\n",
       "      <td>3.009</td>\n",
       "      <td>4.044</td>\n",
       "      <td>14.794</td>\n",
       "      <td>315.993</td>\n",
       "      <td>2.593</td>\n",
       "      <td>68.640</td>\n",
       "    </tr>\n",
       "    <tr>\n",
       "      <th>1</th>\n",
       "      <td>2019-08-12</td>\n",
       "      <td>A</td>\n",
       "      <td>21758.262</td>\n",
       "      <td>5019.000</td>\n",
       "      <td>2155.000</td>\n",
       "      <td>1970-01-01</td>\n",
       "      <td>0.164</td>\n",
       "      <td>0.956</td>\n",
       "      <td>4.246</td>\n",
       "      <td>4.348</td>\n",
       "      <td>...</td>\n",
       "      <td>23.160</td>\n",
       "      <td>887.000</td>\n",
       "      <td>37.290</td>\n",
       "      <td>3.592</td>\n",
       "      <td>1.749</td>\n",
       "      <td>4.508</td>\n",
       "      <td>14.099</td>\n",
       "      <td>315.993</td>\n",
       "      <td>2.585</td>\n",
       "      <td>66.780</td>\n",
       "    </tr>\n",
       "    <tr>\n",
       "      <th>2</th>\n",
       "      <td>2019-08-13</td>\n",
       "      <td>A</td>\n",
       "      <td>21121.109</td>\n",
       "      <td>5019.000</td>\n",
       "      <td>2155.000</td>\n",
       "      <td>1970-01-01</td>\n",
       "      <td>0.164</td>\n",
       "      <td>0.985</td>\n",
       "      <td>4.121</td>\n",
       "      <td>4.221</td>\n",
       "      <td>...</td>\n",
       "      <td>23.160</td>\n",
       "      <td>887.000</td>\n",
       "      <td>37.290</td>\n",
       "      <td>0.558</td>\n",
       "      <td>-1.230</td>\n",
       "      <td>1.448</td>\n",
       "      <td>12.479</td>\n",
       "      <td>315.993</td>\n",
       "      <td>2.605</td>\n",
       "      <td>67.640</td>\n",
       "    </tr>\n",
       "    <tr>\n",
       "      <th>3</th>\n",
       "      <td>2019-08-14</td>\n",
       "      <td>A</td>\n",
       "      <td>21441.271</td>\n",
       "      <td>5019.000</td>\n",
       "      <td>2155.000</td>\n",
       "      <td>1970-01-01</td>\n",
       "      <td>0.164</td>\n",
       "      <td>0.970</td>\n",
       "      <td>4.184</td>\n",
       "      <td>4.285</td>\n",
       "      <td>...</td>\n",
       "      <td>23.160</td>\n",
       "      <td>887.000</td>\n",
       "      <td>37.290</td>\n",
       "      <td>2.578</td>\n",
       "      <td>0.267</td>\n",
       "      <td>3.485</td>\n",
       "      <td>13.044</td>\n",
       "      <td>315.993</td>\n",
       "      <td>2.616</td>\n",
       "      <td>65.590</td>\n",
       "    </tr>\n",
       "    <tr>\n",
       "      <th>4</th>\n",
       "      <td>2019-08-15</td>\n",
       "      <td>A</td>\n",
       "      <td>20332.900</td>\n",
       "      <td>5090.000</td>\n",
       "      <td>1765.000</td>\n",
       "      <td>1970-01-01</td>\n",
       "      <td>0.164</td>\n",
       "      <td>1.000</td>\n",
       "      <td>4.283</td>\n",
       "      <td>4.068</td>\n",
       "      <td>...</td>\n",
       "      <td>22.018</td>\n",
       "      <td>918.000</td>\n",
       "      <td>36.935</td>\n",
       "      <td>-1.738</td>\n",
       "      <td>-2.772</td>\n",
       "      <td>-0.869</td>\n",
       "      <td>11.891</td>\n",
       "      <td>315.993</td>\n",
       "      <td>2.631</td>\n",
       "      <td>69.590</td>\n",
       "    </tr>\n",
       "  </tbody>\n",
       "</table>\n",
       "<p>5 rows × 23 columns</p>\n",
       "</div>"
      ],
      "text/plain": [
       "        date sym      MCAP  RevenueTTM  TotalCash ExDividendDate  Dividend  \\\n",
       "0 2019-08-09   A 22027.705    5019.000   2155.000     1970-01-01     0.164   \n",
       "1 2019-08-12   A 21758.262    5019.000   2155.000     1970-01-01     0.164   \n",
       "2 2019-08-13   A 21121.109    5019.000   2155.000     1970-01-01     0.164   \n",
       "3 2019-08-14   A 21441.271    5019.000   2155.000     1970-01-01     0.164   \n",
       "4 2019-08-15   A 20332.900    5090.000   1765.000     1970-01-01     0.164   \n",
       "\n",
       "   DividendYield  PriceToBook  PriceToSales  ...  ReturnonEquity  \\\n",
       "0          0.944        4.298         4.402  ...          23.160   \n",
       "1          0.956        4.246         4.348  ...          23.160   \n",
       "2          0.985        4.121         4.221  ...          23.160   \n",
       "3          0.970        4.184         4.285  ...          23.160   \n",
       "4          1.000        4.283         4.068  ...          22.018   \n",
       "\n",
       "   FreeCashFlow  TotalDebtToEquity  PricePerformance52Weeks  \\\n",
       "0       887.000             37.290                    3.131   \n",
       "1       887.000             37.290                    3.592   \n",
       "2       887.000             37.290                    0.558   \n",
       "3       887.000             37.290                    2.578   \n",
       "4       918.000             36.935                   -1.738   \n",
       "\n",
       "   PricePerformanceYTD  TotalReturn1Yr  TotalReturn3Yr  SharesOutstanding  \\\n",
       "0                3.009           4.044          14.794            315.993   \n",
       "1                1.749           4.508          14.099            315.993   \n",
       "2               -1.230           1.448          12.479            315.993   \n",
       "3                0.267           3.485          13.044            315.993   \n",
       "4               -2.772          -0.869          11.891            315.993   \n",
       "\n",
       "   VolumeAvg90Day  price  \n",
       "0           2.593 68.640  \n",
       "1           2.585 66.780  \n",
       "2           2.605 67.640  \n",
       "3           2.616 65.590  \n",
       "4           2.631 69.590  \n",
       "\n",
       "[5 rows x 23 columns]"
      ]
     },
     "execution_count": 741,
     "metadata": {},
     "output_type": "execute_result"
    }
   ],
   "source": [
    "df_performance.head()"
   ]
  },
  {
   "cell_type": "markdown",
   "metadata": {},
   "source": [
    "## Describe"
   ]
  },
  {
   "cell_type": "code",
   "execution_count": 744,
   "metadata": {
    "ExecuteTime": {
     "end_time": "2020-11-18T20:20:02.581895Z",
     "start_time": "2020-11-18T20:20:02.197564Z"
    }
   },
   "outputs": [
    {
     "data": {
      "text/html": [
       "<div>\n",
       "<style scoped>\n",
       "    .dataframe tbody tr th:only-of-type {\n",
       "        vertical-align: middle;\n",
       "    }\n",
       "\n",
       "    .dataframe tbody tr th {\n",
       "        vertical-align: top;\n",
       "    }\n",
       "\n",
       "    .dataframe thead th {\n",
       "        text-align: right;\n",
       "    }\n",
       "</style>\n",
       "<table border=\"1\" class=\"dataframe\">\n",
       "  <thead>\n",
       "    <tr style=\"text-align: right;\">\n",
       "      <th></th>\n",
       "      <th>MCAP</th>\n",
       "      <th>RevenueTTM</th>\n",
       "      <th>TotalCash</th>\n",
       "      <th>Dividend</th>\n",
       "      <th>DividendYield</th>\n",
       "      <th>PriceToBook</th>\n",
       "      <th>PriceToSales</th>\n",
       "      <th>EnterpriseValue</th>\n",
       "      <th>PriceToCashFlow</th>\n",
       "      <th>PE</th>\n",
       "      <th>ReturnonEquity</th>\n",
       "      <th>FreeCashFlow</th>\n",
       "      <th>TotalDebtToEquity</th>\n",
       "      <th>PricePerformance52Weeks</th>\n",
       "      <th>PricePerformanceYTD</th>\n",
       "      <th>TotalReturn1Yr</th>\n",
       "      <th>TotalReturn3Yr</th>\n",
       "      <th>SharesOutstanding</th>\n",
       "      <th>VolumeAvg90Day</th>\n",
       "      <th>price</th>\n",
       "    </tr>\n",
       "  </thead>\n",
       "  <tbody>\n",
       "    <tr>\n",
       "      <th>count</th>\n",
       "      <td>720484.000</td>\n",
       "      <td>720484.000</td>\n",
       "      <td>720484.000</td>\n",
       "      <td>720484.000</td>\n",
       "      <td>720484.000</td>\n",
       "      <td>720484.000</td>\n",
       "      <td>720484.000</td>\n",
       "      <td>720484.000</td>\n",
       "      <td>720484.000</td>\n",
       "      <td>720484.000</td>\n",
       "      <td>720484.000</td>\n",
       "      <td>720484.000</td>\n",
       "      <td>720484.000</td>\n",
       "      <td>720484.000</td>\n",
       "      <td>720484.000</td>\n",
       "      <td>720484.000</td>\n",
       "      <td>720484.000</td>\n",
       "      <td>720484.000</td>\n",
       "      <td>720484.000</td>\n",
       "      <td>720484.000</td>\n",
       "    </tr>\n",
       "    <tr>\n",
       "      <th>mean</th>\n",
       "      <td>13303.280</td>\n",
       "      <td>7058.086</td>\n",
       "      <td>2885.197</td>\n",
       "      <td>0.367</td>\n",
       "      <td>5.031</td>\n",
       "      <td>7.514</td>\n",
       "      <td>36.549</td>\n",
       "      <td>16297677824.000</td>\n",
       "      <td>69.243</td>\n",
       "      <td>53.925</td>\n",
       "      <td>8.539</td>\n",
       "      <td>663.709</td>\n",
       "      <td>199.028</td>\n",
       "      <td>2.823</td>\n",
       "      <td>2.105</td>\n",
       "      <td>4.172</td>\n",
       "      <td>3.138</td>\n",
       "      <td>246.932</td>\n",
       "      <td>1.615</td>\n",
       "      <td>52.017</td>\n",
       "    </tr>\n",
       "    <tr>\n",
       "      <th>std</th>\n",
       "      <td>59747.438</td>\n",
       "      <td>24302.338</td>\n",
       "      <td>25482.031</td>\n",
       "      <td>0.559</td>\n",
       "      <td>13.569</td>\n",
       "      <td>101.790</td>\n",
       "      <td>553.543</td>\n",
       "      <td>63767863296.000</td>\n",
       "      <td>1437.568</td>\n",
       "      <td>302.238</td>\n",
       "      <td>1645.455</td>\n",
       "      <td>4287.571</td>\n",
       "      <td>16996.461</td>\n",
       "      <td>57.893</td>\n",
       "      <td>49.823</td>\n",
       "      <td>57.989</td>\n",
       "      <td>28.770</td>\n",
       "      <td>804.722</td>\n",
       "      <td>4.809</td>\n",
       "      <td>126.827</td>\n",
       "    </tr>\n",
       "    <tr>\n",
       "      <th>min</th>\n",
       "      <td>0.427</td>\n",
       "      <td>-37.587</td>\n",
       "      <td>0.000</td>\n",
       "      <td>0.001</td>\n",
       "      <td>0.000</td>\n",
       "      <td>0.005</td>\n",
       "      <td>0.004</td>\n",
       "      <td>-81073946624.000</td>\n",
       "      <td>0.045</td>\n",
       "      <td>0.000</td>\n",
       "      <td>-66304.000</td>\n",
       "      <td>-81123.000</td>\n",
       "      <td>-288322.562</td>\n",
       "      <td>-97.143</td>\n",
       "      <td>-95.961</td>\n",
       "      <td>-97.143</td>\n",
       "      <td>-97.093</td>\n",
       "      <td>0.563</td>\n",
       "      <td>0.000</td>\n",
       "      <td>0.004</td>\n",
       "    </tr>\n",
       "    <tr>\n",
       "      <th>25%</th>\n",
       "      <td>192.031</td>\n",
       "      <td>119.037</td>\n",
       "      <td>24.123</td>\n",
       "      <td>0.117</td>\n",
       "      <td>1.576</td>\n",
       "      <td>1.120</td>\n",
       "      <td>0.691</td>\n",
       "      <td>245631612.000</td>\n",
       "      <td>7.405</td>\n",
       "      <td>12.100</td>\n",
       "      <td>-8.372</td>\n",
       "      <td>-3.465</td>\n",
       "      <td>12.911</td>\n",
       "      <td>-28.683</td>\n",
       "      <td>-24.516</td>\n",
       "      <td>-27.481</td>\n",
       "      <td>-12.538</td>\n",
       "      <td>27.250</td>\n",
       "      <td>0.110</td>\n",
       "      <td>6.100</td>\n",
       "    </tr>\n",
       "    <tr>\n",
       "      <th>50%</th>\n",
       "      <td>1360.070</td>\n",
       "      <td>891.849</td>\n",
       "      <td>128.005</td>\n",
       "      <td>0.240</td>\n",
       "      <td>2.875</td>\n",
       "      <td>2.176</td>\n",
       "      <td>1.734</td>\n",
       "      <td>1856230208.000</td>\n",
       "      <td>12.545</td>\n",
       "      <td>20.800</td>\n",
       "      <td>7.407</td>\n",
       "      <td>41.841</td>\n",
       "      <td>57.571</td>\n",
       "      <td>-5.007</td>\n",
       "      <td>-3.668</td>\n",
       "      <td>-3.333</td>\n",
       "      <td>2.135</td>\n",
       "      <td>61.173</td>\n",
       "      <td>0.423</td>\n",
       "      <td>21.470</td>\n",
       "    </tr>\n",
       "    <tr>\n",
       "      <th>75%</th>\n",
       "      <td>6720.600</td>\n",
       "      <td>4063.800</td>\n",
       "      <td>567.668</td>\n",
       "      <td>0.472</td>\n",
       "      <td>4.833</td>\n",
       "      <td>4.649</td>\n",
       "      <td>4.098</td>\n",
       "      <td>8625203200.000</td>\n",
       "      <td>21.848</td>\n",
       "      <td>38.600</td>\n",
       "      <td>16.285</td>\n",
       "      <td>303.990</td>\n",
       "      <td>122.017</td>\n",
       "      <td>21.331</td>\n",
       "      <td>16.502</td>\n",
       "      <td>23.137</td>\n",
       "      <td>16.417</td>\n",
       "      <td>165.560</td>\n",
       "      <td>1.340</td>\n",
       "      <td>59.340</td>\n",
       "    </tr>\n",
       "    <tr>\n",
       "      <th>max</th>\n",
       "      <td>2299275.750</td>\n",
       "      <td>542026.000</td>\n",
       "      <td>3078400.000</td>\n",
       "      <td>18.000</td>\n",
       "      <td>315.789</td>\n",
       "      <td>15779.040</td>\n",
       "      <td>45000.000</td>\n",
       "      <td>2328407834624.000</td>\n",
       "      <td>100777.500</td>\n",
       "      <td>27424.000</td>\n",
       "      <td>108895.891</td>\n",
       "      <td>208604.047</td>\n",
       "      <td>1801965.750</td>\n",
       "      <td>1551.034</td>\n",
       "      <td>1635.035</td>\n",
       "      <td>1551.034</td>\n",
       "      <td>516.854</td>\n",
       "      <td>17703.846</td>\n",
       "      <td>167.068</td>\n",
       "      <td>4395.000</td>\n",
       "    </tr>\n",
       "  </tbody>\n",
       "</table>\n",
       "</div>"
      ],
      "text/plain": [
       "             MCAP  RevenueTTM   TotalCash   Dividend  DividendYield  \\\n",
       "count  720484.000  720484.000  720484.000 720484.000     720484.000   \n",
       "mean    13303.280    7058.086    2885.197      0.367          5.031   \n",
       "std     59747.438   24302.338   25482.031      0.559         13.569   \n",
       "min         0.427     -37.587       0.000      0.001          0.000   \n",
       "25%       192.031     119.037      24.123      0.117          1.576   \n",
       "50%      1360.070     891.849     128.005      0.240          2.875   \n",
       "75%      6720.600    4063.800     567.668      0.472          4.833   \n",
       "max   2299275.750  542026.000 3078400.000     18.000        315.789   \n",
       "\n",
       "       PriceToBook  PriceToSales   EnterpriseValue  PriceToCashFlow  \\\n",
       "count   720484.000    720484.000        720484.000       720484.000   \n",
       "mean         7.514        36.549   16297677824.000           69.243   \n",
       "std        101.790       553.543   63767863296.000         1437.568   \n",
       "min          0.005         0.004  -81073946624.000            0.045   \n",
       "25%          1.120         0.691     245631612.000            7.405   \n",
       "50%          2.176         1.734    1856230208.000           12.545   \n",
       "75%          4.649         4.098    8625203200.000           21.848   \n",
       "max      15779.040     45000.000 2328407834624.000       100777.500   \n",
       "\n",
       "              PE  ReturnonEquity  FreeCashFlow  TotalDebtToEquity  \\\n",
       "count 720484.000      720484.000    720484.000         720484.000   \n",
       "mean      53.925           8.539       663.709            199.028   \n",
       "std      302.238        1645.455      4287.571          16996.461   \n",
       "min        0.000      -66304.000    -81123.000        -288322.562   \n",
       "25%       12.100          -8.372        -3.465             12.911   \n",
       "50%       20.800           7.407        41.841             57.571   \n",
       "75%       38.600          16.285       303.990            122.017   \n",
       "max    27424.000      108895.891    208604.047        1801965.750   \n",
       "\n",
       "       PricePerformance52Weeks  PricePerformanceYTD  TotalReturn1Yr  \\\n",
       "count               720484.000           720484.000      720484.000   \n",
       "mean                     2.823                2.105           4.172   \n",
       "std                     57.893               49.823          57.989   \n",
       "min                    -97.143              -95.961         -97.143   \n",
       "25%                    -28.683              -24.516         -27.481   \n",
       "50%                     -5.007               -3.668          -3.333   \n",
       "75%                     21.331               16.502          23.137   \n",
       "max                   1551.034             1635.035        1551.034   \n",
       "\n",
       "       TotalReturn3Yr  SharesOutstanding  VolumeAvg90Day      price  \n",
       "count      720484.000         720484.000      720484.000 720484.000  \n",
       "mean            3.138            246.932           1.615     52.017  \n",
       "std            28.770            804.722           4.809    126.827  \n",
       "min           -97.093              0.563           0.000      0.004  \n",
       "25%           -12.538             27.250           0.110      6.100  \n",
       "50%             2.135             61.173           0.423     21.470  \n",
       "75%            16.417            165.560           1.340     59.340  \n",
       "max           516.854          17703.846         167.068   4395.000  "
      ]
     },
     "execution_count": 744,
     "metadata": {},
     "output_type": "execute_result"
    }
   ],
   "source": [
    "df_performance.describe()"
   ]
  },
  {
   "cell_type": "markdown",
   "metadata": {},
   "source": [
    "## Info"
   ]
  },
  {
   "cell_type": "code",
   "execution_count": 745,
   "metadata": {
    "ExecuteTime": {
     "end_time": "2020-11-18T20:20:03.263020Z",
     "start_time": "2020-11-18T20:20:03.213896Z"
    }
   },
   "outputs": [
    {
     "name": "stdout",
     "output_type": "stream",
     "text": [
      "<class 'pandas.core.frame.DataFrame'>\n",
      "MultiIndex: 720484 entries, (Timestamp('2019-08-09 00:00:00'), 'A') to (Timestamp('2020-11-06 00:00:00'), 'ZYXI')\n",
      "Data columns (total 21 columns):\n",
      " #   Column                   Non-Null Count   Dtype         \n",
      "---  ------                   --------------   -----         \n",
      " 0   MCAP                     720484 non-null  float32       \n",
      " 1   RevenueTTM               720484 non-null  float32       \n",
      " 2   TotalCash                720484 non-null  float32       \n",
      " 3   ExDividendDate           720484 non-null  datetime64[ns]\n",
      " 4   Dividend                 720484 non-null  float32       \n",
      " 5   DividendYield            720484 non-null  float32       \n",
      " 6   PriceToBook              720484 non-null  float32       \n",
      " 7   PriceToSales             720484 non-null  float32       \n",
      " 8   EnterpriseValue          720484 non-null  float32       \n",
      " 9   PriceToCashFlow          720484 non-null  float32       \n",
      " 10  PE                       720484 non-null  float32       \n",
      " 11  ReturnonEquity           720484 non-null  float32       \n",
      " 12  FreeCashFlow             720484 non-null  float32       \n",
      " 13  TotalDebtToEquity        720484 non-null  float32       \n",
      " 14  PricePerformance52Weeks  720484 non-null  float32       \n",
      " 15  PricePerformanceYTD      720484 non-null  float32       \n",
      " 16  TotalReturn1Yr           720484 non-null  float32       \n",
      " 17  TotalReturn3Yr           720484 non-null  float32       \n",
      " 18  SharesOutstanding        720484 non-null  float32       \n",
      " 19  VolumeAvg90Day           720484 non-null  float32       \n",
      " 20  price                    720484 non-null  float32       \n",
      "dtypes: datetime64[ns](1), float32(20)\n",
      "memory usage: 63.3+ MB\n"
     ]
    }
   ],
   "source": [
    "df_performance.info()"
   ]
  },
  {
   "cell_type": "markdown",
   "metadata": {},
   "source": [
    "## Other"
   ]
  },
  {
   "cell_type": "code",
   "execution_count": 747,
   "metadata": {
    "ExecuteTime": {
     "end_time": "2020-11-18T20:20:31.843705Z",
     "start_time": "2020-11-18T20:20:31.780701Z"
    }
   },
   "outputs": [
    {
     "data": {
      "text/plain": [
       "2415"
      ]
     },
     "execution_count": 747,
     "metadata": {},
     "output_type": "execute_result"
    }
   ],
   "source": [
    "num_symbols = df_performance.reset_index()['sym'].nunique()\n",
    "num_symbols"
   ]
  },
  {
   "cell_type": "code",
   "execution_count": 761,
   "metadata": {
    "ExecuteTime": {
     "end_time": "2020-11-18T20:28:43.181273Z",
     "start_time": "2020-11-18T20:28:42.834237Z"
    }
   },
   "outputs": [
    {
     "data": {
      "text/html": [
       "<div>\n",
       "<style scoped>\n",
       "    .dataframe tbody tr th:only-of-type {\n",
       "        vertical-align: middle;\n",
       "    }\n",
       "\n",
       "    .dataframe tbody tr th {\n",
       "        vertical-align: top;\n",
       "    }\n",
       "\n",
       "    .dataframe thead th {\n",
       "        text-align: right;\n",
       "    }\n",
       "</style>\n",
       "<table border=\"1\" class=\"dataframe\">\n",
       "  <thead>\n",
       "    <tr style=\"text-align: right;\">\n",
       "      <th></th>\n",
       "      <th></th>\n",
       "      <th>MCAP</th>\n",
       "      <th>RevenueTTM</th>\n",
       "      <th>TotalCash</th>\n",
       "      <th>ExDividendDate</th>\n",
       "      <th>Dividend</th>\n",
       "      <th>DividendYield</th>\n",
       "      <th>PriceToBook</th>\n",
       "      <th>PriceToSales</th>\n",
       "      <th>EnterpriseValue</th>\n",
       "      <th>PriceToCashFlow</th>\n",
       "      <th>...</th>\n",
       "      <th>ReturnonEquity</th>\n",
       "      <th>FreeCashFlow</th>\n",
       "      <th>TotalDebtToEquity</th>\n",
       "      <th>PricePerformance52Weeks</th>\n",
       "      <th>PricePerformanceYTD</th>\n",
       "      <th>TotalReturn1Yr</th>\n",
       "      <th>TotalReturn3Yr</th>\n",
       "      <th>SharesOutstanding</th>\n",
       "      <th>VolumeAvg90Day</th>\n",
       "      <th>price</th>\n",
       "    </tr>\n",
       "    <tr>\n",
       "      <th>date</th>\n",
       "      <th>sym</th>\n",
       "      <th></th>\n",
       "      <th></th>\n",
       "      <th></th>\n",
       "      <th></th>\n",
       "      <th></th>\n",
       "      <th></th>\n",
       "      <th></th>\n",
       "      <th></th>\n",
       "      <th></th>\n",
       "      <th></th>\n",
       "      <th></th>\n",
       "      <th></th>\n",
       "      <th></th>\n",
       "      <th></th>\n",
       "      <th></th>\n",
       "      <th></th>\n",
       "      <th></th>\n",
       "      <th></th>\n",
       "      <th></th>\n",
       "      <th></th>\n",
       "      <th></th>\n",
       "    </tr>\n",
       "  </thead>\n",
       "  <tbody>\n",
       "    <tr>\n",
       "      <th>2019-08-09</th>\n",
       "      <th>A</th>\n",
       "      <td>22027.705</td>\n",
       "      <td>5019.000</td>\n",
       "      <td>2155.000</td>\n",
       "      <td>1970-01-01</td>\n",
       "      <td>0.164</td>\n",
       "      <td>0.944</td>\n",
       "      <td>4.298</td>\n",
       "      <td>4.402</td>\n",
       "      <td>21670705152.000</td>\n",
       "      <td>16.574</td>\n",
       "      <td>...</td>\n",
       "      <td>23.160</td>\n",
       "      <td>887.000</td>\n",
       "      <td>37.290</td>\n",
       "      <td>3.131</td>\n",
       "      <td>3.009</td>\n",
       "      <td>4.044</td>\n",
       "      <td>14.794</td>\n",
       "      <td>315.993</td>\n",
       "      <td>2.593</td>\n",
       "      <td>68.640</td>\n",
       "    </tr>\n",
       "    <tr>\n",
       "      <th>2019-08-12</th>\n",
       "      <th>A</th>\n",
       "      <td>21758.262</td>\n",
       "      <td>5019.000</td>\n",
       "      <td>2155.000</td>\n",
       "      <td>1970-01-01</td>\n",
       "      <td>0.164</td>\n",
       "      <td>0.956</td>\n",
       "      <td>4.246</td>\n",
       "      <td>4.348</td>\n",
       "      <td>21401262080.000</td>\n",
       "      <td>16.371</td>\n",
       "      <td>...</td>\n",
       "      <td>23.160</td>\n",
       "      <td>887.000</td>\n",
       "      <td>37.290</td>\n",
       "      <td>3.592</td>\n",
       "      <td>1.749</td>\n",
       "      <td>4.508</td>\n",
       "      <td>14.099</td>\n",
       "      <td>315.993</td>\n",
       "      <td>2.585</td>\n",
       "      <td>66.780</td>\n",
       "    </tr>\n",
       "    <tr>\n",
       "      <th>2019-08-13</th>\n",
       "      <th>A</th>\n",
       "      <td>21121.109</td>\n",
       "      <td>5019.000</td>\n",
       "      <td>2155.000</td>\n",
       "      <td>1970-01-01</td>\n",
       "      <td>0.164</td>\n",
       "      <td>0.985</td>\n",
       "      <td>4.121</td>\n",
       "      <td>4.221</td>\n",
       "      <td>20764110848.000</td>\n",
       "      <td>15.892</td>\n",
       "      <td>...</td>\n",
       "      <td>23.160</td>\n",
       "      <td>887.000</td>\n",
       "      <td>37.290</td>\n",
       "      <td>0.558</td>\n",
       "      <td>-1.230</td>\n",
       "      <td>1.448</td>\n",
       "      <td>12.479</td>\n",
       "      <td>315.993</td>\n",
       "      <td>2.605</td>\n",
       "      <td>67.640</td>\n",
       "    </tr>\n",
       "    <tr>\n",
       "      <th>2019-08-14</th>\n",
       "      <th>A</th>\n",
       "      <td>21441.271</td>\n",
       "      <td>5019.000</td>\n",
       "      <td>2155.000</td>\n",
       "      <td>1970-01-01</td>\n",
       "      <td>0.164</td>\n",
       "      <td>0.970</td>\n",
       "      <td>4.184</td>\n",
       "      <td>4.285</td>\n",
       "      <td>21084270592.000</td>\n",
       "      <td>16.132</td>\n",
       "      <td>...</td>\n",
       "      <td>23.160</td>\n",
       "      <td>887.000</td>\n",
       "      <td>37.290</td>\n",
       "      <td>2.578</td>\n",
       "      <td>0.267</td>\n",
       "      <td>3.485</td>\n",
       "      <td>13.044</td>\n",
       "      <td>315.993</td>\n",
       "      <td>2.616</td>\n",
       "      <td>65.590</td>\n",
       "    </tr>\n",
       "    <tr>\n",
       "      <th>2019-08-15</th>\n",
       "      <th>A</th>\n",
       "      <td>20332.900</td>\n",
       "      <td>5090.000</td>\n",
       "      <td>1765.000</td>\n",
       "      <td>1970-01-01</td>\n",
       "      <td>0.164</td>\n",
       "      <td>1.000</td>\n",
       "      <td>4.283</td>\n",
       "      <td>4.068</td>\n",
       "      <td>20365899776.000</td>\n",
       "      <td>16.051</td>\n",
       "      <td>...</td>\n",
       "      <td>22.018</td>\n",
       "      <td>918.000</td>\n",
       "      <td>36.935</td>\n",
       "      <td>-1.738</td>\n",
       "      <td>-2.772</td>\n",
       "      <td>-0.869</td>\n",
       "      <td>11.891</td>\n",
       "      <td>315.993</td>\n",
       "      <td>2.631</td>\n",
       "      <td>69.590</td>\n",
       "    </tr>\n",
       "    <tr>\n",
       "      <th>...</th>\n",
       "      <th>...</th>\n",
       "      <td>...</td>\n",
       "      <td>...</td>\n",
       "      <td>...</td>\n",
       "      <td>...</td>\n",
       "      <td>...</td>\n",
       "      <td>...</td>\n",
       "      <td>...</td>\n",
       "      <td>...</td>\n",
       "      <td>...</td>\n",
       "      <td>...</td>\n",
       "      <td>...</td>\n",
       "      <td>...</td>\n",
       "      <td>...</td>\n",
       "      <td>...</td>\n",
       "      <td>...</td>\n",
       "      <td>...</td>\n",
       "      <td>...</td>\n",
       "      <td>...</td>\n",
       "      <td>...</td>\n",
       "      <td>...</td>\n",
       "      <td>...</td>\n",
       "    </tr>\n",
       "    <tr>\n",
       "      <th>2020-11-02</th>\n",
       "      <th>ZYXI</th>\n",
       "      <td>444.981</td>\n",
       "      <td>68.679</td>\n",
       "      <td>41.229</td>\n",
       "      <td>1970-01-01</td>\n",
       "      <td>2.052</td>\n",
       "      <td>5.702</td>\n",
       "      <td>8.193</td>\n",
       "      <td>6.250</td>\n",
       "      <td>408928960.000</td>\n",
       "      <td>37.452</td>\n",
       "      <td>...</td>\n",
       "      <td>32.881</td>\n",
       "      <td>3.825</td>\n",
       "      <td>17.030</td>\n",
       "      <td>38.636</td>\n",
       "      <td>62.770</td>\n",
       "      <td>38.636</td>\n",
       "      <td>66.668</td>\n",
       "      <td>34.741</td>\n",
       "      <td>0.981</td>\n",
       "      <td>12.920</td>\n",
       "    </tr>\n",
       "    <tr>\n",
       "      <th>2020-11-03</th>\n",
       "      <th>ZYXI</th>\n",
       "      <td>448.802</td>\n",
       "      <td>68.679</td>\n",
       "      <td>41.229</td>\n",
       "      <td>1970-01-01</td>\n",
       "      <td>2.052</td>\n",
       "      <td>5.702</td>\n",
       "      <td>8.264</td>\n",
       "      <td>6.304</td>\n",
       "      <td>412750048.000</td>\n",
       "      <td>37.773</td>\n",
       "      <td>...</td>\n",
       "      <td>32.881</td>\n",
       "      <td>3.825</td>\n",
       "      <td>17.030</td>\n",
       "      <td>39.299</td>\n",
       "      <td>64.168</td>\n",
       "      <td>39.299</td>\n",
       "      <td>68.337</td>\n",
       "      <td>34.741</td>\n",
       "      <td>0.983</td>\n",
       "      <td>13.070</td>\n",
       "    </tr>\n",
       "    <tr>\n",
       "      <th>2020-11-04</th>\n",
       "      <th>ZYXI</th>\n",
       "      <td>454.013</td>\n",
       "      <td>68.679</td>\n",
       "      <td>41.229</td>\n",
       "      <td>1970-01-01</td>\n",
       "      <td>2.052</td>\n",
       "      <td>5.702</td>\n",
       "      <td>8.359</td>\n",
       "      <td>6.377</td>\n",
       "      <td>417960576.000</td>\n",
       "      <td>38.212</td>\n",
       "      <td>...</td>\n",
       "      <td>32.881</td>\n",
       "      <td>3.825</td>\n",
       "      <td>17.030</td>\n",
       "      <td>40.916</td>\n",
       "      <td>66.074</td>\n",
       "      <td>40.916</td>\n",
       "      <td>68.986</td>\n",
       "      <td>34.741</td>\n",
       "      <td>0.979</td>\n",
       "      <td>13.460</td>\n",
       "    </tr>\n",
       "    <tr>\n",
       "      <th>2020-11-05</th>\n",
       "      <th>ZYXI</th>\n",
       "      <td>467.560</td>\n",
       "      <td>68.679</td>\n",
       "      <td>41.229</td>\n",
       "      <td>1970-01-01</td>\n",
       "      <td>2.052</td>\n",
       "      <td>5.702</td>\n",
       "      <td>8.609</td>\n",
       "      <td>6.568</td>\n",
       "      <td>431508032.000</td>\n",
       "      <td>39.352</td>\n",
       "      <td>...</td>\n",
       "      <td>32.881</td>\n",
       "      <td>3.825</td>\n",
       "      <td>17.030</td>\n",
       "      <td>48.565</td>\n",
       "      <td>71.029</td>\n",
       "      <td>48.565</td>\n",
       "      <td>70.650</td>\n",
       "      <td>34.741</td>\n",
       "      <td>0.972</td>\n",
       "      <td>13.570</td>\n",
       "    </tr>\n",
       "    <tr>\n",
       "      <th>2020-11-06</th>\n",
       "      <th>ZYXI</th>\n",
       "      <td>471.381</td>\n",
       "      <td>68.679</td>\n",
       "      <td>41.229</td>\n",
       "      <td>1970-01-01</td>\n",
       "      <td>2.052</td>\n",
       "      <td>5.702</td>\n",
       "      <td>8.679</td>\n",
       "      <td>6.621</td>\n",
       "      <td>435329088.000</td>\n",
       "      <td>39.673</td>\n",
       "      <td>...</td>\n",
       "      <td>32.881</td>\n",
       "      <td>3.825</td>\n",
       "      <td>17.030</td>\n",
       "      <td>54.380</td>\n",
       "      <td>72.427</td>\n",
       "      <td>54.380</td>\n",
       "      <td>71.114</td>\n",
       "      <td>34.741</td>\n",
       "      <td>0.969</td>\n",
       "      <td>13.220</td>\n",
       "    </tr>\n",
       "  </tbody>\n",
       "</table>\n",
       "<p>720484 rows × 21 columns</p>\n",
       "</div>"
      ],
      "text/plain": [
       "                     MCAP  RevenueTTM  TotalCash ExDividendDate  Dividend  \\\n",
       "date       sym                                                              \n",
       "2019-08-09 A    22027.705    5019.000   2155.000     1970-01-01     0.164   \n",
       "2019-08-12 A    21758.262    5019.000   2155.000     1970-01-01     0.164   \n",
       "2019-08-13 A    21121.109    5019.000   2155.000     1970-01-01     0.164   \n",
       "2019-08-14 A    21441.271    5019.000   2155.000     1970-01-01     0.164   \n",
       "2019-08-15 A    20332.900    5090.000   1765.000     1970-01-01     0.164   \n",
       "...                   ...         ...        ...            ...       ...   \n",
       "2020-11-02 ZYXI   444.981      68.679     41.229     1970-01-01     2.052   \n",
       "2020-11-03 ZYXI   448.802      68.679     41.229     1970-01-01     2.052   \n",
       "2020-11-04 ZYXI   454.013      68.679     41.229     1970-01-01     2.052   \n",
       "2020-11-05 ZYXI   467.560      68.679     41.229     1970-01-01     2.052   \n",
       "2020-11-06 ZYXI   471.381      68.679     41.229     1970-01-01     2.052   \n",
       "\n",
       "                 DividendYield  PriceToBook  PriceToSales  EnterpriseValue  \\\n",
       "date       sym                                                               \n",
       "2019-08-09 A             0.944        4.298         4.402  21670705152.000   \n",
       "2019-08-12 A             0.956        4.246         4.348  21401262080.000   \n",
       "2019-08-13 A             0.985        4.121         4.221  20764110848.000   \n",
       "2019-08-14 A             0.970        4.184         4.285  21084270592.000   \n",
       "2019-08-15 A             1.000        4.283         4.068  20365899776.000   \n",
       "...                        ...          ...           ...              ...   \n",
       "2020-11-02 ZYXI          5.702        8.193         6.250    408928960.000   \n",
       "2020-11-03 ZYXI          5.702        8.264         6.304    412750048.000   \n",
       "2020-11-04 ZYXI          5.702        8.359         6.377    417960576.000   \n",
       "2020-11-05 ZYXI          5.702        8.609         6.568    431508032.000   \n",
       "2020-11-06 ZYXI          5.702        8.679         6.621    435329088.000   \n",
       "\n",
       "                 PriceToCashFlow  ...  ReturnonEquity  FreeCashFlow  \\\n",
       "date       sym                    ...                                 \n",
       "2019-08-09 A              16.574  ...          23.160       887.000   \n",
       "2019-08-12 A              16.371  ...          23.160       887.000   \n",
       "2019-08-13 A              15.892  ...          23.160       887.000   \n",
       "2019-08-14 A              16.132  ...          23.160       887.000   \n",
       "2019-08-15 A              16.051  ...          22.018       918.000   \n",
       "...                          ...  ...             ...           ...   \n",
       "2020-11-02 ZYXI           37.452  ...          32.881         3.825   \n",
       "2020-11-03 ZYXI           37.773  ...          32.881         3.825   \n",
       "2020-11-04 ZYXI           38.212  ...          32.881         3.825   \n",
       "2020-11-05 ZYXI           39.352  ...          32.881         3.825   \n",
       "2020-11-06 ZYXI           39.673  ...          32.881         3.825   \n",
       "\n",
       "                 TotalDebtToEquity  PricePerformance52Weeks  \\\n",
       "date       sym                                                \n",
       "2019-08-09 A                37.290                    3.131   \n",
       "2019-08-12 A                37.290                    3.592   \n",
       "2019-08-13 A                37.290                    0.558   \n",
       "2019-08-14 A                37.290                    2.578   \n",
       "2019-08-15 A                36.935                   -1.738   \n",
       "...                            ...                      ...   \n",
       "2020-11-02 ZYXI             17.030                   38.636   \n",
       "2020-11-03 ZYXI             17.030                   39.299   \n",
       "2020-11-04 ZYXI             17.030                   40.916   \n",
       "2020-11-05 ZYXI             17.030                   48.565   \n",
       "2020-11-06 ZYXI             17.030                   54.380   \n",
       "\n",
       "                 PricePerformanceYTD  TotalReturn1Yr  TotalReturn3Yr  \\\n",
       "date       sym                                                         \n",
       "2019-08-09 A                   3.009           4.044          14.794   \n",
       "2019-08-12 A                   1.749           4.508          14.099   \n",
       "2019-08-13 A                  -1.230           1.448          12.479   \n",
       "2019-08-14 A                   0.267           3.485          13.044   \n",
       "2019-08-15 A                  -2.772          -0.869          11.891   \n",
       "...                              ...             ...             ...   \n",
       "2020-11-02 ZYXI               62.770          38.636          66.668   \n",
       "2020-11-03 ZYXI               64.168          39.299          68.337   \n",
       "2020-11-04 ZYXI               66.074          40.916          68.986   \n",
       "2020-11-05 ZYXI               71.029          48.565          70.650   \n",
       "2020-11-06 ZYXI               72.427          54.380          71.114   \n",
       "\n",
       "                 SharesOutstanding  VolumeAvg90Day  price  \n",
       "date       sym                                             \n",
       "2019-08-09 A               315.993           2.593 68.640  \n",
       "2019-08-12 A               315.993           2.585 66.780  \n",
       "2019-08-13 A               315.993           2.605 67.640  \n",
       "2019-08-14 A               315.993           2.616 65.590  \n",
       "2019-08-15 A               315.993           2.631 69.590  \n",
       "...                            ...             ...    ...  \n",
       "2020-11-02 ZYXI             34.741           0.981 12.920  \n",
       "2020-11-03 ZYXI             34.741           0.983 13.070  \n",
       "2020-11-04 ZYXI             34.741           0.979 13.460  \n",
       "2020-11-05 ZYXI             34.741           0.972 13.570  \n",
       "2020-11-06 ZYXI             34.741           0.969 13.220  \n",
       "\n",
       "[720484 rows x 21 columns]"
      ]
     },
     "execution_count": 761,
     "metadata": {},
     "output_type": "execute_result"
    }
   ],
   "source": [
    "df_performance"
   ]
  },
  {
   "cell_type": "code",
   "execution_count": null,
   "metadata": {},
   "outputs": [],
   "source": [
    "weekly_cut = pd.date_range('2019-08-09', '2020-11-06', freq='W-THU')"
   ]
  },
  {
   "cell_type": "code",
   "execution_count": 805,
   "metadata": {
    "ExecuteTime": {
     "end_time": "2020-11-18T20:44:45.406613Z",
     "start_time": "2020-11-18T20:44:45.226722Z"
    }
   },
   "outputs": [
    {
     "data": {
      "text/plain": [
       "<AxesSubplot:>"
      ]
     },
     "execution_count": 805,
     "metadata": {},
     "output_type": "execute_result"
    },
    {
     "data": {
      "image/png": "[encoded data removed]",
      "text/plain": [
       "<Figure size 576x396 with 1 Axes>"
      ]
     },
     "metadata": {},
     "output_type": "display_data"
    }
   ],
   "source": [
    "df_performance.query(\"sym == 'AAPL'\").reset_index().set_index('date', drop=True).reindex(weekly_cut).dropna()['price'].plot()"
   ]
  },
  {
   "attachments": {
    "image.png": {
     "image/png": "[encoded data removed]"
    }
   },
   "cell_type": "markdown",
   "metadata": {},
   "source": [
    "![image.png](attachment:image.png)"
   ]
  },
  {
   "cell_type": "code",
   "execution_count": null,
   "metadata": {},
   "outputs": [],
   "source": []
  }
 ],
 "metadata": {
  "kernelspec": {
   "display_name": "Python 3",
   "language": "python",
   "name": "python3"
  },
  "language_info": {
   "codemirror_mode": {
    "name": "ipython",
    "version": 3
   },
   "file_extension": ".py",
   "mimetype": "text/x-python",
   "name": "python",
   "nbconvert_exporter": "python",
   "pygments_lexer": "ipython3",
   "version": "3.7.9"
  },
  "toc": {
   "base_numbering": 1,
   "nav_menu": {},
   "number_sections": true,
   "sideBar": true,
   "skip_h1_title": false,
   "title_cell": "Table of Contents",
   "title_sidebar": "Contents",
   "toc_cell": true,
   "toc_position": {
    "height": "calc(100% - 180px)",
    "left": "10px",
    "top": "150px",
    "width": "384px"
   },
   "toc_section_display": true,
   "toc_window_display": true
  }
 },
 "nbformat": 4,
 "nbformat_minor": 4
}
